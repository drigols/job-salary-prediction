{
 "cells": [
  {
   "cell_type": "markdown",
   "id": "d8526c5c",
   "metadata": {},
   "source": [
    "# Treinamento & Validação\n",
    "Esse **Jupyter Notebook** tem como objetivo treinar modelos de *Machine Learning* com uma ou mais *features* e verificar quão bem esses modelos estão aprendendo com base na métrica de validação - [Erro Médio Absoluto](https://en.wikipedia.org/wiki/Mean_absolute_error)."
   ]
  },
  {
   "cell_type": "markdown",
   "id": "37f68e36",
   "metadata": {},
   "source": [
    "---"
   ]
  },
  {
   "cell_type": "markdown",
   "id": "000438db",
   "metadata": {},
   "source": [
    "# 01 - Baixando & Importando as bibliotecas necessárias"
   ]
  },
  {
   "cell_type": "markdown",
   "id": "19db21db",
   "metadata": {},
   "source": [
    "Inicialmente vamos baixar as bibliotecas necessárias para nossa análise (Eu já tenho todas baixadas no meu ambiente virtual mas você pode remover o comentário e baixar para sua máquina local ou Ambiente Virtual)."
   ]
  },
  {
   "cell_type": "code",
   "execution_count": 1,
   "id": "a7a0e7d1",
   "metadata": {},
   "outputs": [],
   "source": [
    "# !pip install --upgrade -r ../requirements.txt"
   ]
  },
  {
   "cell_type": "markdown",
   "id": "67b737dc",
   "metadata": {},
   "source": [
    "# 02 - Extraindo o conjunto de dados de teste\n",
    "\n",
    "> A primeira coisa que vamos fazer é pegar o conjunto de dados de teste disponibilizado pelo **Adzuna**.\n",
    "\n",
    "**NOTE:**  \n",
    "Vale lembrar que nesse conjunto de dados não tem as colunas (feature) **\"SalaryRaw\"** e **\"SalaryNormalized\"**."
   ]
  },
  {
   "cell_type": "code",
   "execution_count": 2,
   "id": "ca168b0f",
   "metadata": {},
   "outputs": [],
   "source": [
    "import py7zr\n",
    "\n",
    "with py7zr.SevenZipFile(\"../datasets/Test_rev1.7z\", mode='r') as archive:\n",
    "  archive.extractall(path=\"/tmp\") # For Linux users."
   ]
  },
  {
   "cell_type": "code",
   "execution_count": 3,
   "id": "54fb4655",
   "metadata": {},
   "outputs": [],
   "source": [
    "import pandas as pd\n",
    "testing_df = pd.read_csv(\"/tmp/Test_rev1.csv\")"
   ]
  },
  {
   "cell_type": "code",
   "execution_count": 4,
   "id": "9ff00158",
   "metadata": {},
   "outputs": [
    {
     "name": "stdout",
     "output_type": "stream",
     "text": [
      "<class 'pandas.core.frame.DataFrame'>\n",
      "RangeIndex: 122463 entries, 0 to 122462\n",
      "Data columns (total 10 columns):\n",
      " #   Column              Non-Null Count   Dtype \n",
      "---  ------              --------------   ----- \n",
      " 0   Id                  122463 non-null  int64 \n",
      " 1   Title               122463 non-null  object\n",
      " 2   FullDescription     122463 non-null  object\n",
      " 3   LocationRaw         122463 non-null  object\n",
      " 4   LocationNormalized  122463 non-null  object\n",
      " 5   ContractType        33013 non-null   object\n",
      " 6   ContractTime        90702 non-null   object\n",
      " 7   Company             106202 non-null  object\n",
      " 8   Category            122463 non-null  object\n",
      " 9   SourceName          122463 non-null  object\n",
      "dtypes: int64(1), object(9)\n",
      "memory usage: 9.3+ MB\n"
     ]
    },
    {
     "data": {
      "text/html": [
       "<div>\n",
       "<style scoped>\n",
       "    .dataframe tbody tr th:only-of-type {\n",
       "        vertical-align: middle;\n",
       "    }\n",
       "\n",
       "    .dataframe tbody tr th {\n",
       "        vertical-align: top;\n",
       "    }\n",
       "\n",
       "    .dataframe thead th {\n",
       "        text-align: right;\n",
       "    }\n",
       "</style>\n",
       "<table border=\"1\" class=\"dataframe\">\n",
       "  <thead>\n",
       "    <tr style=\"text-align: right;\">\n",
       "      <th></th>\n",
       "      <th>Id</th>\n",
       "      <th>Title</th>\n",
       "      <th>FullDescription</th>\n",
       "      <th>LocationRaw</th>\n",
       "      <th>LocationNormalized</th>\n",
       "      <th>ContractType</th>\n",
       "      <th>ContractTime</th>\n",
       "      <th>Company</th>\n",
       "      <th>Category</th>\n",
       "      <th>SourceName</th>\n",
       "    </tr>\n",
       "  </thead>\n",
       "  <tbody>\n",
       "    <tr>\n",
       "      <th>0</th>\n",
       "      <td>11888454</td>\n",
       "      <td>Business Development Manager</td>\n",
       "      <td>The Company: Our client is a national training...</td>\n",
       "      <td>Tyne Wear, North East</td>\n",
       "      <td>Newcastle Upon Tyne</td>\n",
       "      <td>NaN</td>\n",
       "      <td>permanent</td>\n",
       "      <td>Asset Appointments</td>\n",
       "      <td>Teaching Jobs</td>\n",
       "      <td>cv-library.co.uk</td>\n",
       "    </tr>\n",
       "    <tr>\n",
       "      <th>1</th>\n",
       "      <td>11988350</td>\n",
       "      <td>Internal Account Manager</td>\n",
       "      <td>The Company: Founded in **** our client is a U...</td>\n",
       "      <td>Tyne and Wear, North East</td>\n",
       "      <td>Newcastle Upon Tyne</td>\n",
       "      <td>NaN</td>\n",
       "      <td>permanent</td>\n",
       "      <td>Asset Appointments</td>\n",
       "      <td>Consultancy Jobs</td>\n",
       "      <td>cv-library.co.uk</td>\n",
       "    </tr>\n",
       "    <tr>\n",
       "      <th>2</th>\n",
       "      <td>12612558</td>\n",
       "      <td>Engineering Systems Analysts</td>\n",
       "      <td>Engineering Systems Analysts Surrey ****K Loca...</td>\n",
       "      <td>Surrey, South East, South East</td>\n",
       "      <td>Surrey</td>\n",
       "      <td>NaN</td>\n",
       "      <td>permanent</td>\n",
       "      <td>Gregory Martin International</td>\n",
       "      <td>Engineering Jobs</td>\n",
       "      <td>cv-library.co.uk</td>\n",
       "    </tr>\n",
       "    <tr>\n",
       "      <th>3</th>\n",
       "      <td>12613014</td>\n",
       "      <td>CIS Systems Engineering Consultant</td>\n",
       "      <td>CIS Systems Engineering Consultant Bristol  So...</td>\n",
       "      <td>Bristol, South West, South West</td>\n",
       "      <td>Bristol</td>\n",
       "      <td>NaN</td>\n",
       "      <td>permanent</td>\n",
       "      <td>Gregory Martin International</td>\n",
       "      <td>Engineering Jobs</td>\n",
       "      <td>cv-library.co.uk</td>\n",
       "    </tr>\n",
       "    <tr>\n",
       "      <th>4</th>\n",
       "      <td>22454872</td>\n",
       "      <td>CNC Miller / Programmer Fanac</td>\n",
       "      <td>CNC Miller / Programmer Fanac Fleet, Hampshire...</td>\n",
       "      <td>Fleet, Hampshire</td>\n",
       "      <td>Fleet</td>\n",
       "      <td>NaN</td>\n",
       "      <td>permanent</td>\n",
       "      <td>Gregory Martin International</td>\n",
       "      <td>Manufacturing Jobs</td>\n",
       "      <td>cv-library.co.uk</td>\n",
       "    </tr>\n",
       "  </tbody>\n",
       "</table>\n",
       "</div>"
      ],
      "text/plain": [
       "         Id                               Title  \\\n",
       "0  11888454        Business Development Manager   \n",
       "1  11988350            Internal Account Manager   \n",
       "2  12612558        Engineering Systems Analysts   \n",
       "3  12613014  CIS Systems Engineering Consultant   \n",
       "4  22454872       CNC Miller / Programmer Fanac   \n",
       "\n",
       "                                     FullDescription  \\\n",
       "0  The Company: Our client is a national training...   \n",
       "1  The Company: Founded in **** our client is a U...   \n",
       "2  Engineering Systems Analysts Surrey ****K Loca...   \n",
       "3  CIS Systems Engineering Consultant Bristol  So...   \n",
       "4  CNC Miller / Programmer Fanac Fleet, Hampshire...   \n",
       "\n",
       "                       LocationRaw   LocationNormalized ContractType  \\\n",
       "0            Tyne Wear, North East  Newcastle Upon Tyne          NaN   \n",
       "1        Tyne and Wear, North East  Newcastle Upon Tyne          NaN   \n",
       "2   Surrey, South East, South East               Surrey          NaN   \n",
       "3  Bristol, South West, South West              Bristol          NaN   \n",
       "4                 Fleet, Hampshire                Fleet          NaN   \n",
       "\n",
       "  ContractTime                       Company            Category  \\\n",
       "0    permanent            Asset Appointments       Teaching Jobs   \n",
       "1    permanent            Asset Appointments    Consultancy Jobs   \n",
       "2    permanent  Gregory Martin International    Engineering Jobs   \n",
       "3    permanent  Gregory Martin International    Engineering Jobs   \n",
       "4    permanent  Gregory Martin International  Manufacturing Jobs   \n",
       "\n",
       "         SourceName  \n",
       "0  cv-library.co.uk  \n",
       "1  cv-library.co.uk  \n",
       "2  cv-library.co.uk  \n",
       "3  cv-library.co.uk  \n",
       "4  cv-library.co.uk  "
      ]
     },
     "execution_count": 4,
     "metadata": {},
     "output_type": "execute_result"
    }
   ],
   "source": [
    "testing_df.info()\n",
    "testing_df.head()"
   ]
  },
  {
   "cell_type": "markdown",
   "id": "e17a5585",
   "metadata": {},
   "source": [
    "# 03 - Treinando & Validando os Loads\n",
    "> Na parte de **Treinamento & Validação** nós vamos utilizar as colunas (features) já Pré-Processadas em cada **Load** para treinar vários modelos de Regressão e tentar encontrar o melhor a partir que novas colunas (features) são Pré-Processadas."
   ]
  },
  {
   "cell_type": "markdown",
   "id": "e9667bf9",
   "metadata": {},
   "source": [
    "## 03.1 - Treinando & Validando o Load-v1\n",
    "Bem, como nós sabemos no **load-v1** foi apenas passado para a etapa de **treinamento & validação** as colunas (features) **\"Title\"** e **\"SalaryNormalized\"**.\n",
    "\n",
    "Ou seja, nós vamos ter as seguintes variáveis (features) para o nosso modelo:\n",
    "\n",
    " - **Variáveis Independente:**\n",
    "   - Title *(com CountVectorizer)*\n",
    "   - FullDescription *(com CountVectorizer)*\n",
    " - **Variáveis Dependente:**\n",
    "   - SalaryNormalized (normalizada pelo a Adzuna)\n",
    "\n",
    "**NOTE:**  \n",
    "Esse vai ser o nosso **baseline model**."
   ]
  },
  {
   "cell_type": "markdown",
   "id": "d7c3e39d",
   "metadata": {},
   "source": [
    "### Pegando a variável dependente (target):"
   ]
  },
  {
   "cell_type": "code",
   "execution_count": 15,
   "id": "09726af7",
   "metadata": {},
   "outputs": [],
   "source": [
    "import py7zr\n",
    "\n",
    "with py7zr.SevenZipFile(\"../datasets/Train_rev1.7z\", mode='r') as archive:\n",
    "  archive.extractall(path=\"/tmp\") # For Linux users."
   ]
  },
  {
   "cell_type": "code",
   "execution_count": 16,
   "id": "cb734f4e",
   "metadata": {},
   "outputs": [
    {
     "name": "stdout",
     "output_type": "stream",
     "text": [
      "<class 'pandas.core.frame.DataFrame'>\n",
      "RangeIndex: 244768 entries, 0 to 244767\n",
      "Data columns (total 1 columns):\n",
      " #   Column            Non-Null Count   Dtype\n",
      "---  ------            --------------   -----\n",
      " 0   SalaryNormalized  244768 non-null  int64\n",
      "dtypes: int64(1)\n",
      "memory usage: 1.9 MB\n"
     ]
    },
    {
     "data": {
      "text/html": [
       "<div>\n",
       "<style scoped>\n",
       "    .dataframe tbody tr th:only-of-type {\n",
       "        vertical-align: middle;\n",
       "    }\n",
       "\n",
       "    .dataframe tbody tr th {\n",
       "        vertical-align: top;\n",
       "    }\n",
       "\n",
       "    .dataframe thead th {\n",
       "        text-align: right;\n",
       "    }\n",
       "</style>\n",
       "<table border=\"1\" class=\"dataframe\">\n",
       "  <thead>\n",
       "    <tr style=\"text-align: right;\">\n",
       "      <th></th>\n",
       "      <th>SalaryNormalized</th>\n",
       "    </tr>\n",
       "  </thead>\n",
       "  <tbody>\n",
       "    <tr>\n",
       "      <th>0</th>\n",
       "      <td>25000</td>\n",
       "    </tr>\n",
       "    <tr>\n",
       "      <th>1</th>\n",
       "      <td>30000</td>\n",
       "    </tr>\n",
       "    <tr>\n",
       "      <th>2</th>\n",
       "      <td>30000</td>\n",
       "    </tr>\n",
       "    <tr>\n",
       "      <th>3</th>\n",
       "      <td>27500</td>\n",
       "    </tr>\n",
       "    <tr>\n",
       "      <th>4</th>\n",
       "      <td>25000</td>\n",
       "    </tr>\n",
       "  </tbody>\n",
       "</table>\n",
       "</div>"
      ],
      "text/plain": [
       "   SalaryNormalized\n",
       "0             25000\n",
       "1             30000\n",
       "2             30000\n",
       "3             27500\n",
       "4             25000"
      ]
     },
     "execution_count": 16,
     "metadata": {},
     "output_type": "execute_result"
    }
   ],
   "source": [
    "import pandas as pd\n",
    "\n",
    "full_df = pd.read_csv(\"/tmp/Train_rev1.csv\")\n",
    "df_SalaryNormalized = full_df[[\"SalaryNormalized\"]]\n",
    "df_SalaryNormalized.info()\n",
    "df_SalaryNormalized.head()"
   ]
  },
  {
   "cell_type": "markdown",
   "id": "3f599790",
   "metadata": {},
   "source": [
    "### Pegando a(s) variável(s) Independente(s):"
   ]
  },
  {
   "cell_type": "code",
   "execution_count": 17,
   "id": "bbf74fa6",
   "metadata": {},
   "outputs": [],
   "source": [
    "import scipy.sparse\n",
    "df_title_vectorized = scipy.sparse.load_npz('df_title_vectorized.npz')"
   ]
  },
  {
   "cell_type": "code",
   "execution_count": 18,
   "id": "bd26a299",
   "metadata": {},
   "outputs": [
    {
     "data": {
      "text/plain": [
       "<244768x14917 sparse matrix of type '<class 'numpy.int64'>'\n",
       "\twith 923171 stored elements in Compressed Sparse Row format>"
      ]
     },
     "execution_count": 18,
     "metadata": {},
     "output_type": "execute_result"
    }
   ],
   "source": [
    "df_title_vectorized"
   ]
  },
  {
   "cell_type": "markdown",
   "id": "b46d2a36",
   "metadata": {},
   "source": [
    "### Separando as variáveis em \"x\" e \"y\":"
   ]
  },
  {
   "cell_type": "code",
   "execution_count": 19,
   "id": "6faa0e20",
   "metadata": {},
   "outputs": [],
   "source": [
    "x = df_title_vectorized\n",
    "y = df_SalaryNormalized"
   ]
  },
  {
   "cell_type": "markdown",
   "id": "d26a2364",
   "metadata": {},
   "source": [
    "### Dividindo os dados em dados de treino e dados de validação:"
   ]
  },
  {
   "cell_type": "code",
   "execution_count": 20,
   "id": "98bcb6ab",
   "metadata": {},
   "outputs": [],
   "source": [
    "from sklearn.model_selection import train_test_split\n",
    "x_train, x_valid, y_train, y_valid = train_test_split(x, y, test_size=0.3, random_state=42)"
   ]
  },
  {
   "cell_type": "markdown",
   "id": "927162ff",
   "metadata": {},
   "source": [
    "### Treinando modelos de Regressão:"
   ]
  },
  {
   "cell_type": "markdown",
   "id": "e37e3e16",
   "metadata": {},
   "source": [
    "#### Regressão Linear:"
   ]
  },
  {
   "cell_type": "code",
   "execution_count": 46,
   "id": "9a3519d6",
   "metadata": {},
   "outputs": [
    {
     "name": "stdout",
     "output_type": "stream",
     "text": [
      "Predictions:\n",
      "  [[36329.20127848]\n",
      " [24914.92159844]\n",
      " [30252.21978656]\n",
      " ...\n",
      " [21815.84460272]\n",
      " [30797.87181137]\n",
      " [34741.34393378]]\n",
      "MAE for Linear Regression Model: 8658\n"
     ]
    }
   ],
   "source": [
    "# Linear Regression.\n",
    "from sklearn.linear_model import LinearRegression\n",
    "lrModel = LinearRegression() # Instance.\n",
    "lrModel.fit(x_train, y_train) # Training.\n",
    "\n",
    "salary_predicted_ln = lrModel.predict(x_valid)\n",
    "print('Predictions:\\n ', salary_predicted_ln)\n",
    "\n",
    "from sklearn.metrics import mean_absolute_error\n",
    "mae_ln = mean_absolute_error(y_valid, salary_predicted_ln)\n",
    "print('MAE for Linear Regression Model:', round(mae_ln))"
   ]
  },
  {
   "cell_type": "markdown",
   "id": "09a8e75c",
   "metadata": {},
   "source": [
    "#### Ridge Regression (L2):"
   ]
  },
  {
   "cell_type": "code",
   "execution_count": 48,
   "id": "15c7f671",
   "metadata": {},
   "outputs": [
    {
     "name": "stdout",
     "output_type": "stream",
     "text": [
      "Predictions:\n",
      "  [[36282.66675248]\n",
      " [17353.9188599 ]\n",
      " [30256.92827149]\n",
      " ...\n",
      " [23060.25942236]\n",
      " [28012.35552722]\n",
      " [34769.28500259]]\n",
      "MAE for Ridge Model: 8617\n"
     ]
    }
   ],
   "source": [
    "from sklearn.linear_model import Ridge\n",
    "ridgeModel = Ridge() # Instance.\n",
    "ridgeModel.fit(x_train, y_train) # Training.\n",
    "\n",
    "salary_predicted_ridge = ridgeModel.predict(x_valid)\n",
    "print('Predictions:\\n ', salary_predicted_ridge)\n",
    "\n",
    "from sklearn.metrics import mean_absolute_error\n",
    "mae_ridge = mean_absolute_error(y_valid, salary_predicted_ridge)\n",
    "print('MAE for Ridge Model:', round(mae_ridge))"
   ]
  },
  {
   "cell_type": "markdown",
   "id": "049682c7",
   "metadata": {},
   "source": [
    "#### Lasso Regression (L1):"
   ]
  },
  {
   "cell_type": "code",
   "execution_count": 49,
   "id": "f7f76d1a",
   "metadata": {},
   "outputs": [
    {
     "name": "stdout",
     "output_type": "stream",
     "text": [
      "Predictions:\n",
      "  [36249.43889789 20163.56243617 30465.88439844 ... 32526.98079274\n",
      " 25040.10621769 39581.57774515]\n",
      "MAE for Lasso Model: 8834\n"
     ]
    }
   ],
   "source": [
    "from sklearn.linear_model import Lasso\n",
    "lassoModel = Lasso() # Instance.\n",
    "lassoModel.fit(x_train, y_train) # Training.\n",
    "\n",
    "salary_predicted_lasso = lassoModel.predict(x_valid)\n",
    "print('Predictions:\\n ', salary_predicted_lasso)\n",
    "\n",
    "from sklearn.metrics import mean_absolute_error\n",
    "mae_lasso = mean_absolute_error(y_valid, salary_predicted_lasso)\n",
    "print('MAE for Lasso Model:', round(mae_lasso))"
   ]
  },
  {
   "cell_type": "markdown",
   "id": "ab6aae5b",
   "metadata": {},
   "source": [
    "#### Elastic Net:"
   ]
  },
  {
   "cell_type": "code",
   "execution_count": 50,
   "id": "57261e99",
   "metadata": {},
   "outputs": [
    {
     "name": "stdout",
     "output_type": "stream",
     "text": [
      "Predictions:\n",
      "  [35811.18015834 32896.16153646 35328.01934386 ... 33810.29474899\n",
      " 33205.52933158 35922.86842709]\n",
      "MAE for Elastic Net Model: 12888\n"
     ]
    }
   ],
   "source": [
    "from sklearn.linear_model import ElasticNet\n",
    "elasticNetModel = ElasticNet() # Instance.\n",
    "elasticNetModel.fit(x_train, y_train) # Training.\n",
    "\n",
    "salary_predicted_elasticNet = elasticNetModel.predict(x_valid)\n",
    "print('Predictions:\\n ', salary_predicted_elasticNet)\n",
    "\n",
    "from sklearn.metrics import mean_absolute_error\n",
    "mae_elasticNet = mean_absolute_error(y_valid, salary_predicted_elasticNet)\n",
    "print('MAE for Elastic Net Model:', round(mae_elasticNet))"
   ]
  },
  {
   "cell_type": "markdown",
   "id": "4bf76c7d",
   "metadata": {},
   "source": [
    "#### Random Forest Regressor:"
   ]
  },
  {
   "cell_type": "code",
   "execution_count": 40,
   "id": "4f7a5190",
   "metadata": {
    "scrolled": true
   },
   "outputs": [
    {
     "name": "stdout",
     "output_type": "stream",
     "text": [
      "Predictions:\n",
      "  [31102.85583861 30417.05190476 27328.22505411 ... 19981.93197619\n",
      " 27823.39497785 23481.06557147]\n",
      "MAE for RandomForestRegressor Model:  6703.093421570222\n"
     ]
    }
   ],
   "source": [
    "from sklearn.ensemble import RandomForestRegressor\n",
    "import numpy as np\n",
    "\n",
    "RandomFRModel = RandomForestRegressor(n_jobs=-1) # Instance.\n",
    "RandomFRModel.fit(x_train, np.ravel(y_train)) # Training.\n",
    "\n",
    "salary_predicted_RandomFR = RandomFRModel.predict(x_valid)\n",
    "print('Predictions:\\n ', salary_predicted_RandomFR)\n",
    "\n",
    "from sklearn.metrics import mean_absolute_error\n",
    "mae_RandomFR = mean_absolute_error(y_valid, salary_predicted_RandomFR.ravel())\n",
    "print('MAE for RandomForestRegressor Model:', round(mae_RandomFR))"
   ]
  },
  {
   "cell_type": "markdown",
   "id": "7a88907a",
   "metadata": {},
   "source": [
    "---"
   ]
  },
  {
   "cell_type": "markdown",
   "id": "92f49285",
   "metadata": {},
   "source": [
    "## 03.2 - Treinando & Validando o Load-v2\n",
    "Para o nosso **2° Load (Load-v2)** nós vamos ter mais uma feature para trabalhar durante a etapa de **treinamento & validação**.\n",
    "\n",
    "Agora nós vamos ter as seguintes variáveis (features) para os nossos modelos:\n",
    "\n",
    " - **Variáveis Independente:**\n",
    "   - Title *(com CountVectorizer)*\n",
    "   - FullDescription *(com CountVectorizer)*\n",
    " - **Variáveis Dependente:**\n",
    "   - SalaryNormalized (normalizada pelo a Adzuna)"
   ]
  },
  {
   "cell_type": "markdown",
   "id": "7767d200",
   "metadata": {},
   "source": [
    "### Pegando a variável dependente (target):"
   ]
  },
  {
   "cell_type": "code",
   "execution_count": 5,
   "id": "0d14dbf8",
   "metadata": {},
   "outputs": [],
   "source": [
    "import py7zr\n",
    "\n",
    "with py7zr.SevenZipFile(\"../datasets/Train_rev1.7z\", mode='r') as archive:\n",
    "  archive.extractall(path=\"/tmp\") # For Linux users."
   ]
  },
  {
   "cell_type": "code",
   "execution_count": 6,
   "id": "67509774",
   "metadata": {},
   "outputs": [
    {
     "name": "stdout",
     "output_type": "stream",
     "text": [
      "<class 'pandas.core.frame.DataFrame'>\n",
      "RangeIndex: 244768 entries, 0 to 244767\n",
      "Data columns (total 1 columns):\n",
      " #   Column            Non-Null Count   Dtype\n",
      "---  ------            --------------   -----\n",
      " 0   SalaryNormalized  244768 non-null  int64\n",
      "dtypes: int64(1)\n",
      "memory usage: 1.9 MB\n"
     ]
    },
    {
     "data": {
      "text/html": [
       "<div>\n",
       "<style scoped>\n",
       "    .dataframe tbody tr th:only-of-type {\n",
       "        vertical-align: middle;\n",
       "    }\n",
       "\n",
       "    .dataframe tbody tr th {\n",
       "        vertical-align: top;\n",
       "    }\n",
       "\n",
       "    .dataframe thead th {\n",
       "        text-align: right;\n",
       "    }\n",
       "</style>\n",
       "<table border=\"1\" class=\"dataframe\">\n",
       "  <thead>\n",
       "    <tr style=\"text-align: right;\">\n",
       "      <th></th>\n",
       "      <th>SalaryNormalized</th>\n",
       "    </tr>\n",
       "  </thead>\n",
       "  <tbody>\n",
       "    <tr>\n",
       "      <th>0</th>\n",
       "      <td>25000</td>\n",
       "    </tr>\n",
       "    <tr>\n",
       "      <th>1</th>\n",
       "      <td>30000</td>\n",
       "    </tr>\n",
       "    <tr>\n",
       "      <th>2</th>\n",
       "      <td>30000</td>\n",
       "    </tr>\n",
       "    <tr>\n",
       "      <th>3</th>\n",
       "      <td>27500</td>\n",
       "    </tr>\n",
       "    <tr>\n",
       "      <th>4</th>\n",
       "      <td>25000</td>\n",
       "    </tr>\n",
       "  </tbody>\n",
       "</table>\n",
       "</div>"
      ],
      "text/plain": [
       "   SalaryNormalized\n",
       "0             25000\n",
       "1             30000\n",
       "2             30000\n",
       "3             27500\n",
       "4             25000"
      ]
     },
     "execution_count": 6,
     "metadata": {},
     "output_type": "execute_result"
    }
   ],
   "source": [
    "import pandas as pd\n",
    "\n",
    "full_df = pd.read_csv(\"/tmp/Train_rev1.csv\")\n",
    "df_SalaryNormalized = full_df[[\"SalaryNormalized\"]]\n",
    "df_SalaryNormalized.info()\n",
    "df_SalaryNormalized.head()"
   ]
  },
  {
   "cell_type": "markdown",
   "id": "37a66c4b",
   "metadata": {},
   "source": [
    "### Pegando a(s) variável(s) Independente(s):"
   ]
  },
  {
   "cell_type": "code",
   "execution_count": 7,
   "id": "6ba2f7a4",
   "metadata": {},
   "outputs": [],
   "source": [
    "import scipy.sparse\n",
    "df_title_vectorized = scipy.sparse.load_npz('df_title_vectorized.npz')\n",
    "df_fulldescription_vectorized = scipy.sparse.load_npz('df_fulldescription_vectorized.npz')"
   ]
  },
  {
   "cell_type": "markdown",
   "id": "32d0eb77",
   "metadata": {},
   "source": [
    "### Separando as variáveis em \"x\" e \"y\":\n",
    "\n",
    "**NOTE:**  \n",
    "Uma observação aqui é que vamos começar treinando nossos modelos apenas com a variável (feature) **\"fullDescription\"**. Só para testar se nossos modelos aprendem melhor com ela do que a variável **\"Title\"**."
   ]
  },
  {
   "cell_type": "code",
   "execution_count": 8,
   "id": "9ea3b9f7",
   "metadata": {},
   "outputs": [],
   "source": [
    "x = df_fulldescription_vectorized\n",
    "y = df_SalaryNormalized"
   ]
  },
  {
   "cell_type": "markdown",
   "id": "20942371",
   "metadata": {},
   "source": [
    "### Dividindo os dados em dados de treino e dados de validação:"
   ]
  },
  {
   "cell_type": "code",
   "execution_count": 9,
   "id": "e7eb2c11",
   "metadata": {},
   "outputs": [],
   "source": [
    "from sklearn.model_selection import train_test_split\n",
    "x_train, x_valid, y_train, y_valid = train_test_split(x, y, test_size=0.3, random_state=42)"
   ]
  },
  {
   "cell_type": "markdown",
   "id": "5d39ef96",
   "metadata": {},
   "source": [
    "### Treinando modelos de Regressão:"
   ]
  },
  {
   "cell_type": "markdown",
   "id": "b9680c3a",
   "metadata": {},
   "source": [
    "#### Regressão Linear:"
   ]
  },
  {
   "cell_type": "code",
   "execution_count": 9,
   "id": "24c1b4d1",
   "metadata": {},
   "outputs": [
    {
     "name": "stdout",
     "output_type": "stream",
     "text": [
      "Predictions:\n",
      "  [[23032.87085644]\n",
      " [33610.17330689]\n",
      " [24136.00315204]\n",
      " ...\n",
      " [21469.48352848]\n",
      " [38877.12291253]\n",
      " [33263.10392749]]\n",
      "MAE for Linear Regression Model: 10844\n"
     ]
    }
   ],
   "source": [
    "# Linear Regression.\n",
    "from sklearn.linear_model import LinearRegression\n",
    "lrModel = LinearRegression() # Instance.\n",
    "lrModel.fit(x_train, y_train) # Training.\n",
    "\n",
    "salary_predicted_ln = lrModel.predict(x_valid)\n",
    "print('Predictions:\\n ', salary_predicted_ln)\n",
    "\n",
    "from sklearn.metrics import mean_absolute_error\n",
    "mae_ln = mean_absolute_error(y_valid, salary_predicted_ln)\n",
    "print('MAE for Linear Regression Model:', round(mae_ln))"
   ]
  },
  {
   "cell_type": "markdown",
   "id": "ca75cdb5",
   "metadata": {},
   "source": [
    "#### Ridge Regression (L2):"
   ]
  },
  {
   "cell_type": "code",
   "execution_count": 10,
   "id": "24c76201",
   "metadata": {},
   "outputs": [
    {
     "name": "stdout",
     "output_type": "stream",
     "text": [
      "Predictions:\n",
      "  [[26456.86360084]\n",
      " [23387.94309581]\n",
      " [25311.32956758]\n",
      " ...\n",
      " [21352.64221595]\n",
      " [31799.60241475]\n",
      " [37834.19762852]]\n",
      "MAE for Ridge Model: 8191\n"
     ]
    }
   ],
   "source": [
    "from sklearn.linear_model import Ridge\n",
    "ridgeModel = Ridge() # Instance.\n",
    "ridgeModel.fit(x_train, y_train) # Training.\n",
    "\n",
    "salary_predicted_ridge = ridgeModel.predict(x_valid)\n",
    "print('Predictions:\\n ', salary_predicted_ridge)\n",
    "\n",
    "from sklearn.metrics import mean_absolute_error\n",
    "mae_ridge = mean_absolute_error(y_valid, salary_predicted_ridge)\n",
    "print('MAE for Ridge Model:', round(mae_ridge))"
   ]
  },
  {
   "cell_type": "markdown",
   "id": "ece3e7d2",
   "metadata": {},
   "source": [
    "#### Lasso Regression (L1):"
   ]
  },
  {
   "cell_type": "code",
   "execution_count": 11,
   "id": "621e18e3",
   "metadata": {},
   "outputs": [
    {
     "name": "stdout",
     "output_type": "stream",
     "text": [
      "Predictions:\n",
      "  [28389.19530136 18018.2873558  30094.66685536 ... 18804.51829832\n",
      " 27585.07234606 37469.51276253]\n",
      "MAE for Lasso Model: 8338\n"
     ]
    }
   ],
   "source": [
    "from sklearn.linear_model import Lasso\n",
    "lassoModel = Lasso() # Instance.\n",
    "lassoModel.fit(x_train, y_train) # Training.\n",
    "\n",
    "salary_predicted_lasso = lassoModel.predict(x_valid)\n",
    "print('Predictions:\\n ', salary_predicted_lasso)\n",
    "\n",
    "from sklearn.metrics import mean_absolute_error\n",
    "mae_lasso = mean_absolute_error(y_valid, salary_predicted_lasso)\n",
    "print('MAE for Lasso Model:', round(mae_lasso))"
   ]
  },
  {
   "cell_type": "markdown",
   "id": "5f2fcf37",
   "metadata": {},
   "source": [
    "#### Elastic Net:"
   ]
  },
  {
   "cell_type": "code",
   "execution_count": 12,
   "id": "82e1faf2",
   "metadata": {},
   "outputs": [
    {
     "name": "stdout",
     "output_type": "stream",
     "text": [
      "Predictions:\n",
      "  [31254.34235054 24438.25307445 37428.63777898 ... 29305.71927444\n",
      " 28438.02246171 32729.01976647]\n",
      "MAE for Elastic Net Model: 9812\n"
     ]
    }
   ],
   "source": [
    "from sklearn.linear_model import ElasticNet\n",
    "elasticNetModel = ElasticNet() # Instance.\n",
    "elasticNetModel.fit(x_train, y_train) # Training.\n",
    "\n",
    "salary_predicted_elasticNet = elasticNetModel.predict(x_valid)\n",
    "print('Predictions:\\n ', salary_predicted_elasticNet)\n",
    "\n",
    "from sklearn.metrics import mean_absolute_error\n",
    "mae_elasticNet = mean_absolute_error(y_valid, salary_predicted_elasticNet)\n",
    "print('MAE for Elastic Net Model:', round(mae_elasticNet))"
   ]
  },
  {
   "cell_type": "markdown",
   "id": "1d851562",
   "metadata": {},
   "source": [
    "#### Random Forest Regressor:"
   ]
  },
  {
   "cell_type": "code",
   "execution_count": null,
   "id": "049c800c",
   "metadata": {
    "scrolled": true
   },
   "outputs": [],
   "source": [
    "from sklearn.ensemble import RandomForestRegressor\n",
    "import numpy as np\n",
    "\n",
    "RandomFRModel = RandomForestRegressor(n_jobs=-1, max_features=\"auto\") # Instance.\n",
    "RandomFRModel.fit(x_train, np.ravel(y_train)) # Training.\n",
    "\n",
    "salary_predicted_RandomFR = RandomFRModel.predict(x_valid)\n",
    "print('Predictions:\\n ', salary_predicted_RandomFR)\n",
    "\n",
    "from sklearn.metrics import mean_absolute_error\n",
    "mae_RandomFR = mean_absolute_error(y_valid, salary_predicted_RandomFR.ravel())\n",
    "print('MAE for RandomForestRegressor Model:', round(mae_RandomFR))"
   ]
  },
  {
   "cell_type": "markdown",
   "id": "b46d2680",
   "metadata": {},
   "source": [
    "# Resumos"
   ]
  },
  {
   "cell_type": "markdown",
   "id": "e8cf339d",
   "metadata": {},
   "source": [
    " - **No *Load-v1* nós tinhamos as seguintes situações:**\n",
    "   - **Variáveis (features):**\n",
    "     - Independentes:\n",
    "       - Title *(com CountVectorizer)*\n",
    "     - Dependente:\n",
    "       - SalaryNormalized (normalizada pelo a Adzuna)\n",
    "   - **Como Métrica de Avaliação (MAE) tivemos os seguintes resultados (ordenados do menor para o maior):**\n",
    "     - MAE for RandomForestRegressor Model: 6703\n",
    "     - MAE for Ridge Model: 8616\n",
    "     - MAE for Linear Regression Model: 8658\n",
    "     - MAE for Lasso Model: 8834\n",
    "     - MAE for Elastic Net Model: 12888\n",
    " - **No *Load-v2* nós tinhamos as seguintes situações:**\n",
    "   - **Variáveis (features):**\n",
    "     - Independentes:\n",
    "       - Title *(com CountVectorizer)*\n",
    "       - FullDescription *(com CountVectorizer)*\n",
    "     - Dependente:\n",
    "       - SalaryNormalized (normalizada pelo a Adzuna)\n",
    "   - **O primeiro treinamento do Load-v2 vai ser apenas com a variável \"FullDescription\". Isso porque, nós vamos vamos comparar se nossos modelos aprendem melhor só com a variável \"FullDescription\" em relação a variável \"Title\". O resultado foi o seguinte  (ordenados do menor para o maior):**\n",
    "     - MAE for Ridge Model: 8191\n",
    "     - MAE for Lasso Model: 8338\n",
    "     - MAE for Elastic Net Model: 9812\n",
    "     - MAE for Linear Regression Model: 10844\n",
    "     - MAE for RandomForestRegressor Model: Não finalizado.\n",
    "       - Esse modelo demorou mais de 24h (quase 40) e não finalizou o treinamento. Devido a esse problema vou procurar outra abordagem para minimizar o custo de tempo."
   ]
  }
 ],
 "metadata": {
  "kernelspec": {
   "display_name": "Python 3 (ipykernel)",
   "language": "python",
   "name": "python3"
  },
  "language_info": {
   "codemirror_mode": {
    "name": "ipython",
    "version": 3
   },
   "file_extension": ".py",
   "mimetype": "text/x-python",
   "name": "python",
   "nbconvert_exporter": "python",
   "pygments_lexer": "ipython3",
   "version": "3.9.7"
  }
 },
 "nbformat": 4,
 "nbformat_minor": 5
}
