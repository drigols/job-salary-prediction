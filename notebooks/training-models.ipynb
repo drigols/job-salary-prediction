{
 "cells": [
  {
   "cell_type": "markdown",
   "id": "805178b1",
   "metadata": {},
   "source": [
    "# Treinamento & Validação\n",
    "Esse **Jupyter Notebook** tem como objetivo treinar modelos de *Machine Learning* com uma ou mais *features* e verificar quão bem esses modelos estão aprendendo com base na métrica de validação - [Erro Médio Absoluto](https://en.wikipedia.org/wiki/Mean_absolute_error)."
   ]
  },
  {
   "cell_type": "markdown",
   "id": "6c91a9a9",
   "metadata": {},
   "source": [
    "---"
   ]
  },
  {
   "cell_type": "code",
   "execution_count": 1,
   "id": "0be819cb",
   "metadata": {},
   "outputs": [],
   "source": [
    "import py7zr\n",
    "\n",
    "with py7zr.SevenZipFile(\"../datasets/Train_rev1.7z\", mode='r') as archive:\n",
    "  archive.extractall(path=\"/tmp\") # For Linux users."
   ]
  },
  {
   "cell_type": "code",
   "execution_count": 2,
   "id": "a5e74225",
   "metadata": {},
   "outputs": [
    {
     "name": "stdout",
     "output_type": "stream",
     "text": [
      "<class 'pandas.core.frame.DataFrame'>\n",
      "RangeIndex: 244768 entries, 0 to 244767\n",
      "Data columns (total 1 columns):\n",
      " #   Column            Non-Null Count   Dtype\n",
      "---  ------            --------------   -----\n",
      " 0   SalaryNormalized  244768 non-null  int64\n",
      "dtypes: int64(1)\n",
      "memory usage: 1.9 MB\n"
     ]
    },
    {
     "data": {
      "text/html": [
       "<div>\n",
       "<style scoped>\n",
       "    .dataframe tbody tr th:only-of-type {\n",
       "        vertical-align: middle;\n",
       "    }\n",
       "\n",
       "    .dataframe tbody tr th {\n",
       "        vertical-align: top;\n",
       "    }\n",
       "\n",
       "    .dataframe thead th {\n",
       "        text-align: right;\n",
       "    }\n",
       "</style>\n",
       "<table border=\"1\" class=\"dataframe\">\n",
       "  <thead>\n",
       "    <tr style=\"text-align: right;\">\n",
       "      <th></th>\n",
       "      <th>SalaryNormalized</th>\n",
       "    </tr>\n",
       "  </thead>\n",
       "  <tbody>\n",
       "    <tr>\n",
       "      <th>0</th>\n",
       "      <td>25000</td>\n",
       "    </tr>\n",
       "    <tr>\n",
       "      <th>1</th>\n",
       "      <td>30000</td>\n",
       "    </tr>\n",
       "    <tr>\n",
       "      <th>2</th>\n",
       "      <td>30000</td>\n",
       "    </tr>\n",
       "    <tr>\n",
       "      <th>3</th>\n",
       "      <td>27500</td>\n",
       "    </tr>\n",
       "    <tr>\n",
       "      <th>4</th>\n",
       "      <td>25000</td>\n",
       "    </tr>\n",
       "  </tbody>\n",
       "</table>\n",
       "</div>"
      ],
      "text/plain": [
       "   SalaryNormalized\n",
       "0             25000\n",
       "1             30000\n",
       "2             30000\n",
       "3             27500\n",
       "4             25000"
      ]
     },
     "execution_count": 2,
     "metadata": {},
     "output_type": "execute_result"
    }
   ],
   "source": [
    "import pandas as pd\n",
    "\n",
    "full_df = pd.read_csv(\"/tmp/Train_rev1.csv\")\n",
    "df_SalaryNormalized = full_df[[\"SalaryNormalized\"]]\n",
    "df_SalaryNormalized.info()\n",
    "df_SalaryNormalized.head()"
   ]
  },
  {
   "cell_type": "code",
   "execution_count": null,
   "id": "b9ab9cd4",
   "metadata": {},
   "outputs": [],
   "source": []
  },
  {
   "cell_type": "code",
   "execution_count": null,
   "id": "1d251827",
   "metadata": {},
   "outputs": [],
   "source": []
  },
  {
   "cell_type": "code",
   "execution_count": null,
   "id": "165a42b8",
   "metadata": {},
   "outputs": [],
   "source": []
  },
  {
   "cell_type": "code",
   "execution_count": null,
   "id": "fbc1c186",
   "metadata": {},
   "outputs": [],
   "source": []
  },
  {
   "cell_type": "code",
   "execution_count": null,
   "id": "75604a2f",
   "metadata": {},
   "outputs": [],
   "source": []
  },
  {
   "cell_type": "code",
   "execution_count": 3,
   "id": "8946a4d8",
   "metadata": {},
   "outputs": [],
   "source": [
    "import scipy.sparse\n",
    "df_title_vectorized = scipy.sparse.load_npz('df_title_vectorized.npz')"
   ]
  },
  {
   "cell_type": "code",
   "execution_count": 4,
   "id": "541e2f44",
   "metadata": {},
   "outputs": [
    {
     "data": {
      "text/plain": [
       "<244768x14917 sparse matrix of type '<class 'numpy.int64'>'\n",
       "\twith 923171 stored elements in Compressed Sparse Row format>"
      ]
     },
     "execution_count": 4,
     "metadata": {},
     "output_type": "execute_result"
    }
   ],
   "source": [
    "df_title_vectorized"
   ]
  },
  {
   "cell_type": "code",
   "execution_count": null,
   "id": "70eeec0d",
   "metadata": {},
   "outputs": [],
   "source": []
  },
  {
   "cell_type": "code",
   "execution_count": null,
   "id": "2c6f837a",
   "metadata": {},
   "outputs": [],
   "source": []
  },
  {
   "cell_type": "code",
   "execution_count": null,
   "id": "71756449",
   "metadata": {},
   "outputs": [],
   "source": []
  },
  {
   "cell_type": "code",
   "execution_count": 5,
   "id": "62926f79",
   "metadata": {},
   "outputs": [],
   "source": [
    "x = df_title_vectorized\n",
    "y = df_SalaryNormalized"
   ]
  },
  {
   "cell_type": "code",
   "execution_count": 6,
   "id": "85b09248",
   "metadata": {},
   "outputs": [
    {
     "data": {
      "text/plain": [
       "<244768x14917 sparse matrix of type '<class 'numpy.int64'>'\n",
       "\twith 923171 stored elements in Compressed Sparse Row format>"
      ]
     },
     "execution_count": 6,
     "metadata": {},
     "output_type": "execute_result"
    }
   ],
   "source": [
    "x"
   ]
  },
  {
   "cell_type": "code",
   "execution_count": 7,
   "id": "dbc368cf",
   "metadata": {},
   "outputs": [
    {
     "data": {
      "text/html": [
       "<div>\n",
       "<style scoped>\n",
       "    .dataframe tbody tr th:only-of-type {\n",
       "        vertical-align: middle;\n",
       "    }\n",
       "\n",
       "    .dataframe tbody tr th {\n",
       "        vertical-align: top;\n",
       "    }\n",
       "\n",
       "    .dataframe thead th {\n",
       "        text-align: right;\n",
       "    }\n",
       "</style>\n",
       "<table border=\"1\" class=\"dataframe\">\n",
       "  <thead>\n",
       "    <tr style=\"text-align: right;\">\n",
       "      <th></th>\n",
       "      <th>SalaryNormalized</th>\n",
       "    </tr>\n",
       "  </thead>\n",
       "  <tbody>\n",
       "    <tr>\n",
       "      <th>0</th>\n",
       "      <td>25000</td>\n",
       "    </tr>\n",
       "    <tr>\n",
       "      <th>1</th>\n",
       "      <td>30000</td>\n",
       "    </tr>\n",
       "    <tr>\n",
       "      <th>2</th>\n",
       "      <td>30000</td>\n",
       "    </tr>\n",
       "    <tr>\n",
       "      <th>3</th>\n",
       "      <td>27500</td>\n",
       "    </tr>\n",
       "    <tr>\n",
       "      <th>4</th>\n",
       "      <td>25000</td>\n",
       "    </tr>\n",
       "    <tr>\n",
       "      <th>...</th>\n",
       "      <td>...</td>\n",
       "    </tr>\n",
       "    <tr>\n",
       "      <th>244763</th>\n",
       "      <td>22800</td>\n",
       "    </tr>\n",
       "    <tr>\n",
       "      <th>244764</th>\n",
       "      <td>22800</td>\n",
       "    </tr>\n",
       "    <tr>\n",
       "      <th>244765</th>\n",
       "      <td>22800</td>\n",
       "    </tr>\n",
       "    <tr>\n",
       "      <th>244766</th>\n",
       "      <td>22800</td>\n",
       "    </tr>\n",
       "    <tr>\n",
       "      <th>244767</th>\n",
       "      <td>42500</td>\n",
       "    </tr>\n",
       "  </tbody>\n",
       "</table>\n",
       "<p>244768 rows × 1 columns</p>\n",
       "</div>"
      ],
      "text/plain": [
       "        SalaryNormalized\n",
       "0                  25000\n",
       "1                  30000\n",
       "2                  30000\n",
       "3                  27500\n",
       "4                  25000\n",
       "...                  ...\n",
       "244763             22800\n",
       "244764             22800\n",
       "244765             22800\n",
       "244766             22800\n",
       "244767             42500\n",
       "\n",
       "[244768 rows x 1 columns]"
      ]
     },
     "execution_count": 7,
     "metadata": {},
     "output_type": "execute_result"
    }
   ],
   "source": [
    "y"
   ]
  },
  {
   "cell_type": "code",
   "execution_count": null,
   "id": "43b54bf7",
   "metadata": {},
   "outputs": [],
   "source": []
  },
  {
   "cell_type": "code",
   "execution_count": null,
   "id": "e0e44a41",
   "metadata": {},
   "outputs": [],
   "source": []
  },
  {
   "cell_type": "code",
   "execution_count": null,
   "id": "e4bc78eb",
   "metadata": {},
   "outputs": [],
   "source": []
  },
  {
   "cell_type": "code",
   "execution_count": 8,
   "id": "c6c8d09d",
   "metadata": {},
   "outputs": [],
   "source": [
    "from sklearn.model_selection import train_test_split\n",
    "x_train, x_valid, y_train, y_valid = train_test_split(x, y, test_size=0.3, random_state=42)"
   ]
  },
  {
   "cell_type": "code",
   "execution_count": null,
   "id": "80beff90",
   "metadata": {},
   "outputs": [],
   "source": []
  },
  {
   "cell_type": "code",
   "execution_count": null,
   "id": "af6efd58",
   "metadata": {},
   "outputs": [],
   "source": []
  },
  {
   "cell_type": "code",
   "execution_count": null,
   "id": "f0f63b89",
   "metadata": {},
   "outputs": [],
   "source": []
  },
  {
   "cell_type": "code",
   "execution_count": null,
   "id": "abf104e8",
   "metadata": {},
   "outputs": [],
   "source": []
  },
  {
   "cell_type": "code",
   "execution_count": 9,
   "id": "a0ebb2d1",
   "metadata": {},
   "outputs": [
    {
     "name": "stdout",
     "output_type": "stream",
     "text": [
      "Predictions:\n",
      "  [[36329.3401252 ]\n",
      " [24994.45892553]\n",
      " [30252.71791482]\n",
      " ...\n",
      " [21808.86286281]\n",
      " [30802.06643447]\n",
      " [34720.7647732 ]]\n",
      "MAE for Linear Regression Model:  8657.710037667131\n"
     ]
    }
   ],
   "source": [
    "from sklearn.linear_model import LinearRegression\n",
    "lrModel = LinearRegression() # Instance.\n",
    "lrModel.fit(x_train, y_train) # Training.\n",
    "\n",
    "salary_predicted_ln = lrModel.predict(x_valid)\n",
    "print('Predictions:\\n ', salary_predicted_ln)\n",
    "\n",
    "from sklearn.metrics import mean_absolute_error\n",
    "mae_ln = mean_absolute_error(y_valid, salary_predicted_ln)\n",
    "print('MAE for Linear Regression Model: ', mae_ln)"
   ]
  },
  {
   "cell_type": "code",
   "execution_count": null,
   "id": "062d4b79",
   "metadata": {},
   "outputs": [],
   "source": []
  },
  {
   "cell_type": "code",
   "execution_count": null,
   "id": "94f52342",
   "metadata": {},
   "outputs": [],
   "source": []
  },
  {
   "cell_type": "code",
   "execution_count": null,
   "id": "822594ea",
   "metadata": {},
   "outputs": [],
   "source": []
  },
  {
   "cell_type": "code",
   "execution_count": null,
   "id": "e3f1455c",
   "metadata": {},
   "outputs": [],
   "source": []
  },
  {
   "cell_type": "code",
   "execution_count": null,
   "id": "9d9ec0a8",
   "metadata": {},
   "outputs": [],
   "source": []
  },
  {
   "cell_type": "code",
   "execution_count": 10,
   "id": "9602a61e",
   "metadata": {},
   "outputs": [
    {
     "name": "stdout",
     "output_type": "stream",
     "text": [
      "Predictions:\n",
      "  [[36282.66675248]\n",
      " [17353.9188599 ]\n",
      " [30256.92827149]\n",
      " ...\n",
      " [23060.25942236]\n",
      " [28012.35552722]\n",
      " [34769.28500259]]\n",
      "MAE for Ridge Model:  8616.753786449399\n"
     ]
    }
   ],
   "source": [
    "from sklearn.linear_model import Ridge\n",
    "ridgeModel = Ridge() # Instance.\n",
    "ridgeModel.fit(x_train, y_train) # Training.\n",
    "\n",
    "salary_predicted_ridge = ridgeModel.predict(x_valid)\n",
    "print('Predictions:\\n ', salary_predicted_ridge)\n",
    "\n",
    "from sklearn.metrics import mean_absolute_error\n",
    "mae_ridge = mean_absolute_error(y_valid, salary_predicted_ridge)\n",
    "print('MAE for Ridge Model: ', mae_ridge)"
   ]
  },
  {
   "cell_type": "code",
   "execution_count": null,
   "id": "88d55a55",
   "metadata": {},
   "outputs": [],
   "source": []
  },
  {
   "cell_type": "code",
   "execution_count": null,
   "id": "0c1a2b48",
   "metadata": {},
   "outputs": [],
   "source": []
  },
  {
   "cell_type": "code",
   "execution_count": null,
   "id": "1ddcde5e",
   "metadata": {},
   "outputs": [],
   "source": []
  },
  {
   "cell_type": "code",
   "execution_count": null,
   "id": "409362e2",
   "metadata": {},
   "outputs": [],
   "source": []
  },
  {
   "cell_type": "code",
   "execution_count": null,
   "id": "0f1584f3",
   "metadata": {},
   "outputs": [],
   "source": []
  },
  {
   "cell_type": "code",
   "execution_count": 11,
   "id": "6188d3c0",
   "metadata": {},
   "outputs": [
    {
     "name": "stdout",
     "output_type": "stream",
     "text": [
      "Predictions:\n",
      "  [36249.43889789 20163.56243617 30465.88439844 ... 32526.98079274\n",
      " 25040.10621769 39581.57774515]\n",
      "MAE for Lasso Model:  8834.294987558691\n"
     ]
    }
   ],
   "source": [
    "from sklearn.linear_model import Lasso\n",
    "lassoModel = Lasso() # Instance.\n",
    "lassoModel.fit(x_train, y_train) # Training.\n",
    "\n",
    "salary_predicted_lasso = lassoModel.predict(x_valid)\n",
    "print('Predictions:\\n ', salary_predicted_lasso)\n",
    "\n",
    "from sklearn.metrics import mean_absolute_error\n",
    "mae_lasso = mean_absolute_error(y_valid, salary_predicted_lasso)\n",
    "print('MAE for Lasso Model: ', mae_lasso)"
   ]
  },
  {
   "cell_type": "code",
   "execution_count": null,
   "id": "2127f86a",
   "metadata": {},
   "outputs": [],
   "source": []
  },
  {
   "cell_type": "code",
   "execution_count": null,
   "id": "2e0bdcd3",
   "metadata": {},
   "outputs": [],
   "source": []
  },
  {
   "cell_type": "code",
   "execution_count": null,
   "id": "04a0d412",
   "metadata": {},
   "outputs": [],
   "source": []
  },
  {
   "cell_type": "code",
   "execution_count": null,
   "id": "a1d459b3",
   "metadata": {},
   "outputs": [],
   "source": []
  },
  {
   "cell_type": "code",
   "execution_count": null,
   "id": "a7d4d34f",
   "metadata": {},
   "outputs": [],
   "source": []
  },
  {
   "cell_type": "code",
   "execution_count": 12,
   "id": "1d1f784c",
   "metadata": {},
   "outputs": [
    {
     "name": "stdout",
     "output_type": "stream",
     "text": [
      "Predictions:\n",
      "  [35811.18015834 32896.16153646 35328.01934386 ... 33810.29474899\n",
      " 33205.52933158 35922.86842709]\n",
      "MAE for Elastic Net Model:  12888.346719289186\n"
     ]
    }
   ],
   "source": [
    "from sklearn.linear_model import ElasticNet\n",
    "elasticNetModel = ElasticNet() # Instance.\n",
    "elasticNetModel.fit(x_train, y_train) # Training.\n",
    "\n",
    "salary_predicted_elasticNet = elasticNetModel.predict(x_valid)\n",
    "print('Predictions:\\n ', salary_predicted_elasticNet)\n",
    "\n",
    "from sklearn.metrics import mean_absolute_error\n",
    "mae_elasticNet = mean_absolute_error(y_valid, salary_predicted_elasticNet)\n",
    "print('MAE for Elastic Net Model: ', mae_elasticNet)"
   ]
  },
  {
   "cell_type": "code",
   "execution_count": null,
   "id": "064a59b3",
   "metadata": {},
   "outputs": [],
   "source": []
  },
  {
   "cell_type": "code",
   "execution_count": null,
   "id": "6a6b3480",
   "metadata": {},
   "outputs": [],
   "source": []
  },
  {
   "cell_type": "code",
   "execution_count": null,
   "id": "342be8fd",
   "metadata": {},
   "outputs": [],
   "source": []
  },
  {
   "cell_type": "code",
   "execution_count": 13,
   "id": "b8a2910b",
   "metadata": {},
   "outputs": [],
   "source": [
    "from sklearn.ensemble import RandomForestRegressor\n",
    "import numpy as np\n",
    "\n",
    "RandomFRModel = RandomForestRegressor(n_jobs=-1) # Instance."
   ]
  },
  {
   "cell_type": "code",
   "execution_count": 14,
   "id": "11f1b2a4",
   "metadata": {},
   "outputs": [
    {
     "data": {
      "text/plain": [
       "RandomForestRegressor(n_jobs=-1)"
      ]
     },
     "execution_count": 14,
     "metadata": {},
     "output_type": "execute_result"
    }
   ],
   "source": [
    "RandomFRModel.fit(x_train, np.ravel(y_train)) # Training."
   ]
  },
  {
   "cell_type": "code",
   "execution_count": 15,
   "id": "53a8ae40",
   "metadata": {},
   "outputs": [
    {
     "name": "stdout",
     "output_type": "stream",
     "text": [
      "Predictions:\n",
      "  [32479.58454046 30664.11458944 27278.71369819 ... 20893.28166667\n",
      " 27511.01195345 24248.0786062 ]\n",
      "MAE for RandomForestRegressor Model:  8834.294987558691\n"
     ]
    }
   ],
   "source": [
    "\n",
    "salary_predicted_RandomFR = RandomFRModel.predict(x_valid)\n",
    "print('Predictions:\\n ', salary_predicted_RandomFR)\n",
    "\n",
    "from sklearn.metrics import mean_absolute_error\n",
    "mae_RandomFR = mean_absolute_error(y_valid, salary_predicted_RandomFR.ravel())\n",
    "print('MAE for RandomForestRegressor Model: ', mae_lasso)"
   ]
  },
  {
   "cell_type": "code",
   "execution_count": null,
   "id": "44f049cb",
   "metadata": {},
   "outputs": [],
   "source": []
  },
  {
   "cell_type": "code",
   "execution_count": null,
   "id": "b97fe106",
   "metadata": {},
   "outputs": [],
   "source": []
  },
  {
   "cell_type": "code",
   "execution_count": null,
   "id": "b63f7716",
   "metadata": {},
   "outputs": [],
   "source": []
  },
  {
   "cell_type": "code",
   "execution_count": null,
   "id": "925e4d27",
   "metadata": {},
   "outputs": [],
   "source": []
  },
  {
   "cell_type": "code",
   "execution_count": null,
   "id": "261a2825",
   "metadata": {},
   "outputs": [],
   "source": []
  },
  {
   "cell_type": "code",
   "execution_count": null,
   "id": "01f36b04",
   "metadata": {},
   "outputs": [],
   "source": []
  },
  {
   "cell_type": "code",
   "execution_count": null,
   "id": "6285b614",
   "metadata": {},
   "outputs": [],
   "source": []
  },
  {
   "cell_type": "code",
   "execution_count": null,
   "id": "30e6597a",
   "metadata": {},
   "outputs": [],
   "source": []
  },
  {
   "cell_type": "code",
   "execution_count": null,
   "id": "ff11948a",
   "metadata": {},
   "outputs": [],
   "source": []
  },
  {
   "cell_type": "code",
   "execution_count": null,
   "id": "72da2c66",
   "metadata": {},
   "outputs": [],
   "source": []
  },
  {
   "cell_type": "code",
   "execution_count": null,
   "id": "635c40ef",
   "metadata": {},
   "outputs": [],
   "source": []
  },
  {
   "cell_type": "code",
   "execution_count": null,
   "id": "86bcf024",
   "metadata": {},
   "outputs": [],
   "source": []
  },
  {
   "cell_type": "code",
   "execution_count": null,
   "id": "becc197a",
   "metadata": {},
   "outputs": [],
   "source": []
  },
  {
   "cell_type": "code",
   "execution_count": null,
   "id": "46b091bd",
   "metadata": {},
   "outputs": [],
   "source": []
  },
  {
   "cell_type": "code",
   "execution_count": null,
   "id": "3f607321",
   "metadata": {},
   "outputs": [],
   "source": []
  },
  {
   "cell_type": "code",
   "execution_count": null,
   "id": "01429e8a",
   "metadata": {},
   "outputs": [],
   "source": []
  },
  {
   "cell_type": "code",
   "execution_count": null,
   "id": "a8287d4b",
   "metadata": {},
   "outputs": [],
   "source": []
  },
  {
   "cell_type": "code",
   "execution_count": null,
   "id": "3a79c37c",
   "metadata": {},
   "outputs": [],
   "source": []
  },
  {
   "cell_type": "code",
   "execution_count": null,
   "id": "ef9a1df7",
   "metadata": {},
   "outputs": [],
   "source": []
  },
  {
   "cell_type": "code",
   "execution_count": null,
   "id": "b3b40564",
   "metadata": {},
   "outputs": [],
   "source": []
  },
  {
   "cell_type": "code",
   "execution_count": null,
   "id": "9c56e68a",
   "metadata": {},
   "outputs": [],
   "source": []
  },
  {
   "cell_type": "code",
   "execution_count": null,
   "id": "4bf7b738",
   "metadata": {},
   "outputs": [],
   "source": []
  },
  {
   "cell_type": "code",
   "execution_count": null,
   "id": "9dfd1abd",
   "metadata": {},
   "outputs": [],
   "source": []
  },
  {
   "cell_type": "markdown",
   "id": "a7f111e0",
   "metadata": {},
   "source": [
    "---"
   ]
  },
  {
   "cell_type": "markdown",
   "id": "1d97a609",
   "metadata": {},
   "source": [
    "# 01 - Baixando & Importando as bibliotecas necessárias"
   ]
  },
  {
   "cell_type": "markdown",
   "id": "4331da17",
   "metadata": {},
   "source": [
    "Inicialmente vamos baixar as bibliotecas necessárias para nossa análise (Eu já tenho todas baixadas no meu ambiente virtual mas você pode remover o comentário e baixar para sua máquina local ou Ambiente Virtual)."
   ]
  },
  {
   "cell_type": "code",
   "execution_count": null,
   "id": "e51fdcef",
   "metadata": {},
   "outputs": [],
   "source": [
    "# !pip install --upgrade -r ../requirements.txt"
   ]
  },
  {
   "cell_type": "markdown",
   "id": "991e88ce",
   "metadata": {},
   "source": [
    "# 02 - Extraindo o conjunto de dados de teste\n",
    "\n",
    "> Inicialmente, a primeira coisa que vamos fazer é pegar o conjunto de dados de teste disponibilizado pelo **Adzuna**.\n",
    "\n",
    "**NOTE:**  \n",
    "Vale lembrar que nesse conjunto de dados não tem as colunas (feature) **\"SalaryRaw\"** e **\"SalaryNormalized\"**."
   ]
  },
  {
   "cell_type": "code",
   "execution_count": null,
   "id": "2ce310e4",
   "metadata": {},
   "outputs": [],
   "source": [
    "with py7zr.SevenZipFile(\"../datasets/Test_rev1.7z\", mode='r') as archive:\n",
    "  archive.extractall(path=\"/tmp\") # For Linux users."
   ]
  },
  {
   "cell_type": "code",
   "execution_count": null,
   "id": "9078d613",
   "metadata": {},
   "outputs": [],
   "source": [
    "testing_df = pd.read_csv(\"/tmp/Test_rev1.csv\")"
   ]
  },
  {
   "cell_type": "code",
   "execution_count": null,
   "id": "7c3f4ce0",
   "metadata": {},
   "outputs": [],
   "source": [
    "testing_df.info()"
   ]
  },
  {
   "cell_type": "markdown",
   "id": "4b116aab",
   "metadata": {},
   "source": [
    "# 03 - Treinando e validando o load-v1\n",
    "Bem, como nós sabemos no **load-v1** foi apenas passado para a etapa de *treinamento* e *validação* a coluna **\"SalaryNormalized\"**.\n",
    "\n",
    "**NOTE:**  \n",
    "Esse vai ser o nosso **baseline model**."
   ]
  },
  {
   "cell_type": "markdown",
   "id": "97a89011",
   "metadata": {},
   "source": [
    "**Pegando o conjunto de dados:**"
   ]
  },
  {
   "cell_type": "markdown",
   "id": "7a26baf9",
   "metadata": {},
   "source": [
    "**Overview:**"
   ]
  },
  {
   "cell_type": "markdown",
   "id": "f0c09dce",
   "metadata": {},
   "source": [
    "**Selecionando as variáveis independente e dependente (target):**"
   ]
  }
 ],
 "metadata": {
  "kernelspec": {
   "display_name": "Python 3 (ipykernel)",
   "language": "python",
   "name": "python3"
  },
  "language_info": {
   "codemirror_mode": {
    "name": "ipython",
    "version": 3
   },
   "file_extension": ".py",
   "mimetype": "text/x-python",
   "name": "python",
   "nbconvert_exporter": "python",
   "pygments_lexer": "ipython3",
   "version": "3.9.7"
  }
 },
 "nbformat": 4,
 "nbformat_minor": 5
}
