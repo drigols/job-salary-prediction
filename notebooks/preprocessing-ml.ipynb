{
 "cells": [
  {
   "cell_type": "markdown",
   "id": "d5f27968",
   "metadata": {},
   "source": [
    "# PARTE 1 - Pré-Processamento\n",
    "Esse parte **Jupyter Notebook** tem como objetivo aplicar um **Pré-Processamento** no conjunto de dados.\n",
    "\n",
    "# Introdução ao Pré-Processamento Iterativo\n",
    "Durante o *Pré-Processamento* utilizarei uma approach que eu chamo de ***Pré-Processamento iterativo***. Isso, porque eu vou trabalhar cada *coluna (feature)* do conjunto de dados individualmente e vou iterando por cada uma aplicando várias técnicas (quando necessário).\n",
    "\n",
    "Algo parecido com isso:\n",
    "\n",
    "![img](../images/loop.png)\n",
    "\n",
    "**NOTE:**  \n",
    "A imagem não ficou muito bonita, mas o importante é vocês entenderem como vai ser o processo que vamos seguir."
   ]
  },
  {
   "cell_type": "markdown",
   "id": "2d5c407c",
   "metadata": {},
   "source": [
    "# Resumo da Análise preliminar\n",
    "Na etapa anterior foi feita uma breve análise do conjunto de dados. O **resumo** dessa análise foi o seguinte:\n",
    "\n",
    " - Temos um grande conjunto de dados para trabalharmos:\n",
    "   - Com 244.768 amostras e 12 colunas (features).\n",
    " - Porém, vai ser necessário um Pré-Processamento na maior parte das colunas, devido o fato das colunas serem representadas por textos (informações).\n",
    " - Algumas colunas estão com muitos dados faltantes, principalmente a **ContractType** que tem **73%** dos dados faltantes."
   ]
  },
  {
   "cell_type": "markdown",
   "id": "bdf030e9",
   "metadata": {},
   "source": [
    "# 01 - Imports & Configurações\n",
    "Vamos começar com importações e configurações iniciais:"
   ]
  },
  {
   "cell_type": "markdown",
   "id": "008fbd75",
   "metadata": {},
   "source": [
    "## Importando as bibliotecas necessárias:"
   ]
  },
  {
   "cell_type": "code",
   "execution_count": 79,
   "id": "84fb1624",
   "metadata": {},
   "outputs": [],
   "source": [
    "from sklearn.feature_extraction.text import TfidfTransformer\n",
    "from sklearn.feature_extraction.text import CountVectorizer\n",
    "from nltk.stem.porter import PorterStemmer\n",
    "from nltk.stem import WordNetLemmatizer\n",
    "from collections import Counter\n",
    "from nltk.corpus import wordnet\n",
    "from scipy.sparse import hstack\n",
    "import scipy.sparse\n",
    "import pandas as pd\n",
    "import numpy as np\n",
    "import string\n",
    "import spacy\n",
    "import py7zr\n",
    "import nltk\n",
    "import re"
   ]
  },
  {
   "cell_type": "markdown",
   "id": "c56bb743",
   "metadata": {},
   "source": [
    "## Extraindo o conjunto de dados:"
   ]
  },
  {
   "cell_type": "code",
   "execution_count": 2,
   "id": "7992c6a7",
   "metadata": {},
   "outputs": [],
   "source": [
    "with py7zr.SevenZipFile(\"../datasets/Train_rev1.7z\", mode='r') as archive:\n",
    "  archive.extractall(path=\"/tmp\") # For Linux users."
   ]
  },
  {
   "cell_type": "markdown",
   "id": "aff567a6",
   "metadata": {},
   "source": [
    "## Configurando o tamanho das saídas (outputs):\n",
    "Antes de iniciarmos nossa análise vamos configurar o Pandas para exibir todo o conteúdo por amostra:"
   ]
  },
  {
   "cell_type": "code",
   "execution_count": 3,
   "id": "3f142e90",
   "metadata": {},
   "outputs": [],
   "source": [
    "pd.options.display.max_colwidth = 100000"
   ]
  },
  {
   "cell_type": "markdown",
   "id": "c0243092",
   "metadata": {},
   "source": [
    "## Pegando o conjunto de dados"
   ]
  },
  {
   "cell_type": "code",
   "execution_count": 4,
   "id": "cfabeb6b",
   "metadata": {},
   "outputs": [],
   "source": [
    "full_df = pd.read_csv(\"/tmp/Train_rev1.csv\")"
   ]
  },
  {
   "cell_type": "markdown",
   "id": "0790c756",
   "metadata": {},
   "source": [
    "# 02 - Visão geral (overview) dos conjunto de dados\n",
    "Vamos começar com uma visão geral (overview) dos dados, diferente da approach que vamos seguir **(Pré-Processamento Iterativo)** que vai tratar cada coluna (feature) individualmente aqui vamos dar uma breve visualizada no conjunto de dados como um todo e sem nenhum Processamento:"
   ]
  },
  {
   "cell_type": "code",
   "execution_count": 5,
   "id": "d4116c0d",
   "metadata": {
    "scrolled": true
   },
   "outputs": [
    {
     "name": "stdout",
     "output_type": "stream",
     "text": [
      "<class 'pandas.core.frame.DataFrame'>\n",
      "RangeIndex: 244768 entries, 0 to 244767\n",
      "Data columns (total 12 columns):\n",
      " #   Column              Non-Null Count   Dtype \n",
      "---  ------              --------------   ----- \n",
      " 0   Id                  244768 non-null  int64 \n",
      " 1   Title               244767 non-null  object\n",
      " 2   FullDescription     244768 non-null  object\n",
      " 3   LocationRaw         244768 non-null  object\n",
      " 4   LocationNormalized  244768 non-null  object\n",
      " 5   ContractType        65442 non-null   object\n",
      " 6   ContractTime        180863 non-null  object\n",
      " 7   Company             212338 non-null  object\n",
      " 8   Category            244768 non-null  object\n",
      " 9   SalaryRaw           244768 non-null  object\n",
      " 10  SalaryNormalized    244768 non-null  int64 \n",
      " 11  SourceName          244767 non-null  object\n",
      "dtypes: int64(2), object(10)\n",
      "memory usage: 22.4+ MB\n"
     ]
    },
    {
     "data": {
      "text/html": [
       "<div>\n",
       "<style scoped>\n",
       "    .dataframe tbody tr th:only-of-type {\n",
       "        vertical-align: middle;\n",
       "    }\n",
       "\n",
       "    .dataframe tbody tr th {\n",
       "        vertical-align: top;\n",
       "    }\n",
       "\n",
       "    .dataframe thead th {\n",
       "        text-align: right;\n",
       "    }\n",
       "</style>\n",
       "<table border=\"1\" class=\"dataframe\">\n",
       "  <thead>\n",
       "    <tr style=\"text-align: right;\">\n",
       "      <th></th>\n",
       "      <th>Id</th>\n",
       "      <th>Title</th>\n",
       "      <th>FullDescription</th>\n",
       "      <th>LocationRaw</th>\n",
       "      <th>LocationNormalized</th>\n",
       "      <th>ContractType</th>\n",
       "      <th>ContractTime</th>\n",
       "      <th>Company</th>\n",
       "      <th>Category</th>\n",
       "      <th>SalaryRaw</th>\n",
       "      <th>SalaryNormalized</th>\n",
       "      <th>SourceName</th>\n",
       "    </tr>\n",
       "  </thead>\n",
       "  <tbody>\n",
       "    <tr>\n",
       "      <th>0</th>\n",
       "      <td>12612628</td>\n",
       "      <td>Engineering Systems Analyst</td>\n",
       "      <td>Engineering Systems Analyst Dorking Surrey Salary ****K Our client is located in Dorking, Surrey and are looking for Engineering Systems Analyst our client provides specialist software development Keywords Mathematical Modelling, Risk Analysis, System Modelling, Optimisation, MISER, PIONEEER Engineering Systems Analyst Dorking Surrey Salary ****K</td>\n",
       "      <td>Dorking, Surrey, Surrey</td>\n",
       "      <td>Dorking</td>\n",
       "      <td>NaN</td>\n",
       "      <td>permanent</td>\n",
       "      <td>Gregory Martin International</td>\n",
       "      <td>Engineering Jobs</td>\n",
       "      <td>20000 - 30000/annum 20-30K</td>\n",
       "      <td>25000</td>\n",
       "      <td>cv-library.co.uk</td>\n",
       "    </tr>\n",
       "    <tr>\n",
       "      <th>1</th>\n",
       "      <td>12612830</td>\n",
       "      <td>Stress Engineer Glasgow</td>\n",
       "      <td>Stress Engineer Glasgow Salary **** to **** We re currently looking for talented engineers to join our growing Glasgow team at a variety of levels. The roles are ideally suited to high calibre engineering graduates with any level of appropriate experience, so that we can give you the opportunity to use your technical skills to provide high quality input to our aerospace projects, spanning both aerostructures and aeroengines. In return, you can expect good career opportunities and the chance for advancement and personal and professional development, support while you gain Chartership and some opportunities to possibly travel or work in other offices, in or outside of the UK. The Requirements You will need to have a good engineering degree that includes structural analysis (such as aeronautical, mechanical, automotive, civil) with some experience in a professional engineering environment relevant to (but not limited to) the aerospace sector. You will need to demonstrate experience in at least one or more of the following areas: Structural/stress analysis Composite stress analysis (any industry) Linear and nonlinear finite element analysis Fatigue and damage tolerance Structural dynamics Thermal analysis Aerostructures experience You will also be expected to demonstrate the following qualities: A strong desire to progress quickly to a position of leadership Professional approach Strong communication skills, written and verbal Commercial awareness Team working, being comfortable working in international teams and self managing PLEASE NOTE SECURITY CLEARANCE IS REQUIRED FOR THIS ROLE Stress Engineer Glasgow Salary **** to ****</td>\n",
       "      <td>Glasgow, Scotland, Scotland</td>\n",
       "      <td>Glasgow</td>\n",
       "      <td>NaN</td>\n",
       "      <td>permanent</td>\n",
       "      <td>Gregory Martin International</td>\n",
       "      <td>Engineering Jobs</td>\n",
       "      <td>25000 - 35000/annum 25-35K</td>\n",
       "      <td>30000</td>\n",
       "      <td>cv-library.co.uk</td>\n",
       "    </tr>\n",
       "    <tr>\n",
       "      <th>2</th>\n",
       "      <td>12612844</td>\n",
       "      <td>Modelling and simulation analyst</td>\n",
       "      <td>Mathematical Modeller / Simulation Analyst / Operational Analyst Basingstoke, Hampshire Up to ****K AAE pension contribution, private medical and dental The opportunity Our client is an independent consultancy firm which has an opportunity for a Data Analyst with 35 years experience. The role will require the successful candidate to demonstrate their ability to analyse a problem and arrive at a solution, with varying levels of data being available. Essential skills Thorough knowledge of Excel and proven ability to utilise this to create powerful decision support models Experience in Modelling and Simulation Techniques, Experience of techniques such as Discrete Event Simulation and/or SD modelling Mathematical/scientific background  minimum degree qualified Proven analytical and problem solving skills Self Starter Ability to develop solid working relationships In addition to formal qualifications and experience, the successful candidate will require excellent written and verbal communication skills, be energetic, enterprising and have a determination to succeed. They will be required to build solid working relationships, both internally with colleagues and, most importantly, externally with our clients. They must be comfortable working independently to deliver against challenging client demands. The offices are located in Basingstoke, Hampshire, but our client work for clients worldwide. The successful candidate must therefore be prepared to undertake work at client sites for short periods of time. Physics, Mathematics, Modelling, Simulation, Analytical, Operational Research, Mathematical Modelling Mathematical Modeller / Simulation Analyst / Operational Analyst Basingstoke, Hampshire ****K AAE pension contribution, private medical and dental</td>\n",
       "      <td>Hampshire, South East, South East</td>\n",
       "      <td>Hampshire</td>\n",
       "      <td>NaN</td>\n",
       "      <td>permanent</td>\n",
       "      <td>Gregory Martin International</td>\n",
       "      <td>Engineering Jobs</td>\n",
       "      <td>20000 - 40000/annum 20-40K</td>\n",
       "      <td>30000</td>\n",
       "      <td>cv-library.co.uk</td>\n",
       "    </tr>\n",
       "    <tr>\n",
       "      <th>3</th>\n",
       "      <td>12613049</td>\n",
       "      <td>Engineering Systems Analyst / Mathematical Modeller</td>\n",
       "      <td>Engineering Systems Analyst / Mathematical Modeller. Our client is a highly successful and respected Consultancy providing specialist software development MISER, PIONEER, Maths, Mathematical, Optimisation, Risk Analysis, Asset Management, Water Industry, Access, Excel, VBA, SQL, Systems . Engineering Systems Analyst / Mathematical Modeller. Salary  ****K****K negotiable Location Dorking, Surrey</td>\n",
       "      <td>Surrey, South East, South East</td>\n",
       "      <td>Surrey</td>\n",
       "      <td>NaN</td>\n",
       "      <td>permanent</td>\n",
       "      <td>Gregory Martin International</td>\n",
       "      <td>Engineering Jobs</td>\n",
       "      <td>25000 - 30000/annum 25K-30K negotiable</td>\n",
       "      <td>27500</td>\n",
       "      <td>cv-library.co.uk</td>\n",
       "    </tr>\n",
       "    <tr>\n",
       "      <th>4</th>\n",
       "      <td>12613647</td>\n",
       "      <td>Pioneer, Miser Engineering Systems Analyst</td>\n",
       "      <td>Pioneer, Miser  Engineering Systems Analyst Dorking  Surrey Salary ****K Located in Surrey, our client provides specialist software development Pioneer, Miser  Engineering Systems Analyst Dorking  Surrey Salary ****K</td>\n",
       "      <td>Surrey, South East, South East</td>\n",
       "      <td>Surrey</td>\n",
       "      <td>NaN</td>\n",
       "      <td>permanent</td>\n",
       "      <td>Gregory Martin International</td>\n",
       "      <td>Engineering Jobs</td>\n",
       "      <td>20000 - 30000/annum 20-30K</td>\n",
       "      <td>25000</td>\n",
       "      <td>cv-library.co.uk</td>\n",
       "    </tr>\n",
       "  </tbody>\n",
       "</table>\n",
       "</div>"
      ],
      "text/plain": [
       "         Id                                                Title  \\\n",
       "0  12612628                          Engineering Systems Analyst   \n",
       "1  12612830                              Stress Engineer Glasgow   \n",
       "2  12612844                     Modelling and simulation analyst   \n",
       "3  12613049  Engineering Systems Analyst / Mathematical Modeller   \n",
       "4  12613647           Pioneer, Miser Engineering Systems Analyst   \n",
       "\n",
       "                                                                                                                                                                                                                                                                                                                                                                                                                                                                                                                                                                                                                                                                                                                                                                                                                                                                                                                                                                                                                                                                                                                                                                                                                                                                                                                                                                                                                                                                                                                                                                                                                                                                                                                                                                                                                               FullDescription  \\\n",
       "0                                                                                                                                                                                                                                                                                                                                                                                                                                                                                                                                                                                                                                                                                                                                                                                                                                                                                                                                                                                                                                                                                                                                                                                                                                                                                                                                                                                                                                                                                 Engineering Systems Analyst Dorking Surrey Salary ****K Our client is located in Dorking, Surrey and are looking for Engineering Systems Analyst our client provides specialist software development Keywords Mathematical Modelling, Risk Analysis, System Modelling, Optimisation, MISER, PIONEEER Engineering Systems Analyst Dorking Surrey Salary ****K   \n",
       "1                                                                                                                            Stress Engineer Glasgow Salary **** to **** We re currently looking for talented engineers to join our growing Glasgow team at a variety of levels. The roles are ideally suited to high calibre engineering graduates with any level of appropriate experience, so that we can give you the opportunity to use your technical skills to provide high quality input to our aerospace projects, spanning both aerostructures and aeroengines. In return, you can expect good career opportunities and the chance for advancement and personal and professional development, support while you gain Chartership and some opportunities to possibly travel or work in other offices, in or outside of the UK. The Requirements You will need to have a good engineering degree that includes structural analysis (such as aeronautical, mechanical, automotive, civil) with some experience in a professional engineering environment relevant to (but not limited to) the aerospace sector. You will need to demonstrate experience in at least one or more of the following areas: Structural/stress analysis Composite stress analysis (any industry) Linear and nonlinear finite element analysis Fatigue and damage tolerance Structural dynamics Thermal analysis Aerostructures experience You will also be expected to demonstrate the following qualities: A strong desire to progress quickly to a position of leadership Professional approach Strong communication skills, written and verbal Commercial awareness Team working, being comfortable working in international teams and self managing PLEASE NOTE SECURITY CLEARANCE IS REQUIRED FOR THIS ROLE Stress Engineer Glasgow Salary **** to ****   \n",
       "2  Mathematical Modeller / Simulation Analyst / Operational Analyst Basingstoke, Hampshire Up to ****K AAE pension contribution, private medical and dental The opportunity Our client is an independent consultancy firm which has an opportunity for a Data Analyst with 35 years experience. The role will require the successful candidate to demonstrate their ability to analyse a problem and arrive at a solution, with varying levels of data being available. Essential skills Thorough knowledge of Excel and proven ability to utilise this to create powerful decision support models Experience in Modelling and Simulation Techniques, Experience of techniques such as Discrete Event Simulation and/or SD modelling Mathematical/scientific background  minimum degree qualified Proven analytical and problem solving skills Self Starter Ability to develop solid working relationships In addition to formal qualifications and experience, the successful candidate will require excellent written and verbal communication skills, be energetic, enterprising and have a determination to succeed. They will be required to build solid working relationships, both internally with colleagues and, most importantly, externally with our clients. They must be comfortable working independently to deliver against challenging client demands. The offices are located in Basingstoke, Hampshire, but our client work for clients worldwide. The successful candidate must therefore be prepared to undertake work at client sites for short periods of time. Physics, Mathematics, Modelling, Simulation, Analytical, Operational Research, Mathematical Modelling Mathematical Modeller / Simulation Analyst / Operational Analyst Basingstoke, Hampshire ****K AAE pension contribution, private medical and dental   \n",
       "3                                                                                                                                                                                                                                                                                                                                                                                                                                                                                                                                                                                                                                                                                                                                                                                                                                                                                                                                                                                                                                                                                                                                                                                                                                                                                                                                                                                                                                Engineering Systems Analyst / Mathematical Modeller. Our client is a highly successful and respected Consultancy providing specialist software development MISER, PIONEER, Maths, Mathematical, Optimisation, Risk Analysis, Asset Management, Water Industry, Access, Excel, VBA, SQL, Systems . Engineering Systems Analyst / Mathematical Modeller. Salary  ****K****K negotiable Location Dorking, Surrey   \n",
       "4                                                                                                                                                                                                                                                                                                                                                                                                                                                                                                                                                                                                                                                                                                                                                                                                                                                                                                                                                                                                                                                                                                                                                                                                                                                                                                                                                                                                                                                                                                                                                                                                                     Pioneer, Miser  Engineering Systems Analyst Dorking  Surrey Salary ****K Located in Surrey, our client provides specialist software development Pioneer, Miser  Engineering Systems Analyst Dorking  Surrey Salary ****K   \n",
       "\n",
       "                         LocationRaw LocationNormalized ContractType  \\\n",
       "0            Dorking, Surrey, Surrey            Dorking          NaN   \n",
       "1        Glasgow, Scotland, Scotland            Glasgow          NaN   \n",
       "2  Hampshire, South East, South East          Hampshire          NaN   \n",
       "3     Surrey, South East, South East             Surrey          NaN   \n",
       "4     Surrey, South East, South East             Surrey          NaN   \n",
       "\n",
       "  ContractTime                       Company          Category  \\\n",
       "0    permanent  Gregory Martin International  Engineering Jobs   \n",
       "1    permanent  Gregory Martin International  Engineering Jobs   \n",
       "2    permanent  Gregory Martin International  Engineering Jobs   \n",
       "3    permanent  Gregory Martin International  Engineering Jobs   \n",
       "4    permanent  Gregory Martin International  Engineering Jobs   \n",
       "\n",
       "                                SalaryRaw  SalaryNormalized        SourceName  \n",
       "0              20000 - 30000/annum 20-30K             25000  cv-library.co.uk  \n",
       "1              25000 - 35000/annum 25-35K             30000  cv-library.co.uk  \n",
       "2              20000 - 40000/annum 20-40K             30000  cv-library.co.uk  \n",
       "3  25000 - 30000/annum 25K-30K negotiable             27500  cv-library.co.uk  \n",
       "4              20000 - 30000/annum 20-30K             25000  cv-library.co.uk  "
      ]
     },
     "execution_count": 5,
     "metadata": {},
     "output_type": "execute_result"
    }
   ],
   "source": [
    "full_df.info()\n",
    "full_df.head()"
   ]
  },
  {
   "cell_type": "markdown",
   "id": "f33d76d4",
   "metadata": {},
   "source": [
    "# 03 - Pré-Processamento Iterativo\n",
    "Agora sim, nós vamos *entender* e *processar* cada colunas (features) individualmente seguindo nossa approach *iterativa*.\n",
    "\n",
    "**Essa abordagem segue 2 linhas de pensamento:**\n",
    " - **Dividir para conquistar:**\n",
    "   - Onde, nós vamos dividir o problema em problema menores (colunas/features);\n",
    "   - Depois de resolvido cada parte individualmente, juntamos todos os pedaços e temos uma solução final.\n",
    " - **Aplicar \"x\" técnica por iteração:**\n",
    "   - Por exemplo na **primeira iteração** nós vamos adequar os tipos de dados para cada coluna (feature);\n",
    "   - Na **segunda iteração** nós vamos ver quanto porcento de dados faltantes tem por coluna (feature) e aplicar alguma técnicas que resolva esse problema (quando necessário);\n",
    "   - ...\n",
    "   - Essas iterações vão seguindo até o fim do Pré-Processamento."
   ]
  },
  {
   "cell_type": "markdown",
   "id": "6c012dde",
   "metadata": {},
   "source": [
    "## 03.1 - Pré-Processando a coluna (feature) \"Id\"\n",
    "> Essa coluna (feature) não vai precisar ser Pré-Processada. Como nós sabemos é apenas o identificado único de cada amostra."
   ]
  },
  {
   "cell_type": "code",
   "execution_count": 6,
   "id": "a7d96192",
   "metadata": {},
   "outputs": [
    {
     "data": {
      "text/plain": [
       "0    12612628\n",
       "1    12612830\n",
       "2    12612844\n",
       "3    12613049\n",
       "4    12613647\n",
       "Name: Id, dtype: int64"
      ]
     },
     "execution_count": 6,
     "metadata": {},
     "output_type": "execute_result"
    }
   ],
   "source": [
    "full_df['Id'].head()"
   ]
  },
  {
   "cell_type": "markdown",
   "id": "f4245fcc",
   "metadata": {},
   "source": [
    "---"
   ]
  },
  {
   "cell_type": "markdown",
   "id": "cba6cd8e",
   "metadata": {},
   "source": [
    "## 03.2 - Pré-Processando a coluna (feature) \"Title\"\n",
    "> Resumidamente, o **Title** é o resumo do *cargo* ou *função*."
   ]
  },
  {
   "cell_type": "markdown",
   "id": "5543d839",
   "metadata": {},
   "source": [
    "### Preparando e colocando o tipo de dado mais adequado na *coluna (feature)* \"title\":"
   ]
  },
  {
   "cell_type": "code",
   "execution_count": 7,
   "id": "f3e3c349",
   "metadata": {
    "scrolled": true
   },
   "outputs": [
    {
     "name": "stdout",
     "output_type": "stream",
     "text": [
      "<class 'pandas.core.frame.DataFrame'>\n",
      "RangeIndex: 244768 entries, 0 to 244767\n",
      "Data columns (total 1 columns):\n",
      " #   Column  Non-Null Count   Dtype \n",
      "---  ------  --------------   ----- \n",
      " 0   Title   244767 non-null  string\n",
      "dtypes: string(1)\n",
      "memory usage: 1.9 MB\n"
     ]
    },
    {
     "data": {
      "text/html": [
       "<div>\n",
       "<style scoped>\n",
       "    .dataframe tbody tr th:only-of-type {\n",
       "        vertical-align: middle;\n",
       "    }\n",
       "\n",
       "    .dataframe tbody tr th {\n",
       "        vertical-align: top;\n",
       "    }\n",
       "\n",
       "    .dataframe thead th {\n",
       "        text-align: right;\n",
       "    }\n",
       "</style>\n",
       "<table border=\"1\" class=\"dataframe\">\n",
       "  <thead>\n",
       "    <tr style=\"text-align: right;\">\n",
       "      <th></th>\n",
       "      <th>Title</th>\n",
       "    </tr>\n",
       "  </thead>\n",
       "  <tbody>\n",
       "    <tr>\n",
       "      <th>0</th>\n",
       "      <td>Engineering Systems Analyst</td>\n",
       "    </tr>\n",
       "    <tr>\n",
       "      <th>1</th>\n",
       "      <td>Stress Engineer Glasgow</td>\n",
       "    </tr>\n",
       "    <tr>\n",
       "      <th>2</th>\n",
       "      <td>Modelling and simulation analyst</td>\n",
       "    </tr>\n",
       "    <tr>\n",
       "      <th>3</th>\n",
       "      <td>Engineering Systems Analyst / Mathematical Modeller</td>\n",
       "    </tr>\n",
       "    <tr>\n",
       "      <th>4</th>\n",
       "      <td>Pioneer, Miser Engineering Systems Analyst</td>\n",
       "    </tr>\n",
       "  </tbody>\n",
       "</table>\n",
       "</div>"
      ],
      "text/plain": [
       "                                                 Title\n",
       "0                          Engineering Systems Analyst\n",
       "1                              Stress Engineer Glasgow\n",
       "2                     Modelling and simulation analyst\n",
       "3  Engineering Systems Analyst / Mathematical Modeller\n",
       "4           Pioneer, Miser Engineering Systems Analyst"
      ]
     },
     "execution_count": 7,
     "metadata": {},
     "output_type": "execute_result"
    }
   ],
   "source": [
    "df_title = full_df[[\"Title\"]]\n",
    "df_title = df_title.astype({'Title': 'string'})\n",
    "df_title.info()\n",
    "df_title.head()"
   ]
  },
  {
   "cell_type": "markdown",
   "id": "c4fa8a99",
   "metadata": {},
   "source": [
    "### Verificando quanto porcento (%) dos dados são ausentes (missing):"
   ]
  },
  {
   "cell_type": "code",
   "execution_count": 8,
   "id": "efda8583",
   "metadata": {},
   "outputs": [
    {
     "data": {
      "text/plain": [
       "Title    1\n",
       "dtype: int64"
      ]
     },
     "execution_count": 8,
     "metadata": {},
     "output_type": "execute_result"
    }
   ],
   "source": [
    "# Data missing sum.\n",
    "missing = df_title.isnull().sum()\n",
    "missing"
   ]
  },
  {
   "cell_type": "code",
   "execution_count": 9,
   "id": "4b424d94",
   "metadata": {},
   "outputs": [
    {
     "data": {
      "text/plain": [
       "Title    0.000409\n",
       "dtype: float64"
      ]
     },
     "execution_count": 9,
     "metadata": {},
     "output_type": "execute_result"
    }
   ],
   "source": [
    "# Data missing in percent.\n",
    "percentMissing = (missing / len(df_title.index)) * 100\n",
    "percentMissing"
   ]
  },
  {
   "cell_type": "markdown",
   "id": "1d2831a8",
   "metadata": {},
   "source": [
    "### Aplicando Lower Casing:"
   ]
  },
  {
   "cell_type": "code",
   "execution_count": 10,
   "id": "8cada141",
   "metadata": {
    "scrolled": true
   },
   "outputs": [
    {
     "data": {
      "text/html": [
       "<div>\n",
       "<style scoped>\n",
       "    .dataframe tbody tr th:only-of-type {\n",
       "        vertical-align: middle;\n",
       "    }\n",
       "\n",
       "    .dataframe tbody tr th {\n",
       "        vertical-align: top;\n",
       "    }\n",
       "\n",
       "    .dataframe thead th {\n",
       "        text-align: right;\n",
       "    }\n",
       "</style>\n",
       "<table border=\"1\" class=\"dataframe\">\n",
       "  <thead>\n",
       "    <tr style=\"text-align: right;\">\n",
       "      <th></th>\n",
       "      <th>Title</th>\n",
       "      <th>processed_title</th>\n",
       "    </tr>\n",
       "  </thead>\n",
       "  <tbody>\n",
       "    <tr>\n",
       "      <th>0</th>\n",
       "      <td>Engineering Systems Analyst</td>\n",
       "      <td>engineering systems analyst</td>\n",
       "    </tr>\n",
       "    <tr>\n",
       "      <th>1</th>\n",
       "      <td>Stress Engineer Glasgow</td>\n",
       "      <td>stress engineer glasgow</td>\n",
       "    </tr>\n",
       "    <tr>\n",
       "      <th>2</th>\n",
       "      <td>Modelling and simulation analyst</td>\n",
       "      <td>modelling and simulation analyst</td>\n",
       "    </tr>\n",
       "    <tr>\n",
       "      <th>3</th>\n",
       "      <td>Engineering Systems Analyst / Mathematical Modeller</td>\n",
       "      <td>engineering systems analyst / mathematical modeller</td>\n",
       "    </tr>\n",
       "    <tr>\n",
       "      <th>4</th>\n",
       "      <td>Pioneer, Miser Engineering Systems Analyst</td>\n",
       "      <td>pioneer, miser engineering systems analyst</td>\n",
       "    </tr>\n",
       "  </tbody>\n",
       "</table>\n",
       "</div>"
      ],
      "text/plain": [
       "                                                 Title  \\\n",
       "0                          Engineering Systems Analyst   \n",
       "1                              Stress Engineer Glasgow   \n",
       "2                     Modelling and simulation analyst   \n",
       "3  Engineering Systems Analyst / Mathematical Modeller   \n",
       "4           Pioneer, Miser Engineering Systems Analyst   \n",
       "\n",
       "                                       processed_title  \n",
       "0                          engineering systems analyst  \n",
       "1                              stress engineer glasgow  \n",
       "2                     modelling and simulation analyst  \n",
       "3  engineering systems analyst / mathematical modeller  \n",
       "4           pioneer, miser engineering systems analyst  "
      ]
     },
     "execution_count": 10,
     "metadata": {},
     "output_type": "execute_result"
    }
   ],
   "source": [
    "df_title[\"processed_title\"] = df_title[\"Title\"].str.lower()\n",
    "df_title.head()"
   ]
  },
  {
   "cell_type": "markdown",
   "id": "4a9e819b",
   "metadata": {},
   "source": [
    "### Removendo pontuações:"
   ]
  },
  {
   "cell_type": "code",
   "execution_count": 11,
   "id": "bc81c4f6",
   "metadata": {
    "scrolled": true
   },
   "outputs": [
    {
     "data": {
      "text/html": [
       "<div>\n",
       "<style scoped>\n",
       "    .dataframe tbody tr th:only-of-type {\n",
       "        vertical-align: middle;\n",
       "    }\n",
       "\n",
       "    .dataframe tbody tr th {\n",
       "        vertical-align: top;\n",
       "    }\n",
       "\n",
       "    .dataframe thead th {\n",
       "        text-align: right;\n",
       "    }\n",
       "</style>\n",
       "<table border=\"1\" class=\"dataframe\">\n",
       "  <thead>\n",
       "    <tr style=\"text-align: right;\">\n",
       "      <th></th>\n",
       "      <th>Title</th>\n",
       "      <th>processed_title</th>\n",
       "    </tr>\n",
       "  </thead>\n",
       "  <tbody>\n",
       "    <tr>\n",
       "      <th>0</th>\n",
       "      <td>Engineering Systems Analyst</td>\n",
       "      <td>engineering systems analyst</td>\n",
       "    </tr>\n",
       "    <tr>\n",
       "      <th>1</th>\n",
       "      <td>Stress Engineer Glasgow</td>\n",
       "      <td>stress engineer glasgow</td>\n",
       "    </tr>\n",
       "    <tr>\n",
       "      <th>2</th>\n",
       "      <td>Modelling and simulation analyst</td>\n",
       "      <td>modelling and simulation analyst</td>\n",
       "    </tr>\n",
       "    <tr>\n",
       "      <th>3</th>\n",
       "      <td>Engineering Systems Analyst / Mathematical Modeller</td>\n",
       "      <td>engineering systems analyst   mathematical modeller</td>\n",
       "    </tr>\n",
       "    <tr>\n",
       "      <th>4</th>\n",
       "      <td>Pioneer, Miser Engineering Systems Analyst</td>\n",
       "      <td>pioneer  miser engineering systems analyst</td>\n",
       "    </tr>\n",
       "  </tbody>\n",
       "</table>\n",
       "</div>"
      ],
      "text/plain": [
       "                                                 Title  \\\n",
       "0                          Engineering Systems Analyst   \n",
       "1                              Stress Engineer Glasgow   \n",
       "2                     Modelling and simulation analyst   \n",
       "3  Engineering Systems Analyst / Mathematical Modeller   \n",
       "4           Pioneer, Miser Engineering Systems Analyst   \n",
       "\n",
       "                                       processed_title  \n",
       "0                          engineering systems analyst  \n",
       "1                              stress engineer glasgow  \n",
       "2                     modelling and simulation analyst  \n",
       "3  engineering systems analyst   mathematical modeller  \n",
       "4           pioneer  miser engineering systems analyst  "
      ]
     },
     "execution_count": 11,
     "metadata": {},
     "output_type": "execute_result"
    }
   ],
   "source": [
    "df_title[\"processed_title\"] = df_title[\"processed_title\"].str.replace('[^\\w\\s]',' ', regex=True)\n",
    "df_title.head()"
   ]
  },
  {
   "cell_type": "markdown",
   "id": "291b9a6b",
   "metadata": {},
   "source": [
    "### Removendo números:"
   ]
  },
  {
   "cell_type": "code",
   "execution_count": 12,
   "id": "bb14bcf0",
   "metadata": {},
   "outputs": [
    {
     "data": {
      "text/html": [
       "<div>\n",
       "<style scoped>\n",
       "    .dataframe tbody tr th:only-of-type {\n",
       "        vertical-align: middle;\n",
       "    }\n",
       "\n",
       "    .dataframe tbody tr th {\n",
       "        vertical-align: top;\n",
       "    }\n",
       "\n",
       "    .dataframe thead th {\n",
       "        text-align: right;\n",
       "    }\n",
       "</style>\n",
       "<table border=\"1\" class=\"dataframe\">\n",
       "  <thead>\n",
       "    <tr style=\"text-align: right;\">\n",
       "      <th></th>\n",
       "      <th>Title</th>\n",
       "      <th>processed_title</th>\n",
       "    </tr>\n",
       "  </thead>\n",
       "  <tbody>\n",
       "    <tr>\n",
       "      <th>0</th>\n",
       "      <td>Engineering Systems Analyst</td>\n",
       "      <td>engineering systems analyst</td>\n",
       "    </tr>\n",
       "    <tr>\n",
       "      <th>1</th>\n",
       "      <td>Stress Engineer Glasgow</td>\n",
       "      <td>stress engineer glasgow</td>\n",
       "    </tr>\n",
       "    <tr>\n",
       "      <th>2</th>\n",
       "      <td>Modelling and simulation analyst</td>\n",
       "      <td>modelling and simulation analyst</td>\n",
       "    </tr>\n",
       "    <tr>\n",
       "      <th>3</th>\n",
       "      <td>Engineering Systems Analyst / Mathematical Modeller</td>\n",
       "      <td>engineering systems analyst   mathematical modeller</td>\n",
       "    </tr>\n",
       "    <tr>\n",
       "      <th>4</th>\n",
       "      <td>Pioneer, Miser Engineering Systems Analyst</td>\n",
       "      <td>pioneer  miser engineering systems analyst</td>\n",
       "    </tr>\n",
       "  </tbody>\n",
       "</table>\n",
       "</div>"
      ],
      "text/plain": [
       "                                                 Title  \\\n",
       "0                          Engineering Systems Analyst   \n",
       "1                              Stress Engineer Glasgow   \n",
       "2                     Modelling and simulation analyst   \n",
       "3  Engineering Systems Analyst / Mathematical Modeller   \n",
       "4           Pioneer, Miser Engineering Systems Analyst   \n",
       "\n",
       "                                       processed_title  \n",
       "0                          engineering systems analyst  \n",
       "1                              stress engineer glasgow  \n",
       "2                     modelling and simulation analyst  \n",
       "3  engineering systems analyst   mathematical modeller  \n",
       "4           pioneer  miser engineering systems analyst  "
      ]
     },
     "execution_count": 12,
     "metadata": {},
     "output_type": "execute_result"
    }
   ],
   "source": [
    "df_title[\"processed_title\"] = df_title[\"processed_title\"].str.replace('[0-9]+', '', regex=True)\n",
    "df_title.head()"
   ]
  },
  {
   "cell_type": "markdown",
   "id": "c089fa48",
   "metadata": {},
   "source": [
    "### Aplicando Stopword Removal (Remoção de palavras irrelevantes)"
   ]
  },
  {
   "cell_type": "code",
   "execution_count": 13,
   "id": "f3275f02",
   "metadata": {},
   "outputs": [
    {
     "data": {
      "text/plain": [
       "\"i, me, my, myself, we, our, ours, ourselves, you, you're, you've, you'll, you'd, your, yours, yourself, yourselves, he, him, his, himself, she, she's, her, hers, herself, it, it's, its, itself, they, them, their, theirs, themselves, what, which, who, whom, this, that, that'll, these, those, am, is, are, was, were, be, been, being, have, has, had, having, do, does, did, doing, a, an, the, and, but, if, or, because, as, until, while, of, at, by, for, with, about, against, between, into, through, during, before, after, above, below, to, from, up, down, in, out, on, off, over, under, again, further, then, once, here, there, when, where, why, how, all, any, both, each, few, more, most, other, some, such, no, nor, not, only, own, same, so, than, too, very, s, t, can, will, just, don, don't, should, should've, now, d, ll, m, o, re, ve, y, ain, aren, aren't, couldn, couldn't, didn, didn't, doesn, doesn't, hadn, hadn't, hasn, hasn't, haven, haven't, isn, isn't, ma, mightn, mightn't, mustn, mustn't, needn, needn't, shan, shan't, shouldn, shouldn't, wasn, wasn't, weren, weren't, won, won't, wouldn, wouldn't\""
      ]
     },
     "execution_count": 13,
     "metadata": {},
     "output_type": "execute_result"
    }
   ],
   "source": [
    "from nltk.corpus import stopwords\n",
    "\", \".join(stopwords.words('english'))"
   ]
  },
  {
   "cell_type": "code",
   "execution_count": 14,
   "id": "8217cdd7",
   "metadata": {
    "scrolled": true
   },
   "outputs": [
    {
     "data": {
      "text/html": [
       "<div>\n",
       "<style scoped>\n",
       "    .dataframe tbody tr th:only-of-type {\n",
       "        vertical-align: middle;\n",
       "    }\n",
       "\n",
       "    .dataframe tbody tr th {\n",
       "        vertical-align: top;\n",
       "    }\n",
       "\n",
       "    .dataframe thead th {\n",
       "        text-align: right;\n",
       "    }\n",
       "</style>\n",
       "<table border=\"1\" class=\"dataframe\">\n",
       "  <thead>\n",
       "    <tr style=\"text-align: right;\">\n",
       "      <th></th>\n",
       "      <th>Title</th>\n",
       "      <th>processed_title</th>\n",
       "    </tr>\n",
       "  </thead>\n",
       "  <tbody>\n",
       "    <tr>\n",
       "      <th>0</th>\n",
       "      <td>Engineering Systems Analyst</td>\n",
       "      <td>engineering systems analyst</td>\n",
       "    </tr>\n",
       "    <tr>\n",
       "      <th>1</th>\n",
       "      <td>Stress Engineer Glasgow</td>\n",
       "      <td>stress engineer glasgow</td>\n",
       "    </tr>\n",
       "    <tr>\n",
       "      <th>2</th>\n",
       "      <td>Modelling and simulation analyst</td>\n",
       "      <td>modelling simulation analyst</td>\n",
       "    </tr>\n",
       "    <tr>\n",
       "      <th>3</th>\n",
       "      <td>Engineering Systems Analyst / Mathematical Modeller</td>\n",
       "      <td>engineering systems analyst mathematical modeller</td>\n",
       "    </tr>\n",
       "    <tr>\n",
       "      <th>4</th>\n",
       "      <td>Pioneer, Miser Engineering Systems Analyst</td>\n",
       "      <td>pioneer miser engineering systems analyst</td>\n",
       "    </tr>\n",
       "  </tbody>\n",
       "</table>\n",
       "</div>"
      ],
      "text/plain": [
       "                                                 Title  \\\n",
       "0                          Engineering Systems Analyst   \n",
       "1                              Stress Engineer Glasgow   \n",
       "2                     Modelling and simulation analyst   \n",
       "3  Engineering Systems Analyst / Mathematical Modeller   \n",
       "4           Pioneer, Miser Engineering Systems Analyst   \n",
       "\n",
       "                                     processed_title  \n",
       "0                        engineering systems analyst  \n",
       "1                            stress engineer glasgow  \n",
       "2                       modelling simulation analyst  \n",
       "3  engineering systems analyst mathematical modeller  \n",
       "4          pioneer miser engineering systems analyst  "
      ]
     },
     "execution_count": 14,
     "metadata": {},
     "output_type": "execute_result"
    }
   ],
   "source": [
    "STOPWORDS = set(stopwords.words('english'))\n",
    "def remove_stopwords(text):\n",
    "  return \" \".join([word for word in str(text).split() if word not in STOPWORDS])\n",
    "\n",
    "df_title[\"processed_title\"] = df_title[\"processed_title\"].apply(lambda text: remove_stopwords(text))\n",
    "df_title.head()"
   ]
  },
  {
   "cell_type": "markdown",
   "id": "695d6df5",
   "metadata": {},
   "source": [
    "### Removendo palavras mais frequentes"
   ]
  },
  {
   "cell_type": "code",
   "execution_count": 15,
   "id": "7c2eb5a9",
   "metadata": {},
   "outputs": [
    {
     "data": {
      "text/plain": [
       "[('manager', 50162),\n",
       " ('engineer', 24192),\n",
       " ('sales', 19769),\n",
       " ('senior', 16976),\n",
       " ('developer', 13895),\n",
       " ('assistant', 12179),\n",
       " ('k', 11057),\n",
       " ('executive', 10632),\n",
       " ('business', 9988),\n",
       " ('consultant', 9496)]"
      ]
     },
     "execution_count": 15,
     "metadata": {},
     "output_type": "execute_result"
    }
   ],
   "source": [
    "cnt_title = Counter() # Instance\n",
    "for text in df_title[\"processed_title\"].values:\n",
    "  for word in text.split():\n",
    "    cnt_title[word] += 1\n",
    "\n",
    "cnt_title.most_common(10)"
   ]
  },
  {
   "cell_type": "markdown",
   "id": "35791969",
   "metadata": {},
   "source": [
    "**NOTE:**  \n",
    "Na minha opinião quase todas, senão todas (tirandi \"k\") são relevantes para o modelo aprender. Sabendo disso não vou remover nenhuma delas."
   ]
  },
  {
   "cell_type": "markdown",
   "id": "ba633dbc",
   "metadata": {},
   "source": [
    "### Remoção de palavras raras:"
   ]
  },
  {
   "cell_type": "code",
   "execution_count": 16,
   "id": "8a3308f4",
   "metadata": {},
   "outputs": [
    {
     "data": {
      "text/plain": [
       "{'bellhill',\n",
       " 'constructions',\n",
       " 'hydrolic',\n",
       " 'improvemen',\n",
       " 'leadopportunity',\n",
       " 'mlnlycke',\n",
       " 'norley',\n",
       " 'tase',\n",
       " 'techniciancivil',\n",
       " 'tuiton'}"
      ]
     },
     "execution_count": 16,
     "metadata": {},
     "output_type": "execute_result"
    }
   ],
   "source": [
    "n_rare_words = 10\n",
    "RAREWORDS = set([w for (w, wc) in cnt_title.most_common()[:-n_rare_words-1:-1]])\n",
    "RAREWORDS"
   ]
  },
  {
   "cell_type": "code",
   "execution_count": 17,
   "id": "5c75fe17",
   "metadata": {
    "scrolled": true
   },
   "outputs": [
    {
     "data": {
      "text/html": [
       "<div>\n",
       "<style scoped>\n",
       "    .dataframe tbody tr th:only-of-type {\n",
       "        vertical-align: middle;\n",
       "    }\n",
       "\n",
       "    .dataframe tbody tr th {\n",
       "        vertical-align: top;\n",
       "    }\n",
       "\n",
       "    .dataframe thead th {\n",
       "        text-align: right;\n",
       "    }\n",
       "</style>\n",
       "<table border=\"1\" class=\"dataframe\">\n",
       "  <thead>\n",
       "    <tr style=\"text-align: right;\">\n",
       "      <th></th>\n",
       "      <th>Title</th>\n",
       "      <th>processed_title</th>\n",
       "    </tr>\n",
       "  </thead>\n",
       "  <tbody>\n",
       "    <tr>\n",
       "      <th>0</th>\n",
       "      <td>Engineering Systems Analyst</td>\n",
       "      <td>engineering systems analyst</td>\n",
       "    </tr>\n",
       "    <tr>\n",
       "      <th>1</th>\n",
       "      <td>Stress Engineer Glasgow</td>\n",
       "      <td>stress engineer glasgow</td>\n",
       "    </tr>\n",
       "    <tr>\n",
       "      <th>2</th>\n",
       "      <td>Modelling and simulation analyst</td>\n",
       "      <td>modelling simulation analyst</td>\n",
       "    </tr>\n",
       "    <tr>\n",
       "      <th>3</th>\n",
       "      <td>Engineering Systems Analyst / Mathematical Modeller</td>\n",
       "      <td>engineering systems analyst mathematical modeller</td>\n",
       "    </tr>\n",
       "    <tr>\n",
       "      <th>4</th>\n",
       "      <td>Pioneer, Miser Engineering Systems Analyst</td>\n",
       "      <td>pioneer miser engineering systems analyst</td>\n",
       "    </tr>\n",
       "  </tbody>\n",
       "</table>\n",
       "</div>"
      ],
      "text/plain": [
       "                                                 Title  \\\n",
       "0                          Engineering Systems Analyst   \n",
       "1                              Stress Engineer Glasgow   \n",
       "2                     Modelling and simulation analyst   \n",
       "3  Engineering Systems Analyst / Mathematical Modeller   \n",
       "4           Pioneer, Miser Engineering Systems Analyst   \n",
       "\n",
       "                                     processed_title  \n",
       "0                        engineering systems analyst  \n",
       "1                            stress engineer glasgow  \n",
       "2                       modelling simulation analyst  \n",
       "3  engineering systems analyst mathematical modeller  \n",
       "4          pioneer miser engineering systems analyst  "
      ]
     },
     "execution_count": 17,
     "metadata": {},
     "output_type": "execute_result"
    }
   ],
   "source": [
    "n_rare_words = 10\n",
    "RAREWORDS = set([w for (w, wc) in cnt_title.most_common()[:-n_rare_words-1:-1]])\n",
    "def remove_rarewords(text):\n",
    "  return \" \".join([word for word in str(text).split() if word not in RAREWORDS])\n",
    "\n",
    "df_title[\"processed_title\"] = df_title[\"processed_title\"].apply(lambda text: remove_rarewords(text))\n",
    "df_title.head()"
   ]
  },
  {
   "cell_type": "markdown",
   "id": "ed5bbd3d",
   "metadata": {},
   "source": [
    "### Aplicando a técnica de Stemming:"
   ]
  },
  {
   "cell_type": "code",
   "execution_count": 18,
   "id": "742f5f2a",
   "metadata": {
    "scrolled": true
   },
   "outputs": [
    {
     "data": {
      "text/html": [
       "<div>\n",
       "<style scoped>\n",
       "    .dataframe tbody tr th:only-of-type {\n",
       "        vertical-align: middle;\n",
       "    }\n",
       "\n",
       "    .dataframe tbody tr th {\n",
       "        vertical-align: top;\n",
       "    }\n",
       "\n",
       "    .dataframe thead th {\n",
       "        text-align: right;\n",
       "    }\n",
       "</style>\n",
       "<table border=\"1\" class=\"dataframe\">\n",
       "  <thead>\n",
       "    <tr style=\"text-align: right;\">\n",
       "      <th></th>\n",
       "      <th>Title</th>\n",
       "      <th>processed_title</th>\n",
       "    </tr>\n",
       "  </thead>\n",
       "  <tbody>\n",
       "    <tr>\n",
       "      <th>0</th>\n",
       "      <td>Engineering Systems Analyst</td>\n",
       "      <td>engin system analyst</td>\n",
       "    </tr>\n",
       "    <tr>\n",
       "      <th>1</th>\n",
       "      <td>Stress Engineer Glasgow</td>\n",
       "      <td>stress engin glasgow</td>\n",
       "    </tr>\n",
       "    <tr>\n",
       "      <th>2</th>\n",
       "      <td>Modelling and simulation analyst</td>\n",
       "      <td>model simul analyst</td>\n",
       "    </tr>\n",
       "    <tr>\n",
       "      <th>3</th>\n",
       "      <td>Engineering Systems Analyst / Mathematical Modeller</td>\n",
       "      <td>engin system analyst mathemat model</td>\n",
       "    </tr>\n",
       "    <tr>\n",
       "      <th>4</th>\n",
       "      <td>Pioneer, Miser Engineering Systems Analyst</td>\n",
       "      <td>pioneer miser engin system analyst</td>\n",
       "    </tr>\n",
       "  </tbody>\n",
       "</table>\n",
       "</div>"
      ],
      "text/plain": [
       "                                                 Title  \\\n",
       "0                          Engineering Systems Analyst   \n",
       "1                              Stress Engineer Glasgow   \n",
       "2                     Modelling and simulation analyst   \n",
       "3  Engineering Systems Analyst / Mathematical Modeller   \n",
       "4           Pioneer, Miser Engineering Systems Analyst   \n",
       "\n",
       "                       processed_title  \n",
       "0                 engin system analyst  \n",
       "1                 stress engin glasgow  \n",
       "2                  model simul analyst  \n",
       "3  engin system analyst mathemat model  \n",
       "4   pioneer miser engin system analyst  "
      ]
     },
     "execution_count": 18,
     "metadata": {},
     "output_type": "execute_result"
    }
   ],
   "source": [
    "stemmer = PorterStemmer() # Instance.\n",
    "def stem_words(text):\n",
    "  return \" \".join([stemmer.stem(word) for word in text.split()])\n",
    "\n",
    "df_title[\"processed_title\"] = df_title[\"processed_title\"].apply(lambda text: stem_words(text))\n",
    "df_title.head()"
   ]
  },
  {
   "cell_type": "markdown",
   "id": "8dccf9d9",
   "metadata": {},
   "source": [
    "### Aplicando a técnica de Lemmatization + Part-of-Speech Tagging:"
   ]
  },
  {
   "cell_type": "code",
   "execution_count": 19,
   "id": "17373aae",
   "metadata": {},
   "outputs": [
    {
     "data": {
      "text/html": [
       "<div>\n",
       "<style scoped>\n",
       "    .dataframe tbody tr th:only-of-type {\n",
       "        vertical-align: middle;\n",
       "    }\n",
       "\n",
       "    .dataframe tbody tr th {\n",
       "        vertical-align: top;\n",
       "    }\n",
       "\n",
       "    .dataframe thead th {\n",
       "        text-align: right;\n",
       "    }\n",
       "</style>\n",
       "<table border=\"1\" class=\"dataframe\">\n",
       "  <thead>\n",
       "    <tr style=\"text-align: right;\">\n",
       "      <th></th>\n",
       "      <th>Title</th>\n",
       "      <th>processed_title</th>\n",
       "    </tr>\n",
       "  </thead>\n",
       "  <tbody>\n",
       "    <tr>\n",
       "      <th>0</th>\n",
       "      <td>Engineering Systems Analyst</td>\n",
       "      <td>engin system analyst</td>\n",
       "    </tr>\n",
       "    <tr>\n",
       "      <th>1</th>\n",
       "      <td>Stress Engineer Glasgow</td>\n",
       "      <td>stress engin glasgow</td>\n",
       "    </tr>\n",
       "    <tr>\n",
       "      <th>2</th>\n",
       "      <td>Modelling and simulation analyst</td>\n",
       "      <td>model simul analyst</td>\n",
       "    </tr>\n",
       "    <tr>\n",
       "      <th>3</th>\n",
       "      <td>Engineering Systems Analyst / Mathematical Modeller</td>\n",
       "      <td>engin system analyst mathemat model</td>\n",
       "    </tr>\n",
       "    <tr>\n",
       "      <th>4</th>\n",
       "      <td>Pioneer, Miser Engineering Systems Analyst</td>\n",
       "      <td>pioneer miser engin system analyst</td>\n",
       "    </tr>\n",
       "  </tbody>\n",
       "</table>\n",
       "</div>"
      ],
      "text/plain": [
       "                                                 Title  \\\n",
       "0                          Engineering Systems Analyst   \n",
       "1                              Stress Engineer Glasgow   \n",
       "2                     Modelling and simulation analyst   \n",
       "3  Engineering Systems Analyst / Mathematical Modeller   \n",
       "4           Pioneer, Miser Engineering Systems Analyst   \n",
       "\n",
       "                       processed_title  \n",
       "0                 engin system analyst  \n",
       "1                 stress engin glasgow  \n",
       "2                  model simul analyst  \n",
       "3  engin system analyst mathemat model  \n",
       "4   pioneer miser engin system analyst  "
      ]
     },
     "execution_count": 19,
     "metadata": {},
     "output_type": "execute_result"
    }
   ],
   "source": [
    "lemmatizer = WordNetLemmatizer() # Instance\n",
    "wordnet_map = {\"N\":wordnet.NOUN, \"V\":wordnet.VERB, \"J\":wordnet.ADJ, \"R\":wordnet.ADV} # Apply dict mapping.\n",
    "\n",
    "# Lemmatize words function.\n",
    "def lemmatize_words(text):\n",
    "  pos_tagged_text = nltk.pos_tag(text.split())\n",
    "  return \" \".join([lemmatizer.lemmatize(word, wordnet_map.get(pos[0], wordnet.NOUN)) for word, pos in pos_tagged_text])\n",
    "\n",
    "df_title[\"processed_title\"] = df_title[\"processed_title\"].apply(lambda text: lemmatize_words(text))\n",
    "df_title.head()"
   ]
  },
  {
   "cell_type": "markdown",
   "id": "26ddc178",
   "metadata": {},
   "source": [
    "### Aplicando a técnica de Count Vectorizer"
   ]
  },
  {
   "cell_type": "code",
   "execution_count": 24,
   "id": "a6ffe45b",
   "metadata": {},
   "outputs": [],
   "source": [
    "vectorizer = CountVectorizer() # Instance.\n",
    "df_title_vectorized = vectorizer.fit_transform(df_title[\"processed_title\"])"
   ]
  },
  {
   "cell_type": "markdown",
   "id": "583d1b8b",
   "metadata": {},
   "source": [
    "### Salvando a Matriz esparsa"
   ]
  },
  {
   "cell_type": "code",
   "execution_count": 26,
   "id": "a744a28a",
   "metadata": {},
   "outputs": [],
   "source": [
    "scipy.sparse.save_npz('df_title_vectorized.npz', df_title_vectorized)"
   ]
  },
  {
   "cell_type": "markdown",
   "id": "ea823aa8",
   "metadata": {},
   "source": [
    "---"
   ]
  },
  {
   "cell_type": "markdown",
   "id": "a29f71b0",
   "metadata": {},
   "source": [
    "## 03.3 - Pré-Processando a coluna (feature) \"FullDescription\"\n",
    ">O texto completo do anúncio de emprego, conforme fornecido pelo anunciante do emprego.\n",
    "\n",
    "**NOTE:**  \n",
    "Onde teria o salário (salary) qual foi retirado os valores da descrição para garantir que nenhuma informação de salário apareça nas descrições. Pode haver algum dano colateral aqui, pois também foi removido outros números."
   ]
  },
  {
   "cell_type": "markdown",
   "id": "922f5bd9",
   "metadata": {},
   "source": [
    "### Preparando e colocando o tipo de dado mais adequado na *coluna (feature)* \"FullDescription\":"
   ]
  },
  {
   "cell_type": "code",
   "execution_count": 27,
   "id": "6770c520",
   "metadata": {
    "scrolled": true
   },
   "outputs": [
    {
     "name": "stdout",
     "output_type": "stream",
     "text": [
      "<class 'pandas.core.frame.DataFrame'>\n",
      "RangeIndex: 244768 entries, 0 to 244767\n",
      "Data columns (total 1 columns):\n",
      " #   Column           Non-Null Count   Dtype \n",
      "---  ------           --------------   ----- \n",
      " 0   FullDescription  244768 non-null  string\n",
      "dtypes: string(1)\n",
      "memory usage: 1.9 MB\n"
     ]
    },
    {
     "data": {
      "text/html": [
       "<div>\n",
       "<style scoped>\n",
       "    .dataframe tbody tr th:only-of-type {\n",
       "        vertical-align: middle;\n",
       "    }\n",
       "\n",
       "    .dataframe tbody tr th {\n",
       "        vertical-align: top;\n",
       "    }\n",
       "\n",
       "    .dataframe thead th {\n",
       "        text-align: right;\n",
       "    }\n",
       "</style>\n",
       "<table border=\"1\" class=\"dataframe\">\n",
       "  <thead>\n",
       "    <tr style=\"text-align: right;\">\n",
       "      <th></th>\n",
       "      <th>FullDescription</th>\n",
       "    </tr>\n",
       "  </thead>\n",
       "  <tbody>\n",
       "    <tr>\n",
       "      <th>0</th>\n",
       "      <td>Engineering Systems Analyst Dorking Surrey Salary ****K Our client is located in Dorking, Surrey and are looking for Engineering Systems Analyst our client provides specialist software development Keywords Mathematical Modelling, Risk Analysis, System Modelling, Optimisation, MISER, PIONEEER Engineering Systems Analyst Dorking Surrey Salary ****K</td>\n",
       "    </tr>\n",
       "    <tr>\n",
       "      <th>1</th>\n",
       "      <td>Stress Engineer Glasgow Salary **** to **** We re currently looking for talented engineers to join our growing Glasgow team at a variety of levels. The roles are ideally suited to high calibre engineering graduates with any level of appropriate experience, so that we can give you the opportunity to use your technical skills to provide high quality input to our aerospace projects, spanning both aerostructures and aeroengines. In return, you can expect good career opportunities and the chance for advancement and personal and professional development, support while you gain Chartership and some opportunities to possibly travel or work in other offices, in or outside of the UK. The Requirements You will need to have a good engineering degree that includes structural analysis (such as aeronautical, mechanical, automotive, civil) with some experience in a professional engineering environment relevant to (but not limited to) the aerospace sector. You will need to demonstrate experience in at least one or more of the following areas: Structural/stress analysis Composite stress analysis (any industry) Linear and nonlinear finite element analysis Fatigue and damage tolerance Structural dynamics Thermal analysis Aerostructures experience You will also be expected to demonstrate the following qualities: A strong desire to progress quickly to a position of leadership Professional approach Strong communication skills, written and verbal Commercial awareness Team working, being comfortable working in international teams and self managing PLEASE NOTE SECURITY CLEARANCE IS REQUIRED FOR THIS ROLE Stress Engineer Glasgow Salary **** to ****</td>\n",
       "    </tr>\n",
       "    <tr>\n",
       "      <th>2</th>\n",
       "      <td>Mathematical Modeller / Simulation Analyst / Operational Analyst Basingstoke, Hampshire Up to ****K AAE pension contribution, private medical and dental The opportunity Our client is an independent consultancy firm which has an opportunity for a Data Analyst with 35 years experience. The role will require the successful candidate to demonstrate their ability to analyse a problem and arrive at a solution, with varying levels of data being available. Essential skills Thorough knowledge of Excel and proven ability to utilise this to create powerful decision support models Experience in Modelling and Simulation Techniques, Experience of techniques such as Discrete Event Simulation and/or SD modelling Mathematical/scientific background  minimum degree qualified Proven analytical and problem solving skills Self Starter Ability to develop solid working relationships In addition to formal qualifications and experience, the successful candidate will require excellent written and verbal communication skills, be energetic, enterprising and have a determination to succeed. They will be required to build solid working relationships, both internally with colleagues and, most importantly, externally with our clients. They must be comfortable working independently to deliver against challenging client demands. The offices are located in Basingstoke, Hampshire, but our client work for clients worldwide. The successful candidate must therefore be prepared to undertake work at client sites for short periods of time. Physics, Mathematics, Modelling, Simulation, Analytical, Operational Research, Mathematical Modelling Mathematical Modeller / Simulation Analyst / Operational Analyst Basingstoke, Hampshire ****K AAE pension contribution, private medical and dental</td>\n",
       "    </tr>\n",
       "    <tr>\n",
       "      <th>3</th>\n",
       "      <td>Engineering Systems Analyst / Mathematical Modeller. Our client is a highly successful and respected Consultancy providing specialist software development MISER, PIONEER, Maths, Mathematical, Optimisation, Risk Analysis, Asset Management, Water Industry, Access, Excel, VBA, SQL, Systems . Engineering Systems Analyst / Mathematical Modeller. Salary  ****K****K negotiable Location Dorking, Surrey</td>\n",
       "    </tr>\n",
       "    <tr>\n",
       "      <th>4</th>\n",
       "      <td>Pioneer, Miser  Engineering Systems Analyst Dorking  Surrey Salary ****K Located in Surrey, our client provides specialist software development Pioneer, Miser  Engineering Systems Analyst Dorking  Surrey Salary ****K</td>\n",
       "    </tr>\n",
       "  </tbody>\n",
       "</table>\n",
       "</div>"
      ],
      "text/plain": [
       "                                                                                                                                                                                                                                                                                                                                                                                                                                                                                                                                                                                                                                                                                                                                                                                                                                                                                                                                                                                                                                                                                                                                                                                                                                                                                                                                                                                                                                                                                                                                                                                                                                                                                                                                                                                                                               FullDescription\n",
       "0                                                                                                                                                                                                                                                                                                                                                                                                                                                                                                                                                                                                                                                                                                                                                                                                                                                                                                                                                                                                                                                                                                                                                                                                                                                                                                                                                                                                                                                                                 Engineering Systems Analyst Dorking Surrey Salary ****K Our client is located in Dorking, Surrey and are looking for Engineering Systems Analyst our client provides specialist software development Keywords Mathematical Modelling, Risk Analysis, System Modelling, Optimisation, MISER, PIONEEER Engineering Systems Analyst Dorking Surrey Salary ****K\n",
       "1                                                                                                                            Stress Engineer Glasgow Salary **** to **** We re currently looking for talented engineers to join our growing Glasgow team at a variety of levels. The roles are ideally suited to high calibre engineering graduates with any level of appropriate experience, so that we can give you the opportunity to use your technical skills to provide high quality input to our aerospace projects, spanning both aerostructures and aeroengines. In return, you can expect good career opportunities and the chance for advancement and personal and professional development, support while you gain Chartership and some opportunities to possibly travel or work in other offices, in or outside of the UK. The Requirements You will need to have a good engineering degree that includes structural analysis (such as aeronautical, mechanical, automotive, civil) with some experience in a professional engineering environment relevant to (but not limited to) the aerospace sector. You will need to demonstrate experience in at least one or more of the following areas: Structural/stress analysis Composite stress analysis (any industry) Linear and nonlinear finite element analysis Fatigue and damage tolerance Structural dynamics Thermal analysis Aerostructures experience You will also be expected to demonstrate the following qualities: A strong desire to progress quickly to a position of leadership Professional approach Strong communication skills, written and verbal Commercial awareness Team working, being comfortable working in international teams and self managing PLEASE NOTE SECURITY CLEARANCE IS REQUIRED FOR THIS ROLE Stress Engineer Glasgow Salary **** to ****\n",
       "2  Mathematical Modeller / Simulation Analyst / Operational Analyst Basingstoke, Hampshire Up to ****K AAE pension contribution, private medical and dental The opportunity Our client is an independent consultancy firm which has an opportunity for a Data Analyst with 35 years experience. The role will require the successful candidate to demonstrate their ability to analyse a problem and arrive at a solution, with varying levels of data being available. Essential skills Thorough knowledge of Excel and proven ability to utilise this to create powerful decision support models Experience in Modelling and Simulation Techniques, Experience of techniques such as Discrete Event Simulation and/or SD modelling Mathematical/scientific background  minimum degree qualified Proven analytical and problem solving skills Self Starter Ability to develop solid working relationships In addition to formal qualifications and experience, the successful candidate will require excellent written and verbal communication skills, be energetic, enterprising and have a determination to succeed. They will be required to build solid working relationships, both internally with colleagues and, most importantly, externally with our clients. They must be comfortable working independently to deliver against challenging client demands. The offices are located in Basingstoke, Hampshire, but our client work for clients worldwide. The successful candidate must therefore be prepared to undertake work at client sites for short periods of time. Physics, Mathematics, Modelling, Simulation, Analytical, Operational Research, Mathematical Modelling Mathematical Modeller / Simulation Analyst / Operational Analyst Basingstoke, Hampshire ****K AAE pension contribution, private medical and dental\n",
       "3                                                                                                                                                                                                                                                                                                                                                                                                                                                                                                                                                                                                                                                                                                                                                                                                                                                                                                                                                                                                                                                                                                                                                                                                                                                                                                                                                                                                                                Engineering Systems Analyst / Mathematical Modeller. Our client is a highly successful and respected Consultancy providing specialist software development MISER, PIONEER, Maths, Mathematical, Optimisation, Risk Analysis, Asset Management, Water Industry, Access, Excel, VBA, SQL, Systems . Engineering Systems Analyst / Mathematical Modeller. Salary  ****K****K negotiable Location Dorking, Surrey\n",
       "4                                                                                                                                                                                                                                                                                                                                                                                                                                                                                                                                                                                                                                                                                                                                                                                                                                                                                                                                                                                                                                                                                                                                                                                                                                                                                                                                                                                                                                                                                                                                                                                                                     Pioneer, Miser  Engineering Systems Analyst Dorking  Surrey Salary ****K Located in Surrey, our client provides specialist software development Pioneer, Miser  Engineering Systems Analyst Dorking  Surrey Salary ****K"
      ]
     },
     "execution_count": 27,
     "metadata": {},
     "output_type": "execute_result"
    }
   ],
   "source": [
    "df_FullDescription = full_df[[\"FullDescription\"]]\n",
    "df_FullDescription = df_FullDescription.astype({'FullDescription': 'string'})\n",
    "df_FullDescription.info()\n",
    "df_FullDescription.head()"
   ]
  },
  {
   "cell_type": "markdown",
   "id": "a223dbd4",
   "metadata": {},
   "source": [
    "### Verificando quanto porcento (%) dos dados são ausentes (missing):"
   ]
  },
  {
   "cell_type": "code",
   "execution_count": 28,
   "id": "6d8e5b08",
   "metadata": {},
   "outputs": [
    {
     "data": {
      "text/plain": [
       "FullDescription    0\n",
       "dtype: int64"
      ]
     },
     "execution_count": 28,
     "metadata": {},
     "output_type": "execute_result"
    }
   ],
   "source": [
    "# Data missing sum.\n",
    "missing = df_FullDescription.isnull().sum()\n",
    "missing"
   ]
  },
  {
   "cell_type": "code",
   "execution_count": 29,
   "id": "56a0dde7",
   "metadata": {},
   "outputs": [
    {
     "data": {
      "text/plain": [
       "FullDescription    0.0\n",
       "dtype: float64"
      ]
     },
     "execution_count": 29,
     "metadata": {},
     "output_type": "execute_result"
    }
   ],
   "source": [
    "# Data missing in percent.\n",
    "percentMissing = (missing / len(df_FullDescription.index)) * 100\n",
    "percentMissing"
   ]
  },
  {
   "cell_type": "markdown",
   "id": "dadd4a0a",
   "metadata": {},
   "source": [
    "### Aplicando Lower Casing:"
   ]
  },
  {
   "cell_type": "code",
   "execution_count": 30,
   "id": "0d4349bf",
   "metadata": {},
   "outputs": [
    {
     "data": {
      "text/html": [
       "<div>\n",
       "<style scoped>\n",
       "    .dataframe tbody tr th:only-of-type {\n",
       "        vertical-align: middle;\n",
       "    }\n",
       "\n",
       "    .dataframe tbody tr th {\n",
       "        vertical-align: top;\n",
       "    }\n",
       "\n",
       "    .dataframe thead th {\n",
       "        text-align: right;\n",
       "    }\n",
       "</style>\n",
       "<table border=\"1\" class=\"dataframe\">\n",
       "  <thead>\n",
       "    <tr style=\"text-align: right;\">\n",
       "      <th></th>\n",
       "      <th>FullDescription</th>\n",
       "      <th>processed_FullDescription</th>\n",
       "    </tr>\n",
       "  </thead>\n",
       "  <tbody>\n",
       "    <tr>\n",
       "      <th>0</th>\n",
       "      <td>Engineering Systems Analyst Dorking Surrey Salary ****K Our client is located in Dorking, Surrey and are looking for Engineering Systems Analyst our client provides specialist software development Keywords Mathematical Modelling, Risk Analysis, System Modelling, Optimisation, MISER, PIONEEER Engineering Systems Analyst Dorking Surrey Salary ****K</td>\n",
       "      <td>engineering systems analyst dorking surrey salary ****k our client is located in dorking, surrey and are looking for engineering systems analyst our client provides specialist software development keywords mathematical modelling, risk analysis, system modelling, optimisation, miser, pioneeer engineering systems analyst dorking surrey salary ****k</td>\n",
       "    </tr>\n",
       "    <tr>\n",
       "      <th>1</th>\n",
       "      <td>Stress Engineer Glasgow Salary **** to **** We re currently looking for talented engineers to join our growing Glasgow team at a variety of levels. The roles are ideally suited to high calibre engineering graduates with any level of appropriate experience, so that we can give you the opportunity to use your technical skills to provide high quality input to our aerospace projects, spanning both aerostructures and aeroengines. In return, you can expect good career opportunities and the chance for advancement and personal and professional development, support while you gain Chartership and some opportunities to possibly travel or work in other offices, in or outside of the UK. The Requirements You will need to have a good engineering degree that includes structural analysis (such as aeronautical, mechanical, automotive, civil) with some experience in a professional engineering environment relevant to (but not limited to) the aerospace sector. You will need to demonstrate experience in at least one or more of the following areas: Structural/stress analysis Composite stress analysis (any industry) Linear and nonlinear finite element analysis Fatigue and damage tolerance Structural dynamics Thermal analysis Aerostructures experience You will also be expected to demonstrate the following qualities: A strong desire to progress quickly to a position of leadership Professional approach Strong communication skills, written and verbal Commercial awareness Team working, being comfortable working in international teams and self managing PLEASE NOTE SECURITY CLEARANCE IS REQUIRED FOR THIS ROLE Stress Engineer Glasgow Salary **** to ****</td>\n",
       "      <td>stress engineer glasgow salary **** to **** we re currently looking for talented engineers to join our growing glasgow team at a variety of levels. the roles are ideally suited to high calibre engineering graduates with any level of appropriate experience, so that we can give you the opportunity to use your technical skills to provide high quality input to our aerospace projects, spanning both aerostructures and aeroengines. in return, you can expect good career opportunities and the chance for advancement and personal and professional development, support while you gain chartership and some opportunities to possibly travel or work in other offices, in or outside of the uk. the requirements you will need to have a good engineering degree that includes structural analysis (such as aeronautical, mechanical, automotive, civil) with some experience in a professional engineering environment relevant to (but not limited to) the aerospace sector. you will need to demonstrate experience in at least one or more of the following areas: structural/stress analysis composite stress analysis (any industry) linear and nonlinear finite element analysis fatigue and damage tolerance structural dynamics thermal analysis aerostructures experience you will also be expected to demonstrate the following qualities: a strong desire to progress quickly to a position of leadership professional approach strong communication skills, written and verbal commercial awareness team working, being comfortable working in international teams and self managing please note security clearance is required for this role stress engineer glasgow salary **** to ****</td>\n",
       "    </tr>\n",
       "    <tr>\n",
       "      <th>2</th>\n",
       "      <td>Mathematical Modeller / Simulation Analyst / Operational Analyst Basingstoke, Hampshire Up to ****K AAE pension contribution, private medical and dental The opportunity Our client is an independent consultancy firm which has an opportunity for a Data Analyst with 35 years experience. The role will require the successful candidate to demonstrate their ability to analyse a problem and arrive at a solution, with varying levels of data being available. Essential skills Thorough knowledge of Excel and proven ability to utilise this to create powerful decision support models Experience in Modelling and Simulation Techniques, Experience of techniques such as Discrete Event Simulation and/or SD modelling Mathematical/scientific background  minimum degree qualified Proven analytical and problem solving skills Self Starter Ability to develop solid working relationships In addition to formal qualifications and experience, the successful candidate will require excellent written and verbal communication skills, be energetic, enterprising and have a determination to succeed. They will be required to build solid working relationships, both internally with colleagues and, most importantly, externally with our clients. They must be comfortable working independently to deliver against challenging client demands. The offices are located in Basingstoke, Hampshire, but our client work for clients worldwide. The successful candidate must therefore be prepared to undertake work at client sites for short periods of time. Physics, Mathematics, Modelling, Simulation, Analytical, Operational Research, Mathematical Modelling Mathematical Modeller / Simulation Analyst / Operational Analyst Basingstoke, Hampshire ****K AAE pension contribution, private medical and dental</td>\n",
       "      <td>mathematical modeller / simulation analyst / operational analyst basingstoke, hampshire up to ****k aae pension contribution, private medical and dental the opportunity our client is an independent consultancy firm which has an opportunity for a data analyst with 35 years experience. the role will require the successful candidate to demonstrate their ability to analyse a problem and arrive at a solution, with varying levels of data being available. essential skills thorough knowledge of excel and proven ability to utilise this to create powerful decision support models experience in modelling and simulation techniques, experience of techniques such as discrete event simulation and/or sd modelling mathematical/scientific background  minimum degree qualified proven analytical and problem solving skills self starter ability to develop solid working relationships in addition to formal qualifications and experience, the successful candidate will require excellent written and verbal communication skills, be energetic, enterprising and have a determination to succeed. they will be required to build solid working relationships, both internally with colleagues and, most importantly, externally with our clients. they must be comfortable working independently to deliver against challenging client demands. the offices are located in basingstoke, hampshire, but our client work for clients worldwide. the successful candidate must therefore be prepared to undertake work at client sites for short periods of time. physics, mathematics, modelling, simulation, analytical, operational research, mathematical modelling mathematical modeller / simulation analyst / operational analyst basingstoke, hampshire ****k aae pension contribution, private medical and dental</td>\n",
       "    </tr>\n",
       "    <tr>\n",
       "      <th>3</th>\n",
       "      <td>Engineering Systems Analyst / Mathematical Modeller. Our client is a highly successful and respected Consultancy providing specialist software development MISER, PIONEER, Maths, Mathematical, Optimisation, Risk Analysis, Asset Management, Water Industry, Access, Excel, VBA, SQL, Systems . Engineering Systems Analyst / Mathematical Modeller. Salary  ****K****K negotiable Location Dorking, Surrey</td>\n",
       "      <td>engineering systems analyst / mathematical modeller. our client is a highly successful and respected consultancy providing specialist software development miser, pioneer, maths, mathematical, optimisation, risk analysis, asset management, water industry, access, excel, vba, sql, systems . engineering systems analyst / mathematical modeller. salary  ****k****k negotiable location dorking, surrey</td>\n",
       "    </tr>\n",
       "    <tr>\n",
       "      <th>4</th>\n",
       "      <td>Pioneer, Miser  Engineering Systems Analyst Dorking  Surrey Salary ****K Located in Surrey, our client provides specialist software development Pioneer, Miser  Engineering Systems Analyst Dorking  Surrey Salary ****K</td>\n",
       "      <td>pioneer, miser  engineering systems analyst dorking  surrey salary ****k located in surrey, our client provides specialist software development pioneer, miser  engineering systems analyst dorking  surrey salary ****k</td>\n",
       "    </tr>\n",
       "  </tbody>\n",
       "</table>\n",
       "</div>"
      ],
      "text/plain": [
       "                                                                                                                                                                                                                                                                                                                                                                                                                                                                                                                                                                                                                                                                                                                                                                                                                                                                                                                                                                                                                                                                                                                                                                                                                                                                                                                                                                                                                                                                                                                                                                                                                                                                                                                                                                                                                               FullDescription  \\\n",
       "0                                                                                                                                                                                                                                                                                                                                                                                                                                                                                                                                                                                                                                                                                                                                                                                                                                                                                                                                                                                                                                                                                                                                                                                                                                                                                                                                                                                                                                                                                 Engineering Systems Analyst Dorking Surrey Salary ****K Our client is located in Dorking, Surrey and are looking for Engineering Systems Analyst our client provides specialist software development Keywords Mathematical Modelling, Risk Analysis, System Modelling, Optimisation, MISER, PIONEEER Engineering Systems Analyst Dorking Surrey Salary ****K   \n",
       "1                                                                                                                            Stress Engineer Glasgow Salary **** to **** We re currently looking for talented engineers to join our growing Glasgow team at a variety of levels. The roles are ideally suited to high calibre engineering graduates with any level of appropriate experience, so that we can give you the opportunity to use your technical skills to provide high quality input to our aerospace projects, spanning both aerostructures and aeroengines. In return, you can expect good career opportunities and the chance for advancement and personal and professional development, support while you gain Chartership and some opportunities to possibly travel or work in other offices, in or outside of the UK. The Requirements You will need to have a good engineering degree that includes structural analysis (such as aeronautical, mechanical, automotive, civil) with some experience in a professional engineering environment relevant to (but not limited to) the aerospace sector. You will need to demonstrate experience in at least one or more of the following areas: Structural/stress analysis Composite stress analysis (any industry) Linear and nonlinear finite element analysis Fatigue and damage tolerance Structural dynamics Thermal analysis Aerostructures experience You will also be expected to demonstrate the following qualities: A strong desire to progress quickly to a position of leadership Professional approach Strong communication skills, written and verbal Commercial awareness Team working, being comfortable working in international teams and self managing PLEASE NOTE SECURITY CLEARANCE IS REQUIRED FOR THIS ROLE Stress Engineer Glasgow Salary **** to ****   \n",
       "2  Mathematical Modeller / Simulation Analyst / Operational Analyst Basingstoke, Hampshire Up to ****K AAE pension contribution, private medical and dental The opportunity Our client is an independent consultancy firm which has an opportunity for a Data Analyst with 35 years experience. The role will require the successful candidate to demonstrate their ability to analyse a problem and arrive at a solution, with varying levels of data being available. Essential skills Thorough knowledge of Excel and proven ability to utilise this to create powerful decision support models Experience in Modelling and Simulation Techniques, Experience of techniques such as Discrete Event Simulation and/or SD modelling Mathematical/scientific background  minimum degree qualified Proven analytical and problem solving skills Self Starter Ability to develop solid working relationships In addition to formal qualifications and experience, the successful candidate will require excellent written and verbal communication skills, be energetic, enterprising and have a determination to succeed. They will be required to build solid working relationships, both internally with colleagues and, most importantly, externally with our clients. They must be comfortable working independently to deliver against challenging client demands. The offices are located in Basingstoke, Hampshire, but our client work for clients worldwide. The successful candidate must therefore be prepared to undertake work at client sites for short periods of time. Physics, Mathematics, Modelling, Simulation, Analytical, Operational Research, Mathematical Modelling Mathematical Modeller / Simulation Analyst / Operational Analyst Basingstoke, Hampshire ****K AAE pension contribution, private medical and dental   \n",
       "3                                                                                                                                                                                                                                                                                                                                                                                                                                                                                                                                                                                                                                                                                                                                                                                                                                                                                                                                                                                                                                                                                                                                                                                                                                                                                                                                                                                                                                Engineering Systems Analyst / Mathematical Modeller. Our client is a highly successful and respected Consultancy providing specialist software development MISER, PIONEER, Maths, Mathematical, Optimisation, Risk Analysis, Asset Management, Water Industry, Access, Excel, VBA, SQL, Systems . Engineering Systems Analyst / Mathematical Modeller. Salary  ****K****K negotiable Location Dorking, Surrey   \n",
       "4                                                                                                                                                                                                                                                                                                                                                                                                                                                                                                                                                                                                                                                                                                                                                                                                                                                                                                                                                                                                                                                                                                                                                                                                                                                                                                                                                                                                                                                                                                                                                                                                                     Pioneer, Miser  Engineering Systems Analyst Dorking  Surrey Salary ****K Located in Surrey, our client provides specialist software development Pioneer, Miser  Engineering Systems Analyst Dorking  Surrey Salary ****K   \n",
       "\n",
       "                                                                                                                                                                                                                                                                                                                                                                                                                                                                                                                                                                                                                                                                                                                                                                                                                                                                                                                                                                                                                                                                                                                                                                                                                                                                                                                                                                                                                                                                                                                                                                                                                                                                                                                                                                                                                     processed_FullDescription  \n",
       "0                                                                                                                                                                                                                                                                                                                                                                                                                                                                                                                                                                                                                                                                                                                                                                                                                                                                                                                                                                                                                                                                                                                                                                                                                                                                                                                                                                                                                                                                                 engineering systems analyst dorking surrey salary ****k our client is located in dorking, surrey and are looking for engineering systems analyst our client provides specialist software development keywords mathematical modelling, risk analysis, system modelling, optimisation, miser, pioneeer engineering systems analyst dorking surrey salary ****k  \n",
       "1                                                                                                                            stress engineer glasgow salary **** to **** we re currently looking for talented engineers to join our growing glasgow team at a variety of levels. the roles are ideally suited to high calibre engineering graduates with any level of appropriate experience, so that we can give you the opportunity to use your technical skills to provide high quality input to our aerospace projects, spanning both aerostructures and aeroengines. in return, you can expect good career opportunities and the chance for advancement and personal and professional development, support while you gain chartership and some opportunities to possibly travel or work in other offices, in or outside of the uk. the requirements you will need to have a good engineering degree that includes structural analysis (such as aeronautical, mechanical, automotive, civil) with some experience in a professional engineering environment relevant to (but not limited to) the aerospace sector. you will need to demonstrate experience in at least one or more of the following areas: structural/stress analysis composite stress analysis (any industry) linear and nonlinear finite element analysis fatigue and damage tolerance structural dynamics thermal analysis aerostructures experience you will also be expected to demonstrate the following qualities: a strong desire to progress quickly to a position of leadership professional approach strong communication skills, written and verbal commercial awareness team working, being comfortable working in international teams and self managing please note security clearance is required for this role stress engineer glasgow salary **** to ****  \n",
       "2  mathematical modeller / simulation analyst / operational analyst basingstoke, hampshire up to ****k aae pension contribution, private medical and dental the opportunity our client is an independent consultancy firm which has an opportunity for a data analyst with 35 years experience. the role will require the successful candidate to demonstrate their ability to analyse a problem and arrive at a solution, with varying levels of data being available. essential skills thorough knowledge of excel and proven ability to utilise this to create powerful decision support models experience in modelling and simulation techniques, experience of techniques such as discrete event simulation and/or sd modelling mathematical/scientific background  minimum degree qualified proven analytical and problem solving skills self starter ability to develop solid working relationships in addition to formal qualifications and experience, the successful candidate will require excellent written and verbal communication skills, be energetic, enterprising and have a determination to succeed. they will be required to build solid working relationships, both internally with colleagues and, most importantly, externally with our clients. they must be comfortable working independently to deliver against challenging client demands. the offices are located in basingstoke, hampshire, but our client work for clients worldwide. the successful candidate must therefore be prepared to undertake work at client sites for short periods of time. physics, mathematics, modelling, simulation, analytical, operational research, mathematical modelling mathematical modeller / simulation analyst / operational analyst basingstoke, hampshire ****k aae pension contribution, private medical and dental  \n",
       "3                                                                                                                                                                                                                                                                                                                                                                                                                                                                                                                                                                                                                                                                                                                                                                                                                                                                                                                                                                                                                                                                                                                                                                                                                                                                                                                                                                                                                                engineering systems analyst / mathematical modeller. our client is a highly successful and respected consultancy providing specialist software development miser, pioneer, maths, mathematical, optimisation, risk analysis, asset management, water industry, access, excel, vba, sql, systems . engineering systems analyst / mathematical modeller. salary  ****k****k negotiable location dorking, surrey  \n",
       "4                                                                                                                                                                                                                                                                                                                                                                                                                                                                                                                                                                                                                                                                                                                                                                                                                                                                                                                                                                                                                                                                                                                                                                                                                                                                                                                                                                                                                                                                                                                                                                                                                     pioneer, miser  engineering systems analyst dorking  surrey salary ****k located in surrey, our client provides specialist software development pioneer, miser  engineering systems analyst dorking  surrey salary ****k  "
      ]
     },
     "execution_count": 30,
     "metadata": {},
     "output_type": "execute_result"
    }
   ],
   "source": [
    "df_FullDescription[\"processed_FullDescription\"] = df_FullDescription[\"FullDescription\"].str.lower()\n",
    "df_FullDescription.head()"
   ]
  },
  {
   "cell_type": "markdown",
   "id": "a9668021",
   "metadata": {},
   "source": [
    "### Removendo URLs:"
   ]
  },
  {
   "cell_type": "code",
   "execution_count": 31,
   "id": "ab897b8f",
   "metadata": {},
   "outputs": [
    {
     "data": {
      "text/html": [
       "<div>\n",
       "<style scoped>\n",
       "    .dataframe tbody tr th:only-of-type {\n",
       "        vertical-align: middle;\n",
       "    }\n",
       "\n",
       "    .dataframe tbody tr th {\n",
       "        vertical-align: top;\n",
       "    }\n",
       "\n",
       "    .dataframe thead th {\n",
       "        text-align: right;\n",
       "    }\n",
       "</style>\n",
       "<table border=\"1\" class=\"dataframe\">\n",
       "  <thead>\n",
       "    <tr style=\"text-align: right;\">\n",
       "      <th></th>\n",
       "      <th>FullDescription</th>\n",
       "      <th>processed_FullDescription</th>\n",
       "    </tr>\n",
       "  </thead>\n",
       "  <tbody>\n",
       "    <tr>\n",
       "      <th>0</th>\n",
       "      <td>Engineering Systems Analyst Dorking Surrey Salary ****K Our client is located in Dorking, Surrey and are looking for Engineering Systems Analyst our client provides specialist software development Keywords Mathematical Modelling, Risk Analysis, System Modelling, Optimisation, MISER, PIONEEER Engineering Systems Analyst Dorking Surrey Salary ****K</td>\n",
       "      <td>engineering systems analyst dorking surrey salary ****k our client is located in dorking, surrey and are looking for engineering systems analyst our client provides specialist software development keywords mathematical modelling, risk analysis, system modelling, optimisation, miser, pioneeer engineering systems analyst dorking surrey salary ****k</td>\n",
       "    </tr>\n",
       "    <tr>\n",
       "      <th>1</th>\n",
       "      <td>Stress Engineer Glasgow Salary **** to **** We re currently looking for talented engineers to join our growing Glasgow team at a variety of levels. The roles are ideally suited to high calibre engineering graduates with any level of appropriate experience, so that we can give you the opportunity to use your technical skills to provide high quality input to our aerospace projects, spanning both aerostructures and aeroengines. In return, you can expect good career opportunities and the chance for advancement and personal and professional development, support while you gain Chartership and some opportunities to possibly travel or work in other offices, in or outside of the UK. The Requirements You will need to have a good engineering degree that includes structural analysis (such as aeronautical, mechanical, automotive, civil) with some experience in a professional engineering environment relevant to (but not limited to) the aerospace sector. You will need to demonstrate experience in at least one or more of the following areas: Structural/stress analysis Composite stress analysis (any industry) Linear and nonlinear finite element analysis Fatigue and damage tolerance Structural dynamics Thermal analysis Aerostructures experience You will also be expected to demonstrate the following qualities: A strong desire to progress quickly to a position of leadership Professional approach Strong communication skills, written and verbal Commercial awareness Team working, being comfortable working in international teams and self managing PLEASE NOTE SECURITY CLEARANCE IS REQUIRED FOR THIS ROLE Stress Engineer Glasgow Salary **** to ****</td>\n",
       "      <td>stress engineer glasgow salary **** to **** we re currently looking for talented engineers to join our growing glasgow team at a variety of levels. the roles are ideally suited to high calibre engineering graduates with any level of appropriate experience, so that we can give you the opportunity to use your technical skills to provide high quality input to our aerospace projects, spanning both aerostructures and aeroengines. in return, you can expect good career opportunities and the chance for advancement and personal and professional development, support while you gain chartership and some opportunities to possibly travel or work in other offices, in or outside of the uk. the requirements you will need to have a good engineering degree that includes structural analysis (such as aeronautical, mechanical, automotive, civil) with some experience in a professional engineering environment relevant to (but not limited to) the aerospace sector. you will need to demonstrate experience in at least one or more of the following areas: structural/stress analysis composite stress analysis (any industry) linear and nonlinear finite element analysis fatigue and damage tolerance structural dynamics thermal analysis aerostructures experience you will also be expected to demonstrate the following qualities: a strong desire to progress quickly to a position of leadership professional approach strong communication skills, written and verbal commercial awareness team working, being comfortable working in international teams and self managing please note security clearance is required for this role stress engineer glasgow salary **** to ****</td>\n",
       "    </tr>\n",
       "    <tr>\n",
       "      <th>2</th>\n",
       "      <td>Mathematical Modeller / Simulation Analyst / Operational Analyst Basingstoke, Hampshire Up to ****K AAE pension contribution, private medical and dental The opportunity Our client is an independent consultancy firm which has an opportunity for a Data Analyst with 35 years experience. The role will require the successful candidate to demonstrate their ability to analyse a problem and arrive at a solution, with varying levels of data being available. Essential skills Thorough knowledge of Excel and proven ability to utilise this to create powerful decision support models Experience in Modelling and Simulation Techniques, Experience of techniques such as Discrete Event Simulation and/or SD modelling Mathematical/scientific background  minimum degree qualified Proven analytical and problem solving skills Self Starter Ability to develop solid working relationships In addition to formal qualifications and experience, the successful candidate will require excellent written and verbal communication skills, be energetic, enterprising and have a determination to succeed. They will be required to build solid working relationships, both internally with colleagues and, most importantly, externally with our clients. They must be comfortable working independently to deliver against challenging client demands. The offices are located in Basingstoke, Hampshire, but our client work for clients worldwide. The successful candidate must therefore be prepared to undertake work at client sites for short periods of time. Physics, Mathematics, Modelling, Simulation, Analytical, Operational Research, Mathematical Modelling Mathematical Modeller / Simulation Analyst / Operational Analyst Basingstoke, Hampshire ****K AAE pension contribution, private medical and dental</td>\n",
       "      <td>mathematical modeller / simulation analyst / operational analyst basingstoke, hampshire up to ****k aae pension contribution, private medical and dental the opportunity our client is an independent consultancy firm which has an opportunity for a data analyst with 35 years experience. the role will require the successful candidate to demonstrate their ability to analyse a problem and arrive at a solution, with varying levels of data being available. essential skills thorough knowledge of excel and proven ability to utilise this to create powerful decision support models experience in modelling and simulation techniques, experience of techniques such as discrete event simulation and/or sd modelling mathematical/scientific background  minimum degree qualified proven analytical and problem solving skills self starter ability to develop solid working relationships in addition to formal qualifications and experience, the successful candidate will require excellent written and verbal communication skills, be energetic, enterprising and have a determination to succeed. they will be required to build solid working relationships, both internally with colleagues and, most importantly, externally with our clients. they must be comfortable working independently to deliver against challenging client demands. the offices are located in basingstoke, hampshire, but our client work for clients worldwide. the successful candidate must therefore be prepared to undertake work at client sites for short periods of time. physics, mathematics, modelling, simulation, analytical, operational research, mathematical modelling mathematical modeller / simulation analyst / operational analyst basingstoke, hampshire ****k aae pension contribution, private medical and dental</td>\n",
       "    </tr>\n",
       "    <tr>\n",
       "      <th>3</th>\n",
       "      <td>Engineering Systems Analyst / Mathematical Modeller. Our client is a highly successful and respected Consultancy providing specialist software development MISER, PIONEER, Maths, Mathematical, Optimisation, Risk Analysis, Asset Management, Water Industry, Access, Excel, VBA, SQL, Systems . Engineering Systems Analyst / Mathematical Modeller. Salary  ****K****K negotiable Location Dorking, Surrey</td>\n",
       "      <td>engineering systems analyst / mathematical modeller. our client is a highly successful and respected consultancy providing specialist software development miser, pioneer, maths, mathematical, optimisation, risk analysis, asset management, water industry, access, excel, vba, sql, systems . engineering systems analyst / mathematical modeller. salary  ****k****k negotiable location dorking, surrey</td>\n",
       "    </tr>\n",
       "    <tr>\n",
       "      <th>4</th>\n",
       "      <td>Pioneer, Miser  Engineering Systems Analyst Dorking  Surrey Salary ****K Located in Surrey, our client provides specialist software development Pioneer, Miser  Engineering Systems Analyst Dorking  Surrey Salary ****K</td>\n",
       "      <td>pioneer, miser  engineering systems analyst dorking  surrey salary ****k located in surrey, our client provides specialist software development pioneer, miser  engineering systems analyst dorking  surrey salary ****k</td>\n",
       "    </tr>\n",
       "  </tbody>\n",
       "</table>\n",
       "</div>"
      ],
      "text/plain": [
       "                                                                                                                                                                                                                                                                                                                                                                                                                                                                                                                                                                                                                                                                                                                                                                                                                                                                                                                                                                                                                                                                                                                                                                                                                                                                                                                                                                                                                                                                                                                                                                                                                                                                                                                                                                                                                               FullDescription  \\\n",
       "0                                                                                                                                                                                                                                                                                                                                                                                                                                                                                                                                                                                                                                                                                                                                                                                                                                                                                                                                                                                                                                                                                                                                                                                                                                                                                                                                                                                                                                                                                 Engineering Systems Analyst Dorking Surrey Salary ****K Our client is located in Dorking, Surrey and are looking for Engineering Systems Analyst our client provides specialist software development Keywords Mathematical Modelling, Risk Analysis, System Modelling, Optimisation, MISER, PIONEEER Engineering Systems Analyst Dorking Surrey Salary ****K   \n",
       "1                                                                                                                            Stress Engineer Glasgow Salary **** to **** We re currently looking for talented engineers to join our growing Glasgow team at a variety of levels. The roles are ideally suited to high calibre engineering graduates with any level of appropriate experience, so that we can give you the opportunity to use your technical skills to provide high quality input to our aerospace projects, spanning both aerostructures and aeroengines. In return, you can expect good career opportunities and the chance for advancement and personal and professional development, support while you gain Chartership and some opportunities to possibly travel or work in other offices, in or outside of the UK. The Requirements You will need to have a good engineering degree that includes structural analysis (such as aeronautical, mechanical, automotive, civil) with some experience in a professional engineering environment relevant to (but not limited to) the aerospace sector. You will need to demonstrate experience in at least one or more of the following areas: Structural/stress analysis Composite stress analysis (any industry) Linear and nonlinear finite element analysis Fatigue and damage tolerance Structural dynamics Thermal analysis Aerostructures experience You will also be expected to demonstrate the following qualities: A strong desire to progress quickly to a position of leadership Professional approach Strong communication skills, written and verbal Commercial awareness Team working, being comfortable working in international teams and self managing PLEASE NOTE SECURITY CLEARANCE IS REQUIRED FOR THIS ROLE Stress Engineer Glasgow Salary **** to ****   \n",
       "2  Mathematical Modeller / Simulation Analyst / Operational Analyst Basingstoke, Hampshire Up to ****K AAE pension contribution, private medical and dental The opportunity Our client is an independent consultancy firm which has an opportunity for a Data Analyst with 35 years experience. The role will require the successful candidate to demonstrate their ability to analyse a problem and arrive at a solution, with varying levels of data being available. Essential skills Thorough knowledge of Excel and proven ability to utilise this to create powerful decision support models Experience in Modelling and Simulation Techniques, Experience of techniques such as Discrete Event Simulation and/or SD modelling Mathematical/scientific background  minimum degree qualified Proven analytical and problem solving skills Self Starter Ability to develop solid working relationships In addition to formal qualifications and experience, the successful candidate will require excellent written and verbal communication skills, be energetic, enterprising and have a determination to succeed. They will be required to build solid working relationships, both internally with colleagues and, most importantly, externally with our clients. They must be comfortable working independently to deliver against challenging client demands. The offices are located in Basingstoke, Hampshire, but our client work for clients worldwide. The successful candidate must therefore be prepared to undertake work at client sites for short periods of time. Physics, Mathematics, Modelling, Simulation, Analytical, Operational Research, Mathematical Modelling Mathematical Modeller / Simulation Analyst / Operational Analyst Basingstoke, Hampshire ****K AAE pension contribution, private medical and dental   \n",
       "3                                                                                                                                                                                                                                                                                                                                                                                                                                                                                                                                                                                                                                                                                                                                                                                                                                                                                                                                                                                                                                                                                                                                                                                                                                                                                                                                                                                                                                Engineering Systems Analyst / Mathematical Modeller. Our client is a highly successful and respected Consultancy providing specialist software development MISER, PIONEER, Maths, Mathematical, Optimisation, Risk Analysis, Asset Management, Water Industry, Access, Excel, VBA, SQL, Systems . Engineering Systems Analyst / Mathematical Modeller. Salary  ****K****K negotiable Location Dorking, Surrey   \n",
       "4                                                                                                                                                                                                                                                                                                                                                                                                                                                                                                                                                                                                                                                                                                                                                                                                                                                                                                                                                                                                                                                                                                                                                                                                                                                                                                                                                                                                                                                                                                                                                                                                                     Pioneer, Miser  Engineering Systems Analyst Dorking  Surrey Salary ****K Located in Surrey, our client provides specialist software development Pioneer, Miser  Engineering Systems Analyst Dorking  Surrey Salary ****K   \n",
       "\n",
       "                                                                                                                                                                                                                                                                                                                                                                                                                                                                                                                                                                                                                                                                                                                                                                                                                                                                                                                                                                                                                                                                                                                                                                                                                                                                                                                                                                                                                                                                                                                                                                                                                                                                                                                                                                                                                     processed_FullDescription  \n",
       "0                                                                                                                                                                                                                                                                                                                                                                                                                                                                                                                                                                                                                                                                                                                                                                                                                                                                                                                                                                                                                                                                                                                                                                                                                                                                                                                                                                                                                                                                                 engineering systems analyst dorking surrey salary ****k our client is located in dorking, surrey and are looking for engineering systems analyst our client provides specialist software development keywords mathematical modelling, risk analysis, system modelling, optimisation, miser, pioneeer engineering systems analyst dorking surrey salary ****k  \n",
       "1                                                                                                                            stress engineer glasgow salary **** to **** we re currently looking for talented engineers to join our growing glasgow team at a variety of levels. the roles are ideally suited to high calibre engineering graduates with any level of appropriate experience, so that we can give you the opportunity to use your technical skills to provide high quality input to our aerospace projects, spanning both aerostructures and aeroengines. in return, you can expect good career opportunities and the chance for advancement and personal and professional development, support while you gain chartership and some opportunities to possibly travel or work in other offices, in or outside of the uk. the requirements you will need to have a good engineering degree that includes structural analysis (such as aeronautical, mechanical, automotive, civil) with some experience in a professional engineering environment relevant to (but not limited to) the aerospace sector. you will need to demonstrate experience in at least one or more of the following areas: structural/stress analysis composite stress analysis (any industry) linear and nonlinear finite element analysis fatigue and damage tolerance structural dynamics thermal analysis aerostructures experience you will also be expected to demonstrate the following qualities: a strong desire to progress quickly to a position of leadership professional approach strong communication skills, written and verbal commercial awareness team working, being comfortable working in international teams and self managing please note security clearance is required for this role stress engineer glasgow salary **** to ****  \n",
       "2  mathematical modeller / simulation analyst / operational analyst basingstoke, hampshire up to ****k aae pension contribution, private medical and dental the opportunity our client is an independent consultancy firm which has an opportunity for a data analyst with 35 years experience. the role will require the successful candidate to demonstrate their ability to analyse a problem and arrive at a solution, with varying levels of data being available. essential skills thorough knowledge of excel and proven ability to utilise this to create powerful decision support models experience in modelling and simulation techniques, experience of techniques such as discrete event simulation and/or sd modelling mathematical/scientific background  minimum degree qualified proven analytical and problem solving skills self starter ability to develop solid working relationships in addition to formal qualifications and experience, the successful candidate will require excellent written and verbal communication skills, be energetic, enterprising and have a determination to succeed. they will be required to build solid working relationships, both internally with colleagues and, most importantly, externally with our clients. they must be comfortable working independently to deliver against challenging client demands. the offices are located in basingstoke, hampshire, but our client work for clients worldwide. the successful candidate must therefore be prepared to undertake work at client sites for short periods of time. physics, mathematics, modelling, simulation, analytical, operational research, mathematical modelling mathematical modeller / simulation analyst / operational analyst basingstoke, hampshire ****k aae pension contribution, private medical and dental  \n",
       "3                                                                                                                                                                                                                                                                                                                                                                                                                                                                                                                                                                                                                                                                                                                                                                                                                                                                                                                                                                                                                                                                                                                                                                                                                                                                                                                                                                                                                                engineering systems analyst / mathematical modeller. our client is a highly successful and respected consultancy providing specialist software development miser, pioneer, maths, mathematical, optimisation, risk analysis, asset management, water industry, access, excel, vba, sql, systems . engineering systems analyst / mathematical modeller. salary  ****k****k negotiable location dorking, surrey  \n",
       "4                                                                                                                                                                                                                                                                                                                                                                                                                                                                                                                                                                                                                                                                                                                                                                                                                                                                                                                                                                                                                                                                                                                                                                                                                                                                                                                                                                                                                                                                                                                                                                                                                     pioneer, miser  engineering systems analyst dorking  surrey salary ****k located in surrey, our client provides specialist software development pioneer, miser  engineering systems analyst dorking  surrey salary ****k  "
      ]
     },
     "execution_count": 31,
     "metadata": {},
     "output_type": "execute_result"
    }
   ],
   "source": [
    "df_FullDescription[\"processed_FullDescription\"] = df_FullDescription[\"processed_FullDescription\"].str.replace(r'\\s*https?://\\S+(\\s+|$)', ' ', regex=True).str.strip()\n",
    "df_FullDescription.head()"
   ]
  },
  {
   "cell_type": "markdown",
   "id": "7eef1fb6",
   "metadata": {},
   "source": [
    "### Removendo pontuações:"
   ]
  },
  {
   "cell_type": "code",
   "execution_count": 32,
   "id": "76079620",
   "metadata": {
    "scrolled": true
   },
   "outputs": [
    {
     "data": {
      "text/html": [
       "<div>\n",
       "<style scoped>\n",
       "    .dataframe tbody tr th:only-of-type {\n",
       "        vertical-align: middle;\n",
       "    }\n",
       "\n",
       "    .dataframe tbody tr th {\n",
       "        vertical-align: top;\n",
       "    }\n",
       "\n",
       "    .dataframe thead th {\n",
       "        text-align: right;\n",
       "    }\n",
       "</style>\n",
       "<table border=\"1\" class=\"dataframe\">\n",
       "  <thead>\n",
       "    <tr style=\"text-align: right;\">\n",
       "      <th></th>\n",
       "      <th>FullDescription</th>\n",
       "      <th>processed_FullDescription</th>\n",
       "    </tr>\n",
       "  </thead>\n",
       "  <tbody>\n",
       "    <tr>\n",
       "      <th>0</th>\n",
       "      <td>Engineering Systems Analyst Dorking Surrey Salary ****K Our client is located in Dorking, Surrey and are looking for Engineering Systems Analyst our client provides specialist software development Keywords Mathematical Modelling, Risk Analysis, System Modelling, Optimisation, MISER, PIONEEER Engineering Systems Analyst Dorking Surrey Salary ****K</td>\n",
       "      <td>engineering systems analyst dorking surrey salary     k our client is located in dorking  surrey and are looking for engineering systems analyst our client provides specialist software development keywords mathematical modelling  risk analysis  system modelling  optimisation  miser  pioneeer engineering systems analyst dorking surrey salary     k</td>\n",
       "    </tr>\n",
       "    <tr>\n",
       "      <th>1</th>\n",
       "      <td>Stress Engineer Glasgow Salary **** to **** We re currently looking for talented engineers to join our growing Glasgow team at a variety of levels. The roles are ideally suited to high calibre engineering graduates with any level of appropriate experience, so that we can give you the opportunity to use your technical skills to provide high quality input to our aerospace projects, spanning both aerostructures and aeroengines. In return, you can expect good career opportunities and the chance for advancement and personal and professional development, support while you gain Chartership and some opportunities to possibly travel or work in other offices, in or outside of the UK. The Requirements You will need to have a good engineering degree that includes structural analysis (such as aeronautical, mechanical, automotive, civil) with some experience in a professional engineering environment relevant to (but not limited to) the aerospace sector. You will need to demonstrate experience in at least one or more of the following areas: Structural/stress analysis Composite stress analysis (any industry) Linear and nonlinear finite element analysis Fatigue and damage tolerance Structural dynamics Thermal analysis Aerostructures experience You will also be expected to demonstrate the following qualities: A strong desire to progress quickly to a position of leadership Professional approach Strong communication skills, written and verbal Commercial awareness Team working, being comfortable working in international teams and self managing PLEASE NOTE SECURITY CLEARANCE IS REQUIRED FOR THIS ROLE Stress Engineer Glasgow Salary **** to ****</td>\n",
       "      <td>stress engineer glasgow salary      to      we re currently looking for talented engineers to join our growing glasgow team at a variety of levels  the roles are ideally suited to high calibre engineering graduates with any level of appropriate experience  so that we can give you the opportunity to use your technical skills to provide high quality input to our aerospace projects  spanning both aerostructures and aeroengines  in return  you can expect good career opportunities and the chance for advancement and personal and professional development  support while you gain chartership and some opportunities to possibly travel or work in other offices  in or outside of the uk  the requirements you will need to have a good engineering degree that includes structural analysis  such as aeronautical  mechanical  automotive  civil  with some experience in a professional engineering environment relevant to  but not limited to  the aerospace sector  you will need to demonstrate experience in at least one or more of the following areas  structural stress analysis composite stress analysis  any industry  linear and nonlinear finite element analysis fatigue and damage tolerance structural dynamics thermal analysis aerostructures experience you will also be expected to demonstrate the following qualities  a strong desire to progress quickly to a position of leadership professional approach strong communication skills  written and verbal commercial awareness team working  being comfortable working in international teams and self managing please note security clearance is required for this role stress engineer glasgow salary      to</td>\n",
       "    </tr>\n",
       "    <tr>\n",
       "      <th>2</th>\n",
       "      <td>Mathematical Modeller / Simulation Analyst / Operational Analyst Basingstoke, Hampshire Up to ****K AAE pension contribution, private medical and dental The opportunity Our client is an independent consultancy firm which has an opportunity for a Data Analyst with 35 years experience. The role will require the successful candidate to demonstrate their ability to analyse a problem and arrive at a solution, with varying levels of data being available. Essential skills Thorough knowledge of Excel and proven ability to utilise this to create powerful decision support models Experience in Modelling and Simulation Techniques, Experience of techniques such as Discrete Event Simulation and/or SD modelling Mathematical/scientific background  minimum degree qualified Proven analytical and problem solving skills Self Starter Ability to develop solid working relationships In addition to formal qualifications and experience, the successful candidate will require excellent written and verbal communication skills, be energetic, enterprising and have a determination to succeed. They will be required to build solid working relationships, both internally with colleagues and, most importantly, externally with our clients. They must be comfortable working independently to deliver against challenging client demands. The offices are located in Basingstoke, Hampshire, but our client work for clients worldwide. The successful candidate must therefore be prepared to undertake work at client sites for short periods of time. Physics, Mathematics, Modelling, Simulation, Analytical, Operational Research, Mathematical Modelling Mathematical Modeller / Simulation Analyst / Operational Analyst Basingstoke, Hampshire ****K AAE pension contribution, private medical and dental</td>\n",
       "      <td>mathematical modeller   simulation analyst   operational analyst basingstoke  hampshire up to     k aae pension contribution  private medical and dental the opportunity our client is an independent consultancy firm which has an opportunity for a data analyst with 35 years experience  the role will require the successful candidate to demonstrate their ability to analyse a problem and arrive at a solution  with varying levels of data being available  essential skills thorough knowledge of excel and proven ability to utilise this to create powerful decision support models experience in modelling and simulation techniques  experience of techniques such as discrete event simulation and or sd modelling mathematical scientific background  minimum degree qualified proven analytical and problem solving skills self starter ability to develop solid working relationships in addition to formal qualifications and experience  the successful candidate will require excellent written and verbal communication skills  be energetic  enterprising and have a determination to succeed  they will be required to build solid working relationships  both internally with colleagues and  most importantly  externally with our clients  they must be comfortable working independently to deliver against challenging client demands  the offices are located in basingstoke  hampshire  but our client work for clients worldwide  the successful candidate must therefore be prepared to undertake work at client sites for short periods of time  physics  mathematics  modelling  simulation  analytical  operational research  mathematical modelling mathematical modeller   simulation analyst   operational analyst basingstoke  hampshire     k aae pension contribution  private medical and dental</td>\n",
       "    </tr>\n",
       "    <tr>\n",
       "      <th>3</th>\n",
       "      <td>Engineering Systems Analyst / Mathematical Modeller. Our client is a highly successful and respected Consultancy providing specialist software development MISER, PIONEER, Maths, Mathematical, Optimisation, Risk Analysis, Asset Management, Water Industry, Access, Excel, VBA, SQL, Systems . Engineering Systems Analyst / Mathematical Modeller. Salary  ****K****K negotiable Location Dorking, Surrey</td>\n",
       "      <td>engineering systems analyst   mathematical modeller  our client is a highly successful and respected consultancy providing specialist software development miser  pioneer  maths  mathematical  optimisation  risk analysis  asset management  water industry  access  excel  vba  sql  systems   engineering systems analyst   mathematical modeller  salary      k    k negotiable location dorking  surrey</td>\n",
       "    </tr>\n",
       "    <tr>\n",
       "      <th>4</th>\n",
       "      <td>Pioneer, Miser  Engineering Systems Analyst Dorking  Surrey Salary ****K Located in Surrey, our client provides specialist software development Pioneer, Miser  Engineering Systems Analyst Dorking  Surrey Salary ****K</td>\n",
       "      <td>pioneer  miser  engineering systems analyst dorking  surrey salary     k located in surrey  our client provides specialist software development pioneer  miser  engineering systems analyst dorking  surrey salary     k</td>\n",
       "    </tr>\n",
       "    <tr>\n",
       "      <th>5</th>\n",
       "      <td>Engineering Systems Analyst Water Industry Location: Dorking Surrey Salary: **** to **** Located in Surrey, our client provides specialist software development Systems Analysis and Software Engineering. The projects cover a wide variety of topics typically working in small teams. Our client can offer you Intellectually challenging work undertaken within a supportive environment where personal development is nurtured and rewarded. This role will be working within a small team working on the modelling of water industry asset deterioration and asset failure consequences, including the uploading of these models onto industryleading optimal asset management software Strong maths, stats and IT skills needed, Any previous experience within the Water industry would be an advantage. Candidate requirements Candidates should have a good honours degree in a numerate discipline i.e. Engineering; Mathematics; Science; Computing/Software. Candidates need to be highly qualified within Physics, Mathematics or Engineering discipline ideally First Class Degree, or **** PhD or Masters, MEng. Candidates should ideally should have a background in Technical Consultancy; Systems Analysis; Software Engineering or a Graduate level looking to develop their career. Any experience of Pioneer or Miser software would be an advantage. Key areas: Mathematical modelling, leakage management, optimisation. risk analysis. Physics, Mathematics, Engineering Engineering; Mathematics; Science; Computing/Software Pioneer or Miser Engineering Systems Analyst Water Industry Location: Dorking, Surrey Salary **** to ****</td>\n",
       "      <td>engineering systems analyst water industry location  dorking surrey salary       to      located in surrey  our client provides specialist software development systems analysis and software engineering  the projects cover a wide variety of topics typically working in small teams  our client can offer you intellectually challenging work undertaken within a supportive environment where personal development is nurtured and rewarded  this role will be working within a small team working on the modelling of water industry asset deterioration and asset failure consequences  including the uploading of these models onto industryleading optimal asset management software strong maths  stats and it skills needed  any previous experience within the water industry would be an advantage  candidate requirements candidates should have a good honours degree in a numerate discipline i e  engineering  mathematics  science  computing software  candidates need to be highly qualified within physics  mathematics or engineering discipline ideally first class degree  or      phd or masters  meng  candidates should ideally should have a background in technical consultancy  systems analysis  software engineering or a graduate level looking to develop their career  any experience of pioneer or miser software would be an advantage  key areas  mathematical modelling  leakage management  optimisation  risk analysis  physics  mathematics  engineering engineering  mathematics  science  computing software pioneer or miser engineering systems analyst water industry location  dorking  surrey salary      to</td>\n",
       "    </tr>\n",
       "    <tr>\n",
       "      <th>6</th>\n",
       "      <td>A globally renowned engineering and training company in the Oil Develop and manage both internal and external inspection plans and plan remedial and preventative maintenance work Implement, apply and update pipeline databases and spreadsheets and assist operators with projects, including project management, assurance support and procedure reviews Handle consulting, problem solving, risk assessments and presentations Be responsible for technical representation offshore Prepare proposals and tenders for clients and write reports and specifications. You will offer analysis using various types of software such as MathCAD, ABAQUS, Olga or Orcaflex. You will also present the company s technical courses and handle project management and sales and customer relationship management. For this role, you must have a minimum of 10 years experience in subsea engineering, pipelines design or construction. Background in controls, corrosion, decommissioning or structures would be an advantage. A degree in Engineering, Aeronautics, Naval Architecture, Maths, or Physics, preferably with honours is essential for this role. A full clean driving license is also required. If you are a Subsea Engineering professional with excellent design/construction skills and exposure to the Oil &amp; Gas/Subsea Engineering industry, we would love to hear from you. Send in your CV now</td>\n",
       "      <td>a globally renowned engineering and training company in the oil develop and manage both internal and external inspection plans and plan remedial and preventative maintenance work implement  apply and update pipeline databases and spreadsheets and assist operators with projects  including project management  assurance support and procedure reviews handle consulting  problem solving  risk assessments and presentations be responsible for technical representation offshore prepare proposals and tenders for clients and write reports and specifications  you will offer analysis using various types of software such as mathcad  abaqus  olga or orcaflex  you will also present the company s technical courses and handle project management and sales and customer relationship management  for this role  you must have a minimum of 10 years experience in subsea engineering  pipelines design or construction  background in controls  corrosion  decommissioning or structures would be an advantage  a degree in engineering  aeronautics  naval architecture  maths  or physics  preferably with honours is essential for this role  a full clean driving license is also required  if you are a subsea engineering professional with excellent design construction skills and exposure to the oil   gas subsea engineering industry  we would love to hear from you  send in your cv now</td>\n",
       "    </tr>\n",
       "    <tr>\n",
       "      <th>7</th>\n",
       "      <td>THIS IS A LIVE VACANCY NOT A GENERIC ADVERTISEMENT ) DO YOU WANT TO EARN UP TO ****K BASIC SALARY WITH UNCAPPED OTE, FOR A NATIONAL RECRUITER WHO ARE EXPANDING, RECRUITING AND CAN OFFER YOU JOB SECURITY ? ARE YOU AN EXPERIENCED RECRUITMENT CONSULTANT, SALES OR BUSINESS DEVELOPMENT EXECUTIVE? WHO WANTS INNOVATIVE TRAINING, GENUINE CAREER PROSPECTS WHERE ****5% OF THE MANAGEMENT TEAM ARE HOME GROWN, DYNAMIC WORKING ENVIRONMENT  BASED IN MANCHESTER(ONE OF THE TOP PERFORMING LOCATIONS IN THE UK) AND EXCELLENT EARNING POTENTIAL  UP TO 30% COMMISSION FOR ACHIEVERS Job details: Generating business for one of my clients **** specialist divisions across **** branches in the UK. Access to all the leading websites for candidate and job opportunities, over ****k annual investment why make the job harder? Full and comprehensive Administration and IT back up for every Consultant Working established bespoke database to generate opportunities with both existing and new clients. Inter division cross fertilisation, working closely with 8 professional divisions providing clients with the complete recruitment solution Corporate and HO support for national business/tenders and PSL s. Managing own desk to achieve daily, weekly and monthly targets. Person: Energy and desire to succeed, with a competitive streak that wants to beat the competition. Professional personal appearance with the ability to build sustainable business relationships. Positive mental attitude. Able to demonstrate working to and exceeding targets. Career focussed, good listening skills and a natural confidence. Naturally positive and looking for the opportunity to work for a national player who are committed to your success Recruitment experience or 2 years business to business sales experience required. Benefits: ****k  ****K basic  benefits Pension scheme. Uncapped OTE Innovative award winning training academy. Genuine career opportunities. Incentives, awards and excellent team building UK wide. IF YOU FEEL YOU HAVE THE ENERGY AND DRIVE TO SUCCEED IN A FAST PACED, DYNAMIC SALES ENVIRONMENT WITH REWARDS THEN CALL OR EMAIL FRO AN INFORMAL AND DISCREET DISCUSSION. PLEASE NOTE YOUR CV WILL NOT BE FORWARDED TO MY CLIENT WITHOUT YOUR WRITTEN AUTHORISATION. Code Blue Recruitment handle nearly **** LIVE VACANCIES, for all sectors and levels of the Recruitment industry across the whole of the UK . Positions include Junior and Trainee Consultants, Recruitment and Senior Recruitment Consultants, Team Leaders, Account Managers, Branch Managers, Sales Managers &amp; Directors. Sectors covered include Professional Recruitment such as Finance, Accountancy &amp; Banking, Legal &amp; HR, Commercial markets such as Office Support, Industrial, Driving, Hospitality &amp; Catering, the Public Sector including Medical, Care, Education, Technical markets such as I.T., Telecoms, Media, Construction, Engineering, Energy &amp; Environment, and Pharmaceutical, as well as diverse areas such as Sales Recruitment, Search, and Supply Chain</td>\n",
       "      <td>this is a live vacancy not a generic advertisement   do you want to earn up to     k basic salary with uncapped ote  for a national recruiter who are expanding  recruiting and can offer you job security   are you an experienced recruitment consultant  sales or business development executive  who wants innovative training  genuine career prospects where     5  of the management team are home grown  dynamic working environment  based in manchester one of the top performing locations in the uk  and excellent earning potential  up to 30  commission for achievers job details  generating business for one of my clients      specialist divisions across      branches in the uk  access to all the leading websites for candidate and job opportunities  over     k annual investment why make the job harder  full and comprehensive administration and it back up for every consultant working established bespoke database to generate opportunities with both existing and new clients  inter division cross fertilisation  working closely with 8 professional divisions providing clients with the complete recruitment solution corporate and ho support for national business tenders and psl s  managing own desk to achieve daily  weekly and monthly targets  person  energy and desire to succeed  with a competitive streak that wants to beat the competition  professional personal appearance with the ability to build sustainable business relationships  positive mental attitude  able to demonstrate working to and exceeding targets  career focussed  good listening skills and a natural confidence  naturally positive and looking for the opportunity to work for a national player who are committed to your success recruitment experience or 2 years business to business sales experience required  benefits      k      k basic  benefits pension scheme  uncapped ote innovative award winning training academy  genuine career opportunities  incentives  awards and excellent team building uk wide  if you feel you have the energy and drive to succeed in a fast paced  dynamic sales environment with rewards then call or email fro an informal and discreet discussion  please note your cv will not be forwarded to my client without your written authorisation  code blue recruitment handle nearly      live vacancies  for all sectors and levels of the recruitment industry across the whole of the uk   positions include junior and trainee consultants  recruitment and senior recruitment consultants  team leaders  account managers  branch managers  sales managers   directors  sectors covered include professional recruitment such as finance  accountancy   banking  legal   hr  commercial markets such as office support  industrial  driving  hospitality   catering  the public sector including medical  care  education  technical markets such as i t   telecoms  media  construction  engineering  energy   environment  and pharmaceutical  as well as diverse areas such as sales recruitment  search  and supply chain</td>\n",
       "    </tr>\n",
       "    <tr>\n",
       "      <th>8</th>\n",
       "      <td>This is an exceptional opportunity to join a construction / technical agency that hasn t shrunk in the current market one bit Our client is seeking a nononsense and highly skilled Recruiter with at least a couple of years experience under their belt. They specialise in placing highcalibre candidates both in the UK and worldwide, within blue and white collar on both a temp and perm basis. You will have a genuine servicefocus but not definately not be afraid to pick up the phone and develop new business, acting on leads and referrals like any professional should. Your matching skills should be excellent and your CVInterviewPlacement ratios should be impressive. The incentives and benefits here are excellent with the real opportunity to earn an aboveaverage basic salary and competitive commission package: Basic to ****k  car allowan Bonus to 22.5%(OTE ****k) Car Alloowance . Additional quarterly and annual bonuses Sensible &amp; Supportive atmosphere If you are looking to join a serious competitor in the marketplace who take a genuine interest in their people contact Donna Turner now, and please have your billing figures to hand Code Blue Recruitment handle nearly **** LIVE VACANCIES, for all sectors and levels of the Recruitment industry across the whole of the UK . Positions include Junior and Trainee Consultants, Recruitment and Senior Recruitment Consultants, Team Leaders, Account Managers, Branch Managers, Sales Managers &amp; Directors. Sectors covered include Professional Recruitment such as Finance, Accountancy &amp; Banking, Legal &amp; HR, Commercial markets such as Office Support, Industrial, Driving, Hospitality &amp; Catering, the Public Sector including Medical, Care, Education, Technical markets such as I.T., Telecoms, Media, Construction, Engineering, Energy &amp; Environment, and Pharmaceutical, as well as diverse areas such as Sales Recruitment, Search, and Supply Chain</td>\n",
       "      <td>this is an exceptional opportunity to join a construction   technical agency that hasn t shrunk in the current market one bit our client is seeking a nononsense and highly skilled recruiter with at least a couple of years experience under their belt  they specialise in placing highcalibre candidates both in the uk and worldwide  within blue and white collar on both a temp and perm basis  you will have a genuine servicefocus but not definately not be afraid to pick up the phone and develop new business  acting on leads and referrals like any professional should  your matching skills should be excellent and your cvinterviewplacement ratios should be impressive  the incentives and benefits here are excellent with the real opportunity to earn an aboveaverage basic salary and competitive commission package  basic to     k  car allowan bonus to 22 5  ote     k  car alloowance   additional quarterly and annual bonuses sensible   supportive atmosphere if you are looking to join a serious competitor in the marketplace who take a genuine interest in their people contact donna turner now  and please have your billing figures to hand code blue recruitment handle nearly      live vacancies  for all sectors and levels of the recruitment industry across the whole of the uk   positions include junior and trainee consultants  recruitment and senior recruitment consultants  team leaders  account managers  branch managers  sales managers   directors  sectors covered include professional recruitment such as finance  accountancy   banking  legal   hr  commercial markets such as office support  industrial  driving  hospitality   catering  the public sector including medical  care  education  technical markets such as i t   telecoms  media  construction  engineering  energy   environment  and pharmaceutical  as well as diverse areas such as sales recruitment  search  and supply chain</td>\n",
       "    </tr>\n",
       "    <tr>\n",
       "      <th>9</th>\n",
       "      <td>A subsea engineering company is looking for an experienced Subsea Cable Engineer who will be responsible for providing all issues related to cables. They will need someone who has at least 1015 years of subsea cable engineering experience with significant experience within offshore oil and gas industries. The qualified candidate will be responsible for developing new modelling methods for FEA and CFD. You will also be providing technical leadership to all staff therefore you must be an expert in problem solving and risk assessments. You must also be proactive and must have strong interpersonal skills. You must be a Chartered Engineer or working towards it the qualification. The company offers an extremely competitive salary, health care plan, training, professional membership sponsorship, and relocation package</td>\n",
       "      <td>a subsea engineering company is looking for an experienced subsea cable engineer who will be responsible for providing all issues related to cables  they will need someone who has at least 1015 years of subsea cable engineering experience with significant experience within offshore oil and gas industries  the qualified candidate will be responsible for developing new modelling methods for fea and cfd  you will also be providing technical leadership to all staff therefore you must be an expert in problem solving and risk assessments  you must also be proactive and must have strong interpersonal skills  you must be a chartered engineer or working towards it the qualification  the company offers an extremely competitive salary  health care plan  training  professional membership sponsorship  and relocation package</td>\n",
       "    </tr>\n",
       "    <tr>\n",
       "      <th>10</th>\n",
       "      <td>Are you a successful, results driven person? Are you looking to start a career in Financial Services? Are you looking for a fast paced, dynamic working environment? Our Client is proud to be an independent estate agent with an unbeatable local knowledge and reputation for excellent service. They have a mortgage advisor within each of their branches to accommodate their customer s needs. As a Trainee Mortgage Advisor, you will work closely with your team to learn and develop whilst achieving shared goals. In addition to this; You will have the determination to succeed in the Financial Services market. You will be capable of working effectively under pressure and in a target orientated environment. You will have the ability to successfully achieve your CeMap qualifications. You will be able to evaluate business at every opportunity. The company will offer a fantastic training programme as well as full funding for CeMap qualifications all within a supportive, team working environment. Once fully qualified, achievable progression thresholds are put in place with excellent earning potential. With a track record of successful sales abilities, preferably within an Estate Agency setting, suitable candidates will have: A drive and enthusiasm to work within the Financial Services market The ability to qualify applicants to advise on their purchasing abilities Excellent communication skills A professional and friendly approach Refined numerate abilities and an attention to detail A driving licence/own car Excellent computing skills You must be a self motivated, driven individual with the ability to be proactive with your own learning and development. You will have the ability to work successfully within a team whilst managing your own, individual work load. Organisational skills and a will to succeed are also a must. Belper, Ilkeston, Eastwood, Derby, Leicester, Mansfield, Melbourne, Ripley</td>\n",
       "      <td>are you a successful  results driven person  are you looking to start a career in financial services  are you looking for a fast paced  dynamic working environment  our client is proud to be an independent estate agent with an unbeatable local knowledge and reputation for excellent service  they have a mortgage advisor within each of their branches to accommodate their customer s needs  as a trainee mortgage advisor  you will work closely with your team to learn and develop whilst achieving shared goals  in addition to this  you will have the determination to succeed in the financial services market  you will be capable of working effectively under pressure and in a target orientated environment  you will have the ability to successfully achieve your cemap qualifications  you will be able to evaluate business at every opportunity  the company will offer a fantastic training programme as well as full funding for cemap qualifications all within a supportive  team working environment  once fully qualified  achievable progression thresholds are put in place with excellent earning potential  with a track record of successful sales abilities  preferably within an estate agency setting  suitable candidates will have  a drive and enthusiasm to work within the financial services market the ability to qualify applicants to advise on their purchasing abilities excellent communication skills a professional and friendly approach refined numerate abilities and an attention to detail a driving licence own car excellent computing skills you must be a self motivated  driven individual with the ability to be proactive with your own learning and development  you will have the ability to work successfully within a team whilst managing your own  individual work load  organisational skills and a will to succeed are also a must  belper  ilkeston  eastwood  derby  leicester  mansfield  melbourne  ripley</td>\n",
       "    </tr>\n",
       "    <tr>\n",
       "      <th>11</th>\n",
       "      <td>PROJECT ENGINEER PHAMACEUTICAL, c****  Excellent Benefits, Oxfordshire ****/****/mg PROJECT ENGINEER : JOB ROLE: Responsible for execution of Continuous improvement and compliance projects. Responsible too for subprojects related to introduction of new products and processes in order to meet strategic business plans.The position is jointly responsible fo reporting of designated capital and expenses (actual Vs. Plan) associated with implementation of new process equipment or modifications to Existing process equipment. PROJECT ENGINEER: KEY RESPONSIBILITIES: Manage project tasks &amp; deliverables within agreed time, cost, quality Responsbile for process equipment validation, material validation, remediation activity Maintain effectiveness of Quality System in accordance with corporate requirements Effective liaison with Engineering functions, external suppliers and regulatory bodies PROJECT ENGINEER: SKILLS, EXPERIENCE, QUALIFICATION: Proven problem solving skills to quickly implement process improvements Understanding of technical drawings, dealing with suppliers and subcontractors Experience of Project Engineering/Project Management within regulated manufacturing Working knowledge of quality/regulatory systems BSc/HNC with related experience</td>\n",
       "      <td>project engineer phamaceutical  c      excellent benefits  oxfordshire           mg project engineer   job role  responsible for execution of continuous improvement and compliance projects  responsible too for subprojects related to introduction of new products and processes in order to meet strategic business plans the position is jointly responsible fo reporting of designated capital and expenses  actual vs  plan  associated with implementation of new process equipment or modifications to existing process equipment  project engineer  key responsibilities  manage project tasks   deliverables within agreed time  cost  quality responsbile for process equipment validation  material validation  remediation activity maintain effectiveness of quality system in accordance with corporate requirements effective liaison with engineering functions  external suppliers and regulatory bodies project engineer  skills  experience  qualification  proven problem solving skills to quickly implement process improvements understanding of technical drawings  dealing with suppliers and subcontractors experience of project engineering project management within regulated manufacturing working knowledge of quality regulatory systems bsc hnc with related experience</td>\n",
       "    </tr>\n",
       "    <tr>\n",
       "      <th>12</th>\n",
       "      <td>Aerospace Senior Composite Structures Engineer Aerospace, Bristol Our client is a progressive and rapidly expanding organisation, providing high end technical and project management services to the prime aerospace sector. As the Senior Composite Structures Engineer for the aerostructures team you will be involved in some of the most challenging and exciting aerospace projects in the world. You will be expected to take full ownership of technical tasks, and to lead others in their execution. This position is ideally suited to high calibre engineering graduate with significant and appropriate post graduate experience. You will need to demonstrate a desire to be challenged and to contribute towards the success and growth of the business. In return our client offers excellent career development and a competitive reward package. The Senior Composite Structures Engineer should be qualified to degree level or above in engineering and be a recognised expert in the analysis of lightweight Composite structures. You should also have experience of leading teams to deliver effective technical solutions to time, quality and cost objectives. Aerospace industry experience would be advantageous covering aerostructures and/or aero engines. A demonstrable track record in one or more of the following technical disciplines is also required: Fatigue and damage tolerance analysis of composite laminates Static stress analysis of composite structures, including bolted and bonded joints and buckling analysis Finite element analysis of composite laminates and sandwich structures Some work outside normal office hours and national/international travel may be required. Keywords Aerospace, Composites, Structures Aerospace Senior Composite Structures Engineer Aerospace, Bristol Salary ****K****K  benefits package</td>\n",
       "      <td>aerospace senior composite structures engineer aerospace  bristol our client is a progressive and rapidly expanding organisation  providing high end technical and project management services to the prime aerospace sector  as the senior composite structures engineer for the aerostructures team you will be involved in some of the most challenging and exciting aerospace projects in the world  you will be expected to take full ownership of technical tasks  and to lead others in their execution  this position is ideally suited to high calibre engineering graduate with significant and appropriate post graduate experience  you will need to demonstrate a desire to be challenged and to contribute towards the success and growth of the business  in return our client offers excellent career development and a competitive reward package  the senior composite structures engineer should be qualified to degree level or above in engineering and be a recognised expert in the analysis of lightweight composite structures  you should also have experience of leading teams to deliver effective technical solutions to time  quality and cost objectives  aerospace industry experience would be advantageous covering aerostructures and or aero engines  a demonstrable track record in one or more of the following technical disciplines is also required  fatigue and damage tolerance analysis of composite laminates static stress analysis of composite structures  including bolted and bonded joints and buckling analysis finite element analysis of composite laminates and sandwich structures some work outside normal office hours and national international travel may be required  keywords aerospace  composites  structures aerospace senior composite structures engineer aerospace  bristol salary     k    k  benefits package</td>\n",
       "    </tr>\n",
       "    <tr>\n",
       "      <th>13</th>\n",
       "      <td>Senior Fatigue Static stress (metallic or composite) Finite element analysis. Senior Fatigue Aerospace Salary: **** to **** (dep on exp)  benefits package Located: Bristol, Avon, South West</td>\n",
       "      <td>senior fatigue static stress  metallic or composite  finite element analysis  senior fatigue aerospace salary       to       dep on exp   benefits package located  bristol  avon  south west</td>\n",
       "    </tr>\n",
       "    <tr>\n",
       "      <th>14</th>\n",
       "      <td>A well respected restaurant located in the Derby area has a Chef de Partie role available Role: A Chef de Partie who is passionate about working with all fresh produce to a high standard is required to join the brigade of chefs at an award winning restaurant.The restaurant serves **** covers at lunch with a set menu and up to **** covers in the evening for the a la carte menu, as Chef de Partie you will be expected to run a section once fully trained keeping your work space clean and tidy at all times. Requirements: All Chef de Parties applying for this role should already have fresh food experience at this level with the ability to manage a busy section.This role can offer the right candidate excellent opportunities to progress within the team. Benefits Include: Uniform Provided Meals on Duty Excellent Tips – Paid Monthly Excellent Opportunities To Progress If you are interested in this position or would like information on the other positions we are recruiting for or any temporary assignments please send your CV by clicking on the 'apply now' button below and our consultant Tony Papa will do his utmost to assist you in your search for employment. In line with the requirements of the Asylum Immigration Act **** all applicants must be eligible to live and work in the UK. Documented evidence of the eligibility will be required from candidates as part of the recruitment process. This job was originally posted as www.caterer.com/JobSeeking/ChefdePartieAwardWinningRestaurantExcellentTips_job****</td>\n",
       "      <td>a well respected restaurant located in the derby area has a chef de partie role available role  a chef de partie who is passionate about working with all fresh produce to a high standard is required to join the brigade of chefs at an award winning restaurant the restaurant serves      covers at lunch with a set menu and up to      covers in the evening for the a la carte menu  as chef de partie you will be expected to run a section once fully trained keeping your work space clean and tidy at all times  requirements  all chef de parties applying for this role should already have fresh food experience at this level with the ability to manage a busy section this role can offer the right candidate excellent opportunities to progress within the team  benefits include  uniform provided meals on duty excellent tips   paid monthly excellent opportunities to progress if you are interested in this position or would like information on the other positions we are recruiting for or any temporary assignments please send your cv by clicking on the  apply now  button below and our consultant tony papa will do his utmost to assist you in your search for employment  in line with the requirements of the asylum immigration act      all applicants must be eligible to live and work in the uk  documented evidence of the eligibility will be required from candidates as part of the recruitment process  this job was originally posted as www caterer com jobseeking chefdepartieawardwinningrestaurantexcellenttips_job</td>\n",
       "    </tr>\n",
       "    <tr>\n",
       "      <th>15</th>\n",
       "      <td>Our client are a leading supplier of precision machined, high integrity components, integrated kits of parts and complete mechanical assemblies. Due to an large increase in workload they are recruiting a Quality Engineer Reporting to the Quality Manager, the successful individual will be responsible for providing documentation to fulfil our customers quality assurance requirements on specific contracts, whilst maintaining a system of storage and retrieval for documentation. The role will also support the internal audit schedule, performing audits as required. Responsibilities include: Documentation Checking all vendor supplied documentation to ensure it complies with the requirements or Express s customer specifications. Produce accurate, legible documentation packs, in accordance with customer requirements. Quality Systems Maintain system of storage and retrieval of all associated QA documentation in accordance with ISO9001:**** Certification Ensure certificates of conformance are checked, in accordance with the C of C matrix and any applicable concessions are referenced Material Certification Verify and approve certification on receipt for conformance to customer requirements and resolve discrepancies with suppliers Non conformance Raise and submit supplier reject reports and concessions. Store all responses received in relevant databases. Internal Auditing Carry out internal audits as and when required in line with the internal audit schedule. Identify and report all nonconformances within Quality Management System, and assist in corrective actions to close them out Supplier Rejects Ensure corrective action is received for supplier rejects submitted to key suppliers The Individual: Has experience within the quality department of a related company in a similar role Ideally from a mechanical or manufacturing engineering background. Ideally be familiar with the range of processes involved in the markets of Oil Must have good communication and organisational skills Has the ability to work as part of a team or as an individual. Has the ability to be customer facing and discuss technical / quality issues with vendors and customers</td>\n",
       "      <td>our client are a leading supplier of precision machined  high integrity components  integrated kits of parts and complete mechanical assemblies  due to an large increase in workload they are recruiting a quality engineer reporting to the quality manager  the successful individual will be responsible for providing documentation to fulfil our customers quality assurance requirements on specific contracts  whilst maintaining a system of storage and retrieval for documentation  the role will also support the internal audit schedule  performing audits as required  responsibilities include  documentation checking all vendor supplied documentation to ensure it complies with the requirements or express s customer specifications  produce accurate  legible documentation packs  in accordance with customer requirements  quality systems maintain system of storage and retrieval of all associated qa documentation in accordance with iso9001      certification ensure certificates of conformance are checked  in accordance with the c of c matrix and any applicable concessions are referenced material certification verify and approve certification on receipt for conformance to customer requirements and resolve discrepancies with suppliers non conformance raise and submit supplier reject reports and concessions  store all responses received in relevant databases  internal auditing carry out internal audits as and when required in line with the internal audit schedule  identify and report all nonconformances within quality management system  and assist in corrective actions to close them out supplier rejects ensure corrective action is received for supplier rejects submitted to key suppliers the individual  has experience within the quality department of a related company in a similar role ideally from a mechanical or manufacturing engineering background  ideally be familiar with the range of processes involved in the markets of oil must have good communication and organisational skills has the ability to work as part of a team or as an individual  has the ability to be customer facing and discuss technical   quality issues with vendors and customers</td>\n",
       "    </tr>\n",
       "    <tr>\n",
       "      <th>16</th>\n",
       "      <td>A leading Subsea Engineering Company require a driven and highlyskilled Principal Controls Engineer who will provide technical work on all of the company s controlsrelated concerns and in charge of generating interest from potential clients. As a Principal Controls Engineer, you will be in charge of organising and ensuring engineering calculations, do reports, review designs, give technical assistance to all problems related to cable engineering and come up with methods for cable modelling. The successful candidate will have at least 15 years of Subsea Controls Engineering experience in the Oil and Gas industry. Preferably, you must have a degree in Engineering and a background in Subsea design, construction, installation, operation, or decommissioning and have covered almost all related Subsea Production Systems. This is a brilliant role which includes a very competitive salary package with flexible work hours to the most qualified candidates</td>\n",
       "      <td>a leading subsea engineering company require a driven and highlyskilled principal controls engineer who will provide technical work on all of the company s controlsrelated concerns and in charge of generating interest from potential clients  as a principal controls engineer  you will be in charge of organising and ensuring engineering calculations  do reports  review designs  give technical assistance to all problems related to cable engineering and come up with methods for cable modelling  the successful candidate will have at least 15 years of subsea controls engineering experience in the oil and gas industry  preferably  you must have a degree in engineering and a background in subsea design  construction  installation  operation  or decommissioning and have covered almost all related subsea production systems  this is a brilliant role which includes a very competitive salary package with flexible work hours to the most qualified candidates</td>\n",
       "    </tr>\n",
       "    <tr>\n",
       "      <th>17</th>\n",
       "      <td>A popular hotel located in Norfolk which is a very busy operation has a position available for a Chef de Partie Role: A Chef de Partie capable of coping well under pressure is required to join the kitchen team at a hotel that has an excellent reputation for offering high quality dining to its guests and has gained accreditations in the main restaurant.The busy Brasserie style restaurant regularly serves **** covers for lunch and dinner so this Chef de Partie role will require you to be organised on your section ensuring all prep is complete to the standards expected by the Head Chef before each service. Requirements: All Chef de Parties applying for this role must have a strong background with highlights previous AA Rosette experience in a high volume operation.A candidate who is self motivated and capable of working well in a busy team of chefs would be ideal for this role. Benefits Include: Uniform Provided Meals on Duty Accommodation Available Share of Tips – IRO **** Per Month Excellent Opportunities To Progress If you are interested in this position or would like information on the other positions we are recruiting for or any temporary assignments please send your CV by clicking on the 'apply now' button below and our consultant Sean Bosley will do his utmost to assist you in your search for employment. In line with the requirements of the Asylum Immigration Act **** all applicants must be eligible to live and work in the UK. Documented evidence of the eligibility will be required from candidates as part of the recruitment process. This job was originally posted as www.caterer.com/JobSeeking/ChefdePartieAwardWinningDiningLiveInShareofTips_job****</td>\n",
       "      <td>a popular hotel located in norfolk which is a very busy operation has a position available for a chef de partie role  a chef de partie capable of coping well under pressure is required to join the kitchen team at a hotel that has an excellent reputation for offering high quality dining to its guests and has gained accreditations in the main restaurant the busy brasserie style restaurant regularly serves      covers for lunch and dinner so this chef de partie role will require you to be organised on your section ensuring all prep is complete to the standards expected by the head chef before each service  requirements  all chef de parties applying for this role must have a strong background with highlights previous aa rosette experience in a high volume operation a candidate who is self motivated and capable of working well in a busy team of chefs would be ideal for this role  benefits include  uniform provided meals on duty accommodation available share of tips   iro      per month excellent opportunities to progress if you are interested in this position or would like information on the other positions we are recruiting for or any temporary assignments please send your cv by clicking on the  apply now  button below and our consultant sean bosley will do his utmost to assist you in your search for employment  in line with the requirements of the asylum immigration act      all applicants must be eligible to live and work in the uk  documented evidence of the eligibility will be required from candidates as part of the recruitment process  this job was originally posted as www caterer com jobseeking chefdepartieawardwinningdiningliveinshareoftips_job</td>\n",
       "    </tr>\n",
       "    <tr>\n",
       "      <th>18</th>\n",
       "      <td>Senior Fatigue Static stress (metallic or composite) Finite element analysis. Senior Fatigue Aerospace  ****K****K (dep on exp)  benefits package Bristol, Avon</td>\n",
       "      <td>senior fatigue static stress  metallic or composite  finite element analysis  senior fatigue aerospace      k    k  dep on exp   benefits package bristol  avon</td>\n",
       "    </tr>\n",
       "    <tr>\n",
       "      <th>19</th>\n",
       "      <td>We are currently recruiting on behalf of our client who have an exciting opportunity available for a CE Produce CE Control Panel designs  Genera Arrangements, Detail drawings, Schematics Diagrams, Interlock Diagrams for typically PLC Specification of hardware and production of parts list. Manufacturing specification. Ensure Company policies and procedures are being applied across the projects. Manage the interface between CE Communicate at all levels with both internal and external customers to meet their expectations while meeting the project budget and programme constraints. Support the Lead Engineer in the delivery of scope to budget and programme. Provide technical expertise to tenders as and when required. Provide input to the development of the CE&amp;l function and resource</td>\n",
       "      <td>we are currently recruiting on behalf of our client who have an exciting opportunity available for a ce produce ce control panel designs  genera arrangements  detail drawings  schematics diagrams  interlock diagrams for typically plc specification of hardware and production of parts list  manufacturing specification  ensure company policies and procedures are being applied across the projects  manage the interface between ce communicate at all levels with both internal and external customers to meet their expectations while meeting the project budget and programme constraints  support the lead engineer in the delivery of scope to budget and programme  provide technical expertise to tenders as and when required  provide input to the development of the ce l function and resource</td>\n",
       "    </tr>\n",
       "    <tr>\n",
       "      <th>20</th>\n",
       "      <td>Lead Engineers (Stress) Our client provide high end technical and project management services to the prime aerospace companies. Our client are now seeking a Aerospace Senior Stress Engineers to join their growing Aerospace structures teams in Bristol This position of Aerospace Stress Engineer is ideally suited to high calibre engineering graduates with significant and appropriate post graduate experience. You will be expected to take full ownership of technical tasks and to lead others in their execution. Candidates will ideally be degree qualified (min ****:****) or equivalent, and have experience of the technical leadership of projects to time, quality and cost objectives. Aerospace industry experience is an advantage however the calibre of the applicant is more important therefore applicants with Structural Analysis experience from any domain are welcomed. A demonstrable track record in one or more of the following technical disciplines: Fatigue and damage tolerance Static stress analysis (metallic or composite) Finite element analysis. Candidates must also be able to demonstrate: Technical awareness in the field of aerospace structures Effective client management and communication skills Project team leadership Commercial awareness Adaptability Innovative thinking You will need to show a willingness to work outside normal office hours on occasions and flexibility for working from the office, home and clients premises. Ideally you will also: Be pursuing Chartership through the IMechE or RAeS Lead Engineers (Stress) Location: Bristol Salary **** to ****</td>\n",
       "      <td>lead engineers  stress  our client provide high end technical and project management services to the prime aerospace companies  our client are now seeking a aerospace senior stress engineers to join their growing aerospace structures teams in bristol this position of aerospace stress engineer is ideally suited to high calibre engineering graduates with significant and appropriate post graduate experience  you will be expected to take full ownership of technical tasks and to lead others in their execution  candidates will ideally be degree qualified  min            or equivalent  and have experience of the technical leadership of projects to time  quality and cost objectives  aerospace industry experience is an advantage however the calibre of the applicant is more important therefore applicants with structural analysis experience from any domain are welcomed  a demonstrable track record in one or more of the following technical disciplines  fatigue and damage tolerance static stress analysis  metallic or composite  finite element analysis  candidates must also be able to demonstrate  technical awareness in the field of aerospace structures effective client management and communication skills project team leadership commercial awareness adaptability innovative thinking you will need to show a willingness to work outside normal office hours on occasions and flexibility for working from the office  home and clients premises  ideally you will also  be pursuing chartership through the imeche or raes lead engineers  stress  location  bristol salary      to</td>\n",
       "    </tr>\n",
       "    <tr>\n",
       "      <th>21</th>\n",
       "      <td>HOTEL AND CONFERENCE VENUE CHAIN  RELIEF CHEF DE PARTIE  SURREY  1 WEEK ASSIGNMENT  **** STAR  IMMEDIATE START  Our client on this assignment is a **** star property, part of a hotel and conference venue chain. Based in Croydon, Surrey; they are looking for a Relief Chef de Partie to assist them initially for a period of 1 week, but with a view to this being extended as the week progresses. This is a VERY busy operation, catering for C B and lunches of up to **** covers, and dinner for up to **** covers. The successful Relief Chef de Partie must be used to catering from fresh in high volume, and will be working in a team of 11 chefs. Accommodation is available on this assignment for those of you who do not live in the local area, but for those of you who do live close by, it may also be more suited to someone with their own transport as it is not walking distance to any public transport links. To apply for this position or for further information, please forward a copy of your CV to us quoting job reference TW/256 on all correspondence. Contact details: enquiriestowngatepersonnel.co.uk www.towngatepersonnel.co.uk   We value all applications, however due to the volume of response we are currently receiving, we are only able to contact candidates whose skills and experience closely match the requirements of our clients. In line with the requirements of the Asylum and Immigration Act **** all applicants must be eligible to live and work in the UK . As part of the recruitment process, you will be asked to provide documented evidence of eligibility. In line with the requirements of the Employment Agencies Act **** Towngate Personnel are prohibited from charging workseekers for work finding services. This job was originally posted as www.caterer.com/JobSeeking/ReliefChefdePartieCroydonSurreyLivein_job****</td>\n",
       "      <td>hotel and conference venue chain  relief chef de partie  surrey  1 week assignment       star  immediate start  our client on this assignment is a      star property  part of a hotel and conference venue chain  based in croydon  surrey  they are looking for a relief chef de partie to assist them initially for a period of 1 week  but with a view to this being extended as the week progresses  this is a very busy operation  catering for c b and lunches of up to      covers  and dinner for up to      covers  the successful relief chef de partie must be used to catering from fresh in high volume  and will be working in a team of 11 chefs  accommodation is available on this assignment for those of you who do not live in the local area  but for those of you who do live close by  it may also be more suited to someone with their own transport as it is not walking distance to any public transport links  to apply for this position or for further information  please forward a copy of your cv to us quoting job reference tw 256 on all correspondence  contact details  enquiriestowngatepersonnel co uk www towngatepersonnel co uk   we value all applications  however due to the volume of response we are currently receiving  we are only able to contact candidates whose skills and experience closely match the requirements of our clients  in line with the requirements of the asylum and immigration act      all applicants must be eligible to live and work in the uk   as part of the recruitment process  you will be asked to provide documented evidence of eligibility  in line with the requirements of the employment agencies act      towngate personnel are prohibited from charging workseekers for work finding services  this job was originally posted as www caterer com jobseeking reliefchefdepartiecroydonsurreylivein_job</td>\n",
       "    </tr>\n",
       "    <tr>\n",
       "      <th>22</th>\n",
       "      <td>Senior Control and Instrumentation Engineer . Reading, Berkshire. experienced C Senior Control and Instrumentation Engineer. Essential  Degree (or equivalent) in Electrical, Electronic or Control and Instrumentation Engineering or other relevant discipline. Chartered Engineer. Able to demonstrate sound technical experience. A sufficient and appropriate level of building services and controls experience gained within a client organisation, engineering consultancy or equipment supplier. Project management, including controls, planning and estimating and preparation of deliverable/work package. Desirable Working within a multidiscipline engineering team and having a general appreciation of other disciplines constraints and requirements. Nuclear safety case issues and NII site licence conditions. Building management systems. Fire detection and alarms. Telecoms. UPS. Experience of the nuclear industry. Experience of IEE Wiring Regulations 17th edition BS**** Experience of transmission (****kV) electrical plant and configuration design. Experience of distribution (up to ****kV) electrical plant and configuration design. Experience of protection and control design at Transmission and Distribution voltages. The Individual A confident and professional manner. Excellent communication skills. Ability to use initiative and demonstrate creativity. Self motivated and committed to further study. Ability to work within a team. Responsibilities Senior Controls and Instrumentation Engineer  Responsible for managing the control and instrumentation, and potentially electrical, design aspects of substation refurbishment/rekit projects and leading electrical/control aspects of major infrastructure projects from system studies and investment appraisals through to detailed design Act as Project Manager on design projects or on electrical, control and instrumentation aspects of multidisciplinary utilities infrastructure design projects. Mentoring and technical development of a team of junior engineers. Lead on the production of major bids. Cost and time control and reporting. Liaison with clients, suppliers and contractors. Specification, selection and justification of relevant equipment. Generation of Front End Engineering Design packages. Relevant equipment assessment and justification reports. Production of Commissioning Procedures. Production of Technical Specifications. Control Panel/Room Layout Reliability Assessment and C Reading, Berkshire</td>\n",
       "      <td>senior control and instrumentation engineer   reading  berkshire  experienced c senior control and instrumentation engineer  essential  degree  or equivalent  in electrical  electronic or control and instrumentation engineering or other relevant discipline  chartered engineer  able to demonstrate sound technical experience  a sufficient and appropriate level of building services and controls experience gained within a client organisation  engineering consultancy or equipment supplier  project management  including controls  planning and estimating and preparation of deliverable work package  desirable working within a multidiscipline engineering team and having a general appreciation of other disciplines constraints and requirements  nuclear safety case issues and nii site licence conditions  building management systems  fire detection and alarms  telecoms  ups  experience of the nuclear industry  experience of iee wiring regulations 17th edition bs     experience of transmission      kv  electrical plant and configuration design  experience of distribution  up to     kv  electrical plant and configuration design  experience of protection and control design at transmission and distribution voltages  the individual a confident and professional manner  excellent communication skills  ability to use initiative and demonstrate creativity  self motivated and committed to further study  ability to work within a team  responsibilities senior controls and instrumentation engineer  responsible for managing the control and instrumentation  and potentially electrical  design aspects of substation refurbishment rekit projects and leading electrical control aspects of major infrastructure projects from system studies and investment appraisals through to detailed design act as project manager on design projects or on electrical  control and instrumentation aspects of multidisciplinary utilities infrastructure design projects  mentoring and technical development of a team of junior engineers  lead on the production of major bids  cost and time control and reporting  liaison with clients  suppliers and contractors  specification  selection and justification of relevant equipment  generation of front end engineering design packages  relevant equipment assessment and justification reports  production of commissioning procedures  production of technical specifications  control panel room layout reliability assessment and c reading  berkshire</td>\n",
       "    </tr>\n",
       "    <tr>\n",
       "      <th>23</th>\n",
       "      <td>Control and Instrumentation Engineer / C Reading. Our client is seeking applications from experienced C Control and Instrumentation Engineer / C Degree (or equivalent) in Electrical, Electronic or Control and Instrumentation Engineering or other relevant discipline. Chartered Engineer. Able to demonstrate sound technical experience. A sufficient and appropriate level of building services and controls experience gained within a client organisation, engineering consultancy or equipment supplier. Project management, including controls, planning and estimating and preparation of deliverable/work package. Desirable Working within a multidiscipline engineering team and having a general appreciation of other disciplines constraints and requirements. Nuclear safety case issues and NII site licence conditions. Building management systems. Fire detection and alarms. Telecoms. UPS. Experience of the nuclear industry. Experience of IEE Wiring Regulations 17th edition BS**** Experience of transmission (****kV) electrical plant and configuration design. Experience of distribution (up to ****kV) electrical plant and configuration design. Experience of protection and control design at Transmission and Distribution voltages. The Individual Control and Instrumentation Engineer  A confident and professional manner. Excellent communication skills. Ability to use initiative and demonstrate creativity. Self motivated and committed to further study. Ability to work within a team. Responsibilities  Responsible for providing technical input into the control and instrumentation, and potentially electrical, design aspects of substation refurbishment/rekit projects and leading electrical/control aspects of major infrastructure projects from system studies and investment appraisals through to detailed design. Liaison with clients, suppliers and contractors. Provide technical input into the specification, selection and justification of relevant equipment. Generation of Front End Engineering Design packages. Provide technical input into the relevant equipment assessment and justification reports. Production of Commissioning Procedures. Production of Technical Specifications. Control and Instrumentation Engineer / C Location Reading, Berkshire</td>\n",
       "      <td>control and instrumentation engineer   c reading  our client is seeking applications from experienced c control and instrumentation engineer   c degree  or equivalent  in electrical  electronic or control and instrumentation engineering or other relevant discipline  chartered engineer  able to demonstrate sound technical experience  a sufficient and appropriate level of building services and controls experience gained within a client organisation  engineering consultancy or equipment supplier  project management  including controls  planning and estimating and preparation of deliverable work package  desirable working within a multidiscipline engineering team and having a general appreciation of other disciplines constraints and requirements  nuclear safety case issues and nii site licence conditions  building management systems  fire detection and alarms  telecoms  ups  experience of the nuclear industry  experience of iee wiring regulations 17th edition bs     experience of transmission      kv  electrical plant and configuration design  experience of distribution  up to     kv  electrical plant and configuration design  experience of protection and control design at transmission and distribution voltages  the individual control and instrumentation engineer  a confident and professional manner  excellent communication skills  ability to use initiative and demonstrate creativity  self motivated and committed to further study  ability to work within a team  responsibilities  responsible for providing technical input into the control and instrumentation  and potentially electrical  design aspects of substation refurbishment rekit projects and leading electrical control aspects of major infrastructure projects from system studies and investment appraisals through to detailed design  liaison with clients  suppliers and contractors  provide technical input into the specification  selection and justification of relevant equipment  generation of front end engineering design packages  provide technical input into the relevant equipment assessment and justification reports  production of commissioning procedures  production of technical specifications  control and instrumentation engineer   c location reading  berkshire</td>\n",
       "    </tr>\n",
       "    <tr>\n",
       "      <th>24</th>\n",
       "      <td>Electrical / ICA Engineer Industry: Environment / Environmental Restoration, Water / Watershed Management We are currently looking for an ambitious Electrical / ICA Engineer with a broadranging background in the Water industry to join our team in Epsom. This role offers a chance for an ambitious engineer to join a busy team delivering work to a variety of clients including Southern Water, Thames Water. Projects include feasibility and outline design for Southern Water as part of our Centres of Excellence framework and also the opportunity to start work on our PR**** business planning opportunities for clients including Southern Water and Thames Water. In addition to this there are a variety of opportunities to work on international projects, based in the UK, but with potential for travel abroad to the Middle East, as an example. Work is also increasing in noncore sectors such as nuclear and oil &amp; gas and there may be opportunities to work on projects within these sectors Requirements The appointed engineer must have a degree in a relevant discipline such as Electrical Engineering. Ideally applicants will be Chartered with the IET or alternative appropriate body, however we will consider candidates who are close to achieving chartership via the most appropriate route. The individual will be able to provide evidence of an ongoing programme of CPD. The individual candidate will be computer literate and able to work effectively work with the basic Microsoft suit of programmes as a minimum. Candidates must have extensive outline and detailed design experience within the Water/Wastewater Industry sector including areas such as potable water production and distribution, waste water treatment and sludge treatment and pumping systems. While we are ideally looking for a candidate with both electrical and ICA experience we are willing to consider candidates with only electrical experience. In addition, some or all of the following would be expected: experience of designing and working with LV electrical equipment (in addition HV experience is desirable), experience of working with WIMES specifications, candidates must be able to demonstrate design experience of: LV electrical design, including MCCs, distribution boards, cable systems etc, HV systems including transformers, RMU, circuit breakers, cable selection and sizing, protection coordination and grading, PLC and SCADA systems design and specification, field bus networks, building services, liaising with utility providers, concepts and requirements of DSEAR/ATEX compliance Responsibilities The role of a Electrical/ICA Engineer within the MEP business will require the individual to undertake the following duties: Project management of small and medium projects and sub projects on larger contracts, Control of budgets and project programmes under the supervision of a principal engineer, Feasibility, outline and detailed electrical and C&amp;I design work, Electrical switchgear panel/MCC specification and design, Control and instrumentation systems functional specification and design, Understanding, interpreting and responding to the needs of other engineering disciplines such as mechanical, process and civil, Production of electrical, control and instrumentation design documentation Personal Qualities Excellent interpersonal, verbal and written communication skills. Electrical / ICA Engineer Location: Epsom, Surrey Salary: **** to **** Industry: Environment / Environmental Restoration, Water / Watershed Management</td>\n",
       "      <td>electrical   ica engineer industry  environment   environmental restoration  water   watershed management we are currently looking for an ambitious electrical   ica engineer with a broadranging background in the water industry to join our team in epsom  this role offers a chance for an ambitious engineer to join a busy team delivering work to a variety of clients including southern water  thames water  projects include feasibility and outline design for southern water as part of our centres of excellence framework and also the opportunity to start work on our pr     business planning opportunities for clients including southern water and thames water  in addition to this there are a variety of opportunities to work on international projects  based in the uk  but with potential for travel abroad to the middle east  as an example  work is also increasing in noncore sectors such as nuclear and oil   gas and there may be opportunities to work on projects within these sectors requirements the appointed engineer must have a degree in a relevant discipline such as electrical engineering  ideally applicants will be chartered with the iet or alternative appropriate body  however we will consider candidates who are close to achieving chartership via the most appropriate route  the individual will be able to provide evidence of an ongoing programme of cpd  the individual candidate will be computer literate and able to work effectively work with the basic microsoft suit of programmes as a minimum  candidates must have extensive outline and detailed design experience within the water wastewater industry sector including areas such as potable water production and distribution  waste water treatment and sludge treatment and pumping systems  while we are ideally looking for a candidate with both electrical and ica experience we are willing to consider candidates with only electrical experience  in addition  some or all of the following would be expected  experience of designing and working with lv electrical equipment  in addition hv experience is desirable   experience of working with wimes specifications  candidates must be able to demonstrate design experience of  lv electrical design  including mccs  distribution boards  cable systems etc  hv systems including transformers  rmu  circuit breakers  cable selection and sizing  protection coordination and grading  plc and scada systems design and specification  field bus networks  building services  liaising with utility providers  concepts and requirements of dsear atex compliance responsibilities the role of a electrical ica engineer within the mep business will require the individual to undertake the following duties  project management of small and medium projects and sub projects on larger contracts  control of budgets and project programmes under the supervision of a principal engineer  feasibility  outline and detailed electrical and c i design work  electrical switchgear panel mcc specification and design  control and instrumentation systems functional specification and design  understanding  interpreting and responding to the needs of other engineering disciplines such as mechanical  process and civil  production of electrical  control and instrumentation design documentation personal qualities excellent interpersonal  verbal and written communication skills  electrical   ica engineer location  epsom  surrey salary       to      industry  environment   environmental restoration  water   watershed management</td>\n",
       "    </tr>\n",
       "    <tr>\n",
       "      <th>25</th>\n",
       "      <td>Pastry Chef for **** red star **** rosette hotel  **** Beautiful Victorian Country House Hotel awarded **** red stars and **** rosettes is looking for a pastry chef who is technically proficient, yet still values the art of cooking wholesome meals. As pastry chef you will be working in a brigade of around **** chefs, with complete control over the pastry section, having the ability to cook your own desserts for a restaurant that is the top 50 in the UK. If you have rosette experience, but feel that your talent is not being utilised enough, maybe this is the perfect job for you. You don't necessarily need to be at **** rosette level, but the aspiration and ability to learn is paramount  this is a well sought after position, and only the best will be considered. Set in acres of gorgeous lawn, with an acclaimed Head Chef that runs a very neat kitchen with an amazing crew, this Hotel is offering an opportunity that should not be missed. If you work to a very high standard and take real pride in your culinary skills then you could be perfect for the job. You must be the kind to pour your heart and soul into the cooking of some of the finest food around. Doing so is made easy with the fact that there is live in available for just **** per month In this fiery and passionate trade, talented pastry chefs are valued highly. As such the salary is very competitive, but more appealing is the job itself. If you really have what it takes and want to aspire to bigger and better things, and really put your mark on a kitchen that has **** red stars and **** rosette acclaim, then email to apply. Ref ****CW Consultant Chris Wilson  / **** **** Want a quick job search without the hassle of registering then paste www.clearselection.co.uk/search.php to your web browser and enjoy the experience. We are always busy and are constantly receiving new instructions from a number of different client's nationwide, which makes it good for candidates and us. In the majority of cases we have visited the client's establishment and even spent work days with them and have a very enviable reputation for finding the best for the best. If you desire a professional, honest and calm approach with the reassurance that your application will be treated confidentially if requested, we look forward to working on your behalf. Our Consultants love their jobs and its always worth trying to contact them on their mobiles in the evenings or at weekends, if you are to busy during the day. Remember if they do not contact you within **** hours, unfortunately you have not been successful in your application for this position. Clear Selection Recruitment is part of the Clear Selection Group Est. **** This job was originally posted as www.caterer.com/JobSeeking/PastryCheffor****redstar****rosettehotel****_job****</td>\n",
       "      <td>pastry chef for      red star      rosette hotel       beautiful victorian country house hotel awarded      red stars and      rosettes is looking for a pastry chef who is technically proficient  yet still values the art of cooking wholesome meals  as pastry chef you will be working in a brigade of around      chefs  with complete control over the pastry section  having the ability to cook your own desserts for a restaurant that is the top 50 in the uk  if you have rosette experience  but feel that your talent is not being utilised enough  maybe this is the perfect job for you  you don t necessarily need to be at      rosette level  but the aspiration and ability to learn is paramount  this is a well sought after position  and only the best will be considered  set in acres of gorgeous lawn  with an acclaimed head chef that runs a very neat kitchen with an amazing crew  this hotel is offering an opportunity that should not be missed  if you work to a very high standard and take real pride in your culinary skills then you could be perfect for the job  you must be the kind to pour your heart and soul into the cooking of some of the finest food around  doing so is made easy with the fact that there is live in available for just      per month in this fiery and passionate trade  talented pastry chefs are valued highly  as such the salary is very competitive  but more appealing is the job itself  if you really have what it takes and want to aspire to bigger and better things  and really put your mark on a kitchen that has      red stars and      rosette acclaim  then email to apply  ref     cw consultant chris wilson              want a quick job search without the hassle of registering then paste www clearselection co uk search php to your web browser and enjoy the experience  we are always busy and are constantly receiving new instructions from a number of different client s nationwide  which makes it good for candidates and us  in the majority of cases we have visited the client s establishment and even spent work days with them and have a very enviable reputation for finding the best for the best  if you desire a professional  honest and calm approach with the reassurance that your application will be treated confidentially if requested  we look forward to working on your behalf  our consultants love their jobs and its always worth trying to contact them on their mobiles in the evenings or at weekends  if you are to busy during the day  remember if they do not contact you within      hours  unfortunately you have not been successful in your application for this position  clear selection recruitment is part of the clear selection group est       this job was originally posted as www caterer com jobseeking pastrycheffor    redstar    rosettehotel    _job</td>\n",
       "    </tr>\n",
       "    <tr>\n",
       "      <th>26</th>\n",
       "      <td>Senior Process Engineer We are seeking applications from highly experienced Process Engineers to join our clients multidiscipline design team working on a number of exciting major projects. We are principally looking for first class engineers who have the capacity to learn and develop their skills for the nuclear industry. Our client provides a comprehensive training programme as part of its staff development, so a lack of previous industry experience need not be a barrier to high calibre candidates. This role is based at our clients offices in Reading, though work is likely to involve periods of time within the bounds of their clients premises some travel will be required. Responsibilities Responsible for managing the process engineering design / design assessment aspects for a major nuclear facility Mentoring and technical development of junior process engineers Lead on the production of major bids Cost and time control and reporting. Liaison with clients, suppliers and contractors Specification, selection and justification of Process / Process Services equipment. Generation of Front End Engineering Design packages. Process Design Substantiation, Assessment and Justification reports (DSRs, DARs and DJRs). Requirements Successful candidates will be required to undergo a security vetting process and offers of employment will be subject to relevant security clearance being granted. Essential Degree in chemical engineering or other relevant discipline. Chartered Engineer Able to demonstrate sound technical experience A sufficient and appropriate level of process design experience gained within a site operator, engineering consultancy or equipment supplier Project management, including controls, planning and estimating and preparation of deliverable/work package Desirable Experience of the nuclear, pharmaceutical, oil and gas or other highly regulated industry Experience of safety case production / design substantiation Management of contractors / specialist equipment suppliers Working within a multidiscipline engineering team and having a general appreciation of other disciplines constraints and requirements Nuclear safety case issues and NII site licence conditions Senior Process Engineer Location: Reading, Berkshire Industry: Defence security clearance is required Salary: **** to ****</td>\n",
       "      <td>senior process engineer we are seeking applications from highly experienced process engineers to join our clients multidiscipline design team working on a number of exciting major projects  we are principally looking for first class engineers who have the capacity to learn and develop their skills for the nuclear industry  our client provides a comprehensive training programme as part of its staff development  so a lack of previous industry experience need not be a barrier to high calibre candidates  this role is based at our clients offices in reading  though work is likely to involve periods of time within the bounds of their clients premises some travel will be required  responsibilities responsible for managing the process engineering design   design assessment aspects for a major nuclear facility mentoring and technical development of junior process engineers lead on the production of major bids cost and time control and reporting  liaison with clients  suppliers and contractors specification  selection and justification of process   process services equipment  generation of front end engineering design packages  process design substantiation  assessment and justification reports  dsrs  dars and djrs   requirements successful candidates will be required to undergo a security vetting process and offers of employment will be subject to relevant security clearance being granted  essential degree in chemical engineering or other relevant discipline  chartered engineer able to demonstrate sound technical experience a sufficient and appropriate level of process design experience gained within a site operator  engineering consultancy or equipment supplier project management  including controls  planning and estimating and preparation of deliverable work package desirable experience of the nuclear  pharmaceutical  oil and gas or other highly regulated industry experience of safety case production   design substantiation management of contractors   specialist equipment suppliers working within a multidiscipline engineering team and having a general appreciation of other disciplines constraints and requirements nuclear safety case issues and nii site licence conditions senior process engineer location  reading  berkshire industry  defence security clearance is required salary       to</td>\n",
       "    </tr>\n",
       "    <tr>\n",
       "      <th>27</th>\n",
       "      <td>CHEF DE PARTIE POSITION IN **** ROSETTE HOTEL N.YORKS  ****k  LIVE IN Our client is a stunning Hotel located in North Yorkshire. Serving authentic Modern British and French Cuisine in elegant surrounds, they enjoy a superb reputation in the area. This is a well organised and structured kitchen that has a stable brigade of **** who all work together to produce fantastic food using fresh local produce. Candidates will need good all round knowledge of the kitchen, be motivated and ambitious and have genuine love of food and cooking. Vacancy Details Chef de Partie Award winning operation Brigade of **** British and French food Fresh local produce Strong Head Chef A strong **** rosette operation If you are interested in this Chef de Partie vacancy then be quick as it does have an end date to the application. My details as below if you wish for more information: Consultant: Chris Wilson Ref: ****CW  / **** **** Want a quick job search without the hassle of registering then paste www.clearselection.co.uk/search.php to your web browser and enjoy the experience. We are always busy and are constantly receiving new instructions from a number of different client's nationwide, which makes it good for candidates and us. In the majority of cases we have visited the client's establishment and even spent work days with them and have a very enviable reputation for finding the best for the best. If you desire a professional, honest and calm approach with the reassurance that your application will be treated confidentially if requested, we look forward to working on your behalf. Our Consultants love their jobs and its always worth trying to contact them on their mobiles in the evenings or at weekends, if you are to busy during the day. Remember if they do not contact you within **** hours, unfortunately you have not been successful in your application for this position. Clear Selection Recruitment is part of the Clear Selection Group Est. **** This job was originally posted as www.caterer.com/JobSeeking/CHEFDEPARTIEPOSITIONIN****ROSETTEHOTELNYORKS****k_job****</td>\n",
       "      <td>chef de partie position in      rosette hotel n yorks      k  live in our client is a stunning hotel located in north yorkshire  serving authentic modern british and french cuisine in elegant surrounds  they enjoy a superb reputation in the area  this is a well organised and structured kitchen that has a stable brigade of      who all work together to produce fantastic food using fresh local produce  candidates will need good all round knowledge of the kitchen  be motivated and ambitious and have genuine love of food and cooking  vacancy details chef de partie award winning operation brigade of      british and french food fresh local produce strong head chef a strong      rosette operation if you are interested in this chef de partie vacancy then be quick as it does have an end date to the application  my details as below if you wish for more information  consultant  chris wilson ref      cw              want a quick job search without the hassle of registering then paste www clearselection co uk search php to your web browser and enjoy the experience  we are always busy and are constantly receiving new instructions from a number of different client s nationwide  which makes it good for candidates and us  in the majority of cases we have visited the client s establishment and even spent work days with them and have a very enviable reputation for finding the best for the best  if you desire a professional  honest and calm approach with the reassurance that your application will be treated confidentially if requested  we look forward to working on your behalf  our consultants love their jobs and its always worth trying to contact them on their mobiles in the evenings or at weekends  if you are to busy during the day  remember if they do not contact you within      hours  unfortunately you have not been successful in your application for this position  clear selection recruitment is part of the clear selection group est       this job was originally posted as www caterer com jobseeking chefdepartiepositionin    rosettehotelnyorks    k_job</td>\n",
       "    </tr>\n",
       "    <tr>\n",
       "      <th>28</th>\n",
       "      <td>Senior Sous Chef for **** rosette kitchen, up to ****6000 My client has a very well maintained kitchen, awarded ****AA rosettes serving fine food with a classical style using modern techniques in a **** red star hotel. The Head Chef is a very talented individual who runs a tight ship that needs another leader to join the ranks. As Senior Sous you would need to have the ability to deputise in the Head Chefs absence and ensure the quality of the kitchen does not falter. For this you would ideally have a background in ****AA rosette cooking, or be a very strong and talented chef with 2AA rosette experience. There is a live in opportunity available for very little cost, meaning no matter where you are in the UK there is nothing stopping you from making that next step in your career and working somewhere nationally recognised and acclaimed. In the top 50 Hotels in the UK, this Senior Sous Chef position is a real responsibility, so I am only looking for the strongest of candidates with a natural leadership, but still happy to take orders and learn from a senior chef. If you are serious about your food, love classical British menus with a modern twist and have what it takes to work alongside the best, creating the best then email to apply and get that job you've dreamt of for so long. Ref ****CW Consultant Chris Wilson  / **** **** Want a quick job search without the hassle of registering then paste www.clearselection.co.uk/search.php to your web browser and enjoy the experience. We are always busy and are constantly receiving new instructions from a number of different client's nationwide, which makes it good for candidates and us. In the majority of cases we have visited the client's establishment and even spent work days with them and have a very enviable reputation for finding the best for the best. If you desire a professional, honest and calm approach with the reassurance that your application will be treated confidentially if requested, we look forward to working on your behalf. Our Consultants love their jobs and its always worth trying to contact them on their mobiles in the evenings or at weekends, if you are to busy during the day. Remember if they do not contact you within **** hours, unfortunately you have not been successful in your application for this position. Clear Selection Recruitment is part of the Clear Selection Group Est. **** This job was originally posted as www.caterer.com/JobSeeking/SeniorSousCheffor****rosettekitchenupto****_job****</td>\n",
       "      <td>senior sous chef for      rosette kitchen  up to     6000 my client has a very well maintained kitchen  awarded     aa rosettes serving fine food with a classical style using modern techniques in a      red star hotel  the head chef is a very talented individual who runs a tight ship that needs another leader to join the ranks  as senior sous you would need to have the ability to deputise in the head chefs absence and ensure the quality of the kitchen does not falter  for this you would ideally have a background in     aa rosette cooking  or be a very strong and talented chef with 2aa rosette experience  there is a live in opportunity available for very little cost  meaning no matter where you are in the uk there is nothing stopping you from making that next step in your career and working somewhere nationally recognised and acclaimed  in the top 50 hotels in the uk  this senior sous chef position is a real responsibility  so i am only looking for the strongest of candidates with a natural leadership  but still happy to take orders and learn from a senior chef  if you are serious about your food  love classical british menus with a modern twist and have what it takes to work alongside the best  creating the best then email to apply and get that job you ve dreamt of for so long  ref     cw consultant chris wilson              want a quick job search without the hassle of registering then paste www clearselection co uk search php to your web browser and enjoy the experience  we are always busy and are constantly receiving new instructions from a number of different client s nationwide  which makes it good for candidates and us  in the majority of cases we have visited the client s establishment and even spent work days with them and have a very enviable reputation for finding the best for the best  if you desire a professional  honest and calm approach with the reassurance that your application will be treated confidentially if requested  we look forward to working on your behalf  our consultants love their jobs and its always worth trying to contact them on their mobiles in the evenings or at weekends  if you are to busy during the day  remember if they do not contact you within      hours  unfortunately you have not been successful in your application for this position  clear selection recruitment is part of the clear selection group est       this job was originally posted as www caterer com jobseeking seniorsouscheffor    rosettekitchenupto    _job</td>\n",
       "    </tr>\n",
       "    <tr>\n",
       "      <th>29</th>\n",
       "      <td>Senior General Manager – Funky, Cool, Casual Restaurant Concept  Flagship Site We're looking for a General Manager who wants to run large sites for a great company and make a name for themselves. The Client Their mission is to be different; serving great honest tasty food by cool laidback people in individually designed restaurants. The company has huge expansion plans in place and needs great General Managers. You are able to express yourself and bring your personality. The Role As a General Manager you will be involved with all aspects of running these restaurants; from financials to training and driving sales. The company loves new ideas and input from its Managers as the company is continuing to evolve. We need General Managers who are fun, who love people and can make the rest of their team and customers happy. Essential Skills Experience required for a General Manager •We're looking for General Managers with 1 years experience managing their own site. •You must be great with your people and able to connect with your customers •Passion and drive with a focus on customer service Rewards – General Manager •Great Salary up to ****k  Bonus •Great training and opportunities – Lots of new openings •Great company, exciting time, amazing people Please send your CV to Rory at rorybeerec.com or call on **** Due to the high number of applicants we receive sadly we cannot reply to everyone, therefore if you do not hear back from us within 5 days please assume you have been unsuccessful this time Candidate Information, General Manager All candidates must provide proof of identity and eligibility to work in the UK along with and relevant supporting qualifications. Bee Recruitment is an equal opportunities employer, a recruitment agency dedicated to recruitment in the hospitality industry. This job was originally posted as www.caterer.com/JobSeeking/GeneralManagerFunkyCoolRestaurantConceptLondon****k_job****</td>\n",
       "      <td>senior general manager   funky  cool  casual restaurant concept  flagship site we re looking for a general manager who wants to run large sites for a great company and make a name for themselves  the client their mission is to be different  serving great honest tasty food by cool laidback people in individually designed restaurants  the company has huge expansion plans in place and needs great general managers  you are able to express yourself and bring your personality  the role as a general manager you will be involved with all aspects of running these restaurants  from financials to training and driving sales  the company loves new ideas and input from its managers as the company is continuing to evolve  we need general managers who are fun  who love people and can make the rest of their team and customers happy  essential skills experience required for a general manager  we re looking for general managers with 1 years experience managing their own site   you must be great with your people and able to connect with your customers  passion and drive with a focus on customer service rewards   general manager  great salary up to     k  bonus  great training and opportunities   lots of new openings  great company  exciting time  amazing people please send your cv to rory at rorybeerec com or call on      due to the high number of applicants we receive sadly we cannot reply to everyone  therefore if you do not hear back from us within 5 days please assume you have been unsuccessful this time candidate information  general manager all candidates must provide proof of identity and eligibility to work in the uk along with and relevant supporting qualifications  bee recruitment is an equal opportunities employer  a recruitment agency dedicated to recruitment in the hospitality industry  this job was originally posted as www caterer com jobseeking generalmanagerfunkycoolrestaurantconceptlondon    k_job</td>\n",
       "    </tr>\n",
       "    <tr>\n",
       "      <th>30</th>\n",
       "      <td>Our client, a national hotel chain is seeking an experienced MICE Sales Manager to join their successful team for one of their **** properties. The hotel has approximately ****0 bedrooms and 8 conference rooms. You must live within commutable distance to Buckinghamshire, such as Berkshire, Hampshire, Oxfordshire, Hertfordshire or Middlesex. As MICE Sales and Marketing Manager you will be responsible for the proactive development of new business from the MICE corporate and leisure sectors. The MICE Sales and Marketing Manager will also develop existing accounts through the successful creation of the Sales and Marketing plan and Business Plans. As MICE Sales and Marketing Manager you will oversee the Meetings and Events team which consists of three people, and be responsible for their training and development. The MICE Sales and Marketing Manager will need to perform well under pressure and meet set targets for appointments and revenue generation. The MICE Sales and Marketing Manager role is a fantastic opportunity for an existing Sales Manager or Senior Sales Executive with people management skills. You will have previous experience in hotel sales, be flexible and friendly in your approach and able to offer support to others. This job was originally posted as www.caterer.com/JobSeeking/MICESalesandMarketingManager_job****</td>\n",
       "      <td>our client  a national hotel chain is seeking an experienced mice sales manager to join their successful team for one of their      properties  the hotel has approximately     0 bedrooms and 8 conference rooms  you must live within commutable distance to buckinghamshire  such as berkshire  hampshire  oxfordshire  hertfordshire or middlesex  as mice sales and marketing manager you will be responsible for the proactive development of new business from the mice corporate and leisure sectors  the mice sales and marketing manager will also develop existing accounts through the successful creation of the sales and marketing plan and business plans  as mice sales and marketing manager you will oversee the meetings and events team which consists of three people  and be responsible for their training and development  the mice sales and marketing manager will need to perform well under pressure and meet set targets for appointments and revenue generation  the mice sales and marketing manager role is a fantastic opportunity for an existing sales manager or senior sales executive with people management skills  you will have previous experience in hotel sales  be flexible and friendly in your approach and able to offer support to others  this job was originally posted as www caterer com jobseeking micesalesandmarketingmanager_job</td>\n",
       "    </tr>\n",
       "    <tr>\n",
       "      <th>31</th>\n",
       "      <td>A leading company that provides stock market analysis software for both the professional and private investor markets is currently in the hunt for a Junior and Senior C/C++ Software Developer. They have been working as one of the Best UK s Investment Software for the last six years and their development team is expanding to deliver exciting new products. Should you find the role interesting, kindly forward an updated CV elaborating your skills that match with the requirements along with a Cover Letter detailing why you are the right person for the role on offer Below are the job details of the said vacancy: You will be working mainly in an MS Windows environment but required to be flexible in technology with web development. You should have a good numerate Computer Science or AI Degree (at least 2:****) Strong software development and coding skills using C/C++, MFC and Visual Studio **** For the Senior Developer role it is desirable to have at least 2 years commercial C/C++ development experience. Other desirable skills Understanding of data compression techniques Interest in the financial markets and financial calculation Good working knowledge of GUI design, Windows development using MFC and Win**** HTTP, TCP/IP, sockets and network programming System administration skills would also be an advantage. If you think you have what it takes to be part of a dynamic and progressive company who values a flexible working environment, apply now</td>\n",
       "      <td>a leading company that provides stock market analysis software for both the professional and private investor markets is currently in the hunt for a junior and senior c c   software developer  they have been working as one of the best uk s investment software for the last six years and their development team is expanding to deliver exciting new products  should you find the role interesting  kindly forward an updated cv elaborating your skills that match with the requirements along with a cover letter detailing why you are the right person for the role on offer below are the job details of the said vacancy  you will be working mainly in an ms windows environment but required to be flexible in technology with web development  you should have a good numerate computer science or ai degree  at least 2       strong software development and coding skills using c c    mfc and visual studio      for the senior developer role it is desirable to have at least 2 years commercial c c   development experience  other desirable skills understanding of data compression techniques interest in the financial markets and financial calculation good working knowledge of gui design  windows development using mfc and win     http  tcp ip  sockets and network programming system administration skills would also be an advantage  if you think you have what it takes to be part of a dynamic and progressive company who values a flexible working environment  apply now</td>\n",
       "    </tr>\n",
       "    <tr>\n",
       "      <th>32</th>\n",
       "      <td>A skilled Senior PHP Developer is required by a leading provider of webbased services and clinical management software based in Central London. The role will involve working with a software architect to develop the company s core products and take over the lead development of these systems. Essential Requirements: Minimum of **** years experience in PHP Development Expertise in PHP **** and MySQL 5 Fluency in OOP Experience in Linux and Apache, Web services, multiserver platforms and cloud computing Experience in Windows/IIS PHP deployments, jQuery, Prototype and XML is desirable. If you are someone who d like to take on a new challenge, send your CV now</td>\n",
       "      <td>a skilled senior php developer is required by a leading provider of webbased services and clinical management software based in central london  the role will involve working with a software architect to develop the company s core products and take over the lead development of these systems  essential requirements  minimum of      years experience in php development expertise in php      and mysql 5 fluency in oop experience in linux and apache  web services  multiserver platforms and cloud computing experience in windows iis php deployments  jquery  prototype and xml is desirable  if you are someone who d like to take on a new challenge  send your cv now</td>\n",
       "    </tr>\n",
       "    <tr>\n",
       "      <th>33</th>\n",
       "      <td>SENIOR WEBSITE DESIGNER Location: York, East Yorkshire Type: Permanent Salary: up to ****K (DOE) One of UK s most renowned digital media company is looking to hire a Senior Website Designer to join their team of designers. The successful candidate will be responsible for designing ecommerce websites, developing client strategy with the creative director and in assisting in the development of design. Requirements: 3 years solid experience in ecommerce website design Knowledge in Information Architecture process Must have an understanding of MVT Adobe Suite knowledge also required Prior experience of working in an agency environment will be an advantage but not essential Don t miss this great and exciting opportunity to work for a leading digital media company. Send your CV now</td>\n",
       "      <td>senior website designer location  york  east yorkshire type  permanent salary  up to     k  doe  one of uk s most renowned digital media company is looking to hire a senior website designer to join their team of designers  the successful candidate will be responsible for designing ecommerce websites  developing client strategy with the creative director and in assisting in the development of design  requirements  3 years solid experience in ecommerce website design knowledge in information architecture process must have an understanding of mvt adobe suite knowledge also required prior experience of working in an agency environment will be an advantage but not essential don t miss this great and exciting opportunity to work for a leading digital media company  send your cv now</td>\n",
       "    </tr>\n",
       "    <tr>\n",
       "      <th>34</th>\n",
       "      <td>The Company: Our client are a full service, creative driven, brand &amp; digital communications agency based in Newcastle upon Tyne, specialising in on and offline brand communications and applications. Due to an ever increasing client portfolio and ambition to continue their growth, they are looking for a Business Development Manager. The Role: Reporting to the Managing Director, the Business Development Manager will be responsible for developing new design and digital business throughout the UK. Responsibilities include: Developing new business throughout the UK. Research and identify potential clients. Create and maintain good working relationships with key decision makers and influencers of potential clients. Make proactive outbound calls and emails to contact prospective clients. Maximise each sales opportunity. Attend industry events and networking events representing the company. Present to potential clients over the phone or face to face. The Individual: Will have a proven track record in business to business sales, ideally within a related field. Must be a good negotiator who can close a deal. Will have strong communication skills. Should have excellent time management and organisational skills. Ideally be self motivated individual who can motivate others. Must be commercially aware and financially motivated. Must possess good account management skills, be able to maintain relationships as well as develop them</td>\n",
       "      <td>the company  our client are a full service  creative driven  brand   digital communications agency based in newcastle upon tyne  specialising in on and offline brand communications and applications  due to an ever increasing client portfolio and ambition to continue their growth  they are looking for a business development manager  the role  reporting to the managing director  the business development manager will be responsible for developing new design and digital business throughout the uk  responsibilities include  developing new business throughout the uk  research and identify potential clients  create and maintain good working relationships with key decision makers and influencers of potential clients  make proactive outbound calls and emails to contact prospective clients  maximise each sales opportunity  attend industry events and networking events representing the company  present to potential clients over the phone or face to face  the individual  will have a proven track record in business to business sales  ideally within a related field  must be a good negotiator who can close a deal  will have strong communication skills  should have excellent time management and organisational skills  ideally be self motivated individual who can motivate others  must be commercially aware and financially motivated  must possess good account management skills  be able to maintain relationships as well as develop them</td>\n",
       "    </tr>\n",
       "    <tr>\n",
       "      <th>35</th>\n",
       "      <td>Welwyn Chef de Partie does it get any better than this? **** Rosettes, Mentioned in all major guides, Great National Press reviews and a fabulous team. My client is eager to find a talented Chef de Partie who can create exciting food using some of the best ingredients around. This Chef de Partie vacancy is about fine dining not the casual Rustic approach. Situated within easy driving distance of Welwyn this really is a superb opportunity for a Chef de Partie to flourish and excel. You will need to possess the ability to cope well under pressure, enjoy the buzz of a busy service and be a true team worker. Chef de Partie Details Country Setting Busy Operation Good Job Security Established Team Large Kitchen Team True Fresh Produce Mentioned in all the guides Modern Food Interested and ready to join a great establishment? Then please mail over your details or call me on the number below for a chat Consultant: Chris Wilson Ref: ****CW Chef de Partie Award Winning Nr Welwyn  / **** **** Want a quick job search without the hassle of registering then paste www.clearselection.co.uk/search.php to your web browser and enjoy the experience. We are always busy and are constantly receiving new instructions from a number of different client's nationwide, which makes it good for candidates and us. In the majority of cases we have visited the client's establishment and even spent work days with them and have a very enviable reputation for finding the best for the best. If you desire a professional, honest and calm approach with the reassurance that your application will be treated confidentially if requested, we look forward to working on your behalf. Our Consultants love their jobs and its always worth trying to contact them on their mobiles in the evenings or at weekends, if you are to busy during the day. Remember if they do not contact you within **** hours, unfortunately you have not been successful in your application for this position. Clear Selection Recruitment is part of the Clear Selection Group Est. **** This job was originally posted as www.caterer.com/JobSeeking/WelwynChefdePartiedoesitgetanybetterthanthis****_job****</td>\n",
       "      <td>welwyn chef de partie does it get any better than this       rosettes  mentioned in all major guides  great national press reviews and a fabulous team  my client is eager to find a talented chef de partie who can create exciting food using some of the best ingredients around  this chef de partie vacancy is about fine dining not the casual rustic approach  situated within easy driving distance of welwyn this really is a superb opportunity for a chef de partie to flourish and excel  you will need to possess the ability to cope well under pressure  enjoy the buzz of a busy service and be a true team worker  chef de partie details country setting busy operation good job security established team large kitchen team true fresh produce mentioned in all the guides modern food interested and ready to join a great establishment  then please mail over your details or call me on the number below for a chat consultant  chris wilson ref      cw chef de partie award winning nr welwyn              want a quick job search without the hassle of registering then paste www clearselection co uk search php to your web browser and enjoy the experience  we are always busy and are constantly receiving new instructions from a number of different client s nationwide  which makes it good for candidates and us  in the majority of cases we have visited the client s establishment and even spent work days with them and have a very enviable reputation for finding the best for the best  if you desire a professional  honest and calm approach with the reassurance that your application will be treated confidentially if requested  we look forward to working on your behalf  our consultants love their jobs and its always worth trying to contact them on their mobiles in the evenings or at weekends  if you are to busy during the day  remember if they do not contact you within      hours  unfortunately you have not been successful in your application for this position  clear selection recruitment is part of the clear selection group est       this job was originally posted as www caterer com jobseeking welwynchefdepartiedoesitgetanybetterthanthis    _job</td>\n",
       "    </tr>\n",
       "    <tr>\n",
       "      <th>36</th>\n",
       "      <td>Chef de Partie Sauce Award Winning Hertford **** Ready to work in a TwoRosette Restaurant and assist our client the Head Chef in producing high quality fresh food. We are seeking to find a Chef de Partie for this multi award winning Restaurant situated within **** minutes drive of Hertford, Hertfordshire. We would envisage that you will already have similar experience as a Chef De Partie or maybe you are an ambitious Demi Chef de Partie looking for your next move. You will love the pressure of producing a high standard of food, know your ingredients and be very eager to progress. For this Chef De Partie role, my client is offering sensible hours including some straight shifts and the chance to work with lots of local ingredients. Maybe you are working in an establishment that is not as successful, maybe you are working in an unprofessional environment maybe its just time for a change. Interested in this Chef de Partie vacancy and ready to join a great establishment? Then please mail over your details or call me on the number below for a chat Consultant: Chris Wilson Ref: ****CW Chef de Partie Award Winning Hertford  / **** **** Want a quick job search without the hassle of registering then paste www.clearselection.co.uk/search.php to your web browser and enjoy the experience. We are always busy and are constantly receiving new instructions from a number of different client's nationwide, which makes it good for candidates and us. In the majority of cases we have visited the client's establishment and even spent work days with them and have a very enviable reputation for finding the best for the best. If you desire a professional, honest and calm approach with the reassurance that your application will be treated confidentially if requested, we look forward to working on your behalf. Our Consultants love their jobs and its always worth trying to contact them on their mobiles in the evenings or at weekends, if you are to busy during the day. Remember if they do not contact you within **** hours, unfortunately you have not been successful in your application for this position. Clear Selection Recruitment is part of the Clear Selection Group Est. **** This job was originally posted as www.caterer.com/JobSeeking/ChefdePartieSauceAwardWinningHertford****_job****</td>\n",
       "      <td>chef de partie sauce award winning hertford      ready to work in a tworosette restaurant and assist our client the head chef in producing high quality fresh food  we are seeking to find a chef de partie for this multi award winning restaurant situated within      minutes drive of hertford  hertfordshire  we would envisage that you will already have similar experience as a chef de partie or maybe you are an ambitious demi chef de partie looking for your next move  you will love the pressure of producing a high standard of food  know your ingredients and be very eager to progress  for this chef de partie role  my client is offering sensible hours including some straight shifts and the chance to work with lots of local ingredients  maybe you are working in an establishment that is not as successful  maybe you are working in an unprofessional environment maybe its just time for a change  interested in this chef de partie vacancy and ready to join a great establishment  then please mail over your details or call me on the number below for a chat consultant  chris wilson ref      cw chef de partie award winning hertford              want a quick job search without the hassle of registering then paste www clearselection co uk search php to your web browser and enjoy the experience  we are always busy and are constantly receiving new instructions from a number of different client s nationwide  which makes it good for candidates and us  in the majority of cases we have visited the client s establishment and even spent work days with them and have a very enviable reputation for finding the best for the best  if you desire a professional  honest and calm approach with the reassurance that your application will be treated confidentially if requested  we look forward to working on your behalf  our consultants love their jobs and its always worth trying to contact them on their mobiles in the evenings or at weekends  if you are to busy during the day  remember if they do not contact you within      hours  unfortunately you have not been successful in your application for this position  clear selection recruitment is part of the clear selection group est       this job was originally posted as www caterer com jobseeking chefdepartiesauceawardwinninghertford    _job</td>\n",
       "    </tr>\n",
       "    <tr>\n",
       "      <th>37</th>\n",
       "      <td>Pastry Chef De Partie AL**** **** ****AA Rosette My client is looking for a Pastry Chef De Partie to start straight away in their ****AA rosette restaurant in a **** star hotel. Working alongside another Pastry Chef it is not necessary to have rosette experience providing you have the natural talent and ability as well as eagerness to learn. Job Specs: Pastry Chef De Partie **** out of 7 days on **** consecutive days off **** hours a week **** early, **** late, **** doubles **** cover restaurant Breakfast shift at 8am Benefits: Up to****pa Tips Life insurance Healthcare Pension Staff uniform Meals on duty Live in available The Candidate: Pastry qualified (NVQs) Preferably Pastry Chef De Partie experience (or good demi) Eager to learn Hard working Living locally or able to relocate ASAP So if you are a Pastry Chef De Partie looking for a great position working alongside an amazing bunch of colleagues then email or just call **** **** for a quick chat. Consultant: Chris Wilson Ref: ****CW Pastry Chef Stevenage  / **** **** Want a quick job search without the hassle of registering then paste www.clearselection.co.uk/search.php to your web browser and enjoy the experience. We are always busy and are constantly receiving new instructions from a number of different client's nationwide, which makes it good for candidates and us. In the majority of cases we have visited the client's establishment and even spent work days with them and have a very enviable reputation for finding the best for the best. If you desire a professional, honest and calm approach with the reassurance that your application will be treated confidentially if requested, we look forward to working on your behalf. Our Consultants love their jobs and its always worth trying to contact them on their mobiles in the evenings or at weekends, if you are to busy during the day. Remember if they do not contact you within **** hours, unfortunately you have not been successful in your application for this position. Clear Selection Recruitment is part of the Clear Selection Group Est. **** This job was originally posted as www.caterer.com/JobSeeking/PastryChefAL****AARosetteRestaurant_job****</td>\n",
       "      <td>pastry chef de partie al              aa rosette my client is looking for a pastry chef de partie to start straight away in their     aa rosette restaurant in a      star hotel  working alongside another pastry chef it is not necessary to have rosette experience providing you have the natural talent and ability as well as eagerness to learn  job specs  pastry chef de partie      out of 7 days on      consecutive days off      hours a week      early       late       doubles      cover restaurant breakfast shift at 8am benefits  up to    pa tips life insurance healthcare pension staff uniform meals on duty live in available the candidate  pastry qualified  nvqs  preferably pastry chef de partie experience  or good demi  eager to learn hard working living locally or able to relocate asap so if you are a pastry chef de partie looking for a great position working alongside an amazing bunch of colleagues then email or just call           for a quick chat  consultant  chris wilson ref      cw pastry chef stevenage              want a quick job search without the hassle of registering then paste www clearselection co uk search php to your web browser and enjoy the experience  we are always busy and are constantly receiving new instructions from a number of different client s nationwide  which makes it good for candidates and us  in the majority of cases we have visited the client s establishment and even spent work days with them and have a very enviable reputation for finding the best for the best  if you desire a professional  honest and calm approach with the reassurance that your application will be treated confidentially if requested  we look forward to working on your behalf  our consultants love their jobs and its always worth trying to contact them on their mobiles in the evenings or at weekends  if you are to busy during the day  remember if they do not contact you within      hours  unfortunately you have not been successful in your application for this position  clear selection recruitment is part of the clear selection group est       this job was originally posted as www caterer com jobseeking pastrychefal    aarosetterestaurant_job</td>\n",
       "    </tr>\n",
       "    <tr>\n",
       "      <th>38</th>\n",
       "      <td>An expanding software and consultancy services company based in Cambridge is in need of QA Engineers to join their team of QA Analysts and Developers. In this role, you will be working closely with the development team to review requirements and specifications, produce test plans and reports and initialise testing and profiling. Requirements: A Degree or post graduate qualification Commercial experience in Software Testing (Manual and Automated Testing) Experience of software applications for some or all of version control, defect tracking, test case management, test suite automation Experience in the following: o Commandline tools and scripting Experience in one or more of the following areas Text mining Grid computing Natural Language Processing Life Sciences Chemistry Web applications Web services Security Automated GUI testing Understanding of cross platform issues This is a great opportunity to expand your skills and be part of a rapidly growing organisation. Send in your CV now</td>\n",
       "      <td>an expanding software and consultancy services company based in cambridge is in need of qa engineers to join their team of qa analysts and developers  in this role  you will be working closely with the development team to review requirements and specifications  produce test plans and reports and initialise testing and profiling  requirements  a degree or post graduate qualification commercial experience in software testing  manual and automated testing  experience of software applications for some or all of version control  defect tracking  test case management  test suite automation experience in the following  o commandline tools and scripting experience in one or more of the following areas text mining grid computing natural language processing life sciences chemistry web applications web services security automated gui testing understanding of cross platform issues this is a great opportunity to expand your skills and be part of a rapidly growing organisation  send in your cv now</td>\n",
       "    </tr>\n",
       "    <tr>\n",
       "      <th>39</th>\n",
       "      <td>Our client is looking for a Documentation Engineer/Technical Author. The preffered candidate will be practiced in interpreting engineering drawings and producing instructional documentation based on the information gained. Candidates must be proficient in Microsoft Office suite of applications predominantly Word. Looking for experience in the production of documentation in one or more of the following areas:  Operation and Maintenance Instructions  Recovery Instructions  Schedule of Recommended Spares  Commissioning Method Statements   System Performance Demonstrations  Training Materials Candidates must have good communications skills, being able to liaise with inhouse engineering design personnel and to interface with client representatives. CE hands on experience in a nuclear plant environment. Plant commissioning experience is a valuable asset. Security clearance to Basic Check (BC) I Revised Baseline Standard (RBS) level is advantageous</td>\n",
       "      <td>our client is looking for a documentation engineer technical author  the preffered candidate will be practiced in interpreting engineering drawings and producing instructional documentation based on the information gained  candidates must be proficient in microsoft office suite of applications predominantly word  looking for experience in the production of documentation in one or more of the following areas   operation and maintenance instructions  recovery instructions  schedule of recommended spares  commissioning method statements   system performance demonstrations  training materials candidates must have good communications skills  being able to liaise with inhouse engineering design personnel and to interface with client representatives  ce hands on experience in a nuclear plant environment  plant commissioning experience is a valuable asset  security clearance to basic check  bc  i revised baseline standard  rbs  level is advantageous</td>\n",
       "    </tr>\n",
       "    <tr>\n",
       "      <th>40</th>\n",
       "      <td>Are you fluent in English and another European language? Are you looking for an exciting opportunity to use your languages in a fastpaced Customer Service role? We are presenting the opportunity to work for a leading Global Conferencing provider; we are currently looking for bright and dynamic language speakers to join the busy multilingual European Customer Service team. Working within this busy and dynamic office, you will be dealing with business clients on a daily basis. You will be setting up and managing live teleconferences, from office meetings, court hearings to large business events. This is an office based role dealing with inbound/outbound calls and managing the automated conference service. Above all you will consistently provide excellent customer service to valuable clients, and be an outstanding representative for the company. This client is an upandcoming company, excellent to work for, who are stronger than ever during the current economic climate. The company offer a welcoming and supportive working environment as well as fantastic career progression opportunities and an excellent benefit package You must be fluent in English AND at least one of the following languages: German, French, Spanish, Italian, Portuguese, Dutch, Swedish, Finnish or Russian. You must also have: Customer Service experience (this can be retail, hospitality, receptionist, office, customer service, call centre). Experience dealing with business clients (B2B) would be preferable. Proven ability to use your own initiative and work well under pressure. Other important qualities are organisation, attention to detail, strong communication skills and reliability/punctuality. This is a fulltime permanent position based in Croydon, Surrey. Hours of work are Monday to Friday shifts between ****:30am ****:00pm, however flexibility is required to meet customer requirements and bank holiday working may be required. Bilingual, customer service, call centre, contact centre, events, event management, event coordinator, teleconferencing, teleconference, telecommunications, telecoms, languages, language skills</td>\n",
       "      <td>are you fluent in english and another european language  are you looking for an exciting opportunity to use your languages in a fastpaced customer service role  we are presenting the opportunity to work for a leading global conferencing provider  we are currently looking for bright and dynamic language speakers to join the busy multilingual european customer service team  working within this busy and dynamic office  you will be dealing with business clients on a daily basis  you will be setting up and managing live teleconferences  from office meetings  court hearings to large business events  this is an office based role dealing with inbound outbound calls and managing the automated conference service  above all you will consistently provide excellent customer service to valuable clients  and be an outstanding representative for the company  this client is an upandcoming company  excellent to work for  who are stronger than ever during the current economic climate  the company offer a welcoming and supportive working environment as well as fantastic career progression opportunities and an excellent benefit package you must be fluent in english and at least one of the following languages  german  french  spanish  italian  portuguese  dutch  swedish  finnish or russian  you must also have  customer service experience  this can be retail  hospitality  receptionist  office  customer service  call centre   experience dealing with business clients  b2b  would be preferable  proven ability to use your own initiative and work well under pressure  other important qualities are organisation  attention to detail  strong communication skills and reliability punctuality  this is a fulltime permanent position based in croydon  surrey  hours of work are monday to friday shifts between      30am      00pm  however flexibility is required to meet customer requirements and bank holiday working may be required  bilingual  customer service  call centre  contact centre  events  event management  event coordinator  teleconferencing  teleconference  telecommunications  telecoms  languages  language skills</td>\n",
       "    </tr>\n",
       "    <tr>\n",
       "      <th>41</th>\n",
       "      <td>Are you fluent in English and German? Are you looking for an exciting opportunity to use your language skills in a fastpaced Customer Service role? We are presenting the opportunity to work for a leading Global Conferencing provider; we are currently looking for a bright and dynamic Germanspeaker to join the busy multilingual European Customer Service team. Working within this busy yet friendly office, you will be dealing with business clients on a daily basis. You will be setting up and managing live teleconferences, from office meetings, court hearings to large business events. This is an office based role dealing with inbound/outbound calls and managing the automated conference service. Above all you will consistently provide excellent customer service to valuable clients, and be an outstanding representative for the company. This client is a successful company, excellent to work for, who are stronger than ever during the current economic climate. The company offer a welcoming and supportive working environment as well as fantastic career progression opportunities and an excellent benefit package You must be fluent in German Customer Service experience (this can be retail, hospitality, receptionist, office, customer service, call centre). Experience dealing with business clients (B2B) would be preferable. Proven ability to use your own initiative and work well under pressure. Other important qualities are organisation, attention to detail, strong communication skills and reliability/punctuality. This is a fulltime permanent position based in Croydon, Surrey. Hours of work are Monday to Friday shifts between ****:30am ****:00pm. Bilingual, German, customer service, call centre, contact centre, events, event management, event coordinator, teleconferencing, teleconference, telecommunications, telecoms, languages, language skills</td>\n",
       "      <td>are you fluent in english and german  are you looking for an exciting opportunity to use your language skills in a fastpaced customer service role  we are presenting the opportunity to work for a leading global conferencing provider  we are currently looking for a bright and dynamic germanspeaker to join the busy multilingual european customer service team  working within this busy yet friendly office  you will be dealing with business clients on a daily basis  you will be setting up and managing live teleconferences  from office meetings  court hearings to large business events  this is an office based role dealing with inbound outbound calls and managing the automated conference service  above all you will consistently provide excellent customer service to valuable clients  and be an outstanding representative for the company  this client is a successful company  excellent to work for  who are stronger than ever during the current economic climate  the company offer a welcoming and supportive working environment as well as fantastic career progression opportunities and an excellent benefit package you must be fluent in german customer service experience  this can be retail  hospitality  receptionist  office  customer service  call centre   experience dealing with business clients  b2b  would be preferable  proven ability to use your own initiative and work well under pressure  other important qualities are organisation  attention to detail  strong communication skills and reliability punctuality  this is a fulltime permanent position based in croydon  surrey  hours of work are monday to friday shifts between      30am      00pm  bilingual  german  customer service  call centre  contact centre  events  event management  event coordinator  teleconferencing  teleconference  telecommunications  telecoms  languages  language skills</td>\n",
       "    </tr>\n",
       "    <tr>\n",
       "      <th>42</th>\n",
       "      <td>Senior Planning Engineer, Nuclear Experience Required, Primavera P**** Working half the time in Manchester and half the time at Sellafield</td>\n",
       "      <td>senior planning engineer  nuclear experience required  primavera p     working half the time in manchester and half the time at sellafield</td>\n",
       "    </tr>\n",
       "    <tr>\n",
       "      <th>43</th>\n",
       "      <td>Do you have experience in Customer Service? Do you speak another European language? If so we want to hear from you We are presenting the opportunity to work for a leading Communications company within their multilingual Customer Service team. Working within a busy and dynamic service centre, you will book and confirm Reservations by telephone, fax and email, and check booking details with the customer, giving them the appropriate information to ensure the service runs smoothly. This is an office based role dealing with inbound calls from business clients. Above all you will consistently provide excellent customer service to valuable clients, and be an outstanding representative for the company. This role presents the opportunity to use your language skills, as you would be liaising with international clients. Our client is an established and internationally successful company, who are excellent to work for, and stronger than ever during the current economic climate. The company offer thorough training, a welcoming and supportive working environment, as well as fantastic career progression opportunities and an excellent benefits package The right candidate must be committed, reliable and have an excellent telephone manner. You must be fluent in English and one of the following languages (French, German, Danish, Dutch, Swedish, Finnish, Italian or Spanish). Candidates with experience in telesales, callcentre, customer service, receptionist or travel are ideal for this role You must also demonstrate the ability to use your own initiative and work well under pressure. Working hours are MondayFriday, and flexibility to work shift patterns (including early starts) is a must. Basic salary is ****  ****  **** bonus  language supplement. This is a fulltime permanent position based in Gloucester</td>\n",
       "      <td>do you have experience in customer service  do you speak another european language  if so we want to hear from you we are presenting the opportunity to work for a leading communications company within their multilingual customer service team  working within a busy and dynamic service centre  you will book and confirm reservations by telephone  fax and email  and check booking details with the customer  giving them the appropriate information to ensure the service runs smoothly  this is an office based role dealing with inbound calls from business clients  above all you will consistently provide excellent customer service to valuable clients  and be an outstanding representative for the company  this role presents the opportunity to use your language skills  as you would be liaising with international clients  our client is an established and internationally successful company  who are excellent to work for  and stronger than ever during the current economic climate  the company offer thorough training  a welcoming and supportive working environment  as well as fantastic career progression opportunities and an excellent benefits package the right candidate must be committed  reliable and have an excellent telephone manner  you must be fluent in english and one of the following languages  french  german  danish  dutch  swedish  finnish  italian or spanish   candidates with experience in telesales  callcentre  customer service  receptionist or travel are ideal for this role you must also demonstrate the ability to use your own initiative and work well under pressure  working hours are mondayfriday  and flexibility to work shift patterns  including early starts  is a must  basic salary is                  bonus  language supplement  this is a fulltime permanent position based in gloucester</td>\n",
       "    </tr>\n",
       "    <tr>\n",
       "      <th>44</th>\n",
       "      <td>We are looking for a motivated, hard working, conscientious members of staff to work in accordance with our junior course programme coaching trampolining on a Saturday mornings ****:30am  ****:30pm term time. This individual will compliment our existing team. The post holder must hold as a minimum Level 1 in Trampolining (British Gymnastics) and have experience in working with children, be fun, outgoing and have excellent customer service skills and be able to instruct in line with the British Gymnastics syllabus. This post are exempt from the Rehabilitation of Offenders Act **** and will be conditional upon a satisfactory disclosure from the Criminal Records Bureau Hertsmere Leisure is an equal opportunities employer.Hertsmere Leisure promotes a positive attitude towards attendance at work.  following successful probation period</td>\n",
       "      <td>we are looking for a motivated  hard working  conscientious members of staff to work in accordance with our junior course programme coaching trampolining on a saturday mornings      30am       30pm term time  this individual will compliment our existing team  the post holder must hold as a minimum level 1 in trampolining  british gymnastics  and have experience in working with children  be fun  outgoing and have excellent customer service skills and be able to instruct in line with the british gymnastics syllabus  this post are exempt from the rehabilitation of offenders act      and will be conditional upon a satisfactory disclosure from the criminal records bureau hertsmere leisure is an equal opportunities employer hertsmere leisure promotes a positive attitude towards attendance at work   following successful probation period</td>\n",
       "    </tr>\n",
       "    <tr>\n",
       "      <th>45</th>\n",
       "      <td>Do you have a passion for Swimming? Can you motivate others to improve their skills? If the answer is yes and you have a ASA UKCC Level 2 or STA Full qualification, this could be the job for you Kirklees Active Leisure is looking to develop and grow our existing swimming instructor program for both children and adults and we are looking for enthusiastic individuals to join our team on a Self Employed Basis and become part of our KAL Swim Academy Programme across our sites. We are actively seeking individuals who can teach swimming including a wide range of disciplines including Coaching, Triathlon, Adult and Child, Disabilities, Synchro, Waterpolo, and Diving (information for CPD upskilling is available on a regular basis). You will stand out because of your motivational and fun style of teaching, passion for Swimming and your ability to inspire people, ensuring pupils enjoy your sessions week on week. You will be a vibrant presence in our facilities and willing to go that extra mile. To apply for this opportunity you will need to have proof of your qualification and public liability insurance. Most sessions are held on evenings and weekends and availability differs at each pool. For an informal discussion regarding this opportunity please contact the Aquatics Manager at your Kirklees Active Leisure local pool. An Enhanced Criminal Record Bureau (CRB) Disclosure is required for these posts, a conviction will not necessarily exclude a candidate but will be considered as part of the recruitment process.</td>\n",
       "      <td>do you have a passion for swimming  can you motivate others to improve their skills  if the answer is yes and you have a asa ukcc level 2 or sta full qualification  this could be the job for you kirklees active leisure is looking to develop and grow our existing swimming instructor program for both children and adults and we are looking for enthusiastic individuals to join our team on a self employed basis and become part of our kal swim academy programme across our sites  we are actively seeking individuals who can teach swimming including a wide range of disciplines including coaching  triathlon  adult and child  disabilities  synchro  waterpolo  and diving  information for cpd upskilling is available on a regular basis   you will stand out because of your motivational and fun style of teaching  passion for swimming and your ability to inspire people  ensuring pupils enjoy your sessions week on week  you will be a vibrant presence in our facilities and willing to go that extra mile  to apply for this opportunity you will need to have proof of your qualification and public liability insurance  most sessions are held on evenings and weekends and availability differs at each pool  for an informal discussion regarding this opportunity please contact the aquatics manager at your kirklees active leisure local pool  an enhanced criminal record bureau  crb  disclosure is required for these posts  a conviction will not necessarily exclude a candidate but will be considered as part of the recruitment process</td>\n",
       "    </tr>\n",
       "    <tr>\n",
       "      <th>46</th>\n",
       "      <td>Do you have a passion for Sport? Can you motivate others to improve their skills? Do you have a valid Level 1 or Level 2 National Governing Body Qualification? Kirklees Active Leisure (KAL) is looking to develop and grow our existing sport coaching programme for both adults and young people and we are looking for enthusiastic individuals to join our teams on a Self Employed basis and become part of our Sport Coaching Programmes across our sites. We are actively seeking individuals who can coach a wide range of sports including Gymnstics, Trampolining, Netball, Football and Climbing. You will stand out because of your motivational style of Coaching, passion for Sport and your ability to inspire people, ensuring individuals return to your session week on week. You will be a vibrant presence in our facilities and will be willing to go that extra mile for our customers. To apply for this opportunity you will need to have proof of your qualification and public liability insurance. Various hourly sessions are held throughout the week including evenings and weekends and availability differs at each Centre. For an informal discussion regarding this opportunity please contact the Sports Activity Manager at your Kirklees Active Leisure Centre. Details of all our Centre's are shown on www.kirkleesactive.co.uk . An Enhanced Criminal Record Bureau (CRB) Disclosure is required for these posts, a conviction will not necessarily exclude a candidate but will be considered as part of the recruitment process.</td>\n",
       "      <td>do you have a passion for sport  can you motivate others to improve their skills  do you have a valid level 1 or level 2 national governing body qualification  kirklees active leisure  kal  is looking to develop and grow our existing sport coaching programme for both adults and young people and we are looking for enthusiastic individuals to join our teams on a self employed basis and become part of our sport coaching programmes across our sites  we are actively seeking individuals who can coach a wide range of sports including gymnstics  trampolining  netball  football and climbing  you will stand out because of your motivational style of coaching  passion for sport and your ability to inspire people  ensuring individuals return to your session week on week  you will be a vibrant presence in our facilities and will be willing to go that extra mile for our customers  to apply for this opportunity you will need to have proof of your qualification and public liability insurance  various hourly sessions are held throughout the week including evenings and weekends and availability differs at each centre  for an informal discussion regarding this opportunity please contact the sports activity manager at your kirklees active leisure centre  details of all our centre s are shown on www kirkleesactive co uk   an enhanced criminal record bureau  crb  disclosure is required for these posts  a conviction will not necessarily exclude a candidate but will be considered as part of the recruitment process</td>\n",
       "    </tr>\n",
       "    <tr>\n",
       "      <th>47</th>\n",
       "      <td>We are looking for outgoing, friendly people to join our crew. Previous experience is always helpful but not essential, as long as you enjoy looking after people and are able to work evenings and weekends, we would like to hear from you. We are very flexible and try to work around people's commitmentshowever you run your life we're sure you'll enjoy working for us.</td>\n",
       "      <td>we are looking for outgoing  friendly people to join our crew  previous experience is always helpful but not essential  as long as you enjoy looking after people and are able to work evenings and weekends  we would like to hear from you  we are very flexible and try to work around people s commitmentshowever you run your life we re sure you ll enjoy working for us</td>\n",
       "    </tr>\n",
       "    <tr>\n",
       "      <th>48</th>\n",
       "      <td>We are looking for an experienced Deputy Manager with a big front of house character and good knowledge of food, wine and beer to help run the pub alongside the Manager. You will frequently work opposite shifts to the manager, and run the pub in the manager's absence, so the skill sets needed are broadly the same. You won't carry the full weight of responsibility for the wellbeing of the business, but you will be the manager's righthand person, and will be a senior member of the management team, making decisions and directing things on a daily basis. You'll need to understand and love pubs, take real pleasure in making people happy and play a full role in keeping the business profitable, the crew happy and the customers coming back for more. Being a deputy manager is an ideal opportunity to gain knowledge and experience of every aspect of pub life. We see our deputy managers as our managers of the future, and try to promote from within whenever we can. Our rate of growth means that there are exciting opportunities springing up all the time, and you will be able to develop your career at a pace that is appropriate to you. Contact: Please send your CV with a covering letter telling us what makes you tick Please take some time to look through our website http://www.brunningandprice.co.uk/ and ensure that you include a covering letter when at the final stage of your application.</td>\n",
       "      <td>we are looking for an experienced deputy manager with a big front of house character and good knowledge of food  wine and beer to help run the pub alongside the manager  you will frequently work opposite shifts to the manager  and run the pub in the manager s absence  so the skill sets needed are broadly the same  you won t carry the full weight of responsibility for the wellbeing of the business  but you will be the manager s righthand person  and will be a senior member of the management team  making decisions and directing things on a daily basis  you ll need to understand and love pubs  take real pleasure in making people happy and play a full role in keeping the business profitable  the crew happy and the customers coming back for more  being a deputy manager is an ideal opportunity to gain knowledge and experience of every aspect of pub life  we see our deputy managers as our managers of the future  and try to promote from within whenever we can  our rate of growth means that there are exciting opportunities springing up all the time  and you will be able to develop your career at a pace that is appropriate to you  contact  please send your cv with a covering letter telling us what makes you tick please take some time to look through our website and ensure that you include a covering letter when at the final stage of your application</td>\n",
       "    </tr>\n",
       "    <tr>\n",
       "      <th>49</th>\n",
       "      <td>We are looking for outgoing, friendly people to join our crew. Previous experience is always helpful but not essential, as long as you enjoy looking after people and are able to work evenings and weekends, we would like to hear from you. We are very flexible and try to work around people's commitmentshowever you run your life we're sure you'll enjoy working for us. Contact: If you think you have got what it takes please send your CV along with a cover letter telling us about yourself</td>\n",
       "      <td>we are looking for outgoing  friendly people to join our crew  previous experience is always helpful but not essential  as long as you enjoy looking after people and are able to work evenings and weekends  we would like to hear from you  we are very flexible and try to work around people s commitmentshowever you run your life we re sure you ll enjoy working for us  contact  if you think you have got what it takes please send your cv along with a cover letter telling us about yourself</td>\n",
       "    </tr>\n",
       "  </tbody>\n",
       "</table>\n",
       "</div>"
      ],
      "text/plain": [
       "                                                                                                                                                                                                                                                                                                                                                                                                                                                                                                                                                                                                                                                                                                                                                                                                                                                                                                                                                                                                                                                                                                                                                                                                                                                                                                                                                                                                                                                                                                                                                                                                                                                                                                                                                                                                                                                                                                                                                                                                                                                                                                                                                                                                                                                                                                                                                                                                                                                                                                                                                                                                                                                                                                                                                                                                                                                                                                                                                                                                                                                                                                                                                                                                                                                                                                                                                                                                                                                                                                                                                                                                                                               FullDescription  \\\n",
       "0                                                                                                                                                                                                                                                                                                                                                                                                                                                                                                                                                                                                                                                                                                                                                                                                                                                                                                                                                                                                                                                                                                                                                                                                                                                                                                                                                                                                                                                                                                                                                                                                                                                                                                                                                                                                                                                                                                                                                                                                                                                                                                                                                                                                                                                                                                                                                                                                                                                                                                                                                                                                                                                                                                                                                                                                                                                                                                                                                                                                                                                                                                                                                                                                                                                                                                 Engineering Systems Analyst Dorking Surrey Salary ****K Our client is located in Dorking, Surrey and are looking for Engineering Systems Analyst our client provides specialist software development Keywords Mathematical Modelling, Risk Analysis, System Modelling, Optimisation, MISER, PIONEEER Engineering Systems Analyst Dorking Surrey Salary ****K   \n",
       "1                                                                                                                                                                                                                                                                                                                                                                                                                                                                                                                                                                                                                                                                                                                                                                                                                                                                                                                                                                                                                                                                                                                                                                                                                                                                                                                                                                                                                                                                                                                                                                                                                                                                                                                                                                                                                                                                                                                                            Stress Engineer Glasgow Salary **** to **** We re currently looking for talented engineers to join our growing Glasgow team at a variety of levels. The roles are ideally suited to high calibre engineering graduates with any level of appropriate experience, so that we can give you the opportunity to use your technical skills to provide high quality input to our aerospace projects, spanning both aerostructures and aeroengines. In return, you can expect good career opportunities and the chance for advancement and personal and professional development, support while you gain Chartership and some opportunities to possibly travel or work in other offices, in or outside of the UK. The Requirements You will need to have a good engineering degree that includes structural analysis (such as aeronautical, mechanical, automotive, civil) with some experience in a professional engineering environment relevant to (but not limited to) the aerospace sector. You will need to demonstrate experience in at least one or more of the following areas: Structural/stress analysis Composite stress analysis (any industry) Linear and nonlinear finite element analysis Fatigue and damage tolerance Structural dynamics Thermal analysis Aerostructures experience You will also be expected to demonstrate the following qualities: A strong desire to progress quickly to a position of leadership Professional approach Strong communication skills, written and verbal Commercial awareness Team working, being comfortable working in international teams and self managing PLEASE NOTE SECURITY CLEARANCE IS REQUIRED FOR THIS ROLE Stress Engineer Glasgow Salary **** to ****   \n",
       "2                                                                                                                                                                                                                                                                                                                                                                                                                                                                                                                                                                                                                                                                                                                                                                                                                                                                                                                                                                                                                                                                                                                                                                                                                                                                                                                                                                                                                                                                                                                                                                                                                                                                                                                                                                                                                  Mathematical Modeller / Simulation Analyst / Operational Analyst Basingstoke, Hampshire Up to ****K AAE pension contribution, private medical and dental The opportunity Our client is an independent consultancy firm which has an opportunity for a Data Analyst with 35 years experience. The role will require the successful candidate to demonstrate their ability to analyse a problem and arrive at a solution, with varying levels of data being available. Essential skills Thorough knowledge of Excel and proven ability to utilise this to create powerful decision support models Experience in Modelling and Simulation Techniques, Experience of techniques such as Discrete Event Simulation and/or SD modelling Mathematical/scientific background  minimum degree qualified Proven analytical and problem solving skills Self Starter Ability to develop solid working relationships In addition to formal qualifications and experience, the successful candidate will require excellent written and verbal communication skills, be energetic, enterprising and have a determination to succeed. They will be required to build solid working relationships, both internally with colleagues and, most importantly, externally with our clients. They must be comfortable working independently to deliver against challenging client demands. The offices are located in Basingstoke, Hampshire, but our client work for clients worldwide. The successful candidate must therefore be prepared to undertake work at client sites for short periods of time. Physics, Mathematics, Modelling, Simulation, Analytical, Operational Research, Mathematical Modelling Mathematical Modeller / Simulation Analyst / Operational Analyst Basingstoke, Hampshire ****K AAE pension contribution, private medical and dental   \n",
       "3                                                                                                                                                                                                                                                                                                                                                                                                                                                                                                                                                                                                                                                                                                                                                                                                                                                                                                                                                                                                                                                                                                                                                                                                                                                                                                                                                                                                                                                                                                                                                                                                                                                                                                                                                                                                                                                                                                                                                                                                                                                                                                                                                                                                                                                                                                                                                                                                                                                                                                                                                                                                                                                                                                                                                                                                                                                                                                                                                                                                                                                                                                                                                                                                                                                Engineering Systems Analyst / Mathematical Modeller. Our client is a highly successful and respected Consultancy providing specialist software development MISER, PIONEER, Maths, Mathematical, Optimisation, Risk Analysis, Asset Management, Water Industry, Access, Excel, VBA, SQL, Systems . Engineering Systems Analyst / Mathematical Modeller. Salary  ****K****K negotiable Location Dorking, Surrey   \n",
       "4                                                                                                                                                                                                                                                                                                                                                                                                                                                                                                                                                                                                                                                                                                                                                                                                                                                                                                                                                                                                                                                                                                                                                                                                                                                                                                                                                                                                                                                                                                                                                                                                                                                                                                                                                                                                                                                                                                                                                                                                                                                                                                                                                                                                                                                                                                                                                                                                                                                                                                                                                                                                                                                                                                                                                                                                                                                                                                                                                                                                                                                                                                                                                                                                                                                                                                                                                                                                                                     Pioneer, Miser  Engineering Systems Analyst Dorking  Surrey Salary ****K Located in Surrey, our client provides specialist software development Pioneer, Miser  Engineering Systems Analyst Dorking  Surrey Salary ****K   \n",
       "5                                                                                                                                                                                                                                                                                                                                                                                                                                                                                                                                                                                                                                                                                                                                                                                                                                                                                                                                                                                                                                                                                                                                                                                                                                                                                                                                                                                                                                                                                                                                                                                                                                                                                                                                                                                                                                                                                                                                                                                           Engineering Systems Analyst Water Industry Location: Dorking Surrey Salary: **** to **** Located in Surrey, our client provides specialist software development Systems Analysis and Software Engineering. The projects cover a wide variety of topics typically working in small teams. Our client can offer you Intellectually challenging work undertaken within a supportive environment where personal development is nurtured and rewarded. This role will be working within a small team working on the modelling of water industry asset deterioration and asset failure consequences, including the uploading of these models onto industryleading optimal asset management software Strong maths, stats and IT skills needed, Any previous experience within the Water industry would be an advantage. Candidate requirements Candidates should have a good honours degree in a numerate discipline i.e. Engineering; Mathematics; Science; Computing/Software. Candidates need to be highly qualified within Physics, Mathematics or Engineering discipline ideally First Class Degree, or **** PhD or Masters, MEng. Candidates should ideally should have a background in Technical Consultancy; Systems Analysis; Software Engineering or a Graduate level looking to develop their career. Any experience of Pioneer or Miser software would be an advantage. Key areas: Mathematical modelling, leakage management, optimisation. risk analysis. Physics, Mathematics, Engineering Engineering; Mathematics; Science; Computing/Software Pioneer or Miser Engineering Systems Analyst Water Industry Location: Dorking, Surrey Salary **** to ****   \n",
       "6                                                                                                                                                                                                                                                                                                                                                                                                                                                                                                                                                                                                                                                                                                                                                                                                                                                                                                                                                                                                                                                                                                                                                                                                                                                                                                                                                                                                                                                                                                                                                                                                                                                                                                                                                                                                                                                                                                                                                                                                                                                                                                                                                                                                                                         A globally renowned engineering and training company in the Oil Develop and manage both internal and external inspection plans and plan remedial and preventative maintenance work Implement, apply and update pipeline databases and spreadsheets and assist operators with projects, including project management, assurance support and procedure reviews Handle consulting, problem solving, risk assessments and presentations Be responsible for technical representation offshore Prepare proposals and tenders for clients and write reports and specifications. You will offer analysis using various types of software such as MathCAD, ABAQUS, Olga or Orcaflex. You will also present the company s technical courses and handle project management and sales and customer relationship management. For this role, you must have a minimum of 10 years experience in subsea engineering, pipelines design or construction. Background in controls, corrosion, decommissioning or structures would be an advantage. A degree in Engineering, Aeronautics, Naval Architecture, Maths, or Physics, preferably with honours is essential for this role. A full clean driving license is also required. If you are a Subsea Engineering professional with excellent design/construction skills and exposure to the Oil & Gas/Subsea Engineering industry, we would love to hear from you. Send in your CV now   \n",
       "7                                                                                                                                                                                                                                                                                                                                                                                                                                                                                                                                            THIS IS A LIVE VACANCY NOT A GENERIC ADVERTISEMENT ) DO YOU WANT TO EARN UP TO ****K BASIC SALARY WITH UNCAPPED OTE, FOR A NATIONAL RECRUITER WHO ARE EXPANDING, RECRUITING AND CAN OFFER YOU JOB SECURITY ? ARE YOU AN EXPERIENCED RECRUITMENT CONSULTANT, SALES OR BUSINESS DEVELOPMENT EXECUTIVE? WHO WANTS INNOVATIVE TRAINING, GENUINE CAREER PROSPECTS WHERE ****5% OF THE MANAGEMENT TEAM ARE HOME GROWN, DYNAMIC WORKING ENVIRONMENT  BASED IN MANCHESTER(ONE OF THE TOP PERFORMING LOCATIONS IN THE UK) AND EXCELLENT EARNING POTENTIAL  UP TO 30% COMMISSION FOR ACHIEVERS Job details: Generating business for one of my clients **** specialist divisions across **** branches in the UK. Access to all the leading websites for candidate and job opportunities, over ****k annual investment why make the job harder? Full and comprehensive Administration and IT back up for every Consultant Working established bespoke database to generate opportunities with both existing and new clients. Inter division cross fertilisation, working closely with 8 professional divisions providing clients with the complete recruitment solution Corporate and HO support for national business/tenders and PSL s. Managing own desk to achieve daily, weekly and monthly targets. Person: Energy and desire to succeed, with a competitive streak that wants to beat the competition. Professional personal appearance with the ability to build sustainable business relationships. Positive mental attitude. Able to demonstrate working to and exceeding targets. Career focussed, good listening skills and a natural confidence. Naturally positive and looking for the opportunity to work for a national player who are committed to your success Recruitment experience or 2 years business to business sales experience required. Benefits: ****k  ****K basic  benefits Pension scheme. Uncapped OTE Innovative award winning training academy. Genuine career opportunities. Incentives, awards and excellent team building UK wide. IF YOU FEEL YOU HAVE THE ENERGY AND DRIVE TO SUCCEED IN A FAST PACED, DYNAMIC SALES ENVIRONMENT WITH REWARDS THEN CALL OR EMAIL FRO AN INFORMAL AND DISCREET DISCUSSION. PLEASE NOTE YOUR CV WILL NOT BE FORWARDED TO MY CLIENT WITHOUT YOUR WRITTEN AUTHORISATION. Code Blue Recruitment handle nearly **** LIVE VACANCIES, for all sectors and levels of the Recruitment industry across the whole of the UK . Positions include Junior and Trainee Consultants, Recruitment and Senior Recruitment Consultants, Team Leaders, Account Managers, Branch Managers, Sales Managers & Directors. Sectors covered include Professional Recruitment such as Finance, Accountancy & Banking, Legal & HR, Commercial markets such as Office Support, Industrial, Driving, Hospitality & Catering, the Public Sector including Medical, Care, Education, Technical markets such as I.T., Telecoms, Media, Construction, Engineering, Energy & Environment, and Pharmaceutical, as well as diverse areas such as Sales Recruitment, Search, and Supply Chain   \n",
       "8                                                                                                                                                                                                                                                                                                                                                                                                                                                                                                                                                                                                                                                                                                                                                                                                                                                                                                                                                                                                                                                                                                                                                                                                                                                                                                                                                                                                                                                                                                                                                                                                                                                                                        This is an exceptional opportunity to join a construction / technical agency that hasn t shrunk in the current market one bit Our client is seeking a nononsense and highly skilled Recruiter with at least a couple of years experience under their belt. They specialise in placing highcalibre candidates both in the UK and worldwide, within blue and white collar on both a temp and perm basis. You will have a genuine servicefocus but not definately not be afraid to pick up the phone and develop new business, acting on leads and referrals like any professional should. Your matching skills should be excellent and your CVInterviewPlacement ratios should be impressive. The incentives and benefits here are excellent with the real opportunity to earn an aboveaverage basic salary and competitive commission package: Basic to ****k  car allowan Bonus to 22.5%(OTE ****k) Car Alloowance . Additional quarterly and annual bonuses Sensible & Supportive atmosphere If you are looking to join a serious competitor in the marketplace who take a genuine interest in their people contact Donna Turner now, and please have your billing figures to hand Code Blue Recruitment handle nearly **** LIVE VACANCIES, for all sectors and levels of the Recruitment industry across the whole of the UK . Positions include Junior and Trainee Consultants, Recruitment and Senior Recruitment Consultants, Team Leaders, Account Managers, Branch Managers, Sales Managers & Directors. Sectors covered include Professional Recruitment such as Finance, Accountancy & Banking, Legal & HR, Commercial markets such as Office Support, Industrial, Driving, Hospitality & Catering, the Public Sector including Medical, Care, Education, Technical markets such as I.T., Telecoms, Media, Construction, Engineering, Energy & Environment, and Pharmaceutical, as well as diverse areas such as Sales Recruitment, Search, and Supply Chain   \n",
       "9                                                                                                                                                                                                                                                                                                                                                                                                                                                                                                                                                                                                                                                                                                                                                                                                                                                                                                                                                                                                                                                                                                                                                                                                                                                                                                                                                                                                                                                                                                                                                                                                                                                                                                                                                                                                                                                                                                                                                                                                                                                                                                                                                                                                                                                                                                                                                                                                                                                                                                                                                                                                                                                                                                                                                                                                       A subsea engineering company is looking for an experienced Subsea Cable Engineer who will be responsible for providing all issues related to cables. They will need someone who has at least 1015 years of subsea cable engineering experience with significant experience within offshore oil and gas industries. The qualified candidate will be responsible for developing new modelling methods for FEA and CFD. You will also be providing technical leadership to all staff therefore you must be an expert in problem solving and risk assessments. You must also be proactive and must have strong interpersonal skills. You must be a Chartered Engineer or working towards it the qualification. The company offers an extremely competitive salary, health care plan, training, professional membership sponsorship, and relocation package   \n",
       "10                                                                                                                                                                                                                                                                                                                                                                                                                                                                                                                                                                                                                                                                                                                                                                                                                                                                                                                                                                                                                                                                                                                                                                                                                                                                                                                                                                                                                                                                                                                                                                                                                                                                    Are you a successful, results driven person? Are you looking to start a career in Financial Services? Are you looking for a fast paced, dynamic working environment? Our Client is proud to be an independent estate agent with an unbeatable local knowledge and reputation for excellent service. They have a mortgage advisor within each of their branches to accommodate their customer s needs. As a Trainee Mortgage Advisor, you will work closely with your team to learn and develop whilst achieving shared goals. In addition to this; You will have the determination to succeed in the Financial Services market. You will be capable of working effectively under pressure and in a target orientated environment. You will have the ability to successfully achieve your CeMap qualifications. You will be able to evaluate business at every opportunity. The company will offer a fantastic training programme as well as full funding for CeMap qualifications all within a supportive, team working environment. Once fully qualified, achievable progression thresholds are put in place with excellent earning potential. With a track record of successful sales abilities, preferably within an Estate Agency setting, suitable candidates will have: A drive and enthusiasm to work within the Financial Services market The ability to qualify applicants to advise on their purchasing abilities Excellent communication skills A professional and friendly approach Refined numerate abilities and an attention to detail A driving licence/own car Excellent computing skills You must be a self motivated, driven individual with the ability to be proactive with your own learning and development. You will have the ability to work successfully within a team whilst managing your own, individual work load. Organisational skills and a will to succeed are also a must. Belper, Ilkeston, Eastwood, Derby, Leicester, Mansfield, Melbourne, Ripley   \n",
       "11                                                                                                                                                                                                                                                                                                                                                                                                                                                                                                                                                                                                                                                                                                                                                                                                                                                                                                                                                                                                                                                                                                                                                                                                                                                                                                                                                                                                                                                                                                                                                                                                                                                                                                                                                                                                                                                                                                                                                                                                                                                                                                                                                                                                                                                                                                                                                 PROJECT ENGINEER PHAMACEUTICAL, c****  Excellent Benefits, Oxfordshire ****/****/mg PROJECT ENGINEER : JOB ROLE: Responsible for execution of Continuous improvement and compliance projects. Responsible too for subprojects related to introduction of new products and processes in order to meet strategic business plans.The position is jointly responsible fo reporting of designated capital and expenses (actual Vs. Plan) associated with implementation of new process equipment or modifications to Existing process equipment. PROJECT ENGINEER: KEY RESPONSIBILITIES: Manage project tasks & deliverables within agreed time, cost, quality Responsbile for process equipment validation, material validation, remediation activity Maintain effectiveness of Quality System in accordance with corporate requirements Effective liaison with Engineering functions, external suppliers and regulatory bodies PROJECT ENGINEER: SKILLS, EXPERIENCE, QUALIFICATION: Proven problem solving skills to quickly implement process improvements Understanding of technical drawings, dealing with suppliers and subcontractors Experience of Project Engineering/Project Management within regulated manufacturing Working knowledge of quality/regulatory systems BSc/HNC with related experience   \n",
       "12                                                                                                                                                                                                                                                                                                                                                                                                                                                                                                                                                                                                                                                                                                                                                                                                                                                                                                                                                                                                                                                                                                                                                                                                                                                                                                                                                                                                                                                                                                                                                                                                                                                                                                                                                                        Aerospace Senior Composite Structures Engineer Aerospace, Bristol Our client is a progressive and rapidly expanding organisation, providing high end technical and project management services to the prime aerospace sector. As the Senior Composite Structures Engineer for the aerostructures team you will be involved in some of the most challenging and exciting aerospace projects in the world. You will be expected to take full ownership of technical tasks, and to lead others in their execution. This position is ideally suited to high calibre engineering graduate with significant and appropriate post graduate experience. You will need to demonstrate a desire to be challenged and to contribute towards the success and growth of the business. In return our client offers excellent career development and a competitive reward package. The Senior Composite Structures Engineer should be qualified to degree level or above in engineering and be a recognised expert in the analysis of lightweight Composite structures. You should also have experience of leading teams to deliver effective technical solutions to time, quality and cost objectives. Aerospace industry experience would be advantageous covering aerostructures and/or aero engines. A demonstrable track record in one or more of the following technical disciplines is also required: Fatigue and damage tolerance analysis of composite laminates Static stress analysis of composite structures, including bolted and bonded joints and buckling analysis Finite element analysis of composite laminates and sandwich structures Some work outside normal office hours and national/international travel may be required. Keywords Aerospace, Composites, Structures Aerospace Senior Composite Structures Engineer Aerospace, Bristol Salary ****K****K  benefits package   \n",
       "13                                                                                                                                                                                                                                                                                                                                                                                                                                                                                                                                                                                                                                                                                                                                                                                                                                                                                                                                                                                                                                                                                                                                                                                                                                                                                                                                                                                                                                                                                                                                                                                                                                                                                                                                                                                                                                                                                                                                                                                                                                                                                                                                                                                                                                                                                                                                                                                                                                                                                                                                                                                                                                                                                                                                                                                                                                                                                                                                                                                                                                                                                                                                                                                                                                                                                                                                                                                                                                                               Senior Fatigue Static stress (metallic or composite) Finite element analysis. Senior Fatigue Aerospace Salary: **** to **** (dep on exp)  benefits package Located: Bristol, Avon, South West   \n",
       "14                                                                                                                                                                                                                                                                                                                                                                                                                                                                                                                                                                                                                                                                                                                                                                                                                                                                                                                                                                                                                                                                                                                                                                                                                                                                                                                                                                                                                                                                                                                                                                                                                                                                                                                                                                                                                                                                                                                                                                                                                                                                                A well respected restaurant located in the Derby area has a Chef de Partie role available Role: A Chef de Partie who is passionate about working with all fresh produce to a high standard is required to join the brigade of chefs at an award winning restaurant.The restaurant serves **** covers at lunch with a set menu and up to **** covers in the evening for the a la carte menu, as Chef de Partie you will be expected to run a section once fully trained keeping your work space clean and tidy at all times. Requirements: All Chef de Parties applying for this role should already have fresh food experience at this level with the ability to manage a busy section.This role can offer the right candidate excellent opportunities to progress within the team. Benefits Include: Uniform Provided Meals on Duty Excellent Tips – Paid Monthly Excellent Opportunities To Progress If you are interested in this position or would like information on the other positions we are recruiting for or any temporary assignments please send your CV by clicking on the 'apply now' button below and our consultant Tony Papa will do his utmost to assist you in your search for employment. In line with the requirements of the Asylum Immigration Act **** all applicants must be eligible to live and work in the UK. Documented evidence of the eligibility will be required from candidates as part of the recruitment process. This job was originally posted as www.caterer.com/JobSeeking/ChefdePartieAwardWinningRestaurantExcellentTips_job****   \n",
       "15                                                                                                                                                                                                                                                                                                                                                                                                                                                                                                                                                                                                                                                                                                                                                                                                                                                                                                                                                                                                                                                                                                                                                                                                                                                                                                                                                                                                       Our client are a leading supplier of precision machined, high integrity components, integrated kits of parts and complete mechanical assemblies. Due to an large increase in workload they are recruiting a Quality Engineer Reporting to the Quality Manager, the successful individual will be responsible for providing documentation to fulfil our customers quality assurance requirements on specific contracts, whilst maintaining a system of storage and retrieval for documentation. The role will also support the internal audit schedule, performing audits as required. Responsibilities include: Documentation Checking all vendor supplied documentation to ensure it complies with the requirements or Express s customer specifications. Produce accurate, legible documentation packs, in accordance with customer requirements. Quality Systems Maintain system of storage and retrieval of all associated QA documentation in accordance with ISO9001:**** Certification Ensure certificates of conformance are checked, in accordance with the C of C matrix and any applicable concessions are referenced Material Certification Verify and approve certification on receipt for conformance to customer requirements and resolve discrepancies with suppliers Non conformance Raise and submit supplier reject reports and concessions. Store all responses received in relevant databases. Internal Auditing Carry out internal audits as and when required in line with the internal audit schedule. Identify and report all nonconformances within Quality Management System, and assist in corrective actions to close them out Supplier Rejects Ensure corrective action is received for supplier rejects submitted to key suppliers The Individual: Has experience within the quality department of a related company in a similar role Ideally from a mechanical or manufacturing engineering background. Ideally be familiar with the range of processes involved in the markets of Oil Must have good communication and organisational skills Has the ability to work as part of a team or as an individual. Has the ability to be customer facing and discuss technical / quality issues with vendors and customers   \n",
       "16                                                                                                                                                                                                                                                                                                                                                                                                                                                                                                                                                                                                                                                                                                                                                                                                                                                                                                                                                                                                                                                                                                                                                                                                                                                                                                                                                                                                                                                                                                                                                                                                                                                                                                                                                                                                                                                                                                                                                                                                                                                                                                                                                                                                                                                                                                                                                                                                                                                                                                                                                                                                                                                               A leading Subsea Engineering Company require a driven and highlyskilled Principal Controls Engineer who will provide technical work on all of the company s controlsrelated concerns and in charge of generating interest from potential clients. As a Principal Controls Engineer, you will be in charge of organising and ensuring engineering calculations, do reports, review designs, give technical assistance to all problems related to cable engineering and come up with methods for cable modelling. The successful candidate will have at least 15 years of Subsea Controls Engineering experience in the Oil and Gas industry. Preferably, you must have a degree in Engineering and a background in Subsea design, construction, installation, operation, or decommissioning and have covered almost all related Subsea Production Systems. This is a brilliant role which includes a very competitive salary package with flexible work hours to the most qualified candidates   \n",
       "17                                                                                                                                                                                                                                                                                                                                                                                                                                                                                                                                                                                                                                                                                                                                                                                                                                                                                                                                                                                                                                                                                                                                                                                                                                                                                                                                                                                                                                                                                                                                                                                                                                                                                                                                                                                                                                                                                                             A popular hotel located in Norfolk which is a very busy operation has a position available for a Chef de Partie Role: A Chef de Partie capable of coping well under pressure is required to join the kitchen team at a hotel that has an excellent reputation for offering high quality dining to its guests and has gained accreditations in the main restaurant.The busy Brasserie style restaurant regularly serves **** covers for lunch and dinner so this Chef de Partie role will require you to be organised on your section ensuring all prep is complete to the standards expected by the Head Chef before each service. Requirements: All Chef de Parties applying for this role must have a strong background with highlights previous AA Rosette experience in a high volume operation.A candidate who is self motivated and capable of working well in a busy team of chefs would be ideal for this role. Benefits Include: Uniform Provided Meals on Duty Accommodation Available Share of Tips – IRO **** Per Month Excellent Opportunities To Progress If you are interested in this position or would like information on the other positions we are recruiting for or any temporary assignments please send your CV by clicking on the 'apply now' button below and our consultant Sean Bosley will do his utmost to assist you in your search for employment. In line with the requirements of the Asylum Immigration Act **** all applicants must be eligible to live and work in the UK. Documented evidence of the eligibility will be required from candidates as part of the recruitment process. This job was originally posted as www.caterer.com/JobSeeking/ChefdePartieAwardWinningDiningLiveInShareofTips_job****   \n",
       "18                                                                                                                                                                                                                                                                                                                                                                                                                                                                                                                                                                                                                                                                                                                                                                                                                                                                                                                                                                                                                                                                                                                                                                                                                                                                                                                                                                                                                                                                                                                                                                                                                                                                                                                                                                                                                                                                                                                                                                                                                                                                                                                                                                                                                                                                                                                                                                                                                                                                                                                                                                                                                                                                                                                                                                                                                                                                                                                                                                                                                                                                                                                                                                                                                                                                                                                                                                                                                                                                                             Senior Fatigue Static stress (metallic or composite) Finite element analysis. Senior Fatigue Aerospace  ****K****K (dep on exp)  benefits package Bristol, Avon   \n",
       "19                                                                                                                                                                                                                                                                                                                                                                                                                                                                                                                                                                                                                                                                                                                                                                                                                                                                                                                                                                                                                                                                                                                                                                                                                                                                                                                                                                                                                                                                                                                                                                                                                                                                                                                                                                                                                                                                                                                                                                                                                                                                                                                                                                                                                                                                                                                                                                                                                                                                                                                                                                                                                                                                                                                                                                                                                                         We are currently recruiting on behalf of our client who have an exciting opportunity available for a CE Produce CE Control Panel designs  Genera Arrangements, Detail drawings, Schematics Diagrams, Interlock Diagrams for typically PLC Specification of hardware and production of parts list. Manufacturing specification. Ensure Company policies and procedures are being applied across the projects. Manage the interface between CE Communicate at all levels with both internal and external customers to meet their expectations while meeting the project budget and programme constraints. Support the Lead Engineer in the delivery of scope to budget and programme. Provide technical expertise to tenders as and when required. Provide input to the development of the CE&l function and resource   \n",
       "20                                                                                                                                                                                                                                                                                                                                                                                                                                                                                                                                                                                                                                                                                                                                                                                                                                                                                                                                                                                                                                                                                                                                                                                                                                                                                                                                                                                                                                                                                                                                                                                                                                                                                                                                                                                                                                                                                                                                                                                                               Lead Engineers (Stress) Our client provide high end technical and project management services to the prime aerospace companies. Our client are now seeking a Aerospace Senior Stress Engineers to join their growing Aerospace structures teams in Bristol This position of Aerospace Stress Engineer is ideally suited to high calibre engineering graduates with significant and appropriate post graduate experience. You will be expected to take full ownership of technical tasks and to lead others in their execution. Candidates will ideally be degree qualified (min ****:****) or equivalent, and have experience of the technical leadership of projects to time, quality and cost objectives. Aerospace industry experience is an advantage however the calibre of the applicant is more important therefore applicants with Structural Analysis experience from any domain are welcomed. A demonstrable track record in one or more of the following technical disciplines: Fatigue and damage tolerance Static stress analysis (metallic or composite) Finite element analysis. Candidates must also be able to demonstrate: Technical awareness in the field of aerospace structures Effective client management and communication skills Project team leadership Commercial awareness Adaptability Innovative thinking You will need to show a willingness to work outside normal office hours on occasions and flexibility for working from the office, home and clients premises. Ideally you will also: Be pursuing Chartership through the IMechE or RAeS Lead Engineers (Stress) Location: Bristol Salary **** to ****   \n",
       "21                                                                                                                                                                                                                                                                                                                                                                                                                                                                                                                                                                                                                                                                                                                                                                                                                                                                                                                                                                                                                                                                                                                                                                                                                                                                                                                                                                                                                                                                                                                                                                                                                                                                                                                                                      HOTEL AND CONFERENCE VENUE CHAIN  RELIEF CHEF DE PARTIE  SURREY  1 WEEK ASSIGNMENT  **** STAR  IMMEDIATE START  Our client on this assignment is a **** star property, part of a hotel and conference venue chain. Based in Croydon, Surrey; they are looking for a Relief Chef de Partie to assist them initially for a period of 1 week, but with a view to this being extended as the week progresses. This is a VERY busy operation, catering for C B and lunches of up to **** covers, and dinner for up to **** covers. The successful Relief Chef de Partie must be used to catering from fresh in high volume, and will be working in a team of 11 chefs. Accommodation is available on this assignment for those of you who do not live in the local area, but for those of you who do live close by, it may also be more suited to someone with their own transport as it is not walking distance to any public transport links. To apply for this position or for further information, please forward a copy of your CV to us quoting job reference TW/256 on all correspondence. Contact details: enquiriestowngatepersonnel.co.uk www.towngatepersonnel.co.uk   We value all applications, however due to the volume of response we are currently receiving, we are only able to contact candidates whose skills and experience closely match the requirements of our clients. In line with the requirements of the Asylum and Immigration Act **** all applicants must be eligible to live and work in the UK . As part of the recruitment process, you will be asked to provide documented evidence of eligibility. In line with the requirements of the Employment Agencies Act **** Towngate Personnel are prohibited from charging workseekers for work finding services. This job was originally posted as www.caterer.com/JobSeeking/ReliefChefdePartieCroydonSurreyLivein_job****   \n",
       "22                                                                                                                                                                                                                                                                                                                                                                                                                                                                                                                                                                                                                                                                                                                                                                                                                                                                                                                                                                                                                                                                                          Senior Control and Instrumentation Engineer . Reading, Berkshire. experienced C Senior Control and Instrumentation Engineer. Essential  Degree (or equivalent) in Electrical, Electronic or Control and Instrumentation Engineering or other relevant discipline. Chartered Engineer. Able to demonstrate sound technical experience. A sufficient and appropriate level of building services and controls experience gained within a client organisation, engineering consultancy or equipment supplier. Project management, including controls, planning and estimating and preparation of deliverable/work package. Desirable Working within a multidiscipline engineering team and having a general appreciation of other disciplines constraints and requirements. Nuclear safety case issues and NII site licence conditions. Building management systems. Fire detection and alarms. Telecoms. UPS. Experience of the nuclear industry. Experience of IEE Wiring Regulations 17th edition BS**** Experience of transmission (****kV) electrical plant and configuration design. Experience of distribution (up to ****kV) electrical plant and configuration design. Experience of protection and control design at Transmission and Distribution voltages. The Individual A confident and professional manner. Excellent communication skills. Ability to use initiative and demonstrate creativity. Self motivated and committed to further study. Ability to work within a team. Responsibilities Senior Controls and Instrumentation Engineer  Responsible for managing the control and instrumentation, and potentially electrical, design aspects of substation refurbishment/rekit projects and leading electrical/control aspects of major infrastructure projects from system studies and investment appraisals through to detailed design Act as Project Manager on design projects or on electrical, control and instrumentation aspects of multidisciplinary utilities infrastructure design projects. Mentoring and technical development of a team of junior engineers. Lead on the production of major bids. Cost and time control and reporting. Liaison with clients, suppliers and contractors. Specification, selection and justification of relevant equipment. Generation of Front End Engineering Design packages. Relevant equipment assessment and justification reports. Production of Commissioning Procedures. Production of Technical Specifications. Control Panel/Room Layout Reliability Assessment and C Reading, Berkshire   \n",
       "23                                                                                                                                                                                                                                                                                                                                                                                                                                                                                                                                                                                                                                                                                                                                                                                                                                                                                                                                                                                                                                                                                                                                                                                                                                                                                                                 Control and Instrumentation Engineer / C Reading. Our client is seeking applications from experienced C Control and Instrumentation Engineer / C Degree (or equivalent) in Electrical, Electronic or Control and Instrumentation Engineering or other relevant discipline. Chartered Engineer. Able to demonstrate sound technical experience. A sufficient and appropriate level of building services and controls experience gained within a client organisation, engineering consultancy or equipment supplier. Project management, including controls, planning and estimating and preparation of deliverable/work package. Desirable Working within a multidiscipline engineering team and having a general appreciation of other disciplines constraints and requirements. Nuclear safety case issues and NII site licence conditions. Building management systems. Fire detection and alarms. Telecoms. UPS. Experience of the nuclear industry. Experience of IEE Wiring Regulations 17th edition BS**** Experience of transmission (****kV) electrical plant and configuration design. Experience of distribution (up to ****kV) electrical plant and configuration design. Experience of protection and control design at Transmission and Distribution voltages. The Individual Control and Instrumentation Engineer  A confident and professional manner. Excellent communication skills. Ability to use initiative and demonstrate creativity. Self motivated and committed to further study. Ability to work within a team. Responsibilities  Responsible for providing technical input into the control and instrumentation, and potentially electrical, design aspects of substation refurbishment/rekit projects and leading electrical/control aspects of major infrastructure projects from system studies and investment appraisals through to detailed design. Liaison with clients, suppliers and contractors. Provide technical input into the specification, selection and justification of relevant equipment. Generation of Front End Engineering Design packages. Provide technical input into the relevant equipment assessment and justification reports. Production of Commissioning Procedures. Production of Technical Specifications. Control and Instrumentation Engineer / C Location Reading, Berkshire   \n",
       "24  Electrical / ICA Engineer Industry: Environment / Environmental Restoration, Water / Watershed Management We are currently looking for an ambitious Electrical / ICA Engineer with a broadranging background in the Water industry to join our team in Epsom. This role offers a chance for an ambitious engineer to join a busy team delivering work to a variety of clients including Southern Water, Thames Water. Projects include feasibility and outline design for Southern Water as part of our Centres of Excellence framework and also the opportunity to start work on our PR**** business planning opportunities for clients including Southern Water and Thames Water. In addition to this there are a variety of opportunities to work on international projects, based in the UK, but with potential for travel abroad to the Middle East, as an example. Work is also increasing in noncore sectors such as nuclear and oil & gas and there may be opportunities to work on projects within these sectors Requirements The appointed engineer must have a degree in a relevant discipline such as Electrical Engineering. Ideally applicants will be Chartered with the IET or alternative appropriate body, however we will consider candidates who are close to achieving chartership via the most appropriate route. The individual will be able to provide evidence of an ongoing programme of CPD. The individual candidate will be computer literate and able to work effectively work with the basic Microsoft suit of programmes as a minimum. Candidates must have extensive outline and detailed design experience within the Water/Wastewater Industry sector including areas such as potable water production and distribution, waste water treatment and sludge treatment and pumping systems. While we are ideally looking for a candidate with both electrical and ICA experience we are willing to consider candidates with only electrical experience. In addition, some or all of the following would be expected: experience of designing and working with LV electrical equipment (in addition HV experience is desirable), experience of working with WIMES specifications, candidates must be able to demonstrate design experience of: LV electrical design, including MCCs, distribution boards, cable systems etc, HV systems including transformers, RMU, circuit breakers, cable selection and sizing, protection coordination and grading, PLC and SCADA systems design and specification, field bus networks, building services, liaising with utility providers, concepts and requirements of DSEAR/ATEX compliance Responsibilities The role of a Electrical/ICA Engineer within the MEP business will require the individual to undertake the following duties: Project management of small and medium projects and sub projects on larger contracts, Control of budgets and project programmes under the supervision of a principal engineer, Feasibility, outline and detailed electrical and C&I design work, Electrical switchgear panel/MCC specification and design, Control and instrumentation systems functional specification and design, Understanding, interpreting and responding to the needs of other engineering disciplines such as mechanical, process and civil, Production of electrical, control and instrumentation design documentation Personal Qualities Excellent interpersonal, verbal and written communication skills. Electrical / ICA Engineer Location: Epsom, Surrey Salary: **** to **** Industry: Environment / Environmental Restoration, Water / Watershed Management   \n",
       "25                                                                                                                                                                                                                                                                                                                                                                                                                                                                                                                                                                                                                                                                                                                                        Pastry Chef for **** red star **** rosette hotel  **** Beautiful Victorian Country House Hotel awarded **** red stars and **** rosettes is looking for a pastry chef who is technically proficient, yet still values the art of cooking wholesome meals. As pastry chef you will be working in a brigade of around **** chefs, with complete control over the pastry section, having the ability to cook your own desserts for a restaurant that is the top 50 in the UK. If you have rosette experience, but feel that your talent is not being utilised enough, maybe this is the perfect job for you. You don't necessarily need to be at **** rosette level, but the aspiration and ability to learn is paramount  this is a well sought after position, and only the best will be considered. Set in acres of gorgeous lawn, with an acclaimed Head Chef that runs a very neat kitchen with an amazing crew, this Hotel is offering an opportunity that should not be missed. If you work to a very high standard and take real pride in your culinary skills then you could be perfect for the job. You must be the kind to pour your heart and soul into the cooking of some of the finest food around. Doing so is made easy with the fact that there is live in available for just **** per month In this fiery and passionate trade, talented pastry chefs are valued highly. As such the salary is very competitive, but more appealing is the job itself. If you really have what it takes and want to aspire to bigger and better things, and really put your mark on a kitchen that has **** red stars and **** rosette acclaim, then email to apply. Ref ****CW Consultant Chris Wilson  / **** **** Want a quick job search without the hassle of registering then paste www.clearselection.co.uk/search.php to your web browser and enjoy the experience. We are always busy and are constantly receiving new instructions from a number of different client's nationwide, which makes it good for candidates and us. In the majority of cases we have visited the client's establishment and even spent work days with them and have a very enviable reputation for finding the best for the best. If you desire a professional, honest and calm approach with the reassurance that your application will be treated confidentially if requested, we look forward to working on your behalf. Our Consultants love their jobs and its always worth trying to contact them on their mobiles in the evenings or at weekends, if you are to busy during the day. Remember if they do not contact you within **** hours, unfortunately you have not been successful in your application for this position. Clear Selection Recruitment is part of the Clear Selection Group Est. **** This job was originally posted as www.caterer.com/JobSeeking/PastryCheffor****redstar****rosettehotel****_job****   \n",
       "26                                                                                                                                                                                                                                                                                                                                                                                                                                                                                                                                                                                                                                                                                                                                                                                                                                                                                                                                                                                                                                                                                                                                                                                                                                       Senior Process Engineer We are seeking applications from highly experienced Process Engineers to join our clients multidiscipline design team working on a number of exciting major projects. We are principally looking for first class engineers who have the capacity to learn and develop their skills for the nuclear industry. Our client provides a comprehensive training programme as part of its staff development, so a lack of previous industry experience need not be a barrier to high calibre candidates. This role is based at our clients offices in Reading, though work is likely to involve periods of time within the bounds of their clients premises some travel will be required. Responsibilities Responsible for managing the process engineering design / design assessment aspects for a major nuclear facility Mentoring and technical development of junior process engineers Lead on the production of major bids Cost and time control and reporting. Liaison with clients, suppliers and contractors Specification, selection and justification of Process / Process Services equipment. Generation of Front End Engineering Design packages. Process Design Substantiation, Assessment and Justification reports (DSRs, DARs and DJRs). Requirements Successful candidates will be required to undergo a security vetting process and offers of employment will be subject to relevant security clearance being granted. Essential Degree in chemical engineering or other relevant discipline. Chartered Engineer Able to demonstrate sound technical experience A sufficient and appropriate level of process design experience gained within a site operator, engineering consultancy or equipment supplier Project management, including controls, planning and estimating and preparation of deliverable/work package Desirable Experience of the nuclear, pharmaceutical, oil and gas or other highly regulated industry Experience of safety case production / design substantiation Management of contractors / specialist equipment suppliers Working within a multidiscipline engineering team and having a general appreciation of other disciplines constraints and requirements Nuclear safety case issues and NII site licence conditions Senior Process Engineer Location: Reading, Berkshire Industry: Defence security clearance is required Salary: **** to ****   \n",
       "27                                                                                                                                                                                                                                                                                                                                                                                                                                                                                                                                                                                                                                                                                                                                                                                                                                                                                                                                                                                                                                                                                                                                                                                                                                                                                                                                                                                                                                                                                                CHEF DE PARTIE POSITION IN **** ROSETTE HOTEL N.YORKS  ****k  LIVE IN Our client is a stunning Hotel located in North Yorkshire. Serving authentic Modern British and French Cuisine in elegant surrounds, they enjoy a superb reputation in the area. This is a well organised and structured kitchen that has a stable brigade of **** who all work together to produce fantastic food using fresh local produce. Candidates will need good all round knowledge of the kitchen, be motivated and ambitious and have genuine love of food and cooking. Vacancy Details Chef de Partie Award winning operation Brigade of **** British and French food Fresh local produce Strong Head Chef A strong **** rosette operation If you are interested in this Chef de Partie vacancy then be quick as it does have an end date to the application. My details as below if you wish for more information: Consultant: Chris Wilson Ref: ****CW  / **** **** Want a quick job search without the hassle of registering then paste www.clearselection.co.uk/search.php to your web browser and enjoy the experience. We are always busy and are constantly receiving new instructions from a number of different client's nationwide, which makes it good for candidates and us. In the majority of cases we have visited the client's establishment and even spent work days with them and have a very enviable reputation for finding the best for the best. If you desire a professional, honest and calm approach with the reassurance that your application will be treated confidentially if requested, we look forward to working on your behalf. Our Consultants love their jobs and its always worth trying to contact them on their mobiles in the evenings or at weekends, if you are to busy during the day. Remember if they do not contact you within **** hours, unfortunately you have not been successful in your application for this position. Clear Selection Recruitment is part of the Clear Selection Group Est. **** This job was originally posted as www.caterer.com/JobSeeking/CHEFDEPARTIEPOSITIONIN****ROSETTEHOTELNYORKS****k_job****   \n",
       "28                                                                                                                                                                                                                                                                                                                                                                                                                                                                                                                                                                                                                                                                                                                                                                                                                                                                                                                                                                                                                                                          Senior Sous Chef for **** rosette kitchen, up to ****6000 My client has a very well maintained kitchen, awarded ****AA rosettes serving fine food with a classical style using modern techniques in a **** red star hotel. The Head Chef is a very talented individual who runs a tight ship that needs another leader to join the ranks. As Senior Sous you would need to have the ability to deputise in the Head Chefs absence and ensure the quality of the kitchen does not falter. For this you would ideally have a background in ****AA rosette cooking, or be a very strong and talented chef with 2AA rosette experience. There is a live in opportunity available for very little cost, meaning no matter where you are in the UK there is nothing stopping you from making that next step in your career and working somewhere nationally recognised and acclaimed. In the top 50 Hotels in the UK, this Senior Sous Chef position is a real responsibility, so I am only looking for the strongest of candidates with a natural leadership, but still happy to take orders and learn from a senior chef. If you are serious about your food, love classical British menus with a modern twist and have what it takes to work alongside the best, creating the best then email to apply and get that job you've dreamt of for so long. Ref ****CW Consultant Chris Wilson  / **** **** Want a quick job search without the hassle of registering then paste www.clearselection.co.uk/search.php to your web browser and enjoy the experience. We are always busy and are constantly receiving new instructions from a number of different client's nationwide, which makes it good for candidates and us. In the majority of cases we have visited the client's establishment and even spent work days with them and have a very enviable reputation for finding the best for the best. If you desire a professional, honest and calm approach with the reassurance that your application will be treated confidentially if requested, we look forward to working on your behalf. Our Consultants love their jobs and its always worth trying to contact them on their mobiles in the evenings or at weekends, if you are to busy during the day. Remember if they do not contact you within **** hours, unfortunately you have not been successful in your application for this position. Clear Selection Recruitment is part of the Clear Selection Group Est. **** This job was originally posted as www.caterer.com/JobSeeking/SeniorSousCheffor****rosettekitchenupto****_job****   \n",
       "29                                                                                                                                                                                                                                                                                                                                                                                                                                                                                                                                                                                                                                                                                                                                                                                                                                                                                                                                                                                                                                                                                                                                                                                                                                                                                                                                                                                                                                                                                                                                                                                                                                                 Senior General Manager – Funky, Cool, Casual Restaurant Concept  Flagship Site We're looking for a General Manager who wants to run large sites for a great company and make a name for themselves. The Client Their mission is to be different; serving great honest tasty food by cool laidback people in individually designed restaurants. The company has huge expansion plans in place and needs great General Managers. You are able to express yourself and bring your personality. The Role As a General Manager you will be involved with all aspects of running these restaurants; from financials to training and driving sales. The company loves new ideas and input from its Managers as the company is continuing to evolve. We need General Managers who are fun, who love people and can make the rest of their team and customers happy. Essential Skills Experience required for a General Manager •We're looking for General Managers with 1 years experience managing their own site. •You must be great with your people and able to connect with your customers •Passion and drive with a focus on customer service Rewards – General Manager •Great Salary up to ****k  Bonus •Great training and opportunities – Lots of new openings •Great company, exciting time, amazing people Please send your CV to Rory at rorybeerec.com or call on **** Due to the high number of applicants we receive sadly we cannot reply to everyone, therefore if you do not hear back from us within 5 days please assume you have been unsuccessful this time Candidate Information, General Manager All candidates must provide proof of identity and eligibility to work in the UK along with and relevant supporting qualifications. Bee Recruitment is an equal opportunities employer, a recruitment agency dedicated to recruitment in the hospitality industry. This job was originally posted as www.caterer.com/JobSeeking/GeneralManagerFunkyCoolRestaurantConceptLondon****k_job****   \n",
       "30                                                                                                                                                                                                                                                                                                                                                                                                                                                                                                                                                                                                                                                                                                                                                                                                                                                                                                                                                                                                                                                                                                                                                                                                                                                                                                                                                                                                                                                                                                                                                                                                                                                                                                                                                                                                                                                                                                                                                                                                                                                                                                                                                                                                                                                              Our client, a national hotel chain is seeking an experienced MICE Sales Manager to join their successful team for one of their **** properties. The hotel has approximately ****0 bedrooms and 8 conference rooms. You must live within commutable distance to Buckinghamshire, such as Berkshire, Hampshire, Oxfordshire, Hertfordshire or Middlesex. As MICE Sales and Marketing Manager you will be responsible for the proactive development of new business from the MICE corporate and leisure sectors. The MICE Sales and Marketing Manager will also develop existing accounts through the successful creation of the Sales and Marketing plan and Business Plans. As MICE Sales and Marketing Manager you will oversee the Meetings and Events team which consists of three people, and be responsible for their training and development. The MICE Sales and Marketing Manager will need to perform well under pressure and meet set targets for appointments and revenue generation. The MICE Sales and Marketing Manager role is a fantastic opportunity for an existing Sales Manager or Senior Sales Executive with people management skills. You will have previous experience in hotel sales, be flexible and friendly in your approach and able to offer support to others. This job was originally posted as www.caterer.com/JobSeeking/MICESalesandMarketingManager_job****   \n",
       "31                                                                                                                                                                                                                                                                                                                                                                                                                                                                                                                                                                                                                                                                                                                                                                                                                                                                                                                                                                                                                                                                                                                                                                                                                                                                                                                                                                                                                                                                                                                                                                                                                                                                                                                                                                                                                                                                                                                                                                                                                                                                                                                                        A leading company that provides stock market analysis software for both the professional and private investor markets is currently in the hunt for a Junior and Senior C/C++ Software Developer. They have been working as one of the Best UK s Investment Software for the last six years and their development team is expanding to deliver exciting new products. Should you find the role interesting, kindly forward an updated CV elaborating your skills that match with the requirements along with a Cover Letter detailing why you are the right person for the role on offer Below are the job details of the said vacancy: You will be working mainly in an MS Windows environment but required to be flexible in technology with web development. You should have a good numerate Computer Science or AI Degree (at least 2:****) Strong software development and coding skills using C/C++, MFC and Visual Studio **** For the Senior Developer role it is desirable to have at least 2 years commercial C/C++ development experience. Other desirable skills Understanding of data compression techniques Interest in the financial markets and financial calculation Good working knowledge of GUI design, Windows development using MFC and Win**** HTTP, TCP/IP, sockets and network programming System administration skills would also be an advantage. If you think you have what it takes to be part of a dynamic and progressive company who values a flexible working environment, apply now   \n",
       "32                                                                                                                                                                                                                                                                                                                                                                                                                                                                                                                                                                                                                                                                                                                                                                                                                                                                                                                                                                                                                                                                                                                                                                                                                                                                                                                                                                                                                                                                                                                                                                                                                                                                                                                                                                                                                                                                                                                                                                                                                                                                                                                                                                                                                                                                                                                                                                                                                                                                                                                                                                                                                                                                                                                                                                                                                                                                                                                                                                      A skilled Senior PHP Developer is required by a leading provider of webbased services and clinical management software based in Central London. The role will involve working with a software architect to develop the company s core products and take over the lead development of these systems. Essential Requirements: Minimum of **** years experience in PHP Development Expertise in PHP **** and MySQL 5 Fluency in OOP Experience in Linux and Apache, Web services, multiserver platforms and cloud computing Experience in Windows/IIS PHP deployments, jQuery, Prototype and XML is desirable. If you are someone who d like to take on a new challenge, send your CV now   \n",
       "33                                                                                                                                                                                                                                                                                                                                                                                                                                                                                                                                                                                                                                                                                                                                                                                                                                                                                                                                                                                                                                                                                                                                                                                                                                                                                                                                                                                                                                                                                                                                                                                                                                                                                                                                                                                                                                                                                                                                                                                                                                                                                                                                                                                                                                                                                                                                                                                                                                                                                                                                                                                                                                                                                                                                                                                                                                          SENIOR WEBSITE DESIGNER Location: York, East Yorkshire Type: Permanent Salary: up to ****K (DOE) One of UK s most renowned digital media company is looking to hire a Senior Website Designer to join their team of designers. The successful candidate will be responsible for designing ecommerce websites, developing client strategy with the creative director and in assisting in the development of design. Requirements: 3 years solid experience in ecommerce website design Knowledge in Information Architecture process Must have an understanding of MVT Adobe Suite knowledge also required Prior experience of working in an agency environment will be an advantage but not essential Don t miss this great and exciting opportunity to work for a leading digital media company. Send your CV now   \n",
       "34                                                                                                                                                                                                                                                                                                                                                                                                                                                                                                                                                                                                                                                                                                                                                                                                                                                                                                                                                                                                                                                                                                                                                                                                                                                                                                                                                                                                                                                                                                                                                                                                                                                                                                                                                                                                                                                                                                                                                                                                                                                                                                                                                              The Company: Our client are a full service, creative driven, brand & digital communications agency based in Newcastle upon Tyne, specialising in on and offline brand communications and applications. Due to an ever increasing client portfolio and ambition to continue their growth, they are looking for a Business Development Manager. The Role: Reporting to the Managing Director, the Business Development Manager will be responsible for developing new design and digital business throughout the UK. Responsibilities include: Developing new business throughout the UK. Research and identify potential clients. Create and maintain good working relationships with key decision makers and influencers of potential clients. Make proactive outbound calls and emails to contact prospective clients. Maximise each sales opportunity. Attend industry events and networking events representing the company. Present to potential clients over the phone or face to face. The Individual: Will have a proven track record in business to business sales, ideally within a related field. Must be a good negotiator who can close a deal. Will have strong communication skills. Should have excellent time management and organisational skills. Ideally be self motivated individual who can motivate others. Must be commercially aware and financially motivated. Must possess good account management skills, be able to maintain relationships as well as develop them   \n",
       "35                                                                                                                                                                                                                                                                                                                                                                                                                                                                                                                                                                                                                                                                                                                                                                                                                                                                                                                                                                                                                                                                                                                                                                                                                                                                                                                                                                                                                   Welwyn Chef de Partie does it get any better than this? **** Rosettes, Mentioned in all major guides, Great National Press reviews and a fabulous team. My client is eager to find a talented Chef de Partie who can create exciting food using some of the best ingredients around. This Chef de Partie vacancy is about fine dining not the casual Rustic approach. Situated within easy driving distance of Welwyn this really is a superb opportunity for a Chef de Partie to flourish and excel. You will need to possess the ability to cope well under pressure, enjoy the buzz of a busy service and be a true team worker. Chef de Partie Details Country Setting Busy Operation Good Job Security Established Team Large Kitchen Team True Fresh Produce Mentioned in all the guides Modern Food Interested and ready to join a great establishment? Then please mail over your details or call me on the number below for a chat Consultant: Chris Wilson Ref: ****CW Chef de Partie Award Winning Nr Welwyn  / **** **** Want a quick job search without the hassle of registering then paste www.clearselection.co.uk/search.php to your web browser and enjoy the experience. We are always busy and are constantly receiving new instructions from a number of different client's nationwide, which makes it good for candidates and us. In the majority of cases we have visited the client's establishment and even spent work days with them and have a very enviable reputation for finding the best for the best. If you desire a professional, honest and calm approach with the reassurance that your application will be treated confidentially if requested, we look forward to working on your behalf. Our Consultants love their jobs and its always worth trying to contact them on their mobiles in the evenings or at weekends, if you are to busy during the day. Remember if they do not contact you within **** hours, unfortunately you have not been successful in your application for this position. Clear Selection Recruitment is part of the Clear Selection Group Est. **** This job was originally posted as www.caterer.com/JobSeeking/WelwynChefdePartiedoesitgetanybetterthanthis****_job****   \n",
       "36                                                                                                                                                                                                                                                                                                                                                                                                                                                                                                                                                                                                                                                                                                                                                                                                                                                                                                                                                                                                                                                                                                                                                                                                                                                                     Chef de Partie Sauce Award Winning Hertford **** Ready to work in a TwoRosette Restaurant and assist our client the Head Chef in producing high quality fresh food. We are seeking to find a Chef de Partie for this multi award winning Restaurant situated within **** minutes drive of Hertford, Hertfordshire. We would envisage that you will already have similar experience as a Chef De Partie or maybe you are an ambitious Demi Chef de Partie looking for your next move. You will love the pressure of producing a high standard of food, know your ingredients and be very eager to progress. For this Chef De Partie role, my client is offering sensible hours including some straight shifts and the chance to work with lots of local ingredients. Maybe you are working in an establishment that is not as successful, maybe you are working in an unprofessional environment maybe its just time for a change. Interested in this Chef de Partie vacancy and ready to join a great establishment? Then please mail over your details or call me on the number below for a chat Consultant: Chris Wilson Ref: ****CW Chef de Partie Award Winning Hertford  / **** **** Want a quick job search without the hassle of registering then paste www.clearselection.co.uk/search.php to your web browser and enjoy the experience. We are always busy and are constantly receiving new instructions from a number of different client's nationwide, which makes it good for candidates and us. In the majority of cases we have visited the client's establishment and even spent work days with them and have a very enviable reputation for finding the best for the best. If you desire a professional, honest and calm approach with the reassurance that your application will be treated confidentially if requested, we look forward to working on your behalf. Our Consultants love their jobs and its always worth trying to contact them on their mobiles in the evenings or at weekends, if you are to busy during the day. Remember if they do not contact you within **** hours, unfortunately you have not been successful in your application for this position. Clear Selection Recruitment is part of the Clear Selection Group Est. **** This job was originally posted as www.caterer.com/JobSeeking/ChefdePartieSauceAwardWinningHertford****_job****   \n",
       "37                                                                                                                                                                                                                                                                                                                                                                                                                                                                                                                                                                                                                                                                                                                                                                                                                                                                                                                                                                                                                                                                                                                                                                                                                                                                                                                                                                                        Pastry Chef De Partie AL**** **** ****AA Rosette My client is looking for a Pastry Chef De Partie to start straight away in their ****AA rosette restaurant in a **** star hotel. Working alongside another Pastry Chef it is not necessary to have rosette experience providing you have the natural talent and ability as well as eagerness to learn. Job Specs: Pastry Chef De Partie **** out of 7 days on **** consecutive days off **** hours a week **** early, **** late, **** doubles **** cover restaurant Breakfast shift at 8am Benefits: Up to****pa Tips Life insurance Healthcare Pension Staff uniform Meals on duty Live in available The Candidate: Pastry qualified (NVQs) Preferably Pastry Chef De Partie experience (or good demi) Eager to learn Hard working Living locally or able to relocate ASAP So if you are a Pastry Chef De Partie looking for a great position working alongside an amazing bunch of colleagues then email or just call **** **** for a quick chat. Consultant: Chris Wilson Ref: ****CW Pastry Chef Stevenage  / **** **** Want a quick job search without the hassle of registering then paste www.clearselection.co.uk/search.php to your web browser and enjoy the experience. We are always busy and are constantly receiving new instructions from a number of different client's nationwide, which makes it good for candidates and us. In the majority of cases we have visited the client's establishment and even spent work days with them and have a very enviable reputation for finding the best for the best. If you desire a professional, honest and calm approach with the reassurance that your application will be treated confidentially if requested, we look forward to working on your behalf. Our Consultants love their jobs and its always worth trying to contact them on their mobiles in the evenings or at weekends, if you are to busy during the day. Remember if they do not contact you within **** hours, unfortunately you have not been successful in your application for this position. Clear Selection Recruitment is part of the Clear Selection Group Est. **** This job was originally posted as www.caterer.com/JobSeeking/PastryChefAL****AARosetteRestaurant_job****   \n",
       "38                                                                                                                                                                                                                                                                                                                                                                                                                                                                                                                                                                                                                                                                                                                                                                                                                                                                                                                                                                                                                                                                                                                                                                                                                                                                                                                                                                                                                                                                                                                                                                                                                                                                                                                                                                                                                                                                                                                                                                                                                                                                                                                                                                                                                                                                                                                                                                                                                                                                                                                                                                                                                      An expanding software and consultancy services company based in Cambridge is in need of QA Engineers to join their team of QA Analysts and Developers. In this role, you will be working closely with the development team to review requirements and specifications, produce test plans and reports and initialise testing and profiling. Requirements: A Degree or post graduate qualification Commercial experience in Software Testing (Manual and Automated Testing) Experience of software applications for some or all of version control, defect tracking, test case management, test suite automation Experience in the following: o Commandline tools and scripting Experience in one or more of the following areas Text mining Grid computing Natural Language Processing Life Sciences Chemistry Web applications Web services Security Automated GUI testing Understanding of cross platform issues This is a great opportunity to expand your skills and be part of a rapidly growing organisation. Send in your CV now   \n",
       "39                                                                                                                                                                                                                                                                                                                                                                                                                                                                                                                                                                                                                                                                                                                                                                                                                                                                                                                                                                                                                                                                                                                                                                                                                                                                                                                                                                                                                                                                                                                                                                                                                                                                                                                                                                                                                                                                                                                                                                                                                                                                                                                                                                                                                                                                                                                                                                                                                                                                                                                                                                                                                                                                 Our client is looking for a Documentation Engineer/Technical Author. The preffered candidate will be practiced in interpreting engineering drawings and producing instructional documentation based on the information gained. Candidates must be proficient in Microsoft Office suite of applications predominantly Word. Looking for experience in the production of documentation in one or more of the following areas:  Operation and Maintenance Instructions  Recovery Instructions  Schedule of Recommended Spares  Commissioning Method Statements   System Performance Demonstrations  Training Materials Candidates must have good communications skills, being able to liaise with inhouse engineering design personnel and to interface with client representatives. CE hands on experience in a nuclear plant environment. Plant commissioning experience is a valuable asset. Security clearance to Basic Check (BC) I Revised Baseline Standard (RBS) level is advantageous   \n",
       "40                                                                                                                                                                                                                                                                                                                                                                                                                                                                                                                                                                                                                                                                                                                                                                                                                                                                                                                                                                                                                                                                                                                                                                                                                                                                                                                                                                                                                                                    Are you fluent in English and another European language? Are you looking for an exciting opportunity to use your languages in a fastpaced Customer Service role? We are presenting the opportunity to work for a leading Global Conferencing provider; we are currently looking for bright and dynamic language speakers to join the busy multilingual European Customer Service team. Working within this busy and dynamic office, you will be dealing with business clients on a daily basis. You will be setting up and managing live teleconferences, from office meetings, court hearings to large business events. This is an office based role dealing with inbound/outbound calls and managing the automated conference service. Above all you will consistently provide excellent customer service to valuable clients, and be an outstanding representative for the company. This client is an upandcoming company, excellent to work for, who are stronger than ever during the current economic climate. The company offer a welcoming and supportive working environment as well as fantastic career progression opportunities and an excellent benefit package You must be fluent in English AND at least one of the following languages: German, French, Spanish, Italian, Portuguese, Dutch, Swedish, Finnish or Russian. You must also have: Customer Service experience (this can be retail, hospitality, receptionist, office, customer service, call centre). Experience dealing with business clients (B2B) would be preferable. Proven ability to use your own initiative and work well under pressure. Other important qualities are organisation, attention to detail, strong communication skills and reliability/punctuality. This is a fulltime permanent position based in Croydon, Surrey. Hours of work are Monday to Friday shifts between ****:30am ****:00pm, however flexibility is required to meet customer requirements and bank holiday working may be required. Bilingual, customer service, call centre, contact centre, events, event management, event coordinator, teleconferencing, teleconference, telecommunications, telecoms, languages, language skills   \n",
       "41                                                                                                                                                                                                                                                                                                                                                                                                                                                                                                                                                                                                                                                                                                                                                                                                                                                                                                                                                                                                                                                                                                                                                                                                                                                                                                                                                                                                                                                                                                                                                                                                                                                                                                                        Are you fluent in English and German? Are you looking for an exciting opportunity to use your language skills in a fastpaced Customer Service role? We are presenting the opportunity to work for a leading Global Conferencing provider; we are currently looking for a bright and dynamic Germanspeaker to join the busy multilingual European Customer Service team. Working within this busy yet friendly office, you will be dealing with business clients on a daily basis. You will be setting up and managing live teleconferences, from office meetings, court hearings to large business events. This is an office based role dealing with inbound/outbound calls and managing the automated conference service. Above all you will consistently provide excellent customer service to valuable clients, and be an outstanding representative for the company. This client is a successful company, excellent to work for, who are stronger than ever during the current economic climate. The company offer a welcoming and supportive working environment as well as fantastic career progression opportunities and an excellent benefit package You must be fluent in German Customer Service experience (this can be retail, hospitality, receptionist, office, customer service, call centre). Experience dealing with business clients (B2B) would be preferable. Proven ability to use your own initiative and work well under pressure. Other important qualities are organisation, attention to detail, strong communication skills and reliability/punctuality. This is a fulltime permanent position based in Croydon, Surrey. Hours of work are Monday to Friday shifts between ****:30am ****:00pm. Bilingual, German, customer service, call centre, contact centre, events, event management, event coordinator, teleconferencing, teleconference, telecommunications, telecoms, languages, language skills   \n",
       "42                                                                                                                                                                                                                                                                                                                                                                                                                                                                                                                                                                                                                                                                                                                                                                                                                                                                                                                                                                                                                                                                                                                                                                                                                                                                                                                                                                                                                                                                                                                                                                                                                                                                                                                                                                                                                                                                                                                                                                                                                                                                                                                                                                                                                                                                                                                                                                                                                                                                                                                                                                                                                                                                                                                                                                                                                                                                                                                                                                                                                                                                                                                                                                                                                                                                                                                                                                                                                                                                                                                  Senior Planning Engineer, Nuclear Experience Required, Primavera P**** Working half the time in Manchester and half the time at Sellafield   \n",
       "43                                                                                                                                                                                                                                                                                                                                                                                                                                                                                                                                                                                                                                                                                                                                                                                                                                                                                                                                                                                                                                                                                                                                                                                                                                                                                                                                                                                                                                                                                                                                                                                                                                                                                                                                                                    Do you have experience in Customer Service? Do you speak another European language? If so we want to hear from you We are presenting the opportunity to work for a leading Communications company within their multilingual Customer Service team. Working within a busy and dynamic service centre, you will book and confirm Reservations by telephone, fax and email, and check booking details with the customer, giving them the appropriate information to ensure the service runs smoothly. This is an office based role dealing with inbound calls from business clients. Above all you will consistently provide excellent customer service to valuable clients, and be an outstanding representative for the company. This role presents the opportunity to use your language skills, as you would be liaising with international clients. Our client is an established and internationally successful company, who are excellent to work for, and stronger than ever during the current economic climate. The company offer thorough training, a welcoming and supportive working environment, as well as fantastic career progression opportunities and an excellent benefits package The right candidate must be committed, reliable and have an excellent telephone manner. You must be fluent in English and one of the following languages (French, German, Danish, Dutch, Swedish, Finnish, Italian or Spanish). Candidates with experience in telesales, callcentre, customer service, receptionist or travel are ideal for this role You must also demonstrate the ability to use your own initiative and work well under pressure. Working hours are MondayFriday, and flexibility to work shift patterns (including early starts) is a must. Basic salary is ****  ****  **** bonus  language supplement. This is a fulltime permanent position based in Gloucester   \n",
       "44                                                                                                                                                                                                                                                                                                                                                                                                                                                                                                                                                                                                                                                                                                                                                                                                                                                                                                                                                                                                                                                                                                                                                                                                                                                                                                                                                                                                                                                                                                                                                                                                                                                                                                                                                                                                                                                                                                                                                                                                                                                                                                                                                                                                                                                                                                                                                                                                                                                                                                                                                                                                                                                                                                                                                                                   We are looking for a motivated, hard working, conscientious members of staff to work in accordance with our junior course programme coaching trampolining on a Saturday mornings ****:30am  ****:30pm term time. This individual will compliment our existing team. The post holder must hold as a minimum Level 1 in Trampolining (British Gymnastics) and have experience in working with children, be fun, outgoing and have excellent customer service skills and be able to instruct in line with the British Gymnastics syllabus. This post are exempt from the Rehabilitation of Offenders Act **** and will be conditional upon a satisfactory disclosure from the Criminal Records Bureau Hertsmere Leisure is an equal opportunities employer.Hertsmere Leisure promotes a positive attitude towards attendance at work.  following successful probation period   \n",
       "45                                                                                                                                                                                                                                                                                                                                                                                                                                                                                                                                                                                                                                                                                                                                                                                                                                                                                                                                                                                                                                                                                                                                                                                                                                                                                                                                                                                                                                                                                                                                                                                                                                                                                                                                                                                                                                                                                                                                                                                                                                                                      Do you have a passion for Swimming? Can you motivate others to improve their skills? If the answer is yes and you have a ASA UKCC Level 2 or STA Full qualification, this could be the job for you Kirklees Active Leisure is looking to develop and grow our existing swimming instructor program for both children and adults and we are looking for enthusiastic individuals to join our team on a Self Employed Basis and become part of our KAL Swim Academy Programme across our sites. We are actively seeking individuals who can teach swimming including a wide range of disciplines including Coaching, Triathlon, Adult and Child, Disabilities, Synchro, Waterpolo, and Diving (information for CPD upskilling is available on a regular basis). You will stand out because of your motivational and fun style of teaching, passion for Swimming and your ability to inspire people, ensuring pupils enjoy your sessions week on week. You will be a vibrant presence in our facilities and willing to go that extra mile. To apply for this opportunity you will need to have proof of your qualification and public liability insurance. Most sessions are held on evenings and weekends and availability differs at each pool. For an informal discussion regarding this opportunity please contact the Aquatics Manager at your Kirklees Active Leisure local pool. An Enhanced Criminal Record Bureau (CRB) Disclosure is required for these posts, a conviction will not necessarily exclude a candidate but will be considered as part of the recruitment process.   \n",
       "46                                                                                                                                                                                                                                                                                                                                                                                                                                                                                                                                                                                                                                                                                                                                                                                                                                                                                                                                                                                                                                                                                                                                                                                                                                                                                                                                                                                                                                                                                                                                                                                                                                                                                                                                                                                                                                                                                                                                                                                                                                                                                 Do you have a passion for Sport? Can you motivate others to improve their skills? Do you have a valid Level 1 or Level 2 National Governing Body Qualification? Kirklees Active Leisure (KAL) is looking to develop and grow our existing sport coaching programme for both adults and young people and we are looking for enthusiastic individuals to join our teams on a Self Employed basis and become part of our Sport Coaching Programmes across our sites. We are actively seeking individuals who can coach a wide range of sports including Gymnstics, Trampolining, Netball, Football and Climbing. You will stand out because of your motivational style of Coaching, passion for Sport and your ability to inspire people, ensuring individuals return to your session week on week. You will be a vibrant presence in our facilities and will be willing to go that extra mile for our customers. To apply for this opportunity you will need to have proof of your qualification and public liability insurance. Various hourly sessions are held throughout the week including evenings and weekends and availability differs at each Centre. For an informal discussion regarding this opportunity please contact the Sports Activity Manager at your Kirklees Active Leisure Centre. Details of all our Centre's are shown on www.kirkleesactive.co.uk . An Enhanced Criminal Record Bureau (CRB) Disclosure is required for these posts, a conviction will not necessarily exclude a candidate but will be considered as part of the recruitment process.   \n",
       "47                                                                                                                                                                                                                                                                                                                                                                                                                                                                                                                                                                                                                                                                                                                                                                                                                                                                                                                                                                                                                                                                                                                                                                                                                                                                                                                                                                                                                                                                                                                                                                                                                                                                                                                                                                                                                                                                                                                                                                                                                                                                                                                                                                                                                                                                                                                                                                                                                                                                                                                                                                                                                                                                                                                                                                                                                                                                                                                                                                                                                                                                                                                                                                                                                                                                             We are looking for outgoing, friendly people to join our crew. Previous experience is always helpful but not essential, as long as you enjoy looking after people and are able to work evenings and weekends, we would like to hear from you. We are very flexible and try to work around people's commitmentshowever you run your life we're sure you'll enjoy working for us.   \n",
       "48                                                                                                                                                                                                                                                                                                                                                                                                                                                                                                                                                                                                                                                                                                                                                                                                                                                                                                                                                                                                                                                                                                                                                                                                                                                                                                                                                                                                                                                                                                                                                                                                                                                                                                                                                                                                                                                                                                                                                                                                                                                                                                                                                                                                       We are looking for an experienced Deputy Manager with a big front of house character and good knowledge of food, wine and beer to help run the pub alongside the Manager. You will frequently work opposite shifts to the manager, and run the pub in the manager's absence, so the skill sets needed are broadly the same. You won't carry the full weight of responsibility for the wellbeing of the business, but you will be the manager's righthand person, and will be a senior member of the management team, making decisions and directing things on a daily basis. You'll need to understand and love pubs, take real pleasure in making people happy and play a full role in keeping the business profitable, the crew happy and the customers coming back for more. Being a deputy manager is an ideal opportunity to gain knowledge and experience of every aspect of pub life. We see our deputy managers as our managers of the future, and try to promote from within whenever we can. Our rate of growth means that there are exciting opportunities springing up all the time, and you will be able to develop your career at a pace that is appropriate to you. Contact: Please send your CV with a covering letter telling us what makes you tick Please take some time to look through our website http://www.brunningandprice.co.uk/ and ensure that you include a covering letter when at the final stage of your application.   \n",
       "49                                                                                                                                                                                                                                                                                                                                                                                                                                                                                                                                                                                                                                                                                                                                                                                                                                                                                                                                                                                                                                                                                                                                                                                                                                                                                                                                                                                                                                                                                                                                                                                                                                                                                                                                                                                                                                                                                                                                                                                                                                                                                                                                                                                                                                                                                                                                                                                                                                                                                                                                                                                                                                                                                                                                                                                                                                                                                                                                                                                                                                                                                                                                                    We are looking for outgoing, friendly people to join our crew. Previous experience is always helpful but not essential, as long as you enjoy looking after people and are able to work evenings and weekends, we would like to hear from you. We are very flexible and try to work around people's commitmentshowever you run your life we're sure you'll enjoy working for us. Contact: If you think you have got what it takes please send your CV along with a cover letter telling us about yourself   \n",
       "\n",
       "                                                                                                                                                                                                                                                                                                                                                                                                                                                                                                                                                                                                                                                                                                                                                                                                                                                                                                                                                                                                                                                                                                                                                                                                                                                                                                                                                                                                                                                                                                                                                                                                                                                                                                                                                                                                                                                                                                                                                                                                                                                                                                                                                                                                                                                                                                                                                                                                                                                                                                                                                                                                                                                                                                                                                                                                                                                                                                                                                                                                                                                                                                                                                                                                                                                                                                                                                                                                                                                                                                                                                                                                                                     processed_FullDescription  \n",
       "0                                                                                                                                                                                                                                                                                                                                                                                                                                                                                                                                                                                                                                                                                                                                                                                                                                                                                                                                                                                                                                                                                                                                                                                                                                                                                                                                                                                                                                                                                                                                                                                                                                                                                                                                                                                                                                                                                                                                                                                                                                                                                                                                                                                                                                                                                                                                                                                                                                                                                                                                                                                                                                                                                                                                                                                                                                                                                                                                                                                                                                                                                                                                                                                                                                                                                                 engineering systems analyst dorking surrey salary     k our client is located in dorking  surrey and are looking for engineering systems analyst our client provides specialist software development keywords mathematical modelling  risk analysis  system modelling  optimisation  miser  pioneeer engineering systems analyst dorking surrey salary     k  \n",
       "1                                                                                                                                                                                                                                                                                                                                                                                                                                                                                                                                                                                                                                                                                                                                                                                                                                                                                                                                                                                                                                                                                                                                                                                                                                                                                                                                                                                                                                                                                                                                                                                                                                                                                                                                                                                                                                                                                                                                            stress engineer glasgow salary      to      we re currently looking for talented engineers to join our growing glasgow team at a variety of levels  the roles are ideally suited to high calibre engineering graduates with any level of appropriate experience  so that we can give you the opportunity to use your technical skills to provide high quality input to our aerospace projects  spanning both aerostructures and aeroengines  in return  you can expect good career opportunities and the chance for advancement and personal and professional development  support while you gain chartership and some opportunities to possibly travel or work in other offices  in or outside of the uk  the requirements you will need to have a good engineering degree that includes structural analysis  such as aeronautical  mechanical  automotive  civil  with some experience in a professional engineering environment relevant to  but not limited to  the aerospace sector  you will need to demonstrate experience in at least one or more of the following areas  structural stress analysis composite stress analysis  any industry  linear and nonlinear finite element analysis fatigue and damage tolerance structural dynamics thermal analysis aerostructures experience you will also be expected to demonstrate the following qualities  a strong desire to progress quickly to a position of leadership professional approach strong communication skills  written and verbal commercial awareness team working  being comfortable working in international teams and self managing please note security clearance is required for this role stress engineer glasgow salary      to       \n",
       "2                                                                                                                                                                                                                                                                                                                                                                                                                                                                                                                                                                                                                                                                                                                                                                                                                                                                                                                                                                                                                                                                                                                                                                                                                                                                                                                                                                                                                                                                                                                                                                                                                                                                                                                                                                                                                  mathematical modeller   simulation analyst   operational analyst basingstoke  hampshire up to     k aae pension contribution  private medical and dental the opportunity our client is an independent consultancy firm which has an opportunity for a data analyst with 35 years experience  the role will require the successful candidate to demonstrate their ability to analyse a problem and arrive at a solution  with varying levels of data being available  essential skills thorough knowledge of excel and proven ability to utilise this to create powerful decision support models experience in modelling and simulation techniques  experience of techniques such as discrete event simulation and or sd modelling mathematical scientific background  minimum degree qualified proven analytical and problem solving skills self starter ability to develop solid working relationships in addition to formal qualifications and experience  the successful candidate will require excellent written and verbal communication skills  be energetic  enterprising and have a determination to succeed  they will be required to build solid working relationships  both internally with colleagues and  most importantly  externally with our clients  they must be comfortable working independently to deliver against challenging client demands  the offices are located in basingstoke  hampshire  but our client work for clients worldwide  the successful candidate must therefore be prepared to undertake work at client sites for short periods of time  physics  mathematics  modelling  simulation  analytical  operational research  mathematical modelling mathematical modeller   simulation analyst   operational analyst basingstoke  hampshire     k aae pension contribution  private medical and dental  \n",
       "3                                                                                                                                                                                                                                                                                                                                                                                                                                                                                                                                                                                                                                                                                                                                                                                                                                                                                                                                                                                                                                                                                                                                                                                                                                                                                                                                                                                                                                                                                                                                                                                                                                                                                                                                                                                                                                                                                                                                                                                                                                                                                                                                                                                                                                                                                                                                                                                                                                                                                                                                                                                                                                                                                                                                                                                                                                                                                                                                                                                                                                                                                                                                                                                                                                                engineering systems analyst   mathematical modeller  our client is a highly successful and respected consultancy providing specialist software development miser  pioneer  maths  mathematical  optimisation  risk analysis  asset management  water industry  access  excel  vba  sql  systems   engineering systems analyst   mathematical modeller  salary      k    k negotiable location dorking  surrey  \n",
       "4                                                                                                                                                                                                                                                                                                                                                                                                                                                                                                                                                                                                                                                                                                                                                                                                                                                                                                                                                                                                                                                                                                                                                                                                                                                                                                                                                                                                                                                                                                                                                                                                                                                                                                                                                                                                                                                                                                                                                                                                                                                                                                                                                                                                                                                                                                                                                                                                                                                                                                                                                                                                                                                                                                                                                                                                                                                                                                                                                                                                                                                                                                                                                                                                                                                                                                                                                                                                                                     pioneer  miser  engineering systems analyst dorking  surrey salary     k located in surrey  our client provides specialist software development pioneer  miser  engineering systems analyst dorking  surrey salary     k  \n",
       "5                                                                                                                                                                                                                                                                                                                                                                                                                                                                                                                                                                                                                                                                                                                                                                                                                                                                                                                                                                                                                                                                                                                                                                                                                                                                                                                                                                                                                                                                                                                                                                                                                                                                                                                                                                                                                                                                                                                                                                                           engineering systems analyst water industry location  dorking surrey salary       to      located in surrey  our client provides specialist software development systems analysis and software engineering  the projects cover a wide variety of topics typically working in small teams  our client can offer you intellectually challenging work undertaken within a supportive environment where personal development is nurtured and rewarded  this role will be working within a small team working on the modelling of water industry asset deterioration and asset failure consequences  including the uploading of these models onto industryleading optimal asset management software strong maths  stats and it skills needed  any previous experience within the water industry would be an advantage  candidate requirements candidates should have a good honours degree in a numerate discipline i e  engineering  mathematics  science  computing software  candidates need to be highly qualified within physics  mathematics or engineering discipline ideally first class degree  or      phd or masters  meng  candidates should ideally should have a background in technical consultancy  systems analysis  software engineering or a graduate level looking to develop their career  any experience of pioneer or miser software would be an advantage  key areas  mathematical modelling  leakage management  optimisation  risk analysis  physics  mathematics  engineering engineering  mathematics  science  computing software pioneer or miser engineering systems analyst water industry location  dorking  surrey salary      to       \n",
       "6                                                                                                                                                                                                                                                                                                                                                                                                                                                                                                                                                                                                                                                                                                                                                                                                                                                                                                                                                                                                                                                                                                                                                                                                                                                                                                                                                                                                                                                                                                                                                                                                                                                                                                                                                                                                                                                                                                                                                                                                                                                                                                                                                                                                                                         a globally renowned engineering and training company in the oil develop and manage both internal and external inspection plans and plan remedial and preventative maintenance work implement  apply and update pipeline databases and spreadsheets and assist operators with projects  including project management  assurance support and procedure reviews handle consulting  problem solving  risk assessments and presentations be responsible for technical representation offshore prepare proposals and tenders for clients and write reports and specifications  you will offer analysis using various types of software such as mathcad  abaqus  olga or orcaflex  you will also present the company s technical courses and handle project management and sales and customer relationship management  for this role  you must have a minimum of 10 years experience in subsea engineering  pipelines design or construction  background in controls  corrosion  decommissioning or structures would be an advantage  a degree in engineering  aeronautics  naval architecture  maths  or physics  preferably with honours is essential for this role  a full clean driving license is also required  if you are a subsea engineering professional with excellent design construction skills and exposure to the oil   gas subsea engineering industry  we would love to hear from you  send in your cv now  \n",
       "7                                                                                                                                                                                                                                                                                                                                                                                                                                                                                                                                            this is a live vacancy not a generic advertisement   do you want to earn up to     k basic salary with uncapped ote  for a national recruiter who are expanding  recruiting and can offer you job security   are you an experienced recruitment consultant  sales or business development executive  who wants innovative training  genuine career prospects where     5  of the management team are home grown  dynamic working environment  based in manchester one of the top performing locations in the uk  and excellent earning potential  up to 30  commission for achievers job details  generating business for one of my clients      specialist divisions across      branches in the uk  access to all the leading websites for candidate and job opportunities  over     k annual investment why make the job harder  full and comprehensive administration and it back up for every consultant working established bespoke database to generate opportunities with both existing and new clients  inter division cross fertilisation  working closely with 8 professional divisions providing clients with the complete recruitment solution corporate and ho support for national business tenders and psl s  managing own desk to achieve daily  weekly and monthly targets  person  energy and desire to succeed  with a competitive streak that wants to beat the competition  professional personal appearance with the ability to build sustainable business relationships  positive mental attitude  able to demonstrate working to and exceeding targets  career focussed  good listening skills and a natural confidence  naturally positive and looking for the opportunity to work for a national player who are committed to your success recruitment experience or 2 years business to business sales experience required  benefits      k      k basic  benefits pension scheme  uncapped ote innovative award winning training academy  genuine career opportunities  incentives  awards and excellent team building uk wide  if you feel you have the energy and drive to succeed in a fast paced  dynamic sales environment with rewards then call or email fro an informal and discreet discussion  please note your cv will not be forwarded to my client without your written authorisation  code blue recruitment handle nearly      live vacancies  for all sectors and levels of the recruitment industry across the whole of the uk   positions include junior and trainee consultants  recruitment and senior recruitment consultants  team leaders  account managers  branch managers  sales managers   directors  sectors covered include professional recruitment such as finance  accountancy   banking  legal   hr  commercial markets such as office support  industrial  driving  hospitality   catering  the public sector including medical  care  education  technical markets such as i t   telecoms  media  construction  engineering  energy   environment  and pharmaceutical  as well as diverse areas such as sales recruitment  search  and supply chain  \n",
       "8                                                                                                                                                                                                                                                                                                                                                                                                                                                                                                                                                                                                                                                                                                                                                                                                                                                                                                                                                                                                                                                                                                                                                                                                                                                                                                                                                                                                                                                                                                                                                                                                                                                                                        this is an exceptional opportunity to join a construction   technical agency that hasn t shrunk in the current market one bit our client is seeking a nononsense and highly skilled recruiter with at least a couple of years experience under their belt  they specialise in placing highcalibre candidates both in the uk and worldwide  within blue and white collar on both a temp and perm basis  you will have a genuine servicefocus but not definately not be afraid to pick up the phone and develop new business  acting on leads and referrals like any professional should  your matching skills should be excellent and your cvinterviewplacement ratios should be impressive  the incentives and benefits here are excellent with the real opportunity to earn an aboveaverage basic salary and competitive commission package  basic to     k  car allowan bonus to 22 5  ote     k  car alloowance   additional quarterly and annual bonuses sensible   supportive atmosphere if you are looking to join a serious competitor in the marketplace who take a genuine interest in their people contact donna turner now  and please have your billing figures to hand code blue recruitment handle nearly      live vacancies  for all sectors and levels of the recruitment industry across the whole of the uk   positions include junior and trainee consultants  recruitment and senior recruitment consultants  team leaders  account managers  branch managers  sales managers   directors  sectors covered include professional recruitment such as finance  accountancy   banking  legal   hr  commercial markets such as office support  industrial  driving  hospitality   catering  the public sector including medical  care  education  technical markets such as i t   telecoms  media  construction  engineering  energy   environment  and pharmaceutical  as well as diverse areas such as sales recruitment  search  and supply chain  \n",
       "9                                                                                                                                                                                                                                                                                                                                                                                                                                                                                                                                                                                                                                                                                                                                                                                                                                                                                                                                                                                                                                                                                                                                                                                                                                                                                                                                                                                                                                                                                                                                                                                                                                                                                                                                                                                                                                                                                                                                                                                                                                                                                                                                                                                                                                                                                                                                                                                                                                                                                                                                                                                                                                                                                                                                                                                                       a subsea engineering company is looking for an experienced subsea cable engineer who will be responsible for providing all issues related to cables  they will need someone who has at least 1015 years of subsea cable engineering experience with significant experience within offshore oil and gas industries  the qualified candidate will be responsible for developing new modelling methods for fea and cfd  you will also be providing technical leadership to all staff therefore you must be an expert in problem solving and risk assessments  you must also be proactive and must have strong interpersonal skills  you must be a chartered engineer or working towards it the qualification  the company offers an extremely competitive salary  health care plan  training  professional membership sponsorship  and relocation package  \n",
       "10                                                                                                                                                                                                                                                                                                                                                                                                                                                                                                                                                                                                                                                                                                                                                                                                                                                                                                                                                                                                                                                                                                                                                                                                                                                                                                                                                                                                                                                                                                                                                                                                                                                                    are you a successful  results driven person  are you looking to start a career in financial services  are you looking for a fast paced  dynamic working environment  our client is proud to be an independent estate agent with an unbeatable local knowledge and reputation for excellent service  they have a mortgage advisor within each of their branches to accommodate their customer s needs  as a trainee mortgage advisor  you will work closely with your team to learn and develop whilst achieving shared goals  in addition to this  you will have the determination to succeed in the financial services market  you will be capable of working effectively under pressure and in a target orientated environment  you will have the ability to successfully achieve your cemap qualifications  you will be able to evaluate business at every opportunity  the company will offer a fantastic training programme as well as full funding for cemap qualifications all within a supportive  team working environment  once fully qualified  achievable progression thresholds are put in place with excellent earning potential  with a track record of successful sales abilities  preferably within an estate agency setting  suitable candidates will have  a drive and enthusiasm to work within the financial services market the ability to qualify applicants to advise on their purchasing abilities excellent communication skills a professional and friendly approach refined numerate abilities and an attention to detail a driving licence own car excellent computing skills you must be a self motivated  driven individual with the ability to be proactive with your own learning and development  you will have the ability to work successfully within a team whilst managing your own  individual work load  organisational skills and a will to succeed are also a must  belper  ilkeston  eastwood  derby  leicester  mansfield  melbourne  ripley  \n",
       "11                                                                                                                                                                                                                                                                                                                                                                                                                                                                                                                                                                                                                                                                                                                                                                                                                                                                                                                                                                                                                                                                                                                                                                                                                                                                                                                                                                                                                                                                                                                                                                                                                                                                                                                                                                                                                                                                                                                                                                                                                                                                                                                                                                                                                                                                                                                                                 project engineer phamaceutical  c      excellent benefits  oxfordshire           mg project engineer   job role  responsible for execution of continuous improvement and compliance projects  responsible too for subprojects related to introduction of new products and processes in order to meet strategic business plans the position is jointly responsible fo reporting of designated capital and expenses  actual vs  plan  associated with implementation of new process equipment or modifications to existing process equipment  project engineer  key responsibilities  manage project tasks   deliverables within agreed time  cost  quality responsbile for process equipment validation  material validation  remediation activity maintain effectiveness of quality system in accordance with corporate requirements effective liaison with engineering functions  external suppliers and regulatory bodies project engineer  skills  experience  qualification  proven problem solving skills to quickly implement process improvements understanding of technical drawings  dealing with suppliers and subcontractors experience of project engineering project management within regulated manufacturing working knowledge of quality regulatory systems bsc hnc with related experience  \n",
       "12                                                                                                                                                                                                                                                                                                                                                                                                                                                                                                                                                                                                                                                                                                                                                                                                                                                                                                                                                                                                                                                                                                                                                                                                                                                                                                                                                                                                                                                                                                                                                                                                                                                                                                                                                                        aerospace senior composite structures engineer aerospace  bristol our client is a progressive and rapidly expanding organisation  providing high end technical and project management services to the prime aerospace sector  as the senior composite structures engineer for the aerostructures team you will be involved in some of the most challenging and exciting aerospace projects in the world  you will be expected to take full ownership of technical tasks  and to lead others in their execution  this position is ideally suited to high calibre engineering graduate with significant and appropriate post graduate experience  you will need to demonstrate a desire to be challenged and to contribute towards the success and growth of the business  in return our client offers excellent career development and a competitive reward package  the senior composite structures engineer should be qualified to degree level or above in engineering and be a recognised expert in the analysis of lightweight composite structures  you should also have experience of leading teams to deliver effective technical solutions to time  quality and cost objectives  aerospace industry experience would be advantageous covering aerostructures and or aero engines  a demonstrable track record in one or more of the following technical disciplines is also required  fatigue and damage tolerance analysis of composite laminates static stress analysis of composite structures  including bolted and bonded joints and buckling analysis finite element analysis of composite laminates and sandwich structures some work outside normal office hours and national international travel may be required  keywords aerospace  composites  structures aerospace senior composite structures engineer aerospace  bristol salary     k    k  benefits package  \n",
       "13                                                                                                                                                                                                                                                                                                                                                                                                                                                                                                                                                                                                                                                                                                                                                                                                                                                                                                                                                                                                                                                                                                                                                                                                                                                                                                                                                                                                                                                                                                                                                                                                                                                                                                                                                                                                                                                                                                                                                                                                                                                                                                                                                                                                                                                                                                                                                                                                                                                                                                                                                                                                                                                                                                                                                                                                                                                                                                                                                                                                                                                                                                                                                                                                                                                                                                                                                                                                                                                               senior fatigue static stress  metallic or composite  finite element analysis  senior fatigue aerospace salary       to       dep on exp   benefits package located  bristol  avon  south west  \n",
       "14                                                                                                                                                                                                                                                                                                                                                                                                                                                                                                                                                                                                                                                                                                                                                                                                                                                                                                                                                                                                                                                                                                                                                                                                                                                                                                                                                                                                                                                                                                                                                                                                                                                                                                                                                                                                                                                                                                                                                                                                                                                                                a well respected restaurant located in the derby area has a chef de partie role available role  a chef de partie who is passionate about working with all fresh produce to a high standard is required to join the brigade of chefs at an award winning restaurant the restaurant serves      covers at lunch with a set menu and up to      covers in the evening for the a la carte menu  as chef de partie you will be expected to run a section once fully trained keeping your work space clean and tidy at all times  requirements  all chef de parties applying for this role should already have fresh food experience at this level with the ability to manage a busy section this role can offer the right candidate excellent opportunities to progress within the team  benefits include  uniform provided meals on duty excellent tips   paid monthly excellent opportunities to progress if you are interested in this position or would like information on the other positions we are recruiting for or any temporary assignments please send your cv by clicking on the  apply now  button below and our consultant tony papa will do his utmost to assist you in your search for employment  in line with the requirements of the asylum immigration act      all applicants must be eligible to live and work in the uk  documented evidence of the eligibility will be required from candidates as part of the recruitment process  this job was originally posted as www caterer com jobseeking chefdepartieawardwinningrestaurantexcellenttips_job      \n",
       "15                                                                                                                                                                                                                                                                                                                                                                                                                                                                                                                                                                                                                                                                                                                                                                                                                                                                                                                                                                                                                                                                                                                                                                                                                                                                                                                                                                                                       our client are a leading supplier of precision machined  high integrity components  integrated kits of parts and complete mechanical assemblies  due to an large increase in workload they are recruiting a quality engineer reporting to the quality manager  the successful individual will be responsible for providing documentation to fulfil our customers quality assurance requirements on specific contracts  whilst maintaining a system of storage and retrieval for documentation  the role will also support the internal audit schedule  performing audits as required  responsibilities include  documentation checking all vendor supplied documentation to ensure it complies with the requirements or express s customer specifications  produce accurate  legible documentation packs  in accordance with customer requirements  quality systems maintain system of storage and retrieval of all associated qa documentation in accordance with iso9001      certification ensure certificates of conformance are checked  in accordance with the c of c matrix and any applicable concessions are referenced material certification verify and approve certification on receipt for conformance to customer requirements and resolve discrepancies with suppliers non conformance raise and submit supplier reject reports and concessions  store all responses received in relevant databases  internal auditing carry out internal audits as and when required in line with the internal audit schedule  identify and report all nonconformances within quality management system  and assist in corrective actions to close them out supplier rejects ensure corrective action is received for supplier rejects submitted to key suppliers the individual  has experience within the quality department of a related company in a similar role ideally from a mechanical or manufacturing engineering background  ideally be familiar with the range of processes involved in the markets of oil must have good communication and organisational skills has the ability to work as part of a team or as an individual  has the ability to be customer facing and discuss technical   quality issues with vendors and customers  \n",
       "16                                                                                                                                                                                                                                                                                                                                                                                                                                                                                                                                                                                                                                                                                                                                                                                                                                                                                                                                                                                                                                                                                                                                                                                                                                                                                                                                                                                                                                                                                                                                                                                                                                                                                                                                                                                                                                                                                                                                                                                                                                                                                                                                                                                                                                                                                                                                                                                                                                                                                                                                                                                                                                                               a leading subsea engineering company require a driven and highlyskilled principal controls engineer who will provide technical work on all of the company s controlsrelated concerns and in charge of generating interest from potential clients  as a principal controls engineer  you will be in charge of organising and ensuring engineering calculations  do reports  review designs  give technical assistance to all problems related to cable engineering and come up with methods for cable modelling  the successful candidate will have at least 15 years of subsea controls engineering experience in the oil and gas industry  preferably  you must have a degree in engineering and a background in subsea design  construction  installation  operation  or decommissioning and have covered almost all related subsea production systems  this is a brilliant role which includes a very competitive salary package with flexible work hours to the most qualified candidates  \n",
       "17                                                                                                                                                                                                                                                                                                                                                                                                                                                                                                                                                                                                                                                                                                                                                                                                                                                                                                                                                                                                                                                                                                                                                                                                                                                                                                                                                                                                                                                                                                                                                                                                                                                                                                                                                                                                                                                                                                             a popular hotel located in norfolk which is a very busy operation has a position available for a chef de partie role  a chef de partie capable of coping well under pressure is required to join the kitchen team at a hotel that has an excellent reputation for offering high quality dining to its guests and has gained accreditations in the main restaurant the busy brasserie style restaurant regularly serves      covers for lunch and dinner so this chef de partie role will require you to be organised on your section ensuring all prep is complete to the standards expected by the head chef before each service  requirements  all chef de parties applying for this role must have a strong background with highlights previous aa rosette experience in a high volume operation a candidate who is self motivated and capable of working well in a busy team of chefs would be ideal for this role  benefits include  uniform provided meals on duty accommodation available share of tips   iro      per month excellent opportunities to progress if you are interested in this position or would like information on the other positions we are recruiting for or any temporary assignments please send your cv by clicking on the  apply now  button below and our consultant sean bosley will do his utmost to assist you in your search for employment  in line with the requirements of the asylum immigration act      all applicants must be eligible to live and work in the uk  documented evidence of the eligibility will be required from candidates as part of the recruitment process  this job was originally posted as www caterer com jobseeking chefdepartieawardwinningdiningliveinshareoftips_job      \n",
       "18                                                                                                                                                                                                                                                                                                                                                                                                                                                                                                                                                                                                                                                                                                                                                                                                                                                                                                                                                                                                                                                                                                                                                                                                                                                                                                                                                                                                                                                                                                                                                                                                                                                                                                                                                                                                                                                                                                                                                                                                                                                                                                                                                                                                                                                                                                                                                                                                                                                                                                                                                                                                                                                                                                                                                                                                                                                                                                                                                                                                                                                                                                                                                                                                                                                                                                                                                                                                                                                                                             senior fatigue static stress  metallic or composite  finite element analysis  senior fatigue aerospace      k    k  dep on exp   benefits package bristol  avon  \n",
       "19                                                                                                                                                                                                                                                                                                                                                                                                                                                                                                                                                                                                                                                                                                                                                                                                                                                                                                                                                                                                                                                                                                                                                                                                                                                                                                                                                                                                                                                                                                                                                                                                                                                                                                                                                                                                                                                                                                                                                                                                                                                                                                                                                                                                                                                                                                                                                                                                                                                                                                                                                                                                                                                                                                                                                                                                                                         we are currently recruiting on behalf of our client who have an exciting opportunity available for a ce produce ce control panel designs  genera arrangements  detail drawings  schematics diagrams  interlock diagrams for typically plc specification of hardware and production of parts list  manufacturing specification  ensure company policies and procedures are being applied across the projects  manage the interface between ce communicate at all levels with both internal and external customers to meet their expectations while meeting the project budget and programme constraints  support the lead engineer in the delivery of scope to budget and programme  provide technical expertise to tenders as and when required  provide input to the development of the ce l function and resource  \n",
       "20                                                                                                                                                                                                                                                                                                                                                                                                                                                                                                                                                                                                                                                                                                                                                                                                                                                                                                                                                                                                                                                                                                                                                                                                                                                                                                                                                                                                                                                                                                                                                                                                                                                                                                                                                                                                                                                                                                                                                                                                               lead engineers  stress  our client provide high end technical and project management services to the prime aerospace companies  our client are now seeking a aerospace senior stress engineers to join their growing aerospace structures teams in bristol this position of aerospace stress engineer is ideally suited to high calibre engineering graduates with significant and appropriate post graduate experience  you will be expected to take full ownership of technical tasks and to lead others in their execution  candidates will ideally be degree qualified  min            or equivalent  and have experience of the technical leadership of projects to time  quality and cost objectives  aerospace industry experience is an advantage however the calibre of the applicant is more important therefore applicants with structural analysis experience from any domain are welcomed  a demonstrable track record in one or more of the following technical disciplines  fatigue and damage tolerance static stress analysis  metallic or composite  finite element analysis  candidates must also be able to demonstrate  technical awareness in the field of aerospace structures effective client management and communication skills project team leadership commercial awareness adaptability innovative thinking you will need to show a willingness to work outside normal office hours on occasions and flexibility for working from the office  home and clients premises  ideally you will also  be pursuing chartership through the imeche or raes lead engineers  stress  location  bristol salary      to       \n",
       "21                                                                                                                                                                                                                                                                                                                                                                                                                                                                                                                                                                                                                                                                                                                                                                                                                                                                                                                                                                                                                                                                                                                                                                                                                                                                                                                                                                                                                                                                                                                                                                                                                                                                                                                                                      hotel and conference venue chain  relief chef de partie  surrey  1 week assignment       star  immediate start  our client on this assignment is a      star property  part of a hotel and conference venue chain  based in croydon  surrey  they are looking for a relief chef de partie to assist them initially for a period of 1 week  but with a view to this being extended as the week progresses  this is a very busy operation  catering for c b and lunches of up to      covers  and dinner for up to      covers  the successful relief chef de partie must be used to catering from fresh in high volume  and will be working in a team of 11 chefs  accommodation is available on this assignment for those of you who do not live in the local area  but for those of you who do live close by  it may also be more suited to someone with their own transport as it is not walking distance to any public transport links  to apply for this position or for further information  please forward a copy of your cv to us quoting job reference tw 256 on all correspondence  contact details  enquiriestowngatepersonnel co uk www towngatepersonnel co uk   we value all applications  however due to the volume of response we are currently receiving  we are only able to contact candidates whose skills and experience closely match the requirements of our clients  in line with the requirements of the asylum and immigration act      all applicants must be eligible to live and work in the uk   as part of the recruitment process  you will be asked to provide documented evidence of eligibility  in line with the requirements of the employment agencies act      towngate personnel are prohibited from charging workseekers for work finding services  this job was originally posted as www caterer com jobseeking reliefchefdepartiecroydonsurreylivein_job      \n",
       "22                                                                                                                                                                                                                                                                                                                                                                                                                                                                                                                                                                                                                                                                                                                                                                                                                                                                                                                                                                                                                                                                                          senior control and instrumentation engineer   reading  berkshire  experienced c senior control and instrumentation engineer  essential  degree  or equivalent  in electrical  electronic or control and instrumentation engineering or other relevant discipline  chartered engineer  able to demonstrate sound technical experience  a sufficient and appropriate level of building services and controls experience gained within a client organisation  engineering consultancy or equipment supplier  project management  including controls  planning and estimating and preparation of deliverable work package  desirable working within a multidiscipline engineering team and having a general appreciation of other disciplines constraints and requirements  nuclear safety case issues and nii site licence conditions  building management systems  fire detection and alarms  telecoms  ups  experience of the nuclear industry  experience of iee wiring regulations 17th edition bs     experience of transmission      kv  electrical plant and configuration design  experience of distribution  up to     kv  electrical plant and configuration design  experience of protection and control design at transmission and distribution voltages  the individual a confident and professional manner  excellent communication skills  ability to use initiative and demonstrate creativity  self motivated and committed to further study  ability to work within a team  responsibilities senior controls and instrumentation engineer  responsible for managing the control and instrumentation  and potentially electrical  design aspects of substation refurbishment rekit projects and leading electrical control aspects of major infrastructure projects from system studies and investment appraisals through to detailed design act as project manager on design projects or on electrical  control and instrumentation aspects of multidisciplinary utilities infrastructure design projects  mentoring and technical development of a team of junior engineers  lead on the production of major bids  cost and time control and reporting  liaison with clients  suppliers and contractors  specification  selection and justification of relevant equipment  generation of front end engineering design packages  relevant equipment assessment and justification reports  production of commissioning procedures  production of technical specifications  control panel room layout reliability assessment and c reading  berkshire  \n",
       "23                                                                                                                                                                                                                                                                                                                                                                                                                                                                                                                                                                                                                                                                                                                                                                                                                                                                                                                                                                                                                                                                                                                                                                                                                                                                                                                 control and instrumentation engineer   c reading  our client is seeking applications from experienced c control and instrumentation engineer   c degree  or equivalent  in electrical  electronic or control and instrumentation engineering or other relevant discipline  chartered engineer  able to demonstrate sound technical experience  a sufficient and appropriate level of building services and controls experience gained within a client organisation  engineering consultancy or equipment supplier  project management  including controls  planning and estimating and preparation of deliverable work package  desirable working within a multidiscipline engineering team and having a general appreciation of other disciplines constraints and requirements  nuclear safety case issues and nii site licence conditions  building management systems  fire detection and alarms  telecoms  ups  experience of the nuclear industry  experience of iee wiring regulations 17th edition bs     experience of transmission      kv  electrical plant and configuration design  experience of distribution  up to     kv  electrical plant and configuration design  experience of protection and control design at transmission and distribution voltages  the individual control and instrumentation engineer  a confident and professional manner  excellent communication skills  ability to use initiative and demonstrate creativity  self motivated and committed to further study  ability to work within a team  responsibilities  responsible for providing technical input into the control and instrumentation  and potentially electrical  design aspects of substation refurbishment rekit projects and leading electrical control aspects of major infrastructure projects from system studies and investment appraisals through to detailed design  liaison with clients  suppliers and contractors  provide technical input into the specification  selection and justification of relevant equipment  generation of front end engineering design packages  provide technical input into the relevant equipment assessment and justification reports  production of commissioning procedures  production of technical specifications  control and instrumentation engineer   c location reading  berkshire  \n",
       "24  electrical   ica engineer industry  environment   environmental restoration  water   watershed management we are currently looking for an ambitious electrical   ica engineer with a broadranging background in the water industry to join our team in epsom  this role offers a chance for an ambitious engineer to join a busy team delivering work to a variety of clients including southern water  thames water  projects include feasibility and outline design for southern water as part of our centres of excellence framework and also the opportunity to start work on our pr     business planning opportunities for clients including southern water and thames water  in addition to this there are a variety of opportunities to work on international projects  based in the uk  but with potential for travel abroad to the middle east  as an example  work is also increasing in noncore sectors such as nuclear and oil   gas and there may be opportunities to work on projects within these sectors requirements the appointed engineer must have a degree in a relevant discipline such as electrical engineering  ideally applicants will be chartered with the iet or alternative appropriate body  however we will consider candidates who are close to achieving chartership via the most appropriate route  the individual will be able to provide evidence of an ongoing programme of cpd  the individual candidate will be computer literate and able to work effectively work with the basic microsoft suit of programmes as a minimum  candidates must have extensive outline and detailed design experience within the water wastewater industry sector including areas such as potable water production and distribution  waste water treatment and sludge treatment and pumping systems  while we are ideally looking for a candidate with both electrical and ica experience we are willing to consider candidates with only electrical experience  in addition  some or all of the following would be expected  experience of designing and working with lv electrical equipment  in addition hv experience is desirable   experience of working with wimes specifications  candidates must be able to demonstrate design experience of  lv electrical design  including mccs  distribution boards  cable systems etc  hv systems including transformers  rmu  circuit breakers  cable selection and sizing  protection coordination and grading  plc and scada systems design and specification  field bus networks  building services  liaising with utility providers  concepts and requirements of dsear atex compliance responsibilities the role of a electrical ica engineer within the mep business will require the individual to undertake the following duties  project management of small and medium projects and sub projects on larger contracts  control of budgets and project programmes under the supervision of a principal engineer  feasibility  outline and detailed electrical and c i design work  electrical switchgear panel mcc specification and design  control and instrumentation systems functional specification and design  understanding  interpreting and responding to the needs of other engineering disciplines such as mechanical  process and civil  production of electrical  control and instrumentation design documentation personal qualities excellent interpersonal  verbal and written communication skills  electrical   ica engineer location  epsom  surrey salary       to      industry  environment   environmental restoration  water   watershed management  \n",
       "25                                                                                                                                                                                                                                                                                                                                                                                                                                                                                                                                                                                                                                                                                                                                        pastry chef for      red star      rosette hotel       beautiful victorian country house hotel awarded      red stars and      rosettes is looking for a pastry chef who is technically proficient  yet still values the art of cooking wholesome meals  as pastry chef you will be working in a brigade of around      chefs  with complete control over the pastry section  having the ability to cook your own desserts for a restaurant that is the top 50 in the uk  if you have rosette experience  but feel that your talent is not being utilised enough  maybe this is the perfect job for you  you don t necessarily need to be at      rosette level  but the aspiration and ability to learn is paramount  this is a well sought after position  and only the best will be considered  set in acres of gorgeous lawn  with an acclaimed head chef that runs a very neat kitchen with an amazing crew  this hotel is offering an opportunity that should not be missed  if you work to a very high standard and take real pride in your culinary skills then you could be perfect for the job  you must be the kind to pour your heart and soul into the cooking of some of the finest food around  doing so is made easy with the fact that there is live in available for just      per month in this fiery and passionate trade  talented pastry chefs are valued highly  as such the salary is very competitive  but more appealing is the job itself  if you really have what it takes and want to aspire to bigger and better things  and really put your mark on a kitchen that has      red stars and      rosette acclaim  then email to apply  ref     cw consultant chris wilson              want a quick job search without the hassle of registering then paste www clearselection co uk search php to your web browser and enjoy the experience  we are always busy and are constantly receiving new instructions from a number of different client s nationwide  which makes it good for candidates and us  in the majority of cases we have visited the client s establishment and even spent work days with them and have a very enviable reputation for finding the best for the best  if you desire a professional  honest and calm approach with the reassurance that your application will be treated confidentially if requested  we look forward to working on your behalf  our consultants love their jobs and its always worth trying to contact them on their mobiles in the evenings or at weekends  if you are to busy during the day  remember if they do not contact you within      hours  unfortunately you have not been successful in your application for this position  clear selection recruitment is part of the clear selection group est       this job was originally posted as www caterer com jobseeking pastrycheffor    redstar    rosettehotel    _job      \n",
       "26                                                                                                                                                                                                                                                                                                                                                                                                                                                                                                                                                                                                                                                                                                                                                                                                                                                                                                                                                                                                                                                                                                                                                                                                                                       senior process engineer we are seeking applications from highly experienced process engineers to join our clients multidiscipline design team working on a number of exciting major projects  we are principally looking for first class engineers who have the capacity to learn and develop their skills for the nuclear industry  our client provides a comprehensive training programme as part of its staff development  so a lack of previous industry experience need not be a barrier to high calibre candidates  this role is based at our clients offices in reading  though work is likely to involve periods of time within the bounds of their clients premises some travel will be required  responsibilities responsible for managing the process engineering design   design assessment aspects for a major nuclear facility mentoring and technical development of junior process engineers lead on the production of major bids cost and time control and reporting  liaison with clients  suppliers and contractors specification  selection and justification of process   process services equipment  generation of front end engineering design packages  process design substantiation  assessment and justification reports  dsrs  dars and djrs   requirements successful candidates will be required to undergo a security vetting process and offers of employment will be subject to relevant security clearance being granted  essential degree in chemical engineering or other relevant discipline  chartered engineer able to demonstrate sound technical experience a sufficient and appropriate level of process design experience gained within a site operator  engineering consultancy or equipment supplier project management  including controls  planning and estimating and preparation of deliverable work package desirable experience of the nuclear  pharmaceutical  oil and gas or other highly regulated industry experience of safety case production   design substantiation management of contractors   specialist equipment suppliers working within a multidiscipline engineering team and having a general appreciation of other disciplines constraints and requirements nuclear safety case issues and nii site licence conditions senior process engineer location  reading  berkshire industry  defence security clearance is required salary       to       \n",
       "27                                                                                                                                                                                                                                                                                                                                                                                                                                                                                                                                                                                                                                                                                                                                                                                                                                                                                                                                                                                                                                                                                                                                                                                                                                                                                                                                                                                                                                                                                                chef de partie position in      rosette hotel n yorks      k  live in our client is a stunning hotel located in north yorkshire  serving authentic modern british and french cuisine in elegant surrounds  they enjoy a superb reputation in the area  this is a well organised and structured kitchen that has a stable brigade of      who all work together to produce fantastic food using fresh local produce  candidates will need good all round knowledge of the kitchen  be motivated and ambitious and have genuine love of food and cooking  vacancy details chef de partie award winning operation brigade of      british and french food fresh local produce strong head chef a strong      rosette operation if you are interested in this chef de partie vacancy then be quick as it does have an end date to the application  my details as below if you wish for more information  consultant  chris wilson ref      cw              want a quick job search without the hassle of registering then paste www clearselection co uk search php to your web browser and enjoy the experience  we are always busy and are constantly receiving new instructions from a number of different client s nationwide  which makes it good for candidates and us  in the majority of cases we have visited the client s establishment and even spent work days with them and have a very enviable reputation for finding the best for the best  if you desire a professional  honest and calm approach with the reassurance that your application will be treated confidentially if requested  we look forward to working on your behalf  our consultants love their jobs and its always worth trying to contact them on their mobiles in the evenings or at weekends  if you are to busy during the day  remember if they do not contact you within      hours  unfortunately you have not been successful in your application for this position  clear selection recruitment is part of the clear selection group est       this job was originally posted as www caterer com jobseeking chefdepartiepositionin    rosettehotelnyorks    k_job      \n",
       "28                                                                                                                                                                                                                                                                                                                                                                                                                                                                                                                                                                                                                                                                                                                                                                                                                                                                                                                                                                                                                                                          senior sous chef for      rosette kitchen  up to     6000 my client has a very well maintained kitchen  awarded     aa rosettes serving fine food with a classical style using modern techniques in a      red star hotel  the head chef is a very talented individual who runs a tight ship that needs another leader to join the ranks  as senior sous you would need to have the ability to deputise in the head chefs absence and ensure the quality of the kitchen does not falter  for this you would ideally have a background in     aa rosette cooking  or be a very strong and talented chef with 2aa rosette experience  there is a live in opportunity available for very little cost  meaning no matter where you are in the uk there is nothing stopping you from making that next step in your career and working somewhere nationally recognised and acclaimed  in the top 50 hotels in the uk  this senior sous chef position is a real responsibility  so i am only looking for the strongest of candidates with a natural leadership  but still happy to take orders and learn from a senior chef  if you are serious about your food  love classical british menus with a modern twist and have what it takes to work alongside the best  creating the best then email to apply and get that job you ve dreamt of for so long  ref     cw consultant chris wilson              want a quick job search without the hassle of registering then paste www clearselection co uk search php to your web browser and enjoy the experience  we are always busy and are constantly receiving new instructions from a number of different client s nationwide  which makes it good for candidates and us  in the majority of cases we have visited the client s establishment and even spent work days with them and have a very enviable reputation for finding the best for the best  if you desire a professional  honest and calm approach with the reassurance that your application will be treated confidentially if requested  we look forward to working on your behalf  our consultants love their jobs and its always worth trying to contact them on their mobiles in the evenings or at weekends  if you are to busy during the day  remember if they do not contact you within      hours  unfortunately you have not been successful in your application for this position  clear selection recruitment is part of the clear selection group est       this job was originally posted as www caterer com jobseeking seniorsouscheffor    rosettekitchenupto    _job      \n",
       "29                                                                                                                                                                                                                                                                                                                                                                                                                                                                                                                                                                                                                                                                                                                                                                                                                                                                                                                                                                                                                                                                                                                                                                                                                                                                                                                                                                                                                                                                                                                                                                                                                                                 senior general manager   funky  cool  casual restaurant concept  flagship site we re looking for a general manager who wants to run large sites for a great company and make a name for themselves  the client their mission is to be different  serving great honest tasty food by cool laidback people in individually designed restaurants  the company has huge expansion plans in place and needs great general managers  you are able to express yourself and bring your personality  the role as a general manager you will be involved with all aspects of running these restaurants  from financials to training and driving sales  the company loves new ideas and input from its managers as the company is continuing to evolve  we need general managers who are fun  who love people and can make the rest of their team and customers happy  essential skills experience required for a general manager  we re looking for general managers with 1 years experience managing their own site   you must be great with your people and able to connect with your customers  passion and drive with a focus on customer service rewards   general manager  great salary up to     k  bonus  great training and opportunities   lots of new openings  great company  exciting time  amazing people please send your cv to rory at rorybeerec com or call on      due to the high number of applicants we receive sadly we cannot reply to everyone  therefore if you do not hear back from us within 5 days please assume you have been unsuccessful this time candidate information  general manager all candidates must provide proof of identity and eligibility to work in the uk along with and relevant supporting qualifications  bee recruitment is an equal opportunities employer  a recruitment agency dedicated to recruitment in the hospitality industry  this job was originally posted as www caterer com jobseeking generalmanagerfunkycoolrestaurantconceptlondon    k_job      \n",
       "30                                                                                                                                                                                                                                                                                                                                                                                                                                                                                                                                                                                                                                                                                                                                                                                                                                                                                                                                                                                                                                                                                                                                                                                                                                                                                                                                                                                                                                                                                                                                                                                                                                                                                                                                                                                                                                                                                                                                                                                                                                                                                                                                                                                                                                                              our client  a national hotel chain is seeking an experienced mice sales manager to join their successful team for one of their      properties  the hotel has approximately     0 bedrooms and 8 conference rooms  you must live within commutable distance to buckinghamshire  such as berkshire  hampshire  oxfordshire  hertfordshire or middlesex  as mice sales and marketing manager you will be responsible for the proactive development of new business from the mice corporate and leisure sectors  the mice sales and marketing manager will also develop existing accounts through the successful creation of the sales and marketing plan and business plans  as mice sales and marketing manager you will oversee the meetings and events team which consists of three people  and be responsible for their training and development  the mice sales and marketing manager will need to perform well under pressure and meet set targets for appointments and revenue generation  the mice sales and marketing manager role is a fantastic opportunity for an existing sales manager or senior sales executive with people management skills  you will have previous experience in hotel sales  be flexible and friendly in your approach and able to offer support to others  this job was originally posted as www caterer com jobseeking micesalesandmarketingmanager_job      \n",
       "31                                                                                                                                                                                                                                                                                                                                                                                                                                                                                                                                                                                                                                                                                                                                                                                                                                                                                                                                                                                                                                                                                                                                                                                                                                                                                                                                                                                                                                                                                                                                                                                                                                                                                                                                                                                                                                                                                                                                                                                                                                                                                                                                        a leading company that provides stock market analysis software for both the professional and private investor markets is currently in the hunt for a junior and senior c c   software developer  they have been working as one of the best uk s investment software for the last six years and their development team is expanding to deliver exciting new products  should you find the role interesting  kindly forward an updated cv elaborating your skills that match with the requirements along with a cover letter detailing why you are the right person for the role on offer below are the job details of the said vacancy  you will be working mainly in an ms windows environment but required to be flexible in technology with web development  you should have a good numerate computer science or ai degree  at least 2       strong software development and coding skills using c c    mfc and visual studio      for the senior developer role it is desirable to have at least 2 years commercial c c   development experience  other desirable skills understanding of data compression techniques interest in the financial markets and financial calculation good working knowledge of gui design  windows development using mfc and win     http  tcp ip  sockets and network programming system administration skills would also be an advantage  if you think you have what it takes to be part of a dynamic and progressive company who values a flexible working environment  apply now  \n",
       "32                                                                                                                                                                                                                                                                                                                                                                                                                                                                                                                                                                                                                                                                                                                                                                                                                                                                                                                                                                                                                                                                                                                                                                                                                                                                                                                                                                                                                                                                                                                                                                                                                                                                                                                                                                                                                                                                                                                                                                                                                                                                                                                                                                                                                                                                                                                                                                                                                                                                                                                                                                                                                                                                                                                                                                                                                                                                                                                                                                      a skilled senior php developer is required by a leading provider of webbased services and clinical management software based in central london  the role will involve working with a software architect to develop the company s core products and take over the lead development of these systems  essential requirements  minimum of      years experience in php development expertise in php      and mysql 5 fluency in oop experience in linux and apache  web services  multiserver platforms and cloud computing experience in windows iis php deployments  jquery  prototype and xml is desirable  if you are someone who d like to take on a new challenge  send your cv now  \n",
       "33                                                                                                                                                                                                                                                                                                                                                                                                                                                                                                                                                                                                                                                                                                                                                                                                                                                                                                                                                                                                                                                                                                                                                                                                                                                                                                                                                                                                                                                                                                                                                                                                                                                                                                                                                                                                                                                                                                                                                                                                                                                                                                                                                                                                                                                                                                                                                                                                                                                                                                                                                                                                                                                                                                                                                                                                                                          senior website designer location  york  east yorkshire type  permanent salary  up to     k  doe  one of uk s most renowned digital media company is looking to hire a senior website designer to join their team of designers  the successful candidate will be responsible for designing ecommerce websites  developing client strategy with the creative director and in assisting in the development of design  requirements  3 years solid experience in ecommerce website design knowledge in information architecture process must have an understanding of mvt adobe suite knowledge also required prior experience of working in an agency environment will be an advantage but not essential don t miss this great and exciting opportunity to work for a leading digital media company  send your cv now  \n",
       "34                                                                                                                                                                                                                                                                                                                                                                                                                                                                                                                                                                                                                                                                                                                                                                                                                                                                                                                                                                                                                                                                                                                                                                                                                                                                                                                                                                                                                                                                                                                                                                                                                                                                                                                                                                                                                                                                                                                                                                                                                                                                                                                                                              the company  our client are a full service  creative driven  brand   digital communications agency based in newcastle upon tyne  specialising in on and offline brand communications and applications  due to an ever increasing client portfolio and ambition to continue their growth  they are looking for a business development manager  the role  reporting to the managing director  the business development manager will be responsible for developing new design and digital business throughout the uk  responsibilities include  developing new business throughout the uk  research and identify potential clients  create and maintain good working relationships with key decision makers and influencers of potential clients  make proactive outbound calls and emails to contact prospective clients  maximise each sales opportunity  attend industry events and networking events representing the company  present to potential clients over the phone or face to face  the individual  will have a proven track record in business to business sales  ideally within a related field  must be a good negotiator who can close a deal  will have strong communication skills  should have excellent time management and organisational skills  ideally be self motivated individual who can motivate others  must be commercially aware and financially motivated  must possess good account management skills  be able to maintain relationships as well as develop them  \n",
       "35                                                                                                                                                                                                                                                                                                                                                                                                                                                                                                                                                                                                                                                                                                                                                                                                                                                                                                                                                                                                                                                                                                                                                                                                                                                                                                                                                                                                                   welwyn chef de partie does it get any better than this       rosettes  mentioned in all major guides  great national press reviews and a fabulous team  my client is eager to find a talented chef de partie who can create exciting food using some of the best ingredients around  this chef de partie vacancy is about fine dining not the casual rustic approach  situated within easy driving distance of welwyn this really is a superb opportunity for a chef de partie to flourish and excel  you will need to possess the ability to cope well under pressure  enjoy the buzz of a busy service and be a true team worker  chef de partie details country setting busy operation good job security established team large kitchen team true fresh produce mentioned in all the guides modern food interested and ready to join a great establishment  then please mail over your details or call me on the number below for a chat consultant  chris wilson ref      cw chef de partie award winning nr welwyn              want a quick job search without the hassle of registering then paste www clearselection co uk search php to your web browser and enjoy the experience  we are always busy and are constantly receiving new instructions from a number of different client s nationwide  which makes it good for candidates and us  in the majority of cases we have visited the client s establishment and even spent work days with them and have a very enviable reputation for finding the best for the best  if you desire a professional  honest and calm approach with the reassurance that your application will be treated confidentially if requested  we look forward to working on your behalf  our consultants love their jobs and its always worth trying to contact them on their mobiles in the evenings or at weekends  if you are to busy during the day  remember if they do not contact you within      hours  unfortunately you have not been successful in your application for this position  clear selection recruitment is part of the clear selection group est       this job was originally posted as www caterer com jobseeking welwynchefdepartiedoesitgetanybetterthanthis    _job      \n",
       "36                                                                                                                                                                                                                                                                                                                                                                                                                                                                                                                                                                                                                                                                                                                                                                                                                                                                                                                                                                                                                                                                                                                                                                                                                                                                     chef de partie sauce award winning hertford      ready to work in a tworosette restaurant and assist our client the head chef in producing high quality fresh food  we are seeking to find a chef de partie for this multi award winning restaurant situated within      minutes drive of hertford  hertfordshire  we would envisage that you will already have similar experience as a chef de partie or maybe you are an ambitious demi chef de partie looking for your next move  you will love the pressure of producing a high standard of food  know your ingredients and be very eager to progress  for this chef de partie role  my client is offering sensible hours including some straight shifts and the chance to work with lots of local ingredients  maybe you are working in an establishment that is not as successful  maybe you are working in an unprofessional environment maybe its just time for a change  interested in this chef de partie vacancy and ready to join a great establishment  then please mail over your details or call me on the number below for a chat consultant  chris wilson ref      cw chef de partie award winning hertford              want a quick job search without the hassle of registering then paste www clearselection co uk search php to your web browser and enjoy the experience  we are always busy and are constantly receiving new instructions from a number of different client s nationwide  which makes it good for candidates and us  in the majority of cases we have visited the client s establishment and even spent work days with them and have a very enviable reputation for finding the best for the best  if you desire a professional  honest and calm approach with the reassurance that your application will be treated confidentially if requested  we look forward to working on your behalf  our consultants love their jobs and its always worth trying to contact them on their mobiles in the evenings or at weekends  if you are to busy during the day  remember if they do not contact you within      hours  unfortunately you have not been successful in your application for this position  clear selection recruitment is part of the clear selection group est       this job was originally posted as www caterer com jobseeking chefdepartiesauceawardwinninghertford    _job      \n",
       "37                                                                                                                                                                                                                                                                                                                                                                                                                                                                                                                                                                                                                                                                                                                                                                                                                                                                                                                                                                                                                                                                                                                                                                                                                                                                                                                                                                                        pastry chef de partie al              aa rosette my client is looking for a pastry chef de partie to start straight away in their     aa rosette restaurant in a      star hotel  working alongside another pastry chef it is not necessary to have rosette experience providing you have the natural talent and ability as well as eagerness to learn  job specs  pastry chef de partie      out of 7 days on      consecutive days off      hours a week      early       late       doubles      cover restaurant breakfast shift at 8am benefits  up to    pa tips life insurance healthcare pension staff uniform meals on duty live in available the candidate  pastry qualified  nvqs  preferably pastry chef de partie experience  or good demi  eager to learn hard working living locally or able to relocate asap so if you are a pastry chef de partie looking for a great position working alongside an amazing bunch of colleagues then email or just call           for a quick chat  consultant  chris wilson ref      cw pastry chef stevenage              want a quick job search without the hassle of registering then paste www clearselection co uk search php to your web browser and enjoy the experience  we are always busy and are constantly receiving new instructions from a number of different client s nationwide  which makes it good for candidates and us  in the majority of cases we have visited the client s establishment and even spent work days with them and have a very enviable reputation for finding the best for the best  if you desire a professional  honest and calm approach with the reassurance that your application will be treated confidentially if requested  we look forward to working on your behalf  our consultants love their jobs and its always worth trying to contact them on their mobiles in the evenings or at weekends  if you are to busy during the day  remember if they do not contact you within      hours  unfortunately you have not been successful in your application for this position  clear selection recruitment is part of the clear selection group est       this job was originally posted as www caterer com jobseeking pastrychefal    aarosetterestaurant_job      \n",
       "38                                                                                                                                                                                                                                                                                                                                                                                                                                                                                                                                                                                                                                                                                                                                                                                                                                                                                                                                                                                                                                                                                                                                                                                                                                                                                                                                                                                                                                                                                                                                                                                                                                                                                                                                                                                                                                                                                                                                                                                                                                                                                                                                                                                                                                                                                                                                                                                                                                                                                                                                                                                                                      an expanding software and consultancy services company based in cambridge is in need of qa engineers to join their team of qa analysts and developers  in this role  you will be working closely with the development team to review requirements and specifications  produce test plans and reports and initialise testing and profiling  requirements  a degree or post graduate qualification commercial experience in software testing  manual and automated testing  experience of software applications for some or all of version control  defect tracking  test case management  test suite automation experience in the following  o commandline tools and scripting experience in one or more of the following areas text mining grid computing natural language processing life sciences chemistry web applications web services security automated gui testing understanding of cross platform issues this is a great opportunity to expand your skills and be part of a rapidly growing organisation  send in your cv now  \n",
       "39                                                                                                                                                                                                                                                                                                                                                                                                                                                                                                                                                                                                                                                                                                                                                                                                                                                                                                                                                                                                                                                                                                                                                                                                                                                                                                                                                                                                                                                                                                                                                                                                                                                                                                                                                                                                                                                                                                                                                                                                                                                                                                                                                                                                                                                                                                                                                                                                                                                                                                                                                                                                                                                                 our client is looking for a documentation engineer technical author  the preffered candidate will be practiced in interpreting engineering drawings and producing instructional documentation based on the information gained  candidates must be proficient in microsoft office suite of applications predominantly word  looking for experience in the production of documentation in one or more of the following areas   operation and maintenance instructions  recovery instructions  schedule of recommended spares  commissioning method statements   system performance demonstrations  training materials candidates must have good communications skills  being able to liaise with inhouse engineering design personnel and to interface with client representatives  ce hands on experience in a nuclear plant environment  plant commissioning experience is a valuable asset  security clearance to basic check  bc  i revised baseline standard  rbs  level is advantageous  \n",
       "40                                                                                                                                                                                                                                                                                                                                                                                                                                                                                                                                                                                                                                                                                                                                                                                                                                                                                                                                                                                                                                                                                                                                                                                                                                                                                                                                                                                                                                                    are you fluent in english and another european language  are you looking for an exciting opportunity to use your languages in a fastpaced customer service role  we are presenting the opportunity to work for a leading global conferencing provider  we are currently looking for bright and dynamic language speakers to join the busy multilingual european customer service team  working within this busy and dynamic office  you will be dealing with business clients on a daily basis  you will be setting up and managing live teleconferences  from office meetings  court hearings to large business events  this is an office based role dealing with inbound outbound calls and managing the automated conference service  above all you will consistently provide excellent customer service to valuable clients  and be an outstanding representative for the company  this client is an upandcoming company  excellent to work for  who are stronger than ever during the current economic climate  the company offer a welcoming and supportive working environment as well as fantastic career progression opportunities and an excellent benefit package you must be fluent in english and at least one of the following languages  german  french  spanish  italian  portuguese  dutch  swedish  finnish or russian  you must also have  customer service experience  this can be retail  hospitality  receptionist  office  customer service  call centre   experience dealing with business clients  b2b  would be preferable  proven ability to use your own initiative and work well under pressure  other important qualities are organisation  attention to detail  strong communication skills and reliability punctuality  this is a fulltime permanent position based in croydon  surrey  hours of work are monday to friday shifts between      30am      00pm  however flexibility is required to meet customer requirements and bank holiday working may be required  bilingual  customer service  call centre  contact centre  events  event management  event coordinator  teleconferencing  teleconference  telecommunications  telecoms  languages  language skills  \n",
       "41                                                                                                                                                                                                                                                                                                                                                                                                                                                                                                                                                                                                                                                                                                                                                                                                                                                                                                                                                                                                                                                                                                                                                                                                                                                                                                                                                                                                                                                                                                                                                                                                                                                                                                                        are you fluent in english and german  are you looking for an exciting opportunity to use your language skills in a fastpaced customer service role  we are presenting the opportunity to work for a leading global conferencing provider  we are currently looking for a bright and dynamic germanspeaker to join the busy multilingual european customer service team  working within this busy yet friendly office  you will be dealing with business clients on a daily basis  you will be setting up and managing live teleconferences  from office meetings  court hearings to large business events  this is an office based role dealing with inbound outbound calls and managing the automated conference service  above all you will consistently provide excellent customer service to valuable clients  and be an outstanding representative for the company  this client is a successful company  excellent to work for  who are stronger than ever during the current economic climate  the company offer a welcoming and supportive working environment as well as fantastic career progression opportunities and an excellent benefit package you must be fluent in german customer service experience  this can be retail  hospitality  receptionist  office  customer service  call centre   experience dealing with business clients  b2b  would be preferable  proven ability to use your own initiative and work well under pressure  other important qualities are organisation  attention to detail  strong communication skills and reliability punctuality  this is a fulltime permanent position based in croydon  surrey  hours of work are monday to friday shifts between      30am      00pm  bilingual  german  customer service  call centre  contact centre  events  event management  event coordinator  teleconferencing  teleconference  telecommunications  telecoms  languages  language skills  \n",
       "42                                                                                                                                                                                                                                                                                                                                                                                                                                                                                                                                                                                                                                                                                                                                                                                                                                                                                                                                                                                                                                                                                                                                                                                                                                                                                                                                                                                                                                                                                                                                                                                                                                                                                                                                                                                                                                                                                                                                                                                                                                                                                                                                                                                                                                                                                                                                                                                                                                                                                                                                                                                                                                                                                                                                                                                                                                                                                                                                                                                                                                                                                                                                                                                                                                                                                                                                                                                                                                                                                                                  senior planning engineer  nuclear experience required  primavera p     working half the time in manchester and half the time at sellafield  \n",
       "43                                                                                                                                                                                                                                                                                                                                                                                                                                                                                                                                                                                                                                                                                                                                                                                                                                                                                                                                                                                                                                                                                                                                                                                                                                                                                                                                                                                                                                                                                                                                                                                                                                                                                                                                                                    do you have experience in customer service  do you speak another european language  if so we want to hear from you we are presenting the opportunity to work for a leading communications company within their multilingual customer service team  working within a busy and dynamic service centre  you will book and confirm reservations by telephone  fax and email  and check booking details with the customer  giving them the appropriate information to ensure the service runs smoothly  this is an office based role dealing with inbound calls from business clients  above all you will consistently provide excellent customer service to valuable clients  and be an outstanding representative for the company  this role presents the opportunity to use your language skills  as you would be liaising with international clients  our client is an established and internationally successful company  who are excellent to work for  and stronger than ever during the current economic climate  the company offer thorough training  a welcoming and supportive working environment  as well as fantastic career progression opportunities and an excellent benefits package the right candidate must be committed  reliable and have an excellent telephone manner  you must be fluent in english and one of the following languages  french  german  danish  dutch  swedish  finnish  italian or spanish   candidates with experience in telesales  callcentre  customer service  receptionist or travel are ideal for this role you must also demonstrate the ability to use your own initiative and work well under pressure  working hours are mondayfriday  and flexibility to work shift patterns  including early starts  is a must  basic salary is                  bonus  language supplement  this is a fulltime permanent position based in gloucester  \n",
       "44                                                                                                                                                                                                                                                                                                                                                                                                                                                                                                                                                                                                                                                                                                                                                                                                                                                                                                                                                                                                                                                                                                                                                                                                                                                                                                                                                                                                                                                                                                                                                                                                                                                                                                                                                                                                                                                                                                                                                                                                                                                                                                                                                                                                                                                                                                                                                                                                                                                                                                                                                                                                                                                                                                                                                                                   we are looking for a motivated  hard working  conscientious members of staff to work in accordance with our junior course programme coaching trampolining on a saturday mornings      30am       30pm term time  this individual will compliment our existing team  the post holder must hold as a minimum level 1 in trampolining  british gymnastics  and have experience in working with children  be fun  outgoing and have excellent customer service skills and be able to instruct in line with the british gymnastics syllabus  this post are exempt from the rehabilitation of offenders act      and will be conditional upon a satisfactory disclosure from the criminal records bureau hertsmere leisure is an equal opportunities employer hertsmere leisure promotes a positive attitude towards attendance at work   following successful probation period  \n",
       "45                                                                                                                                                                                                                                                                                                                                                                                                                                                                                                                                                                                                                                                                                                                                                                                                                                                                                                                                                                                                                                                                                                                                                                                                                                                                                                                                                                                                                                                                                                                                                                                                                                                                                                                                                                                                                                                                                                                                                                                                                                                                      do you have a passion for swimming  can you motivate others to improve their skills  if the answer is yes and you have a asa ukcc level 2 or sta full qualification  this could be the job for you kirklees active leisure is looking to develop and grow our existing swimming instructor program for both children and adults and we are looking for enthusiastic individuals to join our team on a self employed basis and become part of our kal swim academy programme across our sites  we are actively seeking individuals who can teach swimming including a wide range of disciplines including coaching  triathlon  adult and child  disabilities  synchro  waterpolo  and diving  information for cpd upskilling is available on a regular basis   you will stand out because of your motivational and fun style of teaching  passion for swimming and your ability to inspire people  ensuring pupils enjoy your sessions week on week  you will be a vibrant presence in our facilities and willing to go that extra mile  to apply for this opportunity you will need to have proof of your qualification and public liability insurance  most sessions are held on evenings and weekends and availability differs at each pool  for an informal discussion regarding this opportunity please contact the aquatics manager at your kirklees active leisure local pool  an enhanced criminal record bureau  crb  disclosure is required for these posts  a conviction will not necessarily exclude a candidate but will be considered as part of the recruitment process   \n",
       "46                                                                                                                                                                                                                                                                                                                                                                                                                                                                                                                                                                                                                                                                                                                                                                                                                                                                                                                                                                                                                                                                                                                                                                                                                                                                                                                                                                                                                                                                                                                                                                                                                                                                                                                                                                                                                                                                                                                                                                                                                                                                                 do you have a passion for sport  can you motivate others to improve their skills  do you have a valid level 1 or level 2 national governing body qualification  kirklees active leisure  kal  is looking to develop and grow our existing sport coaching programme for both adults and young people and we are looking for enthusiastic individuals to join our teams on a self employed basis and become part of our sport coaching programmes across our sites  we are actively seeking individuals who can coach a wide range of sports including gymnstics  trampolining  netball  football and climbing  you will stand out because of your motivational style of coaching  passion for sport and your ability to inspire people  ensuring individuals return to your session week on week  you will be a vibrant presence in our facilities and will be willing to go that extra mile for our customers  to apply for this opportunity you will need to have proof of your qualification and public liability insurance  various hourly sessions are held throughout the week including evenings and weekends and availability differs at each centre  for an informal discussion regarding this opportunity please contact the sports activity manager at your kirklees active leisure centre  details of all our centre s are shown on www kirkleesactive co uk   an enhanced criminal record bureau  crb  disclosure is required for these posts  a conviction will not necessarily exclude a candidate but will be considered as part of the recruitment process   \n",
       "47                                                                                                                                                                                                                                                                                                                                                                                                                                                                                                                                                                                                                                                                                                                                                                                                                                                                                                                                                                                                                                                                                                                                                                                                                                                                                                                                                                                                                                                                                                                                                                                                                                                                                                                                                                                                                                                                                                                                                                                                                                                                                                                                                                                                                                                                                                                                                                                                                                                                                                                                                                                                                                                                                                                                                                                                                                                                                                                                                                                                                                                                                                                                                                                                                                                                             we are looking for outgoing  friendly people to join our crew  previous experience is always helpful but not essential  as long as you enjoy looking after people and are able to work evenings and weekends  we would like to hear from you  we are very flexible and try to work around people s commitmentshowever you run your life we re sure you ll enjoy working for us   \n",
       "48                                                                                                                                                                                                                                                                                                                                                                                                                                                                                                                                                                                                                                                                                                                                                                                                                                                                                                                                                                                                                                                                                                                                                                                                                                                                                                                                                                                                                                                                                                                                                                                                                                                                                                                                                                                                                                                                                                                                                                                                                                                                                                                                                                                                                                          we are looking for an experienced deputy manager with a big front of house character and good knowledge of food  wine and beer to help run the pub alongside the manager  you will frequently work opposite shifts to the manager  and run the pub in the manager s absence  so the skill sets needed are broadly the same  you won t carry the full weight of responsibility for the wellbeing of the business  but you will be the manager s righthand person  and will be a senior member of the management team  making decisions and directing things on a daily basis  you ll need to understand and love pubs  take real pleasure in making people happy and play a full role in keeping the business profitable  the crew happy and the customers coming back for more  being a deputy manager is an ideal opportunity to gain knowledge and experience of every aspect of pub life  we see our deputy managers as our managers of the future  and try to promote from within whenever we can  our rate of growth means that there are exciting opportunities springing up all the time  and you will be able to develop your career at a pace that is appropriate to you  contact  please send your cv with a covering letter telling us what makes you tick please take some time to look through our website and ensure that you include a covering letter when at the final stage of your application   \n",
       "49                                                                                                                                                                                                                                                                                                                                                                                                                                                                                                                                                                                                                                                                                                                                                                                                                                                                                                                                                                                                                                                                                                                                                                                                                                                                                                                                                                                                                                                                                                                                                                                                                                                                                                                                                                                                                                                                                                                                                                                                                                                                                                                                                                                                                                                                                                                                                                                                                                                                                                                                                                                                                                                                                                                                                                                                                                                                                                                                                                                                                                                                                                                                                    we are looking for outgoing  friendly people to join our crew  previous experience is always helpful but not essential  as long as you enjoy looking after people and are able to work evenings and weekends  we would like to hear from you  we are very flexible and try to work around people s commitmentshowever you run your life we re sure you ll enjoy working for us  contact  if you think you have got what it takes please send your cv along with a cover letter telling us about yourself  "
      ]
     },
     "execution_count": 32,
     "metadata": {},
     "output_type": "execute_result"
    }
   ],
   "source": [
    "df_FullDescription[\"processed_FullDescription\"] = df_FullDescription[\"processed_FullDescription\"].str.replace('[^\\w\\s]',' ', regex=True)\n",
    "df_FullDescription.head(50)"
   ]
  },
  {
   "cell_type": "markdown",
   "id": "ffed6d5d",
   "metadata": {},
   "source": [
    "### Removendo números:"
   ]
  },
  {
   "cell_type": "code",
   "execution_count": 33,
   "id": "e30827b4",
   "metadata": {},
   "outputs": [
    {
     "data": {
      "text/html": [
       "<div>\n",
       "<style scoped>\n",
       "    .dataframe tbody tr th:only-of-type {\n",
       "        vertical-align: middle;\n",
       "    }\n",
       "\n",
       "    .dataframe tbody tr th {\n",
       "        vertical-align: top;\n",
       "    }\n",
       "\n",
       "    .dataframe thead th {\n",
       "        text-align: right;\n",
       "    }\n",
       "</style>\n",
       "<table border=\"1\" class=\"dataframe\">\n",
       "  <thead>\n",
       "    <tr style=\"text-align: right;\">\n",
       "      <th></th>\n",
       "      <th>FullDescription</th>\n",
       "      <th>processed_FullDescription</th>\n",
       "    </tr>\n",
       "  </thead>\n",
       "  <tbody>\n",
       "    <tr>\n",
       "      <th>0</th>\n",
       "      <td>Engineering Systems Analyst Dorking Surrey Salary ****K Our client is located in Dorking, Surrey and are looking for Engineering Systems Analyst our client provides specialist software development Keywords Mathematical Modelling, Risk Analysis, System Modelling, Optimisation, MISER, PIONEEER Engineering Systems Analyst Dorking Surrey Salary ****K</td>\n",
       "      <td>engineering systems analyst dorking surrey salary     k our client is located in dorking  surrey and are looking for engineering systems analyst our client provides specialist software development keywords mathematical modelling  risk analysis  system modelling  optimisation  miser  pioneeer engineering systems analyst dorking surrey salary     k</td>\n",
       "    </tr>\n",
       "    <tr>\n",
       "      <th>1</th>\n",
       "      <td>Stress Engineer Glasgow Salary **** to **** We re currently looking for talented engineers to join our growing Glasgow team at a variety of levels. The roles are ideally suited to high calibre engineering graduates with any level of appropriate experience, so that we can give you the opportunity to use your technical skills to provide high quality input to our aerospace projects, spanning both aerostructures and aeroengines. In return, you can expect good career opportunities and the chance for advancement and personal and professional development, support while you gain Chartership and some opportunities to possibly travel or work in other offices, in or outside of the UK. The Requirements You will need to have a good engineering degree that includes structural analysis (such as aeronautical, mechanical, automotive, civil) with some experience in a professional engineering environment relevant to (but not limited to) the aerospace sector. You will need to demonstrate experience in at least one or more of the following areas: Structural/stress analysis Composite stress analysis (any industry) Linear and nonlinear finite element analysis Fatigue and damage tolerance Structural dynamics Thermal analysis Aerostructures experience You will also be expected to demonstrate the following qualities: A strong desire to progress quickly to a position of leadership Professional approach Strong communication skills, written and verbal Commercial awareness Team working, being comfortable working in international teams and self managing PLEASE NOTE SECURITY CLEARANCE IS REQUIRED FOR THIS ROLE Stress Engineer Glasgow Salary **** to ****</td>\n",
       "      <td>stress engineer glasgow salary      to      we re currently looking for talented engineers to join our growing glasgow team at a variety of levels  the roles are ideally suited to high calibre engineering graduates with any level of appropriate experience  so that we can give you the opportunity to use your technical skills to provide high quality input to our aerospace projects  spanning both aerostructures and aeroengines  in return  you can expect good career opportunities and the chance for advancement and personal and professional development  support while you gain chartership and some opportunities to possibly travel or work in other offices  in or outside of the uk  the requirements you will need to have a good engineering degree that includes structural analysis  such as aeronautical  mechanical  automotive  civil  with some experience in a professional engineering environment relevant to  but not limited to  the aerospace sector  you will need to demonstrate experience in at least one or more of the following areas  structural stress analysis composite stress analysis  any industry  linear and nonlinear finite element analysis fatigue and damage tolerance structural dynamics thermal analysis aerostructures experience you will also be expected to demonstrate the following qualities  a strong desire to progress quickly to a position of leadership professional approach strong communication skills  written and verbal commercial awareness team working  being comfortable working in international teams and self managing please note security clearance is required for this role stress engineer glasgow salary      to</td>\n",
       "    </tr>\n",
       "    <tr>\n",
       "      <th>2</th>\n",
       "      <td>Mathematical Modeller / Simulation Analyst / Operational Analyst Basingstoke, Hampshire Up to ****K AAE pension contribution, private medical and dental The opportunity Our client is an independent consultancy firm which has an opportunity for a Data Analyst with 35 years experience. The role will require the successful candidate to demonstrate their ability to analyse a problem and arrive at a solution, with varying levels of data being available. Essential skills Thorough knowledge of Excel and proven ability to utilise this to create powerful decision support models Experience in Modelling and Simulation Techniques, Experience of techniques such as Discrete Event Simulation and/or SD modelling Mathematical/scientific background  minimum degree qualified Proven analytical and problem solving skills Self Starter Ability to develop solid working relationships In addition to formal qualifications and experience, the successful candidate will require excellent written and verbal communication skills, be energetic, enterprising and have a determination to succeed. They will be required to build solid working relationships, both internally with colleagues and, most importantly, externally with our clients. They must be comfortable working independently to deliver against challenging client demands. The offices are located in Basingstoke, Hampshire, but our client work for clients worldwide. The successful candidate must therefore be prepared to undertake work at client sites for short periods of time. Physics, Mathematics, Modelling, Simulation, Analytical, Operational Research, Mathematical Modelling Mathematical Modeller / Simulation Analyst / Operational Analyst Basingstoke, Hampshire ****K AAE pension contribution, private medical and dental</td>\n",
       "      <td>mathematical modeller   simulation analyst   operational analyst basingstoke  hampshire up to     k aae pension contribution  private medical and dental the opportunity our client is an independent consultancy firm which has an opportunity for a data analyst with  years experience  the role will require the successful candidate to demonstrate their ability to analyse a problem and arrive at a solution  with varying levels of data being available  essential skills thorough knowledge of excel and proven ability to utilise this to create powerful decision support models experience in modelling and simulation techniques  experience of techniques such as discrete event simulation and or sd modelling mathematical scientific background  minimum degree qualified proven analytical and problem solving skills self starter ability to develop solid working relationships in addition to formal qualifications and experience  the successful candidate will require excellent written and verbal communication skills  be energetic  enterprising and have a determination to succeed  they will be required to build solid working relationships  both internally with colleagues and  most importantly  externally with our clients  they must be comfortable working independently to deliver against challenging client demands  the offices are located in basingstoke  hampshire  but our client work for clients worldwide  the successful candidate must therefore be prepared to undertake work at client sites for short periods of time  physics  mathematics  modelling  simulation  analytical  operational research  mathematical modelling mathematical modeller   simulation analyst   operational analyst basingstoke  hampshire     k aae pension contribution  private medical and dental</td>\n",
       "    </tr>\n",
       "    <tr>\n",
       "      <th>3</th>\n",
       "      <td>Engineering Systems Analyst / Mathematical Modeller. Our client is a highly successful and respected Consultancy providing specialist software development MISER, PIONEER, Maths, Mathematical, Optimisation, Risk Analysis, Asset Management, Water Industry, Access, Excel, VBA, SQL, Systems . Engineering Systems Analyst / Mathematical Modeller. Salary  ****K****K negotiable Location Dorking, Surrey</td>\n",
       "      <td>engineering systems analyst   mathematical modeller  our client is a highly successful and respected consultancy providing specialist software development miser  pioneer  maths  mathematical  optimisation  risk analysis  asset management  water industry  access  excel  vba  sql  systems   engineering systems analyst   mathematical modeller  salary      k    k negotiable location dorking  surrey</td>\n",
       "    </tr>\n",
       "    <tr>\n",
       "      <th>4</th>\n",
       "      <td>Pioneer, Miser  Engineering Systems Analyst Dorking  Surrey Salary ****K Located in Surrey, our client provides specialist software development Pioneer, Miser  Engineering Systems Analyst Dorking  Surrey Salary ****K</td>\n",
       "      <td>pioneer  miser  engineering systems analyst dorking  surrey salary     k located in surrey  our client provides specialist software development pioneer  miser  engineering systems analyst dorking  surrey salary     k</td>\n",
       "    </tr>\n",
       "  </tbody>\n",
       "</table>\n",
       "</div>"
      ],
      "text/plain": [
       "                                                                                                                                                                                                                                                                                                                                                                                                                                                                                                                                                                                                                                                                                                                                                                                                                                                                                                                                                                                                                                                                                                                                                                                                                                                                                                                                                                                                                                                                                                                                                                                                                                                                                                                                                                                                                               FullDescription  \\\n",
       "0                                                                                                                                                                                                                                                                                                                                                                                                                                                                                                                                                                                                                                                                                                                                                                                                                                                                                                                                                                                                                                                                                                                                                                                                                                                                                                                                                                                                                                                                                 Engineering Systems Analyst Dorking Surrey Salary ****K Our client is located in Dorking, Surrey and are looking for Engineering Systems Analyst our client provides specialist software development Keywords Mathematical Modelling, Risk Analysis, System Modelling, Optimisation, MISER, PIONEEER Engineering Systems Analyst Dorking Surrey Salary ****K   \n",
       "1                                                                                                                            Stress Engineer Glasgow Salary **** to **** We re currently looking for talented engineers to join our growing Glasgow team at a variety of levels. The roles are ideally suited to high calibre engineering graduates with any level of appropriate experience, so that we can give you the opportunity to use your technical skills to provide high quality input to our aerospace projects, spanning both aerostructures and aeroengines. In return, you can expect good career opportunities and the chance for advancement and personal and professional development, support while you gain Chartership and some opportunities to possibly travel or work in other offices, in or outside of the UK. The Requirements You will need to have a good engineering degree that includes structural analysis (such as aeronautical, mechanical, automotive, civil) with some experience in a professional engineering environment relevant to (but not limited to) the aerospace sector. You will need to demonstrate experience in at least one or more of the following areas: Structural/stress analysis Composite stress analysis (any industry) Linear and nonlinear finite element analysis Fatigue and damage tolerance Structural dynamics Thermal analysis Aerostructures experience You will also be expected to demonstrate the following qualities: A strong desire to progress quickly to a position of leadership Professional approach Strong communication skills, written and verbal Commercial awareness Team working, being comfortable working in international teams and self managing PLEASE NOTE SECURITY CLEARANCE IS REQUIRED FOR THIS ROLE Stress Engineer Glasgow Salary **** to ****   \n",
       "2  Mathematical Modeller / Simulation Analyst / Operational Analyst Basingstoke, Hampshire Up to ****K AAE pension contribution, private medical and dental The opportunity Our client is an independent consultancy firm which has an opportunity for a Data Analyst with 35 years experience. The role will require the successful candidate to demonstrate their ability to analyse a problem and arrive at a solution, with varying levels of data being available. Essential skills Thorough knowledge of Excel and proven ability to utilise this to create powerful decision support models Experience in Modelling and Simulation Techniques, Experience of techniques such as Discrete Event Simulation and/or SD modelling Mathematical/scientific background  minimum degree qualified Proven analytical and problem solving skills Self Starter Ability to develop solid working relationships In addition to formal qualifications and experience, the successful candidate will require excellent written and verbal communication skills, be energetic, enterprising and have a determination to succeed. They will be required to build solid working relationships, both internally with colleagues and, most importantly, externally with our clients. They must be comfortable working independently to deliver against challenging client demands. The offices are located in Basingstoke, Hampshire, but our client work for clients worldwide. The successful candidate must therefore be prepared to undertake work at client sites for short periods of time. Physics, Mathematics, Modelling, Simulation, Analytical, Operational Research, Mathematical Modelling Mathematical Modeller / Simulation Analyst / Operational Analyst Basingstoke, Hampshire ****K AAE pension contribution, private medical and dental   \n",
       "3                                                                                                                                                                                                                                                                                                                                                                                                                                                                                                                                                                                                                                                                                                                                                                                                                                                                                                                                                                                                                                                                                                                                                                                                                                                                                                                                                                                                                                Engineering Systems Analyst / Mathematical Modeller. Our client is a highly successful and respected Consultancy providing specialist software development MISER, PIONEER, Maths, Mathematical, Optimisation, Risk Analysis, Asset Management, Water Industry, Access, Excel, VBA, SQL, Systems . Engineering Systems Analyst / Mathematical Modeller. Salary  ****K****K negotiable Location Dorking, Surrey   \n",
       "4                                                                                                                                                                                                                                                                                                                                                                                                                                                                                                                                                                                                                                                                                                                                                                                                                                                                                                                                                                                                                                                                                                                                                                                                                                                                                                                                                                                                                                                                                                                                                                                                                     Pioneer, Miser  Engineering Systems Analyst Dorking  Surrey Salary ****K Located in Surrey, our client provides specialist software development Pioneer, Miser  Engineering Systems Analyst Dorking  Surrey Salary ****K   \n",
       "\n",
       "                                                                                                                                                                                                                                                                                                                                                                                                                                                                                                                                                                                                                                                                                                                                                                                                                                                                                                                                                                                                                                                                                                                                                                                                                                                                                                                                                                                                                                                                                                                                                                                                                                                                                                                                                                                                                   processed_FullDescription  \n",
       "0                                                                                                                                                                                                                                                                                                                                                                                                                                                                                                                                                                                                                                                                                                                                                                                                                                                                                                                                                                                                                                                                                                                                                                                                                                                                                                                                                                                                                                                                               engineering systems analyst dorking surrey salary     k our client is located in dorking  surrey and are looking for engineering systems analyst our client provides specialist software development keywords mathematical modelling  risk analysis  system modelling  optimisation  miser  pioneeer engineering systems analyst dorking surrey salary     k  \n",
       "1                                                                                                                          stress engineer glasgow salary      to      we re currently looking for talented engineers to join our growing glasgow team at a variety of levels  the roles are ideally suited to high calibre engineering graduates with any level of appropriate experience  so that we can give you the opportunity to use your technical skills to provide high quality input to our aerospace projects  spanning both aerostructures and aeroengines  in return  you can expect good career opportunities and the chance for advancement and personal and professional development  support while you gain chartership and some opportunities to possibly travel or work in other offices  in or outside of the uk  the requirements you will need to have a good engineering degree that includes structural analysis  such as aeronautical  mechanical  automotive  civil  with some experience in a professional engineering environment relevant to  but not limited to  the aerospace sector  you will need to demonstrate experience in at least one or more of the following areas  structural stress analysis composite stress analysis  any industry  linear and nonlinear finite element analysis fatigue and damage tolerance structural dynamics thermal analysis aerostructures experience you will also be expected to demonstrate the following qualities  a strong desire to progress quickly to a position of leadership professional approach strong communication skills  written and verbal commercial awareness team working  being comfortable working in international teams and self managing please note security clearance is required for this role stress engineer glasgow salary      to       \n",
       "2  mathematical modeller   simulation analyst   operational analyst basingstoke  hampshire up to     k aae pension contribution  private medical and dental the opportunity our client is an independent consultancy firm which has an opportunity for a data analyst with  years experience  the role will require the successful candidate to demonstrate their ability to analyse a problem and arrive at a solution  with varying levels of data being available  essential skills thorough knowledge of excel and proven ability to utilise this to create powerful decision support models experience in modelling and simulation techniques  experience of techniques such as discrete event simulation and or sd modelling mathematical scientific background  minimum degree qualified proven analytical and problem solving skills self starter ability to develop solid working relationships in addition to formal qualifications and experience  the successful candidate will require excellent written and verbal communication skills  be energetic  enterprising and have a determination to succeed  they will be required to build solid working relationships  both internally with colleagues and  most importantly  externally with our clients  they must be comfortable working independently to deliver against challenging client demands  the offices are located in basingstoke  hampshire  but our client work for clients worldwide  the successful candidate must therefore be prepared to undertake work at client sites for short periods of time  physics  mathematics  modelling  simulation  analytical  operational research  mathematical modelling mathematical modeller   simulation analyst   operational analyst basingstoke  hampshire     k aae pension contribution  private medical and dental  \n",
       "3                                                                                                                                                                                                                                                                                                                                                                                                                                                                                                                                                                                                                                                                                                                                                                                                                                                                                                                                                                                                                                                                                                                                                                                                                                                                                                                                                                                                                              engineering systems analyst   mathematical modeller  our client is a highly successful and respected consultancy providing specialist software development miser  pioneer  maths  mathematical  optimisation  risk analysis  asset management  water industry  access  excel  vba  sql  systems   engineering systems analyst   mathematical modeller  salary      k    k negotiable location dorking  surrey  \n",
       "4                                                                                                                                                                                                                                                                                                                                                                                                                                                                                                                                                                                                                                                                                                                                                                                                                                                                                                                                                                                                                                                                                                                                                                                                                                                                                                                                                                                                                                                                                                                                                                                                                   pioneer  miser  engineering systems analyst dorking  surrey salary     k located in surrey  our client provides specialist software development pioneer  miser  engineering systems analyst dorking  surrey salary     k  "
      ]
     },
     "execution_count": 33,
     "metadata": {},
     "output_type": "execute_result"
    }
   ],
   "source": [
    "df_FullDescription[\"processed_FullDescription\"] = df_FullDescription[\"processed_FullDescription\"].str.replace('[0-9]+', '', regex=True)\n",
    "df_FullDescription.head()"
   ]
  },
  {
   "cell_type": "markdown",
   "id": "4b172ca8",
   "metadata": {},
   "source": [
    "### Aplicacando Stopword Removal (Remoção de palavras irrelevantes)"
   ]
  },
  {
   "cell_type": "code",
   "execution_count": 34,
   "id": "5a4af0f2",
   "metadata": {},
   "outputs": [
    {
     "data": {
      "text/plain": [
       "\"i, me, my, myself, we, our, ours, ourselves, you, you're, you've, you'll, you'd, your, yours, yourself, yourselves, he, him, his, himself, she, she's, her, hers, herself, it, it's, its, itself, they, them, their, theirs, themselves, what, which, who, whom, this, that, that'll, these, those, am, is, are, was, were, be, been, being, have, has, had, having, do, does, did, doing, a, an, the, and, but, if, or, because, as, until, while, of, at, by, for, with, about, against, between, into, through, during, before, after, above, below, to, from, up, down, in, out, on, off, over, under, again, further, then, once, here, there, when, where, why, how, all, any, both, each, few, more, most, other, some, such, no, nor, not, only, own, same, so, than, too, very, s, t, can, will, just, don, don't, should, should've, now, d, ll, m, o, re, ve, y, ain, aren, aren't, couldn, couldn't, didn, didn't, doesn, doesn't, hadn, hadn't, hasn, hasn't, haven, haven't, isn, isn't, ma, mightn, mightn't, mustn, mustn't, needn, needn't, shan, shan't, shouldn, shouldn't, wasn, wasn't, weren, weren't, won, won't, wouldn, wouldn't\""
      ]
     },
     "execution_count": 34,
     "metadata": {},
     "output_type": "execute_result"
    }
   ],
   "source": [
    "from nltk.corpus import stopwords\n",
    "\", \".join(stopwords.words('english'))"
   ]
  },
  {
   "cell_type": "code",
   "execution_count": 35,
   "id": "38e6b8df",
   "metadata": {},
   "outputs": [
    {
     "data": {
      "text/html": [
       "<div>\n",
       "<style scoped>\n",
       "    .dataframe tbody tr th:only-of-type {\n",
       "        vertical-align: middle;\n",
       "    }\n",
       "\n",
       "    .dataframe tbody tr th {\n",
       "        vertical-align: top;\n",
       "    }\n",
       "\n",
       "    .dataframe thead th {\n",
       "        text-align: right;\n",
       "    }\n",
       "</style>\n",
       "<table border=\"1\" class=\"dataframe\">\n",
       "  <thead>\n",
       "    <tr style=\"text-align: right;\">\n",
       "      <th></th>\n",
       "      <th>FullDescription</th>\n",
       "      <th>processed_FullDescription</th>\n",
       "    </tr>\n",
       "  </thead>\n",
       "  <tbody>\n",
       "    <tr>\n",
       "      <th>0</th>\n",
       "      <td>Engineering Systems Analyst Dorking Surrey Salary ****K Our client is located in Dorking, Surrey and are looking for Engineering Systems Analyst our client provides specialist software development Keywords Mathematical Modelling, Risk Analysis, System Modelling, Optimisation, MISER, PIONEEER Engineering Systems Analyst Dorking Surrey Salary ****K</td>\n",
       "      <td>engineering systems analyst dorking surrey salary k client located dorking surrey looking engineering systems analyst client provides specialist software development keywords mathematical modelling risk analysis system modelling optimisation miser pioneeer engineering systems analyst dorking surrey salary k</td>\n",
       "    </tr>\n",
       "    <tr>\n",
       "      <th>1</th>\n",
       "      <td>Stress Engineer Glasgow Salary **** to **** We re currently looking for talented engineers to join our growing Glasgow team at a variety of levels. The roles are ideally suited to high calibre engineering graduates with any level of appropriate experience, so that we can give you the opportunity to use your technical skills to provide high quality input to our aerospace projects, spanning both aerostructures and aeroengines. In return, you can expect good career opportunities and the chance for advancement and personal and professional development, support while you gain Chartership and some opportunities to possibly travel or work in other offices, in or outside of the UK. The Requirements You will need to have a good engineering degree that includes structural analysis (such as aeronautical, mechanical, automotive, civil) with some experience in a professional engineering environment relevant to (but not limited to) the aerospace sector. You will need to demonstrate experience in at least one or more of the following areas: Structural/stress analysis Composite stress analysis (any industry) Linear and nonlinear finite element analysis Fatigue and damage tolerance Structural dynamics Thermal analysis Aerostructures experience You will also be expected to demonstrate the following qualities: A strong desire to progress quickly to a position of leadership Professional approach Strong communication skills, written and verbal Commercial awareness Team working, being comfortable working in international teams and self managing PLEASE NOTE SECURITY CLEARANCE IS REQUIRED FOR THIS ROLE Stress Engineer Glasgow Salary **** to ****</td>\n",
       "      <td>stress engineer glasgow salary currently looking talented engineers join growing glasgow team variety levels roles ideally suited high calibre engineering graduates level appropriate experience give opportunity use technical skills provide high quality input aerospace projects spanning aerostructures aeroengines return expect good career opportunities chance advancement personal professional development support gain chartership opportunities possibly travel work offices outside uk requirements need good engineering degree includes structural analysis aeronautical mechanical automotive civil experience professional engineering environment relevant limited aerospace sector need demonstrate experience least one following areas structural stress analysis composite stress analysis industry linear nonlinear finite element analysis fatigue damage tolerance structural dynamics thermal analysis aerostructures experience also expected demonstrate following qualities strong desire progress quickly position leadership professional approach strong communication skills written verbal commercial awareness team working comfortable working international teams self managing please note security clearance required role stress engineer glasgow salary</td>\n",
       "    </tr>\n",
       "    <tr>\n",
       "      <th>2</th>\n",
       "      <td>Mathematical Modeller / Simulation Analyst / Operational Analyst Basingstoke, Hampshire Up to ****K AAE pension contribution, private medical and dental The opportunity Our client is an independent consultancy firm which has an opportunity for a Data Analyst with 35 years experience. The role will require the successful candidate to demonstrate their ability to analyse a problem and arrive at a solution, with varying levels of data being available. Essential skills Thorough knowledge of Excel and proven ability to utilise this to create powerful decision support models Experience in Modelling and Simulation Techniques, Experience of techniques such as Discrete Event Simulation and/or SD modelling Mathematical/scientific background  minimum degree qualified Proven analytical and problem solving skills Self Starter Ability to develop solid working relationships In addition to formal qualifications and experience, the successful candidate will require excellent written and verbal communication skills, be energetic, enterprising and have a determination to succeed. They will be required to build solid working relationships, both internally with colleagues and, most importantly, externally with our clients. They must be comfortable working independently to deliver against challenging client demands. The offices are located in Basingstoke, Hampshire, but our client work for clients worldwide. The successful candidate must therefore be prepared to undertake work at client sites for short periods of time. Physics, Mathematics, Modelling, Simulation, Analytical, Operational Research, Mathematical Modelling Mathematical Modeller / Simulation Analyst / Operational Analyst Basingstoke, Hampshire ****K AAE pension contribution, private medical and dental</td>\n",
       "      <td>mathematical modeller simulation analyst operational analyst basingstoke hampshire k aae pension contribution private medical dental opportunity client independent consultancy firm opportunity data analyst years experience role require successful candidate demonstrate ability analyse problem arrive solution varying levels data available essential skills thorough knowledge excel proven ability utilise create powerful decision support models experience modelling simulation techniques experience techniques discrete event simulation sd modelling mathematical scientific background minimum degree qualified proven analytical problem solving skills self starter ability develop solid working relationships addition formal qualifications experience successful candidate require excellent written verbal communication skills energetic enterprising determination succeed required build solid working relationships internally colleagues importantly externally clients must comfortable working independently deliver challenging client demands offices located basingstoke hampshire client work clients worldwide successful candidate must therefore prepared undertake work client sites short periods time physics mathematics modelling simulation analytical operational research mathematical modelling mathematical modeller simulation analyst operational analyst basingstoke hampshire k aae pension contribution private medical dental</td>\n",
       "    </tr>\n",
       "    <tr>\n",
       "      <th>3</th>\n",
       "      <td>Engineering Systems Analyst / Mathematical Modeller. Our client is a highly successful and respected Consultancy providing specialist software development MISER, PIONEER, Maths, Mathematical, Optimisation, Risk Analysis, Asset Management, Water Industry, Access, Excel, VBA, SQL, Systems . Engineering Systems Analyst / Mathematical Modeller. Salary  ****K****K negotiable Location Dorking, Surrey</td>\n",
       "      <td>engineering systems analyst mathematical modeller client highly successful respected consultancy providing specialist software development miser pioneer maths mathematical optimisation risk analysis asset management water industry access excel vba sql systems engineering systems analyst mathematical modeller salary k k negotiable location dorking surrey</td>\n",
       "    </tr>\n",
       "    <tr>\n",
       "      <th>4</th>\n",
       "      <td>Pioneer, Miser  Engineering Systems Analyst Dorking  Surrey Salary ****K Located in Surrey, our client provides specialist software development Pioneer, Miser  Engineering Systems Analyst Dorking  Surrey Salary ****K</td>\n",
       "      <td>pioneer miser engineering systems analyst dorking surrey salary k located surrey client provides specialist software development pioneer miser engineering systems analyst dorking surrey salary k</td>\n",
       "    </tr>\n",
       "  </tbody>\n",
       "</table>\n",
       "</div>"
      ],
      "text/plain": [
       "                                                                                                                                                                                                                                                                                                                                                                                                                                                                                                                                                                                                                                                                                                                                                                                                                                                                                                                                                                                                                                                                                                                                                                                                                                                                                                                                                                                                                                                                                                                                                                                                                                                                                                                                                                                                                               FullDescription  \\\n",
       "0                                                                                                                                                                                                                                                                                                                                                                                                                                                                                                                                                                                                                                                                                                                                                                                                                                                                                                                                                                                                                                                                                                                                                                                                                                                                                                                                                                                                                                                                                 Engineering Systems Analyst Dorking Surrey Salary ****K Our client is located in Dorking, Surrey and are looking for Engineering Systems Analyst our client provides specialist software development Keywords Mathematical Modelling, Risk Analysis, System Modelling, Optimisation, MISER, PIONEEER Engineering Systems Analyst Dorking Surrey Salary ****K   \n",
       "1                                                                                                                            Stress Engineer Glasgow Salary **** to **** We re currently looking for talented engineers to join our growing Glasgow team at a variety of levels. The roles are ideally suited to high calibre engineering graduates with any level of appropriate experience, so that we can give you the opportunity to use your technical skills to provide high quality input to our aerospace projects, spanning both aerostructures and aeroengines. In return, you can expect good career opportunities and the chance for advancement and personal and professional development, support while you gain Chartership and some opportunities to possibly travel or work in other offices, in or outside of the UK. The Requirements You will need to have a good engineering degree that includes structural analysis (such as aeronautical, mechanical, automotive, civil) with some experience in a professional engineering environment relevant to (but not limited to) the aerospace sector. You will need to demonstrate experience in at least one or more of the following areas: Structural/stress analysis Composite stress analysis (any industry) Linear and nonlinear finite element analysis Fatigue and damage tolerance Structural dynamics Thermal analysis Aerostructures experience You will also be expected to demonstrate the following qualities: A strong desire to progress quickly to a position of leadership Professional approach Strong communication skills, written and verbal Commercial awareness Team working, being comfortable working in international teams and self managing PLEASE NOTE SECURITY CLEARANCE IS REQUIRED FOR THIS ROLE Stress Engineer Glasgow Salary **** to ****   \n",
       "2  Mathematical Modeller / Simulation Analyst / Operational Analyst Basingstoke, Hampshire Up to ****K AAE pension contribution, private medical and dental The opportunity Our client is an independent consultancy firm which has an opportunity for a Data Analyst with 35 years experience. The role will require the successful candidate to demonstrate their ability to analyse a problem and arrive at a solution, with varying levels of data being available. Essential skills Thorough knowledge of Excel and proven ability to utilise this to create powerful decision support models Experience in Modelling and Simulation Techniques, Experience of techniques such as Discrete Event Simulation and/or SD modelling Mathematical/scientific background  minimum degree qualified Proven analytical and problem solving skills Self Starter Ability to develop solid working relationships In addition to formal qualifications and experience, the successful candidate will require excellent written and verbal communication skills, be energetic, enterprising and have a determination to succeed. They will be required to build solid working relationships, both internally with colleagues and, most importantly, externally with our clients. They must be comfortable working independently to deliver against challenging client demands. The offices are located in Basingstoke, Hampshire, but our client work for clients worldwide. The successful candidate must therefore be prepared to undertake work at client sites for short periods of time. Physics, Mathematics, Modelling, Simulation, Analytical, Operational Research, Mathematical Modelling Mathematical Modeller / Simulation Analyst / Operational Analyst Basingstoke, Hampshire ****K AAE pension contribution, private medical and dental   \n",
       "3                                                                                                                                                                                                                                                                                                                                                                                                                                                                                                                                                                                                                                                                                                                                                                                                                                                                                                                                                                                                                                                                                                                                                                                                                                                                                                                                                                                                                                Engineering Systems Analyst / Mathematical Modeller. Our client is a highly successful and respected Consultancy providing specialist software development MISER, PIONEER, Maths, Mathematical, Optimisation, Risk Analysis, Asset Management, Water Industry, Access, Excel, VBA, SQL, Systems . Engineering Systems Analyst / Mathematical Modeller. Salary  ****K****K negotiable Location Dorking, Surrey   \n",
       "4                                                                                                                                                                                                                                                                                                                                                                                                                                                                                                                                                                                                                                                                                                                                                                                                                                                                                                                                                                                                                                                                                                                                                                                                                                                                                                                                                                                                                                                                                                                                                                                                                     Pioneer, Miser  Engineering Systems Analyst Dorking  Surrey Salary ****K Located in Surrey, our client provides specialist software development Pioneer, Miser  Engineering Systems Analyst Dorking  Surrey Salary ****K   \n",
       "\n",
       "                                                                                                                                                                                                                                                                                                                                                                                                                                                                                                                                                                                                                                                                                                                                                                                                                                                                                                                                                                                                                                                                                                                                                                                                                                                                                                                                                                                                                                                            processed_FullDescription  \n",
       "0                                                                                                                                                                                                                                                                                                                                                                                                                                                                                                                                                                                                                                                                                                                                                                                                                                                                                                                                                                                                                                                                                                                                                                engineering systems analyst dorking surrey salary k client located dorking surrey looking engineering systems analyst client provides specialist software development keywords mathematical modelling risk analysis system modelling optimisation miser pioneeer engineering systems analyst dorking surrey salary k  \n",
       "1                                                                                                                                                                                  stress engineer glasgow salary currently looking talented engineers join growing glasgow team variety levels roles ideally suited high calibre engineering graduates level appropriate experience give opportunity use technical skills provide high quality input aerospace projects spanning aerostructures aeroengines return expect good career opportunities chance advancement personal professional development support gain chartership opportunities possibly travel work offices outside uk requirements need good engineering degree includes structural analysis aeronautical mechanical automotive civil experience professional engineering environment relevant limited aerospace sector need demonstrate experience least one following areas structural stress analysis composite stress analysis industry linear nonlinear finite element analysis fatigue damage tolerance structural dynamics thermal analysis aerostructures experience also expected demonstrate following qualities strong desire progress quickly position leadership professional approach strong communication skills written verbal commercial awareness team working comfortable working international teams self managing please note security clearance required role stress engineer glasgow salary  \n",
       "2  mathematical modeller simulation analyst operational analyst basingstoke hampshire k aae pension contribution private medical dental opportunity client independent consultancy firm opportunity data analyst years experience role require successful candidate demonstrate ability analyse problem arrive solution varying levels data available essential skills thorough knowledge excel proven ability utilise create powerful decision support models experience modelling simulation techniques experience techniques discrete event simulation sd modelling mathematical scientific background minimum degree qualified proven analytical problem solving skills self starter ability develop solid working relationships addition formal qualifications experience successful candidate require excellent written verbal communication skills energetic enterprising determination succeed required build solid working relationships internally colleagues importantly externally clients must comfortable working independently deliver challenging client demands offices located basingstoke hampshire client work clients worldwide successful candidate must therefore prepared undertake work client sites short periods time physics mathematics modelling simulation analytical operational research mathematical modelling mathematical modeller simulation analyst operational analyst basingstoke hampshire k aae pension contribution private medical dental  \n",
       "3                                                                                                                                                                                                                                                                                                                                                                                                                                                                                                                                                                                                                                                                                                                                                                                                                                                                                                                                                                                                                                                                                                                 engineering systems analyst mathematical modeller client highly successful respected consultancy providing specialist software development miser pioneer maths mathematical optimisation risk analysis asset management water industry access excel vba sql systems engineering systems analyst mathematical modeller salary k k negotiable location dorking surrey  \n",
       "4                                                                                                                                                                                                                                                                                                                                                                                                                                                                                                                                                                                                                                                                                                                                                                                                                                                                                                                                                                                                                                                                                                                                                                                                                                                                                  pioneer miser engineering systems analyst dorking surrey salary k located surrey client provides specialist software development pioneer miser engineering systems analyst dorking surrey salary k  "
      ]
     },
     "execution_count": 35,
     "metadata": {},
     "output_type": "execute_result"
    }
   ],
   "source": [
    "STOPWORDS = set(stopwords.words('english'))\n",
    "def remove_stopwords(text):\n",
    "  return \" \".join([word for word in str(text).split() if word not in STOPWORDS])\n",
    "\n",
    "df_FullDescription[\"processed_FullDescription\"] = df_FullDescription[\"processed_FullDescription\"].apply(lambda text: remove_stopwords(text))\n",
    "df_FullDescription.head()"
   ]
  },
  {
   "cell_type": "markdown",
   "id": "39258945",
   "metadata": {},
   "source": [
    "### Removendo palavras mais frequentes"
   ]
  },
  {
   "cell_type": "code",
   "execution_count": 36,
   "id": "6ff92a2a",
   "metadata": {},
   "outputs": [
    {
     "data": {
      "text/plain": [
       "[('experience', 428061),\n",
       " ('role', 292124),\n",
       " ('work', 279781),\n",
       " ('team', 268361),\n",
       " ('business', 265990),\n",
       " ('skills', 235950),\n",
       " ('working', 222664),\n",
       " ('within', 217339),\n",
       " ('sales', 209318),\n",
       " ('client', 197545)]"
      ]
     },
     "execution_count": 36,
     "metadata": {},
     "output_type": "execute_result"
    }
   ],
   "source": [
    "cnt_fulldescription = Counter() # Instance\n",
    "for text in df_FullDescription[\"processed_FullDescription\"].values:\n",
    "  for word in text.split():\n",
    "    cnt_fulldescription[word] += 1\n",
    "\n",
    "cnt_fulldescription.most_common(10)"
   ]
  },
  {
   "cell_type": "markdown",
   "id": "392c8097",
   "metadata": {},
   "source": [
    "**NOTE:**  \n",
    "Na minha opinião quase todas, senão todas são relevantes para o modelo aprender. Sabendo disso não vou remover nenhuma delas."
   ]
  },
  {
   "cell_type": "markdown",
   "id": "4be31507",
   "metadata": {},
   "source": [
    "### Remoção de palavras raras:"
   ]
  },
  {
   "cell_type": "code",
   "execution_count": 37,
   "id": "974c7431",
   "metadata": {},
   "outputs": [
    {
     "data": {
      "text/plain": [
       "{'gpled',\n",
       " 'grzedamcarthur',\n",
       " 'grzedamcarthurnhs',\n",
       " 'immedaitley',\n",
       " 'lowehays',\n",
       " 'organsations',\n",
       " 'ruabon',\n",
       " 'stephanietraveltraderecruitmnt',\n",
       " 'swuk',\n",
       " 'tne'}"
      ]
     },
     "execution_count": 37,
     "metadata": {},
     "output_type": "execute_result"
    }
   ],
   "source": [
    "n_rare_words = 10\n",
    "RAREWORDS = set([w for (w, wc) in cnt_fulldescription.most_common()[:-n_rare_words-1:-1]])\n",
    "RAREWORDS"
   ]
  },
  {
   "cell_type": "code",
   "execution_count": 38,
   "id": "1a5d3bbb",
   "metadata": {
    "scrolled": true
   },
   "outputs": [
    {
     "data": {
      "text/html": [
       "<div>\n",
       "<style scoped>\n",
       "    .dataframe tbody tr th:only-of-type {\n",
       "        vertical-align: middle;\n",
       "    }\n",
       "\n",
       "    .dataframe tbody tr th {\n",
       "        vertical-align: top;\n",
       "    }\n",
       "\n",
       "    .dataframe thead th {\n",
       "        text-align: right;\n",
       "    }\n",
       "</style>\n",
       "<table border=\"1\" class=\"dataframe\">\n",
       "  <thead>\n",
       "    <tr style=\"text-align: right;\">\n",
       "      <th></th>\n",
       "      <th>FullDescription</th>\n",
       "      <th>processed_FullDescription</th>\n",
       "    </tr>\n",
       "  </thead>\n",
       "  <tbody>\n",
       "    <tr>\n",
       "      <th>0</th>\n",
       "      <td>Engineering Systems Analyst Dorking Surrey Salary ****K Our client is located in Dorking, Surrey and are looking for Engineering Systems Analyst our client provides specialist software development Keywords Mathematical Modelling, Risk Analysis, System Modelling, Optimisation, MISER, PIONEEER Engineering Systems Analyst Dorking Surrey Salary ****K</td>\n",
       "      <td>engineering systems analyst dorking surrey salary k client located dorking surrey looking engineering systems analyst client provides specialist software development keywords mathematical modelling risk analysis system modelling optimisation miser pioneeer engineering systems analyst dorking surrey salary k</td>\n",
       "    </tr>\n",
       "    <tr>\n",
       "      <th>1</th>\n",
       "      <td>Stress Engineer Glasgow Salary **** to **** We re currently looking for talented engineers to join our growing Glasgow team at a variety of levels. The roles are ideally suited to high calibre engineering graduates with any level of appropriate experience, so that we can give you the opportunity to use your technical skills to provide high quality input to our aerospace projects, spanning both aerostructures and aeroengines. In return, you can expect good career opportunities and the chance for advancement and personal and professional development, support while you gain Chartership and some opportunities to possibly travel or work in other offices, in or outside of the UK. The Requirements You will need to have a good engineering degree that includes structural analysis (such as aeronautical, mechanical, automotive, civil) with some experience in a professional engineering environment relevant to (but not limited to) the aerospace sector. You will need to demonstrate experience in at least one or more of the following areas: Structural/stress analysis Composite stress analysis (any industry) Linear and nonlinear finite element analysis Fatigue and damage tolerance Structural dynamics Thermal analysis Aerostructures experience You will also be expected to demonstrate the following qualities: A strong desire to progress quickly to a position of leadership Professional approach Strong communication skills, written and verbal Commercial awareness Team working, being comfortable working in international teams and self managing PLEASE NOTE SECURITY CLEARANCE IS REQUIRED FOR THIS ROLE Stress Engineer Glasgow Salary **** to ****</td>\n",
       "      <td>stress engineer glasgow salary currently looking talented engineers join growing glasgow team variety levels roles ideally suited high calibre engineering graduates level appropriate experience give opportunity use technical skills provide high quality input aerospace projects spanning aerostructures aeroengines return expect good career opportunities chance advancement personal professional development support gain chartership opportunities possibly travel work offices outside uk requirements need good engineering degree includes structural analysis aeronautical mechanical automotive civil experience professional engineering environment relevant limited aerospace sector need demonstrate experience least one following areas structural stress analysis composite stress analysis industry linear nonlinear finite element analysis fatigue damage tolerance structural dynamics thermal analysis aerostructures experience also expected demonstrate following qualities strong desire progress quickly position leadership professional approach strong communication skills written verbal commercial awareness team working comfortable working international teams self managing please note security clearance required role stress engineer glasgow salary</td>\n",
       "    </tr>\n",
       "    <tr>\n",
       "      <th>2</th>\n",
       "      <td>Mathematical Modeller / Simulation Analyst / Operational Analyst Basingstoke, Hampshire Up to ****K AAE pension contribution, private medical and dental The opportunity Our client is an independent consultancy firm which has an opportunity for a Data Analyst with 35 years experience. The role will require the successful candidate to demonstrate their ability to analyse a problem and arrive at a solution, with varying levels of data being available. Essential skills Thorough knowledge of Excel and proven ability to utilise this to create powerful decision support models Experience in Modelling and Simulation Techniques, Experience of techniques such as Discrete Event Simulation and/or SD modelling Mathematical/scientific background  minimum degree qualified Proven analytical and problem solving skills Self Starter Ability to develop solid working relationships In addition to formal qualifications and experience, the successful candidate will require excellent written and verbal communication skills, be energetic, enterprising and have a determination to succeed. They will be required to build solid working relationships, both internally with colleagues and, most importantly, externally with our clients. They must be comfortable working independently to deliver against challenging client demands. The offices are located in Basingstoke, Hampshire, but our client work for clients worldwide. The successful candidate must therefore be prepared to undertake work at client sites for short periods of time. Physics, Mathematics, Modelling, Simulation, Analytical, Operational Research, Mathematical Modelling Mathematical Modeller / Simulation Analyst / Operational Analyst Basingstoke, Hampshire ****K AAE pension contribution, private medical and dental</td>\n",
       "      <td>mathematical modeller simulation analyst operational analyst basingstoke hampshire k aae pension contribution private medical dental opportunity client independent consultancy firm opportunity data analyst years experience role require successful candidate demonstrate ability analyse problem arrive solution varying levels data available essential skills thorough knowledge excel proven ability utilise create powerful decision support models experience modelling simulation techniques experience techniques discrete event simulation sd modelling mathematical scientific background minimum degree qualified proven analytical problem solving skills self starter ability develop solid working relationships addition formal qualifications experience successful candidate require excellent written verbal communication skills energetic enterprising determination succeed required build solid working relationships internally colleagues importantly externally clients must comfortable working independently deliver challenging client demands offices located basingstoke hampshire client work clients worldwide successful candidate must therefore prepared undertake work client sites short periods time physics mathematics modelling simulation analytical operational research mathematical modelling mathematical modeller simulation analyst operational analyst basingstoke hampshire k aae pension contribution private medical dental</td>\n",
       "    </tr>\n",
       "    <tr>\n",
       "      <th>3</th>\n",
       "      <td>Engineering Systems Analyst / Mathematical Modeller. Our client is a highly successful and respected Consultancy providing specialist software development MISER, PIONEER, Maths, Mathematical, Optimisation, Risk Analysis, Asset Management, Water Industry, Access, Excel, VBA, SQL, Systems . Engineering Systems Analyst / Mathematical Modeller. Salary  ****K****K negotiable Location Dorking, Surrey</td>\n",
       "      <td>engineering systems analyst mathematical modeller client highly successful respected consultancy providing specialist software development miser pioneer maths mathematical optimisation risk analysis asset management water industry access excel vba sql systems engineering systems analyst mathematical modeller salary k k negotiable location dorking surrey</td>\n",
       "    </tr>\n",
       "    <tr>\n",
       "      <th>4</th>\n",
       "      <td>Pioneer, Miser  Engineering Systems Analyst Dorking  Surrey Salary ****K Located in Surrey, our client provides specialist software development Pioneer, Miser  Engineering Systems Analyst Dorking  Surrey Salary ****K</td>\n",
       "      <td>pioneer miser engineering systems analyst dorking surrey salary k located surrey client provides specialist software development pioneer miser engineering systems analyst dorking surrey salary k</td>\n",
       "    </tr>\n",
       "  </tbody>\n",
       "</table>\n",
       "</div>"
      ],
      "text/plain": [
       "                                                                                                                                                                                                                                                                                                                                                                                                                                                                                                                                                                                                                                                                                                                                                                                                                                                                                                                                                                                                                                                                                                                                                                                                                                                                                                                                                                                                                                                                                                                                                                                                                                                                                                                                                                                                                               FullDescription  \\\n",
       "0                                                                                                                                                                                                                                                                                                                                                                                                                                                                                                                                                                                                                                                                                                                                                                                                                                                                                                                                                                                                                                                                                                                                                                                                                                                                                                                                                                                                                                                                                 Engineering Systems Analyst Dorking Surrey Salary ****K Our client is located in Dorking, Surrey and are looking for Engineering Systems Analyst our client provides specialist software development Keywords Mathematical Modelling, Risk Analysis, System Modelling, Optimisation, MISER, PIONEEER Engineering Systems Analyst Dorking Surrey Salary ****K   \n",
       "1                                                                                                                            Stress Engineer Glasgow Salary **** to **** We re currently looking for talented engineers to join our growing Glasgow team at a variety of levels. The roles are ideally suited to high calibre engineering graduates with any level of appropriate experience, so that we can give you the opportunity to use your technical skills to provide high quality input to our aerospace projects, spanning both aerostructures and aeroengines. In return, you can expect good career opportunities and the chance for advancement and personal and professional development, support while you gain Chartership and some opportunities to possibly travel or work in other offices, in or outside of the UK. The Requirements You will need to have a good engineering degree that includes structural analysis (such as aeronautical, mechanical, automotive, civil) with some experience in a professional engineering environment relevant to (but not limited to) the aerospace sector. You will need to demonstrate experience in at least one or more of the following areas: Structural/stress analysis Composite stress analysis (any industry) Linear and nonlinear finite element analysis Fatigue and damage tolerance Structural dynamics Thermal analysis Aerostructures experience You will also be expected to demonstrate the following qualities: A strong desire to progress quickly to a position of leadership Professional approach Strong communication skills, written and verbal Commercial awareness Team working, being comfortable working in international teams and self managing PLEASE NOTE SECURITY CLEARANCE IS REQUIRED FOR THIS ROLE Stress Engineer Glasgow Salary **** to ****   \n",
       "2  Mathematical Modeller / Simulation Analyst / Operational Analyst Basingstoke, Hampshire Up to ****K AAE pension contribution, private medical and dental The opportunity Our client is an independent consultancy firm which has an opportunity for a Data Analyst with 35 years experience. The role will require the successful candidate to demonstrate their ability to analyse a problem and arrive at a solution, with varying levels of data being available. Essential skills Thorough knowledge of Excel and proven ability to utilise this to create powerful decision support models Experience in Modelling and Simulation Techniques, Experience of techniques such as Discrete Event Simulation and/or SD modelling Mathematical/scientific background  minimum degree qualified Proven analytical and problem solving skills Self Starter Ability to develop solid working relationships In addition to formal qualifications and experience, the successful candidate will require excellent written and verbal communication skills, be energetic, enterprising and have a determination to succeed. They will be required to build solid working relationships, both internally with colleagues and, most importantly, externally with our clients. They must be comfortable working independently to deliver against challenging client demands. The offices are located in Basingstoke, Hampshire, but our client work for clients worldwide. The successful candidate must therefore be prepared to undertake work at client sites for short periods of time. Physics, Mathematics, Modelling, Simulation, Analytical, Operational Research, Mathematical Modelling Mathematical Modeller / Simulation Analyst / Operational Analyst Basingstoke, Hampshire ****K AAE pension contribution, private medical and dental   \n",
       "3                                                                                                                                                                                                                                                                                                                                                                                                                                                                                                                                                                                                                                                                                                                                                                                                                                                                                                                                                                                                                                                                                                                                                                                                                                                                                                                                                                                                                                Engineering Systems Analyst / Mathematical Modeller. Our client is a highly successful and respected Consultancy providing specialist software development MISER, PIONEER, Maths, Mathematical, Optimisation, Risk Analysis, Asset Management, Water Industry, Access, Excel, VBA, SQL, Systems . Engineering Systems Analyst / Mathematical Modeller. Salary  ****K****K negotiable Location Dorking, Surrey   \n",
       "4                                                                                                                                                                                                                                                                                                                                                                                                                                                                                                                                                                                                                                                                                                                                                                                                                                                                                                                                                                                                                                                                                                                                                                                                                                                                                                                                                                                                                                                                                                                                                                                                                     Pioneer, Miser  Engineering Systems Analyst Dorking  Surrey Salary ****K Located in Surrey, our client provides specialist software development Pioneer, Miser  Engineering Systems Analyst Dorking  Surrey Salary ****K   \n",
       "\n",
       "                                                                                                                                                                                                                                                                                                                                                                                                                                                                                                                                                                                                                                                                                                                                                                                                                                                                                                                                                                                                                                                                                                                                                                                                                                                                                                                                                                                                                                                            processed_FullDescription  \n",
       "0                                                                                                                                                                                                                                                                                                                                                                                                                                                                                                                                                                                                                                                                                                                                                                                                                                                                                                                                                                                                                                                                                                                                                                engineering systems analyst dorking surrey salary k client located dorking surrey looking engineering systems analyst client provides specialist software development keywords mathematical modelling risk analysis system modelling optimisation miser pioneeer engineering systems analyst dorking surrey salary k  \n",
       "1                                                                                                                                                                                  stress engineer glasgow salary currently looking talented engineers join growing glasgow team variety levels roles ideally suited high calibre engineering graduates level appropriate experience give opportunity use technical skills provide high quality input aerospace projects spanning aerostructures aeroengines return expect good career opportunities chance advancement personal professional development support gain chartership opportunities possibly travel work offices outside uk requirements need good engineering degree includes structural analysis aeronautical mechanical automotive civil experience professional engineering environment relevant limited aerospace sector need demonstrate experience least one following areas structural stress analysis composite stress analysis industry linear nonlinear finite element analysis fatigue damage tolerance structural dynamics thermal analysis aerostructures experience also expected demonstrate following qualities strong desire progress quickly position leadership professional approach strong communication skills written verbal commercial awareness team working comfortable working international teams self managing please note security clearance required role stress engineer glasgow salary  \n",
       "2  mathematical modeller simulation analyst operational analyst basingstoke hampshire k aae pension contribution private medical dental opportunity client independent consultancy firm opportunity data analyst years experience role require successful candidate demonstrate ability analyse problem arrive solution varying levels data available essential skills thorough knowledge excel proven ability utilise create powerful decision support models experience modelling simulation techniques experience techniques discrete event simulation sd modelling mathematical scientific background minimum degree qualified proven analytical problem solving skills self starter ability develop solid working relationships addition formal qualifications experience successful candidate require excellent written verbal communication skills energetic enterprising determination succeed required build solid working relationships internally colleagues importantly externally clients must comfortable working independently deliver challenging client demands offices located basingstoke hampshire client work clients worldwide successful candidate must therefore prepared undertake work client sites short periods time physics mathematics modelling simulation analytical operational research mathematical modelling mathematical modeller simulation analyst operational analyst basingstoke hampshire k aae pension contribution private medical dental  \n",
       "3                                                                                                                                                                                                                                                                                                                                                                                                                                                                                                                                                                                                                                                                                                                                                                                                                                                                                                                                                                                                                                                                                                                 engineering systems analyst mathematical modeller client highly successful respected consultancy providing specialist software development miser pioneer maths mathematical optimisation risk analysis asset management water industry access excel vba sql systems engineering systems analyst mathematical modeller salary k k negotiable location dorking surrey  \n",
       "4                                                                                                                                                                                                                                                                                                                                                                                                                                                                                                                                                                                                                                                                                                                                                                                                                                                                                                                                                                                                                                                                                                                                                                                                                                                                                  pioneer miser engineering systems analyst dorking surrey salary k located surrey client provides specialist software development pioneer miser engineering systems analyst dorking surrey salary k  "
      ]
     },
     "execution_count": 38,
     "metadata": {},
     "output_type": "execute_result"
    }
   ],
   "source": [
    "n_rare_words = 10\n",
    "RAREWORDS = set([w for (w, wc) in cnt_fulldescription.most_common()[:-n_rare_words-1:-1]])\n",
    "def remove_rarewords(text):\n",
    "  return \" \".join([word for word in str(text).split() if word not in RAREWORDS])\n",
    "\n",
    "df_FullDescription[\"processed_FullDescription\"] = df_FullDescription[\"processed_FullDescription\"].apply(lambda text: remove_rarewords(text))\n",
    "df_FullDescription.head()"
   ]
  },
  {
   "cell_type": "markdown",
   "id": "c140b6fa",
   "metadata": {},
   "source": [
    "### Aplica a técnica de Stemming"
   ]
  },
  {
   "cell_type": "code",
   "execution_count": 39,
   "id": "c27da6c3",
   "metadata": {},
   "outputs": [
    {
     "data": {
      "text/html": [
       "<div>\n",
       "<style scoped>\n",
       "    .dataframe tbody tr th:only-of-type {\n",
       "        vertical-align: middle;\n",
       "    }\n",
       "\n",
       "    .dataframe tbody tr th {\n",
       "        vertical-align: top;\n",
       "    }\n",
       "\n",
       "    .dataframe thead th {\n",
       "        text-align: right;\n",
       "    }\n",
       "</style>\n",
       "<table border=\"1\" class=\"dataframe\">\n",
       "  <thead>\n",
       "    <tr style=\"text-align: right;\">\n",
       "      <th></th>\n",
       "      <th>FullDescription</th>\n",
       "      <th>processed_FullDescription</th>\n",
       "    </tr>\n",
       "  </thead>\n",
       "  <tbody>\n",
       "    <tr>\n",
       "      <th>0</th>\n",
       "      <td>Engineering Systems Analyst Dorking Surrey Salary ****K Our client is located in Dorking, Surrey and are looking for Engineering Systems Analyst our client provides specialist software development Keywords Mathematical Modelling, Risk Analysis, System Modelling, Optimisation, MISER, PIONEEER Engineering Systems Analyst Dorking Surrey Salary ****K</td>\n",
       "      <td>engin system analyst dork surrey salari k client locat dork surrey look engin system analyst client provid specialist softwar develop keyword mathemat model risk analysi system model optimis miser pioneeer engin system analyst dork surrey salari k</td>\n",
       "    </tr>\n",
       "    <tr>\n",
       "      <th>1</th>\n",
       "      <td>Stress Engineer Glasgow Salary **** to **** We re currently looking for talented engineers to join our growing Glasgow team at a variety of levels. The roles are ideally suited to high calibre engineering graduates with any level of appropriate experience, so that we can give you the opportunity to use your technical skills to provide high quality input to our aerospace projects, spanning both aerostructures and aeroengines. In return, you can expect good career opportunities and the chance for advancement and personal and professional development, support while you gain Chartership and some opportunities to possibly travel or work in other offices, in or outside of the UK. The Requirements You will need to have a good engineering degree that includes structural analysis (such as aeronautical, mechanical, automotive, civil) with some experience in a professional engineering environment relevant to (but not limited to) the aerospace sector. You will need to demonstrate experience in at least one or more of the following areas: Structural/stress analysis Composite stress analysis (any industry) Linear and nonlinear finite element analysis Fatigue and damage tolerance Structural dynamics Thermal analysis Aerostructures experience You will also be expected to demonstrate the following qualities: A strong desire to progress quickly to a position of leadership Professional approach Strong communication skills, written and verbal Commercial awareness Team working, being comfortable working in international teams and self managing PLEASE NOTE SECURITY CLEARANCE IS REQUIRED FOR THIS ROLE Stress Engineer Glasgow Salary **** to ****</td>\n",
       "      <td>stress engin glasgow salari current look talent engin join grow glasgow team varieti level role ideal suit high calibr engin graduat level appropri experi give opportun use technic skill provid high qualiti input aerospac project span aerostructur aeroengin return expect good career opportun chanc advanc person profession develop support gain chartership opportun possibl travel work offic outsid uk requir need good engin degre includ structur analysi aeronaut mechan automot civil experi profession engin environ relev limit aerospac sector need demonstr experi least one follow area structur stress analysi composit stress analysi industri linear nonlinear finit element analysi fatigu damag toler structur dynam thermal analysi aerostructur experi also expect demonstr follow qualiti strong desir progress quickli posit leadership profession approach strong commun skill written verbal commerci awar team work comfort work intern team self manag pleas note secur clearanc requir role stress engin glasgow salari</td>\n",
       "    </tr>\n",
       "    <tr>\n",
       "      <th>2</th>\n",
       "      <td>Mathematical Modeller / Simulation Analyst / Operational Analyst Basingstoke, Hampshire Up to ****K AAE pension contribution, private medical and dental The opportunity Our client is an independent consultancy firm which has an opportunity for a Data Analyst with 35 years experience. The role will require the successful candidate to demonstrate their ability to analyse a problem and arrive at a solution, with varying levels of data being available. Essential skills Thorough knowledge of Excel and proven ability to utilise this to create powerful decision support models Experience in Modelling and Simulation Techniques, Experience of techniques such as Discrete Event Simulation and/or SD modelling Mathematical/scientific background  minimum degree qualified Proven analytical and problem solving skills Self Starter Ability to develop solid working relationships In addition to formal qualifications and experience, the successful candidate will require excellent written and verbal communication skills, be energetic, enterprising and have a determination to succeed. They will be required to build solid working relationships, both internally with colleagues and, most importantly, externally with our clients. They must be comfortable working independently to deliver against challenging client demands. The offices are located in Basingstoke, Hampshire, but our client work for clients worldwide. The successful candidate must therefore be prepared to undertake work at client sites for short periods of time. Physics, Mathematics, Modelling, Simulation, Analytical, Operational Research, Mathematical Modelling Mathematical Modeller / Simulation Analyst / Operational Analyst Basingstoke, Hampshire ****K AAE pension contribution, private medical and dental</td>\n",
       "      <td>mathemat model simul analyst oper analyst basingstok hampshir k aae pension contribut privat medic dental opportun client independ consult firm opportun data analyst year experi role requir success candid demonstr abil analys problem arriv solut vari level data avail essenti skill thorough knowledg excel proven abil utilis creat power decis support model experi model simul techniqu experi techniqu discret event simul sd model mathemat scientif background minimum degre qualifi proven analyt problem solv skill self starter abil develop solid work relationship addit formal qualif experi success candid requir excel written verbal commun skill energet enterpris determin succeed requir build solid work relationship intern colleagu importantli extern client must comfort work independ deliv challeng client demand offic locat basingstok hampshir client work client worldwid success candid must therefor prepar undertak work client site short period time physic mathemat model simul analyt oper research mathemat model mathemat model simul analyst oper analyst basingstok hampshir k aae pension contribut privat medic dental</td>\n",
       "    </tr>\n",
       "    <tr>\n",
       "      <th>3</th>\n",
       "      <td>Engineering Systems Analyst / Mathematical Modeller. Our client is a highly successful and respected Consultancy providing specialist software development MISER, PIONEER, Maths, Mathematical, Optimisation, Risk Analysis, Asset Management, Water Industry, Access, Excel, VBA, SQL, Systems . Engineering Systems Analyst / Mathematical Modeller. Salary  ****K****K negotiable Location Dorking, Surrey</td>\n",
       "      <td>engin system analyst mathemat model client highli success respect consult provid specialist softwar develop miser pioneer math mathemat optimis risk analysi asset manag water industri access excel vba sql system engin system analyst mathemat model salari k k negoti locat dork surrey</td>\n",
       "    </tr>\n",
       "    <tr>\n",
       "      <th>4</th>\n",
       "      <td>Pioneer, Miser  Engineering Systems Analyst Dorking  Surrey Salary ****K Located in Surrey, our client provides specialist software development Pioneer, Miser  Engineering Systems Analyst Dorking  Surrey Salary ****K</td>\n",
       "      <td>pioneer miser engin system analyst dork surrey salari k locat surrey client provid specialist softwar develop pioneer miser engin system analyst dork surrey salari k</td>\n",
       "    </tr>\n",
       "  </tbody>\n",
       "</table>\n",
       "</div>"
      ],
      "text/plain": [
       "                                                                                                                                                                                                                                                                                                                                                                                                                                                                                                                                                                                                                                                                                                                                                                                                                                                                                                                                                                                                                                                                                                                                                                                                                                                                                                                                                                                                                                                                                                                                                                                                                                                                                                                                                                                                                               FullDescription  \\\n",
       "0                                                                                                                                                                                                                                                                                                                                                                                                                                                                                                                                                                                                                                                                                                                                                                                                                                                                                                                                                                                                                                                                                                                                                                                                                                                                                                                                                                                                                                                                                 Engineering Systems Analyst Dorking Surrey Salary ****K Our client is located in Dorking, Surrey and are looking for Engineering Systems Analyst our client provides specialist software development Keywords Mathematical Modelling, Risk Analysis, System Modelling, Optimisation, MISER, PIONEEER Engineering Systems Analyst Dorking Surrey Salary ****K   \n",
       "1                                                                                                                            Stress Engineer Glasgow Salary **** to **** We re currently looking for talented engineers to join our growing Glasgow team at a variety of levels. The roles are ideally suited to high calibre engineering graduates with any level of appropriate experience, so that we can give you the opportunity to use your technical skills to provide high quality input to our aerospace projects, spanning both aerostructures and aeroengines. In return, you can expect good career opportunities and the chance for advancement and personal and professional development, support while you gain Chartership and some opportunities to possibly travel or work in other offices, in or outside of the UK. The Requirements You will need to have a good engineering degree that includes structural analysis (such as aeronautical, mechanical, automotive, civil) with some experience in a professional engineering environment relevant to (but not limited to) the aerospace sector. You will need to demonstrate experience in at least one or more of the following areas: Structural/stress analysis Composite stress analysis (any industry) Linear and nonlinear finite element analysis Fatigue and damage tolerance Structural dynamics Thermal analysis Aerostructures experience You will also be expected to demonstrate the following qualities: A strong desire to progress quickly to a position of leadership Professional approach Strong communication skills, written and verbal Commercial awareness Team working, being comfortable working in international teams and self managing PLEASE NOTE SECURITY CLEARANCE IS REQUIRED FOR THIS ROLE Stress Engineer Glasgow Salary **** to ****   \n",
       "2  Mathematical Modeller / Simulation Analyst / Operational Analyst Basingstoke, Hampshire Up to ****K AAE pension contribution, private medical and dental The opportunity Our client is an independent consultancy firm which has an opportunity for a Data Analyst with 35 years experience. The role will require the successful candidate to demonstrate their ability to analyse a problem and arrive at a solution, with varying levels of data being available. Essential skills Thorough knowledge of Excel and proven ability to utilise this to create powerful decision support models Experience in Modelling and Simulation Techniques, Experience of techniques such as Discrete Event Simulation and/or SD modelling Mathematical/scientific background  minimum degree qualified Proven analytical and problem solving skills Self Starter Ability to develop solid working relationships In addition to formal qualifications and experience, the successful candidate will require excellent written and verbal communication skills, be energetic, enterprising and have a determination to succeed. They will be required to build solid working relationships, both internally with colleagues and, most importantly, externally with our clients. They must be comfortable working independently to deliver against challenging client demands. The offices are located in Basingstoke, Hampshire, but our client work for clients worldwide. The successful candidate must therefore be prepared to undertake work at client sites for short periods of time. Physics, Mathematics, Modelling, Simulation, Analytical, Operational Research, Mathematical Modelling Mathematical Modeller / Simulation Analyst / Operational Analyst Basingstoke, Hampshire ****K AAE pension contribution, private medical and dental   \n",
       "3                                                                                                                                                                                                                                                                                                                                                                                                                                                                                                                                                                                                                                                                                                                                                                                                                                                                                                                                                                                                                                                                                                                                                                                                                                                                                                                                                                                                                                Engineering Systems Analyst / Mathematical Modeller. Our client is a highly successful and respected Consultancy providing specialist software development MISER, PIONEER, Maths, Mathematical, Optimisation, Risk Analysis, Asset Management, Water Industry, Access, Excel, VBA, SQL, Systems . Engineering Systems Analyst / Mathematical Modeller. Salary  ****K****K negotiable Location Dorking, Surrey   \n",
       "4                                                                                                                                                                                                                                                                                                                                                                                                                                                                                                                                                                                                                                                                                                                                                                                                                                                                                                                                                                                                                                                                                                                                                                                                                                                                                                                                                                                                                                                                                                                                                                                                                     Pioneer, Miser  Engineering Systems Analyst Dorking  Surrey Salary ****K Located in Surrey, our client provides specialist software development Pioneer, Miser  Engineering Systems Analyst Dorking  Surrey Salary ****K   \n",
       "\n",
       "                                                                                                                                                                                                                                                                                                                                                                                                                                                                                                                                                                                                                                                                                                                                                                                                                                                                                                                                                                                                                                                                                                                                                processed_FullDescription  \n",
       "0                                                                                                                                                                                                                                                                                                                                                                                                                                                                                                                                                                                                                                                                                                                                                                                                                                                                                                                 engin system analyst dork surrey salari k client locat dork surrey look engin system analyst client provid specialist softwar develop keyword mathemat model risk analysi system model optimis miser pioneeer engin system analyst dork surrey salari k  \n",
       "1                                                                                                               stress engin glasgow salari current look talent engin join grow glasgow team varieti level role ideal suit high calibr engin graduat level appropri experi give opportun use technic skill provid high qualiti input aerospac project span aerostructur aeroengin return expect good career opportun chanc advanc person profession develop support gain chartership opportun possibl travel work offic outsid uk requir need good engin degre includ structur analysi aeronaut mechan automot civil experi profession engin environ relev limit aerospac sector need demonstr experi least one follow area structur stress analysi composit stress analysi industri linear nonlinear finit element analysi fatigu damag toler structur dynam thermal analysi aerostructur experi also expect demonstr follow qualiti strong desir progress quickli posit leadership profession approach strong commun skill written verbal commerci awar team work comfort work intern team self manag pleas note secur clearanc requir role stress engin glasgow salari  \n",
       "2  mathemat model simul analyst oper analyst basingstok hampshir k aae pension contribut privat medic dental opportun client independ consult firm opportun data analyst year experi role requir success candid demonstr abil analys problem arriv solut vari level data avail essenti skill thorough knowledg excel proven abil utilis creat power decis support model experi model simul techniqu experi techniqu discret event simul sd model mathemat scientif background minimum degre qualifi proven analyt problem solv skill self starter abil develop solid work relationship addit formal qualif experi success candid requir excel written verbal commun skill energet enterpris determin succeed requir build solid work relationship intern colleagu importantli extern client must comfort work independ deliv challeng client demand offic locat basingstok hampshir client work client worldwid success candid must therefor prepar undertak work client site short period time physic mathemat model simul analyt oper research mathemat model mathemat model simul analyst oper analyst basingstok hampshir k aae pension contribut privat medic dental  \n",
       "3                                                                                                                                                                                                                                                                                                                                                                                                                                                                                                                                                                                                                                                                                                                                                                                                                                                                             engin system analyst mathemat model client highli success respect consult provid specialist softwar develop miser pioneer math mathemat optimis risk analysi asset manag water industri access excel vba sql system engin system analyst mathemat model salari k k negoti locat dork surrey  \n",
       "4                                                                                                                                                                                                                                                                                                                                                                                                                                                                                                                                                                                                                                                                                                                                                                                                                                                                                                                                                                                                   pioneer miser engin system analyst dork surrey salari k locat surrey client provid specialist softwar develop pioneer miser engin system analyst dork surrey salari k  "
      ]
     },
     "execution_count": 39,
     "metadata": {},
     "output_type": "execute_result"
    }
   ],
   "source": [
    "stemmer = PorterStemmer() # Instance.\n",
    "def stem_words(text):\n",
    "  return \" \".join([stemmer.stem(word) for word in text.split()])\n",
    "\n",
    "df_FullDescription[\"processed_FullDescription\"] = df_FullDescription[\"processed_FullDescription\"].apply(lambda text: stem_words(text))\n",
    "df_FullDescription.head()"
   ]
  },
  {
   "cell_type": "markdown",
   "id": "2560e5ed",
   "metadata": {},
   "source": [
    "### Aplica a técnica de Lemmatization"
   ]
  },
  {
   "cell_type": "code",
   "execution_count": 40,
   "id": "848f1ef4",
   "metadata": {},
   "outputs": [
    {
     "data": {
      "text/html": [
       "<div>\n",
       "<style scoped>\n",
       "    .dataframe tbody tr th:only-of-type {\n",
       "        vertical-align: middle;\n",
       "    }\n",
       "\n",
       "    .dataframe tbody tr th {\n",
       "        vertical-align: top;\n",
       "    }\n",
       "\n",
       "    .dataframe thead th {\n",
       "        text-align: right;\n",
       "    }\n",
       "</style>\n",
       "<table border=\"1\" class=\"dataframe\">\n",
       "  <thead>\n",
       "    <tr style=\"text-align: right;\">\n",
       "      <th></th>\n",
       "      <th>FullDescription</th>\n",
       "      <th>processed_FullDescription</th>\n",
       "    </tr>\n",
       "  </thead>\n",
       "  <tbody>\n",
       "    <tr>\n",
       "      <th>0</th>\n",
       "      <td>Engineering Systems Analyst Dorking Surrey Salary ****K Our client is located in Dorking, Surrey and are looking for Engineering Systems Analyst our client provides specialist software development Keywords Mathematical Modelling, Risk Analysis, System Modelling, Optimisation, MISER, PIONEEER Engineering Systems Analyst Dorking Surrey Salary ****K</td>\n",
       "      <td>engin system analyst dork surrey salari k client locat dork surrey look engin system analyst client provid specialist softwar develop keyword mathemat model risk analysi system model optimis miser pioneeer engin system analyst dork surrey salari k</td>\n",
       "    </tr>\n",
       "    <tr>\n",
       "      <th>1</th>\n",
       "      <td>Stress Engineer Glasgow Salary **** to **** We re currently looking for talented engineers to join our growing Glasgow team at a variety of levels. The roles are ideally suited to high calibre engineering graduates with any level of appropriate experience, so that we can give you the opportunity to use your technical skills to provide high quality input to our aerospace projects, spanning both aerostructures and aeroengines. In return, you can expect good career opportunities and the chance for advancement and personal and professional development, support while you gain Chartership and some opportunities to possibly travel or work in other offices, in or outside of the UK. The Requirements You will need to have a good engineering degree that includes structural analysis (such as aeronautical, mechanical, automotive, civil) with some experience in a professional engineering environment relevant to (but not limited to) the aerospace sector. You will need to demonstrate experience in at least one or more of the following areas: Structural/stress analysis Composite stress analysis (any industry) Linear and nonlinear finite element analysis Fatigue and damage tolerance Structural dynamics Thermal analysis Aerostructures experience You will also be expected to demonstrate the following qualities: A strong desire to progress quickly to a position of leadership Professional approach Strong communication skills, written and verbal Commercial awareness Team working, being comfortable working in international teams and self managing PLEASE NOTE SECURITY CLEARANCE IS REQUIRED FOR THIS ROLE Stress Engineer Glasgow Salary **** to ****</td>\n",
       "      <td>stress engin glasgow salari current look talent engin join grow glasgow team varieti level role ideal suit high calibr engin graduat level appropri experi give opportun use technic skill provid high qualiti input aerospac project span aerostructur aeroengin return expect good career opportun chanc advanc person profession develop support gain chartership opportun possibl travel work offic outsid uk requir need good engin degre includ structur analysi aeronaut mechan automot civil experi profession engin environ relev limit aerospac sector need demonstr experi least one follow area structur stress analysi composit stress analysi industri linear nonlinear finit element analysi fatigu damag toler structur dynam thermal analysi aerostructur experi also expect demonstr follow qualiti strong desir progress quickli posit leadership profession approach strong commun skill written verbal commerci awar team work comfort work intern team self manag plea note secur clearanc requir role stress engin glasgow salari</td>\n",
       "    </tr>\n",
       "    <tr>\n",
       "      <th>2</th>\n",
       "      <td>Mathematical Modeller / Simulation Analyst / Operational Analyst Basingstoke, Hampshire Up to ****K AAE pension contribution, private medical and dental The opportunity Our client is an independent consultancy firm which has an opportunity for a Data Analyst with 35 years experience. The role will require the successful candidate to demonstrate their ability to analyse a problem and arrive at a solution, with varying levels of data being available. Essential skills Thorough knowledge of Excel and proven ability to utilise this to create powerful decision support models Experience in Modelling and Simulation Techniques, Experience of techniques such as Discrete Event Simulation and/or SD modelling Mathematical/scientific background  minimum degree qualified Proven analytical and problem solving skills Self Starter Ability to develop solid working relationships In addition to formal qualifications and experience, the successful candidate will require excellent written and verbal communication skills, be energetic, enterprising and have a determination to succeed. They will be required to build solid working relationships, both internally with colleagues and, most importantly, externally with our clients. They must be comfortable working independently to deliver against challenging client demands. The offices are located in Basingstoke, Hampshire, but our client work for clients worldwide. The successful candidate must therefore be prepared to undertake work at client sites for short periods of time. Physics, Mathematics, Modelling, Simulation, Analytical, Operational Research, Mathematical Modelling Mathematical Modeller / Simulation Analyst / Operational Analyst Basingstoke, Hampshire ****K AAE pension contribution, private medical and dental</td>\n",
       "      <td>mathemat model simul analyst oper analyst basingstok hampshir k aae pension contribut privat medic dental opportun client independ consult firm opportun data analyst year experi role requir success candid demonstr abil analys problem arriv solut vari level data avail essenti skill thorough knowledg excel proven abil utilis creat power decis support model experi model simul techniqu experi techniqu discret event simul sd model mathemat scientif background minimum degre qualifi proven analyt problem solv skill self starter abil develop solid work relationship addit formal qualif experi success candid requir excel written verbal commun skill energet enterpris determin succeed requir build solid work relationship intern colleagu importantli extern client must comfort work independ deliv challeng client demand offic locat basingstok hampshir client work client worldwid success candid must therefor prepar undertak work client site short period time physic mathemat model simul analyt oper research mathemat model mathemat model simul analyst oper analyst basingstok hampshir k aae pension contribut privat medic dental</td>\n",
       "    </tr>\n",
       "    <tr>\n",
       "      <th>3</th>\n",
       "      <td>Engineering Systems Analyst / Mathematical Modeller. Our client is a highly successful and respected Consultancy providing specialist software development MISER, PIONEER, Maths, Mathematical, Optimisation, Risk Analysis, Asset Management, Water Industry, Access, Excel, VBA, SQL, Systems . Engineering Systems Analyst / Mathematical Modeller. Salary  ****K****K negotiable Location Dorking, Surrey</td>\n",
       "      <td>engin system analyst mathemat model client highli success respect consult provid specialist softwar develop miser pioneer math mathemat optimis risk analysi asset manag water industri access excel vba sql system engin system analyst mathemat model salari k k negoti locat dork surrey</td>\n",
       "    </tr>\n",
       "    <tr>\n",
       "      <th>4</th>\n",
       "      <td>Pioneer, Miser  Engineering Systems Analyst Dorking  Surrey Salary ****K Located in Surrey, our client provides specialist software development Pioneer, Miser  Engineering Systems Analyst Dorking  Surrey Salary ****K</td>\n",
       "      <td>pioneer miser engin system analyst dork surrey salari k locat surrey client provid specialist softwar develop pioneer miser engin system analyst dork surrey salari k</td>\n",
       "    </tr>\n",
       "  </tbody>\n",
       "</table>\n",
       "</div>"
      ],
      "text/plain": [
       "                                                                                                                                                                                                                                                                                                                                                                                                                                                                                                                                                                                                                                                                                                                                                                                                                                                                                                                                                                                                                                                                                                                                                                                                                                                                                                                                                                                                                                                                                                                                                                                                                                                                                                                                                                                                                               FullDescription  \\\n",
       "0                                                                                                                                                                                                                                                                                                                                                                                                                                                                                                                                                                                                                                                                                                                                                                                                                                                                                                                                                                                                                                                                                                                                                                                                                                                                                                                                                                                                                                                                                 Engineering Systems Analyst Dorking Surrey Salary ****K Our client is located in Dorking, Surrey and are looking for Engineering Systems Analyst our client provides specialist software development Keywords Mathematical Modelling, Risk Analysis, System Modelling, Optimisation, MISER, PIONEEER Engineering Systems Analyst Dorking Surrey Salary ****K   \n",
       "1                                                                                                                            Stress Engineer Glasgow Salary **** to **** We re currently looking for talented engineers to join our growing Glasgow team at a variety of levels. The roles are ideally suited to high calibre engineering graduates with any level of appropriate experience, so that we can give you the opportunity to use your technical skills to provide high quality input to our aerospace projects, spanning both aerostructures and aeroengines. In return, you can expect good career opportunities and the chance for advancement and personal and professional development, support while you gain Chartership and some opportunities to possibly travel or work in other offices, in or outside of the UK. The Requirements You will need to have a good engineering degree that includes structural analysis (such as aeronautical, mechanical, automotive, civil) with some experience in a professional engineering environment relevant to (but not limited to) the aerospace sector. You will need to demonstrate experience in at least one or more of the following areas: Structural/stress analysis Composite stress analysis (any industry) Linear and nonlinear finite element analysis Fatigue and damage tolerance Structural dynamics Thermal analysis Aerostructures experience You will also be expected to demonstrate the following qualities: A strong desire to progress quickly to a position of leadership Professional approach Strong communication skills, written and verbal Commercial awareness Team working, being comfortable working in international teams and self managing PLEASE NOTE SECURITY CLEARANCE IS REQUIRED FOR THIS ROLE Stress Engineer Glasgow Salary **** to ****   \n",
       "2  Mathematical Modeller / Simulation Analyst / Operational Analyst Basingstoke, Hampshire Up to ****K AAE pension contribution, private medical and dental The opportunity Our client is an independent consultancy firm which has an opportunity for a Data Analyst with 35 years experience. The role will require the successful candidate to demonstrate their ability to analyse a problem and arrive at a solution, with varying levels of data being available. Essential skills Thorough knowledge of Excel and proven ability to utilise this to create powerful decision support models Experience in Modelling and Simulation Techniques, Experience of techniques such as Discrete Event Simulation and/or SD modelling Mathematical/scientific background  minimum degree qualified Proven analytical and problem solving skills Self Starter Ability to develop solid working relationships In addition to formal qualifications and experience, the successful candidate will require excellent written and verbal communication skills, be energetic, enterprising and have a determination to succeed. They will be required to build solid working relationships, both internally with colleagues and, most importantly, externally with our clients. They must be comfortable working independently to deliver against challenging client demands. The offices are located in Basingstoke, Hampshire, but our client work for clients worldwide. The successful candidate must therefore be prepared to undertake work at client sites for short periods of time. Physics, Mathematics, Modelling, Simulation, Analytical, Operational Research, Mathematical Modelling Mathematical Modeller / Simulation Analyst / Operational Analyst Basingstoke, Hampshire ****K AAE pension contribution, private medical and dental   \n",
       "3                                                                                                                                                                                                                                                                                                                                                                                                                                                                                                                                                                                                                                                                                                                                                                                                                                                                                                                                                                                                                                                                                                                                                                                                                                                                                                                                                                                                                                Engineering Systems Analyst / Mathematical Modeller. Our client is a highly successful and respected Consultancy providing specialist software development MISER, PIONEER, Maths, Mathematical, Optimisation, Risk Analysis, Asset Management, Water Industry, Access, Excel, VBA, SQL, Systems . Engineering Systems Analyst / Mathematical Modeller. Salary  ****K****K negotiable Location Dorking, Surrey   \n",
       "4                                                                                                                                                                                                                                                                                                                                                                                                                                                                                                                                                                                                                                                                                                                                                                                                                                                                                                                                                                                                                                                                                                                                                                                                                                                                                                                                                                                                                                                                                                                                                                                                                     Pioneer, Miser  Engineering Systems Analyst Dorking  Surrey Salary ****K Located in Surrey, our client provides specialist software development Pioneer, Miser  Engineering Systems Analyst Dorking  Surrey Salary ****K   \n",
       "\n",
       "                                                                                                                                                                                                                                                                                                                                                                                                                                                                                                                                                                                                                                                                                                                                                                                                                                                                                                                                                                                                                                                                                                                                                processed_FullDescription  \n",
       "0                                                                                                                                                                                                                                                                                                                                                                                                                                                                                                                                                                                                                                                                                                                                                                                                                                                                                                                 engin system analyst dork surrey salari k client locat dork surrey look engin system analyst client provid specialist softwar develop keyword mathemat model risk analysi system model optimis miser pioneeer engin system analyst dork surrey salari k  \n",
       "1                                                                                                                stress engin glasgow salari current look talent engin join grow glasgow team varieti level role ideal suit high calibr engin graduat level appropri experi give opportun use technic skill provid high qualiti input aerospac project span aerostructur aeroengin return expect good career opportun chanc advanc person profession develop support gain chartership opportun possibl travel work offic outsid uk requir need good engin degre includ structur analysi aeronaut mechan automot civil experi profession engin environ relev limit aerospac sector need demonstr experi least one follow area structur stress analysi composit stress analysi industri linear nonlinear finit element analysi fatigu damag toler structur dynam thermal analysi aerostructur experi also expect demonstr follow qualiti strong desir progress quickli posit leadership profession approach strong commun skill written verbal commerci awar team work comfort work intern team self manag plea note secur clearanc requir role stress engin glasgow salari  \n",
       "2  mathemat model simul analyst oper analyst basingstok hampshir k aae pension contribut privat medic dental opportun client independ consult firm opportun data analyst year experi role requir success candid demonstr abil analys problem arriv solut vari level data avail essenti skill thorough knowledg excel proven abil utilis creat power decis support model experi model simul techniqu experi techniqu discret event simul sd model mathemat scientif background minimum degre qualifi proven analyt problem solv skill self starter abil develop solid work relationship addit formal qualif experi success candid requir excel written verbal commun skill energet enterpris determin succeed requir build solid work relationship intern colleagu importantli extern client must comfort work independ deliv challeng client demand offic locat basingstok hampshir client work client worldwid success candid must therefor prepar undertak work client site short period time physic mathemat model simul analyt oper research mathemat model mathemat model simul analyst oper analyst basingstok hampshir k aae pension contribut privat medic dental  \n",
       "3                                                                                                                                                                                                                                                                                                                                                                                                                                                                                                                                                                                                                                                                                                                                                                                                                                                                             engin system analyst mathemat model client highli success respect consult provid specialist softwar develop miser pioneer math mathemat optimis risk analysi asset manag water industri access excel vba sql system engin system analyst mathemat model salari k k negoti locat dork surrey  \n",
       "4                                                                                                                                                                                                                                                                                                                                                                                                                                                                                                                                                                                                                                                                                                                                                                                                                                                                                                                                                                                                   pioneer miser engin system analyst dork surrey salari k locat surrey client provid specialist softwar develop pioneer miser engin system analyst dork surrey salari k  "
      ]
     },
     "execution_count": 40,
     "metadata": {},
     "output_type": "execute_result"
    }
   ],
   "source": [
    "lemmatizer = WordNetLemmatizer() # Instance.\n",
    "def lemmatize_words(text):\n",
    "  return \" \".join([lemmatizer.lemmatize(word) for word in text.split()])\n",
    "\n",
    "df_FullDescription[\"processed_FullDescription\"] = df_FullDescription[\"processed_FullDescription\"].apply(lambda text: lemmatize_words(text))\n",
    "df_FullDescription.head()"
   ]
  },
  {
   "cell_type": "markdown",
   "id": "875ce1bc",
   "metadata": {},
   "source": [
    "### Aplica a técnica de Count Vectorizer"
   ]
  },
  {
   "cell_type": "code",
   "execution_count": 41,
   "id": "f97100f9",
   "metadata": {},
   "outputs": [],
   "source": [
    "vectorizer = CountVectorizer() # Instance.\n",
    "df_FullDescription_vectorized = vectorizer.fit_transform(df_FullDescription[\"processed_FullDescription\"])"
   ]
  },
  {
   "cell_type": "markdown",
   "id": "2a0635b1",
   "metadata": {},
   "source": [
    "### Salvando a Matriz esparsa"
   ]
  },
  {
   "cell_type": "code",
   "execution_count": 42,
   "id": "289d0116",
   "metadata": {},
   "outputs": [],
   "source": [
    "scipy.sparse.save_npz('df_fulldescription_vectorized.npz', df_FullDescription_vectorized)"
   ]
  },
  {
   "cell_type": "markdown",
   "id": "3bcd9afa",
   "metadata": {},
   "source": [
    "---"
   ]
  },
  {
   "cell_type": "markdown",
   "id": "baf6cd8a",
   "metadata": {},
   "source": [
    "## 03.4 - Pré-Processando a coluna (feature) \"LocationRaw\"\n",
    "> Imagine que essa coluna representa a localização da vaga, porém, utilizando pontos cardeais e/ou referências.\n",
    "\n",
    "**NOTE:**  \n",
    "Como eu já tenho uma coluna (feature) igual a essa, porém, normalizada eu vou ignorar essa."
   ]
  },
  {
   "cell_type": "markdown",
   "id": "3037ffac",
   "metadata": {},
   "source": [
    "---"
   ]
  },
  {
   "cell_type": "markdown",
   "id": "e2c84564",
   "metadata": {},
   "source": [
    "## 03.5 - Pré-Processando a coluna (feature) \"LocationNormalized\"\n",
    "> Tem o mesmo significado da coluna **LocationRaw**, porém, com menos informações e referências.\n",
    "\n",
    "**NOTE:**  \n",
    "Isso, porque essa coluna é o resultado de um Pré-Processamento da coluna **LocationRaw** feito pelo **Adzuna**."
   ]
  },
  {
   "cell_type": "markdown",
   "id": "26ae444e",
   "metadata": {},
   "source": [
    "### Preparando e colocando o tipo de dado mais adequado a *coluna (feature)* \"LocationNormalized\":"
   ]
  },
  {
   "cell_type": "code",
   "execution_count": 43,
   "id": "7c94c8ea",
   "metadata": {
    "scrolled": true
   },
   "outputs": [
    {
     "name": "stdout",
     "output_type": "stream",
     "text": [
      "<class 'pandas.core.frame.DataFrame'>\n",
      "RangeIndex: 244768 entries, 0 to 244767\n",
      "Data columns (total 1 columns):\n",
      " #   Column              Non-Null Count   Dtype \n",
      "---  ------              --------------   ----- \n",
      " 0   LocationNormalized  244768 non-null  string\n",
      "dtypes: string(1)\n",
      "memory usage: 1.9 MB\n"
     ]
    },
    {
     "data": {
      "text/html": [
       "<div>\n",
       "<style scoped>\n",
       "    .dataframe tbody tr th:only-of-type {\n",
       "        vertical-align: middle;\n",
       "    }\n",
       "\n",
       "    .dataframe tbody tr th {\n",
       "        vertical-align: top;\n",
       "    }\n",
       "\n",
       "    .dataframe thead th {\n",
       "        text-align: right;\n",
       "    }\n",
       "</style>\n",
       "<table border=\"1\" class=\"dataframe\">\n",
       "  <thead>\n",
       "    <tr style=\"text-align: right;\">\n",
       "      <th></th>\n",
       "      <th>LocationNormalized</th>\n",
       "    </tr>\n",
       "  </thead>\n",
       "  <tbody>\n",
       "    <tr>\n",
       "      <th>0</th>\n",
       "      <td>Dorking</td>\n",
       "    </tr>\n",
       "    <tr>\n",
       "      <th>1</th>\n",
       "      <td>Glasgow</td>\n",
       "    </tr>\n",
       "    <tr>\n",
       "      <th>2</th>\n",
       "      <td>Hampshire</td>\n",
       "    </tr>\n",
       "    <tr>\n",
       "      <th>3</th>\n",
       "      <td>Surrey</td>\n",
       "    </tr>\n",
       "    <tr>\n",
       "      <th>4</th>\n",
       "      <td>Surrey</td>\n",
       "    </tr>\n",
       "  </tbody>\n",
       "</table>\n",
       "</div>"
      ],
      "text/plain": [
       "  LocationNormalized\n",
       "0            Dorking\n",
       "1            Glasgow\n",
       "2          Hampshire\n",
       "3             Surrey\n",
       "4             Surrey"
      ]
     },
     "execution_count": 43,
     "metadata": {},
     "output_type": "execute_result"
    }
   ],
   "source": [
    "df_LocationNormalized = full_df[[\"LocationNormalized\"]]\n",
    "df_LocationNormalized = df_LocationNormalized.astype({'LocationNormalized': 'string'})\n",
    "df_LocationNormalized.info()\n",
    "df_LocationNormalized.head()"
   ]
  },
  {
   "cell_type": "markdown",
   "id": "ebe3254e",
   "metadata": {},
   "source": [
    "### Verificando quanto porcento (%) dos dados são ausentes (missing):"
   ]
  },
  {
   "cell_type": "code",
   "execution_count": 44,
   "id": "fc883272",
   "metadata": {},
   "outputs": [
    {
     "data": {
      "text/plain": [
       "LocationNormalized    0\n",
       "dtype: int64"
      ]
     },
     "execution_count": 44,
     "metadata": {},
     "output_type": "execute_result"
    }
   ],
   "source": [
    "# Data missing sum.\n",
    "missing = df_LocationNormalized.isnull().sum()\n",
    "missing"
   ]
  },
  {
   "cell_type": "code",
   "execution_count": 45,
   "id": "7fcf3fe0",
   "metadata": {},
   "outputs": [
    {
     "data": {
      "text/plain": [
       "LocationNormalized    0.0\n",
       "dtype: float64"
      ]
     },
     "execution_count": 45,
     "metadata": {},
     "output_type": "execute_result"
    }
   ],
   "source": [
    "# Data missing in percent.\n",
    "percentMissing = (missing / len(df_LocationNormalized.index)) * 100\n",
    "percentMissing"
   ]
  },
  {
   "cell_type": "markdown",
   "id": "30d13622",
   "metadata": {},
   "source": [
    "### Aplicando Lower Casing:"
   ]
  },
  {
   "cell_type": "code",
   "execution_count": 46,
   "id": "e1587c4f",
   "metadata": {
    "scrolled": true
   },
   "outputs": [
    {
     "data": {
      "text/html": [
       "<div>\n",
       "<style scoped>\n",
       "    .dataframe tbody tr th:only-of-type {\n",
       "        vertical-align: middle;\n",
       "    }\n",
       "\n",
       "    .dataframe tbody tr th {\n",
       "        vertical-align: top;\n",
       "    }\n",
       "\n",
       "    .dataframe thead th {\n",
       "        text-align: right;\n",
       "    }\n",
       "</style>\n",
       "<table border=\"1\" class=\"dataframe\">\n",
       "  <thead>\n",
       "    <tr style=\"text-align: right;\">\n",
       "      <th></th>\n",
       "      <th>LocationNormalized</th>\n",
       "      <th>processed_LocationNormalized</th>\n",
       "    </tr>\n",
       "  </thead>\n",
       "  <tbody>\n",
       "    <tr>\n",
       "      <th>0</th>\n",
       "      <td>Dorking</td>\n",
       "      <td>dorking</td>\n",
       "    </tr>\n",
       "    <tr>\n",
       "      <th>1</th>\n",
       "      <td>Glasgow</td>\n",
       "      <td>glasgow</td>\n",
       "    </tr>\n",
       "    <tr>\n",
       "      <th>2</th>\n",
       "      <td>Hampshire</td>\n",
       "      <td>hampshire</td>\n",
       "    </tr>\n",
       "    <tr>\n",
       "      <th>3</th>\n",
       "      <td>Surrey</td>\n",
       "      <td>surrey</td>\n",
       "    </tr>\n",
       "    <tr>\n",
       "      <th>4</th>\n",
       "      <td>Surrey</td>\n",
       "      <td>surrey</td>\n",
       "    </tr>\n",
       "  </tbody>\n",
       "</table>\n",
       "</div>"
      ],
      "text/plain": [
       "  LocationNormalized processed_LocationNormalized\n",
       "0            Dorking                      dorking\n",
       "1            Glasgow                      glasgow\n",
       "2          Hampshire                    hampshire\n",
       "3             Surrey                       surrey\n",
       "4             Surrey                       surrey"
      ]
     },
     "execution_count": 46,
     "metadata": {},
     "output_type": "execute_result"
    }
   ],
   "source": [
    "df_LocationNormalized[\"processed_LocationNormalized\"] = df_LocationNormalized[\"LocationNormalized\"].str.lower()\n",
    "df_LocationNormalized.head()"
   ]
  },
  {
   "cell_type": "markdown",
   "id": "05e62680",
   "metadata": {},
   "source": [
    "**NOTE:**  \n",
    "Eu poderia tentar categorizar ou vectorizar essa variáveis, mas como eu não tenho interesse em trabalhar com essa coluna (feature), vou apenas ignora ela por agora."
   ]
  },
  {
   "cell_type": "markdown",
   "id": "a879911a",
   "metadata": {},
   "source": [
    "---"
   ]
  },
  {
   "cell_type": "markdown",
   "id": "76788c4a",
   "metadata": {},
   "source": [
    "## 03.6 - Pré-Processando a coluna (feature) \"ContractType\"\n",
    "> Essa coluna representa os tipos de contratos por amostra de vaga de emprego, que são **full_time** ou **part_time**."
   ]
  },
  {
   "cell_type": "markdown",
   "id": "3dd50c5a",
   "metadata": {},
   "source": [
    "### Preparando e colocando o tipo de dado mais adequado na coluna (feature) \"ContractType\":"
   ]
  },
  {
   "cell_type": "code",
   "execution_count": 47,
   "id": "986d2663",
   "metadata": {},
   "outputs": [
    {
     "name": "stdout",
     "output_type": "stream",
     "text": [
      "<class 'pandas.core.frame.DataFrame'>\n",
      "RangeIndex: 244768 entries, 0 to 244767\n",
      "Data columns (total 1 columns):\n",
      " #   Column        Non-Null Count  Dtype \n",
      "---  ------        --------------  ----- \n",
      " 0   ContractType  65442 non-null  string\n",
      "dtypes: string(1)\n",
      "memory usage: 1.9 MB\n"
     ]
    },
    {
     "data": {
      "text/html": [
       "<div>\n",
       "<style scoped>\n",
       "    .dataframe tbody tr th:only-of-type {\n",
       "        vertical-align: middle;\n",
       "    }\n",
       "\n",
       "    .dataframe tbody tr th {\n",
       "        vertical-align: top;\n",
       "    }\n",
       "\n",
       "    .dataframe thead th {\n",
       "        text-align: right;\n",
       "    }\n",
       "</style>\n",
       "<table border=\"1\" class=\"dataframe\">\n",
       "  <thead>\n",
       "    <tr style=\"text-align: right;\">\n",
       "      <th></th>\n",
       "      <th>ContractType</th>\n",
       "    </tr>\n",
       "  </thead>\n",
       "  <tbody>\n",
       "    <tr>\n",
       "      <th>0</th>\n",
       "      <td>&lt;NA&gt;</td>\n",
       "    </tr>\n",
       "    <tr>\n",
       "      <th>1</th>\n",
       "      <td>&lt;NA&gt;</td>\n",
       "    </tr>\n",
       "    <tr>\n",
       "      <th>2</th>\n",
       "      <td>&lt;NA&gt;</td>\n",
       "    </tr>\n",
       "    <tr>\n",
       "      <th>3</th>\n",
       "      <td>&lt;NA&gt;</td>\n",
       "    </tr>\n",
       "    <tr>\n",
       "      <th>4</th>\n",
       "      <td>&lt;NA&gt;</td>\n",
       "    </tr>\n",
       "  </tbody>\n",
       "</table>\n",
       "</div>"
      ],
      "text/plain": [
       "  ContractType\n",
       "0         <NA>\n",
       "1         <NA>\n",
       "2         <NA>\n",
       "3         <NA>\n",
       "4         <NA>"
      ]
     },
     "execution_count": 47,
     "metadata": {},
     "output_type": "execute_result"
    }
   ],
   "source": [
    "df_ContractType = full_df[[\"ContractType\"]]\n",
    "df_ContractType = df_ContractType.astype({'ContractType': 'string'})\n",
    "df_ContractType.info()\n",
    "df_ContractType.head()"
   ]
  },
  {
   "cell_type": "markdown",
   "id": "aece6547",
   "metadata": {},
   "source": [
    "### Verificando quanto porcento (%) dos dados são ausentes (missing):"
   ]
  },
  {
   "cell_type": "code",
   "execution_count": 48,
   "id": "7ecf111f",
   "metadata": {},
   "outputs": [
    {
     "data": {
      "text/plain": [
       "ContractType    179326\n",
       "dtype: int64"
      ]
     },
     "execution_count": 48,
     "metadata": {},
     "output_type": "execute_result"
    }
   ],
   "source": [
    "# Data missing sum.\n",
    "missing = df_ContractType.isnull().sum()\n",
    "missing"
   ]
  },
  {
   "cell_type": "code",
   "execution_count": 49,
   "id": "ef09a92e",
   "metadata": {},
   "outputs": [
    {
     "data": {
      "text/plain": [
       "ContractType    73.263662\n",
       "dtype: float64"
      ]
     },
     "execution_count": 49,
     "metadata": {},
     "output_type": "execute_result"
    }
   ],
   "source": [
    "# Data missing in percent.\n",
    "percentMissing = (missing / len(df_ContractType.index)) * 100\n",
    "percentMissing"
   ]
  },
  {
   "cell_type": "markdown",
   "id": "c0df5019",
   "metadata": {},
   "source": [
    "**NOTE:**  \n",
    "Como essa *coluna (feature)* tem 73% dos dados faltantes (missing) vou remové-la. Isso, porque se nós temos mais de 70% dos dados faltando talvez essa variável no nosso modelo seja quase nula."
   ]
  },
  {
   "cell_type": "markdown",
   "id": "596bdd17",
   "metadata": {},
   "source": [
    "---"
   ]
  },
  {
   "cell_type": "markdown",
   "id": "94330bae",
   "metadata": {},
   "source": [
    "## 03.7 - Pré-Processando a coluna (feature) \"ContractTime\"\n",
    "> Tipo de contrato, que pode ser **permanente** ou **contrato**."
   ]
  },
  {
   "cell_type": "markdown",
   "id": "f233bf39",
   "metadata": {},
   "source": [
    "### Preparando e colocando o tipo de dado mais adequado na *coluna (feature)* \"ContractTime\":"
   ]
  },
  {
   "cell_type": "code",
   "execution_count": 50,
   "id": "bd72555c",
   "metadata": {
    "scrolled": true
   },
   "outputs": [
    {
     "name": "stdout",
     "output_type": "stream",
     "text": [
      "<class 'pandas.core.frame.DataFrame'>\n",
      "RangeIndex: 244768 entries, 0 to 244767\n",
      "Data columns (total 1 columns):\n",
      " #   Column        Non-Null Count   Dtype \n",
      "---  ------        --------------   ----- \n",
      " 0   ContractTime  180863 non-null  string\n",
      "dtypes: string(1)\n",
      "memory usage: 1.9 MB\n"
     ]
    },
    {
     "data": {
      "text/html": [
       "<div>\n",
       "<style scoped>\n",
       "    .dataframe tbody tr th:only-of-type {\n",
       "        vertical-align: middle;\n",
       "    }\n",
       "\n",
       "    .dataframe tbody tr th {\n",
       "        vertical-align: top;\n",
       "    }\n",
       "\n",
       "    .dataframe thead th {\n",
       "        text-align: right;\n",
       "    }\n",
       "</style>\n",
       "<table border=\"1\" class=\"dataframe\">\n",
       "  <thead>\n",
       "    <tr style=\"text-align: right;\">\n",
       "      <th></th>\n",
       "      <th>ContractTime</th>\n",
       "    </tr>\n",
       "  </thead>\n",
       "  <tbody>\n",
       "    <tr>\n",
       "      <th>0</th>\n",
       "      <td>permanent</td>\n",
       "    </tr>\n",
       "    <tr>\n",
       "      <th>1</th>\n",
       "      <td>permanent</td>\n",
       "    </tr>\n",
       "    <tr>\n",
       "      <th>2</th>\n",
       "      <td>permanent</td>\n",
       "    </tr>\n",
       "    <tr>\n",
       "      <th>3</th>\n",
       "      <td>permanent</td>\n",
       "    </tr>\n",
       "    <tr>\n",
       "      <th>4</th>\n",
       "      <td>permanent</td>\n",
       "    </tr>\n",
       "  </tbody>\n",
       "</table>\n",
       "</div>"
      ],
      "text/plain": [
       "  ContractTime\n",
       "0    permanent\n",
       "1    permanent\n",
       "2    permanent\n",
       "3    permanent\n",
       "4    permanent"
      ]
     },
     "execution_count": 50,
     "metadata": {},
     "output_type": "execute_result"
    }
   ],
   "source": [
    "df_ContractTime = full_df[[\"ContractTime\"]]\n",
    "df_ContractTime = df_ContractTime.astype({'ContractTime': 'string'})\n",
    "df_ContractTime.info()\n",
    "df_ContractTime.head()"
   ]
  },
  {
   "cell_type": "markdown",
   "id": "efd47b94",
   "metadata": {},
   "source": [
    "### Verificando quanto porcento (%) dos dados são ausentes (missing):"
   ]
  },
  {
   "cell_type": "code",
   "execution_count": 51,
   "id": "57620a2d",
   "metadata": {},
   "outputs": [
    {
     "data": {
      "text/plain": [
       "ContractTime    63905\n",
       "dtype: int64"
      ]
     },
     "execution_count": 51,
     "metadata": {},
     "output_type": "execute_result"
    }
   ],
   "source": [
    "# Data missing sum.\n",
    "missing = df_ContractTime.isnull().sum()\n",
    "missing"
   ]
  },
  {
   "cell_type": "code",
   "execution_count": 52,
   "id": "5f02801b",
   "metadata": {},
   "outputs": [
    {
     "data": {
      "text/plain": [
       "ContractTime    26.108397\n",
       "dtype: float64"
      ]
     },
     "execution_count": 52,
     "metadata": {},
     "output_type": "execute_result"
    }
   ],
   "source": [
    "# Data missing in percent.\n",
    "percentMissing = (missing / len(df_title.index)) * 100\n",
    "percentMissing"
   ]
  },
  {
   "cell_type": "markdown",
   "id": "fe24811d",
   "metadata": {},
   "source": [
    "**NOTE:**  \n",
    "Para esse caso em específico eu vou remover os valores nulos e categorizar os tipos de contratos:"
   ]
  },
  {
   "cell_type": "code",
   "execution_count": 53,
   "id": "54251505",
   "metadata": {},
   "outputs": [],
   "source": [
    "df_ContractTime = df_ContractTime.dropna()"
   ]
  },
  {
   "cell_type": "code",
   "execution_count": 54,
   "id": "be31cfdb",
   "metadata": {},
   "outputs": [
    {
     "name": "stdout",
     "output_type": "stream",
     "text": [
      "<class 'pandas.core.frame.DataFrame'>\n",
      "Int64Index: 180863 entries, 0 to 244767\n",
      "Data columns (total 1 columns):\n",
      " #   Column        Non-Null Count   Dtype \n",
      "---  ------        --------------   ----- \n",
      " 0   ContractTime  180863 non-null  string\n",
      "dtypes: string(1)\n",
      "memory usage: 2.8 MB\n"
     ]
    },
    {
     "data": {
      "text/html": [
       "<div>\n",
       "<style scoped>\n",
       "    .dataframe tbody tr th:only-of-type {\n",
       "        vertical-align: middle;\n",
       "    }\n",
       "\n",
       "    .dataframe tbody tr th {\n",
       "        vertical-align: top;\n",
       "    }\n",
       "\n",
       "    .dataframe thead th {\n",
       "        text-align: right;\n",
       "    }\n",
       "</style>\n",
       "<table border=\"1\" class=\"dataframe\">\n",
       "  <thead>\n",
       "    <tr style=\"text-align: right;\">\n",
       "      <th></th>\n",
       "      <th>ContractTime</th>\n",
       "    </tr>\n",
       "  </thead>\n",
       "  <tbody>\n",
       "    <tr>\n",
       "      <th>0</th>\n",
       "      <td>permanent</td>\n",
       "    </tr>\n",
       "    <tr>\n",
       "      <th>1</th>\n",
       "      <td>permanent</td>\n",
       "    </tr>\n",
       "    <tr>\n",
       "      <th>2</th>\n",
       "      <td>permanent</td>\n",
       "    </tr>\n",
       "    <tr>\n",
       "      <th>3</th>\n",
       "      <td>permanent</td>\n",
       "    </tr>\n",
       "    <tr>\n",
       "      <th>4</th>\n",
       "      <td>permanent</td>\n",
       "    </tr>\n",
       "  </tbody>\n",
       "</table>\n",
       "</div>"
      ],
      "text/plain": [
       "  ContractTime\n",
       "0    permanent\n",
       "1    permanent\n",
       "2    permanent\n",
       "3    permanent\n",
       "4    permanent"
      ]
     },
     "execution_count": 54,
     "metadata": {},
     "output_type": "execute_result"
    }
   ],
   "source": [
    "df_ContractTime.info()\n",
    "df_ContractTime.head()"
   ]
  },
  {
   "cell_type": "code",
   "execution_count": 55,
   "id": "db65d993",
   "metadata": {},
   "outputs": [
    {
     "data": {
      "text/plain": [
       "ContractTime    0\n",
       "dtype: int64"
      ]
     },
     "execution_count": 55,
     "metadata": {},
     "output_type": "execute_result"
    }
   ],
   "source": [
    "missing = df_ContractTime.isnull().sum()\n",
    "missing"
   ]
  },
  {
   "cell_type": "code",
   "execution_count": 56,
   "id": "3272199a",
   "metadata": {},
   "outputs": [
    {
     "data": {
      "text/plain": [
       "ContractTime    0.0\n",
       "dtype: float64"
      ]
     },
     "execution_count": 56,
     "metadata": {},
     "output_type": "execute_result"
    }
   ],
   "source": [
    "# Data missing in percent.\n",
    "percentMissing = (missing / len(df_ContractTime.index)) * 100\n",
    "percentMissing"
   ]
  },
  {
   "cell_type": "code",
   "execution_count": 57,
   "id": "f27e3d49",
   "metadata": {},
   "outputs": [],
   "source": [
    "df_ContractTime['ContractTime'] = df_ContractTime['ContractTime'].astype('category').cat.codes"
   ]
  },
  {
   "cell_type": "code",
   "execution_count": 58,
   "id": "96a26425",
   "metadata": {},
   "outputs": [
    {
     "name": "stdout",
     "output_type": "stream",
     "text": [
      "<class 'pandas.core.frame.DataFrame'>\n",
      "Int64Index: 180863 entries, 0 to 244767\n",
      "Data columns (total 1 columns):\n",
      " #   Column        Non-Null Count   Dtype\n",
      "---  ------        --------------   -----\n",
      " 0   ContractTime  180863 non-null  int8 \n",
      "dtypes: int8(1)\n",
      "memory usage: 1.6 MB\n"
     ]
    },
    {
     "data": {
      "text/html": [
       "<div>\n",
       "<style scoped>\n",
       "    .dataframe tbody tr th:only-of-type {\n",
       "        vertical-align: middle;\n",
       "    }\n",
       "\n",
       "    .dataframe tbody tr th {\n",
       "        vertical-align: top;\n",
       "    }\n",
       "\n",
       "    .dataframe thead th {\n",
       "        text-align: right;\n",
       "    }\n",
       "</style>\n",
       "<table border=\"1\" class=\"dataframe\">\n",
       "  <thead>\n",
       "    <tr style=\"text-align: right;\">\n",
       "      <th></th>\n",
       "      <th>ContractTime</th>\n",
       "    </tr>\n",
       "  </thead>\n",
       "  <tbody>\n",
       "    <tr>\n",
       "      <th>0</th>\n",
       "      <td>1</td>\n",
       "    </tr>\n",
       "    <tr>\n",
       "      <th>1</th>\n",
       "      <td>1</td>\n",
       "    </tr>\n",
       "    <tr>\n",
       "      <th>2</th>\n",
       "      <td>1</td>\n",
       "    </tr>\n",
       "    <tr>\n",
       "      <th>3</th>\n",
       "      <td>1</td>\n",
       "    </tr>\n",
       "    <tr>\n",
       "      <th>4</th>\n",
       "      <td>1</td>\n",
       "    </tr>\n",
       "  </tbody>\n",
       "</table>\n",
       "</div>"
      ],
      "text/plain": [
       "   ContractTime\n",
       "0             1\n",
       "1             1\n",
       "2             1\n",
       "3             1\n",
       "4             1"
      ]
     },
     "execution_count": 58,
     "metadata": {},
     "output_type": "execute_result"
    }
   ],
   "source": [
    "df_ContractTime.info()\n",
    "df_ContractTime.head()"
   ]
  },
  {
   "cell_type": "code",
   "execution_count": 59,
   "id": "7ff055fe",
   "metadata": {},
   "outputs": [
    {
     "data": {
      "text/plain": [
       "1    151521\n",
       "0     29342\n",
       "Name: ContractTime, dtype: int64"
      ]
     },
     "execution_count": 59,
     "metadata": {},
     "output_type": "execute_result"
    }
   ],
   "source": [
    "df_ContractTime.ContractTime.value_counts()"
   ]
  },
  {
   "cell_type": "markdown",
   "id": "80f5575d",
   "metadata": {},
   "source": [
    "---"
   ]
  },
  {
   "cell_type": "markdown",
   "id": "90c45964",
   "metadata": {},
   "source": [
    "## 03.8 - Pré-Processando a coluna (feature) \"Company\"\n",
    "> O nome do empregador conforme fornecido pelo anunciante do emprego."
   ]
  },
  {
   "cell_type": "markdown",
   "id": "4b8e1d99",
   "metadata": {},
   "source": [
    "### Preparando e colocando o tipo de dado mais adequado na *coluna (feature)* \"Company\":"
   ]
  },
  {
   "cell_type": "code",
   "execution_count": 60,
   "id": "c00f355f",
   "metadata": {
    "scrolled": true
   },
   "outputs": [
    {
     "name": "stdout",
     "output_type": "stream",
     "text": [
      "<class 'pandas.core.frame.DataFrame'>\n",
      "RangeIndex: 244768 entries, 0 to 244767\n",
      "Data columns (total 1 columns):\n",
      " #   Column   Non-Null Count   Dtype \n",
      "---  ------   --------------   ----- \n",
      " 0   Company  212338 non-null  string\n",
      "dtypes: string(1)\n",
      "memory usage: 1.9 MB\n"
     ]
    },
    {
     "data": {
      "text/html": [
       "<div>\n",
       "<style scoped>\n",
       "    .dataframe tbody tr th:only-of-type {\n",
       "        vertical-align: middle;\n",
       "    }\n",
       "\n",
       "    .dataframe tbody tr th {\n",
       "        vertical-align: top;\n",
       "    }\n",
       "\n",
       "    .dataframe thead th {\n",
       "        text-align: right;\n",
       "    }\n",
       "</style>\n",
       "<table border=\"1\" class=\"dataframe\">\n",
       "  <thead>\n",
       "    <tr style=\"text-align: right;\">\n",
       "      <th></th>\n",
       "      <th>Company</th>\n",
       "    </tr>\n",
       "  </thead>\n",
       "  <tbody>\n",
       "    <tr>\n",
       "      <th>0</th>\n",
       "      <td>Gregory Martin International</td>\n",
       "    </tr>\n",
       "    <tr>\n",
       "      <th>1</th>\n",
       "      <td>Gregory Martin International</td>\n",
       "    </tr>\n",
       "    <tr>\n",
       "      <th>2</th>\n",
       "      <td>Gregory Martin International</td>\n",
       "    </tr>\n",
       "    <tr>\n",
       "      <th>3</th>\n",
       "      <td>Gregory Martin International</td>\n",
       "    </tr>\n",
       "    <tr>\n",
       "      <th>4</th>\n",
       "      <td>Gregory Martin International</td>\n",
       "    </tr>\n",
       "    <tr>\n",
       "      <th>5</th>\n",
       "      <td>Gregory Martin International</td>\n",
       "    </tr>\n",
       "    <tr>\n",
       "      <th>6</th>\n",
       "      <td>Indigo 21 Ltd</td>\n",
       "    </tr>\n",
       "    <tr>\n",
       "      <th>7</th>\n",
       "      <td>Code Blue Recruitment</td>\n",
       "    </tr>\n",
       "    <tr>\n",
       "      <th>8</th>\n",
       "      <td>Code Blue Recruitment</td>\n",
       "    </tr>\n",
       "    <tr>\n",
       "      <th>9</th>\n",
       "      <td>Indigo 21 Ltd</td>\n",
       "    </tr>\n",
       "    <tr>\n",
       "      <th>10</th>\n",
       "      <td>Brite Recruitment</td>\n",
       "    </tr>\n",
       "    <tr>\n",
       "      <th>11</th>\n",
       "      <td>MatchBox Recruiting Ltd</td>\n",
       "    </tr>\n",
       "    <tr>\n",
       "      <th>12</th>\n",
       "      <td>Gregory Martin International</td>\n",
       "    </tr>\n",
       "    <tr>\n",
       "      <th>13</th>\n",
       "      <td>Gregory Martin International</td>\n",
       "    </tr>\n",
       "    <tr>\n",
       "      <th>14</th>\n",
       "      <td>Chef Results</td>\n",
       "    </tr>\n",
       "    <tr>\n",
       "      <th>15</th>\n",
       "      <td>Asset Appointments</td>\n",
       "    </tr>\n",
       "    <tr>\n",
       "      <th>16</th>\n",
       "      <td>Indigo 21 Ltd</td>\n",
       "    </tr>\n",
       "    <tr>\n",
       "      <th>17</th>\n",
       "      <td>Chef Results</td>\n",
       "    </tr>\n",
       "    <tr>\n",
       "      <th>18</th>\n",
       "      <td>Gregory Martin International</td>\n",
       "    </tr>\n",
       "    <tr>\n",
       "      <th>19</th>\n",
       "      <td>Rullion Engineering Ltd</td>\n",
       "    </tr>\n",
       "    <tr>\n",
       "      <th>20</th>\n",
       "      <td>Gregory Martin International</td>\n",
       "    </tr>\n",
       "    <tr>\n",
       "      <th>21</th>\n",
       "      <td>Towngate Personnel</td>\n",
       "    </tr>\n",
       "    <tr>\n",
       "      <th>22</th>\n",
       "      <td>Gregory Martin International</td>\n",
       "    </tr>\n",
       "    <tr>\n",
       "      <th>23</th>\n",
       "      <td>Gregory Martin International</td>\n",
       "    </tr>\n",
       "    <tr>\n",
       "      <th>24</th>\n",
       "      <td>Gregory Martin International</td>\n",
       "    </tr>\n",
       "    <tr>\n",
       "      <th>25</th>\n",
       "      <td>Clear Selection</td>\n",
       "    </tr>\n",
       "    <tr>\n",
       "      <th>26</th>\n",
       "      <td>Gregory Martin International</td>\n",
       "    </tr>\n",
       "    <tr>\n",
       "      <th>27</th>\n",
       "      <td>Clear Selection</td>\n",
       "    </tr>\n",
       "    <tr>\n",
       "      <th>28</th>\n",
       "      <td>Clear Selection</td>\n",
       "    </tr>\n",
       "    <tr>\n",
       "      <th>29</th>\n",
       "      <td>Bee Recruitment London Ltd</td>\n",
       "    </tr>\n",
       "    <tr>\n",
       "      <th>30</th>\n",
       "      <td>Chess Partnership</td>\n",
       "    </tr>\n",
       "    <tr>\n",
       "      <th>31</th>\n",
       "      <td>Indigo 21 Ltd</td>\n",
       "    </tr>\n",
       "    <tr>\n",
       "      <th>32</th>\n",
       "      <td>Indigo 21 Ltd</td>\n",
       "    </tr>\n",
       "    <tr>\n",
       "      <th>33</th>\n",
       "      <td>Indigo 21 Ltd</td>\n",
       "    </tr>\n",
       "    <tr>\n",
       "      <th>34</th>\n",
       "      <td>Asset Appointments</td>\n",
       "    </tr>\n",
       "    <tr>\n",
       "      <th>35</th>\n",
       "      <td>Clear Selection</td>\n",
       "    </tr>\n",
       "    <tr>\n",
       "      <th>36</th>\n",
       "      <td>Clear Selection</td>\n",
       "    </tr>\n",
       "    <tr>\n",
       "      <th>37</th>\n",
       "      <td>Clear Selection</td>\n",
       "    </tr>\n",
       "    <tr>\n",
       "      <th>38</th>\n",
       "      <td>Indigo 21 Ltd</td>\n",
       "    </tr>\n",
       "    <tr>\n",
       "      <th>39</th>\n",
       "      <td>Rullion Engineering Ltd</td>\n",
       "    </tr>\n",
       "    <tr>\n",
       "      <th>40</th>\n",
       "      <td>Brite Recruitment</td>\n",
       "    </tr>\n",
       "    <tr>\n",
       "      <th>41</th>\n",
       "      <td>Brite Recruitment</td>\n",
       "    </tr>\n",
       "    <tr>\n",
       "      <th>42</th>\n",
       "      <td>Rullion Engineering Ltd</td>\n",
       "    </tr>\n",
       "    <tr>\n",
       "      <th>43</th>\n",
       "      <td>Brite Recruitment</td>\n",
       "    </tr>\n",
       "    <tr>\n",
       "      <th>44</th>\n",
       "      <td>Hertsmere Leisure</td>\n",
       "    </tr>\n",
       "    <tr>\n",
       "      <th>45</th>\n",
       "      <td>Kirklees Active Leisure</td>\n",
       "    </tr>\n",
       "    <tr>\n",
       "      <th>46</th>\n",
       "      <td>Kirklees Active Leisure</td>\n",
       "    </tr>\n",
       "    <tr>\n",
       "      <th>47</th>\n",
       "      <td>Brunning &amp; Price</td>\n",
       "    </tr>\n",
       "    <tr>\n",
       "      <th>48</th>\n",
       "      <td>Brunning &amp; Price</td>\n",
       "    </tr>\n",
       "    <tr>\n",
       "      <th>49</th>\n",
       "      <td>Brunning &amp; Price</td>\n",
       "    </tr>\n",
       "  </tbody>\n",
       "</table>\n",
       "</div>"
      ],
      "text/plain": [
       "                         Company\n",
       "0   Gregory Martin International\n",
       "1   Gregory Martin International\n",
       "2   Gregory Martin International\n",
       "3   Gregory Martin International\n",
       "4   Gregory Martin International\n",
       "5   Gregory Martin International\n",
       "6                  Indigo 21 Ltd\n",
       "7          Code Blue Recruitment\n",
       "8          Code Blue Recruitment\n",
       "9                  Indigo 21 Ltd\n",
       "10             Brite Recruitment\n",
       "11       MatchBox Recruiting Ltd\n",
       "12  Gregory Martin International\n",
       "13  Gregory Martin International\n",
       "14                  Chef Results\n",
       "15            Asset Appointments\n",
       "16                 Indigo 21 Ltd\n",
       "17                  Chef Results\n",
       "18  Gregory Martin International\n",
       "19       Rullion Engineering Ltd\n",
       "20  Gregory Martin International\n",
       "21            Towngate Personnel\n",
       "22  Gregory Martin International\n",
       "23  Gregory Martin International\n",
       "24  Gregory Martin International\n",
       "25               Clear Selection\n",
       "26  Gregory Martin International\n",
       "27               Clear Selection\n",
       "28               Clear Selection\n",
       "29    Bee Recruitment London Ltd\n",
       "30             Chess Partnership\n",
       "31                 Indigo 21 Ltd\n",
       "32                 Indigo 21 Ltd\n",
       "33                 Indigo 21 Ltd\n",
       "34            Asset Appointments\n",
       "35               Clear Selection\n",
       "36               Clear Selection\n",
       "37               Clear Selection\n",
       "38                 Indigo 21 Ltd\n",
       "39       Rullion Engineering Ltd\n",
       "40             Brite Recruitment\n",
       "41             Brite Recruitment\n",
       "42       Rullion Engineering Ltd\n",
       "43             Brite Recruitment\n",
       "44             Hertsmere Leisure\n",
       "45       Kirklees Active Leisure\n",
       "46       Kirklees Active Leisure\n",
       "47              Brunning & Price\n",
       "48              Brunning & Price\n",
       "49              Brunning & Price"
      ]
     },
     "execution_count": 60,
     "metadata": {},
     "output_type": "execute_result"
    }
   ],
   "source": [
    "df_Company = full_df[[\"Company\"]]\n",
    "df_Company = df_Company.astype({'Company': 'string'})\n",
    "df_Company.info()\n",
    "df_Company.head(50)"
   ]
  },
  {
   "cell_type": "markdown",
   "id": "90c1f956",
   "metadata": {},
   "source": [
    "### Verificando quanto porcento (%) dos dados são ausentes (missing):"
   ]
  },
  {
   "cell_type": "code",
   "execution_count": 61,
   "id": "58a213b5",
   "metadata": {},
   "outputs": [
    {
     "data": {
      "text/plain": [
       "Company    32430\n",
       "dtype: int64"
      ]
     },
     "execution_count": 61,
     "metadata": {},
     "output_type": "execute_result"
    }
   ],
   "source": [
    "# Data missing sum.\n",
    "missing = df_Company.isnull().sum()\n",
    "missing"
   ]
  },
  {
   "cell_type": "code",
   "execution_count": 62,
   "id": "381dc8a4",
   "metadata": {},
   "outputs": [
    {
     "data": {
      "text/plain": [
       "Company    13.249281\n",
       "dtype: float64"
      ]
     },
     "execution_count": 62,
     "metadata": {},
     "output_type": "execute_result"
    }
   ],
   "source": [
    "# Data missing in percent.\n",
    "percentMissing = (missing / len(df_title.index)) * 100\n",
    "percentMissing"
   ]
  },
  {
   "cell_type": "markdown",
   "id": "76722701",
   "metadata": {},
   "source": [
    "**NOTE:**  \n",
    "Essa coluna (feature) **company** tem os mesmos aspectos da **\"ContractTime\"**. Mas na minha opinião não vale muito a trabalhar com ela para colocar como uma das entradas do modelo."
   ]
  },
  {
   "cell_type": "markdown",
   "id": "fd68540d",
   "metadata": {},
   "source": [
    "---"
   ]
  },
  {
   "cell_type": "markdown",
   "id": "fba57891",
   "metadata": {},
   "source": [
    "## 03.9 - Pré-Processando a coluna (feature) \"Category\"\n",
    "> Em qual das 30 categorias de empregos padrão este anúncio se encaixa, inferida de uma forma muito confusa com base na origem de onde o anúncio veio.\n",
    "\n",
    "**NOTE:**  \n",
    "Sabemos que há muito ruído e erro neste campo."
   ]
  },
  {
   "cell_type": "markdown",
   "id": "0226ba66",
   "metadata": {},
   "source": [
    "### Preparando e colocando o tipo de dado mais adequado na *coluna (feature)* \"Category\":"
   ]
  },
  {
   "cell_type": "code",
   "execution_count": 63,
   "id": "52c30fc4",
   "metadata": {
    "scrolled": true
   },
   "outputs": [
    {
     "name": "stdout",
     "output_type": "stream",
     "text": [
      "<class 'pandas.core.frame.DataFrame'>\n",
      "RangeIndex: 244768 entries, 0 to 244767\n",
      "Data columns (total 1 columns):\n",
      " #   Column    Non-Null Count   Dtype \n",
      "---  ------    --------------   ----- \n",
      " 0   Category  244768 non-null  string\n",
      "dtypes: string(1)\n",
      "memory usage: 1.9 MB\n"
     ]
    },
    {
     "data": {
      "text/html": [
       "<div>\n",
       "<style scoped>\n",
       "    .dataframe tbody tr th:only-of-type {\n",
       "        vertical-align: middle;\n",
       "    }\n",
       "\n",
       "    .dataframe tbody tr th {\n",
       "        vertical-align: top;\n",
       "    }\n",
       "\n",
       "    .dataframe thead th {\n",
       "        text-align: right;\n",
       "    }\n",
       "</style>\n",
       "<table border=\"1\" class=\"dataframe\">\n",
       "  <thead>\n",
       "    <tr style=\"text-align: right;\">\n",
       "      <th></th>\n",
       "      <th>Category</th>\n",
       "    </tr>\n",
       "  </thead>\n",
       "  <tbody>\n",
       "    <tr>\n",
       "      <th>0</th>\n",
       "      <td>Engineering Jobs</td>\n",
       "    </tr>\n",
       "    <tr>\n",
       "      <th>1</th>\n",
       "      <td>Engineering Jobs</td>\n",
       "    </tr>\n",
       "    <tr>\n",
       "      <th>2</th>\n",
       "      <td>Engineering Jobs</td>\n",
       "    </tr>\n",
       "    <tr>\n",
       "      <th>3</th>\n",
       "      <td>Engineering Jobs</td>\n",
       "    </tr>\n",
       "    <tr>\n",
       "      <th>4</th>\n",
       "      <td>Engineering Jobs</td>\n",
       "    </tr>\n",
       "  </tbody>\n",
       "</table>\n",
       "</div>"
      ],
      "text/plain": [
       "           Category\n",
       "0  Engineering Jobs\n",
       "1  Engineering Jobs\n",
       "2  Engineering Jobs\n",
       "3  Engineering Jobs\n",
       "4  Engineering Jobs"
      ]
     },
     "execution_count": 63,
     "metadata": {},
     "output_type": "execute_result"
    }
   ],
   "source": [
    "df_Category = full_df[[\"Category\"]]\n",
    "df_Category = df_Category.astype({'Category': 'string'})\n",
    "df_Category.info()\n",
    "df_Category.head()"
   ]
  },
  {
   "cell_type": "markdown",
   "id": "f3534ac5",
   "metadata": {},
   "source": [
    "### Verificando quanto porcento (%) dos dados são ausentes (missing):"
   ]
  },
  {
   "cell_type": "code",
   "execution_count": 64,
   "id": "46e62120",
   "metadata": {},
   "outputs": [
    {
     "data": {
      "text/plain": [
       "Category    0\n",
       "dtype: int64"
      ]
     },
     "execution_count": 64,
     "metadata": {},
     "output_type": "execute_result"
    }
   ],
   "source": [
    "# Data missing sum.\n",
    "missing = df_Category.isnull().sum()\n",
    "missing"
   ]
  },
  {
   "cell_type": "code",
   "execution_count": 65,
   "id": "3cc4adfb",
   "metadata": {},
   "outputs": [
    {
     "data": {
      "text/plain": [
       "Category    0.0\n",
       "dtype: float64"
      ]
     },
     "execution_count": 65,
     "metadata": {},
     "output_type": "execute_result"
    }
   ],
   "source": [
    "# Data missing in percent.\n",
    "percentMissing = (missing / len(df_Category.index)) * 100\n",
    "percentMissing"
   ]
  },
  {
   "cell_type": "markdown",
   "id": "31a9ed38",
   "metadata": {},
   "source": [
    "---"
   ]
  },
  {
   "cell_type": "markdown",
   "id": "e43169d4",
   "metadata": {},
   "source": [
    "## 03.10 - Pré-Processando a coluna (feature) \"SalaryRaw\"\n",
    "Imagine que essa coluna representa o salário do anúncio (amostra). Porém:\n",
    " - Sem formatação;\n",
    " - Com bonus;\n",
    " - Remuneração:\n",
    "   - Por hora;\n",
    "   - Por mês;\n",
    "   - Por ano.\n",
    "\n",
    "**NOTE:**  \n",
    "Como nós já temos uma variável com o mesmo significado desta, porém, normalizada pelo a **Adzuna** eu vou optar por não trabalhar com essa."
   ]
  },
  {
   "cell_type": "markdown",
   "id": "238aceaf",
   "metadata": {},
   "source": [
    "---"
   ]
  },
  {
   "cell_type": "markdown",
   "id": "17c4d771",
   "metadata": {},
   "source": [
    "## 03.11 - Pré-Processando a coluna (feature) \"SalaryNormalized\"\n",
    "Tem o mesmo significado da coluna **\"SalaryRaw\"**, porém a *Adzuna* normalizou os dados para ser representado de forma **anualizado**."
   ]
  },
  {
   "cell_type": "markdown",
   "id": "7aba8a8a",
   "metadata": {},
   "source": [
    "### Preparando e colocando o tipo de dado mais adequado na *coluna (feature)* \"SalaryNormalized\":"
   ]
  },
  {
   "cell_type": "code",
   "execution_count": 66,
   "id": "cbf0ae5a",
   "metadata": {
    "scrolled": true
   },
   "outputs": [
    {
     "name": "stdout",
     "output_type": "stream",
     "text": [
      "<class 'pandas.core.frame.DataFrame'>\n",
      "RangeIndex: 244768 entries, 0 to 244767\n",
      "Data columns (total 1 columns):\n",
      " #   Column            Non-Null Count   Dtype  \n",
      "---  ------            --------------   -----  \n",
      " 0   SalaryNormalized  244768 non-null  float64\n",
      "dtypes: float64(1)\n",
      "memory usage: 1.9 MB\n"
     ]
    },
    {
     "data": {
      "text/html": [
       "<div>\n",
       "<style scoped>\n",
       "    .dataframe tbody tr th:only-of-type {\n",
       "        vertical-align: middle;\n",
       "    }\n",
       "\n",
       "    .dataframe tbody tr th {\n",
       "        vertical-align: top;\n",
       "    }\n",
       "\n",
       "    .dataframe thead th {\n",
       "        text-align: right;\n",
       "    }\n",
       "</style>\n",
       "<table border=\"1\" class=\"dataframe\">\n",
       "  <thead>\n",
       "    <tr style=\"text-align: right;\">\n",
       "      <th></th>\n",
       "      <th>SalaryNormalized</th>\n",
       "    </tr>\n",
       "  </thead>\n",
       "  <tbody>\n",
       "    <tr>\n",
       "      <th>0</th>\n",
       "      <td>25000.0</td>\n",
       "    </tr>\n",
       "    <tr>\n",
       "      <th>1</th>\n",
       "      <td>30000.0</td>\n",
       "    </tr>\n",
       "    <tr>\n",
       "      <th>2</th>\n",
       "      <td>30000.0</td>\n",
       "    </tr>\n",
       "    <tr>\n",
       "      <th>3</th>\n",
       "      <td>27500.0</td>\n",
       "    </tr>\n",
       "    <tr>\n",
       "      <th>4</th>\n",
       "      <td>25000.0</td>\n",
       "    </tr>\n",
       "  </tbody>\n",
       "</table>\n",
       "</div>"
      ],
      "text/plain": [
       "   SalaryNormalized\n",
       "0           25000.0\n",
       "1           30000.0\n",
       "2           30000.0\n",
       "3           27500.0\n",
       "4           25000.0"
      ]
     },
     "execution_count": 66,
     "metadata": {},
     "output_type": "execute_result"
    }
   ],
   "source": [
    "df_SalaryNormalized = full_df[[\"SalaryNormalized\"]]\n",
    "df_SalaryNormalized = df_SalaryNormalized.astype({'SalaryNormalized': 'float64'})\n",
    "df_SalaryNormalized.info()\n",
    "df_SalaryNormalized.head()"
   ]
  },
  {
   "cell_type": "markdown",
   "id": "c5b2bf88",
   "metadata": {},
   "source": [
    "### Verificando quanto porcento (%) dos dados são ausentes (missing):"
   ]
  },
  {
   "cell_type": "code",
   "execution_count": 67,
   "id": "1782b6fb",
   "metadata": {},
   "outputs": [
    {
     "data": {
      "text/plain": [
       "SalaryNormalized    0\n",
       "dtype: int64"
      ]
     },
     "execution_count": 67,
     "metadata": {},
     "output_type": "execute_result"
    }
   ],
   "source": [
    "# Data missing sum.\n",
    "missing = df_SalaryNormalized.isnull().sum()\n",
    "missing"
   ]
  },
  {
   "cell_type": "code",
   "execution_count": 68,
   "id": "a01767f2",
   "metadata": {},
   "outputs": [
    {
     "data": {
      "text/plain": [
       "SalaryNormalized    0.0\n",
       "dtype: float64"
      ]
     },
     "execution_count": 68,
     "metadata": {},
     "output_type": "execute_result"
    }
   ],
   "source": [
    "# Data missing in percent.\n",
    "percentMissing = (missing / len(df_SalaryNormalized.index)) * 100\n",
    "percentMissing"
   ]
  },
  {
   "cell_type": "markdown",
   "id": "eaebc1cd",
   "metadata": {},
   "source": [
    "---"
   ]
  },
  {
   "cell_type": "markdown",
   "id": "95cee2a8",
   "metadata": {},
   "source": [
    "## 03.12 - Pré-Processando a coluna (feature) \"SourceName\"\n",
    "> O nome do site ou anunciante de quem recebemos o anúncio de emprego."
   ]
  },
  {
   "cell_type": "markdown",
   "id": "b0c555d9",
   "metadata": {},
   "source": [
    "### Preparando e colocando o tipo de dado mais adequado na *coluna (feature)* \"SourceName\":"
   ]
  },
  {
   "cell_type": "code",
   "execution_count": 69,
   "id": "dc50d4c5",
   "metadata": {
    "scrolled": true
   },
   "outputs": [
    {
     "name": "stdout",
     "output_type": "stream",
     "text": [
      "<class 'pandas.core.frame.DataFrame'>\n",
      "RangeIndex: 244768 entries, 0 to 244767\n",
      "Data columns (total 1 columns):\n",
      " #   Column      Non-Null Count   Dtype \n",
      "---  ------      --------------   ----- \n",
      " 0   SourceName  244767 non-null  string\n",
      "dtypes: string(1)\n",
      "memory usage: 1.9 MB\n"
     ]
    },
    {
     "data": {
      "text/html": [
       "<div>\n",
       "<style scoped>\n",
       "    .dataframe tbody tr th:only-of-type {\n",
       "        vertical-align: middle;\n",
       "    }\n",
       "\n",
       "    .dataframe tbody tr th {\n",
       "        vertical-align: top;\n",
       "    }\n",
       "\n",
       "    .dataframe thead th {\n",
       "        text-align: right;\n",
       "    }\n",
       "</style>\n",
       "<table border=\"1\" class=\"dataframe\">\n",
       "  <thead>\n",
       "    <tr style=\"text-align: right;\">\n",
       "      <th></th>\n",
       "      <th>SourceName</th>\n",
       "    </tr>\n",
       "  </thead>\n",
       "  <tbody>\n",
       "    <tr>\n",
       "      <th>0</th>\n",
       "      <td>cv-library.co.uk</td>\n",
       "    </tr>\n",
       "    <tr>\n",
       "      <th>1</th>\n",
       "      <td>cv-library.co.uk</td>\n",
       "    </tr>\n",
       "    <tr>\n",
       "      <th>2</th>\n",
       "      <td>cv-library.co.uk</td>\n",
       "    </tr>\n",
       "    <tr>\n",
       "      <th>3</th>\n",
       "      <td>cv-library.co.uk</td>\n",
       "    </tr>\n",
       "    <tr>\n",
       "      <th>4</th>\n",
       "      <td>cv-library.co.uk</td>\n",
       "    </tr>\n",
       "  </tbody>\n",
       "</table>\n",
       "</div>"
      ],
      "text/plain": [
       "         SourceName\n",
       "0  cv-library.co.uk\n",
       "1  cv-library.co.uk\n",
       "2  cv-library.co.uk\n",
       "3  cv-library.co.uk\n",
       "4  cv-library.co.uk"
      ]
     },
     "execution_count": 69,
     "metadata": {},
     "output_type": "execute_result"
    }
   ],
   "source": [
    "df_SourceName = full_df[[\"SourceName\"]]\n",
    "df_SourceName = df_SourceName.astype({'SourceName': 'string'})\n",
    "df_SourceName.info()\n",
    "df_SourceName.head()"
   ]
  },
  {
   "cell_type": "markdown",
   "id": "0582f9a5",
   "metadata": {},
   "source": [
    "### Verificando quanto porcento (%) dos dados são ausentes (missing):"
   ]
  },
  {
   "cell_type": "code",
   "execution_count": 70,
   "id": "b6f448c8",
   "metadata": {},
   "outputs": [
    {
     "data": {
      "text/plain": [
       "SourceName    1\n",
       "dtype: int64"
      ]
     },
     "execution_count": 70,
     "metadata": {},
     "output_type": "execute_result"
    }
   ],
   "source": [
    "# Data missing sum.\n",
    "missing = df_SourceName.isnull().sum()\n",
    "missing"
   ]
  },
  {
   "cell_type": "code",
   "execution_count": 71,
   "id": "de50d9a2",
   "metadata": {
    "scrolled": true
   },
   "outputs": [
    {
     "data": {
      "text/plain": [
       "SourceName    0.000409\n",
       "dtype: float64"
      ]
     },
     "execution_count": 71,
     "metadata": {},
     "output_type": "execute_result"
    }
   ],
   "source": [
    "# Data missing in percent.\n",
    "percentMissing = (missing / len(df_SourceName.index)) * 100\n",
    "percentMissing"
   ]
  },
  {
   "cell_type": "markdown",
   "id": "c9117e43",
   "metadata": {},
   "source": [
    "---"
   ]
  },
  {
   "cell_type": "markdown",
   "id": "7328484e",
   "metadata": {},
   "source": [
    "# PARTE 2 - Machine Learning\n",
    "Agora que nós já aplicamos um **Pré-Processamento** (mesmo que básico) nas colunas (features), vamos iniciar a étapa de modelagem. Ou seja, vamos iniciar o processo de Machine Learning.\n",
    "\n",
    "> Para a minha modelagem vou focar na coluna (feature) **\"FullDescription\"**.\n",
    "\n",
    "Como a nossa métrica avaliação é o [Erro Médio Absoluto](https://en.wikipedia.org/wiki/Mean_absolute_error) vamos focar em algoritmos de regressão."
   ]
  },
  {
   "cell_type": "markdown",
   "id": "c7943bf4",
   "metadata": {},
   "source": [
    "**Inicialmente, a primeira coisa que vamos fazer é pegar o conjunto de dados de teste:**"
   ]
  },
  {
   "cell_type": "code",
   "execution_count": 72,
   "id": "db42a848",
   "metadata": {},
   "outputs": [],
   "source": [
    "with py7zr.SevenZipFile(\"../datasets/Test_rev1.7z\", mode='r') as archive:\n",
    "  archive.extractall(path=\"/tmp\") # For Linux users."
   ]
  },
  {
   "cell_type": "code",
   "execution_count": 73,
   "id": "0fec4984",
   "metadata": {},
   "outputs": [],
   "source": [
    "testing_df = pd.read_csv(\"/tmp/Test_rev1.csv\")"
   ]
  },
  {
   "cell_type": "code",
   "execution_count": 74,
   "id": "991c1cd5",
   "metadata": {},
   "outputs": [
    {
     "name": "stdout",
     "output_type": "stream",
     "text": [
      "<class 'pandas.core.frame.DataFrame'>\n",
      "RangeIndex: 122463 entries, 0 to 122462\n",
      "Data columns (total 10 columns):\n",
      " #   Column              Non-Null Count   Dtype \n",
      "---  ------              --------------   ----- \n",
      " 0   Id                  122463 non-null  int64 \n",
      " 1   Title               122463 non-null  object\n",
      " 2   FullDescription     122463 non-null  object\n",
      " 3   LocationRaw         122463 non-null  object\n",
      " 4   LocationNormalized  122463 non-null  object\n",
      " 5   ContractType        33013 non-null   object\n",
      " 6   ContractTime        90702 non-null   object\n",
      " 7   Company             106202 non-null  object\n",
      " 8   Category            122463 non-null  object\n",
      " 9   SourceName          122463 non-null  object\n",
      "dtypes: int64(1), object(9)\n",
      "memory usage: 9.3+ MB\n"
     ]
    },
    {
     "data": {
      "text/html": [
       "<div>\n",
       "<style scoped>\n",
       "    .dataframe tbody tr th:only-of-type {\n",
       "        vertical-align: middle;\n",
       "    }\n",
       "\n",
       "    .dataframe tbody tr th {\n",
       "        vertical-align: top;\n",
       "    }\n",
       "\n",
       "    .dataframe thead th {\n",
       "        text-align: right;\n",
       "    }\n",
       "</style>\n",
       "<table border=\"1\" class=\"dataframe\">\n",
       "  <thead>\n",
       "    <tr style=\"text-align: right;\">\n",
       "      <th></th>\n",
       "      <th>Id</th>\n",
       "      <th>Title</th>\n",
       "      <th>FullDescription</th>\n",
       "      <th>LocationRaw</th>\n",
       "      <th>LocationNormalized</th>\n",
       "      <th>ContractType</th>\n",
       "      <th>ContractTime</th>\n",
       "      <th>Company</th>\n",
       "      <th>Category</th>\n",
       "      <th>SourceName</th>\n",
       "    </tr>\n",
       "  </thead>\n",
       "  <tbody>\n",
       "    <tr>\n",
       "      <th>0</th>\n",
       "      <td>11888454</td>\n",
       "      <td>Business Development Manager</td>\n",
       "      <td>The Company: Our client is a national training provider based in Gateshead, delivering learning programmes across many regions of England. Founded in **** they have developed a firm foundation that underpins their core offer to employers and individuals that is we work with you to fully understand your training and development needs . Their expertise enables them to deliver a range of learning programmes from NVQ certificates and diplomas to short courses that are designed to upskill individuals, including English and maths. They contract with the Skills Funding Agency to provide Workplace and Classroom based learning programmes, Apprenticeships and courses for individuals who are currently seeking employment or alternative employment. The Role:  Our client is looking for an exceptional business development person who could hit the ground running and have a possible client base to bring with them.  Selling to businesses local and nationally NVQ and apprenticeship opportunities in Business Admin, Customer Service, Health and Social Care, Plant and Construction, as well as commercial. The Individual:  Extremely motivated.  Excellent organisation skills.  Excellent knowledge of the delivering NVQ s and Apprenticeships. Additional: Mobile phone Laptop 20 days holiday and **** public holidays ****p per mile allowance **** per month car allowance Excellent bonus structure</td>\n",
       "      <td>Tyne Wear, North East</td>\n",
       "      <td>Newcastle Upon Tyne</td>\n",
       "      <td>NaN</td>\n",
       "      <td>permanent</td>\n",
       "      <td>Asset Appointments</td>\n",
       "      <td>Teaching Jobs</td>\n",
       "      <td>cv-library.co.uk</td>\n",
       "    </tr>\n",
       "    <tr>\n",
       "      <th>1</th>\n",
       "      <td>11988350</td>\n",
       "      <td>Internal Account Manager</td>\n",
       "      <td>The Company: Founded in **** our client is a UK market leader in the provision of ondemand collaboration software. The solution is a means of improving the project management process, providing a comprehensive toolset for online collaboration, document control, information management  and much more. Our client now operates throughout the world, in many diverse markets, with a client list that is the envy of all in the industry. The Role: Our client is seeking to recruit an Internal Account Manager to make a significant contribution to the continued growth and success of the company through the development of new business relationships in the UK construction sector. Joining the established Internal Sales Team you will be responsible for monitoring construction market trends, setting up appointments for the sales team and manage the diary accordingly. You will be required to contact current and potential clients by telephone and book appointments for the Key Account Managers to attend. You will have relationships with all members of the Account Management, Marketing, Development and Technical Support teams; plus current and potential clients. Main Duties: Contact existing and potential clients, contractors and consultants by telephone on a daily basis. Work with Key Account Management team to target all Glennigan other project specific leads and strategically develop new business accounts Manage sales development campaigns Conduct suitable research of markets, clients, competing products and competitor organisations. Build up a database of suitable leads and potential new business contacts. Establish new business relationships through contact via telephone, email and direct mail to both cold and warm leads. Ensure that targets for establishing initial contact with sales leads are met. Set up appointments for the sales team and manage the diary accordingly. Liaise with the field sales team to provide information on leads generated. Respond to customer service telephone calls and emails as required. Resolve, or provide advice on how to resolve, customer queries. Request and respond to relevant information from the client to generate new business opportunities. Send out product information to clients. Assist with the development of robust and accurate proposal and contract documentation as required. Undertake additional duties as requested by the Internal Sales Team Manager. The Individual: You will have an excellent understanding of the construction sector and an appreciation of the challenges that construction clients/contractors face when delivering new projects through an external supply chain. You will be proactive and confident with a strong professional image, sound understanding of technology and the role it plays in the Construction sector. You will have: A proven track record of selling into the construction sector at an enterprise, regional and project level. Understanding of the construction sector and the role that collaboration plays. Strong understanding of the individual roles played by clients, contractor and consultant organisations with specific bias toward client organisations. Understanding of the full construction project lifecycle (RIBA). Excellent IT skills. Organised and methodical approach to work. Target driven</td>\n",
       "      <td>Tyne and Wear, North East</td>\n",
       "      <td>Newcastle Upon Tyne</td>\n",
       "      <td>NaN</td>\n",
       "      <td>permanent</td>\n",
       "      <td>Asset Appointments</td>\n",
       "      <td>Consultancy Jobs</td>\n",
       "      <td>cv-library.co.uk</td>\n",
       "    </tr>\n",
       "    <tr>\n",
       "      <th>2</th>\n",
       "      <td>12612558</td>\n",
       "      <td>Engineering Systems Analysts</td>\n",
       "      <td>Engineering Systems Analysts Surrey ****K Located in Surrey, our client is highly respected for providing specialist software development the modelling of water industry asset deterioration and asset failure consequences, including the uploading of these models onto our industryleading optimal asset management software PIONEER the modelling and optimisation of the operation of water networks using our MISER water management optimsiation software. An understanding of networks and optimisation principles would be useful. An Engineering or Science degree with strong maths, stats and good IT skills are needed, ideally with some knowledge or experience of the water industry or similar utility. Salary range ****  **** plus benefits. Engineering Systems Analysts Surrey ****K</td>\n",
       "      <td>Surrey, South East, South East</td>\n",
       "      <td>Surrey</td>\n",
       "      <td>NaN</td>\n",
       "      <td>permanent</td>\n",
       "      <td>Gregory Martin International</td>\n",
       "      <td>Engineering Jobs</td>\n",
       "      <td>cv-library.co.uk</td>\n",
       "    </tr>\n",
       "    <tr>\n",
       "      <th>3</th>\n",
       "      <td>12613014</td>\n",
       "      <td>CIS Systems Engineering Consultant</td>\n",
       "      <td>CIS Systems Engineering Consultant Bristol  South West Salary ****  **** Our client is looking for an experienced CIS Systems Engineering Consultant . As CIS Systems Engineering Consultant you would work on a range of projects for MOD, other government departments and the defence industry, particularly in the areas of: systems analysis, design, architecture definition, development, interoperability and through life management. The role will involve liaison with clients to define requirements and assumptions and provide advice on a range of Enterprise Architecture, Systems Engineering and SOSA issues. You will be required to apply systems engineering principles, such as definition and clarification of requirements, collation of data/information, and use of appropriate tools for data capture, analysis and presentation. You ll also be responsible for: Successfully delivering consultancy assignments, either individually or as part of a team Supporting the development of bids and responses to tenders Supporting the development of thought leadership material Requirements for CIS Systems Engineering Consultant Degree qualified in an Engineering/Mathematical or Scientific Discipline or have equivalent experience. A relevant higher degree and/or professional qualification, e.g. CEng, would be an advantage. Practical development of enterprise architectures and SOSA  identifying business processes, requirements, capabilities, development of asis and tobe reference architectures. Application of model driven engineering approaches to address stakeholder concerns, requirements and needs. Experience of the Systems Engineering lifecycle. Experience of Systems Engineering modelling tools and languages such as UML, Sisal, Somali, Modal, MOOD. Experience of abstraction and service based approaches to architecture. Experience of developing Information architectures. Excellent interpersonal skills capable of engaging across a wide range of stakeholders. Effective written and verbal communication skills, including excellent presentation and reportwriting skills. Flexible approach to work, able to work well alone and as part of a team. Desirable: Familiarity with MoD CADMID process for equipment procurement. Previous consultancy experience associated with military communications and information systems (CIS, ICT, NEC)  this may include a relevant MSc, PhD and/or work experience. Familiar with Object Oriented Design, Open systems and interfaces. Security  All candidates must be in a position to obtain UK security clearance CIS Systems Engineering Consultant Bristol  South West Salary ****  ****</td>\n",
       "      <td>Bristol, South West, South West</td>\n",
       "      <td>Bristol</td>\n",
       "      <td>NaN</td>\n",
       "      <td>permanent</td>\n",
       "      <td>Gregory Martin International</td>\n",
       "      <td>Engineering Jobs</td>\n",
       "      <td>cv-library.co.uk</td>\n",
       "    </tr>\n",
       "    <tr>\n",
       "      <th>4</th>\n",
       "      <td>22454872</td>\n",
       "      <td>CNC Miller / Programmer Fanac</td>\n",
       "      <td>CNC Miller / Programmer Fanac Fleet, Hampshire Salary: ****K Experienced CNC Miller / Programmer, ideally experienced with Fanac Controls CNC Miller / Programmer Fanac Fleet, Hampshire Salary: ****K</td>\n",
       "      <td>Fleet, Hampshire</td>\n",
       "      <td>Fleet</td>\n",
       "      <td>NaN</td>\n",
       "      <td>permanent</td>\n",
       "      <td>Gregory Martin International</td>\n",
       "      <td>Manufacturing Jobs</td>\n",
       "      <td>cv-library.co.uk</td>\n",
       "    </tr>\n",
       "  </tbody>\n",
       "</table>\n",
       "</div>"
      ],
      "text/plain": [
       "         Id                               Title  \\\n",
       "0  11888454        Business Development Manager   \n",
       "1  11988350            Internal Account Manager   \n",
       "2  12612558        Engineering Systems Analysts   \n",
       "3  12613014  CIS Systems Engineering Consultant   \n",
       "4  22454872       CNC Miller / Programmer Fanac   \n",
       "\n",
       "                                                                                                                                                                                                                                                                                                                                                                                                                                                                                                                                                                                                                                                                                                                                                                                                                                                                                                                                                                                                                                                                                                                                                                                                                                                                                                                                                                                                                                                                                                                                                                                                                                                                                                                                                                                                                                                                                                                                                                                                                                                                                                                                                                                                                                                                                                                                                                                                                                                                                                                                                                                                                                                                                                                                                                                                                                                                                                                                                                                                                                                                                                                                                                                                                                                                                                                                                                                                                FullDescription  \\\n",
       "0                                                                                                                                                                                                                                                                                                                                                                                                                                                                                                                                                                                                                                                                                                                                                                                                                                                                                                                                                                                                                                                                                                                                                                                                                                                                                                                                                                                                                                                                                                                                                                                                                                                                                                                                                                                                                                                                                                                                                                                  The Company: Our client is a national training provider based in Gateshead, delivering learning programmes across many regions of England. Founded in **** they have developed a firm foundation that underpins their core offer to employers and individuals that is we work with you to fully understand your training and development needs . Their expertise enables them to deliver a range of learning programmes from NVQ certificates and diplomas to short courses that are designed to upskill individuals, including English and maths. They contract with the Skills Funding Agency to provide Workplace and Classroom based learning programmes, Apprenticeships and courses for individuals who are currently seeking employment or alternative employment. The Role:  Our client is looking for an exceptional business development person who could hit the ground running and have a possible client base to bring with them.  Selling to businesses local and nationally NVQ and apprenticeship opportunities in Business Admin, Customer Service, Health and Social Care, Plant and Construction, as well as commercial. The Individual:  Extremely motivated.  Excellent organisation skills.  Excellent knowledge of the delivering NVQ s and Apprenticeships. Additional: Mobile phone Laptop 20 days holiday and **** public holidays ****p per mile allowance **** per month car allowance Excellent bonus structure   \n",
       "1  The Company: Founded in **** our client is a UK market leader in the provision of ondemand collaboration software. The solution is a means of improving the project management process, providing a comprehensive toolset for online collaboration, document control, information management  and much more. Our client now operates throughout the world, in many diverse markets, with a client list that is the envy of all in the industry. The Role: Our client is seeking to recruit an Internal Account Manager to make a significant contribution to the continued growth and success of the company through the development of new business relationships in the UK construction sector. Joining the established Internal Sales Team you will be responsible for monitoring construction market trends, setting up appointments for the sales team and manage the diary accordingly. You will be required to contact current and potential clients by telephone and book appointments for the Key Account Managers to attend. You will have relationships with all members of the Account Management, Marketing, Development and Technical Support teams; plus current and potential clients. Main Duties: Contact existing and potential clients, contractors and consultants by telephone on a daily basis. Work with Key Account Management team to target all Glennigan other project specific leads and strategically develop new business accounts Manage sales development campaigns Conduct suitable research of markets, clients, competing products and competitor organisations. Build up a database of suitable leads and potential new business contacts. Establish new business relationships through contact via telephone, email and direct mail to both cold and warm leads. Ensure that targets for establishing initial contact with sales leads are met. Set up appointments for the sales team and manage the diary accordingly. Liaise with the field sales team to provide information on leads generated. Respond to customer service telephone calls and emails as required. Resolve, or provide advice on how to resolve, customer queries. Request and respond to relevant information from the client to generate new business opportunities. Send out product information to clients. Assist with the development of robust and accurate proposal and contract documentation as required. Undertake additional duties as requested by the Internal Sales Team Manager. The Individual: You will have an excellent understanding of the construction sector and an appreciation of the challenges that construction clients/contractors face when delivering new projects through an external supply chain. You will be proactive and confident with a strong professional image, sound understanding of technology and the role it plays in the Construction sector. You will have: A proven track record of selling into the construction sector at an enterprise, regional and project level. Understanding of the construction sector and the role that collaboration plays. Strong understanding of the individual roles played by clients, contractor and consultant organisations with specific bias toward client organisations. Understanding of the full construction project lifecycle (RIBA). Excellent IT skills. Organised and methodical approach to work. Target driven   \n",
       "2                                                                                                                                                                                                                                                                                                                                                                                                                                                                                                                                                                                                                                                                                                                                                                                                                                                                                                                                                                                                                                                                                                                                                                                                                                                                                                                                                                                                                                                                                                                                                                                                                                                                                                                                                                                                                                                                                                                                                                                                                                                                                                                                                                                                                                                                                                                                                                                                                                                                                                                                                                                                                    Engineering Systems Analysts Surrey ****K Located in Surrey, our client is highly respected for providing specialist software development the modelling of water industry asset deterioration and asset failure consequences, including the uploading of these models onto our industryleading optimal asset management software PIONEER the modelling and optimisation of the operation of water networks using our MISER water management optimsiation software. An understanding of networks and optimisation principles would be useful. An Engineering or Science degree with strong maths, stats and good IT skills are needed, ideally with some knowledge or experience of the water industry or similar utility. Salary range ****  **** plus benefits. Engineering Systems Analysts Surrey ****K   \n",
       "3                                                                                                                                                                                                                                                                                                                                                                                                                                                                                                                                                                                                                                                                                                     CIS Systems Engineering Consultant Bristol  South West Salary ****  **** Our client is looking for an experienced CIS Systems Engineering Consultant . As CIS Systems Engineering Consultant you would work on a range of projects for MOD, other government departments and the defence industry, particularly in the areas of: systems analysis, design, architecture definition, development, interoperability and through life management. The role will involve liaison with clients to define requirements and assumptions and provide advice on a range of Enterprise Architecture, Systems Engineering and SOSA issues. You will be required to apply systems engineering principles, such as definition and clarification of requirements, collation of data/information, and use of appropriate tools for data capture, analysis and presentation. You ll also be responsible for: Successfully delivering consultancy assignments, either individually or as part of a team Supporting the development of bids and responses to tenders Supporting the development of thought leadership material Requirements for CIS Systems Engineering Consultant Degree qualified in an Engineering/Mathematical or Scientific Discipline or have equivalent experience. A relevant higher degree and/or professional qualification, e.g. CEng, would be an advantage. Practical development of enterprise architectures and SOSA  identifying business processes, requirements, capabilities, development of asis and tobe reference architectures. Application of model driven engineering approaches to address stakeholder concerns, requirements and needs. Experience of the Systems Engineering lifecycle. Experience of Systems Engineering modelling tools and languages such as UML, Sisal, Somali, Modal, MOOD. Experience of abstraction and service based approaches to architecture. Experience of developing Information architectures. Excellent interpersonal skills capable of engaging across a wide range of stakeholders. Effective written and verbal communication skills, including excellent presentation and reportwriting skills. Flexible approach to work, able to work well alone and as part of a team. Desirable: Familiarity with MoD CADMID process for equipment procurement. Previous consultancy experience associated with military communications and information systems (CIS, ICT, NEC)  this may include a relevant MSc, PhD and/or work experience. Familiar with Object Oriented Design, Open systems and interfaces. Security  All candidates must be in a position to obtain UK security clearance CIS Systems Engineering Consultant Bristol  South West Salary ****  ****   \n",
       "4                                                                                                                                                                                                                                                                                                                                                                                                                                                                                                                                                                                                                                                                                                                                                                                                                                                                                                                                                                                                                                                                                                                                                                                                                                                                                                                                                                                                                                                                                                                                                                                                                                                                                                                                                                                                                                                                                                                                                                                                                                                                                                                                                                                                                                                                                                                                                                                                                                                                                                                                                                                                                                                                                                                                                                                                                                                                                                                                                                                                                                                                                                                                                                                                                        CNC Miller / Programmer Fanac Fleet, Hampshire Salary: ****K Experienced CNC Miller / Programmer, ideally experienced with Fanac Controls CNC Miller / Programmer Fanac Fleet, Hampshire Salary: ****K   \n",
       "\n",
       "                       LocationRaw   LocationNormalized ContractType  \\\n",
       "0            Tyne Wear, North East  Newcastle Upon Tyne          NaN   \n",
       "1        Tyne and Wear, North East  Newcastle Upon Tyne          NaN   \n",
       "2   Surrey, South East, South East               Surrey          NaN   \n",
       "3  Bristol, South West, South West              Bristol          NaN   \n",
       "4                 Fleet, Hampshire                Fleet          NaN   \n",
       "\n",
       "  ContractTime                       Company            Category  \\\n",
       "0    permanent            Asset Appointments       Teaching Jobs   \n",
       "1    permanent            Asset Appointments    Consultancy Jobs   \n",
       "2    permanent  Gregory Martin International    Engineering Jobs   \n",
       "3    permanent  Gregory Martin International    Engineering Jobs   \n",
       "4    permanent  Gregory Martin International  Manufacturing Jobs   \n",
       "\n",
       "         SourceName  \n",
       "0  cv-library.co.uk  \n",
       "1  cv-library.co.uk  \n",
       "2  cv-library.co.uk  \n",
       "3  cv-library.co.uk  \n",
       "4  cv-library.co.uk  "
      ]
     },
     "execution_count": 74,
     "metadata": {},
     "output_type": "execute_result"
    }
   ],
   "source": [
    "testing_df.info()\n",
    "testing_df.head()"
   ]
  },
  {
   "cell_type": "markdown",
   "id": "ff5e19b8",
   "metadata": {},
   "source": [
    "**Agora vamos importar os módulos de regressão para treinar nosso modelo:**"
   ]
  },
  {
   "cell_type": "code",
   "execution_count": 82,
   "id": "9648e6b0",
   "metadata": {},
   "outputs": [],
   "source": [
    "# Regression models\n",
    "from sklearn.ensemble import RandomForestRegressor\n",
    "from sklearn.linear_model import LinearRegression\n",
    "from sklearn.linear_model import Ridge\n",
    "from sklearn.linear_model import Lasso\n",
    "\n",
    "# MAE metric.\n",
    "from sklearn.metrics import mean_absolute_error"
   ]
  },
  {
   "cell_type": "markdown",
   "id": "00638744",
   "metadata": {},
   "source": [
    "**Por fim, vamos treinar e verificar qual dos modelos vai nos dar a melhor métrica - Erro Médio Absoluto (MAE)**"
   ]
  },
  {
   "cell_type": "markdown",
   "id": "a250421f",
   "metadata": {},
   "source": [
    "**Regressão Linear:**"
   ]
  },
  {
   "cell_type": "code",
   "execution_count": 84,
   "id": "10274e74",
   "metadata": {},
   "outputs": [],
   "source": [
    "lrModel = LinearRegression() # Instance."
   ]
  },
  {
   "cell_type": "code",
   "execution_count": 85,
   "id": "9c2cbcb1",
   "metadata": {},
   "outputs": [
    {
     "data": {
      "text/plain": [
       "LinearRegression()"
      ]
     },
     "execution_count": 85,
     "metadata": {},
     "output_type": "execute_result"
    }
   ],
   "source": [
    "# Training.\n",
    "lrModel.fit(df_FullDescription_vectorized, full_df['SalaryNormalized'])"
   ]
  },
  {
   "cell_type": "code",
   "execution_count": 92,
   "id": "886993d3",
   "metadata": {},
   "outputs": [
    {
     "data": {
      "text/plain": [
       "['lr_model.pkl']"
      ]
     },
     "execution_count": 92,
     "metadata": {},
     "output_type": "execute_result"
    }
   ],
   "source": [
    "# Saving model.\n",
    "import joblib\n",
    "joblib.dump(lrModel, 'lr_model.pkl')\n",
    "# lrModel = joblib.load('lr_model.pkl') # to load."
   ]
  },
  {
   "cell_type": "code",
   "execution_count": null,
   "id": "63a88467",
   "metadata": {},
   "outputs": [],
   "source": [
    "# Predictions | testing_df['FullDescription'] = x_test\n",
    "salary_predicted_ln = lrModel.predict(testing_df)"
   ]
  },
  {
   "cell_type": "code",
   "execution_count": null,
   "id": "2106a002",
   "metadata": {},
   "outputs": [],
   "source": [
    "# Metric | testing_df['SalaryNormalized'] = y_test, salary_predicted = y_predicted\n",
    "mae_ln = mean_absolute_error(testing_df['SalaryNormalized'], salary_predicted)\n",
    "mae_ln"
   ]
  },
  {
   "cell_type": "markdown",
   "id": "25f6ac40",
   "metadata": {},
   "source": [
    "**Ridge Regression:**"
   ]
  },
  {
   "cell_type": "code",
   "execution_count": null,
   "id": "14395527",
   "metadata": {},
   "outputs": [],
   "source": [
    "ridgeModel = Ridge(alpha=1.0) # Instance."
   ]
  },
  {
   "cell_type": "code",
   "execution_count": null,
   "id": "ed364e3b",
   "metadata": {},
   "outputs": [],
   "source": [
    "# Training.\n",
    "ridgeModel.fit(df_FullDescription_vectorized, full_df['SalaryNormalized'])"
   ]
  },
  {
   "cell_type": "code",
   "execution_count": null,
   "id": "8ef29489",
   "metadata": {},
   "outputs": [],
   "source": [
    "# Save the model.\n",
    "from pycaret.regression import *\n",
    "save_model(ridgeModel, 'ridge_model')"
   ]
  },
  {
   "cell_type": "code",
   "execution_count": null,
   "id": "bf313cf0",
   "metadata": {},
   "outputs": [],
   "source": [
    "# Predictions | testing_df['FullDescription'] = x_test\n",
    "salary_predicted_ridge = ridgeModel.predict(testing_df['FullDescription'])"
   ]
  },
  {
   "cell_type": "code",
   "execution_count": null,
   "id": "84bed475",
   "metadata": {},
   "outputs": [],
   "source": [
    "# Metric | testing_df['SalaryNormalized'] = y_test, salary_predicted_ridge = y_predicted\n",
    "mae_ridge = mean_absolute_error(testing_df['SalaryNormalized'], salary_predicted_ridge)\n",
    "mae_ridge"
   ]
  },
  {
   "cell_type": "markdown",
   "id": "81b0092b",
   "metadata": {},
   "source": [
    "**Lasso Regression:**"
   ]
  },
  {
   "cell_type": "code",
   "execution_count": null,
   "id": "0dd3229d",
   "metadata": {},
   "outputs": [],
   "source": [
    "lassoModel = Lasso(alpha=10, max_iter=1000, tol=0.1) # Instance."
   ]
  },
  {
   "cell_type": "code",
   "execution_count": null,
   "id": "08e1642f",
   "metadata": {},
   "outputs": [],
   "source": [
    "# Training.\n",
    "lassoModel.fit(df_FullDescription_vectorized, full_df['SalaryNormalized'])"
   ]
  },
  {
   "cell_type": "code",
   "execution_count": null,
   "id": "b7f851c4",
   "metadata": {},
   "outputs": [],
   "source": [
    "# Save the model.\n",
    "from pycaret.regression import *\n",
    "save_model(lassoModel, 'lasso_model')"
   ]
  },
  {
   "cell_type": "code",
   "execution_count": null,
   "id": "88af6728",
   "metadata": {},
   "outputs": [],
   "source": [
    "# Predictions | testing_df['FullDescription'] = x_test\n",
    "salary_predicted_lasso = lassoModel.predict(testing_df['FullDescription'])"
   ]
  },
  {
   "cell_type": "code",
   "execution_count": null,
   "id": "494ddca1",
   "metadata": {},
   "outputs": [],
   "source": [
    "# Metric | testing_df['SalaryNormalized'] = y_test, salary_predicted_lasso = y_predicted\n",
    "mae_lasso = mean_absolute_error(testing_df['SalaryNormalized'], salary_predicted_lasso)\n",
    "mae_lasso"
   ]
  },
  {
   "cell_type": "markdown",
   "id": "93093bfc",
   "metadata": {},
   "source": [
    "**Random Forest Regressor:**"
   ]
  },
  {
   "cell_type": "code",
   "execution_count": null,
   "id": "52a8d9bd",
   "metadata": {},
   "outputs": [],
   "source": [
    "randomforestregressoModel = RandomForestRegressor(n_jobs=-1) # Instance."
   ]
  },
  {
   "cell_type": "code",
   "execution_count": null,
   "id": "638b93e7",
   "metadata": {},
   "outputs": [],
   "source": [
    "# Training\n",
    "randomforestregressoModel.fit(df_FullDescription_vectorized, full_df['SalaryNormalized'])"
   ]
  },
  {
   "cell_type": "code",
   "execution_count": null,
   "id": "8e732af2",
   "metadata": {},
   "outputs": [],
   "source": [
    "# Save the model.\n",
    "from pycaret.regression import *\n",
    "save_model(randomforestregressoModel, 'randomforestregressoModel_model')"
   ]
  },
  {
   "cell_type": "code",
   "execution_count": null,
   "id": "3c16998b",
   "metadata": {},
   "outputs": [],
   "source": [
    "# Predictions | testing_df['FullDescription'] = x_test\n",
    "salary_predicted_randomforestregressoModel = randomforestregressoModel.predict(testing_df['FullDescription'])"
   ]
  },
  {
   "cell_type": "code",
   "execution_count": null,
   "id": "e643d6ee",
   "metadata": {},
   "outputs": [],
   "source": [
    "# Metric | testing_df['SalaryNormalized'] = y_test, salary_predicted_randomforestregressoModel = y_predicted\n",
    "mae_lasso = mean_absolute_error(testing_df['SalaryNormalized'], salary_predicted_randomforestregressoModel)\n",
    "mae_lasso"
   ]
  }
 ],
 "metadata": {
  "kernelspec": {
   "display_name": "Python 3 (ipykernel)",
   "language": "python",
   "name": "python3"
  },
  "language_info": {
   "codemirror_mode": {
    "name": "ipython",
    "version": 3
   },
   "file_extension": ".py",
   "mimetype": "text/x-python",
   "name": "python",
   "nbconvert_exporter": "python",
   "pygments_lexer": "ipython3",
   "version": "3.9.7"
  }
 },
 "nbformat": 4,
 "nbformat_minor": 5
}
