{
 "cells": [
  {
   "cell_type": "markdown",
   "id": "d5f27968",
   "metadata": {},
   "source": [
    "# Pré-Processamento\n",
    "Esse **Jupyter Notebook** tem como objetivo aplicar um **Pré-Processamento** no conjunto de dados (ou em parte dele)."
   ]
  },
  {
   "cell_type": "markdown",
   "id": "2d5c407c",
   "metadata": {},
   "source": [
    "# Resumo da Análise preliminar\n",
    "Na etapa anterior foi feita uma breve análise do conjunto de dados. O **resumo** dessa análise foi o seguinte:\n",
    "\n",
    " - Temos um grande conjunto de dados para trabalharmos:\n",
    "   - Com 244.768 amostras e 12 colunas (atributos/campos/features).\n",
    " - Porém, vai ser necessário um Pré-Processamento na maior parte das colunas, devido o fato das colunas serem representadas por textos (informações).\n",
    " - Algumas colunas estão com muitos dados faltantes, principalmente a **ContractType** que tem **73%** dos dados faltantes.\n",
    " - Estatísticas da variável (feature) **\"SalaryNormalized\"**:\n",
    "   - O menor salário de todos (anualmente) foi de 5.000;\n",
    "   - O maior salário de todos (anualmente) foi de 200.000;\n",
    "   - A média (mean) de todos os salários (anualmente) foi de 34.122;\n",
    "   - A mediana (median/2° Quartil = 50% dos dados) de todos os salários (anualmente) foi de 30.000:\n",
    "     - Vejam que a nossa mediana não está tão distante da nossa média.\n",
    "   - A moda (salário mais frequente) foi 35.000 com 9.178 amostras;\n",
    "   - O TOP 10 salários mais frequentes foram os seguintes:\n",
    "     - 35.000 com 9.178 amostras;\n",
    "     - 30.000 com 8.319 amostras;\n",
    "     - 40.000 com 7.688 amostras;\n",
    "     - 45.000 com 6.735 amostras;\n",
    "     - 25.000 com 6.309 amostras;\n",
    "     - 32.500 com 6.215 amostras;\n",
    "     - 37.500 com 5.756 amostras;\n",
    "     - 27.500 com 5.544 amostras;\n",
    "     - 50.000 com 5.424 amostras;\n",
    "     - 42.500 com 4.555 amostras.\n",
    "   - O Desvio Padrão (Standard Deviation/ que representa quão longe nós estamos da média) é 17.640."
   ]
  },
  {
   "cell_type": "markdown",
   "id": "f4fb6821",
   "metadata": {},
   "source": [
    "# Classe \"Preprocessing\"\n",
    "Um dos requisitos da **GRIA** para o desafio era que os códigos fossem *reaproveitados* e *documentados*. Isso para evitar códigos duplicados e reaproveitamento de códigos em trabalhos futuros."
   ]
  },
  {
   "cell_type": "code",
   "execution_count": 1,
   "id": "4c50c4a3",
   "metadata": {},
   "outputs": [],
   "source": [
    "import pandas as pd\n",
    "import scipy.sparse\n",
    "import platform\n",
    "import datetime\n",
    "import py7zr\n",
    "import nltk\n",
    "import os\n",
    "\n",
    "from collections import Counter\n",
    "from datetime import datetime\n",
    "\n",
    "from sklearn.feature_extraction.text import TfidfVectorizer\n",
    "\n",
    "from nltk.stem.porter import PorterStemmer\n",
    "from nltk.stem import WordNetLemmatizer\n",
    "from nltk.corpus import wordnet\n",
    "\n",
    "\n",
    "class Preprocessing:\n",
    "\n",
    "  def extract_7z_data(self, path):\n",
    "    start_time = datetime.now()\n",
    "    if platform.system() == 'Windows':\n",
    "      try:\n",
    "        # For Windows users.\n",
    "        with py7zr.SevenZipFile(path, mode='r') as archive:\n",
    "          archive.extractall(path=\"C:\\Windows\\Temp\")\n",
    "      except FileNotFoundError:\n",
    "        print(\"File or path not!\")\n",
    "      else:\n",
    "        print(\"File extracted!\")\n",
    "    elif platform.system() == 'Linux':\n",
    "      try:\n",
    "        # For Linux users.\n",
    "        with py7zr.SevenZipFile(path, mode='r') as archive:\n",
    "          archive.extractall(path=\"/tmp\")\n",
    "      except FileNotFoundError:\n",
    "        print(\"File or path not!\")\n",
    "      else:\n",
    "        print(\"File extracted!\")\n",
    "    else:\n",
    "      print(\"This method only works with Windows and Linux Operating Systems.\")\n",
    "    end_time = datetime.now()\n",
    "    print('Method runtime: {}'.format(end_time - start_time))\n",
    "\n",
    "\n",
    "  def get_training_data(self):\n",
    "    start_time = datetime.now()\n",
    "    if platform.system() == 'Windows':\n",
    "      try:\n",
    "        # For Windows users.\n",
    "        df_training = pd.read_csv(\"C:\\Windows\\Temp\\Train_rev1.csv\")\n",
    "      except FileNotFoundError:\n",
    "        print(\"File or path not!\")\n",
    "      else:\n",
    "        print(\"Training data ready!\")\n",
    "        end_time = datetime.now()\n",
    "        print('Method runtime: {}'.format(end_time - start_time))\n",
    "        return df_training\n",
    "    elif platform.system() == 'Linux':\n",
    "      try:\n",
    "        # For Linux users.\n",
    "        df_training = pd.read_csv(\"/tmp/Train_rev1.csv\")\n",
    "      except FileNotFoundError:\n",
    "        print(\"File or path not!\")\n",
    "      else:\n",
    "        print(\"Training data ready!\")\n",
    "        end_time = datetime.now()\n",
    "        print('Method runtime: {}'.format(end_time - start_time))\n",
    "        return df_training\n",
    "\n",
    "\n",
    "  def get_testing_data(self):\n",
    "    start_time = datetime.now()\n",
    "    if platform.system() == 'Windows':\n",
    "      try:\n",
    "        # For Windows users.\n",
    "        df_testing = pd.read_csv(\"C:\\Windows\\Temp\\Test_rev1.csv\")\n",
    "      except FileNotFoundError:\n",
    "        print(\"File or path not!\")\n",
    "      else:\n",
    "        print(\"Testing data ready!\")\n",
    "        end_time = datetime.now()\n",
    "        print('Method runtime: {}'.format(end_time - start_time))\n",
    "        return df_testing\n",
    "    elif platform.system() == 'Linux':\n",
    "      try:\n",
    "        # For Linux users.\n",
    "        df_testing = pd.read_csv(\"/tmp/Test_rev1.7z\")\n",
    "      except FileNotFoundError:\n",
    "        print(\"File or path not!\")\n",
    "      else:\n",
    "        print(\"Testing data ready!\")\n",
    "        end_time = datetime.now()\n",
    "        print('Method runtime: {}'.format(end_time - start_time))\n",
    "        return df_testing\n",
    "\n",
    "\n",
    "  def missing_by_numbers(self, df):\n",
    "    missing = df.isnull().sum()\n",
    "    return missing\n",
    "\n",
    "\n",
    "  def missing_by_percent(self, df):\n",
    "    try:\n",
    "      percentMissing = (df.isnull().sum() / len(df.index)) * 100\n",
    "    except ZeroDivisionError:\n",
    "      print(\"Sorry! You are dividing by zero.\")\n",
    "    else:\n",
    "      return percentMissing\n",
    "\n",
    "\n",
    "  def apply_lower_casing(self, df):\n",
    "    df = df.str.lower()\n",
    "    return df\n",
    "\n",
    "\n",
    "  def remove_punctuations(self, df):\n",
    "    df = df.str.replace('[^\\w\\s]',' ', regex=True)\n",
    "    return df\n",
    "\n",
    "\n",
    "  def remove_numbers(self, df):\n",
    "    df = df.str.replace('[0-9]+', '', regex=True)\n",
    "    return df\n",
    "\n",
    "\n",
    "  def apply_stemming(self, df):\n",
    "    start_time = datetime.now()\n",
    "    stemmer = PorterStemmer() # Instance.\n",
    "    return \" \".join([stemmer.stem(word) for word in str(df).split() ])\n",
    "\n",
    "\n",
    "  def apply_lemmatization(self, df):\n",
    "    try:\n",
    "      lemmatizer = WordNetLemmatizer()\n",
    "      wordnet_map = {\"N\":wordnet.NOUN, \"V\":wordnet.VERB, \"J\":wordnet.ADJ, \"R\":wordnet.ADV} # Apply dict mapping.\n",
    "      pos_tagged_text = nltk.pos_tag(df.split())\n",
    "      return \" \".join([lemmatizer.lemmatize(word, wordnet_map.get(pos[0], wordnet.NOUN)) for word, pos in pos_tagged_text])\n",
    "      print(\"Lemmatization concluded!\")\n",
    "    except (LookupError, OSError):\n",
    "      nltk.download('wordnet')\n",
    "      nltk.download('omw-1.4')\n",
    "      nltk.download('averaged_perceptron_tagger')\n",
    "    finally:\n",
    "      lemmatizer = WordNetLemmatizer()\n",
    "      wordnet_map = {\"N\":wordnet.NOUN, \"V\":wordnet.VERB, \"J\":wordnet.ADJ, \"R\":wordnet.ADV} # Apply dict mapping.\n",
    "      pos_tagged_text = nltk.pos_tag(df.split())\n",
    "      return \" \".join([lemmatizer.lemmatize(word, wordnet_map.get(pos[0], wordnet.NOUN)) for word, pos in pos_tagged_text])\n",
    "\n",
    "\n",
    "  def check_most_common_words(self, df):\n",
    "    start_time = datetime.now()\n",
    "    cnt_df = Counter() # Instance\n",
    "    for text in df.values:\n",
    "      for word in text.split():\n",
    "        cnt_df[word] += 1\n",
    "    df_most_common = pd.DataFrame(\n",
    "      cnt_df.most_common(),\n",
    "      columns = [\"Word\", \"Frequency\"]\n",
    "    )\n",
    "    end_time = datetime.now()\n",
    "    print('Method runtime: {}'.format(end_time - start_time))\n",
    "    return df_most_common.sort_values(by=[\"Frequency\"], ascending=False)\n",
    "\n",
    "\n",
    "  def apply_tfidf_vectorizer(self, df, max_df=1, min_df=1):\n",
    "    start_time = datetime.now()\n",
    "    vectorizer = TfidfVectorizer(\n",
    "      stop_words=\"english\",\n",
    "      max_df = max_df,\n",
    "      min_df = min_df,\n",
    "    )\n",
    "    df_vectorized = vectorizer.fit_transform(df)\n",
    "    end_time = datetime.now()\n",
    "    print(\"DataFrame Vectorized!\")\n",
    "    print('Method runtime: {}'.format(end_time - start_time))\n",
    "    return df_vectorized\n",
    "\n",
    "\n",
    "  def save_feature(self, feature_name, feature):\n",
    "    scipy.sparse.save_npz(f\"../resources/processed_features/{feature_name}\", feature)\n",
    "    print(\"Feature saved!\")\n",
    "\n",
    "\n",
    "  def save_to_csv(self, df, df_name):\n",
    "    df.to_csv(\n",
    "      path_or_buf=f\"../resources/load/{df_name}.csv\",\n",
    "      header=True,\n",
    "      encoding='utf-8',\n",
    "      index=False,\n",
    "    )\n",
    "    print(\"DataFrame saved!\")\n"
   ]
  },
  {
   "cell_type": "markdown",
   "id": "4905c42c",
   "metadata": {},
   "source": [
    "Agora que nós já temos uma classe responsável por **Pré-Processar** nossos dados vamos criar uma instância para trabalhar com a mesma:"
   ]
  },
  {
   "cell_type": "code",
   "execution_count": 2,
   "id": "2d40e574",
   "metadata": {},
   "outputs": [],
   "source": [
    "# Preprocessing instance.\n",
    "preprocessing = Preprocessing()"
   ]
  },
  {
   "cell_type": "markdown",
   "id": "3d62d9a7",
   "metadata": {},
   "source": [
    "---"
   ]
  },
  {
   "cell_type": "markdown",
   "id": "18914f88",
   "metadata": {},
   "source": [
    "# 01 - Preparando os dados & Ambiente para o Pré-Processamento\n",
    "Nessa etapa vamos preparar os *dados* e o *ambiente (jupyter notebook)* para o nosso **Pré-Processamento**."
   ]
  },
  {
   "cell_type": "markdown",
   "id": "8d2a6624",
   "metadata": {},
   "source": [
    "---"
   ]
  },
  {
   "cell_type": "markdown",
   "id": "bdf030e9",
   "metadata": {},
   "source": [
    "## 01.1 -  Baixando as Bibliotecas necessárias\n",
    "Inicialmente vamos baixar as bibliotecas necessárias para nossa análise (Eu já tenho todas baixadas no meu ambiente virtual, mas você pode remover o comentário e baixar para sua máquina local ou Ambiente Virtual)."
   ]
  },
  {
   "cell_type": "code",
   "execution_count": 3,
   "id": "73ae6fc6",
   "metadata": {
    "scrolled": false
   },
   "outputs": [],
   "source": [
    "#!pip install --upgrade -r ../requirements.txt --user"
   ]
  },
  {
   "cell_type": "markdown",
   "id": "bf4659b3",
   "metadata": {},
   "source": [
    "---"
   ]
  },
  {
   "cell_type": "markdown",
   "id": "c56bb743",
   "metadata": {},
   "source": [
    "## 01.2 - Extraindo o conjunto de dados de treino e teste\n",
    "Agora vamos extrair o conjunto de dados de **treino** e **teste**. Para isso, vamos utilizar o método **extract_7z_data()** da classe **Preprocessing**:"
   ]
  },
  {
   "cell_type": "code",
   "execution_count": 4,
   "id": "7992c6a7",
   "metadata": {},
   "outputs": [
    {
     "name": "stdout",
     "output_type": "stream",
     "text": [
      "File extracted!\n",
      "Method runtime: 0:00:09.909677\n"
     ]
    }
   ],
   "source": [
    "# Extract training set.\n",
    "preprocessing.extract_7z_data(\"../datasets/Train_rev1.7z\")"
   ]
  },
  {
   "cell_type": "code",
   "execution_count": 5,
   "id": "00ede21b",
   "metadata": {},
   "outputs": [
    {
     "name": "stdout",
     "output_type": "stream",
     "text": [
      "File extracted!\n",
      "Method runtime: 0:00:05.012095\n"
     ]
    }
   ],
   "source": [
    "# Extract testing set.\n",
    "preprocessing.extract_7z_data(\"../datasets/Test_rev1.7z\")"
   ]
  },
  {
   "cell_type": "markdown",
   "id": "1ecfedbb",
   "metadata": {},
   "source": [
    "**NOTE:**  \n",
    "Como o conjunto de dados é muito grande resolvi baixar a versão mais comprimida **.7z**. Optei também por descomprimir o conjunto de dados em um local temporário (diretório **/temp** no meu caso que estou utilizando Linux / Como se fosse uma **Staging Area**)."
   ]
  },
  {
   "cell_type": "markdown",
   "id": "39f57007",
   "metadata": {},
   "source": [
    "---"
   ]
  },
  {
   "cell_type": "markdown",
   "id": "c0243092",
   "metadata": {},
   "source": [
    "## 01.3 - Pegando os conjuntos de dados de treino e teste\n",
    "Por fim, vamos pegar os conjuntos de dados de **treino** e **teste** que foram extraídos com o método **extract_7z_data()**:"
   ]
  },
  {
   "cell_type": "code",
   "execution_count": 6,
   "id": "cfabeb6b",
   "metadata": {},
   "outputs": [
    {
     "name": "stdout",
     "output_type": "stream",
     "text": [
      "Training data ready!\n",
      "Method runtime: 0:00:06.855862\n"
     ]
    }
   ],
   "source": [
    "df_train = preprocessing.get_training_data()"
   ]
  },
  {
   "cell_type": "code",
   "execution_count": 7,
   "id": "8b9d591c",
   "metadata": {},
   "outputs": [
    {
     "name": "stdout",
     "output_type": "stream",
     "text": [
      "Testing data ready!\n",
      "Method runtime: 0:00:03.755819\n"
     ]
    }
   ],
   "source": [
    "df_test = preprocessing.get_testing_data()"
   ]
  },
  {
   "cell_type": "markdown",
   "id": "462cfbbe",
   "metadata": {},
   "source": [
    "---"
   ]
  },
  {
   "cell_type": "markdown",
   "id": "0790c756",
   "metadata": {},
   "source": [
    "# 02 - Visão geral (Overview) dos conjuntos de dados\n",
    "Agora vamos dar uma olhada geral nos conjuntos de dados de **treinamento** e **teste** com a função **info()** e **head()** do *Pandas*."
   ]
  },
  {
   "cell_type": "code",
   "execution_count": 8,
   "id": "d4116c0d",
   "metadata": {
    "scrolled": false
   },
   "outputs": [
    {
     "name": "stdout",
     "output_type": "stream",
     "text": [
      "<class 'pandas.core.frame.DataFrame'>\n",
      "RangeIndex: 244768 entries, 0 to 244767\n",
      "Data columns (total 12 columns):\n",
      " #   Column              Non-Null Count   Dtype \n",
      "---  ------              --------------   ----- \n",
      " 0   Id                  244768 non-null  int64 \n",
      " 1   Title               244767 non-null  object\n",
      " 2   FullDescription     244768 non-null  object\n",
      " 3   LocationRaw         244768 non-null  object\n",
      " 4   LocationNormalized  244768 non-null  object\n",
      " 5   ContractType        65442 non-null   object\n",
      " 6   ContractTime        180863 non-null  object\n",
      " 7   Company             212338 non-null  object\n",
      " 8   Category            244768 non-null  object\n",
      " 9   SalaryRaw           244768 non-null  object\n",
      " 10  SalaryNormalized    244768 non-null  int64 \n",
      " 11  SourceName          244767 non-null  object\n",
      "dtypes: int64(2), object(10)\n",
      "memory usage: 22.4+ MB\n"
     ]
    },
    {
     "data": {
      "text/html": [
       "<div>\n",
       "<style scoped>\n",
       "    .dataframe tbody tr th:only-of-type {\n",
       "        vertical-align: middle;\n",
       "    }\n",
       "\n",
       "    .dataframe tbody tr th {\n",
       "        vertical-align: top;\n",
       "    }\n",
       "\n",
       "    .dataframe thead th {\n",
       "        text-align: right;\n",
       "    }\n",
       "</style>\n",
       "<table border=\"1\" class=\"dataframe\">\n",
       "  <thead>\n",
       "    <tr style=\"text-align: right;\">\n",
       "      <th></th>\n",
       "      <th>Id</th>\n",
       "      <th>Title</th>\n",
       "      <th>FullDescription</th>\n",
       "      <th>LocationRaw</th>\n",
       "      <th>LocationNormalized</th>\n",
       "      <th>ContractType</th>\n",
       "      <th>ContractTime</th>\n",
       "      <th>Company</th>\n",
       "      <th>Category</th>\n",
       "      <th>SalaryRaw</th>\n",
       "      <th>SalaryNormalized</th>\n",
       "      <th>SourceName</th>\n",
       "    </tr>\n",
       "  </thead>\n",
       "  <tbody>\n",
       "    <tr>\n",
       "      <th>0</th>\n",
       "      <td>12612628</td>\n",
       "      <td>Engineering Systems Analyst</td>\n",
       "      <td>Engineering Systems Analyst Dorking Surrey Sal...</td>\n",
       "      <td>Dorking, Surrey, Surrey</td>\n",
       "      <td>Dorking</td>\n",
       "      <td>NaN</td>\n",
       "      <td>permanent</td>\n",
       "      <td>Gregory Martin International</td>\n",
       "      <td>Engineering Jobs</td>\n",
       "      <td>20000 - 30000/annum 20-30K</td>\n",
       "      <td>25000</td>\n",
       "      <td>cv-library.co.uk</td>\n",
       "    </tr>\n",
       "    <tr>\n",
       "      <th>1</th>\n",
       "      <td>12612830</td>\n",
       "      <td>Stress Engineer Glasgow</td>\n",
       "      <td>Stress Engineer Glasgow Salary **** to **** We...</td>\n",
       "      <td>Glasgow, Scotland, Scotland</td>\n",
       "      <td>Glasgow</td>\n",
       "      <td>NaN</td>\n",
       "      <td>permanent</td>\n",
       "      <td>Gregory Martin International</td>\n",
       "      <td>Engineering Jobs</td>\n",
       "      <td>25000 - 35000/annum 25-35K</td>\n",
       "      <td>30000</td>\n",
       "      <td>cv-library.co.uk</td>\n",
       "    </tr>\n",
       "    <tr>\n",
       "      <th>2</th>\n",
       "      <td>12612844</td>\n",
       "      <td>Modelling and simulation analyst</td>\n",
       "      <td>Mathematical Modeller / Simulation Analyst / O...</td>\n",
       "      <td>Hampshire, South East, South East</td>\n",
       "      <td>Hampshire</td>\n",
       "      <td>NaN</td>\n",
       "      <td>permanent</td>\n",
       "      <td>Gregory Martin International</td>\n",
       "      <td>Engineering Jobs</td>\n",
       "      <td>20000 - 40000/annum 20-40K</td>\n",
       "      <td>30000</td>\n",
       "      <td>cv-library.co.uk</td>\n",
       "    </tr>\n",
       "    <tr>\n",
       "      <th>3</th>\n",
       "      <td>12613049</td>\n",
       "      <td>Engineering Systems Analyst / Mathematical Mod...</td>\n",
       "      <td>Engineering Systems Analyst / Mathematical Mod...</td>\n",
       "      <td>Surrey, South East, South East</td>\n",
       "      <td>Surrey</td>\n",
       "      <td>NaN</td>\n",
       "      <td>permanent</td>\n",
       "      <td>Gregory Martin International</td>\n",
       "      <td>Engineering Jobs</td>\n",
       "      <td>25000 - 30000/annum 25K-30K negotiable</td>\n",
       "      <td>27500</td>\n",
       "      <td>cv-library.co.uk</td>\n",
       "    </tr>\n",
       "    <tr>\n",
       "      <th>4</th>\n",
       "      <td>12613647</td>\n",
       "      <td>Pioneer, Miser Engineering Systems Analyst</td>\n",
       "      <td>Pioneer, Miser  Engineering Systems Analyst Do...</td>\n",
       "      <td>Surrey, South East, South East</td>\n",
       "      <td>Surrey</td>\n",
       "      <td>NaN</td>\n",
       "      <td>permanent</td>\n",
       "      <td>Gregory Martin International</td>\n",
       "      <td>Engineering Jobs</td>\n",
       "      <td>20000 - 30000/annum 20-30K</td>\n",
       "      <td>25000</td>\n",
       "      <td>cv-library.co.uk</td>\n",
       "    </tr>\n",
       "  </tbody>\n",
       "</table>\n",
       "</div>"
      ],
      "text/plain": [
       "         Id                                              Title  \\\n",
       "0  12612628                        Engineering Systems Analyst   \n",
       "1  12612830                            Stress Engineer Glasgow   \n",
       "2  12612844                   Modelling and simulation analyst   \n",
       "3  12613049  Engineering Systems Analyst / Mathematical Mod...   \n",
       "4  12613647         Pioneer, Miser Engineering Systems Analyst   \n",
       "\n",
       "                                     FullDescription  \\\n",
       "0  Engineering Systems Analyst Dorking Surrey Sal...   \n",
       "1  Stress Engineer Glasgow Salary **** to **** We...   \n",
       "2  Mathematical Modeller / Simulation Analyst / O...   \n",
       "3  Engineering Systems Analyst / Mathematical Mod...   \n",
       "4  Pioneer, Miser  Engineering Systems Analyst Do...   \n",
       "\n",
       "                         LocationRaw LocationNormalized ContractType  \\\n",
       "0            Dorking, Surrey, Surrey            Dorking          NaN   \n",
       "1        Glasgow, Scotland, Scotland            Glasgow          NaN   \n",
       "2  Hampshire, South East, South East          Hampshire          NaN   \n",
       "3     Surrey, South East, South East             Surrey          NaN   \n",
       "4     Surrey, South East, South East             Surrey          NaN   \n",
       "\n",
       "  ContractTime                       Company          Category  \\\n",
       "0    permanent  Gregory Martin International  Engineering Jobs   \n",
       "1    permanent  Gregory Martin International  Engineering Jobs   \n",
       "2    permanent  Gregory Martin International  Engineering Jobs   \n",
       "3    permanent  Gregory Martin International  Engineering Jobs   \n",
       "4    permanent  Gregory Martin International  Engineering Jobs   \n",
       "\n",
       "                                SalaryRaw  SalaryNormalized        SourceName  \n",
       "0              20000 - 30000/annum 20-30K             25000  cv-library.co.uk  \n",
       "1              25000 - 35000/annum 25-35K             30000  cv-library.co.uk  \n",
       "2              20000 - 40000/annum 20-40K             30000  cv-library.co.uk  \n",
       "3  25000 - 30000/annum 25K-30K negotiable             27500  cv-library.co.uk  \n",
       "4              20000 - 30000/annum 20-30K             25000  cv-library.co.uk  "
      ]
     },
     "execution_count": 8,
     "metadata": {},
     "output_type": "execute_result"
    }
   ],
   "source": [
    "df_train.info()\n",
    "df_train.head()"
   ]
  },
  {
   "cell_type": "markdown",
   "id": "5c858128",
   "metadata": {},
   "source": [
    "---"
   ]
  },
  {
   "cell_type": "code",
   "execution_count": 9,
   "id": "d6845e78",
   "metadata": {
    "scrolled": false
   },
   "outputs": [
    {
     "name": "stdout",
     "output_type": "stream",
     "text": [
      "<class 'pandas.core.frame.DataFrame'>\n",
      "RangeIndex: 122463 entries, 0 to 122462\n",
      "Data columns (total 10 columns):\n",
      " #   Column              Non-Null Count   Dtype \n",
      "---  ------              --------------   ----- \n",
      " 0   Id                  122463 non-null  int64 \n",
      " 1   Title               122463 non-null  object\n",
      " 2   FullDescription     122463 non-null  object\n",
      " 3   LocationRaw         122463 non-null  object\n",
      " 4   LocationNormalized  122463 non-null  object\n",
      " 5   ContractType        33013 non-null   object\n",
      " 6   ContractTime        90702 non-null   object\n",
      " 7   Company             106202 non-null  object\n",
      " 8   Category            122463 non-null  object\n",
      " 9   SourceName          122463 non-null  object\n",
      "dtypes: int64(1), object(9)\n",
      "memory usage: 9.3+ MB\n"
     ]
    },
    {
     "data": {
      "text/html": [
       "<div>\n",
       "<style scoped>\n",
       "    .dataframe tbody tr th:only-of-type {\n",
       "        vertical-align: middle;\n",
       "    }\n",
       "\n",
       "    .dataframe tbody tr th {\n",
       "        vertical-align: top;\n",
       "    }\n",
       "\n",
       "    .dataframe thead th {\n",
       "        text-align: right;\n",
       "    }\n",
       "</style>\n",
       "<table border=\"1\" class=\"dataframe\">\n",
       "  <thead>\n",
       "    <tr style=\"text-align: right;\">\n",
       "      <th></th>\n",
       "      <th>Id</th>\n",
       "      <th>Title</th>\n",
       "      <th>FullDescription</th>\n",
       "      <th>LocationRaw</th>\n",
       "      <th>LocationNormalized</th>\n",
       "      <th>ContractType</th>\n",
       "      <th>ContractTime</th>\n",
       "      <th>Company</th>\n",
       "      <th>Category</th>\n",
       "      <th>SourceName</th>\n",
       "    </tr>\n",
       "  </thead>\n",
       "  <tbody>\n",
       "    <tr>\n",
       "      <th>0</th>\n",
       "      <td>11888454</td>\n",
       "      <td>Business Development Manager</td>\n",
       "      <td>The Company: Our client is a national training...</td>\n",
       "      <td>Tyne Wear, North East</td>\n",
       "      <td>Newcastle Upon Tyne</td>\n",
       "      <td>NaN</td>\n",
       "      <td>permanent</td>\n",
       "      <td>Asset Appointments</td>\n",
       "      <td>Teaching Jobs</td>\n",
       "      <td>cv-library.co.uk</td>\n",
       "    </tr>\n",
       "    <tr>\n",
       "      <th>1</th>\n",
       "      <td>11988350</td>\n",
       "      <td>Internal Account Manager</td>\n",
       "      <td>The Company: Founded in **** our client is a U...</td>\n",
       "      <td>Tyne and Wear, North East</td>\n",
       "      <td>Newcastle Upon Tyne</td>\n",
       "      <td>NaN</td>\n",
       "      <td>permanent</td>\n",
       "      <td>Asset Appointments</td>\n",
       "      <td>Consultancy Jobs</td>\n",
       "      <td>cv-library.co.uk</td>\n",
       "    </tr>\n",
       "    <tr>\n",
       "      <th>2</th>\n",
       "      <td>12612558</td>\n",
       "      <td>Engineering Systems Analysts</td>\n",
       "      <td>Engineering Systems Analysts Surrey ****K Loca...</td>\n",
       "      <td>Surrey, South East, South East</td>\n",
       "      <td>Surrey</td>\n",
       "      <td>NaN</td>\n",
       "      <td>permanent</td>\n",
       "      <td>Gregory Martin International</td>\n",
       "      <td>Engineering Jobs</td>\n",
       "      <td>cv-library.co.uk</td>\n",
       "    </tr>\n",
       "    <tr>\n",
       "      <th>3</th>\n",
       "      <td>12613014</td>\n",
       "      <td>CIS Systems Engineering Consultant</td>\n",
       "      <td>CIS Systems Engineering Consultant Bristol  So...</td>\n",
       "      <td>Bristol, South West, South West</td>\n",
       "      <td>Bristol</td>\n",
       "      <td>NaN</td>\n",
       "      <td>permanent</td>\n",
       "      <td>Gregory Martin International</td>\n",
       "      <td>Engineering Jobs</td>\n",
       "      <td>cv-library.co.uk</td>\n",
       "    </tr>\n",
       "    <tr>\n",
       "      <th>4</th>\n",
       "      <td>22454872</td>\n",
       "      <td>CNC Miller / Programmer Fanac</td>\n",
       "      <td>CNC Miller / Programmer Fanac Fleet, Hampshire...</td>\n",
       "      <td>Fleet, Hampshire</td>\n",
       "      <td>Fleet</td>\n",
       "      <td>NaN</td>\n",
       "      <td>permanent</td>\n",
       "      <td>Gregory Martin International</td>\n",
       "      <td>Manufacturing Jobs</td>\n",
       "      <td>cv-library.co.uk</td>\n",
       "    </tr>\n",
       "  </tbody>\n",
       "</table>\n",
       "</div>"
      ],
      "text/plain": [
       "         Id                               Title  \\\n",
       "0  11888454        Business Development Manager   \n",
       "1  11988350            Internal Account Manager   \n",
       "2  12612558        Engineering Systems Analysts   \n",
       "3  12613014  CIS Systems Engineering Consultant   \n",
       "4  22454872       CNC Miller / Programmer Fanac   \n",
       "\n",
       "                                     FullDescription  \\\n",
       "0  The Company: Our client is a national training...   \n",
       "1  The Company: Founded in **** our client is a U...   \n",
       "2  Engineering Systems Analysts Surrey ****K Loca...   \n",
       "3  CIS Systems Engineering Consultant Bristol  So...   \n",
       "4  CNC Miller / Programmer Fanac Fleet, Hampshire...   \n",
       "\n",
       "                       LocationRaw   LocationNormalized ContractType  \\\n",
       "0            Tyne Wear, North East  Newcastle Upon Tyne          NaN   \n",
       "1        Tyne and Wear, North East  Newcastle Upon Tyne          NaN   \n",
       "2   Surrey, South East, South East               Surrey          NaN   \n",
       "3  Bristol, South West, South West              Bristol          NaN   \n",
       "4                 Fleet, Hampshire                Fleet          NaN   \n",
       "\n",
       "  ContractTime                       Company            Category  \\\n",
       "0    permanent            Asset Appointments       Teaching Jobs   \n",
       "1    permanent            Asset Appointments    Consultancy Jobs   \n",
       "2    permanent  Gregory Martin International    Engineering Jobs   \n",
       "3    permanent  Gregory Martin International    Engineering Jobs   \n",
       "4    permanent  Gregory Martin International  Manufacturing Jobs   \n",
       "\n",
       "         SourceName  \n",
       "0  cv-library.co.uk  \n",
       "1  cv-library.co.uk  \n",
       "2  cv-library.co.uk  \n",
       "3  cv-library.co.uk  \n",
       "4  cv-library.co.uk  "
      ]
     },
     "execution_count": 9,
     "metadata": {},
     "output_type": "execute_result"
    }
   ],
   "source": [
    "df_test.info()\n",
    "df_test.head()"
   ]
  },
  {
   "cell_type": "markdown",
   "id": "f9bc0f79",
   "metadata": {},
   "source": [
    "**NOTE:**  \n",
    "Se você prestar bem anteção, vai ver que no **conjunto de dados de teste** não tem as variáveis **target**:\n",
    " - SalaryRaw\n",
    " - SalaryNormalized"
   ]
  },
  {
   "cell_type": "markdown",
   "id": "b2ac166a",
   "metadata": {},
   "source": [
    "---"
   ]
  },
  {
   "cell_type": "markdown",
   "id": "2d709963",
   "metadata": {},
   "source": [
    "# 03 - Aplicando Pré-Processamento nas colunas (features)\n",
    "Nessa etapa vamos aplicar um **Pré-Processamento** em cada coluna individualmente. Vale salientar que o mesmo processo feito na coluna (feature) de *treinamento* devemos aplicar o mesmo **Pré-Processamento** na coluna correspondente nos dados de *teste*. Isso, porque nós vamos utilizar essa coluna (feature) futuramente para fazer previsões."
   ]
  },
  {
   "cell_type": "markdown",
   "id": "5edaf640",
   "metadata": {},
   "source": [
    "---"
   ]
  },
  {
   "cell_type": "markdown",
   "id": "6c012dde",
   "metadata": {},
   "source": [
    "## 03.1 - Pré-Processando a coluna (feature) \"Id\"\n",
    "> Essa coluna (feature) não vai precisar ser Pré-Processada. Como nós sabemos é apenas o identificado único de cada amostra."
   ]
  },
  {
   "cell_type": "markdown",
   "id": "f4245fcc",
   "metadata": {},
   "source": [
    "---"
   ]
  },
  {
   "cell_type": "markdown",
   "id": "cba6cd8e",
   "metadata": {},
   "source": [
    "## 03.2 - Pré-Processando a coluna (feature) \"Title\"\n",
    "> Resumidamente, o **Title** é o resumo do *cargo* ou *função*."
   ]
  },
  {
   "cell_type": "markdown",
   "id": "5543d839",
   "metadata": {},
   "source": [
    "### Preparando e colocando o tipo de dado mais adequado na *coluna (feature)* \"title\":"
   ]
  },
  {
   "cell_type": "code",
   "execution_count": 10,
   "id": "f3e3c349",
   "metadata": {
    "scrolled": true
   },
   "outputs": [
    {
     "name": "stdout",
     "output_type": "stream",
     "text": [
      "<class 'pandas.core.frame.DataFrame'>\n",
      "RangeIndex: 244768 entries, 0 to 244767\n",
      "Data columns (total 1 columns):\n",
      " #   Column  Non-Null Count   Dtype \n",
      "---  ------  --------------   ----- \n",
      " 0   Title   244767 non-null  string\n",
      "dtypes: string(1)\n",
      "memory usage: 1.9 MB\n"
     ]
    },
    {
     "data": {
      "text/html": [
       "<div>\n",
       "<style scoped>\n",
       "    .dataframe tbody tr th:only-of-type {\n",
       "        vertical-align: middle;\n",
       "    }\n",
       "\n",
       "    .dataframe tbody tr th {\n",
       "        vertical-align: top;\n",
       "    }\n",
       "\n",
       "    .dataframe thead th {\n",
       "        text-align: right;\n",
       "    }\n",
       "</style>\n",
       "<table border=\"1\" class=\"dataframe\">\n",
       "  <thead>\n",
       "    <tr style=\"text-align: right;\">\n",
       "      <th></th>\n",
       "      <th>Title</th>\n",
       "    </tr>\n",
       "  </thead>\n",
       "  <tbody>\n",
       "    <tr>\n",
       "      <th>0</th>\n",
       "      <td>Engineering Systems Analyst</td>\n",
       "    </tr>\n",
       "    <tr>\n",
       "      <th>1</th>\n",
       "      <td>Stress Engineer Glasgow</td>\n",
       "    </tr>\n",
       "    <tr>\n",
       "      <th>2</th>\n",
       "      <td>Modelling and simulation analyst</td>\n",
       "    </tr>\n",
       "    <tr>\n",
       "      <th>3</th>\n",
       "      <td>Engineering Systems Analyst / Mathematical Mod...</td>\n",
       "    </tr>\n",
       "    <tr>\n",
       "      <th>4</th>\n",
       "      <td>Pioneer, Miser Engineering Systems Analyst</td>\n",
       "    </tr>\n",
       "  </tbody>\n",
       "</table>\n",
       "</div>"
      ],
      "text/plain": [
       "                                               Title\n",
       "0                        Engineering Systems Analyst\n",
       "1                            Stress Engineer Glasgow\n",
       "2                   Modelling and simulation analyst\n",
       "3  Engineering Systems Analyst / Mathematical Mod...\n",
       "4         Pioneer, Miser Engineering Systems Analyst"
      ]
     },
     "execution_count": 10,
     "metadata": {},
     "output_type": "execute_result"
    }
   ],
   "source": [
    "df_title_train = df_train[[\"Title\"]].copy()\n",
    "df_title_train = df_title_train.astype({'Title': 'string'})\n",
    "df_title_train.info()\n",
    "df_title_train.head()"
   ]
  },
  {
   "cell_type": "code",
   "execution_count": 11,
   "id": "2abe9a1c",
   "metadata": {},
   "outputs": [
    {
     "name": "stdout",
     "output_type": "stream",
     "text": [
      "<class 'pandas.core.frame.DataFrame'>\n",
      "RangeIndex: 122463 entries, 0 to 122462\n",
      "Data columns (total 1 columns):\n",
      " #   Column  Non-Null Count   Dtype \n",
      "---  ------  --------------   ----- \n",
      " 0   Title   122463 non-null  string\n",
      "dtypes: string(1)\n",
      "memory usage: 956.9 KB\n"
     ]
    },
    {
     "data": {
      "text/html": [
       "<div>\n",
       "<style scoped>\n",
       "    .dataframe tbody tr th:only-of-type {\n",
       "        vertical-align: middle;\n",
       "    }\n",
       "\n",
       "    .dataframe tbody tr th {\n",
       "        vertical-align: top;\n",
       "    }\n",
       "\n",
       "    .dataframe thead th {\n",
       "        text-align: right;\n",
       "    }\n",
       "</style>\n",
       "<table border=\"1\" class=\"dataframe\">\n",
       "  <thead>\n",
       "    <tr style=\"text-align: right;\">\n",
       "      <th></th>\n",
       "      <th>Title</th>\n",
       "    </tr>\n",
       "  </thead>\n",
       "  <tbody>\n",
       "    <tr>\n",
       "      <th>0</th>\n",
       "      <td>Business Development Manager</td>\n",
       "    </tr>\n",
       "    <tr>\n",
       "      <th>1</th>\n",
       "      <td>Internal Account Manager</td>\n",
       "    </tr>\n",
       "    <tr>\n",
       "      <th>2</th>\n",
       "      <td>Engineering Systems Analysts</td>\n",
       "    </tr>\n",
       "    <tr>\n",
       "      <th>3</th>\n",
       "      <td>CIS Systems Engineering Consultant</td>\n",
       "    </tr>\n",
       "    <tr>\n",
       "      <th>4</th>\n",
       "      <td>CNC Miller / Programmer Fanac</td>\n",
       "    </tr>\n",
       "  </tbody>\n",
       "</table>\n",
       "</div>"
      ],
      "text/plain": [
       "                                Title\n",
       "0        Business Development Manager\n",
       "1            Internal Account Manager\n",
       "2        Engineering Systems Analysts\n",
       "3  CIS Systems Engineering Consultant\n",
       "4       CNC Miller / Programmer Fanac"
      ]
     },
     "execution_count": 11,
     "metadata": {},
     "output_type": "execute_result"
    }
   ],
   "source": [
    "df_title_test = df_test[[\"Title\"]].copy()\n",
    "df_title_test = df_title_test.astype({'Title': 'string'})\n",
    "df_title_test.info()\n",
    "df_title_test.head()"
   ]
  },
  {
   "cell_type": "markdown",
   "id": "c4fa8a99",
   "metadata": {},
   "source": [
    "### Verificando quanto porcento (%) dos dados são ausentes (missing):"
   ]
  },
  {
   "cell_type": "markdown",
   "id": "0ee04705",
   "metadata": {},
   "source": [
    "Vamos começar verificando o **número** de dados ausentes nas colunas (feature) **Title**:"
   ]
  },
  {
   "cell_type": "code",
   "execution_count": 12,
   "id": "efda8583",
   "metadata": {},
   "outputs": [
    {
     "data": {
      "text/plain": [
       "Title    1\n",
       "dtype: int64"
      ]
     },
     "execution_count": 12,
     "metadata": {},
     "output_type": "execute_result"
    }
   ],
   "source": [
    "preprocessing.missing_by_numbers(df_title_train)"
   ]
  },
  {
   "cell_type": "code",
   "execution_count": 13,
   "id": "b159ceab",
   "metadata": {},
   "outputs": [
    {
     "data": {
      "text/plain": [
       "Title    0\n",
       "dtype: int64"
      ]
     },
     "execution_count": 13,
     "metadata": {},
     "output_type": "execute_result"
    }
   ],
   "source": [
    "preprocessing.missing_by_numbers(df_title_test)"
   ]
  },
  {
   "cell_type": "markdown",
   "id": "11b77e4b",
   "metadata": {},
   "source": [
    "**NOTE:**  \n",
    "Vejam que no conjunto de dados de treino entre às 244.768 amostras, apenas uma delas está faltando o **title (título)**. Agora vamos ver quanto porcento representa esse único título faltante:"
   ]
  },
  {
   "cell_type": "code",
   "execution_count": 14,
   "id": "4b424d94",
   "metadata": {},
   "outputs": [
    {
     "data": {
      "text/plain": [
       "Title    0.000409\n",
       "dtype: float64"
      ]
     },
     "execution_count": 14,
     "metadata": {},
     "output_type": "execute_result"
    }
   ],
   "source": [
    "preprocessing.missing_by_percent(df_title_train)"
   ]
  },
  {
   "cell_type": "code",
   "execution_count": 15,
   "id": "06fe6fe9",
   "metadata": {},
   "outputs": [
    {
     "data": {
      "text/plain": [
       "Title    0.0\n",
       "dtype: float64"
      ]
     },
     "execution_count": 15,
     "metadata": {},
     "output_type": "execute_result"
    }
   ],
   "source": [
    "preprocessing.missing_by_percent(df_title_test)"
   ]
  },
  {
   "cell_type": "markdown",
   "id": "8e6ed583",
   "metadata": {},
   "source": [
    "**NOTE:**  \n",
    "Agora vem a pergunta-chave:\n",
    "\n",
    "> **Por que apenas uma das amostras está sem o título?**"
   ]
  },
  {
   "cell_type": "markdown",
   "id": "0c2a4aa8",
   "metadata": {},
   "source": [
    "### Aplicando Lower Casing:"
   ]
  },
  {
   "cell_type": "code",
   "execution_count": 16,
   "id": "75026b68",
   "metadata": {},
   "outputs": [],
   "source": [
    "df_title_train[\"processed_title\"] = preprocessing.apply_lower_casing(df_title_train[\"Title\"])"
   ]
  },
  {
   "cell_type": "code",
   "execution_count": 17,
   "id": "adda8caf",
   "metadata": {},
   "outputs": [
    {
     "data": {
      "text/html": [
       "<div>\n",
       "<style scoped>\n",
       "    .dataframe tbody tr th:only-of-type {\n",
       "        vertical-align: middle;\n",
       "    }\n",
       "\n",
       "    .dataframe tbody tr th {\n",
       "        vertical-align: top;\n",
       "    }\n",
       "\n",
       "    .dataframe thead th {\n",
       "        text-align: right;\n",
       "    }\n",
       "</style>\n",
       "<table border=\"1\" class=\"dataframe\">\n",
       "  <thead>\n",
       "    <tr style=\"text-align: right;\">\n",
       "      <th></th>\n",
       "      <th>Title</th>\n",
       "      <th>processed_title</th>\n",
       "    </tr>\n",
       "  </thead>\n",
       "  <tbody>\n",
       "    <tr>\n",
       "      <th>0</th>\n",
       "      <td>Engineering Systems Analyst</td>\n",
       "      <td>engineering systems analyst</td>\n",
       "    </tr>\n",
       "    <tr>\n",
       "      <th>1</th>\n",
       "      <td>Stress Engineer Glasgow</td>\n",
       "      <td>stress engineer glasgow</td>\n",
       "    </tr>\n",
       "    <tr>\n",
       "      <th>2</th>\n",
       "      <td>Modelling and simulation analyst</td>\n",
       "      <td>modelling and simulation analyst</td>\n",
       "    </tr>\n",
       "    <tr>\n",
       "      <th>3</th>\n",
       "      <td>Engineering Systems Analyst / Mathematical Mod...</td>\n",
       "      <td>engineering systems analyst / mathematical mod...</td>\n",
       "    </tr>\n",
       "    <tr>\n",
       "      <th>4</th>\n",
       "      <td>Pioneer, Miser Engineering Systems Analyst</td>\n",
       "      <td>pioneer, miser engineering systems analyst</td>\n",
       "    </tr>\n",
       "  </tbody>\n",
       "</table>\n",
       "</div>"
      ],
      "text/plain": [
       "                                               Title  \\\n",
       "0                        Engineering Systems Analyst   \n",
       "1                            Stress Engineer Glasgow   \n",
       "2                   Modelling and simulation analyst   \n",
       "3  Engineering Systems Analyst / Mathematical Mod...   \n",
       "4         Pioneer, Miser Engineering Systems Analyst   \n",
       "\n",
       "                                     processed_title  \n",
       "0                        engineering systems analyst  \n",
       "1                            stress engineer glasgow  \n",
       "2                   modelling and simulation analyst  \n",
       "3  engineering systems analyst / mathematical mod...  \n",
       "4         pioneer, miser engineering systems analyst  "
      ]
     },
     "execution_count": 17,
     "metadata": {},
     "output_type": "execute_result"
    }
   ],
   "source": [
    "df_title_train.head()"
   ]
  },
  {
   "cell_type": "code",
   "execution_count": 18,
   "id": "4be1cabd",
   "metadata": {},
   "outputs": [],
   "source": [
    "df_title_test[\"processed_title\"] = preprocessing.apply_lower_casing(df_title_test[\"Title\"])"
   ]
  },
  {
   "cell_type": "code",
   "execution_count": 19,
   "id": "c49c0d6b",
   "metadata": {},
   "outputs": [
    {
     "data": {
      "text/html": [
       "<div>\n",
       "<style scoped>\n",
       "    .dataframe tbody tr th:only-of-type {\n",
       "        vertical-align: middle;\n",
       "    }\n",
       "\n",
       "    .dataframe tbody tr th {\n",
       "        vertical-align: top;\n",
       "    }\n",
       "\n",
       "    .dataframe thead th {\n",
       "        text-align: right;\n",
       "    }\n",
       "</style>\n",
       "<table border=\"1\" class=\"dataframe\">\n",
       "  <thead>\n",
       "    <tr style=\"text-align: right;\">\n",
       "      <th></th>\n",
       "      <th>Title</th>\n",
       "      <th>processed_title</th>\n",
       "    </tr>\n",
       "  </thead>\n",
       "  <tbody>\n",
       "    <tr>\n",
       "      <th>0</th>\n",
       "      <td>Business Development Manager</td>\n",
       "      <td>business development manager</td>\n",
       "    </tr>\n",
       "    <tr>\n",
       "      <th>1</th>\n",
       "      <td>Internal Account Manager</td>\n",
       "      <td>internal account manager</td>\n",
       "    </tr>\n",
       "    <tr>\n",
       "      <th>2</th>\n",
       "      <td>Engineering Systems Analysts</td>\n",
       "      <td>engineering systems analysts</td>\n",
       "    </tr>\n",
       "    <tr>\n",
       "      <th>3</th>\n",
       "      <td>CIS Systems Engineering Consultant</td>\n",
       "      <td>cis systems engineering consultant</td>\n",
       "    </tr>\n",
       "    <tr>\n",
       "      <th>4</th>\n",
       "      <td>CNC Miller / Programmer Fanac</td>\n",
       "      <td>cnc miller / programmer fanac</td>\n",
       "    </tr>\n",
       "  </tbody>\n",
       "</table>\n",
       "</div>"
      ],
      "text/plain": [
       "                                Title                     processed_title\n",
       "0        Business Development Manager        business development manager\n",
       "1            Internal Account Manager            internal account manager\n",
       "2        Engineering Systems Analysts        engineering systems analysts\n",
       "3  CIS Systems Engineering Consultant  cis systems engineering consultant\n",
       "4       CNC Miller / Programmer Fanac       cnc miller / programmer fanac"
      ]
     },
     "execution_count": 19,
     "metadata": {},
     "output_type": "execute_result"
    }
   ],
   "source": [
    "df_title_test.head()"
   ]
  },
  {
   "cell_type": "markdown",
   "id": "46751ac4",
   "metadata": {},
   "source": [
    "### Removendo pontuações:"
   ]
  },
  {
   "cell_type": "code",
   "execution_count": 20,
   "id": "679b1e5b",
   "metadata": {},
   "outputs": [],
   "source": [
    "df_title_train[\"processed_title\"] = preprocessing.remove_punctuations(df_title_train[\"processed_title\"])"
   ]
  },
  {
   "cell_type": "code",
   "execution_count": 21,
   "id": "888327d2",
   "metadata": {},
   "outputs": [
    {
     "data": {
      "text/html": [
       "<div>\n",
       "<style scoped>\n",
       "    .dataframe tbody tr th:only-of-type {\n",
       "        vertical-align: middle;\n",
       "    }\n",
       "\n",
       "    .dataframe tbody tr th {\n",
       "        vertical-align: top;\n",
       "    }\n",
       "\n",
       "    .dataframe thead th {\n",
       "        text-align: right;\n",
       "    }\n",
       "</style>\n",
       "<table border=\"1\" class=\"dataframe\">\n",
       "  <thead>\n",
       "    <tr style=\"text-align: right;\">\n",
       "      <th></th>\n",
       "      <th>Title</th>\n",
       "      <th>processed_title</th>\n",
       "    </tr>\n",
       "  </thead>\n",
       "  <tbody>\n",
       "    <tr>\n",
       "      <th>0</th>\n",
       "      <td>Engineering Systems Analyst</td>\n",
       "      <td>engineering systems analyst</td>\n",
       "    </tr>\n",
       "    <tr>\n",
       "      <th>1</th>\n",
       "      <td>Stress Engineer Glasgow</td>\n",
       "      <td>stress engineer glasgow</td>\n",
       "    </tr>\n",
       "    <tr>\n",
       "      <th>2</th>\n",
       "      <td>Modelling and simulation analyst</td>\n",
       "      <td>modelling and simulation analyst</td>\n",
       "    </tr>\n",
       "    <tr>\n",
       "      <th>3</th>\n",
       "      <td>Engineering Systems Analyst / Mathematical Mod...</td>\n",
       "      <td>engineering systems analyst   mathematical mod...</td>\n",
       "    </tr>\n",
       "    <tr>\n",
       "      <th>4</th>\n",
       "      <td>Pioneer, Miser Engineering Systems Analyst</td>\n",
       "      <td>pioneer  miser engineering systems analyst</td>\n",
       "    </tr>\n",
       "  </tbody>\n",
       "</table>\n",
       "</div>"
      ],
      "text/plain": [
       "                                               Title  \\\n",
       "0                        Engineering Systems Analyst   \n",
       "1                            Stress Engineer Glasgow   \n",
       "2                   Modelling and simulation analyst   \n",
       "3  Engineering Systems Analyst / Mathematical Mod...   \n",
       "4         Pioneer, Miser Engineering Systems Analyst   \n",
       "\n",
       "                                     processed_title  \n",
       "0                        engineering systems analyst  \n",
       "1                            stress engineer glasgow  \n",
       "2                   modelling and simulation analyst  \n",
       "3  engineering systems analyst   mathematical mod...  \n",
       "4         pioneer  miser engineering systems analyst  "
      ]
     },
     "execution_count": 21,
     "metadata": {},
     "output_type": "execute_result"
    }
   ],
   "source": [
    "df_title_train.head()"
   ]
  },
  {
   "cell_type": "code",
   "execution_count": 22,
   "id": "fb5f51a6",
   "metadata": {},
   "outputs": [],
   "source": [
    "df_title_test[\"processed_title\"] = preprocessing.remove_punctuations(df_title_test[\"processed_title\"])"
   ]
  },
  {
   "cell_type": "code",
   "execution_count": 23,
   "id": "30500580",
   "metadata": {},
   "outputs": [
    {
     "data": {
      "text/html": [
       "<div>\n",
       "<style scoped>\n",
       "    .dataframe tbody tr th:only-of-type {\n",
       "        vertical-align: middle;\n",
       "    }\n",
       "\n",
       "    .dataframe tbody tr th {\n",
       "        vertical-align: top;\n",
       "    }\n",
       "\n",
       "    .dataframe thead th {\n",
       "        text-align: right;\n",
       "    }\n",
       "</style>\n",
       "<table border=\"1\" class=\"dataframe\">\n",
       "  <thead>\n",
       "    <tr style=\"text-align: right;\">\n",
       "      <th></th>\n",
       "      <th>Title</th>\n",
       "      <th>processed_title</th>\n",
       "    </tr>\n",
       "  </thead>\n",
       "  <tbody>\n",
       "    <tr>\n",
       "      <th>0</th>\n",
       "      <td>Business Development Manager</td>\n",
       "      <td>business development manager</td>\n",
       "    </tr>\n",
       "    <tr>\n",
       "      <th>1</th>\n",
       "      <td>Internal Account Manager</td>\n",
       "      <td>internal account manager</td>\n",
       "    </tr>\n",
       "    <tr>\n",
       "      <th>2</th>\n",
       "      <td>Engineering Systems Analysts</td>\n",
       "      <td>engineering systems analysts</td>\n",
       "    </tr>\n",
       "    <tr>\n",
       "      <th>3</th>\n",
       "      <td>CIS Systems Engineering Consultant</td>\n",
       "      <td>cis systems engineering consultant</td>\n",
       "    </tr>\n",
       "    <tr>\n",
       "      <th>4</th>\n",
       "      <td>CNC Miller / Programmer Fanac</td>\n",
       "      <td>cnc miller   programmer fanac</td>\n",
       "    </tr>\n",
       "  </tbody>\n",
       "</table>\n",
       "</div>"
      ],
      "text/plain": [
       "                                Title                     processed_title\n",
       "0        Business Development Manager        business development manager\n",
       "1            Internal Account Manager            internal account manager\n",
       "2        Engineering Systems Analysts        engineering systems analysts\n",
       "3  CIS Systems Engineering Consultant  cis systems engineering consultant\n",
       "4       CNC Miller / Programmer Fanac       cnc miller   programmer fanac"
      ]
     },
     "execution_count": 23,
     "metadata": {},
     "output_type": "execute_result"
    }
   ],
   "source": [
    "df_title_test.head()"
   ]
  },
  {
   "cell_type": "markdown",
   "id": "e1bd6bc9",
   "metadata": {},
   "source": [
    "### Removendo números:"
   ]
  },
  {
   "cell_type": "code",
   "execution_count": 24,
   "id": "e9666c31",
   "metadata": {},
   "outputs": [],
   "source": [
    "df_title_train[\"processed_title\"] = preprocessing.remove_numbers(df_title_train[\"processed_title\"])"
   ]
  },
  {
   "cell_type": "code",
   "execution_count": 25,
   "id": "8569667d",
   "metadata": {},
   "outputs": [
    {
     "data": {
      "text/html": [
       "<div>\n",
       "<style scoped>\n",
       "    .dataframe tbody tr th:only-of-type {\n",
       "        vertical-align: middle;\n",
       "    }\n",
       "\n",
       "    .dataframe tbody tr th {\n",
       "        vertical-align: top;\n",
       "    }\n",
       "\n",
       "    .dataframe thead th {\n",
       "        text-align: right;\n",
       "    }\n",
       "</style>\n",
       "<table border=\"1\" class=\"dataframe\">\n",
       "  <thead>\n",
       "    <tr style=\"text-align: right;\">\n",
       "      <th></th>\n",
       "      <th>Title</th>\n",
       "      <th>processed_title</th>\n",
       "    </tr>\n",
       "  </thead>\n",
       "  <tbody>\n",
       "    <tr>\n",
       "      <th>0</th>\n",
       "      <td>Engineering Systems Analyst</td>\n",
       "      <td>engineering systems analyst</td>\n",
       "    </tr>\n",
       "    <tr>\n",
       "      <th>1</th>\n",
       "      <td>Stress Engineer Glasgow</td>\n",
       "      <td>stress engineer glasgow</td>\n",
       "    </tr>\n",
       "    <tr>\n",
       "      <th>2</th>\n",
       "      <td>Modelling and simulation analyst</td>\n",
       "      <td>modelling and simulation analyst</td>\n",
       "    </tr>\n",
       "    <tr>\n",
       "      <th>3</th>\n",
       "      <td>Engineering Systems Analyst / Mathematical Mod...</td>\n",
       "      <td>engineering systems analyst   mathematical mod...</td>\n",
       "    </tr>\n",
       "    <tr>\n",
       "      <th>4</th>\n",
       "      <td>Pioneer, Miser Engineering Systems Analyst</td>\n",
       "      <td>pioneer  miser engineering systems analyst</td>\n",
       "    </tr>\n",
       "  </tbody>\n",
       "</table>\n",
       "</div>"
      ],
      "text/plain": [
       "                                               Title  \\\n",
       "0                        Engineering Systems Analyst   \n",
       "1                            Stress Engineer Glasgow   \n",
       "2                   Modelling and simulation analyst   \n",
       "3  Engineering Systems Analyst / Mathematical Mod...   \n",
       "4         Pioneer, Miser Engineering Systems Analyst   \n",
       "\n",
       "                                     processed_title  \n",
       "0                        engineering systems analyst  \n",
       "1                            stress engineer glasgow  \n",
       "2                   modelling and simulation analyst  \n",
       "3  engineering systems analyst   mathematical mod...  \n",
       "4         pioneer  miser engineering systems analyst  "
      ]
     },
     "execution_count": 25,
     "metadata": {},
     "output_type": "execute_result"
    }
   ],
   "source": [
    "df_title_train.head()"
   ]
  },
  {
   "cell_type": "code",
   "execution_count": 26,
   "id": "3b86942e",
   "metadata": {},
   "outputs": [],
   "source": [
    "df_title_test[\"processed_title\"] = preprocessing.remove_numbers(df_title_test[\"processed_title\"])"
   ]
  },
  {
   "cell_type": "code",
   "execution_count": 27,
   "id": "96e8dba0",
   "metadata": {},
   "outputs": [
    {
     "data": {
      "text/html": [
       "<div>\n",
       "<style scoped>\n",
       "    .dataframe tbody tr th:only-of-type {\n",
       "        vertical-align: middle;\n",
       "    }\n",
       "\n",
       "    .dataframe tbody tr th {\n",
       "        vertical-align: top;\n",
       "    }\n",
       "\n",
       "    .dataframe thead th {\n",
       "        text-align: right;\n",
       "    }\n",
       "</style>\n",
       "<table border=\"1\" class=\"dataframe\">\n",
       "  <thead>\n",
       "    <tr style=\"text-align: right;\">\n",
       "      <th></th>\n",
       "      <th>Title</th>\n",
       "      <th>processed_title</th>\n",
       "    </tr>\n",
       "  </thead>\n",
       "  <tbody>\n",
       "    <tr>\n",
       "      <th>0</th>\n",
       "      <td>Business Development Manager</td>\n",
       "      <td>business development manager</td>\n",
       "    </tr>\n",
       "    <tr>\n",
       "      <th>1</th>\n",
       "      <td>Internal Account Manager</td>\n",
       "      <td>internal account manager</td>\n",
       "    </tr>\n",
       "    <tr>\n",
       "      <th>2</th>\n",
       "      <td>Engineering Systems Analysts</td>\n",
       "      <td>engineering systems analysts</td>\n",
       "    </tr>\n",
       "    <tr>\n",
       "      <th>3</th>\n",
       "      <td>CIS Systems Engineering Consultant</td>\n",
       "      <td>cis systems engineering consultant</td>\n",
       "    </tr>\n",
       "    <tr>\n",
       "      <th>4</th>\n",
       "      <td>CNC Miller / Programmer Fanac</td>\n",
       "      <td>cnc miller   programmer fanac</td>\n",
       "    </tr>\n",
       "  </tbody>\n",
       "</table>\n",
       "</div>"
      ],
      "text/plain": [
       "                                Title                     processed_title\n",
       "0        Business Development Manager        business development manager\n",
       "1            Internal Account Manager            internal account manager\n",
       "2        Engineering Systems Analysts        engineering systems analysts\n",
       "3  CIS Systems Engineering Consultant  cis systems engineering consultant\n",
       "4       CNC Miller / Programmer Fanac       cnc miller   programmer fanac"
      ]
     },
     "execution_count": 27,
     "metadata": {},
     "output_type": "execute_result"
    }
   ],
   "source": [
    "df_title_test.head()"
   ]
  },
  {
   "cell_type": "markdown",
   "id": "292bd1ca",
   "metadata": {},
   "source": [
    "### Aplicando a técnica de Stemming:"
   ]
  },
  {
   "cell_type": "code",
   "execution_count": 28,
   "id": "bcef3bbe",
   "metadata": {},
   "outputs": [],
   "source": [
    "df_title_train[\"processed_title\"] = df_title_train[\"processed_title\"].apply(lambda text: preprocessing.apply_stemming(text))"
   ]
  },
  {
   "cell_type": "code",
   "execution_count": 29,
   "id": "dd7a5adc",
   "metadata": {},
   "outputs": [
    {
     "data": {
      "text/html": [
       "<div>\n",
       "<style scoped>\n",
       "    .dataframe tbody tr th:only-of-type {\n",
       "        vertical-align: middle;\n",
       "    }\n",
       "\n",
       "    .dataframe tbody tr th {\n",
       "        vertical-align: top;\n",
       "    }\n",
       "\n",
       "    .dataframe thead th {\n",
       "        text-align: right;\n",
       "    }\n",
       "</style>\n",
       "<table border=\"1\" class=\"dataframe\">\n",
       "  <thead>\n",
       "    <tr style=\"text-align: right;\">\n",
       "      <th></th>\n",
       "      <th>Title</th>\n",
       "      <th>processed_title</th>\n",
       "    </tr>\n",
       "  </thead>\n",
       "  <tbody>\n",
       "    <tr>\n",
       "      <th>0</th>\n",
       "      <td>Engineering Systems Analyst</td>\n",
       "      <td>engin system analyst</td>\n",
       "    </tr>\n",
       "    <tr>\n",
       "      <th>1</th>\n",
       "      <td>Stress Engineer Glasgow</td>\n",
       "      <td>stress engin glasgow</td>\n",
       "    </tr>\n",
       "    <tr>\n",
       "      <th>2</th>\n",
       "      <td>Modelling and simulation analyst</td>\n",
       "      <td>model and simul analyst</td>\n",
       "    </tr>\n",
       "    <tr>\n",
       "      <th>3</th>\n",
       "      <td>Engineering Systems Analyst / Mathematical Mod...</td>\n",
       "      <td>engin system analyst mathemat model</td>\n",
       "    </tr>\n",
       "    <tr>\n",
       "      <th>4</th>\n",
       "      <td>Pioneer, Miser Engineering Systems Analyst</td>\n",
       "      <td>pioneer miser engin system analyst</td>\n",
       "    </tr>\n",
       "  </tbody>\n",
       "</table>\n",
       "</div>"
      ],
      "text/plain": [
       "                                               Title  \\\n",
       "0                        Engineering Systems Analyst   \n",
       "1                            Stress Engineer Glasgow   \n",
       "2                   Modelling and simulation analyst   \n",
       "3  Engineering Systems Analyst / Mathematical Mod...   \n",
       "4         Pioneer, Miser Engineering Systems Analyst   \n",
       "\n",
       "                       processed_title  \n",
       "0                 engin system analyst  \n",
       "1                 stress engin glasgow  \n",
       "2              model and simul analyst  \n",
       "3  engin system analyst mathemat model  \n",
       "4   pioneer miser engin system analyst  "
      ]
     },
     "execution_count": 29,
     "metadata": {},
     "output_type": "execute_result"
    }
   ],
   "source": [
    "df_title_train.head()"
   ]
  },
  {
   "cell_type": "code",
   "execution_count": 30,
   "id": "0a5d0226",
   "metadata": {},
   "outputs": [],
   "source": [
    "df_title_test[\"processed_title\"] = df_title_test[\"processed_title\"].apply(lambda text: preprocessing.apply_stemming(text))"
   ]
  },
  {
   "cell_type": "code",
   "execution_count": 31,
   "id": "724f3005",
   "metadata": {},
   "outputs": [
    {
     "data": {
      "text/html": [
       "<div>\n",
       "<style scoped>\n",
       "    .dataframe tbody tr th:only-of-type {\n",
       "        vertical-align: middle;\n",
       "    }\n",
       "\n",
       "    .dataframe tbody tr th {\n",
       "        vertical-align: top;\n",
       "    }\n",
       "\n",
       "    .dataframe thead th {\n",
       "        text-align: right;\n",
       "    }\n",
       "</style>\n",
       "<table border=\"1\" class=\"dataframe\">\n",
       "  <thead>\n",
       "    <tr style=\"text-align: right;\">\n",
       "      <th></th>\n",
       "      <th>Title</th>\n",
       "      <th>processed_title</th>\n",
       "    </tr>\n",
       "  </thead>\n",
       "  <tbody>\n",
       "    <tr>\n",
       "      <th>0</th>\n",
       "      <td>Business Development Manager</td>\n",
       "      <td>busi develop manag</td>\n",
       "    </tr>\n",
       "    <tr>\n",
       "      <th>1</th>\n",
       "      <td>Internal Account Manager</td>\n",
       "      <td>intern account manag</td>\n",
       "    </tr>\n",
       "    <tr>\n",
       "      <th>2</th>\n",
       "      <td>Engineering Systems Analysts</td>\n",
       "      <td>engin system analyst</td>\n",
       "    </tr>\n",
       "    <tr>\n",
       "      <th>3</th>\n",
       "      <td>CIS Systems Engineering Consultant</td>\n",
       "      <td>ci system engin consult</td>\n",
       "    </tr>\n",
       "    <tr>\n",
       "      <th>4</th>\n",
       "      <td>CNC Miller / Programmer Fanac</td>\n",
       "      <td>cnc miller programm fanac</td>\n",
       "    </tr>\n",
       "  </tbody>\n",
       "</table>\n",
       "</div>"
      ],
      "text/plain": [
       "                                Title            processed_title\n",
       "0        Business Development Manager         busi develop manag\n",
       "1            Internal Account Manager       intern account manag\n",
       "2        Engineering Systems Analysts       engin system analyst\n",
       "3  CIS Systems Engineering Consultant    ci system engin consult\n",
       "4       CNC Miller / Programmer Fanac  cnc miller programm fanac"
      ]
     },
     "execution_count": 31,
     "metadata": {},
     "output_type": "execute_result"
    }
   ],
   "source": [
    "df_title_test.head()"
   ]
  },
  {
   "cell_type": "markdown",
   "id": "2bef9324",
   "metadata": {},
   "source": [
    "### Aplicando a técnica de Lemmatization + Part-of-Speech Tagging:"
   ]
  },
  {
   "cell_type": "code",
   "execution_count": 32,
   "id": "97b52457",
   "metadata": {},
   "outputs": [],
   "source": [
    "df_title_train[\"processed_title\"] = df_title_train[\"processed_title\"].apply(lambda text: preprocessing.apply_lemmatization(text))"
   ]
  },
  {
   "cell_type": "code",
   "execution_count": 33,
   "id": "0c11b946",
   "metadata": {},
   "outputs": [
    {
     "data": {
      "text/html": [
       "<div>\n",
       "<style scoped>\n",
       "    .dataframe tbody tr th:only-of-type {\n",
       "        vertical-align: middle;\n",
       "    }\n",
       "\n",
       "    .dataframe tbody tr th {\n",
       "        vertical-align: top;\n",
       "    }\n",
       "\n",
       "    .dataframe thead th {\n",
       "        text-align: right;\n",
       "    }\n",
       "</style>\n",
       "<table border=\"1\" class=\"dataframe\">\n",
       "  <thead>\n",
       "    <tr style=\"text-align: right;\">\n",
       "      <th></th>\n",
       "      <th>Title</th>\n",
       "      <th>processed_title</th>\n",
       "    </tr>\n",
       "  </thead>\n",
       "  <tbody>\n",
       "    <tr>\n",
       "      <th>0</th>\n",
       "      <td>Engineering Systems Analyst</td>\n",
       "      <td>engin system analyst</td>\n",
       "    </tr>\n",
       "    <tr>\n",
       "      <th>1</th>\n",
       "      <td>Stress Engineer Glasgow</td>\n",
       "      <td>stress engin glasgow</td>\n",
       "    </tr>\n",
       "    <tr>\n",
       "      <th>2</th>\n",
       "      <td>Modelling and simulation analyst</td>\n",
       "      <td>model and simul analyst</td>\n",
       "    </tr>\n",
       "    <tr>\n",
       "      <th>3</th>\n",
       "      <td>Engineering Systems Analyst / Mathematical Mod...</td>\n",
       "      <td>engin system analyst mathemat model</td>\n",
       "    </tr>\n",
       "    <tr>\n",
       "      <th>4</th>\n",
       "      <td>Pioneer, Miser Engineering Systems Analyst</td>\n",
       "      <td>pioneer miser engin system analyst</td>\n",
       "    </tr>\n",
       "  </tbody>\n",
       "</table>\n",
       "</div>"
      ],
      "text/plain": [
       "                                               Title  \\\n",
       "0                        Engineering Systems Analyst   \n",
       "1                            Stress Engineer Glasgow   \n",
       "2                   Modelling and simulation analyst   \n",
       "3  Engineering Systems Analyst / Mathematical Mod...   \n",
       "4         Pioneer, Miser Engineering Systems Analyst   \n",
       "\n",
       "                       processed_title  \n",
       "0                 engin system analyst  \n",
       "1                 stress engin glasgow  \n",
       "2              model and simul analyst  \n",
       "3  engin system analyst mathemat model  \n",
       "4   pioneer miser engin system analyst  "
      ]
     },
     "execution_count": 33,
     "metadata": {},
     "output_type": "execute_result"
    }
   ],
   "source": [
    "df_title_train.head()"
   ]
  },
  {
   "cell_type": "code",
   "execution_count": 34,
   "id": "9100c8fa",
   "metadata": {},
   "outputs": [],
   "source": [
    "df_title_test[\"processed_title\"] = df_title_test[\"processed_title\"].apply(lambda text: preprocessing.apply_lemmatization(text))"
   ]
  },
  {
   "cell_type": "code",
   "execution_count": 35,
   "id": "519e83e3",
   "metadata": {},
   "outputs": [
    {
     "data": {
      "text/html": [
       "<div>\n",
       "<style scoped>\n",
       "    .dataframe tbody tr th:only-of-type {\n",
       "        vertical-align: middle;\n",
       "    }\n",
       "\n",
       "    .dataframe tbody tr th {\n",
       "        vertical-align: top;\n",
       "    }\n",
       "\n",
       "    .dataframe thead th {\n",
       "        text-align: right;\n",
       "    }\n",
       "</style>\n",
       "<table border=\"1\" class=\"dataframe\">\n",
       "  <thead>\n",
       "    <tr style=\"text-align: right;\">\n",
       "      <th></th>\n",
       "      <th>Title</th>\n",
       "      <th>processed_title</th>\n",
       "    </tr>\n",
       "  </thead>\n",
       "  <tbody>\n",
       "    <tr>\n",
       "      <th>0</th>\n",
       "      <td>Business Development Manager</td>\n",
       "      <td>busi develop manag</td>\n",
       "    </tr>\n",
       "    <tr>\n",
       "      <th>1</th>\n",
       "      <td>Internal Account Manager</td>\n",
       "      <td>intern account manag</td>\n",
       "    </tr>\n",
       "    <tr>\n",
       "      <th>2</th>\n",
       "      <td>Engineering Systems Analysts</td>\n",
       "      <td>engin system analyst</td>\n",
       "    </tr>\n",
       "    <tr>\n",
       "      <th>3</th>\n",
       "      <td>CIS Systems Engineering Consultant</td>\n",
       "      <td>ci system engin consult</td>\n",
       "    </tr>\n",
       "    <tr>\n",
       "      <th>4</th>\n",
       "      <td>CNC Miller / Programmer Fanac</td>\n",
       "      <td>cnc miller programm fanac</td>\n",
       "    </tr>\n",
       "  </tbody>\n",
       "</table>\n",
       "</div>"
      ],
      "text/plain": [
       "                                Title            processed_title\n",
       "0        Business Development Manager         busi develop manag\n",
       "1            Internal Account Manager       intern account manag\n",
       "2        Engineering Systems Analysts       engin system analyst\n",
       "3  CIS Systems Engineering Consultant    ci system engin consult\n",
       "4       CNC Miller / Programmer Fanac  cnc miller programm fanac"
      ]
     },
     "execution_count": 35,
     "metadata": {},
     "output_type": "execute_result"
    }
   ],
   "source": [
    "df_title_test.head()"
   ]
  },
  {
   "cell_type": "markdown",
   "id": "f3c4ff41",
   "metadata": {},
   "source": [
    "### Analisando as palavras mais frequentes (max_df & min_df):\n",
    "Agora nós vamos analisar quais as palavras mais **frequentes** e mais **raras**. Isso é importante porque com essa análise nós podemos remover palavras que não vão ajudar nossos modelos na hora da aprendizagem."
   ]
  },
  {
   "cell_type": "code",
   "execution_count": 36,
   "id": "bc83fa6a",
   "metadata": {},
   "outputs": [
    {
     "name": "stdout",
     "output_type": "stream",
     "text": [
      "Method runtime: 0:00:01.075269\n"
     ]
    }
   ],
   "source": [
    "train_words_stats = preprocessing.check_most_common_words(df_title_train[\"processed_title\"])"
   ]
  },
  {
   "cell_type": "code",
   "execution_count": 37,
   "id": "692c9b5f",
   "metadata": {},
   "outputs": [
    {
     "name": "stdout",
     "output_type": "stream",
     "text": [
      "Method runtime: 0:00:00.509862\n"
     ]
    }
   ],
   "source": [
    "test_words_stats = preprocessing.check_most_common_words(df_title_test[\"processed_title\"])"
   ]
  },
  {
   "cell_type": "markdown",
   "id": "c4f02353",
   "metadata": {},
   "source": [
    "**NOTE:**  \n",
    "Analisando as palavras mais frequentes (max_df):"
   ]
  },
  {
   "cell_type": "code",
   "execution_count": 38,
   "id": "00438b4a",
   "metadata": {},
   "outputs": [
    {
     "data": {
      "text/html": [
       "<div>\n",
       "<style scoped>\n",
       "    .dataframe tbody tr th:only-of-type {\n",
       "        vertical-align: middle;\n",
       "    }\n",
       "\n",
       "    .dataframe tbody tr th {\n",
       "        vertical-align: top;\n",
       "    }\n",
       "\n",
       "    .dataframe thead th {\n",
       "        text-align: right;\n",
       "    }\n",
       "</style>\n",
       "<table border=\"1\" class=\"dataframe\">\n",
       "  <thead>\n",
       "    <tr style=\"text-align: right;\">\n",
       "      <th></th>\n",
       "      <th>Word</th>\n",
       "      <th>Frequency</th>\n",
       "    </tr>\n",
       "  </thead>\n",
       "  <tbody>\n",
       "    <tr>\n",
       "      <th>0</th>\n",
       "      <td>manag</td>\n",
       "      <td>54152</td>\n",
       "    </tr>\n",
       "    <tr>\n",
       "      <th>1</th>\n",
       "      <td>engin</td>\n",
       "      <td>26731</td>\n",
       "    </tr>\n",
       "    <tr>\n",
       "      <th>2</th>\n",
       "      <td>develop</td>\n",
       "      <td>21242</td>\n",
       "    </tr>\n",
       "    <tr>\n",
       "      <th>3</th>\n",
       "      <td>sale</td>\n",
       "      <td>19814</td>\n",
       "    </tr>\n",
       "    <tr>\n",
       "      <th>4</th>\n",
       "      <td>senior</td>\n",
       "      <td>16987</td>\n",
       "    </tr>\n",
       "    <tr>\n",
       "      <th>5</th>\n",
       "      <td>assist</td>\n",
       "      <td>12760</td>\n",
       "    </tr>\n",
       "    <tr>\n",
       "      <th>6</th>\n",
       "      <td>account</td>\n",
       "      <td>12648</td>\n",
       "    </tr>\n",
       "    <tr>\n",
       "      <th>7</th>\n",
       "      <td>k</td>\n",
       "      <td>11336</td>\n",
       "    </tr>\n",
       "    <tr>\n",
       "      <th>8</th>\n",
       "      <td>execut</td>\n",
       "      <td>10976</td>\n",
       "    </tr>\n",
       "    <tr>\n",
       "      <th>9</th>\n",
       "      <td>consult</td>\n",
       "      <td>10521</td>\n",
       "    </tr>\n",
       "    <tr>\n",
       "      <th>10</th>\n",
       "      <td>busi</td>\n",
       "      <td>10083</td>\n",
       "    </tr>\n",
       "    <tr>\n",
       "      <th>11</th>\n",
       "      <td>servic</td>\n",
       "      <td>9680</td>\n",
       "    </tr>\n",
       "    <tr>\n",
       "      <th>12</th>\n",
       "      <td>london</td>\n",
       "      <td>9494</td>\n",
       "    </tr>\n",
       "    <tr>\n",
       "      <th>13</th>\n",
       "      <td>analyst</td>\n",
       "      <td>9478</td>\n",
       "    </tr>\n",
       "    <tr>\n",
       "      <th>14</th>\n",
       "      <td>nurs</td>\n",
       "      <td>8986</td>\n",
       "    </tr>\n",
       "    <tr>\n",
       "      <th>15</th>\n",
       "      <td>support</td>\n",
       "      <td>8664</td>\n",
       "    </tr>\n",
       "    <tr>\n",
       "      <th>16</th>\n",
       "      <td>and</td>\n",
       "      <td>8071</td>\n",
       "    </tr>\n",
       "    <tr>\n",
       "      <th>17</th>\n",
       "      <td>project</td>\n",
       "      <td>7686</td>\n",
       "    </tr>\n",
       "    <tr>\n",
       "      <th>18</th>\n",
       "      <td>administr</td>\n",
       "      <td>7090</td>\n",
       "    </tr>\n",
       "    <tr>\n",
       "      <th>19</th>\n",
       "      <td>design</td>\n",
       "      <td>6960</td>\n",
       "    </tr>\n",
       "    <tr>\n",
       "      <th>20</th>\n",
       "      <td>teacher</td>\n",
       "      <td>6307</td>\n",
       "    </tr>\n",
       "    <tr>\n",
       "      <th>21</th>\n",
       "      <td>c</td>\n",
       "      <td>6051</td>\n",
       "    </tr>\n",
       "    <tr>\n",
       "      <th>22</th>\n",
       "      <td>in</td>\n",
       "      <td>5967</td>\n",
       "    </tr>\n",
       "    <tr>\n",
       "      <th>23</th>\n",
       "      <td>market</td>\n",
       "      <td>5842</td>\n",
       "    </tr>\n",
       "    <tr>\n",
       "      <th>24</th>\n",
       "      <td>softwar</td>\n",
       "      <td>5507</td>\n",
       "    </tr>\n",
       "    <tr>\n",
       "      <th>25</th>\n",
       "      <td>offic</td>\n",
       "      <td>5087</td>\n",
       "    </tr>\n",
       "    <tr>\n",
       "      <th>26</th>\n",
       "      <td>chef</td>\n",
       "      <td>5079</td>\n",
       "    </tr>\n",
       "    <tr>\n",
       "      <th>27</th>\n",
       "      <td>care</td>\n",
       "      <td>4927</td>\n",
       "    </tr>\n",
       "    <tr>\n",
       "      <th>28</th>\n",
       "      <td>worker</td>\n",
       "      <td>4885</td>\n",
       "    </tr>\n",
       "    <tr>\n",
       "      <th>29</th>\n",
       "      <td>recruit</td>\n",
       "      <td>4827</td>\n",
       "    </tr>\n",
       "  </tbody>\n",
       "</table>\n",
       "</div>"
      ],
      "text/plain": [
       "         Word  Frequency\n",
       "0       manag      54152\n",
       "1       engin      26731\n",
       "2     develop      21242\n",
       "3        sale      19814\n",
       "4      senior      16987\n",
       "5      assist      12760\n",
       "6     account      12648\n",
       "7           k      11336\n",
       "8      execut      10976\n",
       "9     consult      10521\n",
       "10       busi      10083\n",
       "11     servic       9680\n",
       "12     london       9494\n",
       "13    analyst       9478\n",
       "14       nurs       8986\n",
       "15    support       8664\n",
       "16        and       8071\n",
       "17    project       7686\n",
       "18  administr       7090\n",
       "19     design       6960\n",
       "20    teacher       6307\n",
       "21          c       6051\n",
       "22         in       5967\n",
       "23     market       5842\n",
       "24    softwar       5507\n",
       "25      offic       5087\n",
       "26       chef       5079\n",
       "27       care       4927\n",
       "28     worker       4885\n",
       "29    recruit       4827"
      ]
     },
     "execution_count": 38,
     "metadata": {},
     "output_type": "execute_result"
    }
   ],
   "source": [
    "train_words_stats.sort_values(\"Frequency\", ascending=False).head(30)"
   ]
  },
  {
   "cell_type": "code",
   "execution_count": 39,
   "id": "9063da59",
   "metadata": {},
   "outputs": [
    {
     "data": {
      "text/html": [
       "<div>\n",
       "<style scoped>\n",
       "    .dataframe tbody tr th:only-of-type {\n",
       "        vertical-align: middle;\n",
       "    }\n",
       "\n",
       "    .dataframe tbody tr th {\n",
       "        vertical-align: top;\n",
       "    }\n",
       "\n",
       "    .dataframe thead th {\n",
       "        text-align: right;\n",
       "    }\n",
       "</style>\n",
       "<table border=\"1\" class=\"dataframe\">\n",
       "  <thead>\n",
       "    <tr style=\"text-align: right;\">\n",
       "      <th></th>\n",
       "      <th>Word</th>\n",
       "      <th>Frequency</th>\n",
       "    </tr>\n",
       "  </thead>\n",
       "  <tbody>\n",
       "    <tr>\n",
       "      <th>0</th>\n",
       "      <td>manag</td>\n",
       "      <td>27092</td>\n",
       "    </tr>\n",
       "    <tr>\n",
       "      <th>1</th>\n",
       "      <td>engin</td>\n",
       "      <td>13447</td>\n",
       "    </tr>\n",
       "    <tr>\n",
       "      <th>2</th>\n",
       "      <td>develop</td>\n",
       "      <td>10387</td>\n",
       "    </tr>\n",
       "    <tr>\n",
       "      <th>3</th>\n",
       "      <td>sale</td>\n",
       "      <td>9670</td>\n",
       "    </tr>\n",
       "    <tr>\n",
       "      <th>4</th>\n",
       "      <td>senior</td>\n",
       "      <td>8473</td>\n",
       "    </tr>\n",
       "    <tr>\n",
       "      <th>5</th>\n",
       "      <td>assist</td>\n",
       "      <td>6386</td>\n",
       "    </tr>\n",
       "    <tr>\n",
       "      <th>6</th>\n",
       "      <td>account</td>\n",
       "      <td>6316</td>\n",
       "    </tr>\n",
       "    <tr>\n",
       "      <th>7</th>\n",
       "      <td>k</td>\n",
       "      <td>5797</td>\n",
       "    </tr>\n",
       "    <tr>\n",
       "      <th>8</th>\n",
       "      <td>execut</td>\n",
       "      <td>5413</td>\n",
       "    </tr>\n",
       "    <tr>\n",
       "      <th>9</th>\n",
       "      <td>consult</td>\n",
       "      <td>5264</td>\n",
       "    </tr>\n",
       "    <tr>\n",
       "      <th>10</th>\n",
       "      <td>busi</td>\n",
       "      <td>4972</td>\n",
       "    </tr>\n",
       "    <tr>\n",
       "      <th>11</th>\n",
       "      <td>servic</td>\n",
       "      <td>4822</td>\n",
       "    </tr>\n",
       "    <tr>\n",
       "      <th>12</th>\n",
       "      <td>analyst</td>\n",
       "      <td>4782</td>\n",
       "    </tr>\n",
       "    <tr>\n",
       "      <th>13</th>\n",
       "      <td>london</td>\n",
       "      <td>4748</td>\n",
       "    </tr>\n",
       "    <tr>\n",
       "      <th>14</th>\n",
       "      <td>nurs</td>\n",
       "      <td>4485</td>\n",
       "    </tr>\n",
       "    <tr>\n",
       "      <th>15</th>\n",
       "      <td>support</td>\n",
       "      <td>4394</td>\n",
       "    </tr>\n",
       "    <tr>\n",
       "      <th>16</th>\n",
       "      <td>and</td>\n",
       "      <td>4047</td>\n",
       "    </tr>\n",
       "    <tr>\n",
       "      <th>17</th>\n",
       "      <td>project</td>\n",
       "      <td>3874</td>\n",
       "    </tr>\n",
       "    <tr>\n",
       "      <th>18</th>\n",
       "      <td>administr</td>\n",
       "      <td>3621</td>\n",
       "    </tr>\n",
       "    <tr>\n",
       "      <th>19</th>\n",
       "      <td>design</td>\n",
       "      <td>3476</td>\n",
       "    </tr>\n",
       "    <tr>\n",
       "      <th>20</th>\n",
       "      <td>teacher</td>\n",
       "      <td>3211</td>\n",
       "    </tr>\n",
       "    <tr>\n",
       "      <th>21</th>\n",
       "      <td>c</td>\n",
       "      <td>3089</td>\n",
       "    </tr>\n",
       "    <tr>\n",
       "      <th>22</th>\n",
       "      <td>in</td>\n",
       "      <td>3007</td>\n",
       "    </tr>\n",
       "    <tr>\n",
       "      <th>23</th>\n",
       "      <td>market</td>\n",
       "      <td>2916</td>\n",
       "    </tr>\n",
       "    <tr>\n",
       "      <th>24</th>\n",
       "      <td>softwar</td>\n",
       "      <td>2761</td>\n",
       "    </tr>\n",
       "    <tr>\n",
       "      <th>25</th>\n",
       "      <td>offic</td>\n",
       "      <td>2564</td>\n",
       "    </tr>\n",
       "    <tr>\n",
       "      <th>26</th>\n",
       "      <td>chef</td>\n",
       "      <td>2481</td>\n",
       "    </tr>\n",
       "    <tr>\n",
       "      <th>27</th>\n",
       "      <td>care</td>\n",
       "      <td>2464</td>\n",
       "    </tr>\n",
       "    <tr>\n",
       "      <th>28</th>\n",
       "      <td>worker</td>\n",
       "      <td>2433</td>\n",
       "    </tr>\n",
       "    <tr>\n",
       "      <th>29</th>\n",
       "      <td>advisor</td>\n",
       "      <td>2420</td>\n",
       "    </tr>\n",
       "  </tbody>\n",
       "</table>\n",
       "</div>"
      ],
      "text/plain": [
       "         Word  Frequency\n",
       "0       manag      27092\n",
       "1       engin      13447\n",
       "2     develop      10387\n",
       "3        sale       9670\n",
       "4      senior       8473\n",
       "5      assist       6386\n",
       "6     account       6316\n",
       "7           k       5797\n",
       "8      execut       5413\n",
       "9     consult       5264\n",
       "10       busi       4972\n",
       "11     servic       4822\n",
       "12    analyst       4782\n",
       "13     london       4748\n",
       "14       nurs       4485\n",
       "15    support       4394\n",
       "16        and       4047\n",
       "17    project       3874\n",
       "18  administr       3621\n",
       "19     design       3476\n",
       "20    teacher       3211\n",
       "21          c       3089\n",
       "22         in       3007\n",
       "23     market       2916\n",
       "24    softwar       2761\n",
       "25      offic       2564\n",
       "26       chef       2481\n",
       "27       care       2464\n",
       "28     worker       2433\n",
       "29    advisor       2420"
      ]
     },
     "execution_count": 39,
     "metadata": {},
     "output_type": "execute_result"
    }
   ],
   "source": [
    "test_words_stats.sort_values(\"Frequency\", ascending=False).head(30)"
   ]
  },
  {
   "cell_type": "markdown",
   "id": "6d7593ad",
   "metadata": {},
   "source": [
    "**NOTE:**  \n",
    "Analisando as palavras mais raras (min_df):"
   ]
  },
  {
   "cell_type": "code",
   "execution_count": 40,
   "id": "d5461c95",
   "metadata": {},
   "outputs": [
    {
     "data": {
      "text/html": [
       "<div>\n",
       "<style scoped>\n",
       "    .dataframe tbody tr th:only-of-type {\n",
       "        vertical-align: middle;\n",
       "    }\n",
       "\n",
       "    .dataframe tbody tr th {\n",
       "        vertical-align: top;\n",
       "    }\n",
       "\n",
       "    .dataframe thead th {\n",
       "        text-align: right;\n",
       "    }\n",
       "</style>\n",
       "<table border=\"1\" class=\"dataframe\">\n",
       "  <thead>\n",
       "    <tr style=\"text-align: right;\">\n",
       "      <th></th>\n",
       "      <th>Word</th>\n",
       "      <th>Frequency</th>\n",
       "    </tr>\n",
       "  </thead>\n",
       "  <tbody>\n",
       "    <tr>\n",
       "      <th>15021</th>\n",
       "      <td>mlnlyck</td>\n",
       "      <td>1</td>\n",
       "    </tr>\n",
       "    <tr>\n",
       "      <th>15001</th>\n",
       "      <td>omniscop</td>\n",
       "      <td>1</td>\n",
       "    </tr>\n",
       "    <tr>\n",
       "      <th>15020</th>\n",
       "      <td>hydrol</td>\n",
       "      <td>1</td>\n",
       "    </tr>\n",
       "    <tr>\n",
       "      <th>15019</th>\n",
       "      <td>techniciancivil</td>\n",
       "      <td>1</td>\n",
       "    </tr>\n",
       "    <tr>\n",
       "      <th>15018</th>\n",
       "      <td>improvemen</td>\n",
       "      <td>1</td>\n",
       "    </tr>\n",
       "    <tr>\n",
       "      <th>...</th>\n",
       "      <td>...</td>\n",
       "      <td>...</td>\n",
       "    </tr>\n",
       "    <tr>\n",
       "      <th>8841</th>\n",
       "      <td>progam</td>\n",
       "      <td>2</td>\n",
       "    </tr>\n",
       "    <tr>\n",
       "      <th>8840</th>\n",
       "      <td>nft</td>\n",
       "      <td>2</td>\n",
       "    </tr>\n",
       "    <tr>\n",
       "      <th>8839</th>\n",
       "      <td>managerbdm</td>\n",
       "      <td>2</td>\n",
       "    </tr>\n",
       "    <tr>\n",
       "      <th>8838</th>\n",
       "      <td>sunsystem</td>\n",
       "      <td>2</td>\n",
       "    </tr>\n",
       "    <tr>\n",
       "      <th>8837</th>\n",
       "      <td>isr</td>\n",
       "      <td>2</td>\n",
       "    </tr>\n",
       "  </tbody>\n",
       "</table>\n",
       "<p>6000 rows × 2 columns</p>\n",
       "</div>"
      ],
      "text/plain": [
       "                  Word  Frequency\n",
       "15021          mlnlyck          1\n",
       "15001         omniscop          1\n",
       "15020           hydrol          1\n",
       "15019  techniciancivil          1\n",
       "15018       improvemen          1\n",
       "...                ...        ...\n",
       "8841            progam          2\n",
       "8840               nft          2\n",
       "8839        managerbdm          2\n",
       "8838         sunsystem          2\n",
       "8837               isr          2\n",
       "\n",
       "[6000 rows x 2 columns]"
      ]
     },
     "execution_count": 40,
     "metadata": {},
     "output_type": "execute_result"
    }
   ],
   "source": [
    "train_words_stats.sort_values(\"Frequency\", ascending=True).head(6000)"
   ]
  },
  {
   "cell_type": "code",
   "execution_count": 41,
   "id": "42d382fb",
   "metadata": {},
   "outputs": [
    {
     "data": {
      "text/html": [
       "<div>\n",
       "<style scoped>\n",
       "    .dataframe tbody tr th:only-of-type {\n",
       "        vertical-align: middle;\n",
       "    }\n",
       "\n",
       "    .dataframe tbody tr th {\n",
       "        vertical-align: top;\n",
       "    }\n",
       "\n",
       "    .dataframe thead th {\n",
       "        text-align: right;\n",
       "    }\n",
       "</style>\n",
       "<table border=\"1\" class=\"dataframe\">\n",
       "  <thead>\n",
       "    <tr style=\"text-align: right;\">\n",
       "      <th></th>\n",
       "      <th>Word</th>\n",
       "      <th>Frequency</th>\n",
       "    </tr>\n",
       "  </thead>\n",
       "  <tbody>\n",
       "    <tr>\n",
       "      <th>11229</th>\n",
       "      <td>latent</td>\n",
       "      <td>1</td>\n",
       "    </tr>\n",
       "    <tr>\n",
       "      <th>11213</th>\n",
       "      <td>_graduat</td>\n",
       "      <td>1</td>\n",
       "    </tr>\n",
       "    <tr>\n",
       "      <th>11222</th>\n",
       "      <td>javascriptperm</td>\n",
       "      <td>1</td>\n",
       "    </tr>\n",
       "    <tr>\n",
       "      <th>11228</th>\n",
       "      <td>reimburs</td>\n",
       "      <td>1</td>\n",
       "    </tr>\n",
       "    <tr>\n",
       "      <th>11227</th>\n",
       "      <td>replac</td>\n",
       "      <td>1</td>\n",
       "    </tr>\n",
       "    <tr>\n",
       "      <th>...</th>\n",
       "      <td>...</td>\n",
       "      <td>...</td>\n",
       "    </tr>\n",
       "    <tr>\n",
       "      <th>6460</th>\n",
       "      <td>wadhurst</td>\n",
       "      <td>2</td>\n",
       "    </tr>\n",
       "    <tr>\n",
       "      <th>6556</th>\n",
       "      <td>dive</td>\n",
       "      <td>2</td>\n",
       "    </tr>\n",
       "    <tr>\n",
       "      <th>6558</th>\n",
       "      <td>arzneimittelsicherheit</td>\n",
       "      <td>2</td>\n",
       "    </tr>\n",
       "    <tr>\n",
       "      <th>6541</th>\n",
       "      <td>portrush</td>\n",
       "      <td>2</td>\n",
       "    </tr>\n",
       "    <tr>\n",
       "      <th>6553</th>\n",
       "      <td>wallet</td>\n",
       "      <td>2</td>\n",
       "    </tr>\n",
       "  </tbody>\n",
       "</table>\n",
       "<p>6000 rows × 2 columns</p>\n",
       "</div>"
      ],
      "text/plain": [
       "                         Word  Frequency\n",
       "11229                  latent          1\n",
       "11213                _graduat          1\n",
       "11222          javascriptperm          1\n",
       "11228                reimburs          1\n",
       "11227                  replac          1\n",
       "...                       ...        ...\n",
       "6460                 wadhurst          2\n",
       "6556                     dive          2\n",
       "6558   arzneimittelsicherheit          2\n",
       "6541                 portrush          2\n",
       "6553                   wallet          2\n",
       "\n",
       "[6000 rows x 2 columns]"
      ]
     },
     "execution_count": 41,
     "metadata": {},
     "output_type": "execute_result"
    }
   ],
   "source": [
    "test_words_stats.sort_values(\"Frequency\", ascending=True).head(6000)"
   ]
  },
  {
   "cell_type": "markdown",
   "id": "6c3553ff",
   "metadata": {},
   "source": [
    "### Vetorizando com TfidfVectorizer:"
   ]
  },
  {
   "cell_type": "code",
   "execution_count": 42,
   "id": "b8545cf0",
   "metadata": {},
   "outputs": [
    {
     "name": "stdout",
     "output_type": "stream",
     "text": [
      "DataFrame Vectorized!\n",
      "Method runtime: 0:00:04.227998\n"
     ]
    }
   ],
   "source": [
    "df_title_train_vectorized = preprocessing.apply_tfidf_vectorizer(df_title_train[\"processed_title\"], max_df=0.60, min_df=0.05)"
   ]
  },
  {
   "cell_type": "code",
   "execution_count": 43,
   "id": "f536ba7d",
   "metadata": {},
   "outputs": [
    {
     "data": {
      "text/plain": [
       "<244768x7 sparse matrix of type '<class 'numpy.float64'>'\n",
       "\twith 160292 stored elements in Compressed Sparse Row format>"
      ]
     },
     "execution_count": 43,
     "metadata": {},
     "output_type": "execute_result"
    }
   ],
   "source": [
    "df_title_train_vectorized"
   ]
  },
  {
   "cell_type": "code",
   "execution_count": 44,
   "id": "7d5808c4",
   "metadata": {},
   "outputs": [
    {
     "name": "stdout",
     "output_type": "stream",
     "text": [
      "DataFrame Vectorized!\n",
      "Method runtime: 0:00:01.996416\n"
     ]
    }
   ],
   "source": [
    "df_title_test_vectorized = preprocessing.apply_tfidf_vectorizer(df_title_test[\"processed_title\"], max_df=0.60, min_df=0.05)"
   ]
  },
  {
   "cell_type": "code",
   "execution_count": 45,
   "id": "06d1f7d0",
   "metadata": {},
   "outputs": [
    {
     "data": {
      "text/plain": [
       "<122463x7 sparse matrix of type '<class 'numpy.float64'>'\n",
       "\twith 79802 stored elements in Compressed Sparse Row format>"
      ]
     },
     "execution_count": 45,
     "metadata": {},
     "output_type": "execute_result"
    }
   ],
   "source": [
    "df_title_test_vectorized"
   ]
  },
  {
   "cell_type": "markdown",
   "id": "261a67cc",
   "metadata": {},
   "source": [
    "---"
   ]
  },
  {
   "cell_type": "markdown",
   "id": "ae008cd4",
   "metadata": {},
   "source": [
    "## 03.3 - Pré-Processando a coluna (feature) \"SalaryNormalized\"\n",
    "> Tem o mesmo significado da coluna **\"SalaryRaw\"**, porém a **Adzuna** normalizou os dados para ser representado de forma anualizado - Essa é a variável **target**."
   ]
  },
  {
   "cell_type": "markdown",
   "id": "56bcd3ce",
   "metadata": {},
   "source": [
    "**NOTE:**  \n",
    "Por hora, vamos trabalhar com ela do jeito que está normalizada pelo a **Adzuna** ignorando se a mesma realmente fez um bom trabalho. O objetivo dessa abordagem vai ser ter algo disponível para a etapa de **treinamento** e **validação** trabalhar o mais rápido possível."
   ]
  },
  {
   "cell_type": "markdown",
   "id": "0b2b3504",
   "metadata": {},
   "source": [
    "---"
   ]
  },
  {
   "cell_type": "markdown",
   "id": "79fcc970",
   "metadata": {},
   "source": [
    "# 04 - Load\n",
    "> A etapa de **load** vai ser responsável por salvar os dados já ***Pré-Processados*** por uma ou mais colunas (features).\n",
    "\n",
    "**NOTE:**  \n",
    "Essa etapa segue uma lógica incremental, onde, em cada iteração **(Load-v1, Load-v2,..., Load-vn)** nós vamos salvando os dados já manipulados com objetivo de encontrar uma melhor métrica ou modelagem dos dados."
   ]
  },
  {
   "cell_type": "markdown",
   "id": "fc429be6",
   "metadata": {},
   "source": [
    "---"
   ]
  },
  {
   "cell_type": "markdown",
   "id": "cd31c187",
   "metadata": {},
   "source": [
    "## 04.1 - Load-v1\n",
    "Para esse 1° **Load** vamos começar com as colunas (features) mais simples possíveis, que são:\n",
    " - **Title** como variável **independente**:\n",
    "   - Essa variável também foi *Pré-Processada* nos dados de *teste*.\n",
    " - **SalaryNormalized** como variável **dependente**.\n",
    "\n",
    "**NOTE:**  \n",
    "Eu escolhi essas colunas (features), pois, já receberam algum **Pré-Processamento básico** (o que não significa que mudanças possam ser feitas)."
   ]
  },
  {
   "cell_type": "markdown",
   "id": "4e9d09c8",
   "metadata": {},
   "source": [
    "### Salvando a Matriz esparsa \"df_title_vectorized\" (resultado do Pré-Processamento da feature Title):\n",
    "Primeiro, vamos salvar o resultado do **Pré-Processamento** na coluna (feature) **Title**."
   ]
  },
  {
   "cell_type": "code",
   "execution_count": 46,
   "id": "b83f16eb",
   "metadata": {},
   "outputs": [
    {
     "name": "stdout",
     "output_type": "stream",
     "text": [
      "Feature saved!\n"
     ]
    }
   ],
   "source": [
    "preprocessing.save_feature(feature_name=\"df_title_train_vectorized\", feature=df_title_train_vectorized)"
   ]
  },
  {
   "cell_type": "code",
   "execution_count": 47,
   "id": "b978eb33",
   "metadata": {},
   "outputs": [
    {
     "name": "stdout",
     "output_type": "stream",
     "text": [
      "Feature saved!\n"
     ]
    }
   ],
   "source": [
    "preprocessing.save_feature(feature_name=\"df_title_test_vectorized\", feature=df_title_test_vectorized)"
   ]
  },
  {
   "cell_type": "markdown",
   "id": "21e8ed3a",
   "metadata": {},
   "source": [
    "### SalaryNormalized:\n",
    "Para coluna (feature) **\"SalaryNormalized\"** nós vamos pegar ela na hora do treinamento do modelo visto que alterações não foram feitas."
   ]
  },
  {
   "cell_type": "markdown",
   "id": "0f3de0c3",
   "metadata": {},
   "source": [
    "---"
   ]
  },
  {
   "cell_type": "markdown",
   "id": "211df7e7",
   "metadata": {},
   "source": [
    "# Resumos\n",
    "\n",
    " - **Load-v1:**\n",
    "   - No *Load-v1* foi *Pré-Processada* a coluna (features) *Title*:\n",
    "     - Essa variável também foi *Pré-Processada* nos dados de *teste*.\n",
    "   - A coluna (feature) *Title* foi vetorizada com CountVectorizer com os seguintes argumentos:\n",
    "     - stop_words=\"english\"\n",
    "     - max_df=0.60 (Ignores terms that appear in MORE than 60% of documents)\n",
    "     - min_df=0.05 (Ignores terms that appear in LESS than 5% of documents)\n",
    "   - Também foi utilizada a coluna (feature) *SalaryNormalized* que já havia sido normalizada pelo a *Adzuna*.\n",
    "   - O objetivo era ter *features* o mais rápido possível disponíveis para a etapa de *Modelagem & Validação*.\n"
   ]
  },
  {
   "cell_type": "markdown",
   "id": "b2f1a7fb",
   "metadata": {},
   "source": [
    "**Rodrigo Leite -** *drigols*"
   ]
  }
 ],
 "metadata": {
  "kernelspec": {
   "display_name": "Python 3",
   "language": "python",
   "name": "python3"
  },
  "language_info": {
   "codemirror_mode": {
    "name": "ipython",
    "version": 3
   },
   "file_extension": ".py",
   "mimetype": "text/x-python",
   "name": "python",
   "nbconvert_exporter": "python",
   "pygments_lexer": "ipython3",
   "version": "3.8.8"
  }
 },
 "nbformat": 4,
 "nbformat_minor": 5
}
