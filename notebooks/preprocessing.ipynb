{
 "cells": [
  {
   "cell_type": "markdown",
   "id": "d5f27968",
   "metadata": {},
   "source": [
    "# Pré-Processamento\n",
    "Esse **Jupyter Notebook** tem como objetivo aplicar um **Pré-Processamento** no conjunto de dados (ou em parte dele)."
   ]
  },
  {
   "cell_type": "markdown",
   "id": "2d5c407c",
   "metadata": {},
   "source": [
    "# Resumo da Análise preliminar\n",
    "Na etapa anterior foi feita uma breve análise do conjunto de dados. O **resumo** dessa análise foi o seguinte:\n",
    "\n",
    " - Temos um grande conjunto de dados para trabalharmos:\n",
    "   - Com 244.768 amostras e 12 colunas (features).\n",
    " - Porém, vai ser necessário um Pré-Processamento na maior parte das colunas, devido o fato das colunas serem representadas por textos (informações).\n",
    " - Algumas colunas estão com muitos dados faltantes, principalmente a **ContractType** que tem **73%** dos dados faltantes."
   ]
  },
  {
   "cell_type": "markdown",
   "id": "bdf030e9",
   "metadata": {},
   "source": [
    "# 01 - Baixando, Importando & Configurações iniciais"
   ]
  },
  {
   "cell_type": "markdown",
   "id": "d794822c",
   "metadata": {},
   "source": [
    "Vamos começar baixando as bibliotecas necessárias (Eu já tenho todas baixadas no meu ambiente virtual mas você pode remover o comentário e baixar para sua máquina local ou Ambiente Virtual):"
   ]
  },
  {
   "cell_type": "code",
   "execution_count": 1,
   "id": "eb1a8029",
   "metadata": {},
   "outputs": [],
   "source": [
    "# !pip install --upgrade -r ../requirements.txt"
   ]
  },
  {
   "cell_type": "markdown",
   "id": "008fbd75",
   "metadata": {},
   "source": [
    "Agora vamos importar as bibliotecas necessárias:"
   ]
  },
  {
   "cell_type": "code",
   "execution_count": 2,
   "id": "84fb1624",
   "metadata": {},
   "outputs": [],
   "source": [
    "import pandas as pd\n",
    "import py7zr"
   ]
  },
  {
   "cell_type": "markdown",
   "id": "c56bb743",
   "metadata": {},
   "source": [
    "Agora vamos extrair o conjunto de dados:"
   ]
  },
  {
   "cell_type": "code",
   "execution_count": 3,
   "id": "7992c6a7",
   "metadata": {},
   "outputs": [],
   "source": [
    "with py7zr.SevenZipFile(\"../datasets/Train_rev1.7z\", mode='r') as archive:\n",
    "  archive.extractall(path=\"/tmp\") # For Linux users."
   ]
  },
  {
   "cell_type": "markdown",
   "id": "1ecfedbb",
   "metadata": {},
   "source": [
    "**NOTE:**  \n",
    "Como é conjunto de dados é muito grande resolvi baixar a versão mais comprimida **.7z**. Optei também por descomprimir o conjunto de dados em um local temporário (diretório **/temp** no meu caso que estou utilizando Linux / Como se fosse uma **Staging Area**)."
   ]
  },
  {
   "cell_type": "markdown",
   "id": "aff567a6",
   "metadata": {},
   "source": [
    "**Configurando o tamanho das saídas (outputs):**  \n",
    "Antes de iniciarmos nossa análise vamos configurar o Pandas para exibir todo o conteúdo por amostra:"
   ]
  },
  {
   "cell_type": "code",
   "execution_count": 4,
   "id": "3f142e90",
   "metadata": {},
   "outputs": [],
   "source": [
    "pd.options.display.max_colwidth = 100000"
   ]
  },
  {
   "cell_type": "markdown",
   "id": "c0243092",
   "metadata": {},
   "source": [
    "Por fim, vamos pegar o conjunto de dados baixado:"
   ]
  },
  {
   "cell_type": "code",
   "execution_count": 5,
   "id": "cfabeb6b",
   "metadata": {},
   "outputs": [],
   "source": [
    "full_df = pd.read_csv(\"/tmp/Train_rev1.csv\")"
   ]
  },
  {
   "cell_type": "markdown",
   "id": "0790c756",
   "metadata": {},
   "source": [
    "# 02 - Visão geral (overview) do conjunto de dados\n",
    "Vamos começar com uma visão geral (overview) dos dados"
   ]
  },
  {
   "cell_type": "code",
   "execution_count": 6,
   "id": "d4116c0d",
   "metadata": {
    "scrolled": true
   },
   "outputs": [
    {
     "name": "stdout",
     "output_type": "stream",
     "text": [
      "<class 'pandas.core.frame.DataFrame'>\n",
      "RangeIndex: 244768 entries, 0 to 244767\n",
      "Data columns (total 12 columns):\n",
      " #   Column              Non-Null Count   Dtype \n",
      "---  ------              --------------   ----- \n",
      " 0   Id                  244768 non-null  int64 \n",
      " 1   Title               244767 non-null  object\n",
      " 2   FullDescription     244768 non-null  object\n",
      " 3   LocationRaw         244768 non-null  object\n",
      " 4   LocationNormalized  244768 non-null  object\n",
      " 5   ContractType        65442 non-null   object\n",
      " 6   ContractTime        180863 non-null  object\n",
      " 7   Company             212338 non-null  object\n",
      " 8   Category            244768 non-null  object\n",
      " 9   SalaryRaw           244768 non-null  object\n",
      " 10  SalaryNormalized    244768 non-null  int64 \n",
      " 11  SourceName          244767 non-null  object\n",
      "dtypes: int64(2), object(10)\n",
      "memory usage: 22.4+ MB\n"
     ]
    },
    {
     "data": {
      "text/html": [
       "<div>\n",
       "<style scoped>\n",
       "    .dataframe tbody tr th:only-of-type {\n",
       "        vertical-align: middle;\n",
       "    }\n",
       "\n",
       "    .dataframe tbody tr th {\n",
       "        vertical-align: top;\n",
       "    }\n",
       "\n",
       "    .dataframe thead th {\n",
       "        text-align: right;\n",
       "    }\n",
       "</style>\n",
       "<table border=\"1\" class=\"dataframe\">\n",
       "  <thead>\n",
       "    <tr style=\"text-align: right;\">\n",
       "      <th></th>\n",
       "      <th>Id</th>\n",
       "      <th>Title</th>\n",
       "      <th>FullDescription</th>\n",
       "      <th>LocationRaw</th>\n",
       "      <th>LocationNormalized</th>\n",
       "      <th>ContractType</th>\n",
       "      <th>ContractTime</th>\n",
       "      <th>Company</th>\n",
       "      <th>Category</th>\n",
       "      <th>SalaryRaw</th>\n",
       "      <th>SalaryNormalized</th>\n",
       "      <th>SourceName</th>\n",
       "    </tr>\n",
       "  </thead>\n",
       "  <tbody>\n",
       "    <tr>\n",
       "      <th>0</th>\n",
       "      <td>12612628</td>\n",
       "      <td>Engineering Systems Analyst</td>\n",
       "      <td>Engineering Systems Analyst Dorking Surrey Salary ****K Our client is located in Dorking, Surrey and are looking for Engineering Systems Analyst our client provides specialist software development Keywords Mathematical Modelling, Risk Analysis, System Modelling, Optimisation, MISER, PIONEEER Engineering Systems Analyst Dorking Surrey Salary ****K</td>\n",
       "      <td>Dorking, Surrey, Surrey</td>\n",
       "      <td>Dorking</td>\n",
       "      <td>NaN</td>\n",
       "      <td>permanent</td>\n",
       "      <td>Gregory Martin International</td>\n",
       "      <td>Engineering Jobs</td>\n",
       "      <td>20000 - 30000/annum 20-30K</td>\n",
       "      <td>25000</td>\n",
       "      <td>cv-library.co.uk</td>\n",
       "    </tr>\n",
       "    <tr>\n",
       "      <th>1</th>\n",
       "      <td>12612830</td>\n",
       "      <td>Stress Engineer Glasgow</td>\n",
       "      <td>Stress Engineer Glasgow Salary **** to **** We re currently looking for talented engineers to join our growing Glasgow team at a variety of levels. The roles are ideally suited to high calibre engineering graduates with any level of appropriate experience, so that we can give you the opportunity to use your technical skills to provide high quality input to our aerospace projects, spanning both aerostructures and aeroengines. In return, you can expect good career opportunities and the chance for advancement and personal and professional development, support while you gain Chartership and some opportunities to possibly travel or work in other offices, in or outside of the UK. The Requirements You will need to have a good engineering degree that includes structural analysis (such as aeronautical, mechanical, automotive, civil) with some experience in a professional engineering environment relevant to (but not limited to) the aerospace sector. You will need to demonstrate experience in at least one or more of the following areas: Structural/stress analysis Composite stress analysis (any industry) Linear and nonlinear finite element analysis Fatigue and damage tolerance Structural dynamics Thermal analysis Aerostructures experience You will also be expected to demonstrate the following qualities: A strong desire to progress quickly to a position of leadership Professional approach Strong communication skills, written and verbal Commercial awareness Team working, being comfortable working in international teams and self managing PLEASE NOTE SECURITY CLEARANCE IS REQUIRED FOR THIS ROLE Stress Engineer Glasgow Salary **** to ****</td>\n",
       "      <td>Glasgow, Scotland, Scotland</td>\n",
       "      <td>Glasgow</td>\n",
       "      <td>NaN</td>\n",
       "      <td>permanent</td>\n",
       "      <td>Gregory Martin International</td>\n",
       "      <td>Engineering Jobs</td>\n",
       "      <td>25000 - 35000/annum 25-35K</td>\n",
       "      <td>30000</td>\n",
       "      <td>cv-library.co.uk</td>\n",
       "    </tr>\n",
       "    <tr>\n",
       "      <th>2</th>\n",
       "      <td>12612844</td>\n",
       "      <td>Modelling and simulation analyst</td>\n",
       "      <td>Mathematical Modeller / Simulation Analyst / Operational Analyst Basingstoke, Hampshire Up to ****K AAE pension contribution, private medical and dental The opportunity Our client is an independent consultancy firm which has an opportunity for a Data Analyst with 35 years experience. The role will require the successful candidate to demonstrate their ability to analyse a problem and arrive at a solution, with varying levels of data being available. Essential skills Thorough knowledge of Excel and proven ability to utilise this to create powerful decision support models Experience in Modelling and Simulation Techniques, Experience of techniques such as Discrete Event Simulation and/or SD modelling Mathematical/scientific background  minimum degree qualified Proven analytical and problem solving skills Self Starter Ability to develop solid working relationships In addition to formal qualifications and experience, the successful candidate will require excellent written and verbal communication skills, be energetic, enterprising and have a determination to succeed. They will be required to build solid working relationships, both internally with colleagues and, most importantly, externally with our clients. They must be comfortable working independently to deliver against challenging client demands. The offices are located in Basingstoke, Hampshire, but our client work for clients worldwide. The successful candidate must therefore be prepared to undertake work at client sites for short periods of time. Physics, Mathematics, Modelling, Simulation, Analytical, Operational Research, Mathematical Modelling Mathematical Modeller / Simulation Analyst / Operational Analyst Basingstoke, Hampshire ****K AAE pension contribution, private medical and dental</td>\n",
       "      <td>Hampshire, South East, South East</td>\n",
       "      <td>Hampshire</td>\n",
       "      <td>NaN</td>\n",
       "      <td>permanent</td>\n",
       "      <td>Gregory Martin International</td>\n",
       "      <td>Engineering Jobs</td>\n",
       "      <td>20000 - 40000/annum 20-40K</td>\n",
       "      <td>30000</td>\n",
       "      <td>cv-library.co.uk</td>\n",
       "    </tr>\n",
       "    <tr>\n",
       "      <th>3</th>\n",
       "      <td>12613049</td>\n",
       "      <td>Engineering Systems Analyst / Mathematical Modeller</td>\n",
       "      <td>Engineering Systems Analyst / Mathematical Modeller. Our client is a highly successful and respected Consultancy providing specialist software development MISER, PIONEER, Maths, Mathematical, Optimisation, Risk Analysis, Asset Management, Water Industry, Access, Excel, VBA, SQL, Systems . Engineering Systems Analyst / Mathematical Modeller. Salary  ****K****K negotiable Location Dorking, Surrey</td>\n",
       "      <td>Surrey, South East, South East</td>\n",
       "      <td>Surrey</td>\n",
       "      <td>NaN</td>\n",
       "      <td>permanent</td>\n",
       "      <td>Gregory Martin International</td>\n",
       "      <td>Engineering Jobs</td>\n",
       "      <td>25000 - 30000/annum 25K-30K negotiable</td>\n",
       "      <td>27500</td>\n",
       "      <td>cv-library.co.uk</td>\n",
       "    </tr>\n",
       "    <tr>\n",
       "      <th>4</th>\n",
       "      <td>12613647</td>\n",
       "      <td>Pioneer, Miser Engineering Systems Analyst</td>\n",
       "      <td>Pioneer, Miser  Engineering Systems Analyst Dorking  Surrey Salary ****K Located in Surrey, our client provides specialist software development Pioneer, Miser  Engineering Systems Analyst Dorking  Surrey Salary ****K</td>\n",
       "      <td>Surrey, South East, South East</td>\n",
       "      <td>Surrey</td>\n",
       "      <td>NaN</td>\n",
       "      <td>permanent</td>\n",
       "      <td>Gregory Martin International</td>\n",
       "      <td>Engineering Jobs</td>\n",
       "      <td>20000 - 30000/annum 20-30K</td>\n",
       "      <td>25000</td>\n",
       "      <td>cv-library.co.uk</td>\n",
       "    </tr>\n",
       "  </tbody>\n",
       "</table>\n",
       "</div>"
      ],
      "text/plain": [
       "         Id                                                Title  \\\n",
       "0  12612628                          Engineering Systems Analyst   \n",
       "1  12612830                              Stress Engineer Glasgow   \n",
       "2  12612844                     Modelling and simulation analyst   \n",
       "3  12613049  Engineering Systems Analyst / Mathematical Modeller   \n",
       "4  12613647           Pioneer, Miser Engineering Systems Analyst   \n",
       "\n",
       "                                                                                                                                                                                                                                                                                                                                                                                                                                                                                                                                                                                                                                                                                                                                                                                                                                                                                                                                                                                                                                                                                                                                                                                                                                                                                                                                                                                                                                                                                                                                                                                                                                                                                                                                                                                                                               FullDescription  \\\n",
       "0                                                                                                                                                                                                                                                                                                                                                                                                                                                                                                                                                                                                                                                                                                                                                                                                                                                                                                                                                                                                                                                                                                                                                                                                                                                                                                                                                                                                                                                                                 Engineering Systems Analyst Dorking Surrey Salary ****K Our client is located in Dorking, Surrey and are looking for Engineering Systems Analyst our client provides specialist software development Keywords Mathematical Modelling, Risk Analysis, System Modelling, Optimisation, MISER, PIONEEER Engineering Systems Analyst Dorking Surrey Salary ****K   \n",
       "1                                                                                                                            Stress Engineer Glasgow Salary **** to **** We re currently looking for talented engineers to join our growing Glasgow team at a variety of levels. The roles are ideally suited to high calibre engineering graduates with any level of appropriate experience, so that we can give you the opportunity to use your technical skills to provide high quality input to our aerospace projects, spanning both aerostructures and aeroengines. In return, you can expect good career opportunities and the chance for advancement and personal and professional development, support while you gain Chartership and some opportunities to possibly travel or work in other offices, in or outside of the UK. The Requirements You will need to have a good engineering degree that includes structural analysis (such as aeronautical, mechanical, automotive, civil) with some experience in a professional engineering environment relevant to (but not limited to) the aerospace sector. You will need to demonstrate experience in at least one or more of the following areas: Structural/stress analysis Composite stress analysis (any industry) Linear and nonlinear finite element analysis Fatigue and damage tolerance Structural dynamics Thermal analysis Aerostructures experience You will also be expected to demonstrate the following qualities: A strong desire to progress quickly to a position of leadership Professional approach Strong communication skills, written and verbal Commercial awareness Team working, being comfortable working in international teams and self managing PLEASE NOTE SECURITY CLEARANCE IS REQUIRED FOR THIS ROLE Stress Engineer Glasgow Salary **** to ****   \n",
       "2  Mathematical Modeller / Simulation Analyst / Operational Analyst Basingstoke, Hampshire Up to ****K AAE pension contribution, private medical and dental The opportunity Our client is an independent consultancy firm which has an opportunity for a Data Analyst with 35 years experience. The role will require the successful candidate to demonstrate their ability to analyse a problem and arrive at a solution, with varying levels of data being available. Essential skills Thorough knowledge of Excel and proven ability to utilise this to create powerful decision support models Experience in Modelling and Simulation Techniques, Experience of techniques such as Discrete Event Simulation and/or SD modelling Mathematical/scientific background  minimum degree qualified Proven analytical and problem solving skills Self Starter Ability to develop solid working relationships In addition to formal qualifications and experience, the successful candidate will require excellent written and verbal communication skills, be energetic, enterprising and have a determination to succeed. They will be required to build solid working relationships, both internally with colleagues and, most importantly, externally with our clients. They must be comfortable working independently to deliver against challenging client demands. The offices are located in Basingstoke, Hampshire, but our client work for clients worldwide. The successful candidate must therefore be prepared to undertake work at client sites for short periods of time. Physics, Mathematics, Modelling, Simulation, Analytical, Operational Research, Mathematical Modelling Mathematical Modeller / Simulation Analyst / Operational Analyst Basingstoke, Hampshire ****K AAE pension contribution, private medical and dental   \n",
       "3                                                                                                                                                                                                                                                                                                                                                                                                                                                                                                                                                                                                                                                                                                                                                                                                                                                                                                                                                                                                                                                                                                                                                                                                                                                                                                                                                                                                                                Engineering Systems Analyst / Mathematical Modeller. Our client is a highly successful and respected Consultancy providing specialist software development MISER, PIONEER, Maths, Mathematical, Optimisation, Risk Analysis, Asset Management, Water Industry, Access, Excel, VBA, SQL, Systems . Engineering Systems Analyst / Mathematical Modeller. Salary  ****K****K negotiable Location Dorking, Surrey   \n",
       "4                                                                                                                                                                                                                                                                                                                                                                                                                                                                                                                                                                                                                                                                                                                                                                                                                                                                                                                                                                                                                                                                                                                                                                                                                                                                                                                                                                                                                                                                                                                                                                                                                     Pioneer, Miser  Engineering Systems Analyst Dorking  Surrey Salary ****K Located in Surrey, our client provides specialist software development Pioneer, Miser  Engineering Systems Analyst Dorking  Surrey Salary ****K   \n",
       "\n",
       "                         LocationRaw LocationNormalized ContractType  \\\n",
       "0            Dorking, Surrey, Surrey            Dorking          NaN   \n",
       "1        Glasgow, Scotland, Scotland            Glasgow          NaN   \n",
       "2  Hampshire, South East, South East          Hampshire          NaN   \n",
       "3     Surrey, South East, South East             Surrey          NaN   \n",
       "4     Surrey, South East, South East             Surrey          NaN   \n",
       "\n",
       "  ContractTime                       Company          Category  \\\n",
       "0    permanent  Gregory Martin International  Engineering Jobs   \n",
       "1    permanent  Gregory Martin International  Engineering Jobs   \n",
       "2    permanent  Gregory Martin International  Engineering Jobs   \n",
       "3    permanent  Gregory Martin International  Engineering Jobs   \n",
       "4    permanent  Gregory Martin International  Engineering Jobs   \n",
       "\n",
       "                                SalaryRaw  SalaryNormalized        SourceName  \n",
       "0              20000 - 30000/annum 20-30K             25000  cv-library.co.uk  \n",
       "1              25000 - 35000/annum 25-35K             30000  cv-library.co.uk  \n",
       "2              20000 - 40000/annum 20-40K             30000  cv-library.co.uk  \n",
       "3  25000 - 30000/annum 25K-30K negotiable             27500  cv-library.co.uk  \n",
       "4              20000 - 30000/annum 20-30K             25000  cv-library.co.uk  "
      ]
     },
     "execution_count": 6,
     "metadata": {},
     "output_type": "execute_result"
    }
   ],
   "source": [
    "full_df.info()\n",
    "full_df.head()"
   ]
  },
  {
   "cell_type": "markdown",
   "id": "2d709963",
   "metadata": {},
   "source": [
    "# 03 - Aplicando Pré-Processamento nas colunas (features)\n",
    "Bem, nessa etapa vamos aplicar um **Pré-Processamento** em cada coluna individualmente."
   ]
  },
  {
   "cell_type": "markdown",
   "id": "5edaf640",
   "metadata": {},
   "source": [
    "---"
   ]
  },
  {
   "cell_type": "markdown",
   "id": "6c012dde",
   "metadata": {},
   "source": [
    "## 03.1 - Pré-Processando a coluna (feature) \"Id\"\n",
    "> Essa coluna (feature) não vai precisar ser Pré-Processada. Como nós sabemos é apenas o identificado único de cada amostra."
   ]
  },
  {
   "cell_type": "code",
   "execution_count": 8,
   "id": "a7d96192",
   "metadata": {},
   "outputs": [
    {
     "data": {
      "text/plain": [
       "0    12612628\n",
       "1    12612830\n",
       "2    12612844\n",
       "3    12613049\n",
       "4    12613647\n",
       "Name: Id, dtype: int64"
      ]
     },
     "execution_count": 8,
     "metadata": {},
     "output_type": "execute_result"
    }
   ],
   "source": [
    "full_df['Id'].head()"
   ]
  },
  {
   "cell_type": "markdown",
   "id": "f4245fcc",
   "metadata": {},
   "source": [
    "---"
   ]
  },
  {
   "cell_type": "markdown",
   "id": "cba6cd8e",
   "metadata": {},
   "source": [
    "## 03.2 - Pré-Processando a coluna (feature) \"Title\"\n",
    "> Resumidamente, o **Title** é o resumo do *cargo* ou *função*."
   ]
  },
  {
   "cell_type": "markdown",
   "id": "5543d839",
   "metadata": {},
   "source": [
    "### Preparando e colocando o tipo de dado mais adequado na *coluna (feature)* \"title\":"
   ]
  },
  {
   "cell_type": "code",
   "execution_count": 9,
   "id": "f3e3c349",
   "metadata": {
    "scrolled": true
   },
   "outputs": [
    {
     "name": "stdout",
     "output_type": "stream",
     "text": [
      "<class 'pandas.core.frame.DataFrame'>\n",
      "RangeIndex: 244768 entries, 0 to 244767\n",
      "Data columns (total 1 columns):\n",
      " #   Column  Non-Null Count   Dtype \n",
      "---  ------  --------------   ----- \n",
      " 0   Title   244767 non-null  string\n",
      "dtypes: string(1)\n",
      "memory usage: 1.9 MB\n"
     ]
    },
    {
     "data": {
      "text/html": [
       "<div>\n",
       "<style scoped>\n",
       "    .dataframe tbody tr th:only-of-type {\n",
       "        vertical-align: middle;\n",
       "    }\n",
       "\n",
       "    .dataframe tbody tr th {\n",
       "        vertical-align: top;\n",
       "    }\n",
       "\n",
       "    .dataframe thead th {\n",
       "        text-align: right;\n",
       "    }\n",
       "</style>\n",
       "<table border=\"1\" class=\"dataframe\">\n",
       "  <thead>\n",
       "    <tr style=\"text-align: right;\">\n",
       "      <th></th>\n",
       "      <th>Title</th>\n",
       "    </tr>\n",
       "  </thead>\n",
       "  <tbody>\n",
       "    <tr>\n",
       "      <th>0</th>\n",
       "      <td>Engineering Systems Analyst</td>\n",
       "    </tr>\n",
       "    <tr>\n",
       "      <th>1</th>\n",
       "      <td>Stress Engineer Glasgow</td>\n",
       "    </tr>\n",
       "    <tr>\n",
       "      <th>2</th>\n",
       "      <td>Modelling and simulation analyst</td>\n",
       "    </tr>\n",
       "    <tr>\n",
       "      <th>3</th>\n",
       "      <td>Engineering Systems Analyst / Mathematical Modeller</td>\n",
       "    </tr>\n",
       "    <tr>\n",
       "      <th>4</th>\n",
       "      <td>Pioneer, Miser Engineering Systems Analyst</td>\n",
       "    </tr>\n",
       "  </tbody>\n",
       "</table>\n",
       "</div>"
      ],
      "text/plain": [
       "                                                 Title\n",
       "0                          Engineering Systems Analyst\n",
       "1                              Stress Engineer Glasgow\n",
       "2                     Modelling and simulation analyst\n",
       "3  Engineering Systems Analyst / Mathematical Modeller\n",
       "4           Pioneer, Miser Engineering Systems Analyst"
      ]
     },
     "execution_count": 9,
     "metadata": {},
     "output_type": "execute_result"
    }
   ],
   "source": [
    "df_Title = full_df[[\"Title\"]].copy()\n",
    "df_Title = df_Title.astype({'Title': 'string'})\n",
    "df_Title.info()\n",
    "df_Title.head()"
   ]
  },
  {
   "cell_type": "markdown",
   "id": "c4fa8a99",
   "metadata": {},
   "source": [
    "### Verificando quanto porcento (%) dos dados são ausentes (missing):"
   ]
  },
  {
   "cell_type": "markdown",
   "id": "0ee04705",
   "metadata": {},
   "source": [
    "Vamos começar verificando o **número** de dados ausentes na coluna (feature) **Title**:"
   ]
  },
  {
   "cell_type": "code",
   "execution_count": 10,
   "id": "efda8583",
   "metadata": {},
   "outputs": [
    {
     "data": {
      "text/plain": [
       "Title    1\n",
       "dtype: int64"
      ]
     },
     "execution_count": 10,
     "metadata": {},
     "output_type": "execute_result"
    }
   ],
   "source": [
    "# Data missing sum.\n",
    "missing = df_Title.isnull().sum()\n",
    "missing"
   ]
  },
  {
   "cell_type": "markdown",
   "id": "11b77e4b",
   "metadata": {},
   "source": [
    "Nós temos que entre às 244.768 amostras, apenas uma delas está faltando o **title (título)**. Vamos ver quanto porcento representa esse único título faltante:"
   ]
  },
  {
   "cell_type": "code",
   "execution_count": 11,
   "id": "4b424d94",
   "metadata": {},
   "outputs": [
    {
     "data": {
      "text/plain": [
       "Title    0.000409\n",
       "dtype: float64"
      ]
     },
     "execution_count": 11,
     "metadata": {},
     "output_type": "execute_result"
    }
   ],
   "source": [
    "# Data missing in percent.\n",
    "percentMissing = (missing / len(df_Title.index)) * 100\n",
    "percentMissing"
   ]
  },
  {
   "cell_type": "markdown",
   "id": "8e6ed583",
   "metadata": {},
   "source": [
    "**NOTE:**  \n",
    "Agora vem a pergunta-chave:\n",
    "\n",
    "> **Por que apenas uma das amostras está sem o título?**"
   ]
  },
  {
   "cell_type": "markdown",
   "id": "73e7c8ff",
   "metadata": {},
   "source": [
    "---"
   ]
  },
  {
   "cell_type": "markdown",
   "id": "6cd179cf",
   "metadata": {},
   "source": [
    "## 03.3 - Pré-Processando a coluna (feature) \"FullDescription\"\n",
    "> O texto completo do anúncio de emprego, conforme fornecido pelo anunciante do emprego.\n",
    "\n",
    "**NOTE:**  \n",
    "Onde teria o salário (salary) qual foi retirado os valores da descrição para garantir que nenhuma informação de salário apareça nas descrições. Pode haver algum dano colateral aqui, pois também foi removido outros números."
   ]
  },
  {
   "cell_type": "markdown",
   "id": "13b9ae0a",
   "metadata": {},
   "source": [
    "### Preparando e colocando o tipo de dado mais adequado na *coluna (feature)* \"FullDescription\":"
   ]
  },
  {
   "cell_type": "code",
   "execution_count": 12,
   "id": "c7dee244",
   "metadata": {},
   "outputs": [
    {
     "name": "stdout",
     "output_type": "stream",
     "text": [
      "<class 'pandas.core.frame.DataFrame'>\n",
      "RangeIndex: 244768 entries, 0 to 244767\n",
      "Data columns (total 1 columns):\n",
      " #   Column           Non-Null Count   Dtype \n",
      "---  ------           --------------   ----- \n",
      " 0   FullDescription  244768 non-null  string\n",
      "dtypes: string(1)\n",
      "memory usage: 1.9 MB\n"
     ]
    },
    {
     "data": {
      "text/html": [
       "<div>\n",
       "<style scoped>\n",
       "    .dataframe tbody tr th:only-of-type {\n",
       "        vertical-align: middle;\n",
       "    }\n",
       "\n",
       "    .dataframe tbody tr th {\n",
       "        vertical-align: top;\n",
       "    }\n",
       "\n",
       "    .dataframe thead th {\n",
       "        text-align: right;\n",
       "    }\n",
       "</style>\n",
       "<table border=\"1\" class=\"dataframe\">\n",
       "  <thead>\n",
       "    <tr style=\"text-align: right;\">\n",
       "      <th></th>\n",
       "      <th>FullDescription</th>\n",
       "    </tr>\n",
       "  </thead>\n",
       "  <tbody>\n",
       "    <tr>\n",
       "      <th>0</th>\n",
       "      <td>Engineering Systems Analyst Dorking Surrey Salary ****K Our client is located in Dorking, Surrey and are looking for Engineering Systems Analyst our client provides specialist software development Keywords Mathematical Modelling, Risk Analysis, System Modelling, Optimisation, MISER, PIONEEER Engineering Systems Analyst Dorking Surrey Salary ****K</td>\n",
       "    </tr>\n",
       "    <tr>\n",
       "      <th>1</th>\n",
       "      <td>Stress Engineer Glasgow Salary **** to **** We re currently looking for talented engineers to join our growing Glasgow team at a variety of levels. The roles are ideally suited to high calibre engineering graduates with any level of appropriate experience, so that we can give you the opportunity to use your technical skills to provide high quality input to our aerospace projects, spanning both aerostructures and aeroengines. In return, you can expect good career opportunities and the chance for advancement and personal and professional development, support while you gain Chartership and some opportunities to possibly travel or work in other offices, in or outside of the UK. The Requirements You will need to have a good engineering degree that includes structural analysis (such as aeronautical, mechanical, automotive, civil) with some experience in a professional engineering environment relevant to (but not limited to) the aerospace sector. You will need to demonstrate experience in at least one or more of the following areas: Structural/stress analysis Composite stress analysis (any industry) Linear and nonlinear finite element analysis Fatigue and damage tolerance Structural dynamics Thermal analysis Aerostructures experience You will also be expected to demonstrate the following qualities: A strong desire to progress quickly to a position of leadership Professional approach Strong communication skills, written and verbal Commercial awareness Team working, being comfortable working in international teams and self managing PLEASE NOTE SECURITY CLEARANCE IS REQUIRED FOR THIS ROLE Stress Engineer Glasgow Salary **** to ****</td>\n",
       "    </tr>\n",
       "    <tr>\n",
       "      <th>2</th>\n",
       "      <td>Mathematical Modeller / Simulation Analyst / Operational Analyst Basingstoke, Hampshire Up to ****K AAE pension contribution, private medical and dental The opportunity Our client is an independent consultancy firm which has an opportunity for a Data Analyst with 35 years experience. The role will require the successful candidate to demonstrate their ability to analyse a problem and arrive at a solution, with varying levels of data being available. Essential skills Thorough knowledge of Excel and proven ability to utilise this to create powerful decision support models Experience in Modelling and Simulation Techniques, Experience of techniques such as Discrete Event Simulation and/or SD modelling Mathematical/scientific background  minimum degree qualified Proven analytical and problem solving skills Self Starter Ability to develop solid working relationships In addition to formal qualifications and experience, the successful candidate will require excellent written and verbal communication skills, be energetic, enterprising and have a determination to succeed. They will be required to build solid working relationships, both internally with colleagues and, most importantly, externally with our clients. They must be comfortable working independently to deliver against challenging client demands. The offices are located in Basingstoke, Hampshire, but our client work for clients worldwide. The successful candidate must therefore be prepared to undertake work at client sites for short periods of time. Physics, Mathematics, Modelling, Simulation, Analytical, Operational Research, Mathematical Modelling Mathematical Modeller / Simulation Analyst / Operational Analyst Basingstoke, Hampshire ****K AAE pension contribution, private medical and dental</td>\n",
       "    </tr>\n",
       "    <tr>\n",
       "      <th>3</th>\n",
       "      <td>Engineering Systems Analyst / Mathematical Modeller. Our client is a highly successful and respected Consultancy providing specialist software development MISER, PIONEER, Maths, Mathematical, Optimisation, Risk Analysis, Asset Management, Water Industry, Access, Excel, VBA, SQL, Systems . Engineering Systems Analyst / Mathematical Modeller. Salary  ****K****K negotiable Location Dorking, Surrey</td>\n",
       "    </tr>\n",
       "    <tr>\n",
       "      <th>4</th>\n",
       "      <td>Pioneer, Miser  Engineering Systems Analyst Dorking  Surrey Salary ****K Located in Surrey, our client provides specialist software development Pioneer, Miser  Engineering Systems Analyst Dorking  Surrey Salary ****K</td>\n",
       "    </tr>\n",
       "    <tr>\n",
       "      <th>5</th>\n",
       "      <td>Engineering Systems Analyst Water Industry Location: Dorking Surrey Salary: **** to **** Located in Surrey, our client provides specialist software development Systems Analysis and Software Engineering. The projects cover a wide variety of topics typically working in small teams. Our client can offer you Intellectually challenging work undertaken within a supportive environment where personal development is nurtured and rewarded. This role will be working within a small team working on the modelling of water industry asset deterioration and asset failure consequences, including the uploading of these models onto industryleading optimal asset management software Strong maths, stats and IT skills needed, Any previous experience within the Water industry would be an advantage. Candidate requirements Candidates should have a good honours degree in a numerate discipline i.e. Engineering; Mathematics; Science; Computing/Software. Candidates need to be highly qualified within Physics, Mathematics or Engineering discipline ideally First Class Degree, or **** PhD or Masters, MEng. Candidates should ideally should have a background in Technical Consultancy; Systems Analysis; Software Engineering or a Graduate level looking to develop their career. Any experience of Pioneer or Miser software would be an advantage. Key areas: Mathematical modelling, leakage management, optimisation. risk analysis. Physics, Mathematics, Engineering Engineering; Mathematics; Science; Computing/Software Pioneer or Miser Engineering Systems Analyst Water Industry Location: Dorking, Surrey Salary **** to ****</td>\n",
       "    </tr>\n",
       "    <tr>\n",
       "      <th>6</th>\n",
       "      <td>A globally renowned engineering and training company in the Oil Develop and manage both internal and external inspection plans and plan remedial and preventative maintenance work Implement, apply and update pipeline databases and spreadsheets and assist operators with projects, including project management, assurance support and procedure reviews Handle consulting, problem solving, risk assessments and presentations Be responsible for technical representation offshore Prepare proposals and tenders for clients and write reports and specifications. You will offer analysis using various types of software such as MathCAD, ABAQUS, Olga or Orcaflex. You will also present the company s technical courses and handle project management and sales and customer relationship management. For this role, you must have a minimum of 10 years experience in subsea engineering, pipelines design or construction. Background in controls, corrosion, decommissioning or structures would be an advantage. A degree in Engineering, Aeronautics, Naval Architecture, Maths, or Physics, preferably with honours is essential for this role. A full clean driving license is also required. If you are a Subsea Engineering professional with excellent design/construction skills and exposure to the Oil &amp; Gas/Subsea Engineering industry, we would love to hear from you. Send in your CV now</td>\n",
       "    </tr>\n",
       "    <tr>\n",
       "      <th>7</th>\n",
       "      <td>THIS IS A LIVE VACANCY NOT A GENERIC ADVERTISEMENT ) DO YOU WANT TO EARN UP TO ****K BASIC SALARY WITH UNCAPPED OTE, FOR A NATIONAL RECRUITER WHO ARE EXPANDING, RECRUITING AND CAN OFFER YOU JOB SECURITY ? ARE YOU AN EXPERIENCED RECRUITMENT CONSULTANT, SALES OR BUSINESS DEVELOPMENT EXECUTIVE? WHO WANTS INNOVATIVE TRAINING, GENUINE CAREER PROSPECTS WHERE ****5% OF THE MANAGEMENT TEAM ARE HOME GROWN, DYNAMIC WORKING ENVIRONMENT  BASED IN MANCHESTER(ONE OF THE TOP PERFORMING LOCATIONS IN THE UK) AND EXCELLENT EARNING POTENTIAL  UP TO 30% COMMISSION FOR ACHIEVERS Job details: Generating business for one of my clients **** specialist divisions across **** branches in the UK. Access to all the leading websites for candidate and job opportunities, over ****k annual investment why make the job harder? Full and comprehensive Administration and IT back up for every Consultant Working established bespoke database to generate opportunities with both existing and new clients. Inter division cross fertilisation, working closely with 8 professional divisions providing clients with the complete recruitment solution Corporate and HO support for national business/tenders and PSL s. Managing own desk to achieve daily, weekly and monthly targets. Person: Energy and desire to succeed, with a competitive streak that wants to beat the competition. Professional personal appearance with the ability to build sustainable business relationships. Positive mental attitude. Able to demonstrate working to and exceeding targets. Career focussed, good listening skills and a natural confidence. Naturally positive and looking for the opportunity to work for a national player who are committed to your success Recruitment experience or 2 years business to business sales experience required. Benefits: ****k  ****K basic  benefits Pension scheme. Uncapped OTE Innovative award winning training academy. Genuine career opportunities. Incentives, awards and excellent team building UK wide. IF YOU FEEL YOU HAVE THE ENERGY AND DRIVE TO SUCCEED IN A FAST PACED, DYNAMIC SALES ENVIRONMENT WITH REWARDS THEN CALL OR EMAIL FRO AN INFORMAL AND DISCREET DISCUSSION. PLEASE NOTE YOUR CV WILL NOT BE FORWARDED TO MY CLIENT WITHOUT YOUR WRITTEN AUTHORISATION. Code Blue Recruitment handle nearly **** LIVE VACANCIES, for all sectors and levels of the Recruitment industry across the whole of the UK . Positions include Junior and Trainee Consultants, Recruitment and Senior Recruitment Consultants, Team Leaders, Account Managers, Branch Managers, Sales Managers &amp; Directors. Sectors covered include Professional Recruitment such as Finance, Accountancy &amp; Banking, Legal &amp; HR, Commercial markets such as Office Support, Industrial, Driving, Hospitality &amp; Catering, the Public Sector including Medical, Care, Education, Technical markets such as I.T., Telecoms, Media, Construction, Engineering, Energy &amp; Environment, and Pharmaceutical, as well as diverse areas such as Sales Recruitment, Search, and Supply Chain</td>\n",
       "    </tr>\n",
       "    <tr>\n",
       "      <th>8</th>\n",
       "      <td>This is an exceptional opportunity to join a construction / technical agency that hasn t shrunk in the current market one bit Our client is seeking a nononsense and highly skilled Recruiter with at least a couple of years experience under their belt. They specialise in placing highcalibre candidates both in the UK and worldwide, within blue and white collar on both a temp and perm basis. You will have a genuine servicefocus but not definately not be afraid to pick up the phone and develop new business, acting on leads and referrals like any professional should. Your matching skills should be excellent and your CVInterviewPlacement ratios should be impressive. The incentives and benefits here are excellent with the real opportunity to earn an aboveaverage basic salary and competitive commission package: Basic to ****k  car allowan Bonus to 22.5%(OTE ****k) Car Alloowance . Additional quarterly and annual bonuses Sensible &amp; Supportive atmosphere If you are looking to join a serious competitor in the marketplace who take a genuine interest in their people contact Donna Turner now, and please have your billing figures to hand Code Blue Recruitment handle nearly **** LIVE VACANCIES, for all sectors and levels of the Recruitment industry across the whole of the UK . Positions include Junior and Trainee Consultants, Recruitment and Senior Recruitment Consultants, Team Leaders, Account Managers, Branch Managers, Sales Managers &amp; Directors. Sectors covered include Professional Recruitment such as Finance, Accountancy &amp; Banking, Legal &amp; HR, Commercial markets such as Office Support, Industrial, Driving, Hospitality &amp; Catering, the Public Sector including Medical, Care, Education, Technical markets such as I.T., Telecoms, Media, Construction, Engineering, Energy &amp; Environment, and Pharmaceutical, as well as diverse areas such as Sales Recruitment, Search, and Supply Chain</td>\n",
       "    </tr>\n",
       "    <tr>\n",
       "      <th>9</th>\n",
       "      <td>A subsea engineering company is looking for an experienced Subsea Cable Engineer who will be responsible for providing all issues related to cables. They will need someone who has at least 1015 years of subsea cable engineering experience with significant experience within offshore oil and gas industries. The qualified candidate will be responsible for developing new modelling methods for FEA and CFD. You will also be providing technical leadership to all staff therefore you must be an expert in problem solving and risk assessments. You must also be proactive and must have strong interpersonal skills. You must be a Chartered Engineer or working towards it the qualification. The company offers an extremely competitive salary, health care plan, training, professional membership sponsorship, and relocation package</td>\n",
       "    </tr>\n",
       "    <tr>\n",
       "      <th>10</th>\n",
       "      <td>Are you a successful, results driven person? Are you looking to start a career in Financial Services? Are you looking for a fast paced, dynamic working environment? Our Client is proud to be an independent estate agent with an unbeatable local knowledge and reputation for excellent service. They have a mortgage advisor within each of their branches to accommodate their customer s needs. As a Trainee Mortgage Advisor, you will work closely with your team to learn and develop whilst achieving shared goals. In addition to this; You will have the determination to succeed in the Financial Services market. You will be capable of working effectively under pressure and in a target orientated environment. You will have the ability to successfully achieve your CeMap qualifications. You will be able to evaluate business at every opportunity. The company will offer a fantastic training programme as well as full funding for CeMap qualifications all within a supportive, team working environment. Once fully qualified, achievable progression thresholds are put in place with excellent earning potential. With a track record of successful sales abilities, preferably within an Estate Agency setting, suitable candidates will have: A drive and enthusiasm to work within the Financial Services market The ability to qualify applicants to advise on their purchasing abilities Excellent communication skills A professional and friendly approach Refined numerate abilities and an attention to detail A driving licence/own car Excellent computing skills You must be a self motivated, driven individual with the ability to be proactive with your own learning and development. You will have the ability to work successfully within a team whilst managing your own, individual work load. Organisational skills and a will to succeed are also a must. Belper, Ilkeston, Eastwood, Derby, Leicester, Mansfield, Melbourne, Ripley</td>\n",
       "    </tr>\n",
       "    <tr>\n",
       "      <th>11</th>\n",
       "      <td>PROJECT ENGINEER PHAMACEUTICAL, c****  Excellent Benefits, Oxfordshire ****/****/mg PROJECT ENGINEER : JOB ROLE: Responsible for execution of Continuous improvement and compliance projects. Responsible too for subprojects related to introduction of new products and processes in order to meet strategic business plans.The position is jointly responsible fo reporting of designated capital and expenses (actual Vs. Plan) associated with implementation of new process equipment or modifications to Existing process equipment. PROJECT ENGINEER: KEY RESPONSIBILITIES: Manage project tasks &amp; deliverables within agreed time, cost, quality Responsbile for process equipment validation, material validation, remediation activity Maintain effectiveness of Quality System in accordance with corporate requirements Effective liaison with Engineering functions, external suppliers and regulatory bodies PROJECT ENGINEER: SKILLS, EXPERIENCE, QUALIFICATION: Proven problem solving skills to quickly implement process improvements Understanding of technical drawings, dealing with suppliers and subcontractors Experience of Project Engineering/Project Management within regulated manufacturing Working knowledge of quality/regulatory systems BSc/HNC with related experience</td>\n",
       "    </tr>\n",
       "    <tr>\n",
       "      <th>12</th>\n",
       "      <td>Aerospace Senior Composite Structures Engineer Aerospace, Bristol Our client is a progressive and rapidly expanding organisation, providing high end technical and project management services to the prime aerospace sector. As the Senior Composite Structures Engineer for the aerostructures team you will be involved in some of the most challenging and exciting aerospace projects in the world. You will be expected to take full ownership of technical tasks, and to lead others in their execution. This position is ideally suited to high calibre engineering graduate with significant and appropriate post graduate experience. You will need to demonstrate a desire to be challenged and to contribute towards the success and growth of the business. In return our client offers excellent career development and a competitive reward package. The Senior Composite Structures Engineer should be qualified to degree level or above in engineering and be a recognised expert in the analysis of lightweight Composite structures. You should also have experience of leading teams to deliver effective technical solutions to time, quality and cost objectives. Aerospace industry experience would be advantageous covering aerostructures and/or aero engines. A demonstrable track record in one or more of the following technical disciplines is also required: Fatigue and damage tolerance analysis of composite laminates Static stress analysis of composite structures, including bolted and bonded joints and buckling analysis Finite element analysis of composite laminates and sandwich structures Some work outside normal office hours and national/international travel may be required. Keywords Aerospace, Composites, Structures Aerospace Senior Composite Structures Engineer Aerospace, Bristol Salary ****K****K  benefits package</td>\n",
       "    </tr>\n",
       "    <tr>\n",
       "      <th>13</th>\n",
       "      <td>Senior Fatigue Static stress (metallic or composite) Finite element analysis. Senior Fatigue Aerospace Salary: **** to **** (dep on exp)  benefits package Located: Bristol, Avon, South West</td>\n",
       "    </tr>\n",
       "    <tr>\n",
       "      <th>14</th>\n",
       "      <td>A well respected restaurant located in the Derby area has a Chef de Partie role available Role: A Chef de Partie who is passionate about working with all fresh produce to a high standard is required to join the brigade of chefs at an award winning restaurant.The restaurant serves **** covers at lunch with a set menu and up to **** covers in the evening for the a la carte menu, as Chef de Partie you will be expected to run a section once fully trained keeping your work space clean and tidy at all times. Requirements: All Chef de Parties applying for this role should already have fresh food experience at this level with the ability to manage a busy section.This role can offer the right candidate excellent opportunities to progress within the team. Benefits Include: Uniform Provided Meals on Duty Excellent Tips – Paid Monthly Excellent Opportunities To Progress If you are interested in this position or would like information on the other positions we are recruiting for or any temporary assignments please send your CV by clicking on the 'apply now' button below and our consultant Tony Papa will do his utmost to assist you in your search for employment. In line with the requirements of the Asylum Immigration Act **** all applicants must be eligible to live and work in the UK. Documented evidence of the eligibility will be required from candidates as part of the recruitment process. This job was originally posted as www.caterer.com/JobSeeking/ChefdePartieAwardWinningRestaurantExcellentTips_job****</td>\n",
       "    </tr>\n",
       "    <tr>\n",
       "      <th>15</th>\n",
       "      <td>Our client are a leading supplier of precision machined, high integrity components, integrated kits of parts and complete mechanical assemblies. Due to an large increase in workload they are recruiting a Quality Engineer Reporting to the Quality Manager, the successful individual will be responsible for providing documentation to fulfil our customers quality assurance requirements on specific contracts, whilst maintaining a system of storage and retrieval for documentation. The role will also support the internal audit schedule, performing audits as required. Responsibilities include: Documentation Checking all vendor supplied documentation to ensure it complies with the requirements or Express s customer specifications. Produce accurate, legible documentation packs, in accordance with customer requirements. Quality Systems Maintain system of storage and retrieval of all associated QA documentation in accordance with ISO9001:**** Certification Ensure certificates of conformance are checked, in accordance with the C of C matrix and any applicable concessions are referenced Material Certification Verify and approve certification on receipt for conformance to customer requirements and resolve discrepancies with suppliers Non conformance Raise and submit supplier reject reports and concessions. Store all responses received in relevant databases. Internal Auditing Carry out internal audits as and when required in line with the internal audit schedule. Identify and report all nonconformances within Quality Management System, and assist in corrective actions to close them out Supplier Rejects Ensure corrective action is received for supplier rejects submitted to key suppliers The Individual: Has experience within the quality department of a related company in a similar role Ideally from a mechanical or manufacturing engineering background. Ideally be familiar with the range of processes involved in the markets of Oil Must have good communication and organisational skills Has the ability to work as part of a team or as an individual. Has the ability to be customer facing and discuss technical / quality issues with vendors and customers</td>\n",
       "    </tr>\n",
       "    <tr>\n",
       "      <th>16</th>\n",
       "      <td>A leading Subsea Engineering Company require a driven and highlyskilled Principal Controls Engineer who will provide technical work on all of the company s controlsrelated concerns and in charge of generating interest from potential clients. As a Principal Controls Engineer, you will be in charge of organising and ensuring engineering calculations, do reports, review designs, give technical assistance to all problems related to cable engineering and come up with methods for cable modelling. The successful candidate will have at least 15 years of Subsea Controls Engineering experience in the Oil and Gas industry. Preferably, you must have a degree in Engineering and a background in Subsea design, construction, installation, operation, or decommissioning and have covered almost all related Subsea Production Systems. This is a brilliant role which includes a very competitive salary package with flexible work hours to the most qualified candidates</td>\n",
       "    </tr>\n",
       "    <tr>\n",
       "      <th>17</th>\n",
       "      <td>A popular hotel located in Norfolk which is a very busy operation has a position available for a Chef de Partie Role: A Chef de Partie capable of coping well under pressure is required to join the kitchen team at a hotel that has an excellent reputation for offering high quality dining to its guests and has gained accreditations in the main restaurant.The busy Brasserie style restaurant regularly serves **** covers for lunch and dinner so this Chef de Partie role will require you to be organised on your section ensuring all prep is complete to the standards expected by the Head Chef before each service. Requirements: All Chef de Parties applying for this role must have a strong background with highlights previous AA Rosette experience in a high volume operation.A candidate who is self motivated and capable of working well in a busy team of chefs would be ideal for this role. Benefits Include: Uniform Provided Meals on Duty Accommodation Available Share of Tips – IRO **** Per Month Excellent Opportunities To Progress If you are interested in this position or would like information on the other positions we are recruiting for or any temporary assignments please send your CV by clicking on the 'apply now' button below and our consultant Sean Bosley will do his utmost to assist you in your search for employment. In line with the requirements of the Asylum Immigration Act **** all applicants must be eligible to live and work in the UK. Documented evidence of the eligibility will be required from candidates as part of the recruitment process. This job was originally posted as www.caterer.com/JobSeeking/ChefdePartieAwardWinningDiningLiveInShareofTips_job****</td>\n",
       "    </tr>\n",
       "    <tr>\n",
       "      <th>18</th>\n",
       "      <td>Senior Fatigue Static stress (metallic or composite) Finite element analysis. Senior Fatigue Aerospace  ****K****K (dep on exp)  benefits package Bristol, Avon</td>\n",
       "    </tr>\n",
       "    <tr>\n",
       "      <th>19</th>\n",
       "      <td>We are currently recruiting on behalf of our client who have an exciting opportunity available for a CE Produce CE Control Panel designs  Genera Arrangements, Detail drawings, Schematics Diagrams, Interlock Diagrams for typically PLC Specification of hardware and production of parts list. Manufacturing specification. Ensure Company policies and procedures are being applied across the projects. Manage the interface between CE Communicate at all levels with both internal and external customers to meet their expectations while meeting the project budget and programme constraints. Support the Lead Engineer in the delivery of scope to budget and programme. Provide technical expertise to tenders as and when required. Provide input to the development of the CE&amp;l function and resource</td>\n",
       "    </tr>\n",
       "  </tbody>\n",
       "</table>\n",
       "</div>"
      ],
      "text/plain": [
       "                                                                                                                                                                                                                                                                                                                                                                                                                                                                                                                                                                                                                                                                                                                                                                                                                                                                                                                                                                                                                                                                                                                                                                                                                                                                                                                                                                                                                                                                                                                                                                                                                                                                                                                                                                                                                                                                                                                                                                                                                                                                                                                                                                                                                                                                                                                                                                                                                                                                                                                                                                                                                                                                                                                                                                                                                                                                                                                                                                                                                                                                                                      FullDescription\n",
       "0                                                                                                                                                                                                                                                                                                                                                                                                                                                                                                                                                                                                                                                                                                                                                                                                                                                                                                                                                                                                                                                                                                                                                                                                                                                                                                                                                                                                                                                                                                                                                                                                                                                                                                                                                                                                                                                                                                                                                                                                                                                                                                                                                                                                                                                                                                                                                                                                                                                                                                                                                                                                                                                                                                                                                        Engineering Systems Analyst Dorking Surrey Salary ****K Our client is located in Dorking, Surrey and are looking for Engineering Systems Analyst our client provides specialist software development Keywords Mathematical Modelling, Risk Analysis, System Modelling, Optimisation, MISER, PIONEEER Engineering Systems Analyst Dorking Surrey Salary ****K\n",
       "1                                                                                                                                                                                                                                                                                                                                                                                                                                                                                                                                                                                                                                                                                                                                                                                                                                                                                                                                                                                                                                                                                                                                                                                                                                                                                                                                                                                                   Stress Engineer Glasgow Salary **** to **** We re currently looking for talented engineers to join our growing Glasgow team at a variety of levels. The roles are ideally suited to high calibre engineering graduates with any level of appropriate experience, so that we can give you the opportunity to use your technical skills to provide high quality input to our aerospace projects, spanning both aerostructures and aeroengines. In return, you can expect good career opportunities and the chance for advancement and personal and professional development, support while you gain Chartership and some opportunities to possibly travel or work in other offices, in or outside of the UK. The Requirements You will need to have a good engineering degree that includes structural analysis (such as aeronautical, mechanical, automotive, civil) with some experience in a professional engineering environment relevant to (but not limited to) the aerospace sector. You will need to demonstrate experience in at least one or more of the following areas: Structural/stress analysis Composite stress analysis (any industry) Linear and nonlinear finite element analysis Fatigue and damage tolerance Structural dynamics Thermal analysis Aerostructures experience You will also be expected to demonstrate the following qualities: A strong desire to progress quickly to a position of leadership Professional approach Strong communication skills, written and verbal Commercial awareness Team working, being comfortable working in international teams and self managing PLEASE NOTE SECURITY CLEARANCE IS REQUIRED FOR THIS ROLE Stress Engineer Glasgow Salary **** to ****\n",
       "2                                                                                                                                                                                                                                                                                                                                                                                                                                                                                                                                                                                                                                                                                                                                                                                                                                                                                                                                                                                                                                                                                                                                                                                                                                                                         Mathematical Modeller / Simulation Analyst / Operational Analyst Basingstoke, Hampshire Up to ****K AAE pension contribution, private medical and dental The opportunity Our client is an independent consultancy firm which has an opportunity for a Data Analyst with 35 years experience. The role will require the successful candidate to demonstrate their ability to analyse a problem and arrive at a solution, with varying levels of data being available. Essential skills Thorough knowledge of Excel and proven ability to utilise this to create powerful decision support models Experience in Modelling and Simulation Techniques, Experience of techniques such as Discrete Event Simulation and/or SD modelling Mathematical/scientific background  minimum degree qualified Proven analytical and problem solving skills Self Starter Ability to develop solid working relationships In addition to formal qualifications and experience, the successful candidate will require excellent written and verbal communication skills, be energetic, enterprising and have a determination to succeed. They will be required to build solid working relationships, both internally with colleagues and, most importantly, externally with our clients. They must be comfortable working independently to deliver against challenging client demands. The offices are located in Basingstoke, Hampshire, but our client work for clients worldwide. The successful candidate must therefore be prepared to undertake work at client sites for short periods of time. Physics, Mathematics, Modelling, Simulation, Analytical, Operational Research, Mathematical Modelling Mathematical Modeller / Simulation Analyst / Operational Analyst Basingstoke, Hampshire ****K AAE pension contribution, private medical and dental\n",
       "3                                                                                                                                                                                                                                                                                                                                                                                                                                                                                                                                                                                                                                                                                                                                                                                                                                                                                                                                                                                                                                                                                                                                                                                                                                                                                                                                                                                                                                                                                                                                                                                                                                                                                                                                                                                                                                                                                                                                                                                                                                                                                                                                                                                                                                                                                                                                                                                                                                                                                                                                                                                                                                                                                                       Engineering Systems Analyst / Mathematical Modeller. Our client is a highly successful and respected Consultancy providing specialist software development MISER, PIONEER, Maths, Mathematical, Optimisation, Risk Analysis, Asset Management, Water Industry, Access, Excel, VBA, SQL, Systems . Engineering Systems Analyst / Mathematical Modeller. Salary  ****K****K negotiable Location Dorking, Surrey\n",
       "4                                                                                                                                                                                                                                                                                                                                                                                                                                                                                                                                                                                                                                                                                                                                                                                                                                                                                                                                                                                                                                                                                                                                                                                                                                                                                                                                                                                                                                                                                                                                                                                                                                                                                                                                                                                                                                                                                                                                                                                                                                                                                                                                                                                                                                                                                                                                                                                                                                                                                                                                                                                                                                                                                                                                                                                                                                                                                            Pioneer, Miser  Engineering Systems Analyst Dorking  Surrey Salary ****K Located in Surrey, our client provides specialist software development Pioneer, Miser  Engineering Systems Analyst Dorking  Surrey Salary ****K\n",
       "5                                                                                                                                                                                                                                                                                                                                                                                                                                                                                                                                                                                                                                                                                                                                                                                                                                                                                                                                                                                                                                                                                                                                                                                                                                                                                                                                                                                                                                                  Engineering Systems Analyst Water Industry Location: Dorking Surrey Salary: **** to **** Located in Surrey, our client provides specialist software development Systems Analysis and Software Engineering. The projects cover a wide variety of topics typically working in small teams. Our client can offer you Intellectually challenging work undertaken within a supportive environment where personal development is nurtured and rewarded. This role will be working within a small team working on the modelling of water industry asset deterioration and asset failure consequences, including the uploading of these models onto industryleading optimal asset management software Strong maths, stats and IT skills needed, Any previous experience within the Water industry would be an advantage. Candidate requirements Candidates should have a good honours degree in a numerate discipline i.e. Engineering; Mathematics; Science; Computing/Software. Candidates need to be highly qualified within Physics, Mathematics or Engineering discipline ideally First Class Degree, or **** PhD or Masters, MEng. Candidates should ideally should have a background in Technical Consultancy; Systems Analysis; Software Engineering or a Graduate level looking to develop their career. Any experience of Pioneer or Miser software would be an advantage. Key areas: Mathematical modelling, leakage management, optimisation. risk analysis. Physics, Mathematics, Engineering Engineering; Mathematics; Science; Computing/Software Pioneer or Miser Engineering Systems Analyst Water Industry Location: Dorking, Surrey Salary **** to ****\n",
       "6                                                                                                                                                                                                                                                                                                                                                                                                                                                                                                                                                                                                                                                                                                                                                                                                                                                                                                                                                                                                                                                                                                                                                                                                                                                                                                                                                                                                                                                                                                                                                                                                                                                                                                A globally renowned engineering and training company in the Oil Develop and manage both internal and external inspection plans and plan remedial and preventative maintenance work Implement, apply and update pipeline databases and spreadsheets and assist operators with projects, including project management, assurance support and procedure reviews Handle consulting, problem solving, risk assessments and presentations Be responsible for technical representation offshore Prepare proposals and tenders for clients and write reports and specifications. You will offer analysis using various types of software such as MathCAD, ABAQUS, Olga or Orcaflex. You will also present the company s technical courses and handle project management and sales and customer relationship management. For this role, you must have a minimum of 10 years experience in subsea engineering, pipelines design or construction. Background in controls, corrosion, decommissioning or structures would be an advantage. A degree in Engineering, Aeronautics, Naval Architecture, Maths, or Physics, preferably with honours is essential for this role. A full clean driving license is also required. If you are a Subsea Engineering professional with excellent design/construction skills and exposure to the Oil & Gas/Subsea Engineering industry, we would love to hear from you. Send in your CV now\n",
       "7   THIS IS A LIVE VACANCY NOT A GENERIC ADVERTISEMENT ) DO YOU WANT TO EARN UP TO ****K BASIC SALARY WITH UNCAPPED OTE, FOR A NATIONAL RECRUITER WHO ARE EXPANDING, RECRUITING AND CAN OFFER YOU JOB SECURITY ? ARE YOU AN EXPERIENCED RECRUITMENT CONSULTANT, SALES OR BUSINESS DEVELOPMENT EXECUTIVE? WHO WANTS INNOVATIVE TRAINING, GENUINE CAREER PROSPECTS WHERE ****5% OF THE MANAGEMENT TEAM ARE HOME GROWN, DYNAMIC WORKING ENVIRONMENT  BASED IN MANCHESTER(ONE OF THE TOP PERFORMING LOCATIONS IN THE UK) AND EXCELLENT EARNING POTENTIAL  UP TO 30% COMMISSION FOR ACHIEVERS Job details: Generating business for one of my clients **** specialist divisions across **** branches in the UK. Access to all the leading websites for candidate and job opportunities, over ****k annual investment why make the job harder? Full and comprehensive Administration and IT back up for every Consultant Working established bespoke database to generate opportunities with both existing and new clients. Inter division cross fertilisation, working closely with 8 professional divisions providing clients with the complete recruitment solution Corporate and HO support for national business/tenders and PSL s. Managing own desk to achieve daily, weekly and monthly targets. Person: Energy and desire to succeed, with a competitive streak that wants to beat the competition. Professional personal appearance with the ability to build sustainable business relationships. Positive mental attitude. Able to demonstrate working to and exceeding targets. Career focussed, good listening skills and a natural confidence. Naturally positive and looking for the opportunity to work for a national player who are committed to your success Recruitment experience or 2 years business to business sales experience required. Benefits: ****k  ****K basic  benefits Pension scheme. Uncapped OTE Innovative award winning training academy. Genuine career opportunities. Incentives, awards and excellent team building UK wide. IF YOU FEEL YOU HAVE THE ENERGY AND DRIVE TO SUCCEED IN A FAST PACED, DYNAMIC SALES ENVIRONMENT WITH REWARDS THEN CALL OR EMAIL FRO AN INFORMAL AND DISCREET DISCUSSION. PLEASE NOTE YOUR CV WILL NOT BE FORWARDED TO MY CLIENT WITHOUT YOUR WRITTEN AUTHORISATION. Code Blue Recruitment handle nearly **** LIVE VACANCIES, for all sectors and levels of the Recruitment industry across the whole of the UK . Positions include Junior and Trainee Consultants, Recruitment and Senior Recruitment Consultants, Team Leaders, Account Managers, Branch Managers, Sales Managers & Directors. Sectors covered include Professional Recruitment such as Finance, Accountancy & Banking, Legal & HR, Commercial markets such as Office Support, Industrial, Driving, Hospitality & Catering, the Public Sector including Medical, Care, Education, Technical markets such as I.T., Telecoms, Media, Construction, Engineering, Energy & Environment, and Pharmaceutical, as well as diverse areas such as Sales Recruitment, Search, and Supply Chain\n",
       "8                                                                                                                                                                                                                                                                                                                                                                                                                                                                                                                                                                                                                                                                                                                                                                                                                                                                                                                                                                                                                                                                                                                                               This is an exceptional opportunity to join a construction / technical agency that hasn t shrunk in the current market one bit Our client is seeking a nononsense and highly skilled Recruiter with at least a couple of years experience under their belt. They specialise in placing highcalibre candidates both in the UK and worldwide, within blue and white collar on both a temp and perm basis. You will have a genuine servicefocus but not definately not be afraid to pick up the phone and develop new business, acting on leads and referrals like any professional should. Your matching skills should be excellent and your CVInterviewPlacement ratios should be impressive. The incentives and benefits here are excellent with the real opportunity to earn an aboveaverage basic salary and competitive commission package: Basic to ****k  car allowan Bonus to 22.5%(OTE ****k) Car Alloowance . Additional quarterly and annual bonuses Sensible & Supportive atmosphere If you are looking to join a serious competitor in the marketplace who take a genuine interest in their people contact Donna Turner now, and please have your billing figures to hand Code Blue Recruitment handle nearly **** LIVE VACANCIES, for all sectors and levels of the Recruitment industry across the whole of the UK . Positions include Junior and Trainee Consultants, Recruitment and Senior Recruitment Consultants, Team Leaders, Account Managers, Branch Managers, Sales Managers & Directors. Sectors covered include Professional Recruitment such as Finance, Accountancy & Banking, Legal & HR, Commercial markets such as Office Support, Industrial, Driving, Hospitality & Catering, the Public Sector including Medical, Care, Education, Technical markets such as I.T., Telecoms, Media, Construction, Engineering, Energy & Environment, and Pharmaceutical, as well as diverse areas such as Sales Recruitment, Search, and Supply Chain\n",
       "9                                                                                                                                                                                                                                                                                                                                                                                                                                                                                                                                                                                                                                                                                                                                                                                                                                                                                                                                                                                                                                                                                                                                                                                                                                                                                                                                                                                                                                                                                                                                                                                                                                                                                                                                                                                                                                                                                                                                                                                                                                                                                                                                                                                                                                                              A subsea engineering company is looking for an experienced Subsea Cable Engineer who will be responsible for providing all issues related to cables. They will need someone who has at least 1015 years of subsea cable engineering experience with significant experience within offshore oil and gas industries. The qualified candidate will be responsible for developing new modelling methods for FEA and CFD. You will also be providing technical leadership to all staff therefore you must be an expert in problem solving and risk assessments. You must also be proactive and must have strong interpersonal skills. You must be a Chartered Engineer or working towards it the qualification. The company offers an extremely competitive salary, health care plan, training, professional membership sponsorship, and relocation package\n",
       "10                                                                                                                                                                                                                                                                                                                                                                                                                                                                                                                                                                                                                                                                                                                                                                                                                                                                                                                                                                                                                                                                                                                           Are you a successful, results driven person? Are you looking to start a career in Financial Services? Are you looking for a fast paced, dynamic working environment? Our Client is proud to be an independent estate agent with an unbeatable local knowledge and reputation for excellent service. They have a mortgage advisor within each of their branches to accommodate their customer s needs. As a Trainee Mortgage Advisor, you will work closely with your team to learn and develop whilst achieving shared goals. In addition to this; You will have the determination to succeed in the Financial Services market. You will be capable of working effectively under pressure and in a target orientated environment. You will have the ability to successfully achieve your CeMap qualifications. You will be able to evaluate business at every opportunity. The company will offer a fantastic training programme as well as full funding for CeMap qualifications all within a supportive, team working environment. Once fully qualified, achievable progression thresholds are put in place with excellent earning potential. With a track record of successful sales abilities, preferably within an Estate Agency setting, suitable candidates will have: A drive and enthusiasm to work within the Financial Services market The ability to qualify applicants to advise on their purchasing abilities Excellent communication skills A professional and friendly approach Refined numerate abilities and an attention to detail A driving licence/own car Excellent computing skills You must be a self motivated, driven individual with the ability to be proactive with your own learning and development. You will have the ability to work successfully within a team whilst managing your own, individual work load. Organisational skills and a will to succeed are also a must. Belper, Ilkeston, Eastwood, Derby, Leicester, Mansfield, Melbourne, Ripley\n",
       "11                                                                                                                                                                                                                                                                                                                                                                                                                                                                                                                                                                                                                                                                                                                                                                                                                                                                                                                                                                                                                                                                                                                                                                                                                                                                                                                                                                                                                                                                                                                                                                                                                                                                                                                                                                                                        PROJECT ENGINEER PHAMACEUTICAL, c****  Excellent Benefits, Oxfordshire ****/****/mg PROJECT ENGINEER : JOB ROLE: Responsible for execution of Continuous improvement and compliance projects. Responsible too for subprojects related to introduction of new products and processes in order to meet strategic business plans.The position is jointly responsible fo reporting of designated capital and expenses (actual Vs. Plan) associated with implementation of new process equipment or modifications to Existing process equipment. PROJECT ENGINEER: KEY RESPONSIBILITIES: Manage project tasks & deliverables within agreed time, cost, quality Responsbile for process equipment validation, material validation, remediation activity Maintain effectiveness of Quality System in accordance with corporate requirements Effective liaison with Engineering functions, external suppliers and regulatory bodies PROJECT ENGINEER: SKILLS, EXPERIENCE, QUALIFICATION: Proven problem solving skills to quickly implement process improvements Understanding of technical drawings, dealing with suppliers and subcontractors Experience of Project Engineering/Project Management within regulated manufacturing Working knowledge of quality/regulatory systems BSc/HNC with related experience\n",
       "12                                                                                                                                                                                                                                                                                                                                                                                                                                                                                                                                                                                                                                                                                                                                                                                                                                                                                                                                                                                                                                                                                                                                                                                                                               Aerospace Senior Composite Structures Engineer Aerospace, Bristol Our client is a progressive and rapidly expanding organisation, providing high end technical and project management services to the prime aerospace sector. As the Senior Composite Structures Engineer for the aerostructures team you will be involved in some of the most challenging and exciting aerospace projects in the world. You will be expected to take full ownership of technical tasks, and to lead others in their execution. This position is ideally suited to high calibre engineering graduate with significant and appropriate post graduate experience. You will need to demonstrate a desire to be challenged and to contribute towards the success and growth of the business. In return our client offers excellent career development and a competitive reward package. The Senior Composite Structures Engineer should be qualified to degree level or above in engineering and be a recognised expert in the analysis of lightweight Composite structures. You should also have experience of leading teams to deliver effective technical solutions to time, quality and cost objectives. Aerospace industry experience would be advantageous covering aerostructures and/or aero engines. A demonstrable track record in one or more of the following technical disciplines is also required: Fatigue and damage tolerance analysis of composite laminates Static stress analysis of composite structures, including bolted and bonded joints and buckling analysis Finite element analysis of composite laminates and sandwich structures Some work outside normal office hours and national/international travel may be required. Keywords Aerospace, Composites, Structures Aerospace Senior Composite Structures Engineer Aerospace, Bristol Salary ****K****K  benefits package\n",
       "13                                                                                                                                                                                                                                                                                                                                                                                                                                                                                                                                                                                                                                                                                                                                                                                                                                                                                                                                                                                                                                                                                                                                                                                                                                                                                                                                                                                                                                                                                                                                                                                                                                                                                                                                                                                                                                                                                                                                                                                                                                                                                                                                                                                                                                                                                                                                                                                                                                                                                                                                                                                                                                                                                                                                                                                                                                                                                                                      Senior Fatigue Static stress (metallic or composite) Finite element analysis. Senior Fatigue Aerospace Salary: **** to **** (dep on exp)  benefits package Located: Bristol, Avon, South West\n",
       "14                                                                                                                                                                                                                                                                                                                                                                                                                                                                                                                                                                                                                                                                                                                                                                                                                                                                                                                                                                                                                                                                                                                                                                                                                                                                                                                                                                                                                                                                                                                                       A well respected restaurant located in the Derby area has a Chef de Partie role available Role: A Chef de Partie who is passionate about working with all fresh produce to a high standard is required to join the brigade of chefs at an award winning restaurant.The restaurant serves **** covers at lunch with a set menu and up to **** covers in the evening for the a la carte menu, as Chef de Partie you will be expected to run a section once fully trained keeping your work space clean and tidy at all times. Requirements: All Chef de Parties applying for this role should already have fresh food experience at this level with the ability to manage a busy section.This role can offer the right candidate excellent opportunities to progress within the team. Benefits Include: Uniform Provided Meals on Duty Excellent Tips – Paid Monthly Excellent Opportunities To Progress If you are interested in this position or would like information on the other positions we are recruiting for or any temporary assignments please send your CV by clicking on the 'apply now' button below and our consultant Tony Papa will do his utmost to assist you in your search for employment. In line with the requirements of the Asylum Immigration Act **** all applicants must be eligible to live and work in the UK. Documented evidence of the eligibility will be required from candidates as part of the recruitment process. This job was originally posted as www.caterer.com/JobSeeking/ChefdePartieAwardWinningRestaurantExcellentTips_job****\n",
       "15                                                                                                                                                                                                                                                                                                                                                                                                                                                                                                                                                                                                                                                                                                                                                                                                                                                              Our client are a leading supplier of precision machined, high integrity components, integrated kits of parts and complete mechanical assemblies. Due to an large increase in workload they are recruiting a Quality Engineer Reporting to the Quality Manager, the successful individual will be responsible for providing documentation to fulfil our customers quality assurance requirements on specific contracts, whilst maintaining a system of storage and retrieval for documentation. The role will also support the internal audit schedule, performing audits as required. Responsibilities include: Documentation Checking all vendor supplied documentation to ensure it complies with the requirements or Express s customer specifications. Produce accurate, legible documentation packs, in accordance with customer requirements. Quality Systems Maintain system of storage and retrieval of all associated QA documentation in accordance with ISO9001:**** Certification Ensure certificates of conformance are checked, in accordance with the C of C matrix and any applicable concessions are referenced Material Certification Verify and approve certification on receipt for conformance to customer requirements and resolve discrepancies with suppliers Non conformance Raise and submit supplier reject reports and concessions. Store all responses received in relevant databases. Internal Auditing Carry out internal audits as and when required in line with the internal audit schedule. Identify and report all nonconformances within Quality Management System, and assist in corrective actions to close them out Supplier Rejects Ensure corrective action is received for supplier rejects submitted to key suppliers The Individual: Has experience within the quality department of a related company in a similar role Ideally from a mechanical or manufacturing engineering background. Ideally be familiar with the range of processes involved in the markets of Oil Must have good communication and organisational skills Has the ability to work as part of a team or as an individual. Has the ability to be customer facing and discuss technical / quality issues with vendors and customers\n",
       "16                                                                                                                                                                                                                                                                                                                                                                                                                                                                                                                                                                                                                                                                                                                                                                                                                                                                                                                                                                                                                                                                                                                                                                                                                                                                                                                                                                                                                                                                                                                                                                                                                                                                                                                                                                                                                                                                                                                                                                                                                                                                                                                      A leading Subsea Engineering Company require a driven and highlyskilled Principal Controls Engineer who will provide technical work on all of the company s controlsrelated concerns and in charge of generating interest from potential clients. As a Principal Controls Engineer, you will be in charge of organising and ensuring engineering calculations, do reports, review designs, give technical assistance to all problems related to cable engineering and come up with methods for cable modelling. The successful candidate will have at least 15 years of Subsea Controls Engineering experience in the Oil and Gas industry. Preferably, you must have a degree in Engineering and a background in Subsea design, construction, installation, operation, or decommissioning and have covered almost all related Subsea Production Systems. This is a brilliant role which includes a very competitive salary package with flexible work hours to the most qualified candidates\n",
       "17                                                                                                                                                                                                                                                                                                                                                                                                                                                                                                                                                                                                                                                                                                                                                                                                                                                                                                                                                                                                                                                                                                                                                                                                                                                                                                                                                                    A popular hotel located in Norfolk which is a very busy operation has a position available for a Chef de Partie Role: A Chef de Partie capable of coping well under pressure is required to join the kitchen team at a hotel that has an excellent reputation for offering high quality dining to its guests and has gained accreditations in the main restaurant.The busy Brasserie style restaurant regularly serves **** covers for lunch and dinner so this Chef de Partie role will require you to be organised on your section ensuring all prep is complete to the standards expected by the Head Chef before each service. Requirements: All Chef de Parties applying for this role must have a strong background with highlights previous AA Rosette experience in a high volume operation.A candidate who is self motivated and capable of working well in a busy team of chefs would be ideal for this role. Benefits Include: Uniform Provided Meals on Duty Accommodation Available Share of Tips – IRO **** Per Month Excellent Opportunities To Progress If you are interested in this position or would like information on the other positions we are recruiting for or any temporary assignments please send your CV by clicking on the 'apply now' button below and our consultant Sean Bosley will do his utmost to assist you in your search for employment. In line with the requirements of the Asylum Immigration Act **** all applicants must be eligible to live and work in the UK. Documented evidence of the eligibility will be required from candidates as part of the recruitment process. This job was originally posted as www.caterer.com/JobSeeking/ChefdePartieAwardWinningDiningLiveInShareofTips_job****\n",
       "18                                                                                                                                                                                                                                                                                                                                                                                                                                                                                                                                                                                                                                                                                                                                                                                                                                                                                                                                                                                                                                                                                                                                                                                                                                                                                                                                                                                                                                                                                                                                                                                                                                                                                                                                                                                                                                                                                                                                                                                                                                                                                                                                                                                                                                                                                                                                                                                                                                                                                                                                                                                                                                                                                                                                                                                                                                                                                                                                                    Senior Fatigue Static stress (metallic or composite) Finite element analysis. Senior Fatigue Aerospace  ****K****K (dep on exp)  benefits package Bristol, Avon\n",
       "19                                                                                                                                                                                                                                                                                                                                                                                                                                                                                                                                                                                                                                                                                                                                                                                                                                                                                                                                                                                                                                                                                                                                                                                                                                                                                                                                                                                                                                                                                                                                                                                                                                                                                                                                                                                                                                                                                                                                                                                                                                                                                                                                                                                                                                                                                                We are currently recruiting on behalf of our client who have an exciting opportunity available for a CE Produce CE Control Panel designs  Genera Arrangements, Detail drawings, Schematics Diagrams, Interlock Diagrams for typically PLC Specification of hardware and production of parts list. Manufacturing specification. Ensure Company policies and procedures are being applied across the projects. Manage the interface between CE Communicate at all levels with both internal and external customers to meet their expectations while meeting the project budget and programme constraints. Support the Lead Engineer in the delivery of scope to budget and programme. Provide technical expertise to tenders as and when required. Provide input to the development of the CE&l function and resource"
      ]
     },
     "execution_count": 12,
     "metadata": {},
     "output_type": "execute_result"
    }
   ],
   "source": [
    "df_FullDescription = full_df[[\"FullDescription\"]].copy()\n",
    "df_FullDescription = df_FullDescription.astype({'FullDescription': 'string'})\n",
    "df_FullDescription.info()\n",
    "df_FullDescription.head(20)"
   ]
  },
  {
   "cell_type": "markdown",
   "id": "44b17b75",
   "metadata": {},
   "source": [
    "### Verificando quanto porcento (%) dos dados são ausentes (missing):"
   ]
  },
  {
   "cell_type": "code",
   "execution_count": 13,
   "id": "4ebc4ae0",
   "metadata": {},
   "outputs": [
    {
     "data": {
      "text/plain": [
       "FullDescription    0\n",
       "dtype: int64"
      ]
     },
     "execution_count": 13,
     "metadata": {},
     "output_type": "execute_result"
    }
   ],
   "source": [
    "# Data missing sum.\n",
    "missing = df_FullDescription.isnull().sum()\n",
    "missing"
   ]
  },
  {
   "cell_type": "code",
   "execution_count": 14,
   "id": "d258ac04",
   "metadata": {},
   "outputs": [
    {
     "data": {
      "text/plain": [
       "FullDescription    0.0\n",
       "dtype: float64"
      ]
     },
     "execution_count": 14,
     "metadata": {},
     "output_type": "execute_result"
    }
   ],
   "source": [
    "# Data missing in percent.\n",
    "percentMissing = (missing / len(df_FullDescription.index)) * 100\n",
    "percentMissing"
   ]
  },
  {
   "cell_type": "markdown",
   "id": "9b528dff",
   "metadata": {},
   "source": [
    "---"
   ]
  },
  {
   "cell_type": "markdown",
   "id": "70f6b0da",
   "metadata": {},
   "source": [
    "## 03.4 - Pré-Processando a coluna (feature) \"LocationRaw\"\n",
    "> Imagine que essa coluna representa a localização da vaga, porém, utilizando pontos cardeais e/ou referências.\n",
    "\n",
    "**NOTE:**  \n",
    "Eu já tenho uma coluna (feature) igual a essa, porém, normalizada pelo **Adzuna**. Então, quando eu poderia utilizar essa no lugar da normalizada pelo **Adzuna**?\n",
    "\n",
    "> **Depois de aplicar um Pré-Processamento nessa que nós der uma métrica ou modelagem melhor se comparada com a normalizada pelo Adzuna.**"
   ]
  },
  {
   "cell_type": "markdown",
   "id": "f29bcdb8",
   "metadata": {},
   "source": [
    "### Preparando e colocando o tipo de dado mais adequado a *coluna (feature)* \"LocationNormalized\":"
   ]
  },
  {
   "cell_type": "code",
   "execution_count": 15,
   "id": "cfef81ee",
   "metadata": {},
   "outputs": [
    {
     "name": "stdout",
     "output_type": "stream",
     "text": [
      "<class 'pandas.core.frame.DataFrame'>\n",
      "RangeIndex: 244768 entries, 0 to 244767\n",
      "Data columns (total 1 columns):\n",
      " #   Column       Non-Null Count   Dtype \n",
      "---  ------       --------------   ----- \n",
      " 0   LocationRaw  244768 non-null  string\n",
      "dtypes: string(1)\n",
      "memory usage: 1.9 MB\n"
     ]
    },
    {
     "data": {
      "text/html": [
       "<div>\n",
       "<style scoped>\n",
       "    .dataframe tbody tr th:only-of-type {\n",
       "        vertical-align: middle;\n",
       "    }\n",
       "\n",
       "    .dataframe tbody tr th {\n",
       "        vertical-align: top;\n",
       "    }\n",
       "\n",
       "    .dataframe thead th {\n",
       "        text-align: right;\n",
       "    }\n",
       "</style>\n",
       "<table border=\"1\" class=\"dataframe\">\n",
       "  <thead>\n",
       "    <tr style=\"text-align: right;\">\n",
       "      <th></th>\n",
       "      <th>LocationRaw</th>\n",
       "    </tr>\n",
       "  </thead>\n",
       "  <tbody>\n",
       "    <tr>\n",
       "      <th>0</th>\n",
       "      <td>Dorking, Surrey, Surrey</td>\n",
       "    </tr>\n",
       "    <tr>\n",
       "      <th>1</th>\n",
       "      <td>Glasgow, Scotland, Scotland</td>\n",
       "    </tr>\n",
       "    <tr>\n",
       "      <th>2</th>\n",
       "      <td>Hampshire, South East, South East</td>\n",
       "    </tr>\n",
       "    <tr>\n",
       "      <th>3</th>\n",
       "      <td>Surrey, South East, South East</td>\n",
       "    </tr>\n",
       "    <tr>\n",
       "      <th>4</th>\n",
       "      <td>Surrey, South East, South East</td>\n",
       "    </tr>\n",
       "    <tr>\n",
       "      <th>5</th>\n",
       "      <td>Dorking, Surrey, Surrey, Surrey</td>\n",
       "    </tr>\n",
       "    <tr>\n",
       "      <th>6</th>\n",
       "      <td>Aberdeen, Borders</td>\n",
       "    </tr>\n",
       "    <tr>\n",
       "      <th>7</th>\n",
       "      <td>MANCHESTER, Greater Manchester</td>\n",
       "    </tr>\n",
       "    <tr>\n",
       "      <th>8</th>\n",
       "      <td>LEEDS, West Yorkshire</td>\n",
       "    </tr>\n",
       "    <tr>\n",
       "      <th>9</th>\n",
       "      <td>Aberdeen, UK</td>\n",
       "    </tr>\n",
       "    <tr>\n",
       "      <th>10</th>\n",
       "      <td>East Midlands</td>\n",
       "    </tr>\n",
       "    <tr>\n",
       "      <th>11</th>\n",
       "      <td>Witney, Oxfordshire</td>\n",
       "    </tr>\n",
       "    <tr>\n",
       "      <th>12</th>\n",
       "      <td>Avon, South West</td>\n",
       "    </tr>\n",
       "    <tr>\n",
       "      <th>13</th>\n",
       "      <td>Avon, South West</td>\n",
       "    </tr>\n",
       "    <tr>\n",
       "      <th>14</th>\n",
       "      <td>Derby Derbyshire East Midlands</td>\n",
       "    </tr>\n",
       "    <tr>\n",
       "      <th>15</th>\n",
       "      <td>Gateshead, Tyne and Wear</td>\n",
       "    </tr>\n",
       "    <tr>\n",
       "      <th>16</th>\n",
       "      <td>Kent, South East</td>\n",
       "    </tr>\n",
       "    <tr>\n",
       "      <th>17</th>\n",
       "      <td>Norfolk East Anglia</td>\n",
       "    </tr>\n",
       "    <tr>\n",
       "      <th>18</th>\n",
       "      <td>Avon, South West</td>\n",
       "    </tr>\n",
       "    <tr>\n",
       "      <th>19</th>\n",
       "      <td>Wolverhampton, West Midlands</td>\n",
       "    </tr>\n",
       "  </tbody>\n",
       "</table>\n",
       "</div>"
      ],
      "text/plain": [
       "                          LocationRaw\n",
       "0             Dorking, Surrey, Surrey\n",
       "1         Glasgow, Scotland, Scotland\n",
       "2   Hampshire, South East, South East\n",
       "3      Surrey, South East, South East\n",
       "4      Surrey, South East, South East\n",
       "5     Dorking, Surrey, Surrey, Surrey\n",
       "6                   Aberdeen, Borders\n",
       "7      MANCHESTER, Greater Manchester\n",
       "8               LEEDS, West Yorkshire\n",
       "9                        Aberdeen, UK\n",
       "10                      East Midlands\n",
       "11                Witney, Oxfordshire\n",
       "12                   Avon, South West\n",
       "13                   Avon, South West\n",
       "14     Derby Derbyshire East Midlands\n",
       "15           Gateshead, Tyne and Wear\n",
       "16                   Kent, South East\n",
       "17                Norfolk East Anglia\n",
       "18                   Avon, South West\n",
       "19       Wolverhampton, West Midlands"
      ]
     },
     "execution_count": 15,
     "metadata": {},
     "output_type": "execute_result"
    }
   ],
   "source": [
    "df_LocationRaw = full_df[[\"LocationRaw\"]].copy()\n",
    "df_LocationRaw = df_LocationRaw.astype({'LocationRaw': 'string'})\n",
    "df_LocationRaw.info()\n",
    "df_LocationRaw.head(20)"
   ]
  },
  {
   "cell_type": "markdown",
   "id": "846ca41a",
   "metadata": {},
   "source": [
    "### Verificando quanto porcento (%) dos dados são ausentes (missing):"
   ]
  },
  {
   "cell_type": "code",
   "execution_count": 16,
   "id": "ca73ba3b",
   "metadata": {},
   "outputs": [
    {
     "data": {
      "text/plain": [
       "LocationRaw    0\n",
       "dtype: int64"
      ]
     },
     "execution_count": 16,
     "metadata": {},
     "output_type": "execute_result"
    }
   ],
   "source": [
    "# Data missing sum.\n",
    "missing = df_LocationRaw.isnull().sum()\n",
    "missing"
   ]
  },
  {
   "cell_type": "code",
   "execution_count": 17,
   "id": "f3b8ae18",
   "metadata": {},
   "outputs": [
    {
     "data": {
      "text/plain": [
       "LocationRaw    0.0\n",
       "dtype: float64"
      ]
     },
     "execution_count": 17,
     "metadata": {},
     "output_type": "execute_result"
    }
   ],
   "source": [
    "# Data missing in percent.\n",
    "percentMissing = (missing / len(df_LocationRaw.index)) * 100\n",
    "percentMissing"
   ]
  },
  {
   "cell_type": "markdown",
   "id": "ca6c5e69",
   "metadata": {},
   "source": [
    "---"
   ]
  },
  {
   "cell_type": "markdown",
   "id": "ef3930c7",
   "metadata": {},
   "source": [
    "## 03.5 - Pré-Processando a coluna (feature) \"LocationNormalized\"\n",
    "> Tem o mesmo significado da coluna **LocationRaw**, porém, com menos informações e/ou referências.\n",
    "\n",
    "**NOTE:**  \n",
    "Isso, porque essa coluna é o resultado de um **Pré-Processamento** da coluna **LocationRaw** feito pelo **Adzuna**."
   ]
  },
  {
   "cell_type": "markdown",
   "id": "9e0180a3",
   "metadata": {},
   "source": [
    "### Preparando e colocando o tipo de dado mais adequado a *coluna (feature)* \"LocationNormalized\":"
   ]
  },
  {
   "cell_type": "code",
   "execution_count": 18,
   "id": "78e45e0a",
   "metadata": {},
   "outputs": [
    {
     "name": "stdout",
     "output_type": "stream",
     "text": [
      "<class 'pandas.core.frame.DataFrame'>\n",
      "RangeIndex: 244768 entries, 0 to 244767\n",
      "Data columns (total 1 columns):\n",
      " #   Column              Non-Null Count   Dtype \n",
      "---  ------              --------------   ----- \n",
      " 0   LocationNormalized  244768 non-null  string\n",
      "dtypes: string(1)\n",
      "memory usage: 1.9 MB\n"
     ]
    },
    {
     "data": {
      "text/html": [
       "<div>\n",
       "<style scoped>\n",
       "    .dataframe tbody tr th:only-of-type {\n",
       "        vertical-align: middle;\n",
       "    }\n",
       "\n",
       "    .dataframe tbody tr th {\n",
       "        vertical-align: top;\n",
       "    }\n",
       "\n",
       "    .dataframe thead th {\n",
       "        text-align: right;\n",
       "    }\n",
       "</style>\n",
       "<table border=\"1\" class=\"dataframe\">\n",
       "  <thead>\n",
       "    <tr style=\"text-align: right;\">\n",
       "      <th></th>\n",
       "      <th>LocationNormalized</th>\n",
       "    </tr>\n",
       "  </thead>\n",
       "  <tbody>\n",
       "    <tr>\n",
       "      <th>0</th>\n",
       "      <td>Dorking</td>\n",
       "    </tr>\n",
       "    <tr>\n",
       "      <th>1</th>\n",
       "      <td>Glasgow</td>\n",
       "    </tr>\n",
       "    <tr>\n",
       "      <th>2</th>\n",
       "      <td>Hampshire</td>\n",
       "    </tr>\n",
       "    <tr>\n",
       "      <th>3</th>\n",
       "      <td>Surrey</td>\n",
       "    </tr>\n",
       "    <tr>\n",
       "      <th>4</th>\n",
       "      <td>Surrey</td>\n",
       "    </tr>\n",
       "    <tr>\n",
       "      <th>5</th>\n",
       "      <td>Dorking</td>\n",
       "    </tr>\n",
       "    <tr>\n",
       "      <th>6</th>\n",
       "      <td>UK</td>\n",
       "    </tr>\n",
       "    <tr>\n",
       "      <th>7</th>\n",
       "      <td>Manchester</td>\n",
       "    </tr>\n",
       "    <tr>\n",
       "      <th>8</th>\n",
       "      <td>Leeds</td>\n",
       "    </tr>\n",
       "    <tr>\n",
       "      <th>9</th>\n",
       "      <td>Aberdeen</td>\n",
       "    </tr>\n",
       "    <tr>\n",
       "      <th>10</th>\n",
       "      <td>East Midlands</td>\n",
       "    </tr>\n",
       "    <tr>\n",
       "      <th>11</th>\n",
       "      <td>Witney</td>\n",
       "    </tr>\n",
       "    <tr>\n",
       "      <th>12</th>\n",
       "      <td>Avon</td>\n",
       "    </tr>\n",
       "    <tr>\n",
       "      <th>13</th>\n",
       "      <td>Avon</td>\n",
       "    </tr>\n",
       "    <tr>\n",
       "      <th>14</th>\n",
       "      <td>Derby</td>\n",
       "    </tr>\n",
       "    <tr>\n",
       "      <th>15</th>\n",
       "      <td>Gateshead</td>\n",
       "    </tr>\n",
       "    <tr>\n",
       "      <th>16</th>\n",
       "      <td>Kent</td>\n",
       "    </tr>\n",
       "    <tr>\n",
       "      <th>17</th>\n",
       "      <td>UK</td>\n",
       "    </tr>\n",
       "    <tr>\n",
       "      <th>18</th>\n",
       "      <td>Avon</td>\n",
       "    </tr>\n",
       "    <tr>\n",
       "      <th>19</th>\n",
       "      <td>Wolverhampton</td>\n",
       "    </tr>\n",
       "  </tbody>\n",
       "</table>\n",
       "</div>"
      ],
      "text/plain": [
       "   LocationNormalized\n",
       "0             Dorking\n",
       "1             Glasgow\n",
       "2           Hampshire\n",
       "3              Surrey\n",
       "4              Surrey\n",
       "5             Dorking\n",
       "6                  UK\n",
       "7          Manchester\n",
       "8               Leeds\n",
       "9            Aberdeen\n",
       "10      East Midlands\n",
       "11             Witney\n",
       "12               Avon\n",
       "13               Avon\n",
       "14              Derby\n",
       "15          Gateshead\n",
       "16               Kent\n",
       "17                 UK\n",
       "18               Avon\n",
       "19      Wolverhampton"
      ]
     },
     "execution_count": 18,
     "metadata": {},
     "output_type": "execute_result"
    }
   ],
   "source": [
    "df_LocationNormalized = full_df[[\"LocationNormalized\"]].copy()\n",
    "df_LocationNormalized = df_LocationNormalized.astype({'LocationNormalized': 'string'})\n",
    "df_LocationNormalized.info()\n",
    "df_LocationNormalized.head(20)"
   ]
  },
  {
   "cell_type": "markdown",
   "id": "b6f594a3",
   "metadata": {},
   "source": [
    "### Verificando quanto porcento (%) dos dados são ausentes (missing):"
   ]
  },
  {
   "cell_type": "code",
   "execution_count": 19,
   "id": "2bc4f41e",
   "metadata": {},
   "outputs": [
    {
     "data": {
      "text/plain": [
       "LocationNormalized    0\n",
       "dtype: int64"
      ]
     },
     "execution_count": 19,
     "metadata": {},
     "output_type": "execute_result"
    }
   ],
   "source": [
    "# Data missing sum.\n",
    "missing = df_LocationNormalized.isnull().sum()\n",
    "missing"
   ]
  },
  {
   "cell_type": "code",
   "execution_count": 20,
   "id": "1d101047",
   "metadata": {},
   "outputs": [
    {
     "data": {
      "text/plain": [
       "LocationNormalized    0.0\n",
       "dtype: float64"
      ]
     },
     "execution_count": 20,
     "metadata": {},
     "output_type": "execute_result"
    }
   ],
   "source": [
    "# Data missing in percent.\n",
    "percentMissing = (missing / len(df_LocationNormalized.index)) * 100\n",
    "percentMissing"
   ]
  },
  {
   "cell_type": "markdown",
   "id": "536f1f3f",
   "metadata": {},
   "source": [
    "---"
   ]
  },
  {
   "cell_type": "markdown",
   "id": "9ff9e74d",
   "metadata": {},
   "source": [
    "## 03.6 - Pré-Processando a coluna (feature) \"ContractType\"\n",
    "> Essa coluna representa os tipos de contratos por amostra de vaga de emprego, que são **full_time** ou **part_time**. Na verdade, essa coluna nos diz se o funcionário trabalha integral (por exemplo, 40h semanais) ou meio expediente (por exemplo, 20h semanais).\n",
    "\n",
    "**NOTE:**  \n",
    "Esse campo foi interpretado pela **Adzuna** a partir da descrição ou de um campo adicional específico."
   ]
  },
  {
   "cell_type": "markdown",
   "id": "796c9fae",
   "metadata": {},
   "source": [
    "### Preparando e colocando o tipo de dado mais adequado na coluna (feature) \"ContractType\":"
   ]
  },
  {
   "cell_type": "code",
   "execution_count": 21,
   "id": "c0bd3c4a",
   "metadata": {},
   "outputs": [
    {
     "name": "stdout",
     "output_type": "stream",
     "text": [
      "<class 'pandas.core.frame.DataFrame'>\n",
      "RangeIndex: 244768 entries, 0 to 244767\n",
      "Data columns (total 1 columns):\n",
      " #   Column        Non-Null Count  Dtype \n",
      "---  ------        --------------  ----- \n",
      " 0   ContractType  65442 non-null  string\n",
      "dtypes: string(1)\n",
      "memory usage: 1.9 MB\n"
     ]
    },
    {
     "data": {
      "text/html": [
       "<div>\n",
       "<style scoped>\n",
       "    .dataframe tbody tr th:only-of-type {\n",
       "        vertical-align: middle;\n",
       "    }\n",
       "\n",
       "    .dataframe tbody tr th {\n",
       "        vertical-align: top;\n",
       "    }\n",
       "\n",
       "    .dataframe thead th {\n",
       "        text-align: right;\n",
       "    }\n",
       "</style>\n",
       "<table border=\"1\" class=\"dataframe\">\n",
       "  <thead>\n",
       "    <tr style=\"text-align: right;\">\n",
       "      <th></th>\n",
       "      <th>ContractType</th>\n",
       "    </tr>\n",
       "  </thead>\n",
       "  <tbody>\n",
       "    <tr>\n",
       "      <th>0</th>\n",
       "      <td>&lt;NA&gt;</td>\n",
       "    </tr>\n",
       "    <tr>\n",
       "      <th>1</th>\n",
       "      <td>&lt;NA&gt;</td>\n",
       "    </tr>\n",
       "    <tr>\n",
       "      <th>2</th>\n",
       "      <td>&lt;NA&gt;</td>\n",
       "    </tr>\n",
       "    <tr>\n",
       "      <th>3</th>\n",
       "      <td>&lt;NA&gt;</td>\n",
       "    </tr>\n",
       "    <tr>\n",
       "      <th>4</th>\n",
       "      <td>&lt;NA&gt;</td>\n",
       "    </tr>\n",
       "    <tr>\n",
       "      <th>5</th>\n",
       "      <td>&lt;NA&gt;</td>\n",
       "    </tr>\n",
       "    <tr>\n",
       "      <th>6</th>\n",
       "      <td>&lt;NA&gt;</td>\n",
       "    </tr>\n",
       "    <tr>\n",
       "      <th>7</th>\n",
       "      <td>&lt;NA&gt;</td>\n",
       "    </tr>\n",
       "    <tr>\n",
       "      <th>8</th>\n",
       "      <td>&lt;NA&gt;</td>\n",
       "    </tr>\n",
       "    <tr>\n",
       "      <th>9</th>\n",
       "      <td>&lt;NA&gt;</td>\n",
       "    </tr>\n",
       "    <tr>\n",
       "      <th>10</th>\n",
       "      <td>&lt;NA&gt;</td>\n",
       "    </tr>\n",
       "    <tr>\n",
       "      <th>11</th>\n",
       "      <td>&lt;NA&gt;</td>\n",
       "    </tr>\n",
       "    <tr>\n",
       "      <th>12</th>\n",
       "      <td>&lt;NA&gt;</td>\n",
       "    </tr>\n",
       "    <tr>\n",
       "      <th>13</th>\n",
       "      <td>&lt;NA&gt;</td>\n",
       "    </tr>\n",
       "    <tr>\n",
       "      <th>14</th>\n",
       "      <td>&lt;NA&gt;</td>\n",
       "    </tr>\n",
       "    <tr>\n",
       "      <th>15</th>\n",
       "      <td>&lt;NA&gt;</td>\n",
       "    </tr>\n",
       "    <tr>\n",
       "      <th>16</th>\n",
       "      <td>&lt;NA&gt;</td>\n",
       "    </tr>\n",
       "    <tr>\n",
       "      <th>17</th>\n",
       "      <td>&lt;NA&gt;</td>\n",
       "    </tr>\n",
       "    <tr>\n",
       "      <th>18</th>\n",
       "      <td>&lt;NA&gt;</td>\n",
       "    </tr>\n",
       "    <tr>\n",
       "      <th>19</th>\n",
       "      <td>&lt;NA&gt;</td>\n",
       "    </tr>\n",
       "  </tbody>\n",
       "</table>\n",
       "</div>"
      ],
      "text/plain": [
       "   ContractType\n",
       "0          <NA>\n",
       "1          <NA>\n",
       "2          <NA>\n",
       "3          <NA>\n",
       "4          <NA>\n",
       "5          <NA>\n",
       "6          <NA>\n",
       "7          <NA>\n",
       "8          <NA>\n",
       "9          <NA>\n",
       "10         <NA>\n",
       "11         <NA>\n",
       "12         <NA>\n",
       "13         <NA>\n",
       "14         <NA>\n",
       "15         <NA>\n",
       "16         <NA>\n",
       "17         <NA>\n",
       "18         <NA>\n",
       "19         <NA>"
      ]
     },
     "execution_count": 21,
     "metadata": {},
     "output_type": "execute_result"
    }
   ],
   "source": [
    "df_ContractType = full_df[[\"ContractType\"]].copy()\n",
    "df_ContractType = df_ContractType.astype({'ContractType': 'string'})\n",
    "df_ContractType.info()\n",
    "df_ContractType.head(20)"
   ]
  },
  {
   "cell_type": "markdown",
   "id": "640a3a35",
   "metadata": {},
   "source": [
    "### Verificando quanto porcento (%) dos dados são ausentes (missing):"
   ]
  },
  {
   "cell_type": "code",
   "execution_count": 22,
   "id": "4b554a1c",
   "metadata": {},
   "outputs": [
    {
     "data": {
      "text/plain": [
       "ContractType    179326\n",
       "dtype: int64"
      ]
     },
     "execution_count": 22,
     "metadata": {},
     "output_type": "execute_result"
    }
   ],
   "source": [
    "# Data missing sum.\n",
    "missing = df_ContractType.isnull().sum()\n",
    "missing"
   ]
  },
  {
   "cell_type": "code",
   "execution_count": 23,
   "id": "43314e8f",
   "metadata": {},
   "outputs": [
    {
     "data": {
      "text/plain": [
       "ContractType    73.263662\n",
       "dtype: float64"
      ]
     },
     "execution_count": 23,
     "metadata": {},
     "output_type": "execute_result"
    }
   ],
   "source": [
    "# Data missing in percent.\n",
    "percentMissing = (missing / len(df_ContractType.index)) * 100\n",
    "percentMissing"
   ]
  },
  {
   "cell_type": "markdown",
   "id": "65102586",
   "metadata": {},
   "source": [
    "**NOTE:**  \n",
    "Como essa *coluna (feature)* tem 73% dos dados faltantes (missing) talvez seja interessante remové-la. Isso, porque se nós temos mais de 70% dos dados faltando talvez essa variável no nosso modelo seja quase nula.\n",
    "\n",
    "**NOTE:**  \n",
    "Porém, vamos apenas ignorá-la por agora. Quem sabe esses 27% disponível não seja relevante se pensarmos na importância da coluna (feature).\n",
    "\n",
    "**NOTE:**  \n",
    "Para finalizar nós temos a pergunta-chave:\n",
    "\n",
    "> **Por que temos esse número tão grande de dados faltante (73%) nessa coluna (feature)?**"
   ]
  },
  {
   "cell_type": "markdown",
   "id": "1998dbb4",
   "metadata": {},
   "source": [
    "---"
   ]
  },
  {
   "cell_type": "markdown",
   "id": "802b1919",
   "metadata": {},
   "source": [
    "## 03.7 - Pré-Processando a coluna (feature) \"ContractTime\"\n",
    "> Tipo de contrato, que pode ser **permanente (por exemplo, CLT)** ou **contrato (por exemplo, PJ)**."
   ]
  },
  {
   "cell_type": "markdown",
   "id": "cfe63d1c",
   "metadata": {},
   "source": [
    "### Preparando e colocando o tipo de dado mais adequado na *coluna (feature)* \"ContractTime\":"
   ]
  },
  {
   "cell_type": "code",
   "execution_count": 24,
   "id": "925fbbd5",
   "metadata": {},
   "outputs": [
    {
     "name": "stdout",
     "output_type": "stream",
     "text": [
      "<class 'pandas.core.frame.DataFrame'>\n",
      "RangeIndex: 244768 entries, 0 to 244767\n",
      "Data columns (total 1 columns):\n",
      " #   Column        Non-Null Count   Dtype \n",
      "---  ------        --------------   ----- \n",
      " 0   ContractTime  180863 non-null  string\n",
      "dtypes: string(1)\n",
      "memory usage: 1.9 MB\n"
     ]
    },
    {
     "data": {
      "text/html": [
       "<div>\n",
       "<style scoped>\n",
       "    .dataframe tbody tr th:only-of-type {\n",
       "        vertical-align: middle;\n",
       "    }\n",
       "\n",
       "    .dataframe tbody tr th {\n",
       "        vertical-align: top;\n",
       "    }\n",
       "\n",
       "    .dataframe thead th {\n",
       "        text-align: right;\n",
       "    }\n",
       "</style>\n",
       "<table border=\"1\" class=\"dataframe\">\n",
       "  <thead>\n",
       "    <tr style=\"text-align: right;\">\n",
       "      <th></th>\n",
       "      <th>ContractTime</th>\n",
       "    </tr>\n",
       "  </thead>\n",
       "  <tbody>\n",
       "    <tr>\n",
       "      <th>0</th>\n",
       "      <td>permanent</td>\n",
       "    </tr>\n",
       "    <tr>\n",
       "      <th>1</th>\n",
       "      <td>permanent</td>\n",
       "    </tr>\n",
       "    <tr>\n",
       "      <th>2</th>\n",
       "      <td>permanent</td>\n",
       "    </tr>\n",
       "    <tr>\n",
       "      <th>3</th>\n",
       "      <td>permanent</td>\n",
       "    </tr>\n",
       "    <tr>\n",
       "      <th>4</th>\n",
       "      <td>permanent</td>\n",
       "    </tr>\n",
       "    <tr>\n",
       "      <th>5</th>\n",
       "      <td>permanent</td>\n",
       "    </tr>\n",
       "    <tr>\n",
       "      <th>6</th>\n",
       "      <td>permanent</td>\n",
       "    </tr>\n",
       "    <tr>\n",
       "      <th>7</th>\n",
       "      <td>permanent</td>\n",
       "    </tr>\n",
       "    <tr>\n",
       "      <th>8</th>\n",
       "      <td>permanent</td>\n",
       "    </tr>\n",
       "    <tr>\n",
       "      <th>9</th>\n",
       "      <td>permanent</td>\n",
       "    </tr>\n",
       "    <tr>\n",
       "      <th>10</th>\n",
       "      <td>permanent</td>\n",
       "    </tr>\n",
       "    <tr>\n",
       "      <th>11</th>\n",
       "      <td>permanent</td>\n",
       "    </tr>\n",
       "    <tr>\n",
       "      <th>12</th>\n",
       "      <td>permanent</td>\n",
       "    </tr>\n",
       "    <tr>\n",
       "      <th>13</th>\n",
       "      <td>permanent</td>\n",
       "    </tr>\n",
       "    <tr>\n",
       "      <th>14</th>\n",
       "      <td>&lt;NA&gt;</td>\n",
       "    </tr>\n",
       "    <tr>\n",
       "      <th>15</th>\n",
       "      <td>permanent</td>\n",
       "    </tr>\n",
       "    <tr>\n",
       "      <th>16</th>\n",
       "      <td>permanent</td>\n",
       "    </tr>\n",
       "    <tr>\n",
       "      <th>17</th>\n",
       "      <td>&lt;NA&gt;</td>\n",
       "    </tr>\n",
       "    <tr>\n",
       "      <th>18</th>\n",
       "      <td>permanent</td>\n",
       "    </tr>\n",
       "    <tr>\n",
       "      <th>19</th>\n",
       "      <td>permanent</td>\n",
       "    </tr>\n",
       "  </tbody>\n",
       "</table>\n",
       "</div>"
      ],
      "text/plain": [
       "   ContractTime\n",
       "0     permanent\n",
       "1     permanent\n",
       "2     permanent\n",
       "3     permanent\n",
       "4     permanent\n",
       "5     permanent\n",
       "6     permanent\n",
       "7     permanent\n",
       "8     permanent\n",
       "9     permanent\n",
       "10    permanent\n",
       "11    permanent\n",
       "12    permanent\n",
       "13    permanent\n",
       "14         <NA>\n",
       "15    permanent\n",
       "16    permanent\n",
       "17         <NA>\n",
       "18    permanent\n",
       "19    permanent"
      ]
     },
     "execution_count": 24,
     "metadata": {},
     "output_type": "execute_result"
    }
   ],
   "source": [
    "df_ContractTime = full_df[[\"ContractTime\"]].copy()\n",
    "df_ContractTime = df_ContractTime.astype({'ContractTime': 'string'})\n",
    "df_ContractTime.info()\n",
    "df_ContractTime.head(20)"
   ]
  },
  {
   "cell_type": "markdown",
   "id": "8bd1df2f",
   "metadata": {},
   "source": [
    "### Verificando quanto porcento (%) dos dados são ausentes (missing):"
   ]
  },
  {
   "cell_type": "code",
   "execution_count": 25,
   "id": "e5fdd712",
   "metadata": {},
   "outputs": [
    {
     "data": {
      "text/plain": [
       "ContractTime    63905\n",
       "dtype: int64"
      ]
     },
     "execution_count": 25,
     "metadata": {},
     "output_type": "execute_result"
    }
   ],
   "source": [
    "# Data missing sum.\n",
    "missing = df_ContractTime.isnull().sum()\n",
    "missing"
   ]
  },
  {
   "cell_type": "code",
   "execution_count": 26,
   "id": "1a43017a",
   "metadata": {},
   "outputs": [
    {
     "data": {
      "text/plain": [
       "ContractTime    26.108397\n",
       "dtype: float64"
      ]
     },
     "execution_count": 26,
     "metadata": {},
     "output_type": "execute_result"
    }
   ],
   "source": [
    "# Data missing in percent.\n",
    "percentMissing = (missing / len(df_ContractTime.index)) * 100\n",
    "percentMissing"
   ]
  },
  {
   "cell_type": "markdown",
   "id": "4338d13d",
   "metadata": {},
   "source": [
    "Bem, das 244.768 amostras nós temos 63.905 faltando o campo **ContractTime** que representam **26%**.\n",
    "\n",
    "**NOTE:**  \n",
    "Novamente, vem a pergunta-chave:\n",
    "\n",
    "> **Por que nós temos 26% dos dados faltanto nessa coluna (feature)?**"
   ]
  },
  {
   "cell_type": "markdown",
   "id": "b38441d5",
   "metadata": {},
   "source": [
    "---"
   ]
  },
  {
   "cell_type": "markdown",
   "id": "0129ea41",
   "metadata": {},
   "source": [
    "## 03.8 - Pré-Processando a coluna (feature) \"Company\"\n",
    "> O nome do empregador conforme fornecido pelo anunciante do emprego."
   ]
  },
  {
   "cell_type": "markdown",
   "id": "9ff42bc2",
   "metadata": {},
   "source": [
    "### Preparando e colocando o tipo de dado mais adequado na *coluna (feature)* \"Company\":"
   ]
  },
  {
   "cell_type": "code",
   "execution_count": 27,
   "id": "fbacdeaa",
   "metadata": {},
   "outputs": [
    {
     "name": "stdout",
     "output_type": "stream",
     "text": [
      "<class 'pandas.core.frame.DataFrame'>\n",
      "RangeIndex: 244768 entries, 0 to 244767\n",
      "Data columns (total 1 columns):\n",
      " #   Column   Non-Null Count   Dtype \n",
      "---  ------   --------------   ----- \n",
      " 0   Company  212338 non-null  string\n",
      "dtypes: string(1)\n",
      "memory usage: 1.9 MB\n"
     ]
    },
    {
     "data": {
      "text/html": [
       "<div>\n",
       "<style scoped>\n",
       "    .dataframe tbody tr th:only-of-type {\n",
       "        vertical-align: middle;\n",
       "    }\n",
       "\n",
       "    .dataframe tbody tr th {\n",
       "        vertical-align: top;\n",
       "    }\n",
       "\n",
       "    .dataframe thead th {\n",
       "        text-align: right;\n",
       "    }\n",
       "</style>\n",
       "<table border=\"1\" class=\"dataframe\">\n",
       "  <thead>\n",
       "    <tr style=\"text-align: right;\">\n",
       "      <th></th>\n",
       "      <th>Company</th>\n",
       "    </tr>\n",
       "  </thead>\n",
       "  <tbody>\n",
       "    <tr>\n",
       "      <th>0</th>\n",
       "      <td>Gregory Martin International</td>\n",
       "    </tr>\n",
       "    <tr>\n",
       "      <th>1</th>\n",
       "      <td>Gregory Martin International</td>\n",
       "    </tr>\n",
       "    <tr>\n",
       "      <th>2</th>\n",
       "      <td>Gregory Martin International</td>\n",
       "    </tr>\n",
       "    <tr>\n",
       "      <th>3</th>\n",
       "      <td>Gregory Martin International</td>\n",
       "    </tr>\n",
       "    <tr>\n",
       "      <th>4</th>\n",
       "      <td>Gregory Martin International</td>\n",
       "    </tr>\n",
       "    <tr>\n",
       "      <th>5</th>\n",
       "      <td>Gregory Martin International</td>\n",
       "    </tr>\n",
       "    <tr>\n",
       "      <th>6</th>\n",
       "      <td>Indigo 21 Ltd</td>\n",
       "    </tr>\n",
       "    <tr>\n",
       "      <th>7</th>\n",
       "      <td>Code Blue Recruitment</td>\n",
       "    </tr>\n",
       "    <tr>\n",
       "      <th>8</th>\n",
       "      <td>Code Blue Recruitment</td>\n",
       "    </tr>\n",
       "    <tr>\n",
       "      <th>9</th>\n",
       "      <td>Indigo 21 Ltd</td>\n",
       "    </tr>\n",
       "    <tr>\n",
       "      <th>10</th>\n",
       "      <td>Brite Recruitment</td>\n",
       "    </tr>\n",
       "    <tr>\n",
       "      <th>11</th>\n",
       "      <td>MatchBox Recruiting Ltd</td>\n",
       "    </tr>\n",
       "    <tr>\n",
       "      <th>12</th>\n",
       "      <td>Gregory Martin International</td>\n",
       "    </tr>\n",
       "    <tr>\n",
       "      <th>13</th>\n",
       "      <td>Gregory Martin International</td>\n",
       "    </tr>\n",
       "    <tr>\n",
       "      <th>14</th>\n",
       "      <td>Chef Results</td>\n",
       "    </tr>\n",
       "    <tr>\n",
       "      <th>15</th>\n",
       "      <td>Asset Appointments</td>\n",
       "    </tr>\n",
       "    <tr>\n",
       "      <th>16</th>\n",
       "      <td>Indigo 21 Ltd</td>\n",
       "    </tr>\n",
       "    <tr>\n",
       "      <th>17</th>\n",
       "      <td>Chef Results</td>\n",
       "    </tr>\n",
       "    <tr>\n",
       "      <th>18</th>\n",
       "      <td>Gregory Martin International</td>\n",
       "    </tr>\n",
       "    <tr>\n",
       "      <th>19</th>\n",
       "      <td>Rullion Engineering Ltd</td>\n",
       "    </tr>\n",
       "  </tbody>\n",
       "</table>\n",
       "</div>"
      ],
      "text/plain": [
       "                         Company\n",
       "0   Gregory Martin International\n",
       "1   Gregory Martin International\n",
       "2   Gregory Martin International\n",
       "3   Gregory Martin International\n",
       "4   Gregory Martin International\n",
       "5   Gregory Martin International\n",
       "6                  Indigo 21 Ltd\n",
       "7          Code Blue Recruitment\n",
       "8          Code Blue Recruitment\n",
       "9                  Indigo 21 Ltd\n",
       "10             Brite Recruitment\n",
       "11       MatchBox Recruiting Ltd\n",
       "12  Gregory Martin International\n",
       "13  Gregory Martin International\n",
       "14                  Chef Results\n",
       "15            Asset Appointments\n",
       "16                 Indigo 21 Ltd\n",
       "17                  Chef Results\n",
       "18  Gregory Martin International\n",
       "19       Rullion Engineering Ltd"
      ]
     },
     "execution_count": 27,
     "metadata": {},
     "output_type": "execute_result"
    }
   ],
   "source": [
    "df_Company = full_df[[\"Company\"]].copy()\n",
    "df_Company = df_Company.astype({'Company': 'string'})\n",
    "df_Company.info()\n",
    "df_Company.head(20)"
   ]
  },
  {
   "cell_type": "markdown",
   "id": "3cfa6f77",
   "metadata": {},
   "source": [
    "### Verificando quanto porcento (%) dos dados são ausentes (missing):"
   ]
  },
  {
   "cell_type": "code",
   "execution_count": 28,
   "id": "220e700d",
   "metadata": {},
   "outputs": [
    {
     "data": {
      "text/plain": [
       "Company    32430\n",
       "dtype: int64"
      ]
     },
     "execution_count": 28,
     "metadata": {},
     "output_type": "execute_result"
    }
   ],
   "source": [
    "# Data missing sum.\n",
    "missing = df_Company.isnull().sum()\n",
    "missing"
   ]
  },
  {
   "cell_type": "code",
   "execution_count": 29,
   "id": "3466b85d",
   "metadata": {},
   "outputs": [
    {
     "data": {
      "text/plain": [
       "Company    13.249281\n",
       "dtype: float64"
      ]
     },
     "execution_count": 29,
     "metadata": {},
     "output_type": "execute_result"
    }
   ],
   "source": [
    "# Data missing in percent.\n",
    "percentMissing = (missing / len(df_Company.index)) * 100\n",
    "percentMissing"
   ]
  },
  {
   "cell_type": "markdown",
   "id": "3d294b4c",
   "metadata": {},
   "source": [
    "**NOTE:**  \n",
    "Bem, essa coluna tem bem menos dados faltando, **13%**. Porém, nós temos alguns questionamentos:\n",
    " - **Por que essa coluna (feature) tem essa porcentagem de dados faltando?**\n",
    " - **Devemos nos preocupar?**\n",
    " - **O que fazer com os 87%?**"
   ]
  },
  {
   "cell_type": "markdown",
   "id": "ace639ae",
   "metadata": {},
   "source": [
    "---"
   ]
  },
  {
   "cell_type": "markdown",
   "id": "229d74e8",
   "metadata": {},
   "source": [
    "## 03.9 - Pré-Processando a coluna (feature) \"Category\"\n",
    "> Em qual das 30 categorias de empregos padrão este anúncio se encaixa.\n",
    "\n",
    "**NOTE:**  \n",
    "Sabemos que há muito ruído e erro neste campo."
   ]
  },
  {
   "cell_type": "markdown",
   "id": "103bb928",
   "metadata": {},
   "source": [
    "### Preparando e colocando o tipo de dado mais adequado na *coluna (feature)* \"Category\":"
   ]
  },
  {
   "cell_type": "code",
   "execution_count": 30,
   "id": "c539a2f8",
   "metadata": {},
   "outputs": [
    {
     "name": "stdout",
     "output_type": "stream",
     "text": [
      "<class 'pandas.core.frame.DataFrame'>\n",
      "RangeIndex: 244768 entries, 0 to 244767\n",
      "Data columns (total 1 columns):\n",
      " #   Column    Non-Null Count   Dtype \n",
      "---  ------    --------------   ----- \n",
      " 0   Category  244768 non-null  string\n",
      "dtypes: string(1)\n",
      "memory usage: 1.9 MB\n"
     ]
    },
    {
     "data": {
      "text/html": [
       "<div>\n",
       "<style scoped>\n",
       "    .dataframe tbody tr th:only-of-type {\n",
       "        vertical-align: middle;\n",
       "    }\n",
       "\n",
       "    .dataframe tbody tr th {\n",
       "        vertical-align: top;\n",
       "    }\n",
       "\n",
       "    .dataframe thead th {\n",
       "        text-align: right;\n",
       "    }\n",
       "</style>\n",
       "<table border=\"1\" class=\"dataframe\">\n",
       "  <thead>\n",
       "    <tr style=\"text-align: right;\">\n",
       "      <th></th>\n",
       "      <th>Category</th>\n",
       "    </tr>\n",
       "  </thead>\n",
       "  <tbody>\n",
       "    <tr>\n",
       "      <th>0</th>\n",
       "      <td>Engineering Jobs</td>\n",
       "    </tr>\n",
       "    <tr>\n",
       "      <th>1</th>\n",
       "      <td>Engineering Jobs</td>\n",
       "    </tr>\n",
       "    <tr>\n",
       "      <th>2</th>\n",
       "      <td>Engineering Jobs</td>\n",
       "    </tr>\n",
       "    <tr>\n",
       "      <th>3</th>\n",
       "      <td>Engineering Jobs</td>\n",
       "    </tr>\n",
       "    <tr>\n",
       "      <th>4</th>\n",
       "      <td>Engineering Jobs</td>\n",
       "    </tr>\n",
       "    <tr>\n",
       "      <th>5</th>\n",
       "      <td>Engineering Jobs</td>\n",
       "    </tr>\n",
       "    <tr>\n",
       "      <th>6</th>\n",
       "      <td>Engineering Jobs</td>\n",
       "    </tr>\n",
       "    <tr>\n",
       "      <th>7</th>\n",
       "      <td>HR &amp; Recruitment Jobs</td>\n",
       "    </tr>\n",
       "    <tr>\n",
       "      <th>8</th>\n",
       "      <td>HR &amp; Recruitment Jobs</td>\n",
       "    </tr>\n",
       "    <tr>\n",
       "      <th>9</th>\n",
       "      <td>Engineering Jobs</td>\n",
       "    </tr>\n",
       "    <tr>\n",
       "      <th>10</th>\n",
       "      <td>Accounting &amp; Finance Jobs</td>\n",
       "    </tr>\n",
       "    <tr>\n",
       "      <th>11</th>\n",
       "      <td>Healthcare &amp; Nursing Jobs</td>\n",
       "    </tr>\n",
       "    <tr>\n",
       "      <th>12</th>\n",
       "      <td>Other/General Jobs</td>\n",
       "    </tr>\n",
       "    <tr>\n",
       "      <th>13</th>\n",
       "      <td>Other/General Jobs</td>\n",
       "    </tr>\n",
       "    <tr>\n",
       "      <th>14</th>\n",
       "      <td>Hospitality &amp; Catering Jobs</td>\n",
       "    </tr>\n",
       "    <tr>\n",
       "      <th>15</th>\n",
       "      <td>Engineering Jobs</td>\n",
       "    </tr>\n",
       "    <tr>\n",
       "      <th>16</th>\n",
       "      <td>Engineering Jobs</td>\n",
       "    </tr>\n",
       "    <tr>\n",
       "      <th>17</th>\n",
       "      <td>Hospitality &amp; Catering Jobs</td>\n",
       "    </tr>\n",
       "    <tr>\n",
       "      <th>18</th>\n",
       "      <td>Engineering Jobs</td>\n",
       "    </tr>\n",
       "    <tr>\n",
       "      <th>19</th>\n",
       "      <td>Engineering Jobs</td>\n",
       "    </tr>\n",
       "  </tbody>\n",
       "</table>\n",
       "</div>"
      ],
      "text/plain": [
       "                       Category\n",
       "0              Engineering Jobs\n",
       "1              Engineering Jobs\n",
       "2              Engineering Jobs\n",
       "3              Engineering Jobs\n",
       "4              Engineering Jobs\n",
       "5              Engineering Jobs\n",
       "6              Engineering Jobs\n",
       "7         HR & Recruitment Jobs\n",
       "8         HR & Recruitment Jobs\n",
       "9              Engineering Jobs\n",
       "10    Accounting & Finance Jobs\n",
       "11    Healthcare & Nursing Jobs\n",
       "12           Other/General Jobs\n",
       "13           Other/General Jobs\n",
       "14  Hospitality & Catering Jobs\n",
       "15             Engineering Jobs\n",
       "16             Engineering Jobs\n",
       "17  Hospitality & Catering Jobs\n",
       "18             Engineering Jobs\n",
       "19             Engineering Jobs"
      ]
     },
     "execution_count": 30,
     "metadata": {},
     "output_type": "execute_result"
    }
   ],
   "source": [
    "df_Category = full_df[[\"Category\"]].copy()\n",
    "df_Category = df_Category.astype({'Category': 'string'})\n",
    "df_Category.info()\n",
    "df_Category.head(20)"
   ]
  },
  {
   "cell_type": "markdown",
   "id": "f2634b94",
   "metadata": {},
   "source": [
    "### Verificando quanto porcento (%) dos dados são ausentes (missing):"
   ]
  },
  {
   "cell_type": "code",
   "execution_count": 31,
   "id": "36cd8b54",
   "metadata": {},
   "outputs": [
    {
     "data": {
      "text/plain": [
       "Category    0\n",
       "dtype: int64"
      ]
     },
     "execution_count": 31,
     "metadata": {},
     "output_type": "execute_result"
    }
   ],
   "source": [
    "# Data missing sum.\n",
    "missing = df_Category.isnull().sum()\n",
    "missing"
   ]
  },
  {
   "cell_type": "code",
   "execution_count": 32,
   "id": "aa5712b1",
   "metadata": {},
   "outputs": [
    {
     "data": {
      "text/plain": [
       "Category    0.0\n",
       "dtype: float64"
      ]
     },
     "execution_count": 32,
     "metadata": {},
     "output_type": "execute_result"
    }
   ],
   "source": [
    "# Data missing in percent.\n",
    "percentMissing = (missing / len(df_Category.index)) * 100\n",
    "percentMissing"
   ]
  },
  {
   "cell_type": "markdown",
   "id": "e99c0c5a",
   "metadata": {},
   "source": [
    "---"
   ]
  },
  {
   "cell_type": "markdown",
   "id": "f0e17a44",
   "metadata": {},
   "source": [
    "## 03.10 - Pré-Processando a coluna (feature) \"SalaryRaw\"\n",
    "Imagine que essa coluna representa o salário do anúncio (amostra). Porém:\n",
    " - Sem formatação;\n",
    " - Com bonus;\n",
    " - Remuneração:\n",
    "   - Por hora;\n",
    "   - Por mês;\n",
    "   - Por ano.\n",
    "\n",
    "**NOTE:**  \n",
    "Essa coluna segue a mesma lógica das colunas **LocationRaw x LocationRawNormalized**. Ou seja, para essa coluna (feature) nós vamos ter a mesma *pergunta* e *resposta*:\n",
    "\n",
    "**Quando eu poderia utilizar essa no lugar da normalizada pelo *Adzuna*?**  \n",
    "> **Depois de aplicar um Pré-Processamento nessa que nós der uma métrica ou modelagem melhor se comparada com a normalizada pelo Adzuna.**"
   ]
  },
  {
   "cell_type": "markdown",
   "id": "48e16988",
   "metadata": {},
   "source": [
    "### Preparando e colocando o tipo de dado mais adequado na *coluna (feature)* \"SalaryNormalized\":"
   ]
  },
  {
   "cell_type": "code",
   "execution_count": 33,
   "id": "253fd2b2",
   "metadata": {},
   "outputs": [
    {
     "name": "stdout",
     "output_type": "stream",
     "text": [
      "<class 'pandas.core.frame.DataFrame'>\n",
      "RangeIndex: 244768 entries, 0 to 244767\n",
      "Data columns (total 1 columns):\n",
      " #   Column     Non-Null Count   Dtype \n",
      "---  ------     --------------   ----- \n",
      " 0   SalaryRaw  244768 non-null  string\n",
      "dtypes: string(1)\n",
      "memory usage: 1.9 MB\n"
     ]
    },
    {
     "data": {
      "text/html": [
       "<div>\n",
       "<style scoped>\n",
       "    .dataframe tbody tr th:only-of-type {\n",
       "        vertical-align: middle;\n",
       "    }\n",
       "\n",
       "    .dataframe tbody tr th {\n",
       "        vertical-align: top;\n",
       "    }\n",
       "\n",
       "    .dataframe thead th {\n",
       "        text-align: right;\n",
       "    }\n",
       "</style>\n",
       "<table border=\"1\" class=\"dataframe\">\n",
       "  <thead>\n",
       "    <tr style=\"text-align: right;\">\n",
       "      <th></th>\n",
       "      <th>SalaryRaw</th>\n",
       "    </tr>\n",
       "  </thead>\n",
       "  <tbody>\n",
       "    <tr>\n",
       "      <th>0</th>\n",
       "      <td>20000 - 30000/annum 20-30K</td>\n",
       "    </tr>\n",
       "    <tr>\n",
       "      <th>1</th>\n",
       "      <td>25000 - 35000/annum 25-35K</td>\n",
       "    </tr>\n",
       "    <tr>\n",
       "      <th>2</th>\n",
       "      <td>20000 - 40000/annum 20-40K</td>\n",
       "    </tr>\n",
       "    <tr>\n",
       "      <th>3</th>\n",
       "      <td>25000 - 30000/annum 25K-30K negotiable</td>\n",
       "    </tr>\n",
       "    <tr>\n",
       "      <th>4</th>\n",
       "      <td>20000 - 30000/annum 20-30K</td>\n",
       "    </tr>\n",
       "    <tr>\n",
       "      <th>5</th>\n",
       "      <td>20000 - 30000/annum 20K to 30K</td>\n",
       "    </tr>\n",
       "    <tr>\n",
       "      <th>6</th>\n",
       "      <td>50000 - 100000/annum</td>\n",
       "    </tr>\n",
       "    <tr>\n",
       "      <th>7</th>\n",
       "      <td>18000 - 26000/annum TO 26K BASIC + COMM + BENS</td>\n",
       "    </tr>\n",
       "    <tr>\n",
       "      <th>8</th>\n",
       "      <td>18000 - 28000/annum 18 - 28K BASIC + COMM + BENS</td>\n",
       "    </tr>\n",
       "    <tr>\n",
       "      <th>9</th>\n",
       "      <td>70000 - 100000/annum</td>\n",
       "    </tr>\n",
       "    <tr>\n",
       "      <th>10</th>\n",
       "      <td>17000 - 25000/annum 17k - 20k OTE 25k</td>\n",
       "    </tr>\n",
       "    <tr>\n",
       "      <th>11</th>\n",
       "      <td>35000 - 40000/annum c40000 + Excellent Benefits</td>\n",
       "    </tr>\n",
       "    <tr>\n",
       "      <th>12</th>\n",
       "      <td>40000 - 50000/annum 40K-50K</td>\n",
       "    </tr>\n",
       "    <tr>\n",
       "      <th>13</th>\n",
       "      <td>35000 - 45000/annum 35K-45K</td>\n",
       "    </tr>\n",
       "    <tr>\n",
       "      <th>14</th>\n",
       "      <td>Upto 16,000 per annum + Tips (IRO 3K Per Annum)</td>\n",
       "    </tr>\n",
       "    <tr>\n",
       "      <th>15</th>\n",
       "      <td>22000/annum</td>\n",
       "    </tr>\n",
       "    <tr>\n",
       "      <th>16</th>\n",
       "      <td>70000 - 100000/annum</td>\n",
       "    </tr>\n",
       "    <tr>\n",
       "      <th>17</th>\n",
       "      <td>18,000 per annum + Tips (IRO 120 Per Month)</td>\n",
       "    </tr>\n",
       "    <tr>\n",
       "      <th>18</th>\n",
       "      <td>34000 - 45000/annum to 45K</td>\n",
       "    </tr>\n",
       "    <tr>\n",
       "      <th>19</th>\n",
       "      <td>33000 - 34000/annum + benefits</td>\n",
       "    </tr>\n",
       "  </tbody>\n",
       "</table>\n",
       "</div>"
      ],
      "text/plain": [
       "                                           SalaryRaw\n",
       "0                         20000 - 30000/annum 20-30K\n",
       "1                         25000 - 35000/annum 25-35K\n",
       "2                         20000 - 40000/annum 20-40K\n",
       "3             25000 - 30000/annum 25K-30K negotiable\n",
       "4                         20000 - 30000/annum 20-30K\n",
       "5                     20000 - 30000/annum 20K to 30K\n",
       "6                               50000 - 100000/annum\n",
       "7     18000 - 26000/annum TO 26K BASIC + COMM + BENS\n",
       "8   18000 - 28000/annum 18 - 28K BASIC + COMM + BENS\n",
       "9                               70000 - 100000/annum\n",
       "10             17000 - 25000/annum 17k - 20k OTE 25k\n",
       "11   35000 - 40000/annum c40000 + Excellent Benefits\n",
       "12                       40000 - 50000/annum 40K-50K\n",
       "13                       35000 - 45000/annum 35K-45K\n",
       "14   Upto 16,000 per annum + Tips (IRO 3K Per Annum)\n",
       "15                                       22000/annum\n",
       "16                              70000 - 100000/annum\n",
       "17       18,000 per annum + Tips (IRO 120 Per Month)\n",
       "18                        34000 - 45000/annum to 45K\n",
       "19                    33000 - 34000/annum + benefits"
      ]
     },
     "execution_count": 33,
     "metadata": {},
     "output_type": "execute_result"
    }
   ],
   "source": [
    "df_SalaryRaw = full_df[[\"SalaryRaw\"]].copy()\n",
    "df_SalaryRaw = df_SalaryRaw.astype({'SalaryRaw': 'string'})\n",
    "df_SalaryRaw.info()\n",
    "df_SalaryRaw.head(20)"
   ]
  },
  {
   "cell_type": "markdown",
   "id": "be7f7aac",
   "metadata": {},
   "source": [
    "### Verificando quanto porcento (%) dos dados são ausentes (missing):"
   ]
  },
  {
   "cell_type": "code",
   "execution_count": 34,
   "id": "5575e7cc",
   "metadata": {},
   "outputs": [
    {
     "data": {
      "text/plain": [
       "SalaryRaw    0\n",
       "dtype: int64"
      ]
     },
     "execution_count": 34,
     "metadata": {},
     "output_type": "execute_result"
    }
   ],
   "source": [
    "# Data missing sum.\n",
    "missing = df_SalaryRaw.isnull().sum()\n",
    "missing"
   ]
  },
  {
   "cell_type": "code",
   "execution_count": 35,
   "id": "80e2cb84",
   "metadata": {},
   "outputs": [
    {
     "data": {
      "text/plain": [
       "SalaryRaw    0.0\n",
       "dtype: float64"
      ]
     },
     "execution_count": 35,
     "metadata": {},
     "output_type": "execute_result"
    }
   ],
   "source": [
    "# Data missing in percent.\n",
    "percentMissing = (missing / len(df_SalaryRaw.index)) * 100\n",
    "percentMissing"
   ]
  },
  {
   "cell_type": "markdown",
   "id": "f7bcde9c",
   "metadata": {},
   "source": [
    "---"
   ]
  },
  {
   "cell_type": "markdown",
   "id": "42a252ac",
   "metadata": {},
   "source": [
    "## 03.11 - Pré-Processando a coluna (feature) \"SalaryNormalized\"\n",
    "Tem o mesmo significado da coluna **\"SalaryRaw\"**, porém a *Adzuna* normalizou os dados para ser representado de forma **anualizado**."
   ]
  },
  {
   "cell_type": "markdown",
   "id": "d6729e73",
   "metadata": {},
   "source": [
    "### Preparando e colocando o tipo de dado mais adequado na *coluna (feature)* \"SalaryNormalized\":"
   ]
  },
  {
   "cell_type": "code",
   "execution_count": 36,
   "id": "d9286df5",
   "metadata": {},
   "outputs": [
    {
     "name": "stdout",
     "output_type": "stream",
     "text": [
      "<class 'pandas.core.frame.DataFrame'>\n",
      "RangeIndex: 244768 entries, 0 to 244767\n",
      "Data columns (total 1 columns):\n",
      " #   Column            Non-Null Count   Dtype  \n",
      "---  ------            --------------   -----  \n",
      " 0   SalaryNormalized  244768 non-null  float64\n",
      "dtypes: float64(1)\n",
      "memory usage: 1.9 MB\n"
     ]
    },
    {
     "data": {
      "text/html": [
       "<div>\n",
       "<style scoped>\n",
       "    .dataframe tbody tr th:only-of-type {\n",
       "        vertical-align: middle;\n",
       "    }\n",
       "\n",
       "    .dataframe tbody tr th {\n",
       "        vertical-align: top;\n",
       "    }\n",
       "\n",
       "    .dataframe thead th {\n",
       "        text-align: right;\n",
       "    }\n",
       "</style>\n",
       "<table border=\"1\" class=\"dataframe\">\n",
       "  <thead>\n",
       "    <tr style=\"text-align: right;\">\n",
       "      <th></th>\n",
       "      <th>SalaryNormalized</th>\n",
       "    </tr>\n",
       "  </thead>\n",
       "  <tbody>\n",
       "    <tr>\n",
       "      <th>0</th>\n",
       "      <td>25000.0</td>\n",
       "    </tr>\n",
       "    <tr>\n",
       "      <th>1</th>\n",
       "      <td>30000.0</td>\n",
       "    </tr>\n",
       "    <tr>\n",
       "      <th>2</th>\n",
       "      <td>30000.0</td>\n",
       "    </tr>\n",
       "    <tr>\n",
       "      <th>3</th>\n",
       "      <td>27500.0</td>\n",
       "    </tr>\n",
       "    <tr>\n",
       "      <th>4</th>\n",
       "      <td>25000.0</td>\n",
       "    </tr>\n",
       "    <tr>\n",
       "      <th>5</th>\n",
       "      <td>25000.0</td>\n",
       "    </tr>\n",
       "    <tr>\n",
       "      <th>6</th>\n",
       "      <td>75000.0</td>\n",
       "    </tr>\n",
       "    <tr>\n",
       "      <th>7</th>\n",
       "      <td>22000.0</td>\n",
       "    </tr>\n",
       "    <tr>\n",
       "      <th>8</th>\n",
       "      <td>23000.0</td>\n",
       "    </tr>\n",
       "    <tr>\n",
       "      <th>9</th>\n",
       "      <td>85000.0</td>\n",
       "    </tr>\n",
       "    <tr>\n",
       "      <th>10</th>\n",
       "      <td>21000.0</td>\n",
       "    </tr>\n",
       "    <tr>\n",
       "      <th>11</th>\n",
       "      <td>37500.0</td>\n",
       "    </tr>\n",
       "    <tr>\n",
       "      <th>12</th>\n",
       "      <td>45000.0</td>\n",
       "    </tr>\n",
       "    <tr>\n",
       "      <th>13</th>\n",
       "      <td>40000.0</td>\n",
       "    </tr>\n",
       "    <tr>\n",
       "      <th>14</th>\n",
       "      <td>16000.0</td>\n",
       "    </tr>\n",
       "    <tr>\n",
       "      <th>15</th>\n",
       "      <td>22000.0</td>\n",
       "    </tr>\n",
       "    <tr>\n",
       "      <th>16</th>\n",
       "      <td>85000.0</td>\n",
       "    </tr>\n",
       "    <tr>\n",
       "      <th>17</th>\n",
       "      <td>18000.0</td>\n",
       "    </tr>\n",
       "    <tr>\n",
       "      <th>18</th>\n",
       "      <td>39500.0</td>\n",
       "    </tr>\n",
       "    <tr>\n",
       "      <th>19</th>\n",
       "      <td>33500.0</td>\n",
       "    </tr>\n",
       "  </tbody>\n",
       "</table>\n",
       "</div>"
      ],
      "text/plain": [
       "    SalaryNormalized\n",
       "0            25000.0\n",
       "1            30000.0\n",
       "2            30000.0\n",
       "3            27500.0\n",
       "4            25000.0\n",
       "5            25000.0\n",
       "6            75000.0\n",
       "7            22000.0\n",
       "8            23000.0\n",
       "9            85000.0\n",
       "10           21000.0\n",
       "11           37500.0\n",
       "12           45000.0\n",
       "13           40000.0\n",
       "14           16000.0\n",
       "15           22000.0\n",
       "16           85000.0\n",
       "17           18000.0\n",
       "18           39500.0\n",
       "19           33500.0"
      ]
     },
     "execution_count": 36,
     "metadata": {},
     "output_type": "execute_result"
    }
   ],
   "source": [
    "df_SalaryNormalized = full_df[[\"SalaryNormalized\"]].copy()\n",
    "df_SalaryNormalized = df_SalaryNormalized.astype({'SalaryNormalized': 'float64'})\n",
    "df_SalaryNormalized.info()\n",
    "df_SalaryNormalized.head(20)"
   ]
  },
  {
   "cell_type": "markdown",
   "id": "6b79d419",
   "metadata": {},
   "source": [
    "### Verificando quanto porcento (%) dos dados são ausentes (missing):"
   ]
  },
  {
   "cell_type": "code",
   "execution_count": 37,
   "id": "df66dd0d",
   "metadata": {},
   "outputs": [
    {
     "data": {
      "text/plain": [
       "SalaryNormalized    0\n",
       "dtype: int64"
      ]
     },
     "execution_count": 37,
     "metadata": {},
     "output_type": "execute_result"
    }
   ],
   "source": [
    "# Data missing sum.\n",
    "missing = df_SalaryNormalized.isnull().sum()\n",
    "missing"
   ]
  },
  {
   "cell_type": "code",
   "execution_count": 38,
   "id": "4446a12c",
   "metadata": {},
   "outputs": [
    {
     "data": {
      "text/plain": [
       "SalaryNormalized    0.0\n",
       "dtype: float64"
      ]
     },
     "execution_count": 38,
     "metadata": {},
     "output_type": "execute_result"
    }
   ],
   "source": [
    "# Data missing in percent.\n",
    "percentMissing = (missing / len(df_SalaryNormalized.index)) * 100\n",
    "percentMissing"
   ]
  },
  {
   "cell_type": "markdown",
   "id": "0b2b3504",
   "metadata": {},
   "source": [
    "---"
   ]
  },
  {
   "cell_type": "markdown",
   "id": "429d8e84",
   "metadata": {},
   "source": [
    "## 03.12 - Pré-Processando a coluna (feature) \"SourceName\"\n",
    "> O nome do site ou anunciante de quem recebemos o anúncio de emprego."
   ]
  },
  {
   "cell_type": "markdown",
   "id": "5ea2f473",
   "metadata": {},
   "source": [
    "### Preparando e colocando o tipo de dado mais adequado na *coluna (feature)* \"SourceName\":"
   ]
  },
  {
   "cell_type": "code",
   "execution_count": 39,
   "id": "92ca978c",
   "metadata": {},
   "outputs": [
    {
     "name": "stdout",
     "output_type": "stream",
     "text": [
      "<class 'pandas.core.frame.DataFrame'>\n",
      "RangeIndex: 244768 entries, 0 to 244767\n",
      "Data columns (total 1 columns):\n",
      " #   Column      Non-Null Count   Dtype \n",
      "---  ------      --------------   ----- \n",
      " 0   SourceName  244767 non-null  string\n",
      "dtypes: string(1)\n",
      "memory usage: 1.9 MB\n"
     ]
    },
    {
     "data": {
      "text/html": [
       "<div>\n",
       "<style scoped>\n",
       "    .dataframe tbody tr th:only-of-type {\n",
       "        vertical-align: middle;\n",
       "    }\n",
       "\n",
       "    .dataframe tbody tr th {\n",
       "        vertical-align: top;\n",
       "    }\n",
       "\n",
       "    .dataframe thead th {\n",
       "        text-align: right;\n",
       "    }\n",
       "</style>\n",
       "<table border=\"1\" class=\"dataframe\">\n",
       "  <thead>\n",
       "    <tr style=\"text-align: right;\">\n",
       "      <th></th>\n",
       "      <th>SourceName</th>\n",
       "    </tr>\n",
       "  </thead>\n",
       "  <tbody>\n",
       "    <tr>\n",
       "      <th>0</th>\n",
       "      <td>cv-library.co.uk</td>\n",
       "    </tr>\n",
       "    <tr>\n",
       "      <th>1</th>\n",
       "      <td>cv-library.co.uk</td>\n",
       "    </tr>\n",
       "    <tr>\n",
       "      <th>2</th>\n",
       "      <td>cv-library.co.uk</td>\n",
       "    </tr>\n",
       "    <tr>\n",
       "      <th>3</th>\n",
       "      <td>cv-library.co.uk</td>\n",
       "    </tr>\n",
       "    <tr>\n",
       "      <th>4</th>\n",
       "      <td>cv-library.co.uk</td>\n",
       "    </tr>\n",
       "    <tr>\n",
       "      <th>5</th>\n",
       "      <td>cv-library.co.uk</td>\n",
       "    </tr>\n",
       "    <tr>\n",
       "      <th>6</th>\n",
       "      <td>cv-library.co.uk</td>\n",
       "    </tr>\n",
       "    <tr>\n",
       "      <th>7</th>\n",
       "      <td>cv-library.co.uk</td>\n",
       "    </tr>\n",
       "    <tr>\n",
       "      <th>8</th>\n",
       "      <td>cv-library.co.uk</td>\n",
       "    </tr>\n",
       "    <tr>\n",
       "      <th>9</th>\n",
       "      <td>cv-library.co.uk</td>\n",
       "    </tr>\n",
       "    <tr>\n",
       "      <th>10</th>\n",
       "      <td>cv-library.co.uk</td>\n",
       "    </tr>\n",
       "    <tr>\n",
       "      <th>11</th>\n",
       "      <td>cv-library.co.uk</td>\n",
       "    </tr>\n",
       "    <tr>\n",
       "      <th>12</th>\n",
       "      <td>cv-library.co.uk</td>\n",
       "    </tr>\n",
       "    <tr>\n",
       "      <th>13</th>\n",
       "      <td>cv-library.co.uk</td>\n",
       "    </tr>\n",
       "    <tr>\n",
       "      <th>14</th>\n",
       "      <td>caterer.com</td>\n",
       "    </tr>\n",
       "    <tr>\n",
       "      <th>15</th>\n",
       "      <td>cv-library.co.uk</td>\n",
       "    </tr>\n",
       "    <tr>\n",
       "      <th>16</th>\n",
       "      <td>cv-library.co.uk</td>\n",
       "    </tr>\n",
       "    <tr>\n",
       "      <th>17</th>\n",
       "      <td>caterer.com</td>\n",
       "    </tr>\n",
       "    <tr>\n",
       "      <th>18</th>\n",
       "      <td>cv-library.co.uk</td>\n",
       "    </tr>\n",
       "    <tr>\n",
       "      <th>19</th>\n",
       "      <td>cv-library.co.uk</td>\n",
       "    </tr>\n",
       "  </tbody>\n",
       "</table>\n",
       "</div>"
      ],
      "text/plain": [
       "          SourceName\n",
       "0   cv-library.co.uk\n",
       "1   cv-library.co.uk\n",
       "2   cv-library.co.uk\n",
       "3   cv-library.co.uk\n",
       "4   cv-library.co.uk\n",
       "5   cv-library.co.uk\n",
       "6   cv-library.co.uk\n",
       "7   cv-library.co.uk\n",
       "8   cv-library.co.uk\n",
       "9   cv-library.co.uk\n",
       "10  cv-library.co.uk\n",
       "11  cv-library.co.uk\n",
       "12  cv-library.co.uk\n",
       "13  cv-library.co.uk\n",
       "14       caterer.com\n",
       "15  cv-library.co.uk\n",
       "16  cv-library.co.uk\n",
       "17       caterer.com\n",
       "18  cv-library.co.uk\n",
       "19  cv-library.co.uk"
      ]
     },
     "execution_count": 39,
     "metadata": {},
     "output_type": "execute_result"
    }
   ],
   "source": [
    "df_SourceName = full_df[[\"SourceName\"]].copy()\n",
    "df_SourceName = df_SourceName.astype({'SourceName': 'string'})\n",
    "df_SourceName.info()\n",
    "df_SourceName.head(20)"
   ]
  },
  {
   "cell_type": "markdown",
   "id": "8d3c6b38",
   "metadata": {},
   "source": [
    "### Verificando quanto porcento (%) dos dados são ausentes (missing):"
   ]
  },
  {
   "cell_type": "code",
   "execution_count": 40,
   "id": "574e01e5",
   "metadata": {},
   "outputs": [
    {
     "data": {
      "text/plain": [
       "SourceName    1\n",
       "dtype: int64"
      ]
     },
     "execution_count": 40,
     "metadata": {},
     "output_type": "execute_result"
    }
   ],
   "source": [
    "# Data missing sum.\n",
    "missing = df_SourceName.isnull().sum()\n",
    "missing"
   ]
  },
  {
   "cell_type": "code",
   "execution_count": 41,
   "id": "cb29181a",
   "metadata": {},
   "outputs": [
    {
     "data": {
      "text/plain": [
       "SourceName    0.000409\n",
       "dtype: float64"
      ]
     },
     "execution_count": 41,
     "metadata": {},
     "output_type": "execute_result"
    }
   ],
   "source": [
    "# Data missing in percent.\n",
    "percentMissing = (missing / len(df_SourceName.index)) * 100\n",
    "percentMissing"
   ]
  },
  {
   "cell_type": "markdown",
   "id": "e12b11ba",
   "metadata": {},
   "source": [
    "**NOTE:**  \n",
    "Bem, em apenas 1 das amostras está faltando o site do anunciante. Mas, mesmo assim nós vamos fazer aquela velha pergunta-chave:\n",
    "\n",
    "> **Por que diante de tantas amostras (244.768) em apenas uma está faltando o site do anunciante?**"
   ]
  },
  {
   "cell_type": "markdown",
   "id": "79fcc970",
   "metadata": {},
   "source": [
    "# 04 - Load\n",
    "> A etapa de **load** é responsável por salvar os dados já ***Pré-Processados*** por uma ou mais colunas (features).\n",
    "\n",
    "**NOTE:**  \n",
    "Essa etapa segue uma lógica incremental, onde, em cada iteração *(Load-v1, Load-v2,..., Load-vn)* nós vamos salvando os dados já manipulados com objetivo de encontrar uma melhor métrica ou modelagem dos dados."
   ]
  },
  {
   "cell_type": "markdown",
   "id": "cd31c187",
   "metadata": {},
   "source": [
    "## 04.1 - Load-v1 (?)"
   ]
  },
  {
   "cell_type": "markdown",
   "id": "211df7e7",
   "metadata": {},
   "source": [
    "# Resumos\n",
    "\n",
    "x"
   ]
  }
 ],
 "metadata": {
  "kernelspec": {
   "display_name": "Python 3 (ipykernel)",
   "language": "python",
   "name": "python3"
  },
  "language_info": {
   "codemirror_mode": {
    "name": "ipython",
    "version": 3
   },
   "file_extension": ".py",
   "mimetype": "text/x-python",
   "name": "python",
   "nbconvert_exporter": "python",
   "pygments_lexer": "ipython3",
   "version": "3.9.7"
  }
 },
 "nbformat": 4,
 "nbformat_minor": 5
}
