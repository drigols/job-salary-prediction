{
 "cells": [
  {
   "cell_type": "markdown",
   "id": "d5f27968",
   "metadata": {},
   "source": [
    "# Pré-Processamento\n",
    "Esse **Jupyter Notebook** tem como objetivo aplicar um **Pré-Processamento** no conjunto de dados (ou em parte dele)."
   ]
  },
  {
   "cell_type": "markdown",
   "id": "2d5c407c",
   "metadata": {},
   "source": [
    "# Resumo da Análise preliminar\n",
    "Na etapa anterior foi feita uma breve análise do conjunto de dados. O **resumo** dessa análise foi o seguinte:\n",
    "\n",
    " - Temos um grande conjunto de dados para trabalharmos:\n",
    "   - Com 244.768 amostras e 12 colunas (atributos/campos/features).\n",
    " - Porém, vai ser necessário um Pré-Processamento na maior parte das colunas, devido o fato das colunas serem representadas por textos (informações).\n",
    " - Algumas colunas estão com muitos dados faltantes, principalmente a **ContractType** que tem **73%** dos dados faltantes.\n",
    " - Estatísticas da variável (feature) **\"SalaryNormalized\"**:\n",
    "   - O menor salário de todos (anualmente) foi de 5.000;\n",
    "   - O maior salário de todos (anualmente) foi de 200.000;\n",
    "   - A média (mean) de todos os salários (anualmente) foi de 34.122;\n",
    "   - A mediana (median/2° Quartil = 50% dos dados) de todos os salários (anualmente) foi de 30.000:\n",
    "     - Vejam que a nossa mediana não está tão distante da nossa média.\n",
    "   - O Desvio Padrão (Standard Deviation/ que representa quão longe nós estamos da média) é 17.640.\n",
    "   - A moda (o salário mais frequente) foi 35.000 com 9.178 amostras. "
   ]
  },
  {
   "cell_type": "markdown",
   "id": "f4fb6821",
   "metadata": {},
   "source": [
    "# Classe \"Preprocessing\"\n",
    "Um dos requisitos da **GRIA** para o desafio era que os códigos fossem reaproveitados. Isso para evitar códigos duplicados e reaproveitamento de códigos em trabalhos futuros."
   ]
  },
  {
   "cell_type": "code",
   "execution_count": 1,
   "id": "4c50c4a3",
   "metadata": {},
   "outputs": [],
   "source": [
    "class Preprocessing:\n",
    "\n",
    "  def install_dependencies(self):\n",
    "    !pip install --upgrade -r ../requirements.txt"
   ]
  },
  {
   "cell_type": "markdown",
   "id": "0d484b61",
   "metadata": {},
   "source": [
    "**NOTE:**\n",
    "Ok, agora que nós já temos nossa classe de **Pré-Processamento** e reaproveitamento de código vamos começar criando uma `instância` dessa classe."
   ]
  },
  {
   "cell_type": "markdown",
   "id": "3d62d9a7",
   "metadata": {},
   "source": [
    "---"
   ]
  },
  {
   "cell_type": "markdown",
   "id": "bdf030e9",
   "metadata": {},
   "source": [
    "# 01 -  Baixando & Importando as bibliotecas necessárias"
   ]
  },
  {
   "cell_type": "code",
   "execution_count": 2,
   "id": "73ae6fc6",
   "metadata": {
    "scrolled": false
   },
   "outputs": [],
   "source": [
    "# preprocessing.install_dependencies()"
   ]
  },
  {
   "cell_type": "markdown",
   "id": "008fbd75",
   "metadata": {},
   "source": [
    "Agora vamos importar as bibliotecas necessárias:"
   ]
  },
  {
   "cell_type": "code",
   "execution_count": 3,
   "id": "84fb1624",
   "metadata": {},
   "outputs": [],
   "source": [
    "import pandas as pd\n",
    "import py7zr"
   ]
  },
  {
   "cell_type": "markdown",
   "id": "c56bb743",
   "metadata": {},
   "source": [
    "Agora vamos extrair o conjunto de dados:"
   ]
  },
  {
   "cell_type": "code",
   "execution_count": 4,
   "id": "7992c6a7",
   "metadata": {},
   "outputs": [],
   "source": [
    "with py7zr.SevenZipFile(\"../datasets/Train_rev1.7z\", mode='r') as archive:\n",
    "  archive.extractall(path=\"/tmp\") # For Linux users."
   ]
  },
  {
   "cell_type": "markdown",
   "id": "1ecfedbb",
   "metadata": {},
   "source": [
    "**NOTE:**  \n",
    "Como o conjunto de dados é muito grande resolvi baixar a versão mais comprimida **.7z**. Optei também por descomprimir o conjunto de dados em um local temporário (diretório **/temp** no meu caso que estou utilizando Linux / Como se fosse uma **Staging Area**)."
   ]
  },
  {
   "cell_type": "markdown",
   "id": "aff567a6",
   "metadata": {},
   "source": [
    "**Configurando o tamanho das saídas (outputs):**  \n",
    "Antes de iniciarmos nossa análise vamos configurar o Pandas para exibir todo o conteúdo por amostra:"
   ]
  },
  {
   "cell_type": "code",
   "execution_count": 5,
   "id": "3f142e90",
   "metadata": {},
   "outputs": [],
   "source": [
    "pd.options.display.max_colwidth = 100000"
   ]
  },
  {
   "cell_type": "markdown",
   "id": "c0243092",
   "metadata": {},
   "source": [
    "Por fim, vamos pegar o conjunto de dados baixado:"
   ]
  },
  {
   "cell_type": "code",
   "execution_count": 6,
   "id": "cfabeb6b",
   "metadata": {},
   "outputs": [],
   "source": [
    "full_df = pd.read_csv(\"/tmp/Train_rev1.csv\")"
   ]
  },
  {
   "cell_type": "markdown",
   "id": "0790c756",
   "metadata": {},
   "source": [
    "# 02 - Visão geral (overview) do conjunto de dados\n",
    "Bem, como nós já fizemos uma **Análise Preliminar** do conjunto de dados e vamos trabalhar cada variável (feature) individualmente vamos apenas exibir as informações gerais do conjunto de dados com a função **info()** do *Pandas*."
   ]
  },
  {
   "cell_type": "code",
   "execution_count": 7,
   "id": "d4116c0d",
   "metadata": {
    "scrolled": true
   },
   "outputs": [
    {
     "name": "stdout",
     "output_type": "stream",
     "text": [
      "<class 'pandas.core.frame.DataFrame'>\n",
      "RangeIndex: 244768 entries, 0 to 244767\n",
      "Data columns (total 12 columns):\n",
      " #   Column              Non-Null Count   Dtype \n",
      "---  ------              --------------   ----- \n",
      " 0   Id                  244768 non-null  int64 \n",
      " 1   Title               244767 non-null  object\n",
      " 2   FullDescription     244768 non-null  object\n",
      " 3   LocationRaw         244768 non-null  object\n",
      " 4   LocationNormalized  244768 non-null  object\n",
      " 5   ContractType        65442 non-null   object\n",
      " 6   ContractTime        180863 non-null  object\n",
      " 7   Company             212338 non-null  object\n",
      " 8   Category            244768 non-null  object\n",
      " 9   SalaryRaw           244768 non-null  object\n",
      " 10  SalaryNormalized    244768 non-null  int64 \n",
      " 11  SourceName          244767 non-null  object\n",
      "dtypes: int64(2), object(10)\n",
      "memory usage: 22.4+ MB\n"
     ]
    }
   ],
   "source": [
    "full_df.info()"
   ]
  },
  {
   "cell_type": "markdown",
   "id": "b2ac166a",
   "metadata": {},
   "source": [
    "---"
   ]
  },
  {
   "cell_type": "markdown",
   "id": "2d709963",
   "metadata": {},
   "source": [
    "# 03 - Aplicando Pré-Processamento nas colunas (features)\n",
    "Nessa etapa vamos aplicar um **Pré-Processamento** em cada coluna individualmente."
   ]
  },
  {
   "cell_type": "markdown",
   "id": "5edaf640",
   "metadata": {},
   "source": [
    "---"
   ]
  },
  {
   "cell_type": "markdown",
   "id": "6c012dde",
   "metadata": {},
   "source": [
    "## 03.1 - Pré-Processando a coluna (feature) \"Id\"\n",
    "> Essa coluna (feature) não vai precisar ser Pré-Processada. Como nós sabemos é apenas o identificado único de cada amostra."
   ]
  },
  {
   "cell_type": "markdown",
   "id": "f4245fcc",
   "metadata": {},
   "source": [
    "---"
   ]
  },
  {
   "cell_type": "markdown",
   "id": "cba6cd8e",
   "metadata": {},
   "source": [
    "## 03.2 - Pré-Processando a coluna (feature) \"Title\"\n",
    "> Resumidamente, o **Title** é o resumo do *cargo* ou *função*."
   ]
  },
  {
   "cell_type": "markdown",
   "id": "5543d839",
   "metadata": {},
   "source": [
    "### Preparando e colocando o tipo de dado mais adequado na *coluna (feature)* \"title\":"
   ]
  },
  {
   "cell_type": "code",
   "execution_count": 8,
   "id": "f3e3c349",
   "metadata": {
    "scrolled": true
   },
   "outputs": [
    {
     "name": "stdout",
     "output_type": "stream",
     "text": [
      "<class 'pandas.core.frame.DataFrame'>\n",
      "RangeIndex: 244768 entries, 0 to 244767\n",
      "Data columns (total 1 columns):\n",
      " #   Column  Non-Null Count   Dtype \n",
      "---  ------  --------------   ----- \n",
      " 0   Title   244767 non-null  string\n",
      "dtypes: string(1)\n",
      "memory usage: 1.9 MB\n"
     ]
    },
    {
     "data": {
      "text/html": [
       "<div>\n",
       "<style scoped>\n",
       "    .dataframe tbody tr th:only-of-type {\n",
       "        vertical-align: middle;\n",
       "    }\n",
       "\n",
       "    .dataframe tbody tr th {\n",
       "        vertical-align: top;\n",
       "    }\n",
       "\n",
       "    .dataframe thead th {\n",
       "        text-align: right;\n",
       "    }\n",
       "</style>\n",
       "<table border=\"1\" class=\"dataframe\">\n",
       "  <thead>\n",
       "    <tr style=\"text-align: right;\">\n",
       "      <th></th>\n",
       "      <th>Title</th>\n",
       "    </tr>\n",
       "  </thead>\n",
       "  <tbody>\n",
       "    <tr>\n",
       "      <th>0</th>\n",
       "      <td>Engineering Systems Analyst</td>\n",
       "    </tr>\n",
       "    <tr>\n",
       "      <th>1</th>\n",
       "      <td>Stress Engineer Glasgow</td>\n",
       "    </tr>\n",
       "    <tr>\n",
       "      <th>2</th>\n",
       "      <td>Modelling and simulation analyst</td>\n",
       "    </tr>\n",
       "    <tr>\n",
       "      <th>3</th>\n",
       "      <td>Engineering Systems Analyst / Mathematical Modeller</td>\n",
       "    </tr>\n",
       "    <tr>\n",
       "      <th>4</th>\n",
       "      <td>Pioneer, Miser Engineering Systems Analyst</td>\n",
       "    </tr>\n",
       "  </tbody>\n",
       "</table>\n",
       "</div>"
      ],
      "text/plain": [
       "                                                 Title\n",
       "0                          Engineering Systems Analyst\n",
       "1                              Stress Engineer Glasgow\n",
       "2                     Modelling and simulation analyst\n",
       "3  Engineering Systems Analyst / Mathematical Modeller\n",
       "4           Pioneer, Miser Engineering Systems Analyst"
      ]
     },
     "execution_count": 8,
     "metadata": {},
     "output_type": "execute_result"
    }
   ],
   "source": [
    "df_Title = full_df[[\"Title\"]].copy()\n",
    "df_Title = df_Title.astype({'Title': 'string'})\n",
    "df_Title.info()\n",
    "df_Title.head()"
   ]
  },
  {
   "cell_type": "markdown",
   "id": "c4fa8a99",
   "metadata": {},
   "source": [
    "### Verificando quanto porcento (%) dos dados são ausentes (missing):"
   ]
  },
  {
   "cell_type": "markdown",
   "id": "0ee04705",
   "metadata": {},
   "source": [
    "Vamos começar verificando o **número** de dados ausentes na coluna (feature) **Title**:"
   ]
  },
  {
   "cell_type": "code",
   "execution_count": 9,
   "id": "efda8583",
   "metadata": {},
   "outputs": [
    {
     "data": {
      "text/plain": [
       "Title    1\n",
       "dtype: int64"
      ]
     },
     "execution_count": 9,
     "metadata": {},
     "output_type": "execute_result"
    }
   ],
   "source": [
    "# Data missing sum.\n",
    "missing = df_Title.isnull().sum()\n",
    "missing"
   ]
  },
  {
   "cell_type": "markdown",
   "id": "11b77e4b",
   "metadata": {},
   "source": [
    "Nós temos que entre às 244.768 amostras, apenas uma delas está faltando o **title (título)**. Vamos ver quanto porcento representa esse único título faltante:"
   ]
  },
  {
   "cell_type": "code",
   "execution_count": 10,
   "id": "4b424d94",
   "metadata": {},
   "outputs": [
    {
     "data": {
      "text/plain": [
       "Title    0.000409\n",
       "dtype: float64"
      ]
     },
     "execution_count": 10,
     "metadata": {},
     "output_type": "execute_result"
    }
   ],
   "source": [
    "# Data missing in percent.\n",
    "percentMissing = (missing / len(df_Title.index)) * 100\n",
    "percentMissing"
   ]
  },
  {
   "cell_type": "markdown",
   "id": "8e6ed583",
   "metadata": {},
   "source": [
    "**NOTE:**  \n",
    "Agora vem a pergunta-chave:\n",
    "\n",
    "> **Por que apenas uma das amostras está sem o título?**"
   ]
  },
  {
   "cell_type": "markdown",
   "id": "0c2a4aa8",
   "metadata": {},
   "source": [
    "### Aplicando Lower Casing:"
   ]
  },
  {
   "cell_type": "code",
   "execution_count": 11,
   "id": "75026b68",
   "metadata": {},
   "outputs": [
    {
     "data": {
      "text/html": [
       "<div>\n",
       "<style scoped>\n",
       "    .dataframe tbody tr th:only-of-type {\n",
       "        vertical-align: middle;\n",
       "    }\n",
       "\n",
       "    .dataframe tbody tr th {\n",
       "        vertical-align: top;\n",
       "    }\n",
       "\n",
       "    .dataframe thead th {\n",
       "        text-align: right;\n",
       "    }\n",
       "</style>\n",
       "<table border=\"1\" class=\"dataframe\">\n",
       "  <thead>\n",
       "    <tr style=\"text-align: right;\">\n",
       "      <th></th>\n",
       "      <th>Title</th>\n",
       "      <th>processed_title</th>\n",
       "    </tr>\n",
       "  </thead>\n",
       "  <tbody>\n",
       "    <tr>\n",
       "      <th>0</th>\n",
       "      <td>Engineering Systems Analyst</td>\n",
       "      <td>engineering systems analyst</td>\n",
       "    </tr>\n",
       "    <tr>\n",
       "      <th>1</th>\n",
       "      <td>Stress Engineer Glasgow</td>\n",
       "      <td>stress engineer glasgow</td>\n",
       "    </tr>\n",
       "    <tr>\n",
       "      <th>2</th>\n",
       "      <td>Modelling and simulation analyst</td>\n",
       "      <td>modelling and simulation analyst</td>\n",
       "    </tr>\n",
       "    <tr>\n",
       "      <th>3</th>\n",
       "      <td>Engineering Systems Analyst / Mathematical Modeller</td>\n",
       "      <td>engineering systems analyst / mathematical modeller</td>\n",
       "    </tr>\n",
       "    <tr>\n",
       "      <th>4</th>\n",
       "      <td>Pioneer, Miser Engineering Systems Analyst</td>\n",
       "      <td>pioneer, miser engineering systems analyst</td>\n",
       "    </tr>\n",
       "  </tbody>\n",
       "</table>\n",
       "</div>"
      ],
      "text/plain": [
       "                                                 Title  \\\n",
       "0                          Engineering Systems Analyst   \n",
       "1                              Stress Engineer Glasgow   \n",
       "2                     Modelling and simulation analyst   \n",
       "3  Engineering Systems Analyst / Mathematical Modeller   \n",
       "4           Pioneer, Miser Engineering Systems Analyst   \n",
       "\n",
       "                                       processed_title  \n",
       "0                          engineering systems analyst  \n",
       "1                              stress engineer glasgow  \n",
       "2                     modelling and simulation analyst  \n",
       "3  engineering systems analyst / mathematical modeller  \n",
       "4           pioneer, miser engineering systems analyst  "
      ]
     },
     "execution_count": 11,
     "metadata": {},
     "output_type": "execute_result"
    }
   ],
   "source": [
    "df_Title[\"processed_title\"] = df_Title[\"Title\"].str.lower()\n",
    "df_Title.head()"
   ]
  },
  {
   "cell_type": "markdown",
   "id": "46751ac4",
   "metadata": {},
   "source": [
    "### Removendo pontuações:"
   ]
  },
  {
   "cell_type": "code",
   "execution_count": 12,
   "id": "679b1e5b",
   "metadata": {},
   "outputs": [
    {
     "data": {
      "text/html": [
       "<div>\n",
       "<style scoped>\n",
       "    .dataframe tbody tr th:only-of-type {\n",
       "        vertical-align: middle;\n",
       "    }\n",
       "\n",
       "    .dataframe tbody tr th {\n",
       "        vertical-align: top;\n",
       "    }\n",
       "\n",
       "    .dataframe thead th {\n",
       "        text-align: right;\n",
       "    }\n",
       "</style>\n",
       "<table border=\"1\" class=\"dataframe\">\n",
       "  <thead>\n",
       "    <tr style=\"text-align: right;\">\n",
       "      <th></th>\n",
       "      <th>Title</th>\n",
       "      <th>processed_title</th>\n",
       "    </tr>\n",
       "  </thead>\n",
       "  <tbody>\n",
       "    <tr>\n",
       "      <th>0</th>\n",
       "      <td>Engineering Systems Analyst</td>\n",
       "      <td>engineering systems analyst</td>\n",
       "    </tr>\n",
       "    <tr>\n",
       "      <th>1</th>\n",
       "      <td>Stress Engineer Glasgow</td>\n",
       "      <td>stress engineer glasgow</td>\n",
       "    </tr>\n",
       "    <tr>\n",
       "      <th>2</th>\n",
       "      <td>Modelling and simulation analyst</td>\n",
       "      <td>modelling and simulation analyst</td>\n",
       "    </tr>\n",
       "    <tr>\n",
       "      <th>3</th>\n",
       "      <td>Engineering Systems Analyst / Mathematical Modeller</td>\n",
       "      <td>engineering systems analyst   mathematical modeller</td>\n",
       "    </tr>\n",
       "    <tr>\n",
       "      <th>4</th>\n",
       "      <td>Pioneer, Miser Engineering Systems Analyst</td>\n",
       "      <td>pioneer  miser engineering systems analyst</td>\n",
       "    </tr>\n",
       "  </tbody>\n",
       "</table>\n",
       "</div>"
      ],
      "text/plain": [
       "                                                 Title  \\\n",
       "0                          Engineering Systems Analyst   \n",
       "1                              Stress Engineer Glasgow   \n",
       "2                     Modelling and simulation analyst   \n",
       "3  Engineering Systems Analyst / Mathematical Modeller   \n",
       "4           Pioneer, Miser Engineering Systems Analyst   \n",
       "\n",
       "                                       processed_title  \n",
       "0                          engineering systems analyst  \n",
       "1                              stress engineer glasgow  \n",
       "2                     modelling and simulation analyst  \n",
       "3  engineering systems analyst   mathematical modeller  \n",
       "4           pioneer  miser engineering systems analyst  "
      ]
     },
     "execution_count": 12,
     "metadata": {},
     "output_type": "execute_result"
    }
   ],
   "source": [
    "df_Title[\"processed_title\"] = df_Title[\"processed_title\"].str.replace('[^\\w\\s]',' ', regex=True)\n",
    "df_Title.head()"
   ]
  },
  {
   "cell_type": "markdown",
   "id": "e1bd6bc9",
   "metadata": {},
   "source": [
    "### Removendo números:"
   ]
  },
  {
   "cell_type": "code",
   "execution_count": 13,
   "id": "e9666c31",
   "metadata": {},
   "outputs": [
    {
     "data": {
      "text/html": [
       "<div>\n",
       "<style scoped>\n",
       "    .dataframe tbody tr th:only-of-type {\n",
       "        vertical-align: middle;\n",
       "    }\n",
       "\n",
       "    .dataframe tbody tr th {\n",
       "        vertical-align: top;\n",
       "    }\n",
       "\n",
       "    .dataframe thead th {\n",
       "        text-align: right;\n",
       "    }\n",
       "</style>\n",
       "<table border=\"1\" class=\"dataframe\">\n",
       "  <thead>\n",
       "    <tr style=\"text-align: right;\">\n",
       "      <th></th>\n",
       "      <th>Title</th>\n",
       "      <th>processed_title</th>\n",
       "    </tr>\n",
       "  </thead>\n",
       "  <tbody>\n",
       "    <tr>\n",
       "      <th>0</th>\n",
       "      <td>Engineering Systems Analyst</td>\n",
       "      <td>engineering systems analyst</td>\n",
       "    </tr>\n",
       "    <tr>\n",
       "      <th>1</th>\n",
       "      <td>Stress Engineer Glasgow</td>\n",
       "      <td>stress engineer glasgow</td>\n",
       "    </tr>\n",
       "    <tr>\n",
       "      <th>2</th>\n",
       "      <td>Modelling and simulation analyst</td>\n",
       "      <td>modelling and simulation analyst</td>\n",
       "    </tr>\n",
       "    <tr>\n",
       "      <th>3</th>\n",
       "      <td>Engineering Systems Analyst / Mathematical Modeller</td>\n",
       "      <td>engineering systems analyst   mathematical modeller</td>\n",
       "    </tr>\n",
       "    <tr>\n",
       "      <th>4</th>\n",
       "      <td>Pioneer, Miser Engineering Systems Analyst</td>\n",
       "      <td>pioneer  miser engineering systems analyst</td>\n",
       "    </tr>\n",
       "  </tbody>\n",
       "</table>\n",
       "</div>"
      ],
      "text/plain": [
       "                                                 Title  \\\n",
       "0                          Engineering Systems Analyst   \n",
       "1                              Stress Engineer Glasgow   \n",
       "2                     Modelling and simulation analyst   \n",
       "3  Engineering Systems Analyst / Mathematical Modeller   \n",
       "4           Pioneer, Miser Engineering Systems Analyst   \n",
       "\n",
       "                                       processed_title  \n",
       "0                          engineering systems analyst  \n",
       "1                              stress engineer glasgow  \n",
       "2                     modelling and simulation analyst  \n",
       "3  engineering systems analyst   mathematical modeller  \n",
       "4           pioneer  miser engineering systems analyst  "
      ]
     },
     "execution_count": 13,
     "metadata": {},
     "output_type": "execute_result"
    }
   ],
   "source": [
    "df_Title[\"processed_title\"] = df_Title[\"processed_title\"].str.replace('[0-9]+', '', regex=True)\n",
    "df_Title.head()"
   ]
  },
  {
   "cell_type": "markdown",
   "id": "0b882ec4",
   "metadata": {},
   "source": [
    "### Aplicando Stopword Removal (Remoção de palavras irrelevantes):"
   ]
  },
  {
   "cell_type": "code",
   "execution_count": 14,
   "id": "133fcfa6",
   "metadata": {},
   "outputs": [
    {
     "data": {
      "text/plain": [
       "\"i, me, my, myself, we, our, ours, ourselves, you, you're, you've, you'll, you'd, your, yours, yourself, yourselves, he, him, his, himself, she, she's, her, hers, herself, it, it's, its, itself, they, them, their, theirs, themselves, what, which, who, whom, this, that, that'll, these, those, am, is, are, was, were, be, been, being, have, has, had, having, do, does, did, doing, a, an, the, and, but, if, or, because, as, until, while, of, at, by, for, with, about, against, between, into, through, during, before, after, above, below, to, from, up, down, in, out, on, off, over, under, again, further, then, once, here, there, when, where, why, how, all, any, both, each, few, more, most, other, some, such, no, nor, not, only, own, same, so, than, too, very, s, t, can, will, just, don, don't, should, should've, now, d, ll, m, o, re, ve, y, ain, aren, aren't, couldn, couldn't, didn, didn't, doesn, doesn't, hadn, hadn't, hasn, hasn't, haven, haven't, isn, isn't, ma, mightn, mightn't, mustn, mustn't, needn, needn't, shan, shan't, shouldn, shouldn't, wasn, wasn't, weren, weren't, won, won't, wouldn, wouldn't\""
      ]
     },
     "execution_count": 14,
     "metadata": {},
     "output_type": "execute_result"
    }
   ],
   "source": [
    "from nltk.corpus import stopwords\n",
    "\", \".join(stopwords.words('english'))"
   ]
  },
  {
   "cell_type": "code",
   "execution_count": 15,
   "id": "d500ecfd",
   "metadata": {},
   "outputs": [
    {
     "data": {
      "text/html": [
       "<div>\n",
       "<style scoped>\n",
       "    .dataframe tbody tr th:only-of-type {\n",
       "        vertical-align: middle;\n",
       "    }\n",
       "\n",
       "    .dataframe tbody tr th {\n",
       "        vertical-align: top;\n",
       "    }\n",
       "\n",
       "    .dataframe thead th {\n",
       "        text-align: right;\n",
       "    }\n",
       "</style>\n",
       "<table border=\"1\" class=\"dataframe\">\n",
       "  <thead>\n",
       "    <tr style=\"text-align: right;\">\n",
       "      <th></th>\n",
       "      <th>Title</th>\n",
       "      <th>processed_title</th>\n",
       "    </tr>\n",
       "  </thead>\n",
       "  <tbody>\n",
       "    <tr>\n",
       "      <th>0</th>\n",
       "      <td>Engineering Systems Analyst</td>\n",
       "      <td>engineering systems analyst</td>\n",
       "    </tr>\n",
       "    <tr>\n",
       "      <th>1</th>\n",
       "      <td>Stress Engineer Glasgow</td>\n",
       "      <td>stress engineer glasgow</td>\n",
       "    </tr>\n",
       "    <tr>\n",
       "      <th>2</th>\n",
       "      <td>Modelling and simulation analyst</td>\n",
       "      <td>modelling simulation analyst</td>\n",
       "    </tr>\n",
       "    <tr>\n",
       "      <th>3</th>\n",
       "      <td>Engineering Systems Analyst / Mathematical Modeller</td>\n",
       "      <td>engineering systems analyst mathematical modeller</td>\n",
       "    </tr>\n",
       "    <tr>\n",
       "      <th>4</th>\n",
       "      <td>Pioneer, Miser Engineering Systems Analyst</td>\n",
       "      <td>pioneer miser engineering systems analyst</td>\n",
       "    </tr>\n",
       "  </tbody>\n",
       "</table>\n",
       "</div>"
      ],
      "text/plain": [
       "                                                 Title  \\\n",
       "0                          Engineering Systems Analyst   \n",
       "1                              Stress Engineer Glasgow   \n",
       "2                     Modelling and simulation analyst   \n",
       "3  Engineering Systems Analyst / Mathematical Modeller   \n",
       "4           Pioneer, Miser Engineering Systems Analyst   \n",
       "\n",
       "                                     processed_title  \n",
       "0                        engineering systems analyst  \n",
       "1                            stress engineer glasgow  \n",
       "2                       modelling simulation analyst  \n",
       "3  engineering systems analyst mathematical modeller  \n",
       "4          pioneer miser engineering systems analyst  "
      ]
     },
     "execution_count": 15,
     "metadata": {},
     "output_type": "execute_result"
    }
   ],
   "source": [
    "STOPWORDS = set(stopwords.words('english'))\n",
    "def remove_stopwords(text):\n",
    "  return \" \".join([word for word in str(text).split() if word not in STOPWORDS])\n",
    "\n",
    "df_Title[\"processed_title\"] = df_Title[\"processed_title\"].apply(lambda text: remove_stopwords(text))\n",
    "df_Title.head()"
   ]
  },
  {
   "cell_type": "markdown",
   "id": "c40d4aa4",
   "metadata": {},
   "source": [
    "### Removendo palavras mais frequentes:"
   ]
  },
  {
   "cell_type": "code",
   "execution_count": 16,
   "id": "4a57a79e",
   "metadata": {},
   "outputs": [
    {
     "data": {
      "text/plain": [
       "[('manager', 50162),\n",
       " ('engineer', 24192),\n",
       " ('sales', 19769),\n",
       " ('senior', 16976),\n",
       " ('developer', 13895),\n",
       " ('assistant', 12179),\n",
       " ('k', 11057),\n",
       " ('executive', 10632),\n",
       " ('business', 9988),\n",
       " ('consultant', 9496)]"
      ]
     },
     "execution_count": 16,
     "metadata": {},
     "output_type": "execute_result"
    }
   ],
   "source": [
    "from collections import Counter\n",
    "\n",
    "cnt_title = Counter() # Instance\n",
    "for text in df_Title[\"processed_title\"].values:\n",
    "  for word in text.split():\n",
    "    cnt_title[word] += 1\n",
    "\n",
    "cnt_title.most_common(10)"
   ]
  },
  {
   "cell_type": "markdown",
   "id": "4ddc7060",
   "metadata": {},
   "source": [
    "**NOTE:**  \n",
    "Na minha opinião quase todas, senão todas (tirandi \"k\") são relevantes para o modelo aprender. Sabendo disso não vou remover nenhuma delas."
   ]
  },
  {
   "cell_type": "markdown",
   "id": "c3c54899",
   "metadata": {},
   "source": [
    "### Remoção de palavras raras:"
   ]
  },
  {
   "cell_type": "code",
   "execution_count": 17,
   "id": "3ee38a5d",
   "metadata": {},
   "outputs": [
    {
     "data": {
      "text/plain": [
       "{'bellhill',\n",
       " 'constructions',\n",
       " 'hydrolic',\n",
       " 'improvemen',\n",
       " 'leadopportunity',\n",
       " 'mlnlycke',\n",
       " 'norley',\n",
       " 'tase',\n",
       " 'techniciancivil',\n",
       " 'tuiton'}"
      ]
     },
     "execution_count": 17,
     "metadata": {},
     "output_type": "execute_result"
    }
   ],
   "source": [
    "n_rare_words = 10\n",
    "RAREWORDS = set([w for (w, wc) in cnt_title.most_common()[:-n_rare_words-1:-1]])\n",
    "RAREWORDS"
   ]
  },
  {
   "cell_type": "code",
   "execution_count": 18,
   "id": "433836af",
   "metadata": {},
   "outputs": [
    {
     "data": {
      "text/html": [
       "<div>\n",
       "<style scoped>\n",
       "    .dataframe tbody tr th:only-of-type {\n",
       "        vertical-align: middle;\n",
       "    }\n",
       "\n",
       "    .dataframe tbody tr th {\n",
       "        vertical-align: top;\n",
       "    }\n",
       "\n",
       "    .dataframe thead th {\n",
       "        text-align: right;\n",
       "    }\n",
       "</style>\n",
       "<table border=\"1\" class=\"dataframe\">\n",
       "  <thead>\n",
       "    <tr style=\"text-align: right;\">\n",
       "      <th></th>\n",
       "      <th>Title</th>\n",
       "      <th>processed_title</th>\n",
       "    </tr>\n",
       "  </thead>\n",
       "  <tbody>\n",
       "    <tr>\n",
       "      <th>0</th>\n",
       "      <td>Engineering Systems Analyst</td>\n",
       "      <td>engineering systems analyst</td>\n",
       "    </tr>\n",
       "    <tr>\n",
       "      <th>1</th>\n",
       "      <td>Stress Engineer Glasgow</td>\n",
       "      <td>stress engineer glasgow</td>\n",
       "    </tr>\n",
       "    <tr>\n",
       "      <th>2</th>\n",
       "      <td>Modelling and simulation analyst</td>\n",
       "      <td>modelling simulation analyst</td>\n",
       "    </tr>\n",
       "    <tr>\n",
       "      <th>3</th>\n",
       "      <td>Engineering Systems Analyst / Mathematical Modeller</td>\n",
       "      <td>engineering systems analyst mathematical modeller</td>\n",
       "    </tr>\n",
       "    <tr>\n",
       "      <th>4</th>\n",
       "      <td>Pioneer, Miser Engineering Systems Analyst</td>\n",
       "      <td>pioneer miser engineering systems analyst</td>\n",
       "    </tr>\n",
       "  </tbody>\n",
       "</table>\n",
       "</div>"
      ],
      "text/plain": [
       "                                                 Title  \\\n",
       "0                          Engineering Systems Analyst   \n",
       "1                              Stress Engineer Glasgow   \n",
       "2                     Modelling and simulation analyst   \n",
       "3  Engineering Systems Analyst / Mathematical Modeller   \n",
       "4           Pioneer, Miser Engineering Systems Analyst   \n",
       "\n",
       "                                     processed_title  \n",
       "0                        engineering systems analyst  \n",
       "1                            stress engineer glasgow  \n",
       "2                       modelling simulation analyst  \n",
       "3  engineering systems analyst mathematical modeller  \n",
       "4          pioneer miser engineering systems analyst  "
      ]
     },
     "execution_count": 18,
     "metadata": {},
     "output_type": "execute_result"
    }
   ],
   "source": [
    "n_rare_words = 10\n",
    "RAREWORDS = set([w for (w, wc) in cnt_title.most_common()[:-n_rare_words-1:-1]])\n",
    "def remove_rarewords(text):\n",
    "  return \" \".join([word for word in str(text).split() if word not in RAREWORDS])\n",
    "\n",
    "df_Title[\"processed_title\"] = df_Title[\"processed_title\"].apply(lambda text: remove_rarewords(text))\n",
    "df_Title.head()"
   ]
  },
  {
   "cell_type": "markdown",
   "id": "292bd1ca",
   "metadata": {},
   "source": [
    "### Aplicando a técnica de Stemming:"
   ]
  },
  {
   "cell_type": "code",
   "execution_count": 19,
   "id": "f8cf9f20",
   "metadata": {},
   "outputs": [
    {
     "data": {
      "text/html": [
       "<div>\n",
       "<style scoped>\n",
       "    .dataframe tbody tr th:only-of-type {\n",
       "        vertical-align: middle;\n",
       "    }\n",
       "\n",
       "    .dataframe tbody tr th {\n",
       "        vertical-align: top;\n",
       "    }\n",
       "\n",
       "    .dataframe thead th {\n",
       "        text-align: right;\n",
       "    }\n",
       "</style>\n",
       "<table border=\"1\" class=\"dataframe\">\n",
       "  <thead>\n",
       "    <tr style=\"text-align: right;\">\n",
       "      <th></th>\n",
       "      <th>Title</th>\n",
       "      <th>processed_title</th>\n",
       "    </tr>\n",
       "  </thead>\n",
       "  <tbody>\n",
       "    <tr>\n",
       "      <th>0</th>\n",
       "      <td>Engineering Systems Analyst</td>\n",
       "      <td>engin system analyst</td>\n",
       "    </tr>\n",
       "    <tr>\n",
       "      <th>1</th>\n",
       "      <td>Stress Engineer Glasgow</td>\n",
       "      <td>stress engin glasgow</td>\n",
       "    </tr>\n",
       "    <tr>\n",
       "      <th>2</th>\n",
       "      <td>Modelling and simulation analyst</td>\n",
       "      <td>model simul analyst</td>\n",
       "    </tr>\n",
       "    <tr>\n",
       "      <th>3</th>\n",
       "      <td>Engineering Systems Analyst / Mathematical Modeller</td>\n",
       "      <td>engin system analyst mathemat model</td>\n",
       "    </tr>\n",
       "    <tr>\n",
       "      <th>4</th>\n",
       "      <td>Pioneer, Miser Engineering Systems Analyst</td>\n",
       "      <td>pioneer miser engin system analyst</td>\n",
       "    </tr>\n",
       "  </tbody>\n",
       "</table>\n",
       "</div>"
      ],
      "text/plain": [
       "                                                 Title  \\\n",
       "0                          Engineering Systems Analyst   \n",
       "1                              Stress Engineer Glasgow   \n",
       "2                     Modelling and simulation analyst   \n",
       "3  Engineering Systems Analyst / Mathematical Modeller   \n",
       "4           Pioneer, Miser Engineering Systems Analyst   \n",
       "\n",
       "                       processed_title  \n",
       "0                 engin system analyst  \n",
       "1                 stress engin glasgow  \n",
       "2                  model simul analyst  \n",
       "3  engin system analyst mathemat model  \n",
       "4   pioneer miser engin system analyst  "
      ]
     },
     "execution_count": 19,
     "metadata": {},
     "output_type": "execute_result"
    }
   ],
   "source": [
    "from nltk.stem.porter import PorterStemmer\n",
    "\n",
    "stemmer = PorterStemmer() # Instance.\n",
    "def stem_words(text):\n",
    "  return \" \".join([stemmer.stem(word) for word in text.split()])\n",
    "\n",
    "df_Title[\"processed_title\"] = df_Title[\"processed_title\"].apply(lambda text: stem_words(text))\n",
    "df_Title.head()"
   ]
  },
  {
   "cell_type": "markdown",
   "id": "2bef9324",
   "metadata": {},
   "source": [
    "### Aplicando a técnica de Lemmatization + Part-of-Speech Tagging:"
   ]
  },
  {
   "cell_type": "code",
   "execution_count": 20,
   "id": "97b52457",
   "metadata": {},
   "outputs": [
    {
     "data": {
      "text/html": [
       "<div>\n",
       "<style scoped>\n",
       "    .dataframe tbody tr th:only-of-type {\n",
       "        vertical-align: middle;\n",
       "    }\n",
       "\n",
       "    .dataframe tbody tr th {\n",
       "        vertical-align: top;\n",
       "    }\n",
       "\n",
       "    .dataframe thead th {\n",
       "        text-align: right;\n",
       "    }\n",
       "</style>\n",
       "<table border=\"1\" class=\"dataframe\">\n",
       "  <thead>\n",
       "    <tr style=\"text-align: right;\">\n",
       "      <th></th>\n",
       "      <th>Title</th>\n",
       "      <th>processed_title</th>\n",
       "    </tr>\n",
       "  </thead>\n",
       "  <tbody>\n",
       "    <tr>\n",
       "      <th>0</th>\n",
       "      <td>Engineering Systems Analyst</td>\n",
       "      <td>engin system analyst</td>\n",
       "    </tr>\n",
       "    <tr>\n",
       "      <th>1</th>\n",
       "      <td>Stress Engineer Glasgow</td>\n",
       "      <td>stress engin glasgow</td>\n",
       "    </tr>\n",
       "    <tr>\n",
       "      <th>2</th>\n",
       "      <td>Modelling and simulation analyst</td>\n",
       "      <td>model simul analyst</td>\n",
       "    </tr>\n",
       "    <tr>\n",
       "      <th>3</th>\n",
       "      <td>Engineering Systems Analyst / Mathematical Modeller</td>\n",
       "      <td>engin system analyst mathemat model</td>\n",
       "    </tr>\n",
       "    <tr>\n",
       "      <th>4</th>\n",
       "      <td>Pioneer, Miser Engineering Systems Analyst</td>\n",
       "      <td>pioneer miser engin system analyst</td>\n",
       "    </tr>\n",
       "  </tbody>\n",
       "</table>\n",
       "</div>"
      ],
      "text/plain": [
       "                                                 Title  \\\n",
       "0                          Engineering Systems Analyst   \n",
       "1                              Stress Engineer Glasgow   \n",
       "2                     Modelling and simulation analyst   \n",
       "3  Engineering Systems Analyst / Mathematical Modeller   \n",
       "4           Pioneer, Miser Engineering Systems Analyst   \n",
       "\n",
       "                       processed_title  \n",
       "0                 engin system analyst  \n",
       "1                 stress engin glasgow  \n",
       "2                  model simul analyst  \n",
       "3  engin system analyst mathemat model  \n",
       "4   pioneer miser engin system analyst  "
      ]
     },
     "execution_count": 20,
     "metadata": {},
     "output_type": "execute_result"
    }
   ],
   "source": [
    "from nltk.stem import WordNetLemmatizer\n",
    "from nltk.corpus import wordnet\n",
    "import nltk\n",
    "\n",
    "lemmatizer = WordNetLemmatizer() # Instance\n",
    "wordnet_map = {\"N\":wordnet.NOUN, \"V\":wordnet.VERB, \"J\":wordnet.ADJ, \"R\":wordnet.ADV} # Apply dict mapping.\n",
    "\n",
    "# Lemmatize words function.\n",
    "def lemmatize_words(text):\n",
    "  pos_tagged_text = nltk.pos_tag(text.split())\n",
    "  return \" \".join([lemmatizer.lemmatize(word, wordnet_map.get(pos[0], wordnet.NOUN)) for word, pos in pos_tagged_text])\n",
    "\n",
    "df_Title[\"processed_title\"] = df_Title[\"processed_title\"].apply(lambda text: lemmatize_words(text))\n",
    "df_Title.head()"
   ]
  },
  {
   "cell_type": "markdown",
   "id": "6c3553ff",
   "metadata": {},
   "source": [
    "### Aplicando a técnica de Count Vectorizer:"
   ]
  },
  {
   "cell_type": "code",
   "execution_count": 21,
   "id": "b8545cf0",
   "metadata": {},
   "outputs": [],
   "source": [
    "from sklearn.feature_extraction.text import CountVectorizer\n",
    "\n",
    "vectorizer = CountVectorizer() # Instance.\n",
    "df_title_vectorized = vectorizer.fit_transform(df_Title[\"processed_title\"])"
   ]
  },
  {
   "cell_type": "code",
   "execution_count": 22,
   "id": "f536ba7d",
   "metadata": {},
   "outputs": [
    {
     "data": {
      "text/plain": [
       "<244768x14917 sparse matrix of type '<class 'numpy.int64'>'\n",
       "\twith 923171 stored elements in Compressed Sparse Row format>"
      ]
     },
     "execution_count": 22,
     "metadata": {},
     "output_type": "execute_result"
    }
   ],
   "source": [
    "df_title_vectorized"
   ]
  },
  {
   "cell_type": "markdown",
   "id": "261a67cc",
   "metadata": {},
   "source": [
    "---"
   ]
  },
  {
   "cell_type": "markdown",
   "id": "ae008cd4",
   "metadata": {},
   "source": [
    "## 03.3 - Pré-Processando a coluna (feature) \"SalaryNormalized\"\n",
    "> Tem o mesmo significado da coluna **\"SalaryRaw\"**, porém a **Adzuna** normalizou os dados para ser representado de forma anualizado."
   ]
  },
  {
   "cell_type": "code",
   "execution_count": 24,
   "id": "98d2142c",
   "metadata": {},
   "outputs": [
    {
     "name": "stdout",
     "output_type": "stream",
     "text": [
      "<class 'pandas.core.frame.DataFrame'>\n",
      "RangeIndex: 244768 entries, 0 to 244767\n",
      "Data columns (total 1 columns):\n",
      " #   Column            Non-Null Count   Dtype\n",
      "---  ------            --------------   -----\n",
      " 0   SalaryNormalized  244768 non-null  int64\n",
      "dtypes: int64(1)\n",
      "memory usage: 1.9 MB\n"
     ]
    },
    {
     "data": {
      "text/html": [
       "<div>\n",
       "<style scoped>\n",
       "    .dataframe tbody tr th:only-of-type {\n",
       "        vertical-align: middle;\n",
       "    }\n",
       "\n",
       "    .dataframe tbody tr th {\n",
       "        vertical-align: top;\n",
       "    }\n",
       "\n",
       "    .dataframe thead th {\n",
       "        text-align: right;\n",
       "    }\n",
       "</style>\n",
       "<table border=\"1\" class=\"dataframe\">\n",
       "  <thead>\n",
       "    <tr style=\"text-align: right;\">\n",
       "      <th></th>\n",
       "      <th>SalaryNormalized</th>\n",
       "    </tr>\n",
       "  </thead>\n",
       "  <tbody>\n",
       "    <tr>\n",
       "      <th>0</th>\n",
       "      <td>25000</td>\n",
       "    </tr>\n",
       "    <tr>\n",
       "      <th>1</th>\n",
       "      <td>30000</td>\n",
       "    </tr>\n",
       "    <tr>\n",
       "      <th>2</th>\n",
       "      <td>30000</td>\n",
       "    </tr>\n",
       "    <tr>\n",
       "      <th>3</th>\n",
       "      <td>27500</td>\n",
       "    </tr>\n",
       "    <tr>\n",
       "      <th>4</th>\n",
       "      <td>25000</td>\n",
       "    </tr>\n",
       "  </tbody>\n",
       "</table>\n",
       "</div>"
      ],
      "text/plain": [
       "   SalaryNormalized\n",
       "0             25000\n",
       "1             30000\n",
       "2             30000\n",
       "3             27500\n",
       "4             25000"
      ]
     },
     "execution_count": 24,
     "metadata": {},
     "output_type": "execute_result"
    }
   ],
   "source": [
    "df_SalaryNormalized = full_df[[\"SalaryNormalized\"]]\n",
    "df_SalaryNormalized.info()\n",
    "df_SalaryNormalized.head()"
   ]
  },
  {
   "cell_type": "markdown",
   "id": "6b79d419",
   "metadata": {},
   "source": [
    "### Verificando quanto porcento (%) dos dados são ausentes (missing):"
   ]
  },
  {
   "cell_type": "code",
   "execution_count": 25,
   "id": "df66dd0d",
   "metadata": {},
   "outputs": [
    {
     "data": {
      "text/plain": [
       "SalaryNormalized    0\n",
       "dtype: int64"
      ]
     },
     "execution_count": 25,
     "metadata": {},
     "output_type": "execute_result"
    }
   ],
   "source": [
    "# Data missing sum.\n",
    "missing = df_SalaryNormalized.isnull().sum()\n",
    "missing"
   ]
  },
  {
   "cell_type": "code",
   "execution_count": 26,
   "id": "4446a12c",
   "metadata": {},
   "outputs": [
    {
     "data": {
      "text/plain": [
       "SalaryNormalized    0.0\n",
       "dtype: float64"
      ]
     },
     "execution_count": 26,
     "metadata": {},
     "output_type": "execute_result"
    }
   ],
   "source": [
    "# Data missing in percent.\n",
    "percentMissing = (missing / len(df_SalaryNormalized.index)) * 100\n",
    "percentMissing"
   ]
  },
  {
   "cell_type": "markdown",
   "id": "56bcd3ce",
   "metadata": {},
   "source": [
    "**NOTE:**  \n",
    "Essa é a variável **target**. Por hora, vamos trabalhar com ela do jeito que está normalizado pelo a **Adzuna** ignorando se a mesma realmente fez um bom trabalho. O objetivo dessa abordagem vai ser ter algo disponível para a etapa de **treinamento** e **validação** trabalhar o mais rápido possível."
   ]
  },
  {
   "cell_type": "markdown",
   "id": "0b2b3504",
   "metadata": {},
   "source": [
    "---"
   ]
  },
  {
   "cell_type": "markdown",
   "id": "79fcc970",
   "metadata": {},
   "source": [
    "# 04 - Load\n",
    "> A etapa de **load** vai ser responsável por salvar os dados já ***Pré-Processados*** por uma ou mais colunas (features).\n",
    "\n",
    "**NOTE:**  \n",
    "Essa etapa segue uma lógica incremental, onde, em cada iteração **(Load-v1, Load-v2,..., Load-vn)** nós vamos salvando os dados já manipulados com objetivo de encontrar uma melhor métrica ou modelagem dos dados."
   ]
  },
  {
   "cell_type": "markdown",
   "id": "fc429be6",
   "metadata": {},
   "source": [
    "---"
   ]
  },
  {
   "cell_type": "markdown",
   "id": "cd31c187",
   "metadata": {},
   "source": [
    "## 04.1 - Load-v1\n",
    "Para esse primeiro **Load** vamos começar com as colunas (features) mais simples possíveis, que são:\n",
    " - **Title** como variável **independente**.\n",
    " - **\"SalaryNormalized\"** como variável **dependente**.\n",
    "\n",
    "**NOTE:**  \n",
    "Eu escolhi essas colunas (features), pois, já receberam algum **Pré-Processamento básico** (o que não significa que mudanças possam ser feitas)."
   ]
  },
  {
   "cell_type": "markdown",
   "id": "4e9d09c8",
   "metadata": {},
   "source": [
    "### Salvando a Matriz esparsa:\n",
    "Primeiro, vamos salvar o resultado do **Pré-Processamento** na coluna (feature) **Title**."
   ]
  },
  {
   "cell_type": "code",
   "execution_count": 27,
   "id": "b83f16eb",
   "metadata": {},
   "outputs": [],
   "source": [
    "import scipy.sparse\n",
    "scipy.sparse.save_npz('df_title_vectorized.npz', df_title_vectorized)"
   ]
  },
  {
   "cell_type": "markdown",
   "id": "21e8ed3a",
   "metadata": {},
   "source": [
    "### SalaryNormalized:\n",
    "Para coluna (feature) **\"SalaryNormalized\"** nós vamos pegar ela na hora do treinamento do modelo visto que alterações não foram feitas."
   ]
  },
  {
   "cell_type": "markdown",
   "id": "0f3de0c3",
   "metadata": {},
   "source": [
    "---"
   ]
  },
  {
   "cell_type": "markdown",
   "id": "211df7e7",
   "metadata": {},
   "source": [
    "# Resumos\n",
    "\n",
    " - **Load-v1:**\n",
    "   - No ***Load-v1*** foi **Pré-Processada** a coluna (features) **Title**.\n",
    "   - Também foi utilizada a coluna (feature) **SalaryNormalized** que já havia sido normalizada pelo a **Adzuna**.\n",
    "   - O objetivo era ter **features** o mais rápido possível disponíveis para a etapa de **Modelagem & Validação**."
   ]
  }
 ],
 "metadata": {
  "kernelspec": {
   "display_name": "Python 3 (ipykernel)",
   "language": "python",
   "name": "python3"
  },
  "language_info": {
   "codemirror_mode": {
    "name": "ipython",
    "version": 3
   },
   "file_extension": ".py",
   "mimetype": "text/x-python",
   "name": "python",
   "nbconvert_exporter": "python",
   "pygments_lexer": "ipython3",
   "version": "3.9.7"
  }
 },
 "nbformat": 4,
 "nbformat_minor": 5
}
