{
 "cells": [
  {
   "cell_type": "markdown",
   "id": "d5f27968",
   "metadata": {},
   "source": [
    "# Pré-Processamento\n",
    "Esse **Jupyter Notebook** tem como objetivo aplicar um **Pré-Processamento** no conjunto de dados (ou em parte dele)."
   ]
  },
  {
   "cell_type": "markdown",
   "id": "2d5c407c",
   "metadata": {},
   "source": [
    "# Resumo da Análise preliminar\n",
    "Na etapa anterior foi feita uma breve análise do conjunto de dados. O **resumo** dessa análise foi o seguinte:\n",
    "\n",
    " - Temos um grande conjunto de dados para trabalharmos:\n",
    "   - Com 244.768 amostras e 12 colunas (atributos/campos/features).\n",
    " - Porém, vai ser necessário um Pré-Processamento na maior parte das colunas, devido o fato das colunas serem representadas por textos (informações).\n",
    " - Algumas colunas estão com muitos dados faltantes, principalmente a **ContractType** que tem **73%** dos dados faltantes.\n",
    " - Estatísticas da variável (feature) **\"SalaryNormalized\"**:\n",
    "   - O menor salário de todos (anualmente) foi de 5.000;\n",
    "   - O maior salário de todos (anualmente) foi de 200.000;\n",
    "   - A média (mean) de todos os salários (anualmente) foi de 34.122;\n",
    "   - A mediana (median/2° Quartil = 50% dos dados) de todos os salários (anualmente) foi de 30.000:\n",
    "     - Vejam que a nossa mediana não está tão distante da nossa média.\n",
    "   - A moda (salário mais frequente) foi 35.000 com 9.178 amostras;\n",
    "   - O TOP 10 salários mais frequentes foram os seguintes:\n",
    "     - 35.000 com 9.178 amostras;\n",
    "     - 30.000 com 8.319 amostras;\n",
    "     - 40.000 com 7.688 amostras;\n",
    "     - 45.000 com 6.735 amostras;\n",
    "     - 25.000 com 6.309 amostras;\n",
    "     - 32.500 com 6.215 amostras;\n",
    "     - 37.500 com 5.756 amostras;\n",
    "     - 27.500 com 5.544 amostras;\n",
    "     - 50.000 com 5.424 amostras;\n",
    "     - 42.500 com 4.555 amostras.\n",
    "   - O Desvio Padrão (Standard Deviation/ que representa quão longe nós estamos da média) é 17.640."
   ]
  },
  {
   "cell_type": "markdown",
   "id": "f4fb6821",
   "metadata": {},
   "source": [
    "# Classe \"Preprocessing\"\n",
    "Um dos requisitos da **GRIA** para o desafio era que os códigos fossem *reaproveitados* e *documentados*. Isso para evitar códigos duplicados e reaproveitamento de códigos em trabalhos futuros."
   ]
  },
  {
   "cell_type": "code",
   "execution_count": 1,
   "id": "4c50c4a3",
   "metadata": {},
   "outputs": [],
   "source": [
    "from sklearn.feature_extraction.text import TfidfTransformer\n",
    "from sklearn.feature_extraction.text import CountVectorizer\n",
    "\n",
    "from nltk.stem.porter import PorterStemmer\n",
    "from nltk.stem import WordNetLemmatizer\n",
    "from nltk.corpus import wordnet\n",
    "\n",
    "import pandas as pd\n",
    "import scipy.sparse\n",
    "import platform\n",
    "import py7zr\n",
    "import nltk\n",
    "import os\n",
    "\n",
    "\n",
    "class Preprocessing:\n",
    "\n",
    "  def extract_7z_data(self, path):\n",
    "    if platform.system() == 'Windows':\n",
    "      try:\n",
    "        # For Windows users.\n",
    "        with py7zr.SevenZipFile(path, mode='r') as archive:\n",
    "          archive.extractall(path=\"C:\\Windows\\Temp\")\n",
    "      except FileNotFoundError:\n",
    "        print(\"File or path not!\")\n",
    "      else:\n",
    "        print(\"File extracted!\")\n",
    "    elif platform.system() == 'Linux':\n",
    "      try:\n",
    "        # For Linux users.\n",
    "        with py7zr.SevenZipFile(path, mode='r') as archive:\n",
    "          archive.extractall(path=\"/tmp\")\n",
    "      except FileNotFoundError:\n",
    "        print(\"File or path not!\")\n",
    "      else:\n",
    "        print(\"File extracted!\")\n",
    "    else:\n",
    "      print(\"This method only works with Windows and Linux Operating Systems.\")\n",
    "\n",
    "\n",
    "  def get_traing_data(self):\n",
    "    if platform.system() == 'Windows':\n",
    "      try:\n",
    "        # For Windows users.\n",
    "        df_training = pd.read_csv(\"C:\\Windows\\Temp\\Train_rev1.csv\")\n",
    "      except FileNotFoundError:\n",
    "        print(\"File or path not!\")\n",
    "      else:\n",
    "        print(\"Training data ready!\")\n",
    "        return df_training\n",
    "    elif platform.system() == 'Linux':\n",
    "      try:\n",
    "        # For Linux users.\n",
    "        df_training = pd.read_csv(\"/tmp/Train_rev1.csv\")\n",
    "      except FileNotFoundError:\n",
    "        print(\"File or path not!\")\n",
    "      else:\n",
    "        print(\"Training data ready!\")\n",
    "        return df_training\n",
    "\n",
    "\n",
    "  def get_testing_data(self): \n",
    "    if platform.system() == 'Windows':\n",
    "      try:\n",
    "        # For Windows users.\n",
    "        df_testing = pd.read_csv(\"C:\\Windows\\Temp\\Test_rev1.7z\")\n",
    "      except FileNotFoundError:\n",
    "        print(\"File or path not!\")\n",
    "      else:\n",
    "        print(\"Testing data ready!\")\n",
    "        return df_testing\n",
    "    elif platform.system() == 'Linux':\n",
    "      try:\n",
    "        # For Linux users.\n",
    "        df_testing = pd.read_csv(\"/tmp/Test_rev1.7z\")\n",
    "      except FileNotFoundError:\n",
    "        print(\"File or path not!\")\n",
    "      else:\n",
    "        print(\"Testing data ready!\")\n",
    "        return df_testing\n",
    "\n",
    "  def missing_by_numbers(self, df):\n",
    "    missing = df.isnull().sum()\n",
    "    return missing\n",
    "\n",
    "\n",
    "  def missing_by_percent(self, df):\n",
    "    try:\n",
    "      percentMissing = (df.isnull().sum() / len(df_Title.index)) * 100\n",
    "    except ZeroDivisionError:\n",
    "      print(\"Sorry! You are dividing by zero.\")\n",
    "    else:\n",
    "      return percentMissing\n",
    "\n",
    "\n",
    "  def apply_lower_casing(self, df):\n",
    "    df = df.str.lower()\n",
    "    return df\n",
    "\n",
    "\n",
    "  def remove_punctuations(self, df):\n",
    "    df = df.str.replace('[^\\w\\s]',' ', regex=True)\n",
    "    return df\n",
    "\n",
    "  \n",
    "  def remove_numbers(self, df):\n",
    "    df = df.str.replace('[0-9]+', '', regex=True)\n",
    "    return df\n",
    "\n",
    "\n",
    "  def apply_stemming(self, df):\n",
    "    stemmer = PorterStemmer() # Instance.    \n",
    "    return \" \".join([stemmer.stem(word) for word in str(df).split()])\n",
    "    print(\"Stemming concluded!\")\n",
    "\n",
    "\n",
    "  def apply_lemmatization(self, df):\n",
    "    try:\n",
    "      lemmatizer = WordNetLemmatizer()\n",
    "      wordnet_map = {\"N\":wordnet.NOUN, \"V\":wordnet.VERB, \"J\":wordnet.ADJ, \"R\":wordnet.ADV} # Apply dict mapping.\n",
    "      pos_tagged_text = nltk.pos_tag(df.split())\n",
    "      return \" \".join([lemmatizer.lemmatize(word, wordnet_map.get(pos[0], wordnet.NOUN)) for word, pos in pos_tagged_text])\n",
    "      print(\"Lemmatization concluded!\")\n",
    "    except (LookupError, OSError):\n",
    "      nltk.download('wordnet')\n",
    "      nltk.download('omw-1.4')\n",
    "      nltk.download('averaged_perceptron_tagger')\n",
    "    finally:\n",
    "      lemmatizer = WordNetLemmatizer()\n",
    "      wordnet_map = {\"N\":wordnet.NOUN, \"V\":wordnet.VERB, \"J\":wordnet.ADJ, \"R\":wordnet.ADV} # Apply dict mapping.\n",
    "      pos_tagged_text = nltk.pos_tag(df.split())\n",
    "      return \" \".join([lemmatizer.lemmatize(word, wordnet_map.get(pos[0], wordnet.NOUN)) for word, pos in pos_tagged_text])\n",
    "      print(\"Lemmatization concluded!\")\n",
    "\n",
    "\n",
    "  def apply_countVectorizer(self, df):\n",
    "    vectorizer = CountVectorizer(\n",
    "      stop_words=\"english\", # Add stopwords.\n",
    "      max_df=0.60, # Ignores terms that appear in MORE than 60% of documents.\n",
    "      min_df=0.05, # Ignores terms that appear in LESS than 5% of documents\n",
    "    )\n",
    "    df_vectorized = vectorizer.fit_transform(df)\n",
    "    return df_vectorized\n",
    "\n",
    "\n",
    "  def save_feature(self, feature_name, feature):\n",
    "    scipy.sparse.save_npz(f\"../resources/processed_features/{feature_name}\", feature)\n",
    "    print(\"Feature saved!\")"
   ]
  },
  {
   "cell_type": "markdown",
   "id": "4905c42c",
   "metadata": {},
   "source": [
    "Agora que nós já temos uma classe responsável por **Pré-Processar** nossos dados vamos criar uma instância para trabalhar com a mesma:"
   ]
  },
  {
   "cell_type": "code",
   "execution_count": 2,
   "id": "2d40e574",
   "metadata": {},
   "outputs": [],
   "source": [
    "# Preprocessing instance.\n",
    "preprocessing = Preprocessing()"
   ]
  },
  {
   "cell_type": "markdown",
   "id": "3d62d9a7",
   "metadata": {},
   "source": [
    "---"
   ]
  },
  {
   "cell_type": "markdown",
   "id": "18914f88",
   "metadata": {},
   "source": [
    "# 01 - Preparando os dados & Ambiente para o Pré-Processamento\n",
    "Nessa etapa vamos preparar os *dados* e o *ambiente (jupyter notebook)* para o nosso **Pré-Processamento**."
   ]
  },
  {
   "cell_type": "markdown",
   "id": "8d2a6624",
   "metadata": {},
   "source": [
    "---"
   ]
  },
  {
   "cell_type": "markdown",
   "id": "bdf030e9",
   "metadata": {},
   "source": [
    "## 01.1 -  Baixando as Bibliotecas necessárias\n",
    "Inicialmente vamos baixar as bibliotecas necessárias para nossa análise (Eu já tenho todas baixadas no meu ambiente virtual, mas você pode remover o comentário e baixar para sua máquina local ou Ambiente Virtual)."
   ]
  },
  {
   "cell_type": "code",
   "execution_count": 3,
   "id": "73ae6fc6",
   "metadata": {
    "scrolled": false
   },
   "outputs": [],
   "source": [
    "#!pip install --upgrade -r ../requirements.txt --user"
   ]
  },
  {
   "cell_type": "markdown",
   "id": "bf4659b3",
   "metadata": {},
   "source": [
    "---"
   ]
  },
  {
   "cell_type": "markdown",
   "id": "c56bb743",
   "metadata": {},
   "source": [
    "## 01.2 - Extraindo o conjunto de dados de treino\n",
    "Agora vamos extrair o conjunto de dados de treino. Para isso vamos utilizar o método **extract_7z_data()** da classe **Preprocessing**:"
   ]
  },
  {
   "cell_type": "code",
   "execution_count": 4,
   "id": "7992c6a7",
   "metadata": {},
   "outputs": [
    {
     "name": "stdout",
     "output_type": "stream",
     "text": [
      "File extracted!\n"
     ]
    }
   ],
   "source": [
    "preprocessing.extract_7z_data(\"../datasets/Train_rev1.7z\")"
   ]
  },
  {
   "cell_type": "markdown",
   "id": "1ecfedbb",
   "metadata": {},
   "source": [
    "**NOTE:**  \n",
    "Como o conjunto de dados é muito grande resolvi baixar a versão mais comprimida **.7z**. Optei também por descomprimir o conjunto de dados em um local temporário (diretório **/temp** no meu caso que estou utilizando Linux / Como se fosse uma **Staging Area**)."
   ]
  },
  {
   "cell_type": "markdown",
   "id": "39f57007",
   "metadata": {},
   "source": [
    "---"
   ]
  },
  {
   "cell_type": "markdown",
   "id": "aff567a6",
   "metadata": {},
   "source": [
    "## 01.3 - Configurando o tamanho das saídas (outputs)\n",
    "Antes de iniciarmos nosso **Pré-Processamento** vamos configurar o *Pandas* para exibir todo o conteúdo por amostra:"
   ]
  },
  {
   "cell_type": "code",
   "execution_count": 5,
   "id": "3f142e90",
   "metadata": {},
   "outputs": [],
   "source": [
    "import pandas as pd\n",
    "pd.options.display.max_colwidth = 100000"
   ]
  },
  {
   "cell_type": "markdown",
   "id": "975c7b10",
   "metadata": {},
   "source": [
    "---"
   ]
  },
  {
   "cell_type": "markdown",
   "id": "c0243092",
   "metadata": {},
   "source": [
    "## 01.4 - Pegando o conjunto de dados de treino\n",
    "Por fim, vamos pegar o conjunto de dados de treino que foi extraído com o método **extract_7z_data()**:"
   ]
  },
  {
   "cell_type": "code",
   "execution_count": 6,
   "id": "cfabeb6b",
   "metadata": {},
   "outputs": [
    {
     "name": "stdout",
     "output_type": "stream",
     "text": [
      "Training data ready!\n"
     ]
    }
   ],
   "source": [
    "full_df = preprocessing.get_traing_data()"
   ]
  },
  {
   "cell_type": "markdown",
   "id": "462cfbbe",
   "metadata": {},
   "source": [
    "---"
   ]
  },
  {
   "cell_type": "markdown",
   "id": "0790c756",
   "metadata": {},
   "source": [
    "# 02 - Visão geral (Overview) do conjunto de dados treino\n",
    "Agora vamos dar uma olhada geral no conjunto de dados de treinamento com a função **info()** do *Pandas*."
   ]
  },
  {
   "cell_type": "code",
   "execution_count": 7,
   "id": "d4116c0d",
   "metadata": {
    "scrolled": true
   },
   "outputs": [
    {
     "name": "stdout",
     "output_type": "stream",
     "text": [
      "<class 'pandas.core.frame.DataFrame'>\n",
      "RangeIndex: 244768 entries, 0 to 244767\n",
      "Data columns (total 12 columns):\n",
      " #   Column              Non-Null Count   Dtype \n",
      "---  ------              --------------   ----- \n",
      " 0   Id                  244768 non-null  int64 \n",
      " 1   Title               244767 non-null  object\n",
      " 2   FullDescription     244768 non-null  object\n",
      " 3   LocationRaw         244768 non-null  object\n",
      " 4   LocationNormalized  244768 non-null  object\n",
      " 5   ContractType        65442 non-null   object\n",
      " 6   ContractTime        180863 non-null  object\n",
      " 7   Company             212338 non-null  object\n",
      " 8   Category            244768 non-null  object\n",
      " 9   SalaryRaw           244768 non-null  object\n",
      " 10  SalaryNormalized    244768 non-null  int64 \n",
      " 11  SourceName          244767 non-null  object\n",
      "dtypes: int64(2), object(10)\n",
      "memory usage: 22.4+ MB\n"
     ]
    },
    {
     "data": {
      "text/html": [
       "<div>\n",
       "<style scoped>\n",
       "    .dataframe tbody tr th:only-of-type {\n",
       "        vertical-align: middle;\n",
       "    }\n",
       "\n",
       "    .dataframe tbody tr th {\n",
       "        vertical-align: top;\n",
       "    }\n",
       "\n",
       "    .dataframe thead th {\n",
       "        text-align: right;\n",
       "    }\n",
       "</style>\n",
       "<table border=\"1\" class=\"dataframe\">\n",
       "  <thead>\n",
       "    <tr style=\"text-align: right;\">\n",
       "      <th></th>\n",
       "      <th>Id</th>\n",
       "      <th>Title</th>\n",
       "      <th>FullDescription</th>\n",
       "      <th>LocationRaw</th>\n",
       "      <th>LocationNormalized</th>\n",
       "      <th>ContractType</th>\n",
       "      <th>ContractTime</th>\n",
       "      <th>Company</th>\n",
       "      <th>Category</th>\n",
       "      <th>SalaryRaw</th>\n",
       "      <th>SalaryNormalized</th>\n",
       "      <th>SourceName</th>\n",
       "    </tr>\n",
       "  </thead>\n",
       "  <tbody>\n",
       "    <tr>\n",
       "      <th>0</th>\n",
       "      <td>12612628</td>\n",
       "      <td>Engineering Systems Analyst</td>\n",
       "      <td>Engineering Systems Analyst Dorking Surrey Salary ****K Our client is located in Dorking, Surrey and are looking for Engineering Systems Analyst our client provides specialist software development Keywords Mathematical Modelling, Risk Analysis, System Modelling, Optimisation, MISER, PIONEEER Engineering Systems Analyst Dorking Surrey Salary ****K</td>\n",
       "      <td>Dorking, Surrey, Surrey</td>\n",
       "      <td>Dorking</td>\n",
       "      <td>NaN</td>\n",
       "      <td>permanent</td>\n",
       "      <td>Gregory Martin International</td>\n",
       "      <td>Engineering Jobs</td>\n",
       "      <td>20000 - 30000/annum 20-30K</td>\n",
       "      <td>25000</td>\n",
       "      <td>cv-library.co.uk</td>\n",
       "    </tr>\n",
       "    <tr>\n",
       "      <th>1</th>\n",
       "      <td>12612830</td>\n",
       "      <td>Stress Engineer Glasgow</td>\n",
       "      <td>Stress Engineer Glasgow Salary **** to **** We re currently looking for talented engineers to join our growing Glasgow team at a variety of levels. The roles are ideally suited to high calibre engineering graduates with any level of appropriate experience, so that we can give you the opportunity to use your technical skills to provide high quality input to our aerospace projects, spanning both aerostructures and aeroengines. In return, you can expect good career opportunities and the chance for advancement and personal and professional development, support while you gain Chartership and some opportunities to possibly travel or work in other offices, in or outside of the UK. The Requirements You will need to have a good engineering degree that includes structural analysis (such as aeronautical, mechanical, automotive, civil) with some experience in a professional engineering environment relevant to (but not limited to) the aerospace sector. You will need to demonstrate experience in at least one or more of the following areas: Structural/stress analysis Composite stress analysis (any industry) Linear and nonlinear finite element analysis Fatigue and damage tolerance Structural dynamics Thermal analysis Aerostructures experience You will also be expected to demonstrate the following qualities: A strong desire to progress quickly to a position of leadership Professional approach Strong communication skills, written and verbal Commercial awareness Team working, being comfortable working in international teams and self managing PLEASE NOTE SECURITY CLEARANCE IS REQUIRED FOR THIS ROLE Stress Engineer Glasgow Salary **** to ****</td>\n",
       "      <td>Glasgow, Scotland, Scotland</td>\n",
       "      <td>Glasgow</td>\n",
       "      <td>NaN</td>\n",
       "      <td>permanent</td>\n",
       "      <td>Gregory Martin International</td>\n",
       "      <td>Engineering Jobs</td>\n",
       "      <td>25000 - 35000/annum 25-35K</td>\n",
       "      <td>30000</td>\n",
       "      <td>cv-library.co.uk</td>\n",
       "    </tr>\n",
       "    <tr>\n",
       "      <th>2</th>\n",
       "      <td>12612844</td>\n",
       "      <td>Modelling and simulation analyst</td>\n",
       "      <td>Mathematical Modeller / Simulation Analyst / Operational Analyst Basingstoke, Hampshire Up to ****K AAE pension contribution, private medical and dental The opportunity Our client is an independent consultancy firm which has an opportunity for a Data Analyst with 35 years experience. The role will require the successful candidate to demonstrate their ability to analyse a problem and arrive at a solution, with varying levels of data being available. Essential skills Thorough knowledge of Excel and proven ability to utilise this to create powerful decision support models Experience in Modelling and Simulation Techniques, Experience of techniques such as Discrete Event Simulation and/or SD modelling Mathematical/scientific background  minimum degree qualified Proven analytical and problem solving skills Self Starter Ability to develop solid working relationships In addition to formal qualifications and experience, the successful candidate will require excellent written and verbal communication skills, be energetic, enterprising and have a determination to succeed. They will be required to build solid working relationships, both internally with colleagues and, most importantly, externally with our clients. They must be comfortable working independently to deliver against challenging client demands. The offices are located in Basingstoke, Hampshire, but our client work for clients worldwide. The successful candidate must therefore be prepared to undertake work at client sites for short periods of time. Physics, Mathematics, Modelling, Simulation, Analytical, Operational Research, Mathematical Modelling Mathematical Modeller / Simulation Analyst / Operational Analyst Basingstoke, Hampshire ****K AAE pension contribution, private medical and dental</td>\n",
       "      <td>Hampshire, South East, South East</td>\n",
       "      <td>Hampshire</td>\n",
       "      <td>NaN</td>\n",
       "      <td>permanent</td>\n",
       "      <td>Gregory Martin International</td>\n",
       "      <td>Engineering Jobs</td>\n",
       "      <td>20000 - 40000/annum 20-40K</td>\n",
       "      <td>30000</td>\n",
       "      <td>cv-library.co.uk</td>\n",
       "    </tr>\n",
       "    <tr>\n",
       "      <th>3</th>\n",
       "      <td>12613049</td>\n",
       "      <td>Engineering Systems Analyst / Mathematical Modeller</td>\n",
       "      <td>Engineering Systems Analyst / Mathematical Modeller. Our client is a highly successful and respected Consultancy providing specialist software development MISER, PIONEER, Maths, Mathematical, Optimisation, Risk Analysis, Asset Management, Water Industry, Access, Excel, VBA, SQL, Systems . Engineering Systems Analyst / Mathematical Modeller. Salary  ****K****K negotiable Location Dorking, Surrey</td>\n",
       "      <td>Surrey, South East, South East</td>\n",
       "      <td>Surrey</td>\n",
       "      <td>NaN</td>\n",
       "      <td>permanent</td>\n",
       "      <td>Gregory Martin International</td>\n",
       "      <td>Engineering Jobs</td>\n",
       "      <td>25000 - 30000/annum 25K-30K negotiable</td>\n",
       "      <td>27500</td>\n",
       "      <td>cv-library.co.uk</td>\n",
       "    </tr>\n",
       "    <tr>\n",
       "      <th>4</th>\n",
       "      <td>12613647</td>\n",
       "      <td>Pioneer, Miser Engineering Systems Analyst</td>\n",
       "      <td>Pioneer, Miser  Engineering Systems Analyst Dorking  Surrey Salary ****K Located in Surrey, our client provides specialist software development Pioneer, Miser  Engineering Systems Analyst Dorking  Surrey Salary ****K</td>\n",
       "      <td>Surrey, South East, South East</td>\n",
       "      <td>Surrey</td>\n",
       "      <td>NaN</td>\n",
       "      <td>permanent</td>\n",
       "      <td>Gregory Martin International</td>\n",
       "      <td>Engineering Jobs</td>\n",
       "      <td>20000 - 30000/annum 20-30K</td>\n",
       "      <td>25000</td>\n",
       "      <td>cv-library.co.uk</td>\n",
       "    </tr>\n",
       "  </tbody>\n",
       "</table>\n",
       "</div>"
      ],
      "text/plain": [
       "         Id                                                Title  \\\n",
       "0  12612628                          Engineering Systems Analyst   \n",
       "1  12612830                              Stress Engineer Glasgow   \n",
       "2  12612844                     Modelling and simulation analyst   \n",
       "3  12613049  Engineering Systems Analyst / Mathematical Modeller   \n",
       "4  12613647           Pioneer, Miser Engineering Systems Analyst   \n",
       "\n",
       "                                                                                                                                                                                                                                                                                                                                                                                                                                                                                                                                                                                                                                                                                                                                                                                                                                                                                                                                                                                                                                                                                                                                                                                                                                                                                                                                                                                                                                                                                                                                                                                                                                                                                                                                                                                                                               FullDescription  \\\n",
       "0                                                                                                                                                                                                                                                                                                                                                                                                                                                                                                                                                                                                                                                                                                                                                                                                                                                                                                                                                                                                                                                                                                                                                                                                                                                                                                                                                                                                                                                                                 Engineering Systems Analyst Dorking Surrey Salary ****K Our client is located in Dorking, Surrey and are looking for Engineering Systems Analyst our client provides specialist software development Keywords Mathematical Modelling, Risk Analysis, System Modelling, Optimisation, MISER, PIONEEER Engineering Systems Analyst Dorking Surrey Salary ****K   \n",
       "1                                                                                                                            Stress Engineer Glasgow Salary **** to **** We re currently looking for talented engineers to join our growing Glasgow team at a variety of levels. The roles are ideally suited to high calibre engineering graduates with any level of appropriate experience, so that we can give you the opportunity to use your technical skills to provide high quality input to our aerospace projects, spanning both aerostructures and aeroengines. In return, you can expect good career opportunities and the chance for advancement and personal and professional development, support while you gain Chartership and some opportunities to possibly travel or work in other offices, in or outside of the UK. The Requirements You will need to have a good engineering degree that includes structural analysis (such as aeronautical, mechanical, automotive, civil) with some experience in a professional engineering environment relevant to (but not limited to) the aerospace sector. You will need to demonstrate experience in at least one or more of the following areas: Structural/stress analysis Composite stress analysis (any industry) Linear and nonlinear finite element analysis Fatigue and damage tolerance Structural dynamics Thermal analysis Aerostructures experience You will also be expected to demonstrate the following qualities: A strong desire to progress quickly to a position of leadership Professional approach Strong communication skills, written and verbal Commercial awareness Team working, being comfortable working in international teams and self managing PLEASE NOTE SECURITY CLEARANCE IS REQUIRED FOR THIS ROLE Stress Engineer Glasgow Salary **** to ****   \n",
       "2  Mathematical Modeller / Simulation Analyst / Operational Analyst Basingstoke, Hampshire Up to ****K AAE pension contribution, private medical and dental The opportunity Our client is an independent consultancy firm which has an opportunity for a Data Analyst with 35 years experience. The role will require the successful candidate to demonstrate their ability to analyse a problem and arrive at a solution, with varying levels of data being available. Essential skills Thorough knowledge of Excel and proven ability to utilise this to create powerful decision support models Experience in Modelling and Simulation Techniques, Experience of techniques such as Discrete Event Simulation and/or SD modelling Mathematical/scientific background  minimum degree qualified Proven analytical and problem solving skills Self Starter Ability to develop solid working relationships In addition to formal qualifications and experience, the successful candidate will require excellent written and verbal communication skills, be energetic, enterprising and have a determination to succeed. They will be required to build solid working relationships, both internally with colleagues and, most importantly, externally with our clients. They must be comfortable working independently to deliver against challenging client demands. The offices are located in Basingstoke, Hampshire, but our client work for clients worldwide. The successful candidate must therefore be prepared to undertake work at client sites for short periods of time. Physics, Mathematics, Modelling, Simulation, Analytical, Operational Research, Mathematical Modelling Mathematical Modeller / Simulation Analyst / Operational Analyst Basingstoke, Hampshire ****K AAE pension contribution, private medical and dental   \n",
       "3                                                                                                                                                                                                                                                                                                                                                                                                                                                                                                                                                                                                                                                                                                                                                                                                                                                                                                                                                                                                                                                                                                                                                                                                                                                                                                                                                                                                                                Engineering Systems Analyst / Mathematical Modeller. Our client is a highly successful and respected Consultancy providing specialist software development MISER, PIONEER, Maths, Mathematical, Optimisation, Risk Analysis, Asset Management, Water Industry, Access, Excel, VBA, SQL, Systems . Engineering Systems Analyst / Mathematical Modeller. Salary  ****K****K negotiable Location Dorking, Surrey   \n",
       "4                                                                                                                                                                                                                                                                                                                                                                                                                                                                                                                                                                                                                                                                                                                                                                                                                                                                                                                                                                                                                                                                                                                                                                                                                                                                                                                                                                                                                                                                                                                                                                                                                     Pioneer, Miser  Engineering Systems Analyst Dorking  Surrey Salary ****K Located in Surrey, our client provides specialist software development Pioneer, Miser  Engineering Systems Analyst Dorking  Surrey Salary ****K   \n",
       "\n",
       "                         LocationRaw LocationNormalized ContractType  \\\n",
       "0            Dorking, Surrey, Surrey            Dorking          NaN   \n",
       "1        Glasgow, Scotland, Scotland            Glasgow          NaN   \n",
       "2  Hampshire, South East, South East          Hampshire          NaN   \n",
       "3     Surrey, South East, South East             Surrey          NaN   \n",
       "4     Surrey, South East, South East             Surrey          NaN   \n",
       "\n",
       "  ContractTime                       Company          Category  \\\n",
       "0    permanent  Gregory Martin International  Engineering Jobs   \n",
       "1    permanent  Gregory Martin International  Engineering Jobs   \n",
       "2    permanent  Gregory Martin International  Engineering Jobs   \n",
       "3    permanent  Gregory Martin International  Engineering Jobs   \n",
       "4    permanent  Gregory Martin International  Engineering Jobs   \n",
       "\n",
       "                                SalaryRaw  SalaryNormalized        SourceName  \n",
       "0              20000 - 30000/annum 20-30K             25000  cv-library.co.uk  \n",
       "1              25000 - 35000/annum 25-35K             30000  cv-library.co.uk  \n",
       "2              20000 - 40000/annum 20-40K             30000  cv-library.co.uk  \n",
       "3  25000 - 30000/annum 25K-30K negotiable             27500  cv-library.co.uk  \n",
       "4              20000 - 30000/annum 20-30K             25000  cv-library.co.uk  "
      ]
     },
     "execution_count": 7,
     "metadata": {},
     "output_type": "execute_result"
    }
   ],
   "source": [
    "full_df.info()\n",
    "full_df.head()"
   ]
  },
  {
   "cell_type": "markdown",
   "id": "b2ac166a",
   "metadata": {},
   "source": [
    "---"
   ]
  },
  {
   "cell_type": "markdown",
   "id": "2d709963",
   "metadata": {},
   "source": [
    "# 03 - Aplicando Pré-Processamento nas colunas (features)\n",
    "Nessa etapa vamos aplicar um **Pré-Processamento** em cada coluna individualmente."
   ]
  },
  {
   "cell_type": "markdown",
   "id": "5edaf640",
   "metadata": {},
   "source": [
    "---"
   ]
  },
  {
   "cell_type": "markdown",
   "id": "6c012dde",
   "metadata": {},
   "source": [
    "## 03.1 - Pré-Processando a coluna (feature) \"Id\"\n",
    "> Essa coluna (feature) não vai precisar ser Pré-Processada. Como nós sabemos é apenas o identificado único de cada amostra."
   ]
  },
  {
   "cell_type": "markdown",
   "id": "f4245fcc",
   "metadata": {},
   "source": [
    "---"
   ]
  },
  {
   "cell_type": "markdown",
   "id": "cba6cd8e",
   "metadata": {},
   "source": [
    "## 03.2 - Pré-Processando a coluna (feature) \"Title\"\n",
    "> Resumidamente, o **Title** é o resumo do *cargo* ou *função*."
   ]
  },
  {
   "cell_type": "markdown",
   "id": "5543d839",
   "metadata": {},
   "source": [
    "### Preparando e colocando o tipo de dado mais adequado na *coluna (feature)* \"title\":"
   ]
  },
  {
   "cell_type": "code",
   "execution_count": 8,
   "id": "f3e3c349",
   "metadata": {
    "scrolled": true
   },
   "outputs": [
    {
     "name": "stdout",
     "output_type": "stream",
     "text": [
      "<class 'pandas.core.frame.DataFrame'>\n",
      "RangeIndex: 244768 entries, 0 to 244767\n",
      "Data columns (total 1 columns):\n",
      " #   Column  Non-Null Count   Dtype \n",
      "---  ------  --------------   ----- \n",
      " 0   Title   244767 non-null  string\n",
      "dtypes: string(1)\n",
      "memory usage: 1.9 MB\n"
     ]
    },
    {
     "data": {
      "text/html": [
       "<div>\n",
       "<style scoped>\n",
       "    .dataframe tbody tr th:only-of-type {\n",
       "        vertical-align: middle;\n",
       "    }\n",
       "\n",
       "    .dataframe tbody tr th {\n",
       "        vertical-align: top;\n",
       "    }\n",
       "\n",
       "    .dataframe thead th {\n",
       "        text-align: right;\n",
       "    }\n",
       "</style>\n",
       "<table border=\"1\" class=\"dataframe\">\n",
       "  <thead>\n",
       "    <tr style=\"text-align: right;\">\n",
       "      <th></th>\n",
       "      <th>Title</th>\n",
       "    </tr>\n",
       "  </thead>\n",
       "  <tbody>\n",
       "    <tr>\n",
       "      <th>0</th>\n",
       "      <td>Engineering Systems Analyst</td>\n",
       "    </tr>\n",
       "    <tr>\n",
       "      <th>1</th>\n",
       "      <td>Stress Engineer Glasgow</td>\n",
       "    </tr>\n",
       "    <tr>\n",
       "      <th>2</th>\n",
       "      <td>Modelling and simulation analyst</td>\n",
       "    </tr>\n",
       "    <tr>\n",
       "      <th>3</th>\n",
       "      <td>Engineering Systems Analyst / Mathematical Modeller</td>\n",
       "    </tr>\n",
       "    <tr>\n",
       "      <th>4</th>\n",
       "      <td>Pioneer, Miser Engineering Systems Analyst</td>\n",
       "    </tr>\n",
       "  </tbody>\n",
       "</table>\n",
       "</div>"
      ],
      "text/plain": [
       "                                                 Title\n",
       "0                          Engineering Systems Analyst\n",
       "1                              Stress Engineer Glasgow\n",
       "2                     Modelling and simulation analyst\n",
       "3  Engineering Systems Analyst / Mathematical Modeller\n",
       "4           Pioneer, Miser Engineering Systems Analyst"
      ]
     },
     "execution_count": 8,
     "metadata": {},
     "output_type": "execute_result"
    }
   ],
   "source": [
    "df_Title = full_df[[\"Title\"]].copy()\n",
    "df_Title = df_Title.astype({'Title': 'string'})\n",
    "df_Title.info()\n",
    "df_Title.head()"
   ]
  },
  {
   "cell_type": "markdown",
   "id": "c4fa8a99",
   "metadata": {},
   "source": [
    "### Verificando quanto porcento (%) dos dados são ausentes (missing):"
   ]
  },
  {
   "cell_type": "markdown",
   "id": "0ee04705",
   "metadata": {},
   "source": [
    "Vamos começar verificando o **número** de dados ausentes na coluna (feature) **Title**:"
   ]
  },
  {
   "cell_type": "code",
   "execution_count": 9,
   "id": "efda8583",
   "metadata": {},
   "outputs": [
    {
     "data": {
      "text/plain": [
       "Title    1\n",
       "dtype: int64"
      ]
     },
     "execution_count": 9,
     "metadata": {},
     "output_type": "execute_result"
    }
   ],
   "source": [
    "preprocessing.missing_by_numbers(df_Title)"
   ]
  },
  {
   "cell_type": "markdown",
   "id": "11b77e4b",
   "metadata": {},
   "source": [
    "Nós temos que entre às 244.768 amostras, apenas uma delas está faltando o **title (título)**. Agora vamos ver quanto porcento representa esse único título faltante:"
   ]
  },
  {
   "cell_type": "code",
   "execution_count": 10,
   "id": "4b424d94",
   "metadata": {},
   "outputs": [
    {
     "data": {
      "text/plain": [
       "Title    0.000409\n",
       "dtype: float64"
      ]
     },
     "execution_count": 10,
     "metadata": {},
     "output_type": "execute_result"
    }
   ],
   "source": [
    "preprocessing.missing_by_percent(df_Title)"
   ]
  },
  {
   "cell_type": "markdown",
   "id": "8e6ed583",
   "metadata": {},
   "source": [
    "**NOTE:**  \n",
    "Agora vem a pergunta-chave:\n",
    "\n",
    "> **Por que apenas uma das amostras está sem o título?**"
   ]
  },
  {
   "cell_type": "markdown",
   "id": "0c2a4aa8",
   "metadata": {},
   "source": [
    "### Aplicando Lower Casing:"
   ]
  },
  {
   "cell_type": "code",
   "execution_count": 11,
   "id": "75026b68",
   "metadata": {},
   "outputs": [],
   "source": [
    "df_Title[\"processed_title\"] = preprocessing.apply_lower_casing(df_Title[\"Title\"])"
   ]
  },
  {
   "cell_type": "code",
   "execution_count": 12,
   "id": "adda8caf",
   "metadata": {},
   "outputs": [
    {
     "data": {
      "text/html": [
       "<div>\n",
       "<style scoped>\n",
       "    .dataframe tbody tr th:only-of-type {\n",
       "        vertical-align: middle;\n",
       "    }\n",
       "\n",
       "    .dataframe tbody tr th {\n",
       "        vertical-align: top;\n",
       "    }\n",
       "\n",
       "    .dataframe thead th {\n",
       "        text-align: right;\n",
       "    }\n",
       "</style>\n",
       "<table border=\"1\" class=\"dataframe\">\n",
       "  <thead>\n",
       "    <tr style=\"text-align: right;\">\n",
       "      <th></th>\n",
       "      <th>Title</th>\n",
       "      <th>processed_title</th>\n",
       "    </tr>\n",
       "  </thead>\n",
       "  <tbody>\n",
       "    <tr>\n",
       "      <th>0</th>\n",
       "      <td>Engineering Systems Analyst</td>\n",
       "      <td>engineering systems analyst</td>\n",
       "    </tr>\n",
       "    <tr>\n",
       "      <th>1</th>\n",
       "      <td>Stress Engineer Glasgow</td>\n",
       "      <td>stress engineer glasgow</td>\n",
       "    </tr>\n",
       "    <tr>\n",
       "      <th>2</th>\n",
       "      <td>Modelling and simulation analyst</td>\n",
       "      <td>modelling and simulation analyst</td>\n",
       "    </tr>\n",
       "    <tr>\n",
       "      <th>3</th>\n",
       "      <td>Engineering Systems Analyst / Mathematical Modeller</td>\n",
       "      <td>engineering systems analyst / mathematical modeller</td>\n",
       "    </tr>\n",
       "    <tr>\n",
       "      <th>4</th>\n",
       "      <td>Pioneer, Miser Engineering Systems Analyst</td>\n",
       "      <td>pioneer, miser engineering systems analyst</td>\n",
       "    </tr>\n",
       "  </tbody>\n",
       "</table>\n",
       "</div>"
      ],
      "text/plain": [
       "                                                 Title  \\\n",
       "0                          Engineering Systems Analyst   \n",
       "1                              Stress Engineer Glasgow   \n",
       "2                     Modelling and simulation analyst   \n",
       "3  Engineering Systems Analyst / Mathematical Modeller   \n",
       "4           Pioneer, Miser Engineering Systems Analyst   \n",
       "\n",
       "                                       processed_title  \n",
       "0                          engineering systems analyst  \n",
       "1                              stress engineer glasgow  \n",
       "2                     modelling and simulation analyst  \n",
       "3  engineering systems analyst / mathematical modeller  \n",
       "4           pioneer, miser engineering systems analyst  "
      ]
     },
     "execution_count": 12,
     "metadata": {},
     "output_type": "execute_result"
    }
   ],
   "source": [
    "df_Title.head()"
   ]
  },
  {
   "cell_type": "markdown",
   "id": "46751ac4",
   "metadata": {},
   "source": [
    "### Removendo pontuações:"
   ]
  },
  {
   "cell_type": "code",
   "execution_count": 13,
   "id": "679b1e5b",
   "metadata": {},
   "outputs": [],
   "source": [
    "df_Title[\"processed_title\"] = preprocessing.remove_punctuations(df_Title[\"processed_title\"])"
   ]
  },
  {
   "cell_type": "code",
   "execution_count": 14,
   "id": "888327d2",
   "metadata": {},
   "outputs": [
    {
     "data": {
      "text/html": [
       "<div>\n",
       "<style scoped>\n",
       "    .dataframe tbody tr th:only-of-type {\n",
       "        vertical-align: middle;\n",
       "    }\n",
       "\n",
       "    .dataframe tbody tr th {\n",
       "        vertical-align: top;\n",
       "    }\n",
       "\n",
       "    .dataframe thead th {\n",
       "        text-align: right;\n",
       "    }\n",
       "</style>\n",
       "<table border=\"1\" class=\"dataframe\">\n",
       "  <thead>\n",
       "    <tr style=\"text-align: right;\">\n",
       "      <th></th>\n",
       "      <th>Title</th>\n",
       "      <th>processed_title</th>\n",
       "    </tr>\n",
       "  </thead>\n",
       "  <tbody>\n",
       "    <tr>\n",
       "      <th>0</th>\n",
       "      <td>Engineering Systems Analyst</td>\n",
       "      <td>engineering systems analyst</td>\n",
       "    </tr>\n",
       "    <tr>\n",
       "      <th>1</th>\n",
       "      <td>Stress Engineer Glasgow</td>\n",
       "      <td>stress engineer glasgow</td>\n",
       "    </tr>\n",
       "    <tr>\n",
       "      <th>2</th>\n",
       "      <td>Modelling and simulation analyst</td>\n",
       "      <td>modelling and simulation analyst</td>\n",
       "    </tr>\n",
       "    <tr>\n",
       "      <th>3</th>\n",
       "      <td>Engineering Systems Analyst / Mathematical Modeller</td>\n",
       "      <td>engineering systems analyst   mathematical modeller</td>\n",
       "    </tr>\n",
       "    <tr>\n",
       "      <th>4</th>\n",
       "      <td>Pioneer, Miser Engineering Systems Analyst</td>\n",
       "      <td>pioneer  miser engineering systems analyst</td>\n",
       "    </tr>\n",
       "  </tbody>\n",
       "</table>\n",
       "</div>"
      ],
      "text/plain": [
       "                                                 Title  \\\n",
       "0                          Engineering Systems Analyst   \n",
       "1                              Stress Engineer Glasgow   \n",
       "2                     Modelling and simulation analyst   \n",
       "3  Engineering Systems Analyst / Mathematical Modeller   \n",
       "4           Pioneer, Miser Engineering Systems Analyst   \n",
       "\n",
       "                                       processed_title  \n",
       "0                          engineering systems analyst  \n",
       "1                              stress engineer glasgow  \n",
       "2                     modelling and simulation analyst  \n",
       "3  engineering systems analyst   mathematical modeller  \n",
       "4           pioneer  miser engineering systems analyst  "
      ]
     },
     "execution_count": 14,
     "metadata": {},
     "output_type": "execute_result"
    }
   ],
   "source": [
    "df_Title.head()"
   ]
  },
  {
   "cell_type": "markdown",
   "id": "e1bd6bc9",
   "metadata": {},
   "source": [
    "### Removendo números:"
   ]
  },
  {
   "cell_type": "code",
   "execution_count": 15,
   "id": "e9666c31",
   "metadata": {},
   "outputs": [],
   "source": [
    "df_Title[\"processed_title\"] = preprocessing.remove_numbers(df_Title[\"processed_title\"])"
   ]
  },
  {
   "cell_type": "code",
   "execution_count": 16,
   "id": "8569667d",
   "metadata": {},
   "outputs": [
    {
     "data": {
      "text/html": [
       "<div>\n",
       "<style scoped>\n",
       "    .dataframe tbody tr th:only-of-type {\n",
       "        vertical-align: middle;\n",
       "    }\n",
       "\n",
       "    .dataframe tbody tr th {\n",
       "        vertical-align: top;\n",
       "    }\n",
       "\n",
       "    .dataframe thead th {\n",
       "        text-align: right;\n",
       "    }\n",
       "</style>\n",
       "<table border=\"1\" class=\"dataframe\">\n",
       "  <thead>\n",
       "    <tr style=\"text-align: right;\">\n",
       "      <th></th>\n",
       "      <th>Title</th>\n",
       "      <th>processed_title</th>\n",
       "    </tr>\n",
       "  </thead>\n",
       "  <tbody>\n",
       "    <tr>\n",
       "      <th>0</th>\n",
       "      <td>Engineering Systems Analyst</td>\n",
       "      <td>engineering systems analyst</td>\n",
       "    </tr>\n",
       "    <tr>\n",
       "      <th>1</th>\n",
       "      <td>Stress Engineer Glasgow</td>\n",
       "      <td>stress engineer glasgow</td>\n",
       "    </tr>\n",
       "    <tr>\n",
       "      <th>2</th>\n",
       "      <td>Modelling and simulation analyst</td>\n",
       "      <td>modelling and simulation analyst</td>\n",
       "    </tr>\n",
       "    <tr>\n",
       "      <th>3</th>\n",
       "      <td>Engineering Systems Analyst / Mathematical Modeller</td>\n",
       "      <td>engineering systems analyst   mathematical modeller</td>\n",
       "    </tr>\n",
       "    <tr>\n",
       "      <th>4</th>\n",
       "      <td>Pioneer, Miser Engineering Systems Analyst</td>\n",
       "      <td>pioneer  miser engineering systems analyst</td>\n",
       "    </tr>\n",
       "  </tbody>\n",
       "</table>\n",
       "</div>"
      ],
      "text/plain": [
       "                                                 Title  \\\n",
       "0                          Engineering Systems Analyst   \n",
       "1                              Stress Engineer Glasgow   \n",
       "2                     Modelling and simulation analyst   \n",
       "3  Engineering Systems Analyst / Mathematical Modeller   \n",
       "4           Pioneer, Miser Engineering Systems Analyst   \n",
       "\n",
       "                                       processed_title  \n",
       "0                          engineering systems analyst  \n",
       "1                              stress engineer glasgow  \n",
       "2                     modelling and simulation analyst  \n",
       "3  engineering systems analyst   mathematical modeller  \n",
       "4           pioneer  miser engineering systems analyst  "
      ]
     },
     "execution_count": 16,
     "metadata": {},
     "output_type": "execute_result"
    }
   ],
   "source": [
    "df_Title.head()"
   ]
  },
  {
   "cell_type": "markdown",
   "id": "292bd1ca",
   "metadata": {},
   "source": [
    "### Aplicando a técnica de Stemming:"
   ]
  },
  {
   "cell_type": "code",
   "execution_count": 17,
   "id": "bcef3bbe",
   "metadata": {},
   "outputs": [],
   "source": [
    "df_Title[\"processed_title\"] = df_Title[\"processed_title\"].apply(lambda text: preprocessing.apply_stemming(text))"
   ]
  },
  {
   "cell_type": "code",
   "execution_count": 18,
   "id": "dd7a5adc",
   "metadata": {},
   "outputs": [
    {
     "data": {
      "text/html": [
       "<div>\n",
       "<style scoped>\n",
       "    .dataframe tbody tr th:only-of-type {\n",
       "        vertical-align: middle;\n",
       "    }\n",
       "\n",
       "    .dataframe tbody tr th {\n",
       "        vertical-align: top;\n",
       "    }\n",
       "\n",
       "    .dataframe thead th {\n",
       "        text-align: right;\n",
       "    }\n",
       "</style>\n",
       "<table border=\"1\" class=\"dataframe\">\n",
       "  <thead>\n",
       "    <tr style=\"text-align: right;\">\n",
       "      <th></th>\n",
       "      <th>Title</th>\n",
       "      <th>processed_title</th>\n",
       "    </tr>\n",
       "  </thead>\n",
       "  <tbody>\n",
       "    <tr>\n",
       "      <th>0</th>\n",
       "      <td>Engineering Systems Analyst</td>\n",
       "      <td>engin system analyst</td>\n",
       "    </tr>\n",
       "    <tr>\n",
       "      <th>1</th>\n",
       "      <td>Stress Engineer Glasgow</td>\n",
       "      <td>stress engin glasgow</td>\n",
       "    </tr>\n",
       "    <tr>\n",
       "      <th>2</th>\n",
       "      <td>Modelling and simulation analyst</td>\n",
       "      <td>model and simul analyst</td>\n",
       "    </tr>\n",
       "    <tr>\n",
       "      <th>3</th>\n",
       "      <td>Engineering Systems Analyst / Mathematical Modeller</td>\n",
       "      <td>engin system analyst mathemat model</td>\n",
       "    </tr>\n",
       "    <tr>\n",
       "      <th>4</th>\n",
       "      <td>Pioneer, Miser Engineering Systems Analyst</td>\n",
       "      <td>pioneer miser engin system analyst</td>\n",
       "    </tr>\n",
       "  </tbody>\n",
       "</table>\n",
       "</div>"
      ],
      "text/plain": [
       "                                                 Title  \\\n",
       "0                          Engineering Systems Analyst   \n",
       "1                              Stress Engineer Glasgow   \n",
       "2                     Modelling and simulation analyst   \n",
       "3  Engineering Systems Analyst / Mathematical Modeller   \n",
       "4           Pioneer, Miser Engineering Systems Analyst   \n",
       "\n",
       "                       processed_title  \n",
       "0                 engin system analyst  \n",
       "1                 stress engin glasgow  \n",
       "2              model and simul analyst  \n",
       "3  engin system analyst mathemat model  \n",
       "4   pioneer miser engin system analyst  "
      ]
     },
     "execution_count": 18,
     "metadata": {},
     "output_type": "execute_result"
    }
   ],
   "source": [
    "df_Title.head()"
   ]
  },
  {
   "cell_type": "markdown",
   "id": "2bef9324",
   "metadata": {},
   "source": [
    "### Aplicando a técnica de Lemmatization + Part-of-Speech Tagging:"
   ]
  },
  {
   "cell_type": "code",
   "execution_count": 19,
   "id": "97b52457",
   "metadata": {},
   "outputs": [],
   "source": [
    "df_Title[\"processed_title\"] = df_Title[\"processed_title\"].apply(lambda text: preprocessing.apply_lemmatization(text))"
   ]
  },
  {
   "cell_type": "code",
   "execution_count": 20,
   "id": "0c11b946",
   "metadata": {},
   "outputs": [
    {
     "data": {
      "text/html": [
       "<div>\n",
       "<style scoped>\n",
       "    .dataframe tbody tr th:only-of-type {\n",
       "        vertical-align: middle;\n",
       "    }\n",
       "\n",
       "    .dataframe tbody tr th {\n",
       "        vertical-align: top;\n",
       "    }\n",
       "\n",
       "    .dataframe thead th {\n",
       "        text-align: right;\n",
       "    }\n",
       "</style>\n",
       "<table border=\"1\" class=\"dataframe\">\n",
       "  <thead>\n",
       "    <tr style=\"text-align: right;\">\n",
       "      <th></th>\n",
       "      <th>Title</th>\n",
       "      <th>processed_title</th>\n",
       "    </tr>\n",
       "  </thead>\n",
       "  <tbody>\n",
       "    <tr>\n",
       "      <th>0</th>\n",
       "      <td>Engineering Systems Analyst</td>\n",
       "      <td>engin system analyst</td>\n",
       "    </tr>\n",
       "    <tr>\n",
       "      <th>1</th>\n",
       "      <td>Stress Engineer Glasgow</td>\n",
       "      <td>stress engin glasgow</td>\n",
       "    </tr>\n",
       "    <tr>\n",
       "      <th>2</th>\n",
       "      <td>Modelling and simulation analyst</td>\n",
       "      <td>model and simul analyst</td>\n",
       "    </tr>\n",
       "    <tr>\n",
       "      <th>3</th>\n",
       "      <td>Engineering Systems Analyst / Mathematical Modeller</td>\n",
       "      <td>engin system analyst mathemat model</td>\n",
       "    </tr>\n",
       "    <tr>\n",
       "      <th>4</th>\n",
       "      <td>Pioneer, Miser Engineering Systems Analyst</td>\n",
       "      <td>pioneer miser engin system analyst</td>\n",
       "    </tr>\n",
       "  </tbody>\n",
       "</table>\n",
       "</div>"
      ],
      "text/plain": [
       "                                                 Title  \\\n",
       "0                          Engineering Systems Analyst   \n",
       "1                              Stress Engineer Glasgow   \n",
       "2                     Modelling and simulation analyst   \n",
       "3  Engineering Systems Analyst / Mathematical Modeller   \n",
       "4           Pioneer, Miser Engineering Systems Analyst   \n",
       "\n",
       "                       processed_title  \n",
       "0                 engin system analyst  \n",
       "1                 stress engin glasgow  \n",
       "2              model and simul analyst  \n",
       "3  engin system analyst mathemat model  \n",
       "4   pioneer miser engin system analyst  "
      ]
     },
     "execution_count": 20,
     "metadata": {},
     "output_type": "execute_result"
    }
   ],
   "source": [
    "df_Title.head()"
   ]
  },
  {
   "cell_type": "markdown",
   "id": "6c3553ff",
   "metadata": {},
   "source": [
    "### Vetorizando com CountVectorizer:"
   ]
  },
  {
   "cell_type": "code",
   "execution_count": 21,
   "id": "b8545cf0",
   "metadata": {},
   "outputs": [],
   "source": [
    "df_title_vectorized = preprocessing.apply_countVectorizer(df_Title[\"processed_title\"])"
   ]
  },
  {
   "cell_type": "code",
   "execution_count": 22,
   "id": "f536ba7d",
   "metadata": {},
   "outputs": [
    {
     "data": {
      "text/plain": [
       "<244768x7 sparse matrix of type '<class 'numpy.int64'>'\n",
       "\twith 160292 stored elements in Compressed Sparse Row format>"
      ]
     },
     "execution_count": 22,
     "metadata": {},
     "output_type": "execute_result"
    }
   ],
   "source": [
    "df_title_vectorized"
   ]
  },
  {
   "cell_type": "markdown",
   "id": "261a67cc",
   "metadata": {},
   "source": [
    "---"
   ]
  },
  {
   "cell_type": "markdown",
   "id": "ae008cd4",
   "metadata": {},
   "source": [
    "## 03.3 - Pré-Processando a coluna (feature) \"SalaryNormalized\"\n",
    "> Tem o mesmo significado da coluna **\"SalaryRaw\"**, porém a **Adzuna** normalizou os dados para ser representado de forma anualizado - Essa é a variável **target**."
   ]
  },
  {
   "cell_type": "markdown",
   "id": "56bcd3ce",
   "metadata": {},
   "source": [
    "**NOTE:**  \n",
    "Por hora, vamos trabalhar com ela do jeito que está normalizada pelo a **Adzuna** ignorando se a mesma realmente fez um bom trabalho. O objetivo dessa abordagem vai ser ter algo disponível para a etapa de **treinamento** e **validação** trabalhar o mais rápido possível."
   ]
  },
  {
   "cell_type": "markdown",
   "id": "0b2b3504",
   "metadata": {},
   "source": [
    "---"
   ]
  },
  {
   "cell_type": "markdown",
   "id": "79fcc970",
   "metadata": {},
   "source": [
    "# 04 - Load\n",
    "> A etapa de **load** vai ser responsável por salvar os dados já ***Pré-Processados*** por uma ou mais colunas (features).\n",
    "\n",
    "**NOTE:**  \n",
    "Essa etapa segue uma lógica incremental, onde, em cada iteração **(Load-v1, Load-v2,..., Load-vn)** nós vamos salvando os dados já manipulados com objetivo de encontrar uma melhor métrica ou modelagem dos dados."
   ]
  },
  {
   "cell_type": "markdown",
   "id": "fc429be6",
   "metadata": {},
   "source": [
    "---"
   ]
  },
  {
   "cell_type": "markdown",
   "id": "cd31c187",
   "metadata": {},
   "source": [
    "## 04.1 - Load-v1\n",
    "Para esse 1° **Load** vamos começar com as colunas (features) mais simples possíveis, que são:\n",
    " - **Title** como variável **independente**.\n",
    " - **\"SalaryNormalized\"** como variável **dependente**.\n",
    "\n",
    "**NOTE:**  \n",
    "Eu escolhi essas colunas (features), pois, já receberam algum **Pré-Processamento básico** (o que não significa que mudanças possam ser feitas)."
   ]
  },
  {
   "cell_type": "markdown",
   "id": "4e9d09c8",
   "metadata": {},
   "source": [
    "### Salvando a Matriz esparsa \"df_title_vectorized\" (resultado do Pré-Processamento da feature Title):\n",
    "Primeiro, vamos salvar o resultado do **Pré-Processamento** na coluna (feature) **Title**."
   ]
  },
  {
   "cell_type": "code",
   "execution_count": 23,
   "id": "b83f16eb",
   "metadata": {},
   "outputs": [
    {
     "name": "stdout",
     "output_type": "stream",
     "text": [
      "Feature saved!\n"
     ]
    }
   ],
   "source": [
    "preprocessing.save_feature(feature_name=\"df_title_vectorized\", feature=df_title_vectorized)"
   ]
  },
  {
   "cell_type": "markdown",
   "id": "21e8ed3a",
   "metadata": {},
   "source": [
    "### SalaryNormalized:\n",
    "Para coluna (feature) **\"SalaryNormalized\"** nós vamos pegar ela na hora do treinamento do modelo visto que alterações não foram feitas."
   ]
  },
  {
   "cell_type": "markdown",
   "id": "0f3de0c3",
   "metadata": {},
   "source": [
    "---"
   ]
  },
  {
   "cell_type": "markdown",
   "id": "211df7e7",
   "metadata": {},
   "source": [
    "# Resumos\n",
    "\n",
    " - **Load-v1:**\n",
    "   - No *Load-v1* foi *Pré-Processada* a coluna (features) *Title*.\n",
    "   - A coluna (feature) *Title* foi vetorizada com CountVectorizer com os seguintes argumentos:\n",
    "     - stop_words=\"english\"\n",
    "     - max_df=0.60 (Ignores terms that appear in MORE than 60% of documents)\n",
    "     - min_df=0.05 (Ignores terms that appear in LESS than 5% of documents)\n",
    "   - Também foi utilizada a coluna (feature) *SalaryNormalized* que já havia sido normalizada pelo a *Adzuna*.\n",
    "   - O objetivo era ter *features* o mais rápido possível disponíveis para a etapa de *Modelagem & Validação*.\n"
   ]
  },
  {
   "cell_type": "markdown",
   "id": "b2f1a7fb",
   "metadata": {},
   "source": [
    "**Rodrigo Leite -** *drigols*"
   ]
  }
 ],
 "metadata": {
  "kernelspec": {
   "display_name": "Python 3",
   "language": "python",
   "name": "python3"
  },
  "language_info": {
   "codemirror_mode": {
    "name": "ipython",
    "version": 3
   },
   "file_extension": ".py",
   "mimetype": "text/x-python",
   "name": "python",
   "nbconvert_exporter": "python",
   "pygments_lexer": "ipython3",
   "version": "3.8.8"
  }
 },
 "nbformat": 4,
 "nbformat_minor": 5
}
