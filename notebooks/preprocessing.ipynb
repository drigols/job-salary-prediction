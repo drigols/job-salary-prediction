{
 "cells": [
  {
   "cell_type": "markdown",
   "id": "d5f27968",
   "metadata": {},
   "source": [
    "# Pré-Processamento\n",
    "Esse **Jupyter Notebook** tem como objetivo aplicar um **Pré-Processamento** no conjunto de dados (ou em parte dele)."
   ]
  },
  {
   "cell_type": "markdown",
   "id": "2d5c407c",
   "metadata": {},
   "source": [
    "# Resumo da Análise preliminar\n",
    "Na etapa anterior foi feita uma breve análise do conjunto de dados. O **resumo** dessa análise foi o seguinte:\n",
    "\n",
    " - Temos um grande conjunto de dados para trabalharmos:\n",
    "   - Com 244.768 amostras e 12 colunas (atributos/campos/features).\n",
    " - Porém, vai ser necessário um Pré-Processamento na maior parte das colunas, devido o fato das colunas serem representadas por textos (informações).\n",
    " - Algumas colunas estão com muitos dados faltantes, principalmente a **ContractType** que tem **73%** dos dados faltantes.\n",
    " - Estatísticas da variável (feature) **\"SalaryNormalized\"**:\n",
    "   - O menor salário de todos (anualmente) foi de 5.000;\n",
    "   - O maior salário de todos (anualmente) foi de 200.000;\n",
    "   - A média (mean) de todos os salários (anualmente) foi de 34.122;\n",
    "   - A mediana (median/2° Quartil = 50% dos dados) de todos os salários (anualmente) foi de 30.000:\n",
    "     - Vejam que a nossa mediana não está tão distante da nossa média.\n",
    "   - O Desvio Padrão (Standard Deviation/ que representa quão longe nós estamos da média) é 17.640.\n",
    "   - A moda (o salário mais frequente) foi 35.000 com 9.178 amostras. "
   ]
  },
  {
   "cell_type": "markdown",
   "id": "f4fb6821",
   "metadata": {},
   "source": [
    "# Classe \"Preprocessing\"\n",
    "Um dos requisitos da **GRIA** para o desafio era que os códigos fossem reaproveitados. Isso para evitar códigos duplicados e reaproveitamento de códigos em trabalhos futuros."
   ]
  },
  {
   "cell_type": "code",
   "execution_count": 1,
   "id": "4c50c4a3",
   "metadata": {},
   "outputs": [],
   "source": [
    "class Preprocessing:\n",
    "\n",
    "  def install_dependencies(self):\n",
    "    !pip install --upgrade -r ../requirements.txt"
   ]
  },
  {
   "cell_type": "markdown",
   "id": "0d484b61",
   "metadata": {},
   "source": [
    "**NOTE:**\n",
    "Ok, agora que nós já temos nossa classe de **Pré-Processamento** e reaproveitamento de código vamos começar criando uma `instância` dessa classe."
   ]
  },
  {
   "cell_type": "markdown",
   "id": "3d62d9a7",
   "metadata": {},
   "source": [
    "---"
   ]
  },
  {
   "cell_type": "markdown",
   "id": "bdf030e9",
   "metadata": {},
   "source": [
    "# 01 -  Baixando & Importando as bibliotecas necessárias"
   ]
  },
  {
   "cell_type": "code",
   "execution_count": 2,
   "id": "73ae6fc6",
   "metadata": {
    "scrolled": false
   },
   "outputs": [],
   "source": [
    "# preprocessing.install_dependencies()"
   ]
  },
  {
   "cell_type": "markdown",
   "id": "008fbd75",
   "metadata": {},
   "source": [
    "Agora vamos importar as bibliotecas necessárias:"
   ]
  },
  {
   "cell_type": "code",
   "execution_count": 3,
   "id": "84fb1624",
   "metadata": {},
   "outputs": [],
   "source": [
    "import pandas as pd\n",
    "import py7zr"
   ]
  },
  {
   "cell_type": "markdown",
   "id": "c56bb743",
   "metadata": {},
   "source": [
    "Agora vamos extrair o conjunto de dados:"
   ]
  },
  {
   "cell_type": "code",
   "execution_count": 4,
   "id": "7992c6a7",
   "metadata": {},
   "outputs": [],
   "source": [
    "with py7zr.SevenZipFile(\"../datasets/Train_rev1.7z\", mode='r') as archive:\n",
    "  archive.extractall(path=\"/tmp\") # For Linux users."
   ]
  },
  {
   "cell_type": "markdown",
   "id": "1ecfedbb",
   "metadata": {},
   "source": [
    "**NOTE:**  \n",
    "Como o conjunto de dados é muito grande resolvi baixar a versão mais comprimida **.7z**. Optei também por descomprimir o conjunto de dados em um local temporário (diretório **/temp** no meu caso que estou utilizando Linux / Como se fosse uma **Staging Area**)."
   ]
  },
  {
   "cell_type": "markdown",
   "id": "aff567a6",
   "metadata": {},
   "source": [
    "**Configurando o tamanho das saídas (outputs):**  \n",
    "Antes de iniciarmos nossa análise vamos configurar o Pandas para exibir todo o conteúdo por amostra:"
   ]
  },
  {
   "cell_type": "code",
   "execution_count": 5,
   "id": "3f142e90",
   "metadata": {},
   "outputs": [],
   "source": [
    "pd.options.display.max_colwidth = 100000"
   ]
  },
  {
   "cell_type": "markdown",
   "id": "c0243092",
   "metadata": {},
   "source": [
    "Por fim, vamos pegar o conjunto de dados baixado:"
   ]
  },
  {
   "cell_type": "code",
   "execution_count": 6,
   "id": "cfabeb6b",
   "metadata": {},
   "outputs": [],
   "source": [
    "full_df = pd.read_csv(\"/tmp/Train_rev1.csv\")"
   ]
  },
  {
   "cell_type": "markdown",
   "id": "0790c756",
   "metadata": {},
   "source": [
    "# 02 - Visão geral (overview) do conjunto de dados\n",
    "Bem, como nós já fizemos uma **Análise Preliminar** do conjunto de dados e vamos trabalhar cada variável (feature) individualmente vamos apenas exibir as informações gerais do conjunto de dados com a função **info()** do *Pandas*."
   ]
  },
  {
   "cell_type": "code",
   "execution_count": 7,
   "id": "d4116c0d",
   "metadata": {
    "scrolled": true
   },
   "outputs": [
    {
     "name": "stdout",
     "output_type": "stream",
     "text": [
      "<class 'pandas.core.frame.DataFrame'>\n",
      "RangeIndex: 244768 entries, 0 to 244767\n",
      "Data columns (total 12 columns):\n",
      " #   Column              Non-Null Count   Dtype \n",
      "---  ------              --------------   ----- \n",
      " 0   Id                  244768 non-null  int64 \n",
      " 1   Title               244767 non-null  object\n",
      " 2   FullDescription     244768 non-null  object\n",
      " 3   LocationRaw         244768 non-null  object\n",
      " 4   LocationNormalized  244768 non-null  object\n",
      " 5   ContractType        65442 non-null   object\n",
      " 6   ContractTime        180863 non-null  object\n",
      " 7   Company             212338 non-null  object\n",
      " 8   Category            244768 non-null  object\n",
      " 9   SalaryRaw           244768 non-null  object\n",
      " 10  SalaryNormalized    244768 non-null  int64 \n",
      " 11  SourceName          244767 non-null  object\n",
      "dtypes: int64(2), object(10)\n",
      "memory usage: 22.4+ MB\n"
     ]
    }
   ],
   "source": [
    "full_df.info()"
   ]
  },
  {
   "cell_type": "markdown",
   "id": "b2ac166a",
   "metadata": {},
   "source": [
    "---"
   ]
  },
  {
   "cell_type": "markdown",
   "id": "2d709963",
   "metadata": {},
   "source": [
    "# 03 - Aplicando Pré-Processamento nas colunas (features)\n",
    "Nessa etapa vamos aplicar um **Pré-Processamento** em cada coluna individualmente."
   ]
  },
  {
   "cell_type": "markdown",
   "id": "5edaf640",
   "metadata": {},
   "source": [
    "---"
   ]
  },
  {
   "cell_type": "markdown",
   "id": "6c012dde",
   "metadata": {},
   "source": [
    "## 03.1 - Pré-Processando a coluna (feature) \"Id\"\n",
    "> Essa coluna (feature) não vai precisar ser Pré-Processada. Como nós sabemos é apenas o identificado único de cada amostra."
   ]
  },
  {
   "cell_type": "markdown",
   "id": "f4245fcc",
   "metadata": {},
   "source": [
    "---"
   ]
  },
  {
   "cell_type": "markdown",
   "id": "cba6cd8e",
   "metadata": {},
   "source": [
    "## 03.2 - Pré-Processando a coluna (feature) \"Title\"\n",
    "> Resumidamente, o **Title** é o resumo do *cargo* ou *função*."
   ]
  },
  {
   "cell_type": "markdown",
   "id": "5543d839",
   "metadata": {},
   "source": [
    "### Preparando e colocando o tipo de dado mais adequado na *coluna (feature)* \"title\":"
   ]
  },
  {
   "cell_type": "code",
   "execution_count": 8,
   "id": "f3e3c349",
   "metadata": {
    "scrolled": true
   },
   "outputs": [
    {
     "name": "stdout",
     "output_type": "stream",
     "text": [
      "<class 'pandas.core.frame.DataFrame'>\n",
      "RangeIndex: 244768 entries, 0 to 244767\n",
      "Data columns (total 1 columns):\n",
      " #   Column  Non-Null Count   Dtype \n",
      "---  ------  --------------   ----- \n",
      " 0   Title   244767 non-null  string\n",
      "dtypes: string(1)\n",
      "memory usage: 1.9 MB\n"
     ]
    },
    {
     "data": {
      "text/html": [
       "<div>\n",
       "<style scoped>\n",
       "    .dataframe tbody tr th:only-of-type {\n",
       "        vertical-align: middle;\n",
       "    }\n",
       "\n",
       "    .dataframe tbody tr th {\n",
       "        vertical-align: top;\n",
       "    }\n",
       "\n",
       "    .dataframe thead th {\n",
       "        text-align: right;\n",
       "    }\n",
       "</style>\n",
       "<table border=\"1\" class=\"dataframe\">\n",
       "  <thead>\n",
       "    <tr style=\"text-align: right;\">\n",
       "      <th></th>\n",
       "      <th>Title</th>\n",
       "    </tr>\n",
       "  </thead>\n",
       "  <tbody>\n",
       "    <tr>\n",
       "      <th>0</th>\n",
       "      <td>Engineering Systems Analyst</td>\n",
       "    </tr>\n",
       "    <tr>\n",
       "      <th>1</th>\n",
       "      <td>Stress Engineer Glasgow</td>\n",
       "    </tr>\n",
       "    <tr>\n",
       "      <th>2</th>\n",
       "      <td>Modelling and simulation analyst</td>\n",
       "    </tr>\n",
       "    <tr>\n",
       "      <th>3</th>\n",
       "      <td>Engineering Systems Analyst / Mathematical Modeller</td>\n",
       "    </tr>\n",
       "    <tr>\n",
       "      <th>4</th>\n",
       "      <td>Pioneer, Miser Engineering Systems Analyst</td>\n",
       "    </tr>\n",
       "  </tbody>\n",
       "</table>\n",
       "</div>"
      ],
      "text/plain": [
       "                                                 Title\n",
       "0                          Engineering Systems Analyst\n",
       "1                              Stress Engineer Glasgow\n",
       "2                     Modelling and simulation analyst\n",
       "3  Engineering Systems Analyst / Mathematical Modeller\n",
       "4           Pioneer, Miser Engineering Systems Analyst"
      ]
     },
     "execution_count": 8,
     "metadata": {},
     "output_type": "execute_result"
    }
   ],
   "source": [
    "df_Title = full_df[[\"Title\"]].copy()\n",
    "df_Title = df_Title.astype({'Title': 'string'})\n",
    "df_Title.info()\n",
    "df_Title.head()"
   ]
  },
  {
   "cell_type": "markdown",
   "id": "c4fa8a99",
   "metadata": {},
   "source": [
    "### Verificando quanto porcento (%) dos dados são ausentes (missing):"
   ]
  },
  {
   "cell_type": "markdown",
   "id": "0ee04705",
   "metadata": {},
   "source": [
    "Vamos começar verificando o **número** de dados ausentes na coluna (feature) **Title**:"
   ]
  },
  {
   "cell_type": "code",
   "execution_count": 9,
   "id": "efda8583",
   "metadata": {},
   "outputs": [
    {
     "data": {
      "text/plain": [
       "Title    1\n",
       "dtype: int64"
      ]
     },
     "execution_count": 9,
     "metadata": {},
     "output_type": "execute_result"
    }
   ],
   "source": [
    "# Data missing sum.\n",
    "missing = df_Title.isnull().sum()\n",
    "missing"
   ]
  },
  {
   "cell_type": "markdown",
   "id": "11b77e4b",
   "metadata": {},
   "source": [
    "Nós temos que entre às 244.768 amostras, apenas uma delas está faltando o **title (título)**. Vamos ver quanto porcento representa esse único título faltante:"
   ]
  },
  {
   "cell_type": "code",
   "execution_count": 10,
   "id": "4b424d94",
   "metadata": {},
   "outputs": [
    {
     "data": {
      "text/plain": [
       "Title    0.000409\n",
       "dtype: float64"
      ]
     },
     "execution_count": 10,
     "metadata": {},
     "output_type": "execute_result"
    }
   ],
   "source": [
    "# Data missing in percent.\n",
    "percentMissing = (missing / len(df_Title.index)) * 100\n",
    "percentMissing"
   ]
  },
  {
   "cell_type": "markdown",
   "id": "8e6ed583",
   "metadata": {},
   "source": [
    "**NOTE:**  \n",
    "Agora vem a pergunta-chave:\n",
    "\n",
    "> **Por que apenas uma das amostras está sem o título?**"
   ]
  },
  {
   "cell_type": "markdown",
   "id": "0c2a4aa8",
   "metadata": {},
   "source": [
    "### Aplicando Lower Casing:"
   ]
  },
  {
   "cell_type": "code",
   "execution_count": 11,
   "id": "75026b68",
   "metadata": {},
   "outputs": [
    {
     "data": {
      "text/html": [
       "<div>\n",
       "<style scoped>\n",
       "    .dataframe tbody tr th:only-of-type {\n",
       "        vertical-align: middle;\n",
       "    }\n",
       "\n",
       "    .dataframe tbody tr th {\n",
       "        vertical-align: top;\n",
       "    }\n",
       "\n",
       "    .dataframe thead th {\n",
       "        text-align: right;\n",
       "    }\n",
       "</style>\n",
       "<table border=\"1\" class=\"dataframe\">\n",
       "  <thead>\n",
       "    <tr style=\"text-align: right;\">\n",
       "      <th></th>\n",
       "      <th>Title</th>\n",
       "      <th>processed_title</th>\n",
       "    </tr>\n",
       "  </thead>\n",
       "  <tbody>\n",
       "    <tr>\n",
       "      <th>0</th>\n",
       "      <td>Engineering Systems Analyst</td>\n",
       "      <td>engineering systems analyst</td>\n",
       "    </tr>\n",
       "    <tr>\n",
       "      <th>1</th>\n",
       "      <td>Stress Engineer Glasgow</td>\n",
       "      <td>stress engineer glasgow</td>\n",
       "    </tr>\n",
       "    <tr>\n",
       "      <th>2</th>\n",
       "      <td>Modelling and simulation analyst</td>\n",
       "      <td>modelling and simulation analyst</td>\n",
       "    </tr>\n",
       "    <tr>\n",
       "      <th>3</th>\n",
       "      <td>Engineering Systems Analyst / Mathematical Modeller</td>\n",
       "      <td>engineering systems analyst / mathematical modeller</td>\n",
       "    </tr>\n",
       "    <tr>\n",
       "      <th>4</th>\n",
       "      <td>Pioneer, Miser Engineering Systems Analyst</td>\n",
       "      <td>pioneer, miser engineering systems analyst</td>\n",
       "    </tr>\n",
       "  </tbody>\n",
       "</table>\n",
       "</div>"
      ],
      "text/plain": [
       "                                                 Title  \\\n",
       "0                          Engineering Systems Analyst   \n",
       "1                              Stress Engineer Glasgow   \n",
       "2                     Modelling and simulation analyst   \n",
       "3  Engineering Systems Analyst / Mathematical Modeller   \n",
       "4           Pioneer, Miser Engineering Systems Analyst   \n",
       "\n",
       "                                       processed_title  \n",
       "0                          engineering systems analyst  \n",
       "1                              stress engineer glasgow  \n",
       "2                     modelling and simulation analyst  \n",
       "3  engineering systems analyst / mathematical modeller  \n",
       "4           pioneer, miser engineering systems analyst  "
      ]
     },
     "execution_count": 11,
     "metadata": {},
     "output_type": "execute_result"
    }
   ],
   "source": [
    "df_Title[\"processed_title\"] = df_Title[\"Title\"].str.lower()\n",
    "df_Title.head()"
   ]
  },
  {
   "cell_type": "markdown",
   "id": "46751ac4",
   "metadata": {},
   "source": [
    "### Removendo pontuações:"
   ]
  },
  {
   "cell_type": "code",
   "execution_count": 12,
   "id": "679b1e5b",
   "metadata": {},
   "outputs": [
    {
     "data": {
      "text/html": [
       "<div>\n",
       "<style scoped>\n",
       "    .dataframe tbody tr th:only-of-type {\n",
       "        vertical-align: middle;\n",
       "    }\n",
       "\n",
       "    .dataframe tbody tr th {\n",
       "        vertical-align: top;\n",
       "    }\n",
       "\n",
       "    .dataframe thead th {\n",
       "        text-align: right;\n",
       "    }\n",
       "</style>\n",
       "<table border=\"1\" class=\"dataframe\">\n",
       "  <thead>\n",
       "    <tr style=\"text-align: right;\">\n",
       "      <th></th>\n",
       "      <th>Title</th>\n",
       "      <th>processed_title</th>\n",
       "    </tr>\n",
       "  </thead>\n",
       "  <tbody>\n",
       "    <tr>\n",
       "      <th>0</th>\n",
       "      <td>Engineering Systems Analyst</td>\n",
       "      <td>engineering systems analyst</td>\n",
       "    </tr>\n",
       "    <tr>\n",
       "      <th>1</th>\n",
       "      <td>Stress Engineer Glasgow</td>\n",
       "      <td>stress engineer glasgow</td>\n",
       "    </tr>\n",
       "    <tr>\n",
       "      <th>2</th>\n",
       "      <td>Modelling and simulation analyst</td>\n",
       "      <td>modelling and simulation analyst</td>\n",
       "    </tr>\n",
       "    <tr>\n",
       "      <th>3</th>\n",
       "      <td>Engineering Systems Analyst / Mathematical Modeller</td>\n",
       "      <td>engineering systems analyst   mathematical modeller</td>\n",
       "    </tr>\n",
       "    <tr>\n",
       "      <th>4</th>\n",
       "      <td>Pioneer, Miser Engineering Systems Analyst</td>\n",
       "      <td>pioneer  miser engineering systems analyst</td>\n",
       "    </tr>\n",
       "  </tbody>\n",
       "</table>\n",
       "</div>"
      ],
      "text/plain": [
       "                                                 Title  \\\n",
       "0                          Engineering Systems Analyst   \n",
       "1                              Stress Engineer Glasgow   \n",
       "2                     Modelling and simulation analyst   \n",
       "3  Engineering Systems Analyst / Mathematical Modeller   \n",
       "4           Pioneer, Miser Engineering Systems Analyst   \n",
       "\n",
       "                                       processed_title  \n",
       "0                          engineering systems analyst  \n",
       "1                              stress engineer glasgow  \n",
       "2                     modelling and simulation analyst  \n",
       "3  engineering systems analyst   mathematical modeller  \n",
       "4           pioneer  miser engineering systems analyst  "
      ]
     },
     "execution_count": 12,
     "metadata": {},
     "output_type": "execute_result"
    }
   ],
   "source": [
    "df_Title[\"processed_title\"] = df_Title[\"processed_title\"].str.replace('[^\\w\\s]',' ', regex=True)\n",
    "df_Title.head()"
   ]
  },
  {
   "cell_type": "markdown",
   "id": "e1bd6bc9",
   "metadata": {},
   "source": [
    "### Removendo números:"
   ]
  },
  {
   "cell_type": "code",
   "execution_count": 13,
   "id": "e9666c31",
   "metadata": {},
   "outputs": [
    {
     "data": {
      "text/html": [
       "<div>\n",
       "<style scoped>\n",
       "    .dataframe tbody tr th:only-of-type {\n",
       "        vertical-align: middle;\n",
       "    }\n",
       "\n",
       "    .dataframe tbody tr th {\n",
       "        vertical-align: top;\n",
       "    }\n",
       "\n",
       "    .dataframe thead th {\n",
       "        text-align: right;\n",
       "    }\n",
       "</style>\n",
       "<table border=\"1\" class=\"dataframe\">\n",
       "  <thead>\n",
       "    <tr style=\"text-align: right;\">\n",
       "      <th></th>\n",
       "      <th>Title</th>\n",
       "      <th>processed_title</th>\n",
       "    </tr>\n",
       "  </thead>\n",
       "  <tbody>\n",
       "    <tr>\n",
       "      <th>0</th>\n",
       "      <td>Engineering Systems Analyst</td>\n",
       "      <td>engineering systems analyst</td>\n",
       "    </tr>\n",
       "    <tr>\n",
       "      <th>1</th>\n",
       "      <td>Stress Engineer Glasgow</td>\n",
       "      <td>stress engineer glasgow</td>\n",
       "    </tr>\n",
       "    <tr>\n",
       "      <th>2</th>\n",
       "      <td>Modelling and simulation analyst</td>\n",
       "      <td>modelling and simulation analyst</td>\n",
       "    </tr>\n",
       "    <tr>\n",
       "      <th>3</th>\n",
       "      <td>Engineering Systems Analyst / Mathematical Modeller</td>\n",
       "      <td>engineering systems analyst   mathematical modeller</td>\n",
       "    </tr>\n",
       "    <tr>\n",
       "      <th>4</th>\n",
       "      <td>Pioneer, Miser Engineering Systems Analyst</td>\n",
       "      <td>pioneer  miser engineering systems analyst</td>\n",
       "    </tr>\n",
       "  </tbody>\n",
       "</table>\n",
       "</div>"
      ],
      "text/plain": [
       "                                                 Title  \\\n",
       "0                          Engineering Systems Analyst   \n",
       "1                              Stress Engineer Glasgow   \n",
       "2                     Modelling and simulation analyst   \n",
       "3  Engineering Systems Analyst / Mathematical Modeller   \n",
       "4           Pioneer, Miser Engineering Systems Analyst   \n",
       "\n",
       "                                       processed_title  \n",
       "0                          engineering systems analyst  \n",
       "1                              stress engineer glasgow  \n",
       "2                     modelling and simulation analyst  \n",
       "3  engineering systems analyst   mathematical modeller  \n",
       "4           pioneer  miser engineering systems analyst  "
      ]
     },
     "execution_count": 13,
     "metadata": {},
     "output_type": "execute_result"
    }
   ],
   "source": [
    "df_Title[\"processed_title\"] = df_Title[\"processed_title\"].str.replace('[0-9]+', '', regex=True)\n",
    "df_Title.head()"
   ]
  },
  {
   "cell_type": "markdown",
   "id": "0b882ec4",
   "metadata": {},
   "source": [
    "### Aplicando Stopword Removal (Remoção de palavras irrelevantes):"
   ]
  },
  {
   "cell_type": "code",
   "execution_count": 14,
   "id": "133fcfa6",
   "metadata": {},
   "outputs": [
    {
     "data": {
      "text/plain": [
       "\"i, me, my, myself, we, our, ours, ourselves, you, you're, you've, you'll, you'd, your, yours, yourself, yourselves, he, him, his, himself, she, she's, her, hers, herself, it, it's, its, itself, they, them, their, theirs, themselves, what, which, who, whom, this, that, that'll, these, those, am, is, are, was, were, be, been, being, have, has, had, having, do, does, did, doing, a, an, the, and, but, if, or, because, as, until, while, of, at, by, for, with, about, against, between, into, through, during, before, after, above, below, to, from, up, down, in, out, on, off, over, under, again, further, then, once, here, there, when, where, why, how, all, any, both, each, few, more, most, other, some, such, no, nor, not, only, own, same, so, than, too, very, s, t, can, will, just, don, don't, should, should've, now, d, ll, m, o, re, ve, y, ain, aren, aren't, couldn, couldn't, didn, didn't, doesn, doesn't, hadn, hadn't, hasn, hasn't, haven, haven't, isn, isn't, ma, mightn, mightn't, mustn, mustn't, needn, needn't, shan, shan't, shouldn, shouldn't, wasn, wasn't, weren, weren't, won, won't, wouldn, wouldn't\""
      ]
     },
     "execution_count": 14,
     "metadata": {},
     "output_type": "execute_result"
    }
   ],
   "source": [
    "from nltk.corpus import stopwords\n",
    "\", \".join(stopwords.words('english'))"
   ]
  },
  {
   "cell_type": "code",
   "execution_count": 15,
   "id": "d500ecfd",
   "metadata": {},
   "outputs": [
    {
     "data": {
      "text/html": [
       "<div>\n",
       "<style scoped>\n",
       "    .dataframe tbody tr th:only-of-type {\n",
       "        vertical-align: middle;\n",
       "    }\n",
       "\n",
       "    .dataframe tbody tr th {\n",
       "        vertical-align: top;\n",
       "    }\n",
       "\n",
       "    .dataframe thead th {\n",
       "        text-align: right;\n",
       "    }\n",
       "</style>\n",
       "<table border=\"1\" class=\"dataframe\">\n",
       "  <thead>\n",
       "    <tr style=\"text-align: right;\">\n",
       "      <th></th>\n",
       "      <th>Title</th>\n",
       "      <th>processed_title</th>\n",
       "    </tr>\n",
       "  </thead>\n",
       "  <tbody>\n",
       "    <tr>\n",
       "      <th>0</th>\n",
       "      <td>Engineering Systems Analyst</td>\n",
       "      <td>engineering systems analyst</td>\n",
       "    </tr>\n",
       "    <tr>\n",
       "      <th>1</th>\n",
       "      <td>Stress Engineer Glasgow</td>\n",
       "      <td>stress engineer glasgow</td>\n",
       "    </tr>\n",
       "    <tr>\n",
       "      <th>2</th>\n",
       "      <td>Modelling and simulation analyst</td>\n",
       "      <td>modelling simulation analyst</td>\n",
       "    </tr>\n",
       "    <tr>\n",
       "      <th>3</th>\n",
       "      <td>Engineering Systems Analyst / Mathematical Modeller</td>\n",
       "      <td>engineering systems analyst mathematical modeller</td>\n",
       "    </tr>\n",
       "    <tr>\n",
       "      <th>4</th>\n",
       "      <td>Pioneer, Miser Engineering Systems Analyst</td>\n",
       "      <td>pioneer miser engineering systems analyst</td>\n",
       "    </tr>\n",
       "  </tbody>\n",
       "</table>\n",
       "</div>"
      ],
      "text/plain": [
       "                                                 Title  \\\n",
       "0                          Engineering Systems Analyst   \n",
       "1                              Stress Engineer Glasgow   \n",
       "2                     Modelling and simulation analyst   \n",
       "3  Engineering Systems Analyst / Mathematical Modeller   \n",
       "4           Pioneer, Miser Engineering Systems Analyst   \n",
       "\n",
       "                                     processed_title  \n",
       "0                        engineering systems analyst  \n",
       "1                            stress engineer glasgow  \n",
       "2                       modelling simulation analyst  \n",
       "3  engineering systems analyst mathematical modeller  \n",
       "4          pioneer miser engineering systems analyst  "
      ]
     },
     "execution_count": 15,
     "metadata": {},
     "output_type": "execute_result"
    }
   ],
   "source": [
    "STOPWORDS = set(stopwords.words('english'))\n",
    "def remove_stopwords(text):\n",
    "  return \" \".join([word for word in str(text).split() if word not in STOPWORDS])\n",
    "\n",
    "df_Title[\"processed_title\"] = df_Title[\"processed_title\"].apply(lambda text: remove_stopwords(text))\n",
    "df_Title.head()"
   ]
  },
  {
   "cell_type": "markdown",
   "id": "c40d4aa4",
   "metadata": {},
   "source": [
    "### Removendo palavras mais frequentes:"
   ]
  },
  {
   "cell_type": "code",
   "execution_count": 16,
   "id": "4a57a79e",
   "metadata": {},
   "outputs": [
    {
     "data": {
      "text/plain": [
       "[('manager', 50162),\n",
       " ('engineer', 24192),\n",
       " ('sales', 19769),\n",
       " ('senior', 16976),\n",
       " ('developer', 13895),\n",
       " ('assistant', 12179),\n",
       " ('k', 11057),\n",
       " ('executive', 10632),\n",
       " ('business', 9988),\n",
       " ('consultant', 9496)]"
      ]
     },
     "execution_count": 16,
     "metadata": {},
     "output_type": "execute_result"
    }
   ],
   "source": [
    "from collections import Counter\n",
    "\n",
    "cnt_title = Counter() # Instance\n",
    "for text in df_Title[\"processed_title\"].values:\n",
    "  for word in text.split():\n",
    "    cnt_title[word] += 1\n",
    "\n",
    "cnt_title.most_common(10)"
   ]
  },
  {
   "cell_type": "markdown",
   "id": "4ddc7060",
   "metadata": {},
   "source": [
    "**NOTE:**  \n",
    "Na minha opinião quase todas, senão todas (tirandi \"k\") são relevantes para o modelo aprender. Sabendo disso não vou remover nenhuma delas."
   ]
  },
  {
   "cell_type": "markdown",
   "id": "c3c54899",
   "metadata": {},
   "source": [
    "### Remoção de palavras raras:"
   ]
  },
  {
   "cell_type": "code",
   "execution_count": 17,
   "id": "3ee38a5d",
   "metadata": {},
   "outputs": [
    {
     "data": {
      "text/plain": [
       "{'bellhill',\n",
       " 'constructions',\n",
       " 'hydrolic',\n",
       " 'improvemen',\n",
       " 'leadopportunity',\n",
       " 'mlnlycke',\n",
       " 'norley',\n",
       " 'tase',\n",
       " 'techniciancivil',\n",
       " 'tuiton'}"
      ]
     },
     "execution_count": 17,
     "metadata": {},
     "output_type": "execute_result"
    }
   ],
   "source": [
    "n_rare_words = 10\n",
    "RAREWORDS = set([w for (w, wc) in cnt_title.most_common()[:-n_rare_words-1:-1]])\n",
    "RAREWORDS"
   ]
  },
  {
   "cell_type": "code",
   "execution_count": 18,
   "id": "433836af",
   "metadata": {},
   "outputs": [
    {
     "data": {
      "text/html": [
       "<div>\n",
       "<style scoped>\n",
       "    .dataframe tbody tr th:only-of-type {\n",
       "        vertical-align: middle;\n",
       "    }\n",
       "\n",
       "    .dataframe tbody tr th {\n",
       "        vertical-align: top;\n",
       "    }\n",
       "\n",
       "    .dataframe thead th {\n",
       "        text-align: right;\n",
       "    }\n",
       "</style>\n",
       "<table border=\"1\" class=\"dataframe\">\n",
       "  <thead>\n",
       "    <tr style=\"text-align: right;\">\n",
       "      <th></th>\n",
       "      <th>Title</th>\n",
       "      <th>processed_title</th>\n",
       "    </tr>\n",
       "  </thead>\n",
       "  <tbody>\n",
       "    <tr>\n",
       "      <th>0</th>\n",
       "      <td>Engineering Systems Analyst</td>\n",
       "      <td>engineering systems analyst</td>\n",
       "    </tr>\n",
       "    <tr>\n",
       "      <th>1</th>\n",
       "      <td>Stress Engineer Glasgow</td>\n",
       "      <td>stress engineer glasgow</td>\n",
       "    </tr>\n",
       "    <tr>\n",
       "      <th>2</th>\n",
       "      <td>Modelling and simulation analyst</td>\n",
       "      <td>modelling simulation analyst</td>\n",
       "    </tr>\n",
       "    <tr>\n",
       "      <th>3</th>\n",
       "      <td>Engineering Systems Analyst / Mathematical Modeller</td>\n",
       "      <td>engineering systems analyst mathematical modeller</td>\n",
       "    </tr>\n",
       "    <tr>\n",
       "      <th>4</th>\n",
       "      <td>Pioneer, Miser Engineering Systems Analyst</td>\n",
       "      <td>pioneer miser engineering systems analyst</td>\n",
       "    </tr>\n",
       "  </tbody>\n",
       "</table>\n",
       "</div>"
      ],
      "text/plain": [
       "                                                 Title  \\\n",
       "0                          Engineering Systems Analyst   \n",
       "1                              Stress Engineer Glasgow   \n",
       "2                     Modelling and simulation analyst   \n",
       "3  Engineering Systems Analyst / Mathematical Modeller   \n",
       "4           Pioneer, Miser Engineering Systems Analyst   \n",
       "\n",
       "                                     processed_title  \n",
       "0                        engineering systems analyst  \n",
       "1                            stress engineer glasgow  \n",
       "2                       modelling simulation analyst  \n",
       "3  engineering systems analyst mathematical modeller  \n",
       "4          pioneer miser engineering systems analyst  "
      ]
     },
     "execution_count": 18,
     "metadata": {},
     "output_type": "execute_result"
    }
   ],
   "source": [
    "n_rare_words = 10\n",
    "RAREWORDS = set([w for (w, wc) in cnt_title.most_common()[:-n_rare_words-1:-1]])\n",
    "def remove_rarewords(text):\n",
    "  return \" \".join([word for word in str(text).split() if word not in RAREWORDS])\n",
    "\n",
    "df_Title[\"processed_title\"] = df_Title[\"processed_title\"].apply(lambda text: remove_rarewords(text))\n",
    "df_Title.head()"
   ]
  },
  {
   "cell_type": "markdown",
   "id": "292bd1ca",
   "metadata": {},
   "source": [
    "### Aplicando a técnica de Stemming:"
   ]
  },
  {
   "cell_type": "code",
   "execution_count": 19,
   "id": "f8cf9f20",
   "metadata": {},
   "outputs": [
    {
     "data": {
      "text/html": [
       "<div>\n",
       "<style scoped>\n",
       "    .dataframe tbody tr th:only-of-type {\n",
       "        vertical-align: middle;\n",
       "    }\n",
       "\n",
       "    .dataframe tbody tr th {\n",
       "        vertical-align: top;\n",
       "    }\n",
       "\n",
       "    .dataframe thead th {\n",
       "        text-align: right;\n",
       "    }\n",
       "</style>\n",
       "<table border=\"1\" class=\"dataframe\">\n",
       "  <thead>\n",
       "    <tr style=\"text-align: right;\">\n",
       "      <th></th>\n",
       "      <th>Title</th>\n",
       "      <th>processed_title</th>\n",
       "    </tr>\n",
       "  </thead>\n",
       "  <tbody>\n",
       "    <tr>\n",
       "      <th>0</th>\n",
       "      <td>Engineering Systems Analyst</td>\n",
       "      <td>engin system analyst</td>\n",
       "    </tr>\n",
       "    <tr>\n",
       "      <th>1</th>\n",
       "      <td>Stress Engineer Glasgow</td>\n",
       "      <td>stress engin glasgow</td>\n",
       "    </tr>\n",
       "    <tr>\n",
       "      <th>2</th>\n",
       "      <td>Modelling and simulation analyst</td>\n",
       "      <td>model simul analyst</td>\n",
       "    </tr>\n",
       "    <tr>\n",
       "      <th>3</th>\n",
       "      <td>Engineering Systems Analyst / Mathematical Modeller</td>\n",
       "      <td>engin system analyst mathemat model</td>\n",
       "    </tr>\n",
       "    <tr>\n",
       "      <th>4</th>\n",
       "      <td>Pioneer, Miser Engineering Systems Analyst</td>\n",
       "      <td>pioneer miser engin system analyst</td>\n",
       "    </tr>\n",
       "  </tbody>\n",
       "</table>\n",
       "</div>"
      ],
      "text/plain": [
       "                                                 Title  \\\n",
       "0                          Engineering Systems Analyst   \n",
       "1                              Stress Engineer Glasgow   \n",
       "2                     Modelling and simulation analyst   \n",
       "3  Engineering Systems Analyst / Mathematical Modeller   \n",
       "4           Pioneer, Miser Engineering Systems Analyst   \n",
       "\n",
       "                       processed_title  \n",
       "0                 engin system analyst  \n",
       "1                 stress engin glasgow  \n",
       "2                  model simul analyst  \n",
       "3  engin system analyst mathemat model  \n",
       "4   pioneer miser engin system analyst  "
      ]
     },
     "execution_count": 19,
     "metadata": {},
     "output_type": "execute_result"
    }
   ],
   "source": [
    "from nltk.stem.porter import PorterStemmer\n",
    "\n",
    "stemmer = PorterStemmer() # Instance.\n",
    "def stem_words(text):\n",
    "  return \" \".join([stemmer.stem(word) for word in text.split()])\n",
    "\n",
    "df_Title[\"processed_title\"] = df_Title[\"processed_title\"].apply(lambda text: stem_words(text))\n",
    "df_Title.head()"
   ]
  },
  {
   "cell_type": "markdown",
   "id": "2bef9324",
   "metadata": {},
   "source": [
    "### Aplicando a técnica de Lemmatization + Part-of-Speech Tagging:"
   ]
  },
  {
   "cell_type": "code",
   "execution_count": 20,
   "id": "97b52457",
   "metadata": {},
   "outputs": [
    {
     "data": {
      "text/html": [
       "<div>\n",
       "<style scoped>\n",
       "    .dataframe tbody tr th:only-of-type {\n",
       "        vertical-align: middle;\n",
       "    }\n",
       "\n",
       "    .dataframe tbody tr th {\n",
       "        vertical-align: top;\n",
       "    }\n",
       "\n",
       "    .dataframe thead th {\n",
       "        text-align: right;\n",
       "    }\n",
       "</style>\n",
       "<table border=\"1\" class=\"dataframe\">\n",
       "  <thead>\n",
       "    <tr style=\"text-align: right;\">\n",
       "      <th></th>\n",
       "      <th>Title</th>\n",
       "      <th>processed_title</th>\n",
       "    </tr>\n",
       "  </thead>\n",
       "  <tbody>\n",
       "    <tr>\n",
       "      <th>0</th>\n",
       "      <td>Engineering Systems Analyst</td>\n",
       "      <td>engin system analyst</td>\n",
       "    </tr>\n",
       "    <tr>\n",
       "      <th>1</th>\n",
       "      <td>Stress Engineer Glasgow</td>\n",
       "      <td>stress engin glasgow</td>\n",
       "    </tr>\n",
       "    <tr>\n",
       "      <th>2</th>\n",
       "      <td>Modelling and simulation analyst</td>\n",
       "      <td>model simul analyst</td>\n",
       "    </tr>\n",
       "    <tr>\n",
       "      <th>3</th>\n",
       "      <td>Engineering Systems Analyst / Mathematical Modeller</td>\n",
       "      <td>engin system analyst mathemat model</td>\n",
       "    </tr>\n",
       "    <tr>\n",
       "      <th>4</th>\n",
       "      <td>Pioneer, Miser Engineering Systems Analyst</td>\n",
       "      <td>pioneer miser engin system analyst</td>\n",
       "    </tr>\n",
       "  </tbody>\n",
       "</table>\n",
       "</div>"
      ],
      "text/plain": [
       "                                                 Title  \\\n",
       "0                          Engineering Systems Analyst   \n",
       "1                              Stress Engineer Glasgow   \n",
       "2                     Modelling and simulation analyst   \n",
       "3  Engineering Systems Analyst / Mathematical Modeller   \n",
       "4           Pioneer, Miser Engineering Systems Analyst   \n",
       "\n",
       "                       processed_title  \n",
       "0                 engin system analyst  \n",
       "1                 stress engin glasgow  \n",
       "2                  model simul analyst  \n",
       "3  engin system analyst mathemat model  \n",
       "4   pioneer miser engin system analyst  "
      ]
     },
     "execution_count": 20,
     "metadata": {},
     "output_type": "execute_result"
    }
   ],
   "source": [
    "from nltk.stem import WordNetLemmatizer\n",
    "from nltk.corpus import wordnet\n",
    "import nltk\n",
    "\n",
    "lemmatizer = WordNetLemmatizer() # Instance\n",
    "wordnet_map = {\"N\":wordnet.NOUN, \"V\":wordnet.VERB, \"J\":wordnet.ADJ, \"R\":wordnet.ADV} # Apply dict mapping.\n",
    "\n",
    "# Lemmatize words function.\n",
    "def lemmatize_words(text):\n",
    "  pos_tagged_text = nltk.pos_tag(text.split())\n",
    "  return \" \".join([lemmatizer.lemmatize(word, wordnet_map.get(pos[0], wordnet.NOUN)) for word, pos in pos_tagged_text])\n",
    "\n",
    "df_Title[\"processed_title\"] = df_Title[\"processed_title\"].apply(lambda text: lemmatize_words(text))\n",
    "df_Title.head()"
   ]
  },
  {
   "cell_type": "markdown",
   "id": "6c3553ff",
   "metadata": {},
   "source": [
    "### Aplicando a técnica de Count Vectorizer:"
   ]
  },
  {
   "cell_type": "code",
   "execution_count": 21,
   "id": "b8545cf0",
   "metadata": {},
   "outputs": [],
   "source": [
    "from sklearn.feature_extraction.text import CountVectorizer\n",
    "\n",
    "vectorizer = CountVectorizer() # Instance.\n",
    "df_title_vectorized = vectorizer.fit_transform(df_Title[\"processed_title\"])"
   ]
  },
  {
   "cell_type": "code",
   "execution_count": 22,
   "id": "f536ba7d",
   "metadata": {},
   "outputs": [
    {
     "data": {
      "text/plain": [
       "<244768x14917 sparse matrix of type '<class 'numpy.int64'>'\n",
       "\twith 923171 stored elements in Compressed Sparse Row format>"
      ]
     },
     "execution_count": 22,
     "metadata": {},
     "output_type": "execute_result"
    }
   ],
   "source": [
    "df_title_vectorized"
   ]
  },
  {
   "cell_type": "markdown",
   "id": "261a67cc",
   "metadata": {},
   "source": [
    "---"
   ]
  },
  {
   "cell_type": "markdown",
   "id": "ae008cd4",
   "metadata": {},
   "source": [
    "## 03.3 - Pré-Processando a coluna (feature) \"SalaryNormalized\"\n",
    "> Tem o mesmo significado da coluna **\"SalaryRaw\"**, porém a **Adzuna** normalizou os dados para ser representado de forma anualizado."
   ]
  },
  {
   "cell_type": "code",
   "execution_count": 24,
   "id": "98d2142c",
   "metadata": {},
   "outputs": [
    {
     "name": "stdout",
     "output_type": "stream",
     "text": [
      "<class 'pandas.core.frame.DataFrame'>\n",
      "RangeIndex: 244768 entries, 0 to 244767\n",
      "Data columns (total 1 columns):\n",
      " #   Column            Non-Null Count   Dtype\n",
      "---  ------            --------------   -----\n",
      " 0   SalaryNormalized  244768 non-null  int64\n",
      "dtypes: int64(1)\n",
      "memory usage: 1.9 MB\n"
     ]
    },
    {
     "data": {
      "text/html": [
       "<div>\n",
       "<style scoped>\n",
       "    .dataframe tbody tr th:only-of-type {\n",
       "        vertical-align: middle;\n",
       "    }\n",
       "\n",
       "    .dataframe tbody tr th {\n",
       "        vertical-align: top;\n",
       "    }\n",
       "\n",
       "    .dataframe thead th {\n",
       "        text-align: right;\n",
       "    }\n",
       "</style>\n",
       "<table border=\"1\" class=\"dataframe\">\n",
       "  <thead>\n",
       "    <tr style=\"text-align: right;\">\n",
       "      <th></th>\n",
       "      <th>SalaryNormalized</th>\n",
       "    </tr>\n",
       "  </thead>\n",
       "  <tbody>\n",
       "    <tr>\n",
       "      <th>0</th>\n",
       "      <td>25000</td>\n",
       "    </tr>\n",
       "    <tr>\n",
       "      <th>1</th>\n",
       "      <td>30000</td>\n",
       "    </tr>\n",
       "    <tr>\n",
       "      <th>2</th>\n",
       "      <td>30000</td>\n",
       "    </tr>\n",
       "    <tr>\n",
       "      <th>3</th>\n",
       "      <td>27500</td>\n",
       "    </tr>\n",
       "    <tr>\n",
       "      <th>4</th>\n",
       "      <td>25000</td>\n",
       "    </tr>\n",
       "  </tbody>\n",
       "</table>\n",
       "</div>"
      ],
      "text/plain": [
       "   SalaryNormalized\n",
       "0             25000\n",
       "1             30000\n",
       "2             30000\n",
       "3             27500\n",
       "4             25000"
      ]
     },
     "execution_count": 24,
     "metadata": {},
     "output_type": "execute_result"
    }
   ],
   "source": [
    "df_SalaryNormalized = full_df[[\"SalaryNormalized\"]]\n",
    "df_SalaryNormalized.info()\n",
    "df_SalaryNormalized.head()"
   ]
  },
  {
   "cell_type": "markdown",
   "id": "6b79d419",
   "metadata": {},
   "source": [
    "### Verificando quanto porcento (%) dos dados são ausentes (missing):"
   ]
  },
  {
   "cell_type": "code",
   "execution_count": 25,
   "id": "df66dd0d",
   "metadata": {},
   "outputs": [
    {
     "data": {
      "text/plain": [
       "SalaryNormalized    0\n",
       "dtype: int64"
      ]
     },
     "execution_count": 25,
     "metadata": {},
     "output_type": "execute_result"
    }
   ],
   "source": [
    "# Data missing sum.\n",
    "missing = df_SalaryNormalized.isnull().sum()\n",
    "missing"
   ]
  },
  {
   "cell_type": "code",
   "execution_count": 26,
   "id": "4446a12c",
   "metadata": {},
   "outputs": [
    {
     "data": {
      "text/plain": [
       "SalaryNormalized    0.0\n",
       "dtype: float64"
      ]
     },
     "execution_count": 26,
     "metadata": {},
     "output_type": "execute_result"
    }
   ],
   "source": [
    "# Data missing in percent.\n",
    "percentMissing = (missing / len(df_SalaryNormalized.index)) * 100\n",
    "percentMissing"
   ]
  },
  {
   "cell_type": "markdown",
   "id": "56bcd3ce",
   "metadata": {},
   "source": [
    "**NOTE:**  \n",
    "Essa é a variável **target**. Por hora, vamos trabalhar com ela do jeito que está normalizado pelo a **Adzuna** ignorando se a mesma realmente fez um bom trabalho. O objetivo dessa abordagem vai ser ter algo disponível para a etapa de **treinamento** e **validação** trabalhar o mais rápido possível."
   ]
  },
  {
   "cell_type": "markdown",
   "id": "0b2b3504",
   "metadata": {},
   "source": [
    "---"
   ]
  },
  {
   "cell_type": "markdown",
   "id": "274e8a58",
   "metadata": {},
   "source": [
    "## 03.4 - Pré-Processando a coluna (feature) \"FullDescription\"\n",
    "> O texto completo do anúncio de emprego, conforme fornecido pelo anunciante do emprego."
   ]
  },
  {
   "cell_type": "markdown",
   "id": "b2d77dc2",
   "metadata": {},
   "source": [
    "**NOTE:**  \n",
    "Onde teria o salário (salary) qual foi retirado os valores da descrição para garantir que nenhuma informação de salário apareça nas descrições. Pode haver algum dano colateral aqui, pois também foi removido outros números."
   ]
  },
  {
   "cell_type": "markdown",
   "id": "211d3e0b",
   "metadata": {},
   "source": [
    "### Preparando e colocando o tipo de dado mais adequado na coluna (feature) \"FullDescription\":"
   ]
  },
  {
   "cell_type": "code",
   "execution_count": 8,
   "id": "56b7e708",
   "metadata": {},
   "outputs": [
    {
     "name": "stdout",
     "output_type": "stream",
     "text": [
      "<class 'pandas.core.frame.DataFrame'>\n",
      "RangeIndex: 244768 entries, 0 to 244767\n",
      "Data columns (total 1 columns):\n",
      " #   Column           Non-Null Count   Dtype \n",
      "---  ------           --------------   ----- \n",
      " 0   FullDescription  244768 non-null  string\n",
      "dtypes: string(1)\n",
      "memory usage: 1.9 MB\n"
     ]
    },
    {
     "data": {
      "text/html": [
       "<div>\n",
       "<style scoped>\n",
       "    .dataframe tbody tr th:only-of-type {\n",
       "        vertical-align: middle;\n",
       "    }\n",
       "\n",
       "    .dataframe tbody tr th {\n",
       "        vertical-align: top;\n",
       "    }\n",
       "\n",
       "    .dataframe thead th {\n",
       "        text-align: right;\n",
       "    }\n",
       "</style>\n",
       "<table border=\"1\" class=\"dataframe\">\n",
       "  <thead>\n",
       "    <tr style=\"text-align: right;\">\n",
       "      <th></th>\n",
       "      <th>FullDescription</th>\n",
       "    </tr>\n",
       "  </thead>\n",
       "  <tbody>\n",
       "    <tr>\n",
       "      <th>0</th>\n",
       "      <td>Engineering Systems Analyst Dorking Surrey Salary ****K Our client is located in Dorking, Surrey and are looking for Engineering Systems Analyst our client provides specialist software development Keywords Mathematical Modelling, Risk Analysis, System Modelling, Optimisation, MISER, PIONEEER Engineering Systems Analyst Dorking Surrey Salary ****K</td>\n",
       "    </tr>\n",
       "    <tr>\n",
       "      <th>1</th>\n",
       "      <td>Stress Engineer Glasgow Salary **** to **** We re currently looking for talented engineers to join our growing Glasgow team at a variety of levels. The roles are ideally suited to high calibre engineering graduates with any level of appropriate experience, so that we can give you the opportunity to use your technical skills to provide high quality input to our aerospace projects, spanning both aerostructures and aeroengines. In return, you can expect good career opportunities and the chance for advancement and personal and professional development, support while you gain Chartership and some opportunities to possibly travel or work in other offices, in or outside of the UK. The Requirements You will need to have a good engineering degree that includes structural analysis (such as aeronautical, mechanical, automotive, civil) with some experience in a professional engineering environment relevant to (but not limited to) the aerospace sector. You will need to demonstrate experience in at least one or more of the following areas: Structural/stress analysis Composite stress analysis (any industry) Linear and nonlinear finite element analysis Fatigue and damage tolerance Structural dynamics Thermal analysis Aerostructures experience You will also be expected to demonstrate the following qualities: A strong desire to progress quickly to a position of leadership Professional approach Strong communication skills, written and verbal Commercial awareness Team working, being comfortable working in international teams and self managing PLEASE NOTE SECURITY CLEARANCE IS REQUIRED FOR THIS ROLE Stress Engineer Glasgow Salary **** to ****</td>\n",
       "    </tr>\n",
       "    <tr>\n",
       "      <th>2</th>\n",
       "      <td>Mathematical Modeller / Simulation Analyst / Operational Analyst Basingstoke, Hampshire Up to ****K AAE pension contribution, private medical and dental The opportunity Our client is an independent consultancy firm which has an opportunity for a Data Analyst with 35 years experience. The role will require the successful candidate to demonstrate their ability to analyse a problem and arrive at a solution, with varying levels of data being available. Essential skills Thorough knowledge of Excel and proven ability to utilise this to create powerful decision support models Experience in Modelling and Simulation Techniques, Experience of techniques such as Discrete Event Simulation and/or SD modelling Mathematical/scientific background  minimum degree qualified Proven analytical and problem solving skills Self Starter Ability to develop solid working relationships In addition to formal qualifications and experience, the successful candidate will require excellent written and verbal communication skills, be energetic, enterprising and have a determination to succeed. They will be required to build solid working relationships, both internally with colleagues and, most importantly, externally with our clients. They must be comfortable working independently to deliver against challenging client demands. The offices are located in Basingstoke, Hampshire, but our client work for clients worldwide. The successful candidate must therefore be prepared to undertake work at client sites for short periods of time. Physics, Mathematics, Modelling, Simulation, Analytical, Operational Research, Mathematical Modelling Mathematical Modeller / Simulation Analyst / Operational Analyst Basingstoke, Hampshire ****K AAE pension contribution, private medical and dental</td>\n",
       "    </tr>\n",
       "    <tr>\n",
       "      <th>3</th>\n",
       "      <td>Engineering Systems Analyst / Mathematical Modeller. Our client is a highly successful and respected Consultancy providing specialist software development MISER, PIONEER, Maths, Mathematical, Optimisation, Risk Analysis, Asset Management, Water Industry, Access, Excel, VBA, SQL, Systems . Engineering Systems Analyst / Mathematical Modeller. Salary  ****K****K negotiable Location Dorking, Surrey</td>\n",
       "    </tr>\n",
       "    <tr>\n",
       "      <th>4</th>\n",
       "      <td>Pioneer, Miser  Engineering Systems Analyst Dorking  Surrey Salary ****K Located in Surrey, our client provides specialist software development Pioneer, Miser  Engineering Systems Analyst Dorking  Surrey Salary ****K</td>\n",
       "    </tr>\n",
       "  </tbody>\n",
       "</table>\n",
       "</div>"
      ],
      "text/plain": [
       "                                                                                                                                                                                                                                                                                                                                                                                                                                                                                                                                                                                                                                                                                                                                                                                                                                                                                                                                                                                                                                                                                                                                                                                                                                                                                                                                                                                                                                                                                                                                                                                                                                                                                                                                                                                                                               FullDescription\n",
       "0                                                                                                                                                                                                                                                                                                                                                                                                                                                                                                                                                                                                                                                                                                                                                                                                                                                                                                                                                                                                                                                                                                                                                                                                                                                                                                                                                                                                                                                                                 Engineering Systems Analyst Dorking Surrey Salary ****K Our client is located in Dorking, Surrey and are looking for Engineering Systems Analyst our client provides specialist software development Keywords Mathematical Modelling, Risk Analysis, System Modelling, Optimisation, MISER, PIONEEER Engineering Systems Analyst Dorking Surrey Salary ****K\n",
       "1                                                                                                                            Stress Engineer Glasgow Salary **** to **** We re currently looking for talented engineers to join our growing Glasgow team at a variety of levels. The roles are ideally suited to high calibre engineering graduates with any level of appropriate experience, so that we can give you the opportunity to use your technical skills to provide high quality input to our aerospace projects, spanning both aerostructures and aeroengines. In return, you can expect good career opportunities and the chance for advancement and personal and professional development, support while you gain Chartership and some opportunities to possibly travel or work in other offices, in or outside of the UK. The Requirements You will need to have a good engineering degree that includes structural analysis (such as aeronautical, mechanical, automotive, civil) with some experience in a professional engineering environment relevant to (but not limited to) the aerospace sector. You will need to demonstrate experience in at least one or more of the following areas: Structural/stress analysis Composite stress analysis (any industry) Linear and nonlinear finite element analysis Fatigue and damage tolerance Structural dynamics Thermal analysis Aerostructures experience You will also be expected to demonstrate the following qualities: A strong desire to progress quickly to a position of leadership Professional approach Strong communication skills, written and verbal Commercial awareness Team working, being comfortable working in international teams and self managing PLEASE NOTE SECURITY CLEARANCE IS REQUIRED FOR THIS ROLE Stress Engineer Glasgow Salary **** to ****\n",
       "2  Mathematical Modeller / Simulation Analyst / Operational Analyst Basingstoke, Hampshire Up to ****K AAE pension contribution, private medical and dental The opportunity Our client is an independent consultancy firm which has an opportunity for a Data Analyst with 35 years experience. The role will require the successful candidate to demonstrate their ability to analyse a problem and arrive at a solution, with varying levels of data being available. Essential skills Thorough knowledge of Excel and proven ability to utilise this to create powerful decision support models Experience in Modelling and Simulation Techniques, Experience of techniques such as Discrete Event Simulation and/or SD modelling Mathematical/scientific background  minimum degree qualified Proven analytical and problem solving skills Self Starter Ability to develop solid working relationships In addition to formal qualifications and experience, the successful candidate will require excellent written and verbal communication skills, be energetic, enterprising and have a determination to succeed. They will be required to build solid working relationships, both internally with colleagues and, most importantly, externally with our clients. They must be comfortable working independently to deliver against challenging client demands. The offices are located in Basingstoke, Hampshire, but our client work for clients worldwide. The successful candidate must therefore be prepared to undertake work at client sites for short periods of time. Physics, Mathematics, Modelling, Simulation, Analytical, Operational Research, Mathematical Modelling Mathematical Modeller / Simulation Analyst / Operational Analyst Basingstoke, Hampshire ****K AAE pension contribution, private medical and dental\n",
       "3                                                                                                                                                                                                                                                                                                                                                                                                                                                                                                                                                                                                                                                                                                                                                                                                                                                                                                                                                                                                                                                                                                                                                                                                                                                                                                                                                                                                                                Engineering Systems Analyst / Mathematical Modeller. Our client is a highly successful and respected Consultancy providing specialist software development MISER, PIONEER, Maths, Mathematical, Optimisation, Risk Analysis, Asset Management, Water Industry, Access, Excel, VBA, SQL, Systems . Engineering Systems Analyst / Mathematical Modeller. Salary  ****K****K negotiable Location Dorking, Surrey\n",
       "4                                                                                                                                                                                                                                                                                                                                                                                                                                                                                                                                                                                                                                                                                                                                                                                                                                                                                                                                                                                                                                                                                                                                                                                                                                                                                                                                                                                                                                                                                                                                                                                                                     Pioneer, Miser  Engineering Systems Analyst Dorking  Surrey Salary ****K Located in Surrey, our client provides specialist software development Pioneer, Miser  Engineering Systems Analyst Dorking  Surrey Salary ****K"
      ]
     },
     "execution_count": 8,
     "metadata": {},
     "output_type": "execute_result"
    }
   ],
   "source": [
    "df_FullDescription = full_df[[\"FullDescription\"]].copy()\n",
    "df_FullDescription = df_FullDescription.astype({'FullDescription': 'string'})\n",
    "df_FullDescription.info()\n",
    "df_FullDescription.head()"
   ]
  },
  {
   "cell_type": "markdown",
   "id": "277a5b6c",
   "metadata": {},
   "source": [
    "### Verificando quanto porcento (%) dos dados são ausentes (missing):"
   ]
  },
  {
   "cell_type": "code",
   "execution_count": 9,
   "id": "c272b05d",
   "metadata": {},
   "outputs": [
    {
     "data": {
      "text/plain": [
       "FullDescription    0\n",
       "dtype: int64"
      ]
     },
     "execution_count": 9,
     "metadata": {},
     "output_type": "execute_result"
    }
   ],
   "source": [
    "# Data missing sum.\n",
    "missing = df_FullDescription.isnull().sum()\n",
    "missing"
   ]
  },
  {
   "cell_type": "code",
   "execution_count": 10,
   "id": "c0f8057a",
   "metadata": {},
   "outputs": [
    {
     "data": {
      "text/plain": [
       "FullDescription    0.0\n",
       "dtype: float64"
      ]
     },
     "execution_count": 10,
     "metadata": {},
     "output_type": "execute_result"
    }
   ],
   "source": [
    "# Data missing in percent.\n",
    "percentMissing = (missing / len(df_FullDescription.index)) * 100\n",
    "percentMissing"
   ]
  },
  {
   "cell_type": "markdown",
   "id": "a6fcc91a",
   "metadata": {},
   "source": [
    "### Aplicando Lower Casing:"
   ]
  },
  {
   "cell_type": "code",
   "execution_count": 11,
   "id": "ae04ca49",
   "metadata": {},
   "outputs": [
    {
     "data": {
      "text/html": [
       "<div>\n",
       "<style scoped>\n",
       "    .dataframe tbody tr th:only-of-type {\n",
       "        vertical-align: middle;\n",
       "    }\n",
       "\n",
       "    .dataframe tbody tr th {\n",
       "        vertical-align: top;\n",
       "    }\n",
       "\n",
       "    .dataframe thead th {\n",
       "        text-align: right;\n",
       "    }\n",
       "</style>\n",
       "<table border=\"1\" class=\"dataframe\">\n",
       "  <thead>\n",
       "    <tr style=\"text-align: right;\">\n",
       "      <th></th>\n",
       "      <th>FullDescription</th>\n",
       "      <th>processed_FullDescription</th>\n",
       "    </tr>\n",
       "  </thead>\n",
       "  <tbody>\n",
       "    <tr>\n",
       "      <th>0</th>\n",
       "      <td>Engineering Systems Analyst Dorking Surrey Salary ****K Our client is located in Dorking, Surrey and are looking for Engineering Systems Analyst our client provides specialist software development Keywords Mathematical Modelling, Risk Analysis, System Modelling, Optimisation, MISER, PIONEEER Engineering Systems Analyst Dorking Surrey Salary ****K</td>\n",
       "      <td>engineering systems analyst dorking surrey salary ****k our client is located in dorking, surrey and are looking for engineering systems analyst our client provides specialist software development keywords mathematical modelling, risk analysis, system modelling, optimisation, miser, pioneeer engineering systems analyst dorking surrey salary ****k</td>\n",
       "    </tr>\n",
       "    <tr>\n",
       "      <th>1</th>\n",
       "      <td>Stress Engineer Glasgow Salary **** to **** We re currently looking for talented engineers to join our growing Glasgow team at a variety of levels. The roles are ideally suited to high calibre engineering graduates with any level of appropriate experience, so that we can give you the opportunity to use your technical skills to provide high quality input to our aerospace projects, spanning both aerostructures and aeroengines. In return, you can expect good career opportunities and the chance for advancement and personal and professional development, support while you gain Chartership and some opportunities to possibly travel or work in other offices, in or outside of the UK. The Requirements You will need to have a good engineering degree that includes structural analysis (such as aeronautical, mechanical, automotive, civil) with some experience in a professional engineering environment relevant to (but not limited to) the aerospace sector. You will need to demonstrate experience in at least one or more of the following areas: Structural/stress analysis Composite stress analysis (any industry) Linear and nonlinear finite element analysis Fatigue and damage tolerance Structural dynamics Thermal analysis Aerostructures experience You will also be expected to demonstrate the following qualities: A strong desire to progress quickly to a position of leadership Professional approach Strong communication skills, written and verbal Commercial awareness Team working, being comfortable working in international teams and self managing PLEASE NOTE SECURITY CLEARANCE IS REQUIRED FOR THIS ROLE Stress Engineer Glasgow Salary **** to ****</td>\n",
       "      <td>stress engineer glasgow salary **** to **** we re currently looking for talented engineers to join our growing glasgow team at a variety of levels. the roles are ideally suited to high calibre engineering graduates with any level of appropriate experience, so that we can give you the opportunity to use your technical skills to provide high quality input to our aerospace projects, spanning both aerostructures and aeroengines. in return, you can expect good career opportunities and the chance for advancement and personal and professional development, support while you gain chartership and some opportunities to possibly travel or work in other offices, in or outside of the uk. the requirements you will need to have a good engineering degree that includes structural analysis (such as aeronautical, mechanical, automotive, civil) with some experience in a professional engineering environment relevant to (but not limited to) the aerospace sector. you will need to demonstrate experience in at least one or more of the following areas: structural/stress analysis composite stress analysis (any industry) linear and nonlinear finite element analysis fatigue and damage tolerance structural dynamics thermal analysis aerostructures experience you will also be expected to demonstrate the following qualities: a strong desire to progress quickly to a position of leadership professional approach strong communication skills, written and verbal commercial awareness team working, being comfortable working in international teams and self managing please note security clearance is required for this role stress engineer glasgow salary **** to ****</td>\n",
       "    </tr>\n",
       "    <tr>\n",
       "      <th>2</th>\n",
       "      <td>Mathematical Modeller / Simulation Analyst / Operational Analyst Basingstoke, Hampshire Up to ****K AAE pension contribution, private medical and dental The opportunity Our client is an independent consultancy firm which has an opportunity for a Data Analyst with 35 years experience. The role will require the successful candidate to demonstrate their ability to analyse a problem and arrive at a solution, with varying levels of data being available. Essential skills Thorough knowledge of Excel and proven ability to utilise this to create powerful decision support models Experience in Modelling and Simulation Techniques, Experience of techniques such as Discrete Event Simulation and/or SD modelling Mathematical/scientific background  minimum degree qualified Proven analytical and problem solving skills Self Starter Ability to develop solid working relationships In addition to formal qualifications and experience, the successful candidate will require excellent written and verbal communication skills, be energetic, enterprising and have a determination to succeed. They will be required to build solid working relationships, both internally with colleagues and, most importantly, externally with our clients. They must be comfortable working independently to deliver against challenging client demands. The offices are located in Basingstoke, Hampshire, but our client work for clients worldwide. The successful candidate must therefore be prepared to undertake work at client sites for short periods of time. Physics, Mathematics, Modelling, Simulation, Analytical, Operational Research, Mathematical Modelling Mathematical Modeller / Simulation Analyst / Operational Analyst Basingstoke, Hampshire ****K AAE pension contribution, private medical and dental</td>\n",
       "      <td>mathematical modeller / simulation analyst / operational analyst basingstoke, hampshire up to ****k aae pension contribution, private medical and dental the opportunity our client is an independent consultancy firm which has an opportunity for a data analyst with 35 years experience. the role will require the successful candidate to demonstrate their ability to analyse a problem and arrive at a solution, with varying levels of data being available. essential skills thorough knowledge of excel and proven ability to utilise this to create powerful decision support models experience in modelling and simulation techniques, experience of techniques such as discrete event simulation and/or sd modelling mathematical/scientific background  minimum degree qualified proven analytical and problem solving skills self starter ability to develop solid working relationships in addition to formal qualifications and experience, the successful candidate will require excellent written and verbal communication skills, be energetic, enterprising and have a determination to succeed. they will be required to build solid working relationships, both internally with colleagues and, most importantly, externally with our clients. they must be comfortable working independently to deliver against challenging client demands. the offices are located in basingstoke, hampshire, but our client work for clients worldwide. the successful candidate must therefore be prepared to undertake work at client sites for short periods of time. physics, mathematics, modelling, simulation, analytical, operational research, mathematical modelling mathematical modeller / simulation analyst / operational analyst basingstoke, hampshire ****k aae pension contribution, private medical and dental</td>\n",
       "    </tr>\n",
       "    <tr>\n",
       "      <th>3</th>\n",
       "      <td>Engineering Systems Analyst / Mathematical Modeller. Our client is a highly successful and respected Consultancy providing specialist software development MISER, PIONEER, Maths, Mathematical, Optimisation, Risk Analysis, Asset Management, Water Industry, Access, Excel, VBA, SQL, Systems . Engineering Systems Analyst / Mathematical Modeller. Salary  ****K****K negotiable Location Dorking, Surrey</td>\n",
       "      <td>engineering systems analyst / mathematical modeller. our client is a highly successful and respected consultancy providing specialist software development miser, pioneer, maths, mathematical, optimisation, risk analysis, asset management, water industry, access, excel, vba, sql, systems . engineering systems analyst / mathematical modeller. salary  ****k****k negotiable location dorking, surrey</td>\n",
       "    </tr>\n",
       "    <tr>\n",
       "      <th>4</th>\n",
       "      <td>Pioneer, Miser  Engineering Systems Analyst Dorking  Surrey Salary ****K Located in Surrey, our client provides specialist software development Pioneer, Miser  Engineering Systems Analyst Dorking  Surrey Salary ****K</td>\n",
       "      <td>pioneer, miser  engineering systems analyst dorking  surrey salary ****k located in surrey, our client provides specialist software development pioneer, miser  engineering systems analyst dorking  surrey salary ****k</td>\n",
       "    </tr>\n",
       "  </tbody>\n",
       "</table>\n",
       "</div>"
      ],
      "text/plain": [
       "                                                                                                                                                                                                                                                                                                                                                                                                                                                                                                                                                                                                                                                                                                                                                                                                                                                                                                                                                                                                                                                                                                                                                                                                                                                                                                                                                                                                                                                                                                                                                                                                                                                                                                                                                                                                                               FullDescription  \\\n",
       "0                                                                                                                                                                                                                                                                                                                                                                                                                                                                                                                                                                                                                                                                                                                                                                                                                                                                                                                                                                                                                                                                                                                                                                                                                                                                                                                                                                                                                                                                                 Engineering Systems Analyst Dorking Surrey Salary ****K Our client is located in Dorking, Surrey and are looking for Engineering Systems Analyst our client provides specialist software development Keywords Mathematical Modelling, Risk Analysis, System Modelling, Optimisation, MISER, PIONEEER Engineering Systems Analyst Dorking Surrey Salary ****K   \n",
       "1                                                                                                                            Stress Engineer Glasgow Salary **** to **** We re currently looking for talented engineers to join our growing Glasgow team at a variety of levels. The roles are ideally suited to high calibre engineering graduates with any level of appropriate experience, so that we can give you the opportunity to use your technical skills to provide high quality input to our aerospace projects, spanning both aerostructures and aeroengines. In return, you can expect good career opportunities and the chance for advancement and personal and professional development, support while you gain Chartership and some opportunities to possibly travel or work in other offices, in or outside of the UK. The Requirements You will need to have a good engineering degree that includes structural analysis (such as aeronautical, mechanical, automotive, civil) with some experience in a professional engineering environment relevant to (but not limited to) the aerospace sector. You will need to demonstrate experience in at least one or more of the following areas: Structural/stress analysis Composite stress analysis (any industry) Linear and nonlinear finite element analysis Fatigue and damage tolerance Structural dynamics Thermal analysis Aerostructures experience You will also be expected to demonstrate the following qualities: A strong desire to progress quickly to a position of leadership Professional approach Strong communication skills, written and verbal Commercial awareness Team working, being comfortable working in international teams and self managing PLEASE NOTE SECURITY CLEARANCE IS REQUIRED FOR THIS ROLE Stress Engineer Glasgow Salary **** to ****   \n",
       "2  Mathematical Modeller / Simulation Analyst / Operational Analyst Basingstoke, Hampshire Up to ****K AAE pension contribution, private medical and dental The opportunity Our client is an independent consultancy firm which has an opportunity for a Data Analyst with 35 years experience. The role will require the successful candidate to demonstrate their ability to analyse a problem and arrive at a solution, with varying levels of data being available. Essential skills Thorough knowledge of Excel and proven ability to utilise this to create powerful decision support models Experience in Modelling and Simulation Techniques, Experience of techniques such as Discrete Event Simulation and/or SD modelling Mathematical/scientific background  minimum degree qualified Proven analytical and problem solving skills Self Starter Ability to develop solid working relationships In addition to formal qualifications and experience, the successful candidate will require excellent written and verbal communication skills, be energetic, enterprising and have a determination to succeed. They will be required to build solid working relationships, both internally with colleagues and, most importantly, externally with our clients. They must be comfortable working independently to deliver against challenging client demands. The offices are located in Basingstoke, Hampshire, but our client work for clients worldwide. The successful candidate must therefore be prepared to undertake work at client sites for short periods of time. Physics, Mathematics, Modelling, Simulation, Analytical, Operational Research, Mathematical Modelling Mathematical Modeller / Simulation Analyst / Operational Analyst Basingstoke, Hampshire ****K AAE pension contribution, private medical and dental   \n",
       "3                                                                                                                                                                                                                                                                                                                                                                                                                                                                                                                                                                                                                                                                                                                                                                                                                                                                                                                                                                                                                                                                                                                                                                                                                                                                                                                                                                                                                                Engineering Systems Analyst / Mathematical Modeller. Our client is a highly successful and respected Consultancy providing specialist software development MISER, PIONEER, Maths, Mathematical, Optimisation, Risk Analysis, Asset Management, Water Industry, Access, Excel, VBA, SQL, Systems . Engineering Systems Analyst / Mathematical Modeller. Salary  ****K****K negotiable Location Dorking, Surrey   \n",
       "4                                                                                                                                                                                                                                                                                                                                                                                                                                                                                                                                                                                                                                                                                                                                                                                                                                                                                                                                                                                                                                                                                                                                                                                                                                                                                                                                                                                                                                                                                                                                                                                                                     Pioneer, Miser  Engineering Systems Analyst Dorking  Surrey Salary ****K Located in Surrey, our client provides specialist software development Pioneer, Miser  Engineering Systems Analyst Dorking  Surrey Salary ****K   \n",
       "\n",
       "                                                                                                                                                                                                                                                                                                                                                                                                                                                                                                                                                                                                                                                                                                                                                                                                                                                                                                                                                                                                                                                                                                                                                                                                                                                                                                                                                                                                                                                                                                                                                                                                                                                                                                                                                                                                                     processed_FullDescription  \n",
       "0                                                                                                                                                                                                                                                                                                                                                                                                                                                                                                                                                                                                                                                                                                                                                                                                                                                                                                                                                                                                                                                                                                                                                                                                                                                                                                                                                                                                                                                                                 engineering systems analyst dorking surrey salary ****k our client is located in dorking, surrey and are looking for engineering systems analyst our client provides specialist software development keywords mathematical modelling, risk analysis, system modelling, optimisation, miser, pioneeer engineering systems analyst dorking surrey salary ****k  \n",
       "1                                                                                                                            stress engineer glasgow salary **** to **** we re currently looking for talented engineers to join our growing glasgow team at a variety of levels. the roles are ideally suited to high calibre engineering graduates with any level of appropriate experience, so that we can give you the opportunity to use your technical skills to provide high quality input to our aerospace projects, spanning both aerostructures and aeroengines. in return, you can expect good career opportunities and the chance for advancement and personal and professional development, support while you gain chartership and some opportunities to possibly travel or work in other offices, in or outside of the uk. the requirements you will need to have a good engineering degree that includes structural analysis (such as aeronautical, mechanical, automotive, civil) with some experience in a professional engineering environment relevant to (but not limited to) the aerospace sector. you will need to demonstrate experience in at least one or more of the following areas: structural/stress analysis composite stress analysis (any industry) linear and nonlinear finite element analysis fatigue and damage tolerance structural dynamics thermal analysis aerostructures experience you will also be expected to demonstrate the following qualities: a strong desire to progress quickly to a position of leadership professional approach strong communication skills, written and verbal commercial awareness team working, being comfortable working in international teams and self managing please note security clearance is required for this role stress engineer glasgow salary **** to ****  \n",
       "2  mathematical modeller / simulation analyst / operational analyst basingstoke, hampshire up to ****k aae pension contribution, private medical and dental the opportunity our client is an independent consultancy firm which has an opportunity for a data analyst with 35 years experience. the role will require the successful candidate to demonstrate their ability to analyse a problem and arrive at a solution, with varying levels of data being available. essential skills thorough knowledge of excel and proven ability to utilise this to create powerful decision support models experience in modelling and simulation techniques, experience of techniques such as discrete event simulation and/or sd modelling mathematical/scientific background  minimum degree qualified proven analytical and problem solving skills self starter ability to develop solid working relationships in addition to formal qualifications and experience, the successful candidate will require excellent written and verbal communication skills, be energetic, enterprising and have a determination to succeed. they will be required to build solid working relationships, both internally with colleagues and, most importantly, externally with our clients. they must be comfortable working independently to deliver against challenging client demands. the offices are located in basingstoke, hampshire, but our client work for clients worldwide. the successful candidate must therefore be prepared to undertake work at client sites for short periods of time. physics, mathematics, modelling, simulation, analytical, operational research, mathematical modelling mathematical modeller / simulation analyst / operational analyst basingstoke, hampshire ****k aae pension contribution, private medical and dental  \n",
       "3                                                                                                                                                                                                                                                                                                                                                                                                                                                                                                                                                                                                                                                                                                                                                                                                                                                                                                                                                                                                                                                                                                                                                                                                                                                                                                                                                                                                                                engineering systems analyst / mathematical modeller. our client is a highly successful and respected consultancy providing specialist software development miser, pioneer, maths, mathematical, optimisation, risk analysis, asset management, water industry, access, excel, vba, sql, systems . engineering systems analyst / mathematical modeller. salary  ****k****k negotiable location dorking, surrey  \n",
       "4                                                                                                                                                                                                                                                                                                                                                                                                                                                                                                                                                                                                                                                                                                                                                                                                                                                                                                                                                                                                                                                                                                                                                                                                                                                                                                                                                                                                                                                                                                                                                                                                                     pioneer, miser  engineering systems analyst dorking  surrey salary ****k located in surrey, our client provides specialist software development pioneer, miser  engineering systems analyst dorking  surrey salary ****k  "
      ]
     },
     "execution_count": 11,
     "metadata": {},
     "output_type": "execute_result"
    }
   ],
   "source": [
    "df_FullDescription[\"processed_FullDescription\"] = df_FullDescription[\"FullDescription\"].str.lower()\n",
    "df_FullDescription.head()"
   ]
  },
  {
   "cell_type": "markdown",
   "id": "df303cdc",
   "metadata": {},
   "source": [
    "### Removendo URLs:"
   ]
  },
  {
   "cell_type": "code",
   "execution_count": 12,
   "id": "dd211457",
   "metadata": {},
   "outputs": [
    {
     "data": {
      "text/html": [
       "<div>\n",
       "<style scoped>\n",
       "    .dataframe tbody tr th:only-of-type {\n",
       "        vertical-align: middle;\n",
       "    }\n",
       "\n",
       "    .dataframe tbody tr th {\n",
       "        vertical-align: top;\n",
       "    }\n",
       "\n",
       "    .dataframe thead th {\n",
       "        text-align: right;\n",
       "    }\n",
       "</style>\n",
       "<table border=\"1\" class=\"dataframe\">\n",
       "  <thead>\n",
       "    <tr style=\"text-align: right;\">\n",
       "      <th></th>\n",
       "      <th>FullDescription</th>\n",
       "      <th>processed_FullDescription</th>\n",
       "    </tr>\n",
       "  </thead>\n",
       "  <tbody>\n",
       "    <tr>\n",
       "      <th>0</th>\n",
       "      <td>Engineering Systems Analyst Dorking Surrey Salary ****K Our client is located in Dorking, Surrey and are looking for Engineering Systems Analyst our client provides specialist software development Keywords Mathematical Modelling, Risk Analysis, System Modelling, Optimisation, MISER, PIONEEER Engineering Systems Analyst Dorking Surrey Salary ****K</td>\n",
       "      <td>engineering systems analyst dorking surrey salary ****k our client is located in dorking, surrey and are looking for engineering systems analyst our client provides specialist software development keywords mathematical modelling, risk analysis, system modelling, optimisation, miser, pioneeer engineering systems analyst dorking surrey salary ****k</td>\n",
       "    </tr>\n",
       "    <tr>\n",
       "      <th>1</th>\n",
       "      <td>Stress Engineer Glasgow Salary **** to **** We re currently looking for talented engineers to join our growing Glasgow team at a variety of levels. The roles are ideally suited to high calibre engineering graduates with any level of appropriate experience, so that we can give you the opportunity to use your technical skills to provide high quality input to our aerospace projects, spanning both aerostructures and aeroengines. In return, you can expect good career opportunities and the chance for advancement and personal and professional development, support while you gain Chartership and some opportunities to possibly travel or work in other offices, in or outside of the UK. The Requirements You will need to have a good engineering degree that includes structural analysis (such as aeronautical, mechanical, automotive, civil) with some experience in a professional engineering environment relevant to (but not limited to) the aerospace sector. You will need to demonstrate experience in at least one or more of the following areas: Structural/stress analysis Composite stress analysis (any industry) Linear and nonlinear finite element analysis Fatigue and damage tolerance Structural dynamics Thermal analysis Aerostructures experience You will also be expected to demonstrate the following qualities: A strong desire to progress quickly to a position of leadership Professional approach Strong communication skills, written and verbal Commercial awareness Team working, being comfortable working in international teams and self managing PLEASE NOTE SECURITY CLEARANCE IS REQUIRED FOR THIS ROLE Stress Engineer Glasgow Salary **** to ****</td>\n",
       "      <td>stress engineer glasgow salary **** to **** we re currently looking for talented engineers to join our growing glasgow team at a variety of levels. the roles are ideally suited to high calibre engineering graduates with any level of appropriate experience, so that we can give you the opportunity to use your technical skills to provide high quality input to our aerospace projects, spanning both aerostructures and aeroengines. in return, you can expect good career opportunities and the chance for advancement and personal and professional development, support while you gain chartership and some opportunities to possibly travel or work in other offices, in or outside of the uk. the requirements you will need to have a good engineering degree that includes structural analysis (such as aeronautical, mechanical, automotive, civil) with some experience in a professional engineering environment relevant to (but not limited to) the aerospace sector. you will need to demonstrate experience in at least one or more of the following areas: structural/stress analysis composite stress analysis (any industry) linear and nonlinear finite element analysis fatigue and damage tolerance structural dynamics thermal analysis aerostructures experience you will also be expected to demonstrate the following qualities: a strong desire to progress quickly to a position of leadership professional approach strong communication skills, written and verbal commercial awareness team working, being comfortable working in international teams and self managing please note security clearance is required for this role stress engineer glasgow salary **** to ****</td>\n",
       "    </tr>\n",
       "    <tr>\n",
       "      <th>2</th>\n",
       "      <td>Mathematical Modeller / Simulation Analyst / Operational Analyst Basingstoke, Hampshire Up to ****K AAE pension contribution, private medical and dental The opportunity Our client is an independent consultancy firm which has an opportunity for a Data Analyst with 35 years experience. The role will require the successful candidate to demonstrate their ability to analyse a problem and arrive at a solution, with varying levels of data being available. Essential skills Thorough knowledge of Excel and proven ability to utilise this to create powerful decision support models Experience in Modelling and Simulation Techniques, Experience of techniques such as Discrete Event Simulation and/or SD modelling Mathematical/scientific background  minimum degree qualified Proven analytical and problem solving skills Self Starter Ability to develop solid working relationships In addition to formal qualifications and experience, the successful candidate will require excellent written and verbal communication skills, be energetic, enterprising and have a determination to succeed. They will be required to build solid working relationships, both internally with colleagues and, most importantly, externally with our clients. They must be comfortable working independently to deliver against challenging client demands. The offices are located in Basingstoke, Hampshire, but our client work for clients worldwide. The successful candidate must therefore be prepared to undertake work at client sites for short periods of time. Physics, Mathematics, Modelling, Simulation, Analytical, Operational Research, Mathematical Modelling Mathematical Modeller / Simulation Analyst / Operational Analyst Basingstoke, Hampshire ****K AAE pension contribution, private medical and dental</td>\n",
       "      <td>mathematical modeller / simulation analyst / operational analyst basingstoke, hampshire up to ****k aae pension contribution, private medical and dental the opportunity our client is an independent consultancy firm which has an opportunity for a data analyst with 35 years experience. the role will require the successful candidate to demonstrate their ability to analyse a problem and arrive at a solution, with varying levels of data being available. essential skills thorough knowledge of excel and proven ability to utilise this to create powerful decision support models experience in modelling and simulation techniques, experience of techniques such as discrete event simulation and/or sd modelling mathematical/scientific background  minimum degree qualified proven analytical and problem solving skills self starter ability to develop solid working relationships in addition to formal qualifications and experience, the successful candidate will require excellent written and verbal communication skills, be energetic, enterprising and have a determination to succeed. they will be required to build solid working relationships, both internally with colleagues and, most importantly, externally with our clients. they must be comfortable working independently to deliver against challenging client demands. the offices are located in basingstoke, hampshire, but our client work for clients worldwide. the successful candidate must therefore be prepared to undertake work at client sites for short periods of time. physics, mathematics, modelling, simulation, analytical, operational research, mathematical modelling mathematical modeller / simulation analyst / operational analyst basingstoke, hampshire ****k aae pension contribution, private medical and dental</td>\n",
       "    </tr>\n",
       "    <tr>\n",
       "      <th>3</th>\n",
       "      <td>Engineering Systems Analyst / Mathematical Modeller. Our client is a highly successful and respected Consultancy providing specialist software development MISER, PIONEER, Maths, Mathematical, Optimisation, Risk Analysis, Asset Management, Water Industry, Access, Excel, VBA, SQL, Systems . Engineering Systems Analyst / Mathematical Modeller. Salary  ****K****K negotiable Location Dorking, Surrey</td>\n",
       "      <td>engineering systems analyst / mathematical modeller. our client is a highly successful and respected consultancy providing specialist software development miser, pioneer, maths, mathematical, optimisation, risk analysis, asset management, water industry, access, excel, vba, sql, systems . engineering systems analyst / mathematical modeller. salary  ****k****k negotiable location dorking, surrey</td>\n",
       "    </tr>\n",
       "    <tr>\n",
       "      <th>4</th>\n",
       "      <td>Pioneer, Miser  Engineering Systems Analyst Dorking  Surrey Salary ****K Located in Surrey, our client provides specialist software development Pioneer, Miser  Engineering Systems Analyst Dorking  Surrey Salary ****K</td>\n",
       "      <td>pioneer, miser  engineering systems analyst dorking  surrey salary ****k located in surrey, our client provides specialist software development pioneer, miser  engineering systems analyst dorking  surrey salary ****k</td>\n",
       "    </tr>\n",
       "  </tbody>\n",
       "</table>\n",
       "</div>"
      ],
      "text/plain": [
       "                                                                                                                                                                                                                                                                                                                                                                                                                                                                                                                                                                                                                                                                                                                                                                                                                                                                                                                                                                                                                                                                                                                                                                                                                                                                                                                                                                                                                                                                                                                                                                                                                                                                                                                                                                                                                               FullDescription  \\\n",
       "0                                                                                                                                                                                                                                                                                                                                                                                                                                                                                                                                                                                                                                                                                                                                                                                                                                                                                                                                                                                                                                                                                                                                                                                                                                                                                                                                                                                                                                                                                 Engineering Systems Analyst Dorking Surrey Salary ****K Our client is located in Dorking, Surrey and are looking for Engineering Systems Analyst our client provides specialist software development Keywords Mathematical Modelling, Risk Analysis, System Modelling, Optimisation, MISER, PIONEEER Engineering Systems Analyst Dorking Surrey Salary ****K   \n",
       "1                                                                                                                            Stress Engineer Glasgow Salary **** to **** We re currently looking for talented engineers to join our growing Glasgow team at a variety of levels. The roles are ideally suited to high calibre engineering graduates with any level of appropriate experience, so that we can give you the opportunity to use your technical skills to provide high quality input to our aerospace projects, spanning both aerostructures and aeroengines. In return, you can expect good career opportunities and the chance for advancement and personal and professional development, support while you gain Chartership and some opportunities to possibly travel or work in other offices, in or outside of the UK. The Requirements You will need to have a good engineering degree that includes structural analysis (such as aeronautical, mechanical, automotive, civil) with some experience in a professional engineering environment relevant to (but not limited to) the aerospace sector. You will need to demonstrate experience in at least one or more of the following areas: Structural/stress analysis Composite stress analysis (any industry) Linear and nonlinear finite element analysis Fatigue and damage tolerance Structural dynamics Thermal analysis Aerostructures experience You will also be expected to demonstrate the following qualities: A strong desire to progress quickly to a position of leadership Professional approach Strong communication skills, written and verbal Commercial awareness Team working, being comfortable working in international teams and self managing PLEASE NOTE SECURITY CLEARANCE IS REQUIRED FOR THIS ROLE Stress Engineer Glasgow Salary **** to ****   \n",
       "2  Mathematical Modeller / Simulation Analyst / Operational Analyst Basingstoke, Hampshire Up to ****K AAE pension contribution, private medical and dental The opportunity Our client is an independent consultancy firm which has an opportunity for a Data Analyst with 35 years experience. The role will require the successful candidate to demonstrate their ability to analyse a problem and arrive at a solution, with varying levels of data being available. Essential skills Thorough knowledge of Excel and proven ability to utilise this to create powerful decision support models Experience in Modelling and Simulation Techniques, Experience of techniques such as Discrete Event Simulation and/or SD modelling Mathematical/scientific background  minimum degree qualified Proven analytical and problem solving skills Self Starter Ability to develop solid working relationships In addition to formal qualifications and experience, the successful candidate will require excellent written and verbal communication skills, be energetic, enterprising and have a determination to succeed. They will be required to build solid working relationships, both internally with colleagues and, most importantly, externally with our clients. They must be comfortable working independently to deliver against challenging client demands. The offices are located in Basingstoke, Hampshire, but our client work for clients worldwide. The successful candidate must therefore be prepared to undertake work at client sites for short periods of time. Physics, Mathematics, Modelling, Simulation, Analytical, Operational Research, Mathematical Modelling Mathematical Modeller / Simulation Analyst / Operational Analyst Basingstoke, Hampshire ****K AAE pension contribution, private medical and dental   \n",
       "3                                                                                                                                                                                                                                                                                                                                                                                                                                                                                                                                                                                                                                                                                                                                                                                                                                                                                                                                                                                                                                                                                                                                                                                                                                                                                                                                                                                                                                Engineering Systems Analyst / Mathematical Modeller. Our client is a highly successful and respected Consultancy providing specialist software development MISER, PIONEER, Maths, Mathematical, Optimisation, Risk Analysis, Asset Management, Water Industry, Access, Excel, VBA, SQL, Systems . Engineering Systems Analyst / Mathematical Modeller. Salary  ****K****K negotiable Location Dorking, Surrey   \n",
       "4                                                                                                                                                                                                                                                                                                                                                                                                                                                                                                                                                                                                                                                                                                                                                                                                                                                                                                                                                                                                                                                                                                                                                                                                                                                                                                                                                                                                                                                                                                                                                                                                                     Pioneer, Miser  Engineering Systems Analyst Dorking  Surrey Salary ****K Located in Surrey, our client provides specialist software development Pioneer, Miser  Engineering Systems Analyst Dorking  Surrey Salary ****K   \n",
       "\n",
       "                                                                                                                                                                                                                                                                                                                                                                                                                                                                                                                                                                                                                                                                                                                                                                                                                                                                                                                                                                                                                                                                                                                                                                                                                                                                                                                                                                                                                                                                                                                                                                                                                                                                                                                                                                                                                     processed_FullDescription  \n",
       "0                                                                                                                                                                                                                                                                                                                                                                                                                                                                                                                                                                                                                                                                                                                                                                                                                                                                                                                                                                                                                                                                                                                                                                                                                                                                                                                                                                                                                                                                                 engineering systems analyst dorking surrey salary ****k our client is located in dorking, surrey and are looking for engineering systems analyst our client provides specialist software development keywords mathematical modelling, risk analysis, system modelling, optimisation, miser, pioneeer engineering systems analyst dorking surrey salary ****k  \n",
       "1                                                                                                                            stress engineer glasgow salary **** to **** we re currently looking for talented engineers to join our growing glasgow team at a variety of levels. the roles are ideally suited to high calibre engineering graduates with any level of appropriate experience, so that we can give you the opportunity to use your technical skills to provide high quality input to our aerospace projects, spanning both aerostructures and aeroengines. in return, you can expect good career opportunities and the chance for advancement and personal and professional development, support while you gain chartership and some opportunities to possibly travel or work in other offices, in or outside of the uk. the requirements you will need to have a good engineering degree that includes structural analysis (such as aeronautical, mechanical, automotive, civil) with some experience in a professional engineering environment relevant to (but not limited to) the aerospace sector. you will need to demonstrate experience in at least one or more of the following areas: structural/stress analysis composite stress analysis (any industry) linear and nonlinear finite element analysis fatigue and damage tolerance structural dynamics thermal analysis aerostructures experience you will also be expected to demonstrate the following qualities: a strong desire to progress quickly to a position of leadership professional approach strong communication skills, written and verbal commercial awareness team working, being comfortable working in international teams and self managing please note security clearance is required for this role stress engineer glasgow salary **** to ****  \n",
       "2  mathematical modeller / simulation analyst / operational analyst basingstoke, hampshire up to ****k aae pension contribution, private medical and dental the opportunity our client is an independent consultancy firm which has an opportunity for a data analyst with 35 years experience. the role will require the successful candidate to demonstrate their ability to analyse a problem and arrive at a solution, with varying levels of data being available. essential skills thorough knowledge of excel and proven ability to utilise this to create powerful decision support models experience in modelling and simulation techniques, experience of techniques such as discrete event simulation and/or sd modelling mathematical/scientific background  minimum degree qualified proven analytical and problem solving skills self starter ability to develop solid working relationships in addition to formal qualifications and experience, the successful candidate will require excellent written and verbal communication skills, be energetic, enterprising and have a determination to succeed. they will be required to build solid working relationships, both internally with colleagues and, most importantly, externally with our clients. they must be comfortable working independently to deliver against challenging client demands. the offices are located in basingstoke, hampshire, but our client work for clients worldwide. the successful candidate must therefore be prepared to undertake work at client sites for short periods of time. physics, mathematics, modelling, simulation, analytical, operational research, mathematical modelling mathematical modeller / simulation analyst / operational analyst basingstoke, hampshire ****k aae pension contribution, private medical and dental  \n",
       "3                                                                                                                                                                                                                                                                                                                                                                                                                                                                                                                                                                                                                                                                                                                                                                                                                                                                                                                                                                                                                                                                                                                                                                                                                                                                                                                                                                                                                                engineering systems analyst / mathematical modeller. our client is a highly successful and respected consultancy providing specialist software development miser, pioneer, maths, mathematical, optimisation, risk analysis, asset management, water industry, access, excel, vba, sql, systems . engineering systems analyst / mathematical modeller. salary  ****k****k negotiable location dorking, surrey  \n",
       "4                                                                                                                                                                                                                                                                                                                                                                                                                                                                                                                                                                                                                                                                                                                                                                                                                                                                                                                                                                                                                                                                                                                                                                                                                                                                                                                                                                                                                                                                                                                                                                                                                     pioneer, miser  engineering systems analyst dorking  surrey salary ****k located in surrey, our client provides specialist software development pioneer, miser  engineering systems analyst dorking  surrey salary ****k  "
      ]
     },
     "execution_count": 12,
     "metadata": {},
     "output_type": "execute_result"
    }
   ],
   "source": [
    "df_FullDescription[\"processed_FullDescription\"] = df_FullDescription[\"processed_FullDescription\"].str.replace(r'\\s*https?://\\S+(\\s+|$)', ' ', regex=True).str.strip()\n",
    "df_FullDescription.head()"
   ]
  },
  {
   "cell_type": "markdown",
   "id": "42abc5a6",
   "metadata": {},
   "source": [
    "### Removendo pontuações:"
   ]
  },
  {
   "cell_type": "code",
   "execution_count": 14,
   "id": "ff369af3",
   "metadata": {},
   "outputs": [
    {
     "data": {
      "text/html": [
       "<div>\n",
       "<style scoped>\n",
       "    .dataframe tbody tr th:only-of-type {\n",
       "        vertical-align: middle;\n",
       "    }\n",
       "\n",
       "    .dataframe tbody tr th {\n",
       "        vertical-align: top;\n",
       "    }\n",
       "\n",
       "    .dataframe thead th {\n",
       "        text-align: right;\n",
       "    }\n",
       "</style>\n",
       "<table border=\"1\" class=\"dataframe\">\n",
       "  <thead>\n",
       "    <tr style=\"text-align: right;\">\n",
       "      <th></th>\n",
       "      <th>FullDescription</th>\n",
       "      <th>processed_FullDescription</th>\n",
       "    </tr>\n",
       "  </thead>\n",
       "  <tbody>\n",
       "    <tr>\n",
       "      <th>0</th>\n",
       "      <td>Engineering Systems Analyst Dorking Surrey Salary ****K Our client is located in Dorking, Surrey and are looking for Engineering Systems Analyst our client provides specialist software development Keywords Mathematical Modelling, Risk Analysis, System Modelling, Optimisation, MISER, PIONEEER Engineering Systems Analyst Dorking Surrey Salary ****K</td>\n",
       "      <td>engineering systems analyst dorking surrey salary     k our client is located in dorking  surrey and are looking for engineering systems analyst our client provides specialist software development keywords mathematical modelling  risk analysis  system modelling  optimisation  miser  pioneeer engineering systems analyst dorking surrey salary     k</td>\n",
       "    </tr>\n",
       "    <tr>\n",
       "      <th>1</th>\n",
       "      <td>Stress Engineer Glasgow Salary **** to **** We re currently looking for talented engineers to join our growing Glasgow team at a variety of levels. The roles are ideally suited to high calibre engineering graduates with any level of appropriate experience, so that we can give you the opportunity to use your technical skills to provide high quality input to our aerospace projects, spanning both aerostructures and aeroengines. In return, you can expect good career opportunities and the chance for advancement and personal and professional development, support while you gain Chartership and some opportunities to possibly travel or work in other offices, in or outside of the UK. The Requirements You will need to have a good engineering degree that includes structural analysis (such as aeronautical, mechanical, automotive, civil) with some experience in a professional engineering environment relevant to (but not limited to) the aerospace sector. You will need to demonstrate experience in at least one or more of the following areas: Structural/stress analysis Composite stress analysis (any industry) Linear and nonlinear finite element analysis Fatigue and damage tolerance Structural dynamics Thermal analysis Aerostructures experience You will also be expected to demonstrate the following qualities: A strong desire to progress quickly to a position of leadership Professional approach Strong communication skills, written and verbal Commercial awareness Team working, being comfortable working in international teams and self managing PLEASE NOTE SECURITY CLEARANCE IS REQUIRED FOR THIS ROLE Stress Engineer Glasgow Salary **** to ****</td>\n",
       "      <td>stress engineer glasgow salary      to      we re currently looking for talented engineers to join our growing glasgow team at a variety of levels  the roles are ideally suited to high calibre engineering graduates with any level of appropriate experience  so that we can give you the opportunity to use your technical skills to provide high quality input to our aerospace projects  spanning both aerostructures and aeroengines  in return  you can expect good career opportunities and the chance for advancement and personal and professional development  support while you gain chartership and some opportunities to possibly travel or work in other offices  in or outside of the uk  the requirements you will need to have a good engineering degree that includes structural analysis  such as aeronautical  mechanical  automotive  civil  with some experience in a professional engineering environment relevant to  but not limited to  the aerospace sector  you will need to demonstrate experience in at least one or more of the following areas  structural stress analysis composite stress analysis  any industry  linear and nonlinear finite element analysis fatigue and damage tolerance structural dynamics thermal analysis aerostructures experience you will also be expected to demonstrate the following qualities  a strong desire to progress quickly to a position of leadership professional approach strong communication skills  written and verbal commercial awareness team working  being comfortable working in international teams and self managing please note security clearance is required for this role stress engineer glasgow salary      to</td>\n",
       "    </tr>\n",
       "    <tr>\n",
       "      <th>2</th>\n",
       "      <td>Mathematical Modeller / Simulation Analyst / Operational Analyst Basingstoke, Hampshire Up to ****K AAE pension contribution, private medical and dental The opportunity Our client is an independent consultancy firm which has an opportunity for a Data Analyst with 35 years experience. The role will require the successful candidate to demonstrate their ability to analyse a problem and arrive at a solution, with varying levels of data being available. Essential skills Thorough knowledge of Excel and proven ability to utilise this to create powerful decision support models Experience in Modelling and Simulation Techniques, Experience of techniques such as Discrete Event Simulation and/or SD modelling Mathematical/scientific background  minimum degree qualified Proven analytical and problem solving skills Self Starter Ability to develop solid working relationships In addition to formal qualifications and experience, the successful candidate will require excellent written and verbal communication skills, be energetic, enterprising and have a determination to succeed. They will be required to build solid working relationships, both internally with colleagues and, most importantly, externally with our clients. They must be comfortable working independently to deliver against challenging client demands. The offices are located in Basingstoke, Hampshire, but our client work for clients worldwide. The successful candidate must therefore be prepared to undertake work at client sites for short periods of time. Physics, Mathematics, Modelling, Simulation, Analytical, Operational Research, Mathematical Modelling Mathematical Modeller / Simulation Analyst / Operational Analyst Basingstoke, Hampshire ****K AAE pension contribution, private medical and dental</td>\n",
       "      <td>mathematical modeller   simulation analyst   operational analyst basingstoke  hampshire up to     k aae pension contribution  private medical and dental the opportunity our client is an independent consultancy firm which has an opportunity for a data analyst with 35 years experience  the role will require the successful candidate to demonstrate their ability to analyse a problem and arrive at a solution  with varying levels of data being available  essential skills thorough knowledge of excel and proven ability to utilise this to create powerful decision support models experience in modelling and simulation techniques  experience of techniques such as discrete event simulation and or sd modelling mathematical scientific background  minimum degree qualified proven analytical and problem solving skills self starter ability to develop solid working relationships in addition to formal qualifications and experience  the successful candidate will require excellent written and verbal communication skills  be energetic  enterprising and have a determination to succeed  they will be required to build solid working relationships  both internally with colleagues and  most importantly  externally with our clients  they must be comfortable working independently to deliver against challenging client demands  the offices are located in basingstoke  hampshire  but our client work for clients worldwide  the successful candidate must therefore be prepared to undertake work at client sites for short periods of time  physics  mathematics  modelling  simulation  analytical  operational research  mathematical modelling mathematical modeller   simulation analyst   operational analyst basingstoke  hampshire     k aae pension contribution  private medical and dental</td>\n",
       "    </tr>\n",
       "    <tr>\n",
       "      <th>3</th>\n",
       "      <td>Engineering Systems Analyst / Mathematical Modeller. Our client is a highly successful and respected Consultancy providing specialist software development MISER, PIONEER, Maths, Mathematical, Optimisation, Risk Analysis, Asset Management, Water Industry, Access, Excel, VBA, SQL, Systems . Engineering Systems Analyst / Mathematical Modeller. Salary  ****K****K negotiable Location Dorking, Surrey</td>\n",
       "      <td>engineering systems analyst   mathematical modeller  our client is a highly successful and respected consultancy providing specialist software development miser  pioneer  maths  mathematical  optimisation  risk analysis  asset management  water industry  access  excel  vba  sql  systems   engineering systems analyst   mathematical modeller  salary      k    k negotiable location dorking  surrey</td>\n",
       "    </tr>\n",
       "    <tr>\n",
       "      <th>4</th>\n",
       "      <td>Pioneer, Miser  Engineering Systems Analyst Dorking  Surrey Salary ****K Located in Surrey, our client provides specialist software development Pioneer, Miser  Engineering Systems Analyst Dorking  Surrey Salary ****K</td>\n",
       "      <td>pioneer  miser  engineering systems analyst dorking  surrey salary     k located in surrey  our client provides specialist software development pioneer  miser  engineering systems analyst dorking  surrey salary     k</td>\n",
       "    </tr>\n",
       "  </tbody>\n",
       "</table>\n",
       "</div>"
      ],
      "text/plain": [
       "                                                                                                                                                                                                                                                                                                                                                                                                                                                                                                                                                                                                                                                                                                                                                                                                                                                                                                                                                                                                                                                                                                                                                                                                                                                                                                                                                                                                                                                                                                                                                                                                                                                                                                                                                                                                                               FullDescription  \\\n",
       "0                                                                                                                                                                                                                                                                                                                                                                                                                                                                                                                                                                                                                                                                                                                                                                                                                                                                                                                                                                                                                                                                                                                                                                                                                                                                                                                                                                                                                                                                                 Engineering Systems Analyst Dorking Surrey Salary ****K Our client is located in Dorking, Surrey and are looking for Engineering Systems Analyst our client provides specialist software development Keywords Mathematical Modelling, Risk Analysis, System Modelling, Optimisation, MISER, PIONEEER Engineering Systems Analyst Dorking Surrey Salary ****K   \n",
       "1                                                                                                                            Stress Engineer Glasgow Salary **** to **** We re currently looking for talented engineers to join our growing Glasgow team at a variety of levels. The roles are ideally suited to high calibre engineering graduates with any level of appropriate experience, so that we can give you the opportunity to use your technical skills to provide high quality input to our aerospace projects, spanning both aerostructures and aeroengines. In return, you can expect good career opportunities and the chance for advancement and personal and professional development, support while you gain Chartership and some opportunities to possibly travel or work in other offices, in or outside of the UK. The Requirements You will need to have a good engineering degree that includes structural analysis (such as aeronautical, mechanical, automotive, civil) with some experience in a professional engineering environment relevant to (but not limited to) the aerospace sector. You will need to demonstrate experience in at least one or more of the following areas: Structural/stress analysis Composite stress analysis (any industry) Linear and nonlinear finite element analysis Fatigue and damage tolerance Structural dynamics Thermal analysis Aerostructures experience You will also be expected to demonstrate the following qualities: A strong desire to progress quickly to a position of leadership Professional approach Strong communication skills, written and verbal Commercial awareness Team working, being comfortable working in international teams and self managing PLEASE NOTE SECURITY CLEARANCE IS REQUIRED FOR THIS ROLE Stress Engineer Glasgow Salary **** to ****   \n",
       "2  Mathematical Modeller / Simulation Analyst / Operational Analyst Basingstoke, Hampshire Up to ****K AAE pension contribution, private medical and dental The opportunity Our client is an independent consultancy firm which has an opportunity for a Data Analyst with 35 years experience. The role will require the successful candidate to demonstrate their ability to analyse a problem and arrive at a solution, with varying levels of data being available. Essential skills Thorough knowledge of Excel and proven ability to utilise this to create powerful decision support models Experience in Modelling and Simulation Techniques, Experience of techniques such as Discrete Event Simulation and/or SD modelling Mathematical/scientific background  minimum degree qualified Proven analytical and problem solving skills Self Starter Ability to develop solid working relationships In addition to formal qualifications and experience, the successful candidate will require excellent written and verbal communication skills, be energetic, enterprising and have a determination to succeed. They will be required to build solid working relationships, both internally with colleagues and, most importantly, externally with our clients. They must be comfortable working independently to deliver against challenging client demands. The offices are located in Basingstoke, Hampshire, but our client work for clients worldwide. The successful candidate must therefore be prepared to undertake work at client sites for short periods of time. Physics, Mathematics, Modelling, Simulation, Analytical, Operational Research, Mathematical Modelling Mathematical Modeller / Simulation Analyst / Operational Analyst Basingstoke, Hampshire ****K AAE pension contribution, private medical and dental   \n",
       "3                                                                                                                                                                                                                                                                                                                                                                                                                                                                                                                                                                                                                                                                                                                                                                                                                                                                                                                                                                                                                                                                                                                                                                                                                                                                                                                                                                                                                                Engineering Systems Analyst / Mathematical Modeller. Our client is a highly successful and respected Consultancy providing specialist software development MISER, PIONEER, Maths, Mathematical, Optimisation, Risk Analysis, Asset Management, Water Industry, Access, Excel, VBA, SQL, Systems . Engineering Systems Analyst / Mathematical Modeller. Salary  ****K****K negotiable Location Dorking, Surrey   \n",
       "4                                                                                                                                                                                                                                                                                                                                                                                                                                                                                                                                                                                                                                                                                                                                                                                                                                                                                                                                                                                                                                                                                                                                                                                                                                                                                                                                                                                                                                                                                                                                                                                                                     Pioneer, Miser  Engineering Systems Analyst Dorking  Surrey Salary ****K Located in Surrey, our client provides specialist software development Pioneer, Miser  Engineering Systems Analyst Dorking  Surrey Salary ****K   \n",
       "\n",
       "                                                                                                                                                                                                                                                                                                                                                                                                                                                                                                                                                                                                                                                                                                                                                                                                                                                                                                                                                                                                                                                                                                                                                                                                                                                                                                                                                                                                                                                                                                                                                                                                                                                                                                                                                                                                                     processed_FullDescription  \n",
       "0                                                                                                                                                                                                                                                                                                                                                                                                                                                                                                                                                                                                                                                                                                                                                                                                                                                                                                                                                                                                                                                                                                                                                                                                                                                                                                                                                                                                                                                                                 engineering systems analyst dorking surrey salary     k our client is located in dorking  surrey and are looking for engineering systems analyst our client provides specialist software development keywords mathematical modelling  risk analysis  system modelling  optimisation  miser  pioneeer engineering systems analyst dorking surrey salary     k  \n",
       "1                                                                                                                            stress engineer glasgow salary      to      we re currently looking for talented engineers to join our growing glasgow team at a variety of levels  the roles are ideally suited to high calibre engineering graduates with any level of appropriate experience  so that we can give you the opportunity to use your technical skills to provide high quality input to our aerospace projects  spanning both aerostructures and aeroengines  in return  you can expect good career opportunities and the chance for advancement and personal and professional development  support while you gain chartership and some opportunities to possibly travel or work in other offices  in or outside of the uk  the requirements you will need to have a good engineering degree that includes structural analysis  such as aeronautical  mechanical  automotive  civil  with some experience in a professional engineering environment relevant to  but not limited to  the aerospace sector  you will need to demonstrate experience in at least one or more of the following areas  structural stress analysis composite stress analysis  any industry  linear and nonlinear finite element analysis fatigue and damage tolerance structural dynamics thermal analysis aerostructures experience you will also be expected to demonstrate the following qualities  a strong desire to progress quickly to a position of leadership professional approach strong communication skills  written and verbal commercial awareness team working  being comfortable working in international teams and self managing please note security clearance is required for this role stress engineer glasgow salary      to       \n",
       "2  mathematical modeller   simulation analyst   operational analyst basingstoke  hampshire up to     k aae pension contribution  private medical and dental the opportunity our client is an independent consultancy firm which has an opportunity for a data analyst with 35 years experience  the role will require the successful candidate to demonstrate their ability to analyse a problem and arrive at a solution  with varying levels of data being available  essential skills thorough knowledge of excel and proven ability to utilise this to create powerful decision support models experience in modelling and simulation techniques  experience of techniques such as discrete event simulation and or sd modelling mathematical scientific background  minimum degree qualified proven analytical and problem solving skills self starter ability to develop solid working relationships in addition to formal qualifications and experience  the successful candidate will require excellent written and verbal communication skills  be energetic  enterprising and have a determination to succeed  they will be required to build solid working relationships  both internally with colleagues and  most importantly  externally with our clients  they must be comfortable working independently to deliver against challenging client demands  the offices are located in basingstoke  hampshire  but our client work for clients worldwide  the successful candidate must therefore be prepared to undertake work at client sites for short periods of time  physics  mathematics  modelling  simulation  analytical  operational research  mathematical modelling mathematical modeller   simulation analyst   operational analyst basingstoke  hampshire     k aae pension contribution  private medical and dental  \n",
       "3                                                                                                                                                                                                                                                                                                                                                                                                                                                                                                                                                                                                                                                                                                                                                                                                                                                                                                                                                                                                                                                                                                                                                                                                                                                                                                                                                                                                                                engineering systems analyst   mathematical modeller  our client is a highly successful and respected consultancy providing specialist software development miser  pioneer  maths  mathematical  optimisation  risk analysis  asset management  water industry  access  excel  vba  sql  systems   engineering systems analyst   mathematical modeller  salary      k    k negotiable location dorking  surrey  \n",
       "4                                                                                                                                                                                                                                                                                                                                                                                                                                                                                                                                                                                                                                                                                                                                                                                                                                                                                                                                                                                                                                                                                                                                                                                                                                                                                                                                                                                                                                                                                                                                                                                                                     pioneer  miser  engineering systems analyst dorking  surrey salary     k located in surrey  our client provides specialist software development pioneer  miser  engineering systems analyst dorking  surrey salary     k  "
      ]
     },
     "execution_count": 14,
     "metadata": {},
     "output_type": "execute_result"
    }
   ],
   "source": [
    "df_FullDescription[\"processed_FullDescription\"] = df_FullDescription[\"processed_FullDescription\"].str.replace('[^\\w\\s]',' ', regex=True)\n",
    "df_FullDescription.head()"
   ]
  },
  {
   "cell_type": "markdown",
   "id": "d97fe2a2",
   "metadata": {},
   "source": [
    "### Aplicacando Stopword Removal (Remoção de palavras irrelevantes):"
   ]
  },
  {
   "cell_type": "code",
   "execution_count": 15,
   "id": "0037d882",
   "metadata": {},
   "outputs": [
    {
     "data": {
      "text/plain": [
       "\"i, me, my, myself, we, our, ours, ourselves, you, you're, you've, you'll, you'd, your, yours, yourself, yourselves, he, him, his, himself, she, she's, her, hers, herself, it, it's, its, itself, they, them, their, theirs, themselves, what, which, who, whom, this, that, that'll, these, those, am, is, are, was, were, be, been, being, have, has, had, having, do, does, did, doing, a, an, the, and, but, if, or, because, as, until, while, of, at, by, for, with, about, against, between, into, through, during, before, after, above, below, to, from, up, down, in, out, on, off, over, under, again, further, then, once, here, there, when, where, why, how, all, any, both, each, few, more, most, other, some, such, no, nor, not, only, own, same, so, than, too, very, s, t, can, will, just, don, don't, should, should've, now, d, ll, m, o, re, ve, y, ain, aren, aren't, couldn, couldn't, didn, didn't, doesn, doesn't, hadn, hadn't, hasn, hasn't, haven, haven't, isn, isn't, ma, mightn, mightn't, mustn, mustn't, needn, needn't, shan, shan't, shouldn, shouldn't, wasn, wasn't, weren, weren't, won, won't, wouldn, wouldn't\""
      ]
     },
     "execution_count": 15,
     "metadata": {},
     "output_type": "execute_result"
    }
   ],
   "source": [
    "from nltk.corpus import stopwords\n",
    "\", \".join(stopwords.words('english'))"
   ]
  },
  {
   "cell_type": "code",
   "execution_count": 16,
   "id": "798d6660",
   "metadata": {},
   "outputs": [
    {
     "data": {
      "text/html": [
       "<div>\n",
       "<style scoped>\n",
       "    .dataframe tbody tr th:only-of-type {\n",
       "        vertical-align: middle;\n",
       "    }\n",
       "\n",
       "    .dataframe tbody tr th {\n",
       "        vertical-align: top;\n",
       "    }\n",
       "\n",
       "    .dataframe thead th {\n",
       "        text-align: right;\n",
       "    }\n",
       "</style>\n",
       "<table border=\"1\" class=\"dataframe\">\n",
       "  <thead>\n",
       "    <tr style=\"text-align: right;\">\n",
       "      <th></th>\n",
       "      <th>FullDescription</th>\n",
       "      <th>processed_FullDescription</th>\n",
       "    </tr>\n",
       "  </thead>\n",
       "  <tbody>\n",
       "    <tr>\n",
       "      <th>0</th>\n",
       "      <td>Engineering Systems Analyst Dorking Surrey Salary ****K Our client is located in Dorking, Surrey and are looking for Engineering Systems Analyst our client provides specialist software development Keywords Mathematical Modelling, Risk Analysis, System Modelling, Optimisation, MISER, PIONEEER Engineering Systems Analyst Dorking Surrey Salary ****K</td>\n",
       "      <td>engineering systems analyst dorking surrey salary k client located dorking surrey looking engineering systems analyst client provides specialist software development keywords mathematical modelling risk analysis system modelling optimisation miser pioneeer engineering systems analyst dorking surrey salary k</td>\n",
       "    </tr>\n",
       "    <tr>\n",
       "      <th>1</th>\n",
       "      <td>Stress Engineer Glasgow Salary **** to **** We re currently looking for talented engineers to join our growing Glasgow team at a variety of levels. The roles are ideally suited to high calibre engineering graduates with any level of appropriate experience, so that we can give you the opportunity to use your technical skills to provide high quality input to our aerospace projects, spanning both aerostructures and aeroengines. In return, you can expect good career opportunities and the chance for advancement and personal and professional development, support while you gain Chartership and some opportunities to possibly travel or work in other offices, in or outside of the UK. The Requirements You will need to have a good engineering degree that includes structural analysis (such as aeronautical, mechanical, automotive, civil) with some experience in a professional engineering environment relevant to (but not limited to) the aerospace sector. You will need to demonstrate experience in at least one or more of the following areas: Structural/stress analysis Composite stress analysis (any industry) Linear and nonlinear finite element analysis Fatigue and damage tolerance Structural dynamics Thermal analysis Aerostructures experience You will also be expected to demonstrate the following qualities: A strong desire to progress quickly to a position of leadership Professional approach Strong communication skills, written and verbal Commercial awareness Team working, being comfortable working in international teams and self managing PLEASE NOTE SECURITY CLEARANCE IS REQUIRED FOR THIS ROLE Stress Engineer Glasgow Salary **** to ****</td>\n",
       "      <td>stress engineer glasgow salary currently looking talented engineers join growing glasgow team variety levels roles ideally suited high calibre engineering graduates level appropriate experience give opportunity use technical skills provide high quality input aerospace projects spanning aerostructures aeroengines return expect good career opportunities chance advancement personal professional development support gain chartership opportunities possibly travel work offices outside uk requirements need good engineering degree includes structural analysis aeronautical mechanical automotive civil experience professional engineering environment relevant limited aerospace sector need demonstrate experience least one following areas structural stress analysis composite stress analysis industry linear nonlinear finite element analysis fatigue damage tolerance structural dynamics thermal analysis aerostructures experience also expected demonstrate following qualities strong desire progress quickly position leadership professional approach strong communication skills written verbal commercial awareness team working comfortable working international teams self managing please note security clearance required role stress engineer glasgow salary</td>\n",
       "    </tr>\n",
       "    <tr>\n",
       "      <th>2</th>\n",
       "      <td>Mathematical Modeller / Simulation Analyst / Operational Analyst Basingstoke, Hampshire Up to ****K AAE pension contribution, private medical and dental The opportunity Our client is an independent consultancy firm which has an opportunity for a Data Analyst with 35 years experience. The role will require the successful candidate to demonstrate their ability to analyse a problem and arrive at a solution, with varying levels of data being available. Essential skills Thorough knowledge of Excel and proven ability to utilise this to create powerful decision support models Experience in Modelling and Simulation Techniques, Experience of techniques such as Discrete Event Simulation and/or SD modelling Mathematical/scientific background  minimum degree qualified Proven analytical and problem solving skills Self Starter Ability to develop solid working relationships In addition to formal qualifications and experience, the successful candidate will require excellent written and verbal communication skills, be energetic, enterprising and have a determination to succeed. They will be required to build solid working relationships, both internally with colleagues and, most importantly, externally with our clients. They must be comfortable working independently to deliver against challenging client demands. The offices are located in Basingstoke, Hampshire, but our client work for clients worldwide. The successful candidate must therefore be prepared to undertake work at client sites for short periods of time. Physics, Mathematics, Modelling, Simulation, Analytical, Operational Research, Mathematical Modelling Mathematical Modeller / Simulation Analyst / Operational Analyst Basingstoke, Hampshire ****K AAE pension contribution, private medical and dental</td>\n",
       "      <td>mathematical modeller simulation analyst operational analyst basingstoke hampshire k aae pension contribution private medical dental opportunity client independent consultancy firm opportunity data analyst 35 years experience role require successful candidate demonstrate ability analyse problem arrive solution varying levels data available essential skills thorough knowledge excel proven ability utilise create powerful decision support models experience modelling simulation techniques experience techniques discrete event simulation sd modelling mathematical scientific background minimum degree qualified proven analytical problem solving skills self starter ability develop solid working relationships addition formal qualifications experience successful candidate require excellent written verbal communication skills energetic enterprising determination succeed required build solid working relationships internally colleagues importantly externally clients must comfortable working independently deliver challenging client demands offices located basingstoke hampshire client work clients worldwide successful candidate must therefore prepared undertake work client sites short periods time physics mathematics modelling simulation analytical operational research mathematical modelling mathematical modeller simulation analyst operational analyst basingstoke hampshire k aae pension contribution private medical dental</td>\n",
       "    </tr>\n",
       "    <tr>\n",
       "      <th>3</th>\n",
       "      <td>Engineering Systems Analyst / Mathematical Modeller. Our client is a highly successful and respected Consultancy providing specialist software development MISER, PIONEER, Maths, Mathematical, Optimisation, Risk Analysis, Asset Management, Water Industry, Access, Excel, VBA, SQL, Systems . Engineering Systems Analyst / Mathematical Modeller. Salary  ****K****K negotiable Location Dorking, Surrey</td>\n",
       "      <td>engineering systems analyst mathematical modeller client highly successful respected consultancy providing specialist software development miser pioneer maths mathematical optimisation risk analysis asset management water industry access excel vba sql systems engineering systems analyst mathematical modeller salary k k negotiable location dorking surrey</td>\n",
       "    </tr>\n",
       "    <tr>\n",
       "      <th>4</th>\n",
       "      <td>Pioneer, Miser  Engineering Systems Analyst Dorking  Surrey Salary ****K Located in Surrey, our client provides specialist software development Pioneer, Miser  Engineering Systems Analyst Dorking  Surrey Salary ****K</td>\n",
       "      <td>pioneer miser engineering systems analyst dorking surrey salary k located surrey client provides specialist software development pioneer miser engineering systems analyst dorking surrey salary k</td>\n",
       "    </tr>\n",
       "  </tbody>\n",
       "</table>\n",
       "</div>"
      ],
      "text/plain": [
       "                                                                                                                                                                                                                                                                                                                                                                                                                                                                                                                                                                                                                                                                                                                                                                                                                                                                                                                                                                                                                                                                                                                                                                                                                                                                                                                                                                                                                                                                                                                                                                                                                                                                                                                                                                                                                               FullDescription  \\\n",
       "0                                                                                                                                                                                                                                                                                                                                                                                                                                                                                                                                                                                                                                                                                                                                                                                                                                                                                                                                                                                                                                                                                                                                                                                                                                                                                                                                                                                                                                                                                 Engineering Systems Analyst Dorking Surrey Salary ****K Our client is located in Dorking, Surrey and are looking for Engineering Systems Analyst our client provides specialist software development Keywords Mathematical Modelling, Risk Analysis, System Modelling, Optimisation, MISER, PIONEEER Engineering Systems Analyst Dorking Surrey Salary ****K   \n",
       "1                                                                                                                            Stress Engineer Glasgow Salary **** to **** We re currently looking for talented engineers to join our growing Glasgow team at a variety of levels. The roles are ideally suited to high calibre engineering graduates with any level of appropriate experience, so that we can give you the opportunity to use your technical skills to provide high quality input to our aerospace projects, spanning both aerostructures and aeroengines. In return, you can expect good career opportunities and the chance for advancement and personal and professional development, support while you gain Chartership and some opportunities to possibly travel or work in other offices, in or outside of the UK. The Requirements You will need to have a good engineering degree that includes structural analysis (such as aeronautical, mechanical, automotive, civil) with some experience in a professional engineering environment relevant to (but not limited to) the aerospace sector. You will need to demonstrate experience in at least one or more of the following areas: Structural/stress analysis Composite stress analysis (any industry) Linear and nonlinear finite element analysis Fatigue and damage tolerance Structural dynamics Thermal analysis Aerostructures experience You will also be expected to demonstrate the following qualities: A strong desire to progress quickly to a position of leadership Professional approach Strong communication skills, written and verbal Commercial awareness Team working, being comfortable working in international teams and self managing PLEASE NOTE SECURITY CLEARANCE IS REQUIRED FOR THIS ROLE Stress Engineer Glasgow Salary **** to ****   \n",
       "2  Mathematical Modeller / Simulation Analyst / Operational Analyst Basingstoke, Hampshire Up to ****K AAE pension contribution, private medical and dental The opportunity Our client is an independent consultancy firm which has an opportunity for a Data Analyst with 35 years experience. The role will require the successful candidate to demonstrate their ability to analyse a problem and arrive at a solution, with varying levels of data being available. Essential skills Thorough knowledge of Excel and proven ability to utilise this to create powerful decision support models Experience in Modelling and Simulation Techniques, Experience of techniques such as Discrete Event Simulation and/or SD modelling Mathematical/scientific background  minimum degree qualified Proven analytical and problem solving skills Self Starter Ability to develop solid working relationships In addition to formal qualifications and experience, the successful candidate will require excellent written and verbal communication skills, be energetic, enterprising and have a determination to succeed. They will be required to build solid working relationships, both internally with colleagues and, most importantly, externally with our clients. They must be comfortable working independently to deliver against challenging client demands. The offices are located in Basingstoke, Hampshire, but our client work for clients worldwide. The successful candidate must therefore be prepared to undertake work at client sites for short periods of time. Physics, Mathematics, Modelling, Simulation, Analytical, Operational Research, Mathematical Modelling Mathematical Modeller / Simulation Analyst / Operational Analyst Basingstoke, Hampshire ****K AAE pension contribution, private medical and dental   \n",
       "3                                                                                                                                                                                                                                                                                                                                                                                                                                                                                                                                                                                                                                                                                                                                                                                                                                                                                                                                                                                                                                                                                                                                                                                                                                                                                                                                                                                                                                Engineering Systems Analyst / Mathematical Modeller. Our client is a highly successful and respected Consultancy providing specialist software development MISER, PIONEER, Maths, Mathematical, Optimisation, Risk Analysis, Asset Management, Water Industry, Access, Excel, VBA, SQL, Systems . Engineering Systems Analyst / Mathematical Modeller. Salary  ****K****K negotiable Location Dorking, Surrey   \n",
       "4                                                                                                                                                                                                                                                                                                                                                                                                                                                                                                                                                                                                                                                                                                                                                                                                                                                                                                                                                                                                                                                                                                                                                                                                                                                                                                                                                                                                                                                                                                                                                                                                                     Pioneer, Miser  Engineering Systems Analyst Dorking  Surrey Salary ****K Located in Surrey, our client provides specialist software development Pioneer, Miser  Engineering Systems Analyst Dorking  Surrey Salary ****K   \n",
       "\n",
       "                                                                                                                                                                                                                                                                                                                                                                                                                                                                                                                                                                                                                                                                                                                                                                                                                                                                                                                                                                                                                                                                                                                                                                                                                                                                                                                                                                                                                                                               processed_FullDescription  \n",
       "0                                                                                                                                                                                                                                                                                                                                                                                                                                                                                                                                                                                                                                                                                                                                                                                                                                                                                                                                                                                                                                                                                                                                                                   engineering systems analyst dorking surrey salary k client located dorking surrey looking engineering systems analyst client provides specialist software development keywords mathematical modelling risk analysis system modelling optimisation miser pioneeer engineering systems analyst dorking surrey salary k  \n",
       "1                                                                                                                                                                                     stress engineer glasgow salary currently looking talented engineers join growing glasgow team variety levels roles ideally suited high calibre engineering graduates level appropriate experience give opportunity use technical skills provide high quality input aerospace projects spanning aerostructures aeroengines return expect good career opportunities chance advancement personal professional development support gain chartership opportunities possibly travel work offices outside uk requirements need good engineering degree includes structural analysis aeronautical mechanical automotive civil experience professional engineering environment relevant limited aerospace sector need demonstrate experience least one following areas structural stress analysis composite stress analysis industry linear nonlinear finite element analysis fatigue damage tolerance structural dynamics thermal analysis aerostructures experience also expected demonstrate following qualities strong desire progress quickly position leadership professional approach strong communication skills written verbal commercial awareness team working comfortable working international teams self managing please note security clearance required role stress engineer glasgow salary  \n",
       "2  mathematical modeller simulation analyst operational analyst basingstoke hampshire k aae pension contribution private medical dental opportunity client independent consultancy firm opportunity data analyst 35 years experience role require successful candidate demonstrate ability analyse problem arrive solution varying levels data available essential skills thorough knowledge excel proven ability utilise create powerful decision support models experience modelling simulation techniques experience techniques discrete event simulation sd modelling mathematical scientific background minimum degree qualified proven analytical problem solving skills self starter ability develop solid working relationships addition formal qualifications experience successful candidate require excellent written verbal communication skills energetic enterprising determination succeed required build solid working relationships internally colleagues importantly externally clients must comfortable working independently deliver challenging client demands offices located basingstoke hampshire client work clients worldwide successful candidate must therefore prepared undertake work client sites short periods time physics mathematics modelling simulation analytical operational research mathematical modelling mathematical modeller simulation analyst operational analyst basingstoke hampshire k aae pension contribution private medical dental  \n",
       "3                                                                                                                                                                                                                                                                                                                                                                                                                                                                                                                                                                                                                                                                                                                                                                                                                                                                                                                                                                                                                                                                                                                    engineering systems analyst mathematical modeller client highly successful respected consultancy providing specialist software development miser pioneer maths mathematical optimisation risk analysis asset management water industry access excel vba sql systems engineering systems analyst mathematical modeller salary k k negotiable location dorking surrey  \n",
       "4                                                                                                                                                                                                                                                                                                                                                                                                                                                                                                                                                                                                                                                                                                                                                                                                                                                                                                                                                                                                                                                                                                                                                                                                                                                                                     pioneer miser engineering systems analyst dorking surrey salary k located surrey client provides specialist software development pioneer miser engineering systems analyst dorking surrey salary k  "
      ]
     },
     "execution_count": 16,
     "metadata": {},
     "output_type": "execute_result"
    }
   ],
   "source": [
    "STOPWORDS = set(stopwords.words('english'))\n",
    "def remove_stopwords(text):\n",
    "  return \" \".join([word for word in str(text).split() if word not in STOPWORDS])\n",
    "\n",
    "df_FullDescription[\"processed_FullDescription\"] = df_FullDescription[\"processed_FullDescription\"].apply(lambda text: remove_stopwords(text))\n",
    "df_FullDescription.head()"
   ]
  },
  {
   "cell_type": "markdown",
   "id": "948fb3ae",
   "metadata": {},
   "source": [
    "### Removendo palavras mais frequentes:"
   ]
  },
  {
   "cell_type": "code",
   "execution_count": 18,
   "id": "01463df4",
   "metadata": {},
   "outputs": [
    {
     "data": {
      "text/plain": [
       "[('experience', 428042),\n",
       " ('role', 292124),\n",
       " ('work', 279778),\n",
       " ('team', 268138),\n",
       " ('business', 265987),\n",
       " ('skills', 235943),\n",
       " ('working', 222664),\n",
       " ('within', 217339),\n",
       " ('sales', 209317),\n",
       " ('client', 197545)]"
      ]
     },
     "execution_count": 18,
     "metadata": {},
     "output_type": "execute_result"
    }
   ],
   "source": [
    "from collections import Counter\n",
    "cnt_fulldescription = Counter() # Instance\n",
    "for text in df_FullDescription[\"processed_FullDescription\"].values:\n",
    "  for word in text.split():\n",
    "    cnt_fulldescription[word] += 1\n",
    "\n",
    "cnt_fulldescription.most_common(10)"
   ]
  },
  {
   "cell_type": "markdown",
   "id": "5fba3058",
   "metadata": {},
   "source": [
    "**NOTE:**  \n",
    "Na minha opinião quase todas, senão todas são relevantes para o modelo aprender. Sabendo disso não vou remover nenhuma delas."
   ]
  },
  {
   "cell_type": "markdown",
   "id": "daa69a8c",
   "metadata": {},
   "source": [
    "### Remoção de palavras raras:"
   ]
  },
  {
   "cell_type": "code",
   "execution_count": 19,
   "id": "0f5ca761",
   "metadata": {},
   "outputs": [
    {
     "data": {
      "text/plain": [
       "{'gpled',\n",
       " 'grzedamcarthur',\n",
       " 'grzedamcarthurnhs',\n",
       " 'immedaitley',\n",
       " 'lowehays',\n",
       " 'organsations',\n",
       " 'ruabon',\n",
       " 'stephanietraveltraderecruitmnt',\n",
       " 'swuk',\n",
       " 'tne'}"
      ]
     },
     "execution_count": 19,
     "metadata": {},
     "output_type": "execute_result"
    }
   ],
   "source": [
    "n_rare_words = 10\n",
    "RAREWORDS = set([w for (w, wc) in cnt_fulldescription.most_common()[:-n_rare_words-1:-1]])\n",
    "RAREWORDS"
   ]
  },
  {
   "cell_type": "code",
   "execution_count": 20,
   "id": "2e1b19f7",
   "metadata": {},
   "outputs": [
    {
     "data": {
      "text/html": [
       "<div>\n",
       "<style scoped>\n",
       "    .dataframe tbody tr th:only-of-type {\n",
       "        vertical-align: middle;\n",
       "    }\n",
       "\n",
       "    .dataframe tbody tr th {\n",
       "        vertical-align: top;\n",
       "    }\n",
       "\n",
       "    .dataframe thead th {\n",
       "        text-align: right;\n",
       "    }\n",
       "</style>\n",
       "<table border=\"1\" class=\"dataframe\">\n",
       "  <thead>\n",
       "    <tr style=\"text-align: right;\">\n",
       "      <th></th>\n",
       "      <th>FullDescription</th>\n",
       "      <th>processed_FullDescription</th>\n",
       "    </tr>\n",
       "  </thead>\n",
       "  <tbody>\n",
       "    <tr>\n",
       "      <th>0</th>\n",
       "      <td>Engineering Systems Analyst Dorking Surrey Salary ****K Our client is located in Dorking, Surrey and are looking for Engineering Systems Analyst our client provides specialist software development Keywords Mathematical Modelling, Risk Analysis, System Modelling, Optimisation, MISER, PIONEEER Engineering Systems Analyst Dorking Surrey Salary ****K</td>\n",
       "      <td>engineering systems analyst dorking surrey salary k client located dorking surrey looking engineering systems analyst client provides specialist software development keywords mathematical modelling risk analysis system modelling optimisation miser pioneeer engineering systems analyst dorking surrey salary k</td>\n",
       "    </tr>\n",
       "    <tr>\n",
       "      <th>1</th>\n",
       "      <td>Stress Engineer Glasgow Salary **** to **** We re currently looking for talented engineers to join our growing Glasgow team at a variety of levels. The roles are ideally suited to high calibre engineering graduates with any level of appropriate experience, so that we can give you the opportunity to use your technical skills to provide high quality input to our aerospace projects, spanning both aerostructures and aeroengines. In return, you can expect good career opportunities and the chance for advancement and personal and professional development, support while you gain Chartership and some opportunities to possibly travel or work in other offices, in or outside of the UK. The Requirements You will need to have a good engineering degree that includes structural analysis (such as aeronautical, mechanical, automotive, civil) with some experience in a professional engineering environment relevant to (but not limited to) the aerospace sector. You will need to demonstrate experience in at least one or more of the following areas: Structural/stress analysis Composite stress analysis (any industry) Linear and nonlinear finite element analysis Fatigue and damage tolerance Structural dynamics Thermal analysis Aerostructures experience You will also be expected to demonstrate the following qualities: A strong desire to progress quickly to a position of leadership Professional approach Strong communication skills, written and verbal Commercial awareness Team working, being comfortable working in international teams and self managing PLEASE NOTE SECURITY CLEARANCE IS REQUIRED FOR THIS ROLE Stress Engineer Glasgow Salary **** to ****</td>\n",
       "      <td>stress engineer glasgow salary currently looking talented engineers join growing glasgow team variety levels roles ideally suited high calibre engineering graduates level appropriate experience give opportunity use technical skills provide high quality input aerospace projects spanning aerostructures aeroengines return expect good career opportunities chance advancement personal professional development support gain chartership opportunities possibly travel work offices outside uk requirements need good engineering degree includes structural analysis aeronautical mechanical automotive civil experience professional engineering environment relevant limited aerospace sector need demonstrate experience least one following areas structural stress analysis composite stress analysis industry linear nonlinear finite element analysis fatigue damage tolerance structural dynamics thermal analysis aerostructures experience also expected demonstrate following qualities strong desire progress quickly position leadership professional approach strong communication skills written verbal commercial awareness team working comfortable working international teams self managing please note security clearance required role stress engineer glasgow salary</td>\n",
       "    </tr>\n",
       "    <tr>\n",
       "      <th>2</th>\n",
       "      <td>Mathematical Modeller / Simulation Analyst / Operational Analyst Basingstoke, Hampshire Up to ****K AAE pension contribution, private medical and dental The opportunity Our client is an independent consultancy firm which has an opportunity for a Data Analyst with 35 years experience. The role will require the successful candidate to demonstrate their ability to analyse a problem and arrive at a solution, with varying levels of data being available. Essential skills Thorough knowledge of Excel and proven ability to utilise this to create powerful decision support models Experience in Modelling and Simulation Techniques, Experience of techniques such as Discrete Event Simulation and/or SD modelling Mathematical/scientific background  minimum degree qualified Proven analytical and problem solving skills Self Starter Ability to develop solid working relationships In addition to formal qualifications and experience, the successful candidate will require excellent written and verbal communication skills, be energetic, enterprising and have a determination to succeed. They will be required to build solid working relationships, both internally with colleagues and, most importantly, externally with our clients. They must be comfortable working independently to deliver against challenging client demands. The offices are located in Basingstoke, Hampshire, but our client work for clients worldwide. The successful candidate must therefore be prepared to undertake work at client sites for short periods of time. Physics, Mathematics, Modelling, Simulation, Analytical, Operational Research, Mathematical Modelling Mathematical Modeller / Simulation Analyst / Operational Analyst Basingstoke, Hampshire ****K AAE pension contribution, private medical and dental</td>\n",
       "      <td>mathematical modeller simulation analyst operational analyst basingstoke hampshire k aae pension contribution private medical dental opportunity client independent consultancy firm opportunity data analyst 35 years experience role require successful candidate demonstrate ability analyse problem arrive solution varying levels data available essential skills thorough knowledge excel proven ability utilise create powerful decision support models experience modelling simulation techniques experience techniques discrete event simulation sd modelling mathematical scientific background minimum degree qualified proven analytical problem solving skills self starter ability develop solid working relationships addition formal qualifications experience successful candidate require excellent written verbal communication skills energetic enterprising determination succeed required build solid working relationships internally colleagues importantly externally clients must comfortable working independently deliver challenging client demands offices located basingstoke hampshire client work clients worldwide successful candidate must therefore prepared undertake work client sites short periods time physics mathematics modelling simulation analytical operational research mathematical modelling mathematical modeller simulation analyst operational analyst basingstoke hampshire k aae pension contribution private medical dental</td>\n",
       "    </tr>\n",
       "    <tr>\n",
       "      <th>3</th>\n",
       "      <td>Engineering Systems Analyst / Mathematical Modeller. Our client is a highly successful and respected Consultancy providing specialist software development MISER, PIONEER, Maths, Mathematical, Optimisation, Risk Analysis, Asset Management, Water Industry, Access, Excel, VBA, SQL, Systems . Engineering Systems Analyst / Mathematical Modeller. Salary  ****K****K negotiable Location Dorking, Surrey</td>\n",
       "      <td>engineering systems analyst mathematical modeller client highly successful respected consultancy providing specialist software development miser pioneer maths mathematical optimisation risk analysis asset management water industry access excel vba sql systems engineering systems analyst mathematical modeller salary k k negotiable location dorking surrey</td>\n",
       "    </tr>\n",
       "    <tr>\n",
       "      <th>4</th>\n",
       "      <td>Pioneer, Miser  Engineering Systems Analyst Dorking  Surrey Salary ****K Located in Surrey, our client provides specialist software development Pioneer, Miser  Engineering Systems Analyst Dorking  Surrey Salary ****K</td>\n",
       "      <td>pioneer miser engineering systems analyst dorking surrey salary k located surrey client provides specialist software development pioneer miser engineering systems analyst dorking surrey salary k</td>\n",
       "    </tr>\n",
       "  </tbody>\n",
       "</table>\n",
       "</div>"
      ],
      "text/plain": [
       "                                                                                                                                                                                                                                                                                                                                                                                                                                                                                                                                                                                                                                                                                                                                                                                                                                                                                                                                                                                                                                                                                                                                                                                                                                                                                                                                                                                                                                                                                                                                                                                                                                                                                                                                                                                                                               FullDescription  \\\n",
       "0                                                                                                                                                                                                                                                                                                                                                                                                                                                                                                                                                                                                                                                                                                                                                                                                                                                                                                                                                                                                                                                                                                                                                                                                                                                                                                                                                                                                                                                                                 Engineering Systems Analyst Dorking Surrey Salary ****K Our client is located in Dorking, Surrey and are looking for Engineering Systems Analyst our client provides specialist software development Keywords Mathematical Modelling, Risk Analysis, System Modelling, Optimisation, MISER, PIONEEER Engineering Systems Analyst Dorking Surrey Salary ****K   \n",
       "1                                                                                                                            Stress Engineer Glasgow Salary **** to **** We re currently looking for talented engineers to join our growing Glasgow team at a variety of levels. The roles are ideally suited to high calibre engineering graduates with any level of appropriate experience, so that we can give you the opportunity to use your technical skills to provide high quality input to our aerospace projects, spanning both aerostructures and aeroengines. In return, you can expect good career opportunities and the chance for advancement and personal and professional development, support while you gain Chartership and some opportunities to possibly travel or work in other offices, in or outside of the UK. The Requirements You will need to have a good engineering degree that includes structural analysis (such as aeronautical, mechanical, automotive, civil) with some experience in a professional engineering environment relevant to (but not limited to) the aerospace sector. You will need to demonstrate experience in at least one or more of the following areas: Structural/stress analysis Composite stress analysis (any industry) Linear and nonlinear finite element analysis Fatigue and damage tolerance Structural dynamics Thermal analysis Aerostructures experience You will also be expected to demonstrate the following qualities: A strong desire to progress quickly to a position of leadership Professional approach Strong communication skills, written and verbal Commercial awareness Team working, being comfortable working in international teams and self managing PLEASE NOTE SECURITY CLEARANCE IS REQUIRED FOR THIS ROLE Stress Engineer Glasgow Salary **** to ****   \n",
       "2  Mathematical Modeller / Simulation Analyst / Operational Analyst Basingstoke, Hampshire Up to ****K AAE pension contribution, private medical and dental The opportunity Our client is an independent consultancy firm which has an opportunity for a Data Analyst with 35 years experience. The role will require the successful candidate to demonstrate their ability to analyse a problem and arrive at a solution, with varying levels of data being available. Essential skills Thorough knowledge of Excel and proven ability to utilise this to create powerful decision support models Experience in Modelling and Simulation Techniques, Experience of techniques such as Discrete Event Simulation and/or SD modelling Mathematical/scientific background  minimum degree qualified Proven analytical and problem solving skills Self Starter Ability to develop solid working relationships In addition to formal qualifications and experience, the successful candidate will require excellent written and verbal communication skills, be energetic, enterprising and have a determination to succeed. They will be required to build solid working relationships, both internally with colleagues and, most importantly, externally with our clients. They must be comfortable working independently to deliver against challenging client demands. The offices are located in Basingstoke, Hampshire, but our client work for clients worldwide. The successful candidate must therefore be prepared to undertake work at client sites for short periods of time. Physics, Mathematics, Modelling, Simulation, Analytical, Operational Research, Mathematical Modelling Mathematical Modeller / Simulation Analyst / Operational Analyst Basingstoke, Hampshire ****K AAE pension contribution, private medical and dental   \n",
       "3                                                                                                                                                                                                                                                                                                                                                                                                                                                                                                                                                                                                                                                                                                                                                                                                                                                                                                                                                                                                                                                                                                                                                                                                                                                                                                                                                                                                                                Engineering Systems Analyst / Mathematical Modeller. Our client is a highly successful and respected Consultancy providing specialist software development MISER, PIONEER, Maths, Mathematical, Optimisation, Risk Analysis, Asset Management, Water Industry, Access, Excel, VBA, SQL, Systems . Engineering Systems Analyst / Mathematical Modeller. Salary  ****K****K negotiable Location Dorking, Surrey   \n",
       "4                                                                                                                                                                                                                                                                                                                                                                                                                                                                                                                                                                                                                                                                                                                                                                                                                                                                                                                                                                                                                                                                                                                                                                                                                                                                                                                                                                                                                                                                                                                                                                                                                     Pioneer, Miser  Engineering Systems Analyst Dorking  Surrey Salary ****K Located in Surrey, our client provides specialist software development Pioneer, Miser  Engineering Systems Analyst Dorking  Surrey Salary ****K   \n",
       "\n",
       "                                                                                                                                                                                                                                                                                                                                                                                                                                                                                                                                                                                                                                                                                                                                                                                                                                                                                                                                                                                                                                                                                                                                                                                                                                                                                                                                                                                                                                                               processed_FullDescription  \n",
       "0                                                                                                                                                                                                                                                                                                                                                                                                                                                                                                                                                                                                                                                                                                                                                                                                                                                                                                                                                                                                                                                                                                                                                                   engineering systems analyst dorking surrey salary k client located dorking surrey looking engineering systems analyst client provides specialist software development keywords mathematical modelling risk analysis system modelling optimisation miser pioneeer engineering systems analyst dorking surrey salary k  \n",
       "1                                                                                                                                                                                     stress engineer glasgow salary currently looking talented engineers join growing glasgow team variety levels roles ideally suited high calibre engineering graduates level appropriate experience give opportunity use technical skills provide high quality input aerospace projects spanning aerostructures aeroengines return expect good career opportunities chance advancement personal professional development support gain chartership opportunities possibly travel work offices outside uk requirements need good engineering degree includes structural analysis aeronautical mechanical automotive civil experience professional engineering environment relevant limited aerospace sector need demonstrate experience least one following areas structural stress analysis composite stress analysis industry linear nonlinear finite element analysis fatigue damage tolerance structural dynamics thermal analysis aerostructures experience also expected demonstrate following qualities strong desire progress quickly position leadership professional approach strong communication skills written verbal commercial awareness team working comfortable working international teams self managing please note security clearance required role stress engineer glasgow salary  \n",
       "2  mathematical modeller simulation analyst operational analyst basingstoke hampshire k aae pension contribution private medical dental opportunity client independent consultancy firm opportunity data analyst 35 years experience role require successful candidate demonstrate ability analyse problem arrive solution varying levels data available essential skills thorough knowledge excel proven ability utilise create powerful decision support models experience modelling simulation techniques experience techniques discrete event simulation sd modelling mathematical scientific background minimum degree qualified proven analytical problem solving skills self starter ability develop solid working relationships addition formal qualifications experience successful candidate require excellent written verbal communication skills energetic enterprising determination succeed required build solid working relationships internally colleagues importantly externally clients must comfortable working independently deliver challenging client demands offices located basingstoke hampshire client work clients worldwide successful candidate must therefore prepared undertake work client sites short periods time physics mathematics modelling simulation analytical operational research mathematical modelling mathematical modeller simulation analyst operational analyst basingstoke hampshire k aae pension contribution private medical dental  \n",
       "3                                                                                                                                                                                                                                                                                                                                                                                                                                                                                                                                                                                                                                                                                                                                                                                                                                                                                                                                                                                                                                                                                                                    engineering systems analyst mathematical modeller client highly successful respected consultancy providing specialist software development miser pioneer maths mathematical optimisation risk analysis asset management water industry access excel vba sql systems engineering systems analyst mathematical modeller salary k k negotiable location dorking surrey  \n",
       "4                                                                                                                                                                                                                                                                                                                                                                                                                                                                                                                                                                                                                                                                                                                                                                                                                                                                                                                                                                                                                                                                                                                                                                                                                                                                                     pioneer miser engineering systems analyst dorking surrey salary k located surrey client provides specialist software development pioneer miser engineering systems analyst dorking surrey salary k  "
      ]
     },
     "execution_count": 20,
     "metadata": {},
     "output_type": "execute_result"
    }
   ],
   "source": [
    "n_rare_words = 10\n",
    "RAREWORDS = set([w for (w, wc) in cnt_fulldescription.most_common()[:-n_rare_words-1:-1]])\n",
    "def remove_rarewords(text):\n",
    "  return \" \".join([word for word in str(text).split() if word not in RAREWORDS])\n",
    "\n",
    "df_FullDescription[\"processed_FullDescription\"] = df_FullDescription[\"processed_FullDescription\"].apply(lambda text: remove_rarewords(text))\n",
    "df_FullDescription.head()"
   ]
  },
  {
   "cell_type": "markdown",
   "id": "e6f73c8b",
   "metadata": {},
   "source": [
    "### Aplica a técnica de Stemming:"
   ]
  },
  {
   "cell_type": "code",
   "execution_count": 22,
   "id": "16dde2d8",
   "metadata": {},
   "outputs": [
    {
     "data": {
      "text/html": [
       "<div>\n",
       "<style scoped>\n",
       "    .dataframe tbody tr th:only-of-type {\n",
       "        vertical-align: middle;\n",
       "    }\n",
       "\n",
       "    .dataframe tbody tr th {\n",
       "        vertical-align: top;\n",
       "    }\n",
       "\n",
       "    .dataframe thead th {\n",
       "        text-align: right;\n",
       "    }\n",
       "</style>\n",
       "<table border=\"1\" class=\"dataframe\">\n",
       "  <thead>\n",
       "    <tr style=\"text-align: right;\">\n",
       "      <th></th>\n",
       "      <th>FullDescription</th>\n",
       "      <th>processed_FullDescription</th>\n",
       "    </tr>\n",
       "  </thead>\n",
       "  <tbody>\n",
       "    <tr>\n",
       "      <th>0</th>\n",
       "      <td>Engineering Systems Analyst Dorking Surrey Salary ****K Our client is located in Dorking, Surrey and are looking for Engineering Systems Analyst our client provides specialist software development Keywords Mathematical Modelling, Risk Analysis, System Modelling, Optimisation, MISER, PIONEEER Engineering Systems Analyst Dorking Surrey Salary ****K</td>\n",
       "      <td>engin system analyst dork surrey salari k client locat dork surrey look engin system analyst client provid specialist softwar develop keyword mathemat model risk analysi system model optimis miser pioneeer engin system analyst dork surrey salari k</td>\n",
       "    </tr>\n",
       "    <tr>\n",
       "      <th>1</th>\n",
       "      <td>Stress Engineer Glasgow Salary **** to **** We re currently looking for talented engineers to join our growing Glasgow team at a variety of levels. The roles are ideally suited to high calibre engineering graduates with any level of appropriate experience, so that we can give you the opportunity to use your technical skills to provide high quality input to our aerospace projects, spanning both aerostructures and aeroengines. In return, you can expect good career opportunities and the chance for advancement and personal and professional development, support while you gain Chartership and some opportunities to possibly travel or work in other offices, in or outside of the UK. The Requirements You will need to have a good engineering degree that includes structural analysis (such as aeronautical, mechanical, automotive, civil) with some experience in a professional engineering environment relevant to (but not limited to) the aerospace sector. You will need to demonstrate experience in at least one or more of the following areas: Structural/stress analysis Composite stress analysis (any industry) Linear and nonlinear finite element analysis Fatigue and damage tolerance Structural dynamics Thermal analysis Aerostructures experience You will also be expected to demonstrate the following qualities: A strong desire to progress quickly to a position of leadership Professional approach Strong communication skills, written and verbal Commercial awareness Team working, being comfortable working in international teams and self managing PLEASE NOTE SECURITY CLEARANCE IS REQUIRED FOR THIS ROLE Stress Engineer Glasgow Salary **** to ****</td>\n",
       "      <td>stress engin glasgow salari current look talent engin join grow glasgow team varieti level role ideal suit high calibr engin graduat level appropri experi give opportun use technic skill provid high qualiti input aerospac project span aerostructur aeroengin return expect good career opportun chanc advanc person profession develop support gain chartership opportun possibl travel work offic outsid uk requir need good engin degre includ structur analysi aeronaut mechan automot civil experi profession engin environ relev limit aerospac sector need demonstr experi least one follow area structur stress analysi composit stress analysi industri linear nonlinear finit element analysi fatigu damag toler structur dynam thermal analysi aerostructur experi also expect demonstr follow qualiti strong desir progress quickli posit leadership profession approach strong commun skill written verbal commerci awar team work comfort work intern team self manag pleas note secur clearanc requir role stress engin glasgow salari</td>\n",
       "    </tr>\n",
       "    <tr>\n",
       "      <th>2</th>\n",
       "      <td>Mathematical Modeller / Simulation Analyst / Operational Analyst Basingstoke, Hampshire Up to ****K AAE pension contribution, private medical and dental The opportunity Our client is an independent consultancy firm which has an opportunity for a Data Analyst with 35 years experience. The role will require the successful candidate to demonstrate their ability to analyse a problem and arrive at a solution, with varying levels of data being available. Essential skills Thorough knowledge of Excel and proven ability to utilise this to create powerful decision support models Experience in Modelling and Simulation Techniques, Experience of techniques such as Discrete Event Simulation and/or SD modelling Mathematical/scientific background  minimum degree qualified Proven analytical and problem solving skills Self Starter Ability to develop solid working relationships In addition to formal qualifications and experience, the successful candidate will require excellent written and verbal communication skills, be energetic, enterprising and have a determination to succeed. They will be required to build solid working relationships, both internally with colleagues and, most importantly, externally with our clients. They must be comfortable working independently to deliver against challenging client demands. The offices are located in Basingstoke, Hampshire, but our client work for clients worldwide. The successful candidate must therefore be prepared to undertake work at client sites for short periods of time. Physics, Mathematics, Modelling, Simulation, Analytical, Operational Research, Mathematical Modelling Mathematical Modeller / Simulation Analyst / Operational Analyst Basingstoke, Hampshire ****K AAE pension contribution, private medical and dental</td>\n",
       "      <td>mathemat model simul analyst oper analyst basingstok hampshir k aae pension contribut privat medic dental opportun client independ consult firm opportun data analyst 35 year experi role requir success candid demonstr abil analys problem arriv solut vari level data avail essenti skill thorough knowledg excel proven abil utilis creat power decis support model experi model simul techniqu experi techniqu discret event simul sd model mathemat scientif background minimum degre qualifi proven analyt problem solv skill self starter abil develop solid work relationship addit formal qualif experi success candid requir excel written verbal commun skill energet enterpris determin succeed requir build solid work relationship intern colleagu importantli extern client must comfort work independ deliv challeng client demand offic locat basingstok hampshir client work client worldwid success candid must therefor prepar undertak work client site short period time physic mathemat model simul analyt oper research mathemat model mathemat model simul analyst oper analyst basingstok hampshir k aae pension contribut privat medic dental</td>\n",
       "    </tr>\n",
       "    <tr>\n",
       "      <th>3</th>\n",
       "      <td>Engineering Systems Analyst / Mathematical Modeller. Our client is a highly successful and respected Consultancy providing specialist software development MISER, PIONEER, Maths, Mathematical, Optimisation, Risk Analysis, Asset Management, Water Industry, Access, Excel, VBA, SQL, Systems . Engineering Systems Analyst / Mathematical Modeller. Salary  ****K****K negotiable Location Dorking, Surrey</td>\n",
       "      <td>engin system analyst mathemat model client highli success respect consult provid specialist softwar develop miser pioneer math mathemat optimis risk analysi asset manag water industri access excel vba sql system engin system analyst mathemat model salari k k negoti locat dork surrey</td>\n",
       "    </tr>\n",
       "    <tr>\n",
       "      <th>4</th>\n",
       "      <td>Pioneer, Miser  Engineering Systems Analyst Dorking  Surrey Salary ****K Located in Surrey, our client provides specialist software development Pioneer, Miser  Engineering Systems Analyst Dorking  Surrey Salary ****K</td>\n",
       "      <td>pioneer miser engin system analyst dork surrey salari k locat surrey client provid specialist softwar develop pioneer miser engin system analyst dork surrey salari k</td>\n",
       "    </tr>\n",
       "  </tbody>\n",
       "</table>\n",
       "</div>"
      ],
      "text/plain": [
       "                                                                                                                                                                                                                                                                                                                                                                                                                                                                                                                                                                                                                                                                                                                                                                                                                                                                                                                                                                                                                                                                                                                                                                                                                                                                                                                                                                                                                                                                                                                                                                                                                                                                                                                                                                                                                               FullDescription  \\\n",
       "0                                                                                                                                                                                                                                                                                                                                                                                                                                                                                                                                                                                                                                                                                                                                                                                                                                                                                                                                                                                                                                                                                                                                                                                                                                                                                                                                                                                                                                                                                 Engineering Systems Analyst Dorking Surrey Salary ****K Our client is located in Dorking, Surrey and are looking for Engineering Systems Analyst our client provides specialist software development Keywords Mathematical Modelling, Risk Analysis, System Modelling, Optimisation, MISER, PIONEEER Engineering Systems Analyst Dorking Surrey Salary ****K   \n",
       "1                                                                                                                            Stress Engineer Glasgow Salary **** to **** We re currently looking for talented engineers to join our growing Glasgow team at a variety of levels. The roles are ideally suited to high calibre engineering graduates with any level of appropriate experience, so that we can give you the opportunity to use your technical skills to provide high quality input to our aerospace projects, spanning both aerostructures and aeroengines. In return, you can expect good career opportunities and the chance for advancement and personal and professional development, support while you gain Chartership and some opportunities to possibly travel or work in other offices, in or outside of the UK. The Requirements You will need to have a good engineering degree that includes structural analysis (such as aeronautical, mechanical, automotive, civil) with some experience in a professional engineering environment relevant to (but not limited to) the aerospace sector. You will need to demonstrate experience in at least one or more of the following areas: Structural/stress analysis Composite stress analysis (any industry) Linear and nonlinear finite element analysis Fatigue and damage tolerance Structural dynamics Thermal analysis Aerostructures experience You will also be expected to demonstrate the following qualities: A strong desire to progress quickly to a position of leadership Professional approach Strong communication skills, written and verbal Commercial awareness Team working, being comfortable working in international teams and self managing PLEASE NOTE SECURITY CLEARANCE IS REQUIRED FOR THIS ROLE Stress Engineer Glasgow Salary **** to ****   \n",
       "2  Mathematical Modeller / Simulation Analyst / Operational Analyst Basingstoke, Hampshire Up to ****K AAE pension contribution, private medical and dental The opportunity Our client is an independent consultancy firm which has an opportunity for a Data Analyst with 35 years experience. The role will require the successful candidate to demonstrate their ability to analyse a problem and arrive at a solution, with varying levels of data being available. Essential skills Thorough knowledge of Excel and proven ability to utilise this to create powerful decision support models Experience in Modelling and Simulation Techniques, Experience of techniques such as Discrete Event Simulation and/or SD modelling Mathematical/scientific background  minimum degree qualified Proven analytical and problem solving skills Self Starter Ability to develop solid working relationships In addition to formal qualifications and experience, the successful candidate will require excellent written and verbal communication skills, be energetic, enterprising and have a determination to succeed. They will be required to build solid working relationships, both internally with colleagues and, most importantly, externally with our clients. They must be comfortable working independently to deliver against challenging client demands. The offices are located in Basingstoke, Hampshire, but our client work for clients worldwide. The successful candidate must therefore be prepared to undertake work at client sites for short periods of time. Physics, Mathematics, Modelling, Simulation, Analytical, Operational Research, Mathematical Modelling Mathematical Modeller / Simulation Analyst / Operational Analyst Basingstoke, Hampshire ****K AAE pension contribution, private medical and dental   \n",
       "3                                                                                                                                                                                                                                                                                                                                                                                                                                                                                                                                                                                                                                                                                                                                                                                                                                                                                                                                                                                                                                                                                                                                                                                                                                                                                                                                                                                                                                Engineering Systems Analyst / Mathematical Modeller. Our client is a highly successful and respected Consultancy providing specialist software development MISER, PIONEER, Maths, Mathematical, Optimisation, Risk Analysis, Asset Management, Water Industry, Access, Excel, VBA, SQL, Systems . Engineering Systems Analyst / Mathematical Modeller. Salary  ****K****K negotiable Location Dorking, Surrey   \n",
       "4                                                                                                                                                                                                                                                                                                                                                                                                                                                                                                                                                                                                                                                                                                                                                                                                                                                                                                                                                                                                                                                                                                                                                                                                                                                                                                                                                                                                                                                                                                                                                                                                                     Pioneer, Miser  Engineering Systems Analyst Dorking  Surrey Salary ****K Located in Surrey, our client provides specialist software development Pioneer, Miser  Engineering Systems Analyst Dorking  Surrey Salary ****K   \n",
       "\n",
       "                                                                                                                                                                                                                                                                                                                                                                                                                                                                                                                                                                                                                                                                                                                                                                                                                                                                                                                                                                                                                                                                                                                                                   processed_FullDescription  \n",
       "0                                                                                                                                                                                                                                                                                                                                                                                                                                                                                                                                                                                                                                                                                                                                                                                                                                                                                                                    engin system analyst dork surrey salari k client locat dork surrey look engin system analyst client provid specialist softwar develop keyword mathemat model risk analysi system model optimis miser pioneeer engin system analyst dork surrey salari k  \n",
       "1                                                                                                                  stress engin glasgow salari current look talent engin join grow glasgow team varieti level role ideal suit high calibr engin graduat level appropri experi give opportun use technic skill provid high qualiti input aerospac project span aerostructur aeroengin return expect good career opportun chanc advanc person profession develop support gain chartership opportun possibl travel work offic outsid uk requir need good engin degre includ structur analysi aeronaut mechan automot civil experi profession engin environ relev limit aerospac sector need demonstr experi least one follow area structur stress analysi composit stress analysi industri linear nonlinear finit element analysi fatigu damag toler structur dynam thermal analysi aerostructur experi also expect demonstr follow qualiti strong desir progress quickli posit leadership profession approach strong commun skill written verbal commerci awar team work comfort work intern team self manag pleas note secur clearanc requir role stress engin glasgow salari  \n",
       "2  mathemat model simul analyst oper analyst basingstok hampshir k aae pension contribut privat medic dental opportun client independ consult firm opportun data analyst 35 year experi role requir success candid demonstr abil analys problem arriv solut vari level data avail essenti skill thorough knowledg excel proven abil utilis creat power decis support model experi model simul techniqu experi techniqu discret event simul sd model mathemat scientif background minimum degre qualifi proven analyt problem solv skill self starter abil develop solid work relationship addit formal qualif experi success candid requir excel written verbal commun skill energet enterpris determin succeed requir build solid work relationship intern colleagu importantli extern client must comfort work independ deliv challeng client demand offic locat basingstok hampshir client work client worldwid success candid must therefor prepar undertak work client site short period time physic mathemat model simul analyt oper research mathemat model mathemat model simul analyst oper analyst basingstok hampshir k aae pension contribut privat medic dental  \n",
       "3                                                                                                                                                                                                                                                                                                                                                                                                                                                                                                                                                                                                                                                                                                                                                                                                                                                                                engin system analyst mathemat model client highli success respect consult provid specialist softwar develop miser pioneer math mathemat optimis risk analysi asset manag water industri access excel vba sql system engin system analyst mathemat model salari k k negoti locat dork surrey  \n",
       "4                                                                                                                                                                                                                                                                                                                                                                                                                                                                                                                                                                                                                                                                                                                                                                                                                                                                                                                                                                                                      pioneer miser engin system analyst dork surrey salari k locat surrey client provid specialist softwar develop pioneer miser engin system analyst dork surrey salari k  "
      ]
     },
     "execution_count": 22,
     "metadata": {},
     "output_type": "execute_result"
    }
   ],
   "source": [
    "from nltk.stem.porter import PorterStemmer\n",
    "\n",
    "stemmer = PorterStemmer() # Instance.\n",
    "def stem_words(text):\n",
    "  return \" \".join([stemmer.stem(word) for word in text.split()])\n",
    "\n",
    "df_FullDescription[\"processed_FullDescription\"] = df_FullDescription[\"processed_FullDescription\"].apply(lambda text: stem_words(text))\n",
    "df_FullDescription.head()"
   ]
  },
  {
   "cell_type": "markdown",
   "id": "ad753c65",
   "metadata": {},
   "source": [
    "### Aplica a técnica de Lemmatization:"
   ]
  },
  {
   "cell_type": "code",
   "execution_count": 24,
   "id": "cb3e0c97",
   "metadata": {},
   "outputs": [
    {
     "name": "stderr",
     "output_type": "stream",
     "text": [
      "[nltk_data] Downloading package omw-1.4 to /home/drigols/nltk_data...\n",
      "[nltk_data]   Unzipping corpora/omw-1.4.zip.\n"
     ]
    },
    {
     "data": {
      "text/plain": [
       "True"
      ]
     },
     "execution_count": 24,
     "metadata": {},
     "output_type": "execute_result"
    }
   ],
   "source": [
    "import nltk\n",
    "nltk.download('omw-1.4')"
   ]
  },
  {
   "cell_type": "code",
   "execution_count": 25,
   "id": "e2945abe",
   "metadata": {},
   "outputs": [
    {
     "data": {
      "text/html": [
       "<div>\n",
       "<style scoped>\n",
       "    .dataframe tbody tr th:only-of-type {\n",
       "        vertical-align: middle;\n",
       "    }\n",
       "\n",
       "    .dataframe tbody tr th {\n",
       "        vertical-align: top;\n",
       "    }\n",
       "\n",
       "    .dataframe thead th {\n",
       "        text-align: right;\n",
       "    }\n",
       "</style>\n",
       "<table border=\"1\" class=\"dataframe\">\n",
       "  <thead>\n",
       "    <tr style=\"text-align: right;\">\n",
       "      <th></th>\n",
       "      <th>FullDescription</th>\n",
       "      <th>processed_FullDescription</th>\n",
       "    </tr>\n",
       "  </thead>\n",
       "  <tbody>\n",
       "    <tr>\n",
       "      <th>0</th>\n",
       "      <td>Engineering Systems Analyst Dorking Surrey Salary ****K Our client is located in Dorking, Surrey and are looking for Engineering Systems Analyst our client provides specialist software development Keywords Mathematical Modelling, Risk Analysis, System Modelling, Optimisation, MISER, PIONEEER Engineering Systems Analyst Dorking Surrey Salary ****K</td>\n",
       "      <td>engin system analyst dork surrey salari k client locat dork surrey look engin system analyst client provid specialist softwar develop keyword mathemat model risk analysi system model optimis miser pioneeer engin system analyst dork surrey salari k</td>\n",
       "    </tr>\n",
       "    <tr>\n",
       "      <th>1</th>\n",
       "      <td>Stress Engineer Glasgow Salary **** to **** We re currently looking for talented engineers to join our growing Glasgow team at a variety of levels. The roles are ideally suited to high calibre engineering graduates with any level of appropriate experience, so that we can give you the opportunity to use your technical skills to provide high quality input to our aerospace projects, spanning both aerostructures and aeroengines. In return, you can expect good career opportunities and the chance for advancement and personal and professional development, support while you gain Chartership and some opportunities to possibly travel or work in other offices, in or outside of the UK. The Requirements You will need to have a good engineering degree that includes structural analysis (such as aeronautical, mechanical, automotive, civil) with some experience in a professional engineering environment relevant to (but not limited to) the aerospace sector. You will need to demonstrate experience in at least one or more of the following areas: Structural/stress analysis Composite stress analysis (any industry) Linear and nonlinear finite element analysis Fatigue and damage tolerance Structural dynamics Thermal analysis Aerostructures experience You will also be expected to demonstrate the following qualities: A strong desire to progress quickly to a position of leadership Professional approach Strong communication skills, written and verbal Commercial awareness Team working, being comfortable working in international teams and self managing PLEASE NOTE SECURITY CLEARANCE IS REQUIRED FOR THIS ROLE Stress Engineer Glasgow Salary **** to ****</td>\n",
       "      <td>stress engin glasgow salari current look talent engin join grow glasgow team varieti level role ideal suit high calibr engin graduat level appropri experi give opportun use technic skill provid high qualiti input aerospac project span aerostructur aeroengin return expect good career opportun chanc advanc person profession develop support gain chartership opportun possibl travel work offic outsid uk requir need good engin degre includ structur analysi aeronaut mechan automot civil experi profession engin environ relev limit aerospac sector need demonstr experi least one follow area structur stress analysi composit stress analysi industri linear nonlinear finit element analysi fatigu damag toler structur dynam thermal analysi aerostructur experi also expect demonstr follow qualiti strong desir progress quickli posit leadership profession approach strong commun skill written verbal commerci awar team work comfort work intern team self manag plea note secur clearanc requir role stress engin glasgow salari</td>\n",
       "    </tr>\n",
       "    <tr>\n",
       "      <th>2</th>\n",
       "      <td>Mathematical Modeller / Simulation Analyst / Operational Analyst Basingstoke, Hampshire Up to ****K AAE pension contribution, private medical and dental The opportunity Our client is an independent consultancy firm which has an opportunity for a Data Analyst with 35 years experience. The role will require the successful candidate to demonstrate their ability to analyse a problem and arrive at a solution, with varying levels of data being available. Essential skills Thorough knowledge of Excel and proven ability to utilise this to create powerful decision support models Experience in Modelling and Simulation Techniques, Experience of techniques such as Discrete Event Simulation and/or SD modelling Mathematical/scientific background  minimum degree qualified Proven analytical and problem solving skills Self Starter Ability to develop solid working relationships In addition to formal qualifications and experience, the successful candidate will require excellent written and verbal communication skills, be energetic, enterprising and have a determination to succeed. They will be required to build solid working relationships, both internally with colleagues and, most importantly, externally with our clients. They must be comfortable working independently to deliver against challenging client demands. The offices are located in Basingstoke, Hampshire, but our client work for clients worldwide. The successful candidate must therefore be prepared to undertake work at client sites for short periods of time. Physics, Mathematics, Modelling, Simulation, Analytical, Operational Research, Mathematical Modelling Mathematical Modeller / Simulation Analyst / Operational Analyst Basingstoke, Hampshire ****K AAE pension contribution, private medical and dental</td>\n",
       "      <td>mathemat model simul analyst oper analyst basingstok hampshir k aae pension contribut privat medic dental opportun client independ consult firm opportun data analyst 35 year experi role requir success candid demonstr abil analys problem arriv solut vari level data avail essenti skill thorough knowledg excel proven abil utilis creat power decis support model experi model simul techniqu experi techniqu discret event simul sd model mathemat scientif background minimum degre qualifi proven analyt problem solv skill self starter abil develop solid work relationship addit formal qualif experi success candid requir excel written verbal commun skill energet enterpris determin succeed requir build solid work relationship intern colleagu importantli extern client must comfort work independ deliv challeng client demand offic locat basingstok hampshir client work client worldwid success candid must therefor prepar undertak work client site short period time physic mathemat model simul analyt oper research mathemat model mathemat model simul analyst oper analyst basingstok hampshir k aae pension contribut privat medic dental</td>\n",
       "    </tr>\n",
       "    <tr>\n",
       "      <th>3</th>\n",
       "      <td>Engineering Systems Analyst / Mathematical Modeller. Our client is a highly successful and respected Consultancy providing specialist software development MISER, PIONEER, Maths, Mathematical, Optimisation, Risk Analysis, Asset Management, Water Industry, Access, Excel, VBA, SQL, Systems . Engineering Systems Analyst / Mathematical Modeller. Salary  ****K****K negotiable Location Dorking, Surrey</td>\n",
       "      <td>engin system analyst mathemat model client highli success respect consult provid specialist softwar develop miser pioneer math mathemat optimis risk analysi asset manag water industri access excel vba sql system engin system analyst mathemat model salari k k negoti locat dork surrey</td>\n",
       "    </tr>\n",
       "    <tr>\n",
       "      <th>4</th>\n",
       "      <td>Pioneer, Miser  Engineering Systems Analyst Dorking  Surrey Salary ****K Located in Surrey, our client provides specialist software development Pioneer, Miser  Engineering Systems Analyst Dorking  Surrey Salary ****K</td>\n",
       "      <td>pioneer miser engin system analyst dork surrey salari k locat surrey client provid specialist softwar develop pioneer miser engin system analyst dork surrey salari k</td>\n",
       "    </tr>\n",
       "  </tbody>\n",
       "</table>\n",
       "</div>"
      ],
      "text/plain": [
       "                                                                                                                                                                                                                                                                                                                                                                                                                                                                                                                                                                                                                                                                                                                                                                                                                                                                                                                                                                                                                                                                                                                                                                                                                                                                                                                                                                                                                                                                                                                                                                                                                                                                                                                                                                                                                               FullDescription  \\\n",
       "0                                                                                                                                                                                                                                                                                                                                                                                                                                                                                                                                                                                                                                                                                                                                                                                                                                                                                                                                                                                                                                                                                                                                                                                                                                                                                                                                                                                                                                                                                 Engineering Systems Analyst Dorking Surrey Salary ****K Our client is located in Dorking, Surrey and are looking for Engineering Systems Analyst our client provides specialist software development Keywords Mathematical Modelling, Risk Analysis, System Modelling, Optimisation, MISER, PIONEEER Engineering Systems Analyst Dorking Surrey Salary ****K   \n",
       "1                                                                                                                            Stress Engineer Glasgow Salary **** to **** We re currently looking for talented engineers to join our growing Glasgow team at a variety of levels. The roles are ideally suited to high calibre engineering graduates with any level of appropriate experience, so that we can give you the opportunity to use your technical skills to provide high quality input to our aerospace projects, spanning both aerostructures and aeroengines. In return, you can expect good career opportunities and the chance for advancement and personal and professional development, support while you gain Chartership and some opportunities to possibly travel or work in other offices, in or outside of the UK. The Requirements You will need to have a good engineering degree that includes structural analysis (such as aeronautical, mechanical, automotive, civil) with some experience in a professional engineering environment relevant to (but not limited to) the aerospace sector. You will need to demonstrate experience in at least one or more of the following areas: Structural/stress analysis Composite stress analysis (any industry) Linear and nonlinear finite element analysis Fatigue and damage tolerance Structural dynamics Thermal analysis Aerostructures experience You will also be expected to demonstrate the following qualities: A strong desire to progress quickly to a position of leadership Professional approach Strong communication skills, written and verbal Commercial awareness Team working, being comfortable working in international teams and self managing PLEASE NOTE SECURITY CLEARANCE IS REQUIRED FOR THIS ROLE Stress Engineer Glasgow Salary **** to ****   \n",
       "2  Mathematical Modeller / Simulation Analyst / Operational Analyst Basingstoke, Hampshire Up to ****K AAE pension contribution, private medical and dental The opportunity Our client is an independent consultancy firm which has an opportunity for a Data Analyst with 35 years experience. The role will require the successful candidate to demonstrate their ability to analyse a problem and arrive at a solution, with varying levels of data being available. Essential skills Thorough knowledge of Excel and proven ability to utilise this to create powerful decision support models Experience in Modelling and Simulation Techniques, Experience of techniques such as Discrete Event Simulation and/or SD modelling Mathematical/scientific background  minimum degree qualified Proven analytical and problem solving skills Self Starter Ability to develop solid working relationships In addition to formal qualifications and experience, the successful candidate will require excellent written and verbal communication skills, be energetic, enterprising and have a determination to succeed. They will be required to build solid working relationships, both internally with colleagues and, most importantly, externally with our clients. They must be comfortable working independently to deliver against challenging client demands. The offices are located in Basingstoke, Hampshire, but our client work for clients worldwide. The successful candidate must therefore be prepared to undertake work at client sites for short periods of time. Physics, Mathematics, Modelling, Simulation, Analytical, Operational Research, Mathematical Modelling Mathematical Modeller / Simulation Analyst / Operational Analyst Basingstoke, Hampshire ****K AAE pension contribution, private medical and dental   \n",
       "3                                                                                                                                                                                                                                                                                                                                                                                                                                                                                                                                                                                                                                                                                                                                                                                                                                                                                                                                                                                                                                                                                                                                                                                                                                                                                                                                                                                                                                Engineering Systems Analyst / Mathematical Modeller. Our client is a highly successful and respected Consultancy providing specialist software development MISER, PIONEER, Maths, Mathematical, Optimisation, Risk Analysis, Asset Management, Water Industry, Access, Excel, VBA, SQL, Systems . Engineering Systems Analyst / Mathematical Modeller. Salary  ****K****K negotiable Location Dorking, Surrey   \n",
       "4                                                                                                                                                                                                                                                                                                                                                                                                                                                                                                                                                                                                                                                                                                                                                                                                                                                                                                                                                                                                                                                                                                                                                                                                                                                                                                                                                                                                                                                                                                                                                                                                                     Pioneer, Miser  Engineering Systems Analyst Dorking  Surrey Salary ****K Located in Surrey, our client provides specialist software development Pioneer, Miser  Engineering Systems Analyst Dorking  Surrey Salary ****K   \n",
       "\n",
       "                                                                                                                                                                                                                                                                                                                                                                                                                                                                                                                                                                                                                                                                                                                                                                                                                                                                                                                                                                                                                                                                                                                                                   processed_FullDescription  \n",
       "0                                                                                                                                                                                                                                                                                                                                                                                                                                                                                                                                                                                                                                                                                                                                                                                                                                                                                                                    engin system analyst dork surrey salari k client locat dork surrey look engin system analyst client provid specialist softwar develop keyword mathemat model risk analysi system model optimis miser pioneeer engin system analyst dork surrey salari k  \n",
       "1                                                                                                                   stress engin glasgow salari current look talent engin join grow glasgow team varieti level role ideal suit high calibr engin graduat level appropri experi give opportun use technic skill provid high qualiti input aerospac project span aerostructur aeroengin return expect good career opportun chanc advanc person profession develop support gain chartership opportun possibl travel work offic outsid uk requir need good engin degre includ structur analysi aeronaut mechan automot civil experi profession engin environ relev limit aerospac sector need demonstr experi least one follow area structur stress analysi composit stress analysi industri linear nonlinear finit element analysi fatigu damag toler structur dynam thermal analysi aerostructur experi also expect demonstr follow qualiti strong desir progress quickli posit leadership profession approach strong commun skill written verbal commerci awar team work comfort work intern team self manag plea note secur clearanc requir role stress engin glasgow salari  \n",
       "2  mathemat model simul analyst oper analyst basingstok hampshir k aae pension contribut privat medic dental opportun client independ consult firm opportun data analyst 35 year experi role requir success candid demonstr abil analys problem arriv solut vari level data avail essenti skill thorough knowledg excel proven abil utilis creat power decis support model experi model simul techniqu experi techniqu discret event simul sd model mathemat scientif background minimum degre qualifi proven analyt problem solv skill self starter abil develop solid work relationship addit formal qualif experi success candid requir excel written verbal commun skill energet enterpris determin succeed requir build solid work relationship intern colleagu importantli extern client must comfort work independ deliv challeng client demand offic locat basingstok hampshir client work client worldwid success candid must therefor prepar undertak work client site short period time physic mathemat model simul analyt oper research mathemat model mathemat model simul analyst oper analyst basingstok hampshir k aae pension contribut privat medic dental  \n",
       "3                                                                                                                                                                                                                                                                                                                                                                                                                                                                                                                                                                                                                                                                                                                                                                                                                                                                                engin system analyst mathemat model client highli success respect consult provid specialist softwar develop miser pioneer math mathemat optimis risk analysi asset manag water industri access excel vba sql system engin system analyst mathemat model salari k k negoti locat dork surrey  \n",
       "4                                                                                                                                                                                                                                                                                                                                                                                                                                                                                                                                                                                                                                                                                                                                                                                                                                                                                                                                                                                                      pioneer miser engin system analyst dork surrey salari k locat surrey client provid specialist softwar develop pioneer miser engin system analyst dork surrey salari k  "
      ]
     },
     "execution_count": 25,
     "metadata": {},
     "output_type": "execute_result"
    }
   ],
   "source": [
    "from nltk.stem import WordNetLemmatizer\n",
    "\n",
    "lemmatizer = WordNetLemmatizer() # Instance.\n",
    "def lemmatize_words(text):\n",
    "  return \" \".join([lemmatizer.lemmatize(word) for word in text.split()])\n",
    "\n",
    "df_FullDescription[\"processed_FullDescription\"] = df_FullDescription[\"processed_FullDescription\"].apply(lambda text: lemmatize_words(text))\n",
    "df_FullDescription.head()"
   ]
  },
  {
   "cell_type": "markdown",
   "id": "b6828bcc",
   "metadata": {},
   "source": [
    "### Aplica a técnica de Count Vectorizer:"
   ]
  },
  {
   "cell_type": "code",
   "execution_count": 26,
   "id": "c1f9f23c",
   "metadata": {},
   "outputs": [],
   "source": [
    "from sklearn.feature_extraction.text import CountVectorizer\n",
    "\n",
    "vectorizer = CountVectorizer() # Instance.\n",
    "df_FullDescription_vectorized = vectorizer.fit_transform(df_FullDescription[\"processed_FullDescription\"])"
   ]
  },
  {
   "cell_type": "markdown",
   "id": "b3ce60c8",
   "metadata": {},
   "source": [
    "### Salvando à Matriz esparsa:"
   ]
  },
  {
   "cell_type": "code",
   "execution_count": 27,
   "id": "5f3ef884",
   "metadata": {},
   "outputs": [],
   "source": [
    "import scipy.sparse\n",
    "\n",
    "scipy.sparse.save_npz('df_fulldescription_vectorized.npz', df_FullDescription_vectorized)"
   ]
  },
  {
   "cell_type": "markdown",
   "id": "79fcc970",
   "metadata": {},
   "source": [
    "# 04 - Load\n",
    "> A etapa de **load** vai ser responsável por salvar os dados já ***Pré-Processados*** por uma ou mais colunas (features).\n",
    "\n",
    "**NOTE:**  \n",
    "Essa etapa segue uma lógica incremental, onde, em cada iteração **(Load-v1, Load-v2,..., Load-vn)** nós vamos salvando os dados já manipulados com objetivo de encontrar uma melhor métrica ou modelagem dos dados."
   ]
  },
  {
   "cell_type": "markdown",
   "id": "fc429be6",
   "metadata": {},
   "source": [
    "---"
   ]
  },
  {
   "cell_type": "markdown",
   "id": "cd31c187",
   "metadata": {},
   "source": [
    "## 04.1 - Load-v1\n",
    "Para esse 1° **Load** vamos começar com as colunas (features) mais simples possíveis, que são:\n",
    " - **Title** como variável **independente**.\n",
    " - **\"SalaryNormalized\"** como variável **dependente**.\n",
    "\n",
    "**NOTE:**  \n",
    "Eu escolhi essas colunas (features), pois, já receberam algum **Pré-Processamento básico** (o que não significa que mudanças possam ser feitas)."
   ]
  },
  {
   "cell_type": "markdown",
   "id": "4e9d09c8",
   "metadata": {},
   "source": [
    "### Salvando a Matriz esparsa \"df_title_vectorized\" (resultado do Pré-Processamento da feature Title):\n",
    "Primeiro, vamos salvar o resultado do **Pré-Processamento** na coluna (feature) **Title**."
   ]
  },
  {
   "cell_type": "code",
   "execution_count": 27,
   "id": "b83f16eb",
   "metadata": {},
   "outputs": [],
   "source": [
    "import scipy.sparse\n",
    "scipy.sparse.save_npz('df_title_vectorized.npz', df_title_vectorized)"
   ]
  },
  {
   "cell_type": "markdown",
   "id": "21e8ed3a",
   "metadata": {},
   "source": [
    "### SalaryNormalized:\n",
    "Para coluna (feature) **\"SalaryNormalized\"** nós vamos pegar ela na hora do treinamento do modelo visto que alterações não foram feitas."
   ]
  },
  {
   "cell_type": "markdown",
   "id": "0f3de0c3",
   "metadata": {},
   "source": [
    "---"
   ]
  },
  {
   "cell_type": "markdown",
   "id": "e503b7c7",
   "metadata": {},
   "source": [
    "## 04.2 - Load-v2\n",
    "\n",
    "Para o 2° **Load** nós vamos passar para a etapa de **Treinamento & Validação** a coluna (feature) **FullDescription**, que foi recentemente *Pré-Processada*."
   ]
  },
  {
   "cell_type": "markdown",
   "id": "7a56abbf",
   "metadata": {},
   "source": [
    "### Salvando à Matriz esparsa \"df_FullDescription_vectorized\" (resultado do Pré-Processamento da feature FullDescription)"
   ]
  },
  {
   "cell_type": "code",
   "execution_count": 27,
   "id": "15c68292",
   "metadata": {},
   "outputs": [],
   "source": [
    "import scipy.sparse\n",
    "\n",
    "scipy.sparse.save_npz('df_fulldescription_vectorized.npz', df_FullDescription_vectorized)"
   ]
  },
  {
   "cell_type": "markdown",
   "id": "211df7e7",
   "metadata": {},
   "source": [
    "# Resumos\n",
    "\n",
    " - **Load-v1:**\n",
    "   - No ***Load-v1*** foi **Pré-Processada** a coluna (features) **Title**.\n",
    "   - Também foi utilizada a coluna (feature) **SalaryNormalized** que já havia sido normalizada pelo a **Adzuna**.\n",
    "   - O objetivo era ter **features** o mais rápido possível disponíveis para a etapa de **Modelagem & Validação**.\n",
    " - Load-v2:\n",
    "   - No **Load-v2** foi **Pré-Processada** a coluna (feature) **FullDescription**."
   ]
  }
 ],
 "metadata": {
  "kernelspec": {
   "display_name": "Python 3 (ipykernel)",
   "language": "python",
   "name": "python3"
  },
  "language_info": {
   "codemirror_mode": {
    "name": "ipython",
    "version": 3
   },
   "file_extension": ".py",
   "mimetype": "text/x-python",
   "name": "python",
   "nbconvert_exporter": "python",
   "pygments_lexer": "ipython3",
   "version": "3.9.7"
  }
 },
 "nbformat": 4,
 "nbformat_minor": 5
}
