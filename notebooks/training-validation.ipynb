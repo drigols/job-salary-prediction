{
 "cells": [
  {
   "cell_type": "markdown",
   "id": "d8526c5c",
   "metadata": {},
   "source": [
    "# Treinamento & Validação\n",
    "Esse **Jupyter Notebook** tem como objetivo treinar modelos de *Machine Learning* com uma ou mais *features* e verificar quão bem esses modelos estão aprendendo com base na métrica de validação - [Erro Médio Absoluto](https://en.wikipedia.org/wiki/Mean_absolute_error)."
   ]
  },
  {
   "cell_type": "markdown",
   "id": "37f68e36",
   "metadata": {},
   "source": [
    "---"
   ]
  },
  {
   "cell_type": "markdown",
   "id": "0c734791",
   "metadata": {},
   "source": [
    "# Classes \"Training\"\n",
    "Como um dos requisitos da **GRIA** para o desafio era que os códigos fossem reaproveitados e documentados. Para satisfazer esses requisitos vamos criar a classe **Training** que vai ser Responsável pelo processo de treinar nossos dados em vários modelos diferentes e metrifica-los."
   ]
  },
  {
   "cell_type": "code",
   "execution_count": 1,
   "id": "d81a2cbc",
   "metadata": {},
   "outputs": [],
   "source": [
    "from sklearn.ensemble import RandomForestRegressor\n",
    "from sklearn.linear_model import LinearRegression\n",
    "from sklearn.linear_model import ElasticNet\n",
    "from sklearn.linear_model import Lasso\n",
    "from sklearn.linear_model import Ridge\n",
    "\n",
    "from sklearn.model_selection import train_test_split\n",
    "from sklearn.metrics import mean_absolute_error\n",
    "\n",
    "import numpy as np\n",
    "\n",
    "\n",
    "class Training:\n",
    "  \n",
    "  def split_data(self, x, y):\n",
    "    x_train, x_valid, y_train, y_valid = train_test_split(x, y, test_size=0.3, random_state=42)\n",
    "    return x_train, x_valid, y_train, y_valid\n",
    "\n",
    "\n",
    "  def training_linear_regression(self, x_train, x_valid, y_train, y_valid):\n",
    "    model = LinearRegression() # Instance.\n",
    "    model.fit(x_train, y_train) # Training.\n",
    "    salaries_predicted = model.predict(x_valid) # Predict salaries for x_valid.\n",
    "    mae_metric = mean_absolute_error(y_valid, salaries_predicted)\n",
    "    print('MAE for Linear Regression Model:', mae_metric)\n",
    "\n",
    "\n",
    "  def training_ridge_regression(self, x_train, x_valid, y_train, y_valid):\n",
    "    model = Ridge() # Instance.\n",
    "    model.fit(x_train, y_train) # Training.\n",
    "    salaries_predicted = model.predict(x_valid)\n",
    "    mae_metric = mean_absolute_error(y_valid, salaries_predicted)\n",
    "    print('MAE for Ridge Model:', mae_metric)\n",
    "\n",
    "\n",
    "  def training_lasso_regression(self, x_train, x_valid, y_train, y_valid):\n",
    "    model = Lasso() # Instance.\n",
    "    model.fit(x_train, y_train) # Training.\n",
    "    salaries_predicted = model.predict(x_valid)\n",
    "    mae_metric = mean_absolute_error(y_valid, salaries_predicted)\n",
    "    print('MAE for Lasso Model:', mae_metric)\n",
    "    \n",
    "    \n",
    "  def training_elasticnet_regression(self, x_train, x_valid, y_train, y_valid):\n",
    "    model = ElasticNet() # Instance.\n",
    "    model.fit(x_train, y_train) # Training.\n",
    "    salaries_predicted = model.predict(x_valid)\n",
    "    mae_metric = mean_absolute_error(y_valid, salaries_predicted)\n",
    "    print('MAE for Elastic Net Model:', mae_metric)\n",
    "\n",
    "  def training_elasticnet_regression(self, x_train, x_valid, y_train, y_valid):\n",
    "    model = RandomForestRegressor(n_jobs=-1) # Instance.\n",
    "    model.fit(x_train, np.ravel(y_train)) # Training.\n",
    "    salaries_predicted = model.predict(x_valid)\n",
    "    mae_metric = mean_absolute_error(y_valid, salaries_predicted.ravel())\n",
    "    print('MAE for RandomForestRegressor Model:', mae_metric)"
   ]
  },
  {
   "cell_type": "markdown",
   "id": "66fd58f8",
   "metadata": {},
   "source": [
    "Agora vamos criar uma instância da classe **Training**:"
   ]
  },
  {
   "cell_type": "code",
   "execution_count": 2,
   "id": "fa9dd9fa",
   "metadata": {},
   "outputs": [],
   "source": [
    "# Training instance.\n",
    "training = Training()"
   ]
  },
  {
   "cell_type": "markdown",
   "id": "53632319",
   "metadata": {},
   "source": [
    "---"
   ]
  },
  {
   "cell_type": "markdown",
   "id": "000438db",
   "metadata": {},
   "source": [
    "# 01 - Preparando os dados & Ambiente\n",
    "Nessa etapa vamos preparar os dados e o ambiente (jupyter notebook) para **treinar** e **validar** nossos modelos."
   ]
  },
  {
   "cell_type": "markdown",
   "id": "cac06b87",
   "metadata": {},
   "source": [
    "---"
   ]
  },
  {
   "cell_type": "markdown",
   "id": "19db21db",
   "metadata": {},
   "source": [
    "## 01.1 - Baixando as Bibliotecas necessárias\n",
    "Inicialmente vamos baixar as bibliotecas necessárias para nossa análise (Eu já tenho todas baixadas no meu ambiente virtual mas você pode remover o comentário e baixar para sua máquina local ou Ambiente Virtual)."
   ]
  },
  {
   "cell_type": "code",
   "execution_count": 3,
   "id": "a7a0e7d1",
   "metadata": {},
   "outputs": [],
   "source": [
    "#!pip install --upgrade -r ../requirements.txt --user"
   ]
  },
  {
   "cell_type": "markdown",
   "id": "15fb04e6",
   "metadata": {},
   "source": [
    "---"
   ]
  },
  {
   "cell_type": "markdown",
   "id": "8cfa7002",
   "metadata": {},
   "source": [
    "## 01.2 - Importando o módulo \"Preprocessing\"\n",
    "Nós também vamos utilizar o módulo **\"Preprocessing\"** que foi criado na etapa de *Pré-Processamento*. Lembrem, que nós também temos que *Pré-Processar* os dados de *teste* como foi feito nos dados de treino e vamos utilizar os métodos de extrair e pegar os conjuntos de dados "
   ]
  },
  {
   "cell_type": "code",
   "execution_count": 4,
   "id": "af02dfaa",
   "metadata": {},
   "outputs": [],
   "source": [
    "%run \"../src/preprocessing.py\""
   ]
  },
  {
   "cell_type": "code",
   "execution_count": 5,
   "id": "582698bb",
   "metadata": {},
   "outputs": [],
   "source": [
    "preprocessing = Preprocessing()"
   ]
  },
  {
   "cell_type": "markdown",
   "id": "cacfa52c",
   "metadata": {},
   "source": [
    "---"
   ]
  },
  {
   "cell_type": "markdown",
   "id": "7512ae1f",
   "metadata": {},
   "source": [
    "## 01.3 - Extraindo os conjuntos de dados de treino e teste\n",
    "Os conjuntos de dados de **treino** e **teste** vão ser utilizados quase que sempre para treinar e validar nossos modelos. Então, vamos deixar ambos já extraídos para trabalhos futuros."
   ]
  },
  {
   "cell_type": "code",
   "execution_count": 6,
   "id": "9a3c9e1c",
   "metadata": {},
   "outputs": [
    {
     "name": "stdout",
     "output_type": "stream",
     "text": [
      "File extracted!\n"
     ]
    }
   ],
   "source": [
    "# Extract training set.\n",
    "preprocessing.extract_7z_data(\"../datasets/Train_rev1.7z\")"
   ]
  },
  {
   "cell_type": "code",
   "execution_count": 7,
   "id": "7fa05b6d",
   "metadata": {},
   "outputs": [
    {
     "name": "stdout",
     "output_type": "stream",
     "text": [
      "File extracted!\n"
     ]
    }
   ],
   "source": [
    "# Extract testing set.\n",
    "preprocessing.extract_7z_data(\"../datasets/Test_rev1.7z\")"
   ]
  },
  {
   "cell_type": "markdown",
   "id": "38a29da0",
   "metadata": {},
   "source": [
    "---"
   ]
  },
  {
   "cell_type": "markdown",
   "id": "67b737dc",
   "metadata": {},
   "source": [
    "## 01.4 - Pegando o conjunto de dados de teste\n",
    "\n",
    "Agora vamos pegar o conjunto de dados de teste disponibilizado pelo **Adzuna**.\n",
    "\n",
    "**NOTE:**  \n",
    "Vale lembrar que nesse conjunto de dados não tem as colunas (feature) **\"SalaryRaw\"** e **\"SalaryNormalized\"**."
   ]
  },
  {
   "cell_type": "code",
   "execution_count": 8,
   "id": "f38a5e9d",
   "metadata": {},
   "outputs": [
    {
     "name": "stdout",
     "output_type": "stream",
     "text": [
      "Testing data ready!\n"
     ]
    }
   ],
   "source": [
    "df_testing = preprocessing.get_testing_data()"
   ]
  },
  {
   "cell_type": "code",
   "execution_count": 9,
   "id": "9ff00158",
   "metadata": {},
   "outputs": [
    {
     "name": "stdout",
     "output_type": "stream",
     "text": [
      "<class 'pandas.core.frame.DataFrame'>\n",
      "RangeIndex: 122463 entries, 0 to 122462\n",
      "Data columns (total 10 columns):\n",
      " #   Column              Non-Null Count   Dtype \n",
      "---  ------              --------------   ----- \n",
      " 0   Id                  122463 non-null  int64 \n",
      " 1   Title               122463 non-null  object\n",
      " 2   FullDescription     122463 non-null  object\n",
      " 3   LocationRaw         122463 non-null  object\n",
      " 4   LocationNormalized  122463 non-null  object\n",
      " 5   ContractType        33013 non-null   object\n",
      " 6   ContractTime        90702 non-null   object\n",
      " 7   Company             106202 non-null  object\n",
      " 8   Category            122463 non-null  object\n",
      " 9   SourceName          122463 non-null  object\n",
      "dtypes: int64(1), object(9)\n",
      "memory usage: 9.3+ MB\n"
     ]
    },
    {
     "data": {
      "text/html": [
       "<div>\n",
       "<style scoped>\n",
       "    .dataframe tbody tr th:only-of-type {\n",
       "        vertical-align: middle;\n",
       "    }\n",
       "\n",
       "    .dataframe tbody tr th {\n",
       "        vertical-align: top;\n",
       "    }\n",
       "\n",
       "    .dataframe thead th {\n",
       "        text-align: right;\n",
       "    }\n",
       "</style>\n",
       "<table border=\"1\" class=\"dataframe\">\n",
       "  <thead>\n",
       "    <tr style=\"text-align: right;\">\n",
       "      <th></th>\n",
       "      <th>Id</th>\n",
       "      <th>Title</th>\n",
       "      <th>FullDescription</th>\n",
       "      <th>LocationRaw</th>\n",
       "      <th>LocationNormalized</th>\n",
       "      <th>ContractType</th>\n",
       "      <th>ContractTime</th>\n",
       "      <th>Company</th>\n",
       "      <th>Category</th>\n",
       "      <th>SourceName</th>\n",
       "    </tr>\n",
       "  </thead>\n",
       "  <tbody>\n",
       "    <tr>\n",
       "      <th>0</th>\n",
       "      <td>11888454</td>\n",
       "      <td>Business Development Manager</td>\n",
       "      <td>The Company: Our client is a national training...</td>\n",
       "      <td>Tyne Wear, North East</td>\n",
       "      <td>Newcastle Upon Tyne</td>\n",
       "      <td>NaN</td>\n",
       "      <td>permanent</td>\n",
       "      <td>Asset Appointments</td>\n",
       "      <td>Teaching Jobs</td>\n",
       "      <td>cv-library.co.uk</td>\n",
       "    </tr>\n",
       "    <tr>\n",
       "      <th>1</th>\n",
       "      <td>11988350</td>\n",
       "      <td>Internal Account Manager</td>\n",
       "      <td>The Company: Founded in **** our client is a U...</td>\n",
       "      <td>Tyne and Wear, North East</td>\n",
       "      <td>Newcastle Upon Tyne</td>\n",
       "      <td>NaN</td>\n",
       "      <td>permanent</td>\n",
       "      <td>Asset Appointments</td>\n",
       "      <td>Consultancy Jobs</td>\n",
       "      <td>cv-library.co.uk</td>\n",
       "    </tr>\n",
       "    <tr>\n",
       "      <th>2</th>\n",
       "      <td>12612558</td>\n",
       "      <td>Engineering Systems Analysts</td>\n",
       "      <td>Engineering Systems Analysts Surrey ****K Loca...</td>\n",
       "      <td>Surrey, South East, South East</td>\n",
       "      <td>Surrey</td>\n",
       "      <td>NaN</td>\n",
       "      <td>permanent</td>\n",
       "      <td>Gregory Martin International</td>\n",
       "      <td>Engineering Jobs</td>\n",
       "      <td>cv-library.co.uk</td>\n",
       "    </tr>\n",
       "    <tr>\n",
       "      <th>3</th>\n",
       "      <td>12613014</td>\n",
       "      <td>CIS Systems Engineering Consultant</td>\n",
       "      <td>CIS Systems Engineering Consultant Bristol  So...</td>\n",
       "      <td>Bristol, South West, South West</td>\n",
       "      <td>Bristol</td>\n",
       "      <td>NaN</td>\n",
       "      <td>permanent</td>\n",
       "      <td>Gregory Martin International</td>\n",
       "      <td>Engineering Jobs</td>\n",
       "      <td>cv-library.co.uk</td>\n",
       "    </tr>\n",
       "    <tr>\n",
       "      <th>4</th>\n",
       "      <td>22454872</td>\n",
       "      <td>CNC Miller / Programmer Fanac</td>\n",
       "      <td>CNC Miller / Programmer Fanac Fleet, Hampshire...</td>\n",
       "      <td>Fleet, Hampshire</td>\n",
       "      <td>Fleet</td>\n",
       "      <td>NaN</td>\n",
       "      <td>permanent</td>\n",
       "      <td>Gregory Martin International</td>\n",
       "      <td>Manufacturing Jobs</td>\n",
       "      <td>cv-library.co.uk</td>\n",
       "    </tr>\n",
       "  </tbody>\n",
       "</table>\n",
       "</div>"
      ],
      "text/plain": [
       "         Id                               Title  \\\n",
       "0  11888454        Business Development Manager   \n",
       "1  11988350            Internal Account Manager   \n",
       "2  12612558        Engineering Systems Analysts   \n",
       "3  12613014  CIS Systems Engineering Consultant   \n",
       "4  22454872       CNC Miller / Programmer Fanac   \n",
       "\n",
       "                                     FullDescription  \\\n",
       "0  The Company: Our client is a national training...   \n",
       "1  The Company: Founded in **** our client is a U...   \n",
       "2  Engineering Systems Analysts Surrey ****K Loca...   \n",
       "3  CIS Systems Engineering Consultant Bristol  So...   \n",
       "4  CNC Miller / Programmer Fanac Fleet, Hampshire...   \n",
       "\n",
       "                       LocationRaw   LocationNormalized ContractType  \\\n",
       "0            Tyne Wear, North East  Newcastle Upon Tyne          NaN   \n",
       "1        Tyne and Wear, North East  Newcastle Upon Tyne          NaN   \n",
       "2   Surrey, South East, South East               Surrey          NaN   \n",
       "3  Bristol, South West, South West              Bristol          NaN   \n",
       "4                 Fleet, Hampshire                Fleet          NaN   \n",
       "\n",
       "  ContractTime                       Company            Category  \\\n",
       "0    permanent            Asset Appointments       Teaching Jobs   \n",
       "1    permanent            Asset Appointments    Consultancy Jobs   \n",
       "2    permanent  Gregory Martin International    Engineering Jobs   \n",
       "3    permanent  Gregory Martin International    Engineering Jobs   \n",
       "4    permanent  Gregory Martin International  Manufacturing Jobs   \n",
       "\n",
       "         SourceName  \n",
       "0  cv-library.co.uk  \n",
       "1  cv-library.co.uk  \n",
       "2  cv-library.co.uk  \n",
       "3  cv-library.co.uk  \n",
       "4  cv-library.co.uk  "
      ]
     },
     "execution_count": 9,
     "metadata": {},
     "output_type": "execute_result"
    }
   ],
   "source": [
    "df_testing.info()\n",
    "df_testing.head()"
   ]
  },
  {
   "cell_type": "markdown",
   "id": "54c11d6b",
   "metadata": {},
   "source": [
    "---"
   ]
  },
  {
   "cell_type": "markdown",
   "id": "e17a5585",
   "metadata": {},
   "source": [
    "# 03 - Treinando & Validando os Loads\n",
    "> Na parte de **Treinamento & Validação** nós vamos utilizar as colunas (features) já Pré-Processadas em cada **Load** para treinar vários modelos de Regressão e tentar encontrar o que nós dar o melhor resultado de acordo com os dados passados."
   ]
  },
  {
   "cell_type": "markdown",
   "id": "9773127b",
   "metadata": {},
   "source": [
    "---"
   ]
  },
  {
   "cell_type": "markdown",
   "id": "e9667bf9",
   "metadata": {},
   "source": [
    "## 03.1 - Treinando & Validando o Load-v1\n",
    "Bem, como nós sabemos no **load-v1** foi passado para a etapa de **treinamento & validação** a coluna (feature) **\"Title\"**. Ou seja, nós vamos ter as seguintes variáveis (features) para os nossos modelos:\n",
    "\n",
    " - **Variáveis Independente:**\n",
    "   - Title *(com CountVectorizer):*\n",
    "     - stop_words=\"english\"\n",
    "     - max_df=0.60 (Ignores terms that appear in MORE than 60% of documents)\n",
    "     - min_df=0.05 (Ignores terms that appear in LESS than 5% of documents)\n",
    " - **Variáveis Dependente:**\n",
    "   - SalaryNormalized (normalizada pelo a Adzuna)\n",
    "\n",
    "**NOTE:**  \n",
    "Esse vai ser o nosso **baseline model**."
   ]
  },
  {
   "cell_type": "markdown",
   "id": "d7c3e39d",
   "metadata": {},
   "source": [
    "**Pegando a variável dependente (target=y):**"
   ]
  },
  {
   "cell_type": "code",
   "execution_count": 10,
   "id": "70a6d47c",
   "metadata": {},
   "outputs": [
    {
     "name": "stdout",
     "output_type": "stream",
     "text": [
      "Training data ready!\n"
     ]
    }
   ],
   "source": [
    "df_training = preprocessing.get_training_data()"
   ]
  },
  {
   "cell_type": "code",
   "execution_count": 11,
   "id": "8ab5690e",
   "metadata": {},
   "outputs": [],
   "source": [
    "y = df_training[\"SalaryNormalized\"]"
   ]
  },
  {
   "cell_type": "markdown",
   "id": "3f599790",
   "metadata": {},
   "source": [
    "**Pegando a variável Independente (X):**"
   ]
  },
  {
   "cell_type": "code",
   "execution_count": 12,
   "id": "bbf74fa6",
   "metadata": {},
   "outputs": [],
   "source": [
    "import scipy.sparse\n",
    "df_title_vectorized = scipy.sparse.load_npz('../resources/processed_features/df_title_vectorized.npz')"
   ]
  },
  {
   "cell_type": "code",
   "execution_count": 13,
   "id": "bd26a299",
   "metadata": {},
   "outputs": [],
   "source": [
    "x = df_title_vectorized"
   ]
  },
  {
   "cell_type": "markdown",
   "id": "d26a2364",
   "metadata": {},
   "source": [
    "**Dividindo os dados em *dados de treino* e *dados de validação*:**"
   ]
  },
  {
   "cell_type": "code",
   "execution_count": 14,
   "id": "2e7adc56",
   "metadata": {},
   "outputs": [],
   "source": [
    "x_train, x_valid, y_train, y_valid = training.split_data(x, y)"
   ]
  },
  {
   "cell_type": "markdown",
   "id": "927162ff",
   "metadata": {},
   "source": [
    "### Treinando modelos de Regressão:\n",
    "Agora vamos treinar nossos modelos de regressão e pegar o resultado da **Métrica de Validação MAE** para cada Algoritmo (modelo)."
   ]
  },
  {
   "cell_type": "markdown",
   "id": "e37e3e16",
   "metadata": {},
   "source": [
    "#### Regressão Linear:"
   ]
  },
  {
   "cell_type": "code",
   "execution_count": 15,
   "id": "53f49342",
   "metadata": {},
   "outputs": [
    {
     "name": "stdout",
     "output_type": "stream",
     "text": [
      "MAE for Linear Regression Model: 12174.533594760238\n"
     ]
    }
   ],
   "source": [
    "training.training_linear_regression(x_train, x_valid, y_train, y_valid)"
   ]
  },
  {
   "cell_type": "markdown",
   "id": "09a8e75c",
   "metadata": {},
   "source": [
    "#### Ridge Regression (L2):"
   ]
  },
  {
   "cell_type": "code",
   "execution_count": 18,
   "id": "6cc8193e",
   "metadata": {},
   "outputs": [
    {
     "name": "stdout",
     "output_type": "stream",
     "text": [
      "MAE for Ridge Model: 12174.538439350576\n"
     ]
    }
   ],
   "source": [
    "training.training_ridge_regression(x_train, x_valid, y_train, y_valid)"
   ]
  },
  {
   "cell_type": "markdown",
   "id": "049682c7",
   "metadata": {},
   "source": [
    "#### Lasso Regression (L1):"
   ]
  },
  {
   "cell_type": "code",
   "execution_count": 22,
   "id": "36f4c9ae",
   "metadata": {},
   "outputs": [
    {
     "name": "stdout",
     "output_type": "stream",
     "text": [
      "MAE for Lasso Model: 12174.714368247884\n"
     ]
    }
   ],
   "source": [
    "training.training_lasso_regression(x_train, x_valid, y_train, y_valid)"
   ]
  },
  {
   "cell_type": "markdown",
   "id": "ab6aae5b",
   "metadata": {},
   "source": [
    "#### Elastic Net:"
   ]
  },
  {
   "cell_type": "code",
   "execution_count": 28,
   "id": "a36fb2a6",
   "metadata": {},
   "outputs": [
    {
     "name": "stdout",
     "output_type": "stream",
     "text": [
      "MAE for Elastic Net Model: 13057.741326652269\n"
     ]
    }
   ],
   "source": [
    "training.training_elasticnet_regression(x_train, x_valid, y_train, y_valid)"
   ]
  },
  {
   "cell_type": "markdown",
   "id": "4bf76c7d",
   "metadata": {},
   "source": [
    "#### Random Forest Regressor:"
   ]
  },
  {
   "cell_type": "code",
   "execution_count": 32,
   "id": "31b4acf7",
   "metadata": {},
   "outputs": [
    {
     "name": "stdout",
     "output_type": "stream",
     "text": [
      "MAE for RandomForestRegressor Model: 12037.451130584002\n"
     ]
    }
   ],
   "source": [
    "training.training_elasticnet_regression(x_train, x_valid, y_train, y_valid)"
   ]
  },
  {
   "cell_type": "markdown",
   "id": "7a88907a",
   "metadata": {},
   "source": [
    "---"
   ]
  },
  {
   "cell_type": "markdown",
   "id": "b46d2680",
   "metadata": {},
   "source": [
    "# Resumos"
   ]
  },
  {
   "cell_type": "markdown",
   "id": "e8cf339d",
   "metadata": {},
   "source": [
    " - **No *Load-v1* nós tinhamos as seguintes situações:**\n",
    "   - Variáveis (features):\n",
    "     - Independentes:\n",
    "       - Title *(com CountVectorizer):*\n",
    "         - stop_words=\"english\"\n",
    "         - max_df=0.60 (Ignores terms that appear in MORE than 60% of documents)\n",
    "         - min_df=0.05 (Ignores terms that appear in LESS than 5% of documents)\n",
    "     - Dependente:\n",
    "       - SalaryNormalized (normalizada pelo a Adzuna)\n",
    "   - *Como Métrica de Avaliação (MAE) tivemos os seguintes resultados (ordenados do menor para o maior):*\n",
    "     -  MAE for RandomForestRegressor Model: 12037.451130584002\n",
    "     -  MAE for Linear Regression Model: 12174.533594760238\n",
    "     -  MAE for Ridge Model: 12174.538439350576\n",
    "     -  MAE for Lasso Model: 12174.714368247884\n",
    "     -  MAE for Elastic Net Model: 13057.741326652269"
   ]
  },
  {
   "cell_type": "markdown",
   "id": "0cf3d4c3",
   "metadata": {},
   "source": [
    "**Rodrigo Leite -** *drigols*"
   ]
  }
 ],
 "metadata": {
  "kernelspec": {
   "display_name": "Python 3",
   "language": "python",
   "name": "python3"
  },
  "language_info": {
   "codemirror_mode": {
    "name": "ipython",
    "version": 3
   },
   "file_extension": ".py",
   "mimetype": "text/x-python",
   "name": "python",
   "nbconvert_exporter": "python",
   "pygments_lexer": "ipython3",
   "version": "3.8.8"
  }
 },
 "nbformat": 4,
 "nbformat_minor": 5
}
