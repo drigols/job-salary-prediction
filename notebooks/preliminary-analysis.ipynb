{
 "cells": [
  {
   "cell_type": "markdown",
   "id": "bdb59df6",
   "metadata": {},
   "source": [
    "# Análise preliminar do conjunto de dados\n",
    "Esse **Jupyter Notebook** tem como objetivo fazer uma análise preliminar do conjunto de dados. Nenhum Pré-Processamento, modelagem ou predição será feita agora. Apenas observações para trabalhos futuros."
   ]
  },
  {
   "cell_type": "markdown",
   "id": "969820fb",
   "metadata": {},
   "source": [
    "# 01 -  Baixando & Importando as bibliotecas necessárias"
   ]
  },
  {
   "cell_type": "markdown",
   "id": "490e1f70",
   "metadata": {},
   "source": [
    "Inicialmente vamos baixar as bibliotecas necessárias para nossa análise (Eu já tenho todas baixadas no meu ambiente virtual, mas você pode remover o comentário e baixar para sua máquina local ou Ambiente Virtual)."
   ]
  },
  {
   "cell_type": "code",
   "execution_count": 1,
   "id": "ea6682f7",
   "metadata": {},
   "outputs": [],
   "source": [
    "#!pip install --upgrade -r ../requirements.txt --user"
   ]
  },
  {
   "cell_type": "markdown",
   "id": "1da4df60",
   "metadata": {},
   "source": [
    "Agora vamos importar as bibliotecas:"
   ]
  },
  {
   "cell_type": "code",
   "execution_count": 2,
   "id": "0871cc11",
   "metadata": {},
   "outputs": [],
   "source": [
    "import matplotlib.pyplot as plt\n",
    "import scipy.stats as stats\n",
    "import seaborn as sns\n",
    "import pandas as pd\n",
    "import py7zr"
   ]
  },
  {
   "cell_type": "markdown",
   "id": "04151c29",
   "metadata": {},
   "source": [
    "# 02 - Overview\n",
    "Vamos iniciar com uma **Visão Geral (Overview)** do conjunto de dados:"
   ]
  },
  {
   "cell_type": "code",
   "execution_count": null,
   "id": "786a3d9c",
   "metadata": {},
   "outputs": [],
   "source": [
    "# For Linux users.\n",
    "with py7zr.SevenZipFile(\"../datasets/Train_rev1.7z\", mode='r') as archive:\n",
    "  archive.extractall(path=\"/tmp\")"
   ]
  },
  {
   "cell_type": "code",
   "execution_count": 3,
   "id": "845c31ff",
   "metadata": {},
   "outputs": [],
   "source": [
    "# For Windows users.\n",
    "with py7zr.SevenZipFile(\"../datasets/Train_rev1.7z\", mode='r') as archive:\n",
    "  archive.extractall(path=\"C:\\Windows\\Temp\")"
   ]
  },
  {
   "cell_type": "markdown",
   "id": "5289c2c0",
   "metadata": {},
   "source": [
    "**NOTE:**  \n",
    "Como é conjunto de dados é muito grande resolvi baixar a versão mais comprimida **.7z**. Optei também por descomprimir o conjunto de dados em um local temporário (diretório **/temp** no meu caso que estou utilizando Linux)."
   ]
  },
  {
   "cell_type": "code",
   "execution_count": null,
   "id": "2f6f4ef3",
   "metadata": {},
   "outputs": [],
   "source": [
    "# For Linux users.\n",
    "df = pd.read_csv(\"/tmp/Train_rev1.csv\")"
   ]
  },
  {
   "cell_type": "code",
   "execution_count": 4,
   "id": "3061f5bf",
   "metadata": {},
   "outputs": [],
   "source": [
    "# For Windows users.\n",
    "df = pd.read_csv(\"C:\\Windows\\Temp\\Train_rev1.csv\")"
   ]
  },
  {
   "cell_type": "code",
   "execution_count": 5,
   "id": "71076cf6",
   "metadata": {
    "scrolled": false
   },
   "outputs": [
    {
     "data": {
      "text/html": [
       "<div>\n",
       "<style scoped>\n",
       "    .dataframe tbody tr th:only-of-type {\n",
       "        vertical-align: middle;\n",
       "    }\n",
       "\n",
       "    .dataframe tbody tr th {\n",
       "        vertical-align: top;\n",
       "    }\n",
       "\n",
       "    .dataframe thead th {\n",
       "        text-align: right;\n",
       "    }\n",
       "</style>\n",
       "<table border=\"1\" class=\"dataframe\">\n",
       "  <thead>\n",
       "    <tr style=\"text-align: right;\">\n",
       "      <th></th>\n",
       "      <th>Id</th>\n",
       "      <th>Title</th>\n",
       "      <th>FullDescription</th>\n",
       "      <th>LocationRaw</th>\n",
       "      <th>LocationNormalized</th>\n",
       "      <th>ContractType</th>\n",
       "      <th>ContractTime</th>\n",
       "      <th>Company</th>\n",
       "      <th>Category</th>\n",
       "      <th>SalaryRaw</th>\n",
       "      <th>SalaryNormalized</th>\n",
       "      <th>SourceName</th>\n",
       "    </tr>\n",
       "  </thead>\n",
       "  <tbody>\n",
       "    <tr>\n",
       "      <th>0</th>\n",
       "      <td>12612628</td>\n",
       "      <td>Engineering Systems Analyst</td>\n",
       "      <td>Engineering Systems Analyst Dorking Surrey Sal...</td>\n",
       "      <td>Dorking, Surrey, Surrey</td>\n",
       "      <td>Dorking</td>\n",
       "      <td>NaN</td>\n",
       "      <td>permanent</td>\n",
       "      <td>Gregory Martin International</td>\n",
       "      <td>Engineering Jobs</td>\n",
       "      <td>20000 - 30000/annum 20-30K</td>\n",
       "      <td>25000</td>\n",
       "      <td>cv-library.co.uk</td>\n",
       "    </tr>\n",
       "    <tr>\n",
       "      <th>1</th>\n",
       "      <td>12612830</td>\n",
       "      <td>Stress Engineer Glasgow</td>\n",
       "      <td>Stress Engineer Glasgow Salary **** to **** We...</td>\n",
       "      <td>Glasgow, Scotland, Scotland</td>\n",
       "      <td>Glasgow</td>\n",
       "      <td>NaN</td>\n",
       "      <td>permanent</td>\n",
       "      <td>Gregory Martin International</td>\n",
       "      <td>Engineering Jobs</td>\n",
       "      <td>25000 - 35000/annum 25-35K</td>\n",
       "      <td>30000</td>\n",
       "      <td>cv-library.co.uk</td>\n",
       "    </tr>\n",
       "    <tr>\n",
       "      <th>2</th>\n",
       "      <td>12612844</td>\n",
       "      <td>Modelling and simulation analyst</td>\n",
       "      <td>Mathematical Modeller / Simulation Analyst / O...</td>\n",
       "      <td>Hampshire, South East, South East</td>\n",
       "      <td>Hampshire</td>\n",
       "      <td>NaN</td>\n",
       "      <td>permanent</td>\n",
       "      <td>Gregory Martin International</td>\n",
       "      <td>Engineering Jobs</td>\n",
       "      <td>20000 - 40000/annum 20-40K</td>\n",
       "      <td>30000</td>\n",
       "      <td>cv-library.co.uk</td>\n",
       "    </tr>\n",
       "    <tr>\n",
       "      <th>3</th>\n",
       "      <td>12613049</td>\n",
       "      <td>Engineering Systems Analyst / Mathematical Mod...</td>\n",
       "      <td>Engineering Systems Analyst / Mathematical Mod...</td>\n",
       "      <td>Surrey, South East, South East</td>\n",
       "      <td>Surrey</td>\n",
       "      <td>NaN</td>\n",
       "      <td>permanent</td>\n",
       "      <td>Gregory Martin International</td>\n",
       "      <td>Engineering Jobs</td>\n",
       "      <td>25000 - 30000/annum 25K-30K negotiable</td>\n",
       "      <td>27500</td>\n",
       "      <td>cv-library.co.uk</td>\n",
       "    </tr>\n",
       "    <tr>\n",
       "      <th>4</th>\n",
       "      <td>12613647</td>\n",
       "      <td>Pioneer, Miser Engineering Systems Analyst</td>\n",
       "      <td>Pioneer, Miser  Engineering Systems Analyst Do...</td>\n",
       "      <td>Surrey, South East, South East</td>\n",
       "      <td>Surrey</td>\n",
       "      <td>NaN</td>\n",
       "      <td>permanent</td>\n",
       "      <td>Gregory Martin International</td>\n",
       "      <td>Engineering Jobs</td>\n",
       "      <td>20000 - 30000/annum 20-30K</td>\n",
       "      <td>25000</td>\n",
       "      <td>cv-library.co.uk</td>\n",
       "    </tr>\n",
       "  </tbody>\n",
       "</table>\n",
       "</div>"
      ],
      "text/plain": [
       "         Id                                              Title  \\\n",
       "0  12612628                        Engineering Systems Analyst   \n",
       "1  12612830                            Stress Engineer Glasgow   \n",
       "2  12612844                   Modelling and simulation analyst   \n",
       "3  12613049  Engineering Systems Analyst / Mathematical Mod...   \n",
       "4  12613647         Pioneer, Miser Engineering Systems Analyst   \n",
       "\n",
       "                                     FullDescription  \\\n",
       "0  Engineering Systems Analyst Dorking Surrey Sal...   \n",
       "1  Stress Engineer Glasgow Salary **** to **** We...   \n",
       "2  Mathematical Modeller / Simulation Analyst / O...   \n",
       "3  Engineering Systems Analyst / Mathematical Mod...   \n",
       "4  Pioneer, Miser  Engineering Systems Analyst Do...   \n",
       "\n",
       "                         LocationRaw LocationNormalized ContractType  \\\n",
       "0            Dorking, Surrey, Surrey            Dorking          NaN   \n",
       "1        Glasgow, Scotland, Scotland            Glasgow          NaN   \n",
       "2  Hampshire, South East, South East          Hampshire          NaN   \n",
       "3     Surrey, South East, South East             Surrey          NaN   \n",
       "4     Surrey, South East, South East             Surrey          NaN   \n",
       "\n",
       "  ContractTime                       Company          Category  \\\n",
       "0    permanent  Gregory Martin International  Engineering Jobs   \n",
       "1    permanent  Gregory Martin International  Engineering Jobs   \n",
       "2    permanent  Gregory Martin International  Engineering Jobs   \n",
       "3    permanent  Gregory Martin International  Engineering Jobs   \n",
       "4    permanent  Gregory Martin International  Engineering Jobs   \n",
       "\n",
       "                                SalaryRaw  SalaryNormalized        SourceName  \n",
       "0              20000 - 30000/annum 20-30K             25000  cv-library.co.uk  \n",
       "1              25000 - 35000/annum 25-35K             30000  cv-library.co.uk  \n",
       "2              20000 - 40000/annum 20-40K             30000  cv-library.co.uk  \n",
       "3  25000 - 30000/annum 25K-30K negotiable             27500  cv-library.co.uk  \n",
       "4              20000 - 30000/annum 20-30K             25000  cv-library.co.uk  "
      ]
     },
     "execution_count": 5,
     "metadata": {},
     "output_type": "execute_result"
    }
   ],
   "source": [
    "df.head()"
   ]
  },
  {
   "cell_type": "code",
   "execution_count": 6,
   "id": "b286db36",
   "metadata": {},
   "outputs": [
    {
     "name": "stdout",
     "output_type": "stream",
     "text": [
      "<class 'pandas.core.frame.DataFrame'>\n",
      "RangeIndex: 244768 entries, 0 to 244767\n",
      "Data columns (total 12 columns):\n",
      " #   Column              Non-Null Count   Dtype \n",
      "---  ------              --------------   ----- \n",
      " 0   Id                  244768 non-null  int64 \n",
      " 1   Title               244767 non-null  object\n",
      " 2   FullDescription     244768 non-null  object\n",
      " 3   LocationRaw         244768 non-null  object\n",
      " 4   LocationNormalized  244768 non-null  object\n",
      " 5   ContractType        65442 non-null   object\n",
      " 6   ContractTime        180863 non-null  object\n",
      " 7   Company             212338 non-null  object\n",
      " 8   Category            244768 non-null  object\n",
      " 9   SalaryRaw           244768 non-null  object\n",
      " 10  SalaryNormalized    244768 non-null  int64 \n",
      " 11  SourceName          244767 non-null  object\n",
      "dtypes: int64(2), object(10)\n",
      "memory usage: 22.4+ MB\n"
     ]
    }
   ],
   "source": [
    "df.info()"
   ]
  },
  {
   "cell_type": "markdown",
   "id": "48628bc8",
   "metadata": {},
   "source": [
    "Vejam que nós temos um grande número de dados:\n",
    " - 244.768 amostras;\n",
    " - 12 colunas (atributos/campos/features)."
   ]
  },
  {
   "cell_type": "markdown",
   "id": "e711bed0",
   "metadata": {},
   "source": [
    "# 03 - Tipos de dados\n",
    "Na análise acima já deu para ver os tipos de dados de cada coluna, mas vamos ver outra abordagem que foca apenas nas colunas e seus, respectivos, tipos:"
   ]
  },
  {
   "cell_type": "code",
   "execution_count": 7,
   "id": "3e547cf6",
   "metadata": {},
   "outputs": [
    {
     "data": {
      "text/plain": [
       "Id                     int64\n",
       "Title                 object\n",
       "FullDescription       object\n",
       "LocationRaw           object\n",
       "LocationNormalized    object\n",
       "ContractType          object\n",
       "ContractTime          object\n",
       "Company               object\n",
       "Category              object\n",
       "SalaryRaw             object\n",
       "SalaryNormalized       int64\n",
       "SourceName            object\n",
       "dtype: object"
      ]
     },
     "execution_count": 7,
     "metadata": {},
     "output_type": "execute_result"
    }
   ],
   "source": [
    "df.dtypes"
   ]
  },
  {
   "cell_type": "markdown",
   "id": "7b3c846a",
   "metadata": {},
   "source": [
    "Olhando para as colunas acima da para ver que a maioria dos dados *não são* numéricos. Apenas:\n",
    " - **Id** - Que não é relevante (apenas para identificar cada amostra) quando se trata de aplicação estatística e criação de modelos.\n",
    " - **SalaryNormalized** - Que é a nossa variável *target*.\n",
    "\n",
    "**NOTE:**  \n",
    "Uma observação aqui é que a maioria dos dados mesmo sendo do tipo *object* são textos (informações) sobre as vagas de emprego. Futuramente nós vamos ter que fazer um Pré-Processamento desses textos (informações) para tirar insights dos mesmos."
   ]
  },
  {
   "cell_type": "markdown",
   "id": "6d8f6c6c",
   "metadata": {},
   "source": [
    "# 04 - Dados missing\n",
    "Nessa parte da nossa análise vamos verificar dados ausentes em cada variável (feature):\n",
    " - Por quantidade numérica;\n",
    " - E por, porcentagem (%)."
   ]
  },
  {
   "cell_type": "markdown",
   "id": "5fe0c174",
   "metadata": {},
   "source": [
    "## 04.1 - Dados Missing por quantidade numérica\n",
    "Vamos começar visualizando a quantidade numérica de dados faltantes por coluna:"
   ]
  },
  {
   "cell_type": "code",
   "execution_count": 8,
   "id": "7dca63c7",
   "metadata": {},
   "outputs": [
    {
     "data": {
      "text/plain": [
       "Id                         0\n",
       "Title                      1\n",
       "FullDescription            0\n",
       "LocationRaw                0\n",
       "LocationNormalized         0\n",
       "ContractType          179326\n",
       "ContractTime           63905\n",
       "Company                32430\n",
       "Category                   0\n",
       "SalaryRaw                  0\n",
       "SalaryNormalized           0\n",
       "SourceName                 1\n",
       "dtype: int64"
      ]
     },
     "execution_count": 8,
     "metadata": {},
     "output_type": "execute_result"
    }
   ],
   "source": [
    "data_missing = df.isnull().sum()\n",
    "data_missing"
   ]
  },
  {
   "cell_type": "markdown",
   "id": "2a486e84",
   "metadata": {},
   "source": [
    "## 04.2 - Dados Missing por porcentagem \n",
    "Agora, vamos analisar quanto porcento (%) representam esses dados faltantes:"
   ]
  },
  {
   "cell_type": "code",
   "execution_count": 9,
   "id": "86d27aae",
   "metadata": {},
   "outputs": [
    {
     "data": {
      "text/plain": [
       "Id                     0.000000\n",
       "Title                  0.000409\n",
       "FullDescription        0.000000\n",
       "LocationRaw            0.000000\n",
       "LocationNormalized     0.000000\n",
       "ContractType          73.263662\n",
       "ContractTime          26.108397\n",
       "Company               13.249281\n",
       "Category               0.000000\n",
       "SalaryRaw              0.000000\n",
       "SalaryNormalized       0.000000\n",
       "SourceName             0.000409\n",
       "dtype: float64"
      ]
     },
     "execution_count": 9,
     "metadata": {},
     "output_type": "execute_result"
    }
   ],
   "source": [
    "percentMissing = (data_missing / len(df.index)) * 100\n",
    "percentMissing"
   ]
  },
  {
   "cell_type": "markdown",
   "id": "a86dfd4e",
   "metadata": {},
   "source": [
    "Vejam que as colunas **ContractType**, **ContractTime** e **Company** estão com mais de 10% dos dados faltando (missing).\n",
    "\n",
    "**NOTE:**  \n",
    "Outra observação é a coluna **ContractType** tem 73% dos dados faltando, o que chega a ser crítico.\n",
    "\n",
    "> **Isso, por que se você tem uma variável (atributo/feature) com mais de 60% dos dados faltando (missing) talvez essa variável na criação do modelo seja quase nula.**"
   ]
  },
  {
   "cell_type": "markdown",
   "id": "15c4a8cf",
   "metadata": {},
   "source": [
    "# 05 - Análise Estatística\n",
    "\n",
    "> Por fim, vamos fazer uma breve **Análise Estatística** no conjunto de dados."
   ]
  },
  {
   "cell_type": "markdown",
   "id": "7fb20c1d",
   "metadata": {},
   "source": [
    "## 05.1 - Overview Estatístico\n",
    "Vamos começar com um Overview básico das estatísticas de nossas variáveis (features) numéricas:"
   ]
  },
  {
   "cell_type": "code",
   "execution_count": 10,
   "id": "52cb3a31",
   "metadata": {},
   "outputs": [
    {
     "name": "stdout",
     "output_type": "stream",
     "text": [
      "                 Id  SalaryNormalized\n",
      "count  2.447680e+05     244768.000000\n",
      "mean   6.970142e+07      34122.577576\n",
      "std    3.129813e+06      17640.543124\n",
      "min    1.261263e+07       5000.000000\n",
      "25%    6.869550e+07      21500.000000\n",
      "50%    6.993700e+07      30000.000000\n",
      "75%    7.162606e+07      42500.000000\n",
      "max    7.270524e+07     200000.000000\n"
     ]
    }
   ],
   "source": [
    "print(df.describe())"
   ]
  },
  {
   "cell_type": "markdown",
   "id": "92478c86",
   "metadata": {},
   "source": [
    "**NOTE:**  \n",
    "Bem, como vocês podem ver a única variável (feature) que faz sentido alguma **Análise Estatística** é a **\"SalaryNormalized\" (que representa os salários normalizados anualmente pelo a Adzuna)**.\n",
    "\n",
    "**Mesmo sendo uma única variável (feature) nós podemos tirar alguns insights da mesma:**\n",
    " - O **menor** salário de todos (anualmente) foi de **5.000**;\n",
    " - O **maior** salário de todos (anualmente) foi de **200.000**;\n",
    " - A **média (mean)** de todos os salários (anualmente) foi de **34.122**;\n",
    " - A **mediana (median/2° Quartil = 50% dos dados)** de todos os salários (anualmente) foi de **30.000**:\n",
    "   - Vejam que a nossa mediana não está tão distante da nossa média.\n",
    " - O **Desvio Padrão (Standard Deviation/ que representa quão longe nós estamos da média)** é **17.640**.\n",
    "\n",
    "**NOTE:**  \n",
    "Claro que essa é apenas uma **Análise Preliminar** e talvez nós vamos precisar melhorar essa variável (feature) futuramente, mesmo sabendo que essa variável é o resultado de um Pré-Processamento feito pelo **Adzuna**."
   ]
  },
  {
   "cell_type": "markdown",
   "id": "27230f45",
   "metadata": {},
   "source": [
    "## 05.2 - Verificando a moda (mode) da variável (feature) \"SalaryNormalized\"\n",
    "Agora vamos utilizar a função **mode()** do próprio *Pandas* para verificar qual o salário mais frequente entre todos os salários."
   ]
  },
  {
   "cell_type": "code",
   "execution_count": 11,
   "id": "471df0b7",
   "metadata": {},
   "outputs": [
    {
     "data": {
      "text/plain": [
       "0    35000\n",
       "Name: SalaryNormalized, dtype: int64"
      ]
     },
     "execution_count": 11,
     "metadata": {},
     "output_type": "execute_result"
    }
   ],
   "source": [
    "df.SalaryNormalized.mode()"
   ]
  },
  {
   "cell_type": "markdown",
   "id": "6f025b20",
   "metadata": {},
   "source": [
    "**NOTE:**  \n",
    "Agora, vamos utilizar a classe **Counter** para contar os 10 primeiros valores mais frequentes entre os salários."
   ]
  },
  {
   "cell_type": "code",
   "execution_count": 12,
   "id": "0c16fdf2",
   "metadata": {},
   "outputs": [
    {
     "data": {
      "text/plain": [
       "[(35000, 9178),\n",
       " (30000, 8319),\n",
       " (40000, 7688),\n",
       " (45000, 6735),\n",
       " (25000, 6309),\n",
       " (32500, 6215),\n",
       " (37500, 5756),\n",
       " (27500, 5544),\n",
       " (50000, 5424),\n",
       " (42500, 4555)]"
      ]
     },
     "execution_count": 12,
     "metadata": {},
     "output_type": "execute_result"
    }
   ],
   "source": [
    "from collections import Counter\n",
    "c = Counter(df.SalaryNormalized)\n",
    "c.most_common(10)"
   ]
  },
  {
   "cell_type": "markdown",
   "id": "d1f08e02",
   "metadata": {},
   "source": [
    "**NOTE:**  \n",
    "Vejam que o valor (salário) mais frequente realmente foi **35.000** com **9.178** amostras."
   ]
  },
  {
   "cell_type": "markdown",
   "id": "c03bc654",
   "metadata": {},
   "source": [
    "## 05.3 - Correlação\n",
    "Como nós sabemos o [método Pearson](https://en.wikipedia.org/wiki/Pearson_correlation_coefficient) (que é o mais utilizado para verificar correlações) utiliza variáveis numéricas para verificar o nível de correlação entre elas. Porém, a maioria das nossas variáveis são textos, apenas **Id** e **SalaryNormalized** são numéricas. Como não faz muito sentido verificar a correlação entre uma variável **\"x\"** e seu respectivo ID vamos ignorar essa etapa."
   ]
  },
  {
   "cell_type": "markdown",
   "id": "a5f782c9",
   "metadata": {},
   "source": [
    "**NOTE:**  \n",
    "Aqui vai ser o fim da nossa **Análise preliminar do conjunto de dados**. Na minha opinião os dados ainda não estão preparados para ser feito uma boa **Análise estatística**."
   ]
  },
  {
   "cell_type": "markdown",
   "id": "52f5dfa3",
   "metadata": {},
   "source": [
    "# Resumo\n",
    "Aqui vai um ***resumo*** das principais observações da nossa **Análise preliminar do conjunto de dados**:\n",
    "\n",
    " - Temos um grande conjunto de dados para trabalharmos:\n",
    "   - Com 244.768 amostras e 12 colunas (atributos/campos/features).\n",
    " - Porém, vai ser necessário um Pré-Processamento na maior parte das colunas, devido o fato das colunas serem representadas por textos (informações).\n",
    " - Algumas colunas estão com muitos dados faltantes, principalmente a **ContractType** que tem **73%** dos dados faltantes.\n",
    " - Estatísticas da variável (feature) **\"SalaryNormalized\"**:\n",
    "   - O menor salário de todos (anualmente) foi de 5.000;\n",
    "   - O maior salário de todos (anualmente) foi de 200.000;\n",
    "   - A média (mean) de todos os salários (anualmente) foi de 34.122;\n",
    "   - A mediana (median/2° Quartil = 50% dos dados) de todos os salários (anualmente) foi de 30.000:\n",
    "     - Vejam que a nossa mediana não está tão distante da nossa média.\n",
    "   - A moda (salário mais frequente) foi 35.000 com 9.178 amostras;\n",
    "   - O TOP 10 salários mais frequentes foram os seguintes:\n",
    "     - 35.000 com 9.178 amostras;\n",
    "     - 30.000 com 8.319 amostras;\n",
    "     - 40.000 com 7.688 amostras;\n",
    "     - 45.000 com 6.735 amostras;\n",
    "     - 25.000 com 6.309 amostras;\n",
    "     - 32.500 com 6.215 amostras;\n",
    "     - 37.500 com 5.756 amostras;\n",
    "     - 27.500 com 5.544 amostras;\n",
    "     - 50.000 com 5.424 amostras;\n",
    "     - 42.500 com 4.555 amostras.\n",
    "   - O Desvio Padrão (Standard Deviation/ que representa quão longe nós estamos da média) é 17.640."
   ]
  },
  {
   "cell_type": "markdown",
   "id": "a44a9699",
   "metadata": {},
   "source": [
    "**Rodrigo Leite -** *drigols*"
   ]
  }
 ],
 "metadata": {
  "kernelspec": {
   "display_name": "Python 3",
   "language": "python",
   "name": "python3"
  },
  "language_info": {
   "codemirror_mode": {
    "name": "ipython",
    "version": 3
   },
   "file_extension": ".py",
   "mimetype": "text/x-python",
   "name": "python",
   "nbconvert_exporter": "python",
   "pygments_lexer": "ipython3",
   "version": "3.8.8"
  }
 },
 "nbformat": 4,
 "nbformat_minor": 5
}
