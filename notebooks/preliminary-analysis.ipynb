{
 "cells": [
  {
   "cell_type": "markdown",
   "id": "bdb59df6",
   "metadata": {},
   "source": [
    "# Análise preliminar do conjunto de dados\n",
    "Esse **Jupyter Notebook** tem como objetivo fazer uma análise preliminar do conjunto de dados. Nenhum Pré-Processamento, modelagem ou predição será feita agora. Apenas observações para trabalhos futuros."
   ]
  },
  {
   "cell_type": "markdown",
   "id": "969820fb",
   "metadata": {},
   "source": [
    "# 01 -  Importando as bibliotecas necessárias\n",
    "Agora vamos importar as bibliotecas necessárias para análise:"
   ]
  },
  {
   "cell_type": "code",
   "execution_count": 1,
   "id": "0871cc11",
   "metadata": {},
   "outputs": [],
   "source": [
    "import matplotlib.pyplot as plt\n",
    "import seaborn as sns\n",
    "import pandas as pd\n",
    "import py7zr"
   ]
  },
  {
   "cell_type": "markdown",
   "id": "04151c29",
   "metadata": {},
   "source": [
    "# 02 - Overview\n",
    "Agora que nós já extraímos o dataset vamos dar uma olhada rápida nas 50 primeiras amostras do conjunto de dados e suas, respectivas, colunas:"
   ]
  },
  {
   "cell_type": "code",
   "execution_count": 2,
   "id": "786a3d9c",
   "metadata": {},
   "outputs": [],
   "source": [
    "with py7zr.SevenZipFile(\"../datasets/Train_rev1.7z\", mode='r') as archive:\n",
    "  archive.extractall(path=\"/tmp\") # for linux users."
   ]
  },
  {
   "cell_type": "code",
   "execution_count": 3,
   "id": "2f6f4ef3",
   "metadata": {},
   "outputs": [],
   "source": [
    "df = pd.read_csv(\"/tmp/Train_rev1.csv\")"
   ]
  },
  {
   "cell_type": "code",
   "execution_count": 4,
   "id": "71076cf6",
   "metadata": {
    "scrolled": false
   },
   "outputs": [
    {
     "data": {
      "text/html": [
       "<div>\n",
       "<style scoped>\n",
       "    .dataframe tbody tr th:only-of-type {\n",
       "        vertical-align: middle;\n",
       "    }\n",
       "\n",
       "    .dataframe tbody tr th {\n",
       "        vertical-align: top;\n",
       "    }\n",
       "\n",
       "    .dataframe thead th {\n",
       "        text-align: right;\n",
       "    }\n",
       "</style>\n",
       "<table border=\"1\" class=\"dataframe\">\n",
       "  <thead>\n",
       "    <tr style=\"text-align: right;\">\n",
       "      <th></th>\n",
       "      <th>Id</th>\n",
       "      <th>Title</th>\n",
       "      <th>FullDescription</th>\n",
       "      <th>LocationRaw</th>\n",
       "      <th>LocationNormalized</th>\n",
       "      <th>ContractType</th>\n",
       "      <th>ContractTime</th>\n",
       "      <th>Company</th>\n",
       "      <th>Category</th>\n",
       "      <th>SalaryRaw</th>\n",
       "      <th>SalaryNormalized</th>\n",
       "      <th>SourceName</th>\n",
       "    </tr>\n",
       "  </thead>\n",
       "  <tbody>\n",
       "    <tr>\n",
       "      <th>0</th>\n",
       "      <td>12612628</td>\n",
       "      <td>Engineering Systems Analyst</td>\n",
       "      <td>Engineering Systems Analyst Dorking Surrey Sal...</td>\n",
       "      <td>Dorking, Surrey, Surrey</td>\n",
       "      <td>Dorking</td>\n",
       "      <td>NaN</td>\n",
       "      <td>permanent</td>\n",
       "      <td>Gregory Martin International</td>\n",
       "      <td>Engineering Jobs</td>\n",
       "      <td>20000 - 30000/annum 20-30K</td>\n",
       "      <td>25000</td>\n",
       "      <td>cv-library.co.uk</td>\n",
       "    </tr>\n",
       "    <tr>\n",
       "      <th>1</th>\n",
       "      <td>12612830</td>\n",
       "      <td>Stress Engineer Glasgow</td>\n",
       "      <td>Stress Engineer Glasgow Salary **** to **** We...</td>\n",
       "      <td>Glasgow, Scotland, Scotland</td>\n",
       "      <td>Glasgow</td>\n",
       "      <td>NaN</td>\n",
       "      <td>permanent</td>\n",
       "      <td>Gregory Martin International</td>\n",
       "      <td>Engineering Jobs</td>\n",
       "      <td>25000 - 35000/annum 25-35K</td>\n",
       "      <td>30000</td>\n",
       "      <td>cv-library.co.uk</td>\n",
       "    </tr>\n",
       "    <tr>\n",
       "      <th>2</th>\n",
       "      <td>12612844</td>\n",
       "      <td>Modelling and simulation analyst</td>\n",
       "      <td>Mathematical Modeller / Simulation Analyst / O...</td>\n",
       "      <td>Hampshire, South East, South East</td>\n",
       "      <td>Hampshire</td>\n",
       "      <td>NaN</td>\n",
       "      <td>permanent</td>\n",
       "      <td>Gregory Martin International</td>\n",
       "      <td>Engineering Jobs</td>\n",
       "      <td>20000 - 40000/annum 20-40K</td>\n",
       "      <td>30000</td>\n",
       "      <td>cv-library.co.uk</td>\n",
       "    </tr>\n",
       "    <tr>\n",
       "      <th>3</th>\n",
       "      <td>12613049</td>\n",
       "      <td>Engineering Systems Analyst / Mathematical Mod...</td>\n",
       "      <td>Engineering Systems Analyst / Mathematical Mod...</td>\n",
       "      <td>Surrey, South East, South East</td>\n",
       "      <td>Surrey</td>\n",
       "      <td>NaN</td>\n",
       "      <td>permanent</td>\n",
       "      <td>Gregory Martin International</td>\n",
       "      <td>Engineering Jobs</td>\n",
       "      <td>25000 - 30000/annum 25K-30K negotiable</td>\n",
       "      <td>27500</td>\n",
       "      <td>cv-library.co.uk</td>\n",
       "    </tr>\n",
       "    <tr>\n",
       "      <th>4</th>\n",
       "      <td>12613647</td>\n",
       "      <td>Pioneer, Miser Engineering Systems Analyst</td>\n",
       "      <td>Pioneer, Miser  Engineering Systems Analyst Do...</td>\n",
       "      <td>Surrey, South East, South East</td>\n",
       "      <td>Surrey</td>\n",
       "      <td>NaN</td>\n",
       "      <td>permanent</td>\n",
       "      <td>Gregory Martin International</td>\n",
       "      <td>Engineering Jobs</td>\n",
       "      <td>20000 - 30000/annum 20-30K</td>\n",
       "      <td>25000</td>\n",
       "      <td>cv-library.co.uk</td>\n",
       "    </tr>\n",
       "  </tbody>\n",
       "</table>\n",
       "</div>"
      ],
      "text/plain": [
       "         Id                                              Title  \\\n",
       "0  12612628                        Engineering Systems Analyst   \n",
       "1  12612830                            Stress Engineer Glasgow   \n",
       "2  12612844                   Modelling and simulation analyst   \n",
       "3  12613049  Engineering Systems Analyst / Mathematical Mod...   \n",
       "4  12613647         Pioneer, Miser Engineering Systems Analyst   \n",
       "\n",
       "                                     FullDescription  \\\n",
       "0  Engineering Systems Analyst Dorking Surrey Sal...   \n",
       "1  Stress Engineer Glasgow Salary **** to **** We...   \n",
       "2  Mathematical Modeller / Simulation Analyst / O...   \n",
       "3  Engineering Systems Analyst / Mathematical Mod...   \n",
       "4  Pioneer, Miser  Engineering Systems Analyst Do...   \n",
       "\n",
       "                         LocationRaw LocationNormalized ContractType  \\\n",
       "0            Dorking, Surrey, Surrey            Dorking          NaN   \n",
       "1        Glasgow, Scotland, Scotland            Glasgow          NaN   \n",
       "2  Hampshire, South East, South East          Hampshire          NaN   \n",
       "3     Surrey, South East, South East             Surrey          NaN   \n",
       "4     Surrey, South East, South East             Surrey          NaN   \n",
       "\n",
       "  ContractTime                       Company          Category  \\\n",
       "0    permanent  Gregory Martin International  Engineering Jobs   \n",
       "1    permanent  Gregory Martin International  Engineering Jobs   \n",
       "2    permanent  Gregory Martin International  Engineering Jobs   \n",
       "3    permanent  Gregory Martin International  Engineering Jobs   \n",
       "4    permanent  Gregory Martin International  Engineering Jobs   \n",
       "\n",
       "                                SalaryRaw  SalaryNormalized        SourceName  \n",
       "0              20000 - 30000/annum 20-30K             25000  cv-library.co.uk  \n",
       "1              25000 - 35000/annum 25-35K             30000  cv-library.co.uk  \n",
       "2              20000 - 40000/annum 20-40K             30000  cv-library.co.uk  \n",
       "3  25000 - 30000/annum 25K-30K negotiable             27500  cv-library.co.uk  \n",
       "4              20000 - 30000/annum 20-30K             25000  cv-library.co.uk  "
      ]
     },
     "execution_count": 4,
     "metadata": {},
     "output_type": "execute_result"
    }
   ],
   "source": [
    "df.head()"
   ]
  },
  {
   "cell_type": "code",
   "execution_count": 5,
   "id": "b286db36",
   "metadata": {},
   "outputs": [
    {
     "name": "stdout",
     "output_type": "stream",
     "text": [
      "<class 'pandas.core.frame.DataFrame'>\n",
      "RangeIndex: 244768 entries, 0 to 244767\n",
      "Data columns (total 12 columns):\n",
      " #   Column              Non-Null Count   Dtype \n",
      "---  ------              --------------   ----- \n",
      " 0   Id                  244768 non-null  int64 \n",
      " 1   Title               244767 non-null  object\n",
      " 2   FullDescription     244768 non-null  object\n",
      " 3   LocationRaw         244768 non-null  object\n",
      " 4   LocationNormalized  244768 non-null  object\n",
      " 5   ContractType        65442 non-null   object\n",
      " 6   ContractTime        180863 non-null  object\n",
      " 7   Company             212338 non-null  object\n",
      " 8   Category            244768 non-null  object\n",
      " 9   SalaryRaw           244768 non-null  object\n",
      " 10  SalaryNormalized    244768 non-null  int64 \n",
      " 11  SourceName          244767 non-null  object\n",
      "dtypes: int64(2), object(10)\n",
      "memory usage: 22.4+ MB\n"
     ]
    }
   ],
   "source": [
    "df.info()"
   ]
  },
  {
   "cell_type": "markdown",
   "id": "48628bc8",
   "metadata": {},
   "source": [
    "Vejam que nós temos um grande número de dados:\n",
    " - 244.768 amostras;\n",
    " - 12 colunas (atributos/campos/features)."
   ]
  },
  {
   "cell_type": "markdown",
   "id": "e711bed0",
   "metadata": {},
   "source": [
    "# 03 - Tipos de dados\n",
    "Na análise acima já deu para ver os tipos de dados de cada coluna, mas vamos ver outra abordagem que foca apenas nas colunas e seus, respectivos, tipos:"
   ]
  },
  {
   "cell_type": "code",
   "execution_count": 6,
   "id": "3e547cf6",
   "metadata": {},
   "outputs": [
    {
     "data": {
      "text/plain": [
       "Id                     int64\n",
       "Title                 object\n",
       "FullDescription       object\n",
       "LocationRaw           object\n",
       "LocationNormalized    object\n",
       "ContractType          object\n",
       "ContractTime          object\n",
       "Company               object\n",
       "Category              object\n",
       "SalaryRaw             object\n",
       "SalaryNormalized       int64\n",
       "SourceName            object\n",
       "dtype: object"
      ]
     },
     "execution_count": 6,
     "metadata": {},
     "output_type": "execute_result"
    }
   ],
   "source": [
    "df.dtypes"
   ]
  },
  {
   "cell_type": "markdown",
   "id": "7b3c846a",
   "metadata": {},
   "source": [
    "Olhando para as colunas acima da para ver que a maioria dos dados *não são* numéricos. Apenas:\n",
    " - **Id** - Que não é relevante (apenas para identificar cada amostra) quando se trata de aplicação estatística e criação de modelos.\n",
    " - **SalaryNormalized** - Que é a nossa variável *target*.\n",
    "\n",
    "**NOTE:**  \n",
    "Uma observação aqui é que a maioria dos dados mesmo sendo do tipo *object* são textos (informações) sobre as vagas de emprego. Futuramente nós vamos ter que fazer um Pré-Processamento desses textos (informações) para tirar insights dos mesmos."
   ]
  },
  {
   "cell_type": "markdown",
   "id": "6d8f6c6c",
   "metadata": {},
   "source": [
    "# 04 - Dados missing\n",
    "Vamos começar visualizando a quantidade de dados faltantes por coluna:"
   ]
  },
  {
   "cell_type": "code",
   "execution_count": 7,
   "id": "681bc464",
   "metadata": {},
   "outputs": [
    {
     "data": {
      "text/plain": [
       "Id                         0\n",
       "Title                      1\n",
       "FullDescription            0\n",
       "LocationRaw                0\n",
       "LocationNormalized         0\n",
       "ContractType          179326\n",
       "ContractTime           63905\n",
       "Company                32430\n",
       "Category                   0\n",
       "SalaryRaw                  0\n",
       "SalaryNormalized           0\n",
       "SourceName                 1\n",
       "dtype: int64"
      ]
     },
     "execution_count": 7,
     "metadata": {},
     "output_type": "execute_result"
    }
   ],
   "source": [
    "data_missing = df.isnull().sum()\n",
    "data_missing"
   ]
  },
  {
   "cell_type": "markdown",
   "id": "2a486e84",
   "metadata": {},
   "source": [
    "**NOTE:**  \n",
    "Agora, vamos analisar quanto porcento (%) representam esses dados faltantes:"
   ]
  },
  {
   "cell_type": "code",
   "execution_count": 8,
   "id": "86d27aae",
   "metadata": {},
   "outputs": [
    {
     "data": {
      "text/plain": [
       "Id                     0.000000\n",
       "Title                  0.000409\n",
       "FullDescription        0.000000\n",
       "LocationRaw            0.000000\n",
       "LocationNormalized     0.000000\n",
       "ContractType          73.263662\n",
       "ContractTime          26.108397\n",
       "Company               13.249281\n",
       "Category               0.000000\n",
       "SalaryRaw              0.000000\n",
       "SalaryNormalized       0.000000\n",
       "SourceName             0.000409\n",
       "dtype: float64"
      ]
     },
     "execution_count": 8,
     "metadata": {},
     "output_type": "execute_result"
    }
   ],
   "source": [
    "percentMissing = (data_missing / len(df.index)) * 100\n",
    "percentMissing"
   ]
  },
  {
   "cell_type": "markdown",
   "id": "a86dfd4e",
   "metadata": {},
   "source": [
    "Vejam que apenas as colunas **ContractType**, **ContractTime** e **Company** estão com mais de 10% dos dados faltando (missing).\n",
    "\n",
    "**NOTE:**  \n",
    "Outra observação é a coluna **ContractType** que tem 73% dos dados faltando, o que chega a ser crítico.\n",
    "\n",
    "> Isso, por que se você tem uma variável (atributo/feature) com mais de 60% dos dados faltando (missing) talvez essa variável na criação do modelo seja quase nula."
   ]
  },
  {
   "cell_type": "markdown",
   "id": "c03bc654",
   "metadata": {},
   "source": [
    "# 05 - Correlação\n",
    "Como nós sabemos o [método Pearson](https://en.wikipedia.org/wiki/Pearson_correlation_coefficient) (que é o mais utilizado para verificar correlações) utiliza variáveis numéricas para verificar o nível de correlação entre elas. Porém, a maioria das nossas variáveis são textos, apenas **Id** e **SalaryNormalized** são numéricas.\n",
    "\n",
    "**NOTE:**  \n",
    "Por hora, vou exibir essa correlação só para testes mesmo, mas como nós sabemos antes vamos ter que aplicar um Pré-Processamento nessas variáveis (textos) que representam informações sobre as vagas de emprego e só depois verificar a correlação entre elas."
   ]
  },
  {
   "cell_type": "code",
   "execution_count": 9,
   "id": "1eb93d27",
   "metadata": {},
   "outputs": [
    {
     "name": "stdout",
     "output_type": "stream",
     "text": [
      "                        Id  SalaryNormalized\n",
      "Id                1.000000          0.047091\n",
      "SalaryNormalized  0.047091          1.000000\n"
     ]
    }
   ],
   "source": [
    "print(df.corr(method = 'pearson'))"
   ]
  },
  {
   "cell_type": "code",
   "execution_count": 10,
   "id": "5fa944fa",
   "metadata": {},
   "outputs": [
    {
     "data": {
      "image/png": "[encoded data removed]",
      "text/plain": [
       "<Figure size 720x720 with 2 Axes>"
      ]
     },
     "metadata": {
      "needs_background": "light"
     },
     "output_type": "display_data"
    }
   ],
   "source": [
    "plt.figure(figsize=(10, 10))\n",
    "sns.heatmap(df.corr(), annot=True, linewidths=.5)\n",
    "plt.show()"
   ]
  },
  {
   "cell_type": "markdown",
   "id": "728c852e",
   "metadata": {},
   "source": [
    "**NOTE:**  \n",
    "Talvez uma alternativa aqui vai ser **categorizar** essas informações, mas vamos nos preocupar com isso na hora certa."
   ]
  },
  {
   "cell_type": "markdown",
   "id": "15c4a8cf",
   "metadata": {},
   "source": [
    "# 06 - Análise estatística"
   ]
  },
  {
   "cell_type": "code",
   "execution_count": 11,
   "id": "52cb3a31",
   "metadata": {},
   "outputs": [
    {
     "name": "stdout",
     "output_type": "stream",
     "text": [
      "                 Id  SalaryNormalized\n",
      "count  2.447680e+05     244768.000000\n",
      "mean   6.970142e+07      34122.577576\n",
      "std    3.129813e+06      17640.543124\n",
      "min    1.261263e+07       5000.000000\n",
      "25%    6.869550e+07      21500.000000\n",
      "50%    6.993700e+07      30000.000000\n",
      "75%    7.162606e+07      42500.000000\n",
      "max    7.270524e+07     200000.000000\n"
     ]
    }
   ],
   "source": [
    "print(df.describe())"
   ]
  },
  {
   "cell_type": "markdown",
   "id": "a5f782c9",
   "metadata": {},
   "source": [
    "**NOTE:**  \n",
    "Aqui vai ser o fim da nossa **Análise preliminar do conjunto de dados**. Na minha opinião os dados ainda não estão preparados para ser feito uma boa **Análise estatística**.\n",
    "\n",
    "Sabendo disso, vamos passar para a próxima étapa que vai ser O **Pré-Processamento dos dados** e em seguida continuamos lá mesmo a **Análise estatística**."
   ]
  },
  {
   "cell_type": "markdown",
   "id": "52f5dfa3",
   "metadata": {},
   "source": [
    "# Resumo\n",
    "Aqui vai um ***resumo*** das principais observações da nossa **Análise preliminar do conjunto de dados**:\n",
    "\n",
    " - Temos um grande conjunto de dados para trabalharmos:\n",
    "   - Com 244.768 amostras e 12 colunas (atributos/campos/features).\n",
    " - Porém, vai ser necessário um Pré-Processamento na maior parte das colunas, devido o fato das colunas serem representadas por textos (informações).\n",
    " - Algumas colunas estão com muitos dados faltantes, principalmente a **ContractType** que tem **73%** dos dados faltantes."
   ]
  }
 ],
 "metadata": {
  "kernelspec": {
   "display_name": "Python 3 (ipykernel)",
   "language": "python",
   "name": "python3"
  },
  "language_info": {
   "codemirror_mode": {
    "name": "ipython",
    "version": 3
   },
   "file_extension": ".py",
   "mimetype": "text/x-python",
   "name": "python",
   "nbconvert_exporter": "python",
   "pygments_lexer": "ipython3",
   "version": "3.9.7"
  }
 },
 "nbformat": 4,
 "nbformat_minor": 5
}
